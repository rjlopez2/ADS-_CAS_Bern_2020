{
 "cells": [
  {
   "cell_type": "markdown",
   "metadata": {},
   "source": [
    "## Run me on colab \n",
    "[![Open In Colab](https://colab.research.google.com/assets/colab-badge.svg)](https://colab.research.google.com/github/rjlopez2/ADS_CAS_Bern_2020/blob/main/Projects/M1%20and%20M2/M1_cas_data_science.ipynb#scrollTo=5OdD3sEbOX1J)\n"
   ]
  },
  {
   "cell_type": "markdown",
   "metadata": {
    "id": "ZNcjDy0ip5Qd"
   },
   "source": [
    "### **Import libraries**"
   ]
  },
  {
   "cell_type": "code",
   "execution_count": 1,
   "metadata": {
    "colab": {
     "base_uri": "https://localhost:8080/",
     "height": 34
    },
    "id": "-5JnbT3Vp5Qf",
    "outputId": "5f6a66d7-65b2-4bc9-c511-475609ea3e5e"
   },
   "outputs": [],
   "source": [
    "import pandas as pd\n",
    "#!pip install wget # uncomment this igf you run it via colab\n",
    "import os\n",
    "from zipfile import ZipFile\n",
    "import numpy as np\n",
    "import wget\n",
    "import requests\n",
    "import matplotlib.pyplot as plt\n",
    "pd.set_option('display.max_rows', 200)"
   ]
  },
  {
   "cell_type": "markdown",
   "metadata": {
    "id": "xukyw79xp5Qn"
   },
   "source": [
    "# Part I \n",
    "# M1 project \n",
    "\n",
    "## On data aquisition, formating and cleaning\n",
    "\n",
    "# 1. John Hopkins data collection and cleaning\n",
    "### **Download the time series datasets on global Covid cases from the John Hpkins University**\n",
    "The time series are organized in 3 different files from their Github repository:\n",
    "\n",
    " - one file retrieve information on the confirmed cases\n",
    " - one file retrieve information on the death cases\n",
    " - one file retrieve information on the recovered cases\n",
    "\n",
    "Below we download the 3 datastes and store them locally in .csv format."
   ]
  },
  {
   "cell_type": "code",
   "execution_count": 2,
   "metadata": {
    "id": "LgTaKV73p5Qs"
   },
   "outputs": [],
   "source": [
    "urls = ['https://raw.githubusercontent.com/CSSEGISandData/COVID-19/master/csse_covid_19_data/csse_covid_19_time_series/time_series_covid19_confirmed_global.csv',\n",
    "       'https://raw.githubusercontent.com/CSSEGISandData/COVID-19/master/csse_covid_19_data/csse_covid_19_time_series/time_series_covid19_deaths_global.csv',\n",
    "       'https://raw.githubusercontent.com/CSSEGISandData/COVID-19/master/csse_covid_19_data/csse_covid_19_time_series/time_series_covid19_recovered_global.csv']\n",
    "\n",
    "path = os.getcwd() # get the current directory\n",
    "\n",
    "for url in urls:\n",
    "    filename = path + '/' + os.path.basename(url) # get the full path of the file\n",
    "    if os.path.exists(filename):\n",
    "        os.remove(filename) # if exist, remove it directly\n",
    "    wget.download(url, out=filename) # download it to the specific path.\n",
    "    \n",
    "# IMPORTANT: if error loading files bacause link is down, don't run this code chunk and go to the next.\n",
    "# It will read only the local data in the repo from the last time this script was run and updated"
   ]
  },
  {
   "cell_type": "code",
   "execution_count": 3,
   "metadata": {
    "id": "Cgp4WyBrp5Qy"
   },
   "outputs": [],
   "source": [
    "confirmed_df = pd.read_csv('time_series_covid19_confirmed_global.csv')\n",
    "deaths_df = pd.read_csv('time_series_covid19_deaths_global.csv')\n",
    "recovered_df = pd.read_csv('time_series_covid19_recovered_global.csv')"
   ]
  },
  {
   "cell_type": "markdown",
   "metadata": {
    "id": "ijRSVaN39LGj"
   },
   "source": [
    "### **We explore below the structure of the 3 datasets**"
   ]
  },
  {
   "cell_type": "markdown",
   "metadata": {
    "id": "U8XajHkl9LGn"
   },
   "source": [
    "By looking at the shape of the 3 df, we observe that the recovered_df has different dimention than the two others.\n",
    "Closer inspection revealed that 14 provinces from Canada were missed in the recovered_df."
   ]
  },
  {
   "cell_type": "code",
   "execution_count": 4,
   "metadata": {
    "colab": {
     "base_uri": "https://localhost:8080/",
     "height": 34
    },
    "id": "34Lmqyj-p5Q3",
    "outputId": "9d3c3334-08e0-4f6a-c53a-b9686e10a6bb"
   },
   "outputs": [
    {
     "name": "stdout",
     "output_type": "stream",
     "text": [
      "[(267, 269), (267, 269), (254, 269)]\n"
     ]
    }
   ],
   "source": [
    "# check size of the 3 datasets\n",
    "print([confirmed_df.shape, deaths_df.shape, recovered_df.shape])\n"
   ]
  },
  {
   "cell_type": "code",
   "execution_count": 5,
   "metadata": {
    "colab": {
     "base_uri": "https://localhost:8080/",
     "height": 483
    },
    "id": "oiH9wwle9LHB",
    "outputId": "7a8699d7-8c4b-409a-c91d-5d05c5c4504b"
   },
   "outputs": [
    {
     "data": {
      "text/html": [
       "<div>\n",
       "<style scoped>\n",
       "    .dataframe tbody tr th:only-of-type {\n",
       "        vertical-align: middle;\n",
       "    }\n",
       "\n",
       "    .dataframe tbody tr th {\n",
       "        vertical-align: top;\n",
       "    }\n",
       "\n",
       "    .dataframe thead th {\n",
       "        text-align: right;\n",
       "    }\n",
       "</style>\n",
       "<table border=\"1\" class=\"dataframe\">\n",
       "  <thead>\n",
       "    <tr style=\"text-align: right;\">\n",
       "      <th></th>\n",
       "      <th>Province/State</th>\n",
       "      <th>Country/Region</th>\n",
       "    </tr>\n",
       "  </thead>\n",
       "  <tbody>\n",
       "    <tr>\n",
       "      <th>39</th>\n",
       "      <td>Alberta</td>\n",
       "      <td>Canada</td>\n",
       "    </tr>\n",
       "    <tr>\n",
       "      <th>40</th>\n",
       "      <td>British Columbia</td>\n",
       "      <td>Canada</td>\n",
       "    </tr>\n",
       "    <tr>\n",
       "      <th>41</th>\n",
       "      <td>Diamond Princess</td>\n",
       "      <td>Canada</td>\n",
       "    </tr>\n",
       "    <tr>\n",
       "      <th>42</th>\n",
       "      <td>Grand Princess</td>\n",
       "      <td>Canada</td>\n",
       "    </tr>\n",
       "    <tr>\n",
       "      <th>43</th>\n",
       "      <td>Manitoba</td>\n",
       "      <td>Canada</td>\n",
       "    </tr>\n",
       "    <tr>\n",
       "      <th>44</th>\n",
       "      <td>New Brunswick</td>\n",
       "      <td>Canada</td>\n",
       "    </tr>\n",
       "    <tr>\n",
       "      <th>45</th>\n",
       "      <td>Newfoundland and Labrador</td>\n",
       "      <td>Canada</td>\n",
       "    </tr>\n",
       "    <tr>\n",
       "      <th>46</th>\n",
       "      <td>Northwest Territories</td>\n",
       "      <td>Canada</td>\n",
       "    </tr>\n",
       "    <tr>\n",
       "      <th>47</th>\n",
       "      <td>Nova Scotia</td>\n",
       "      <td>Canada</td>\n",
       "    </tr>\n",
       "    <tr>\n",
       "      <th>48</th>\n",
       "      <td>Ontario</td>\n",
       "      <td>Canada</td>\n",
       "    </tr>\n",
       "    <tr>\n",
       "      <th>49</th>\n",
       "      <td>Prince Edward Island</td>\n",
       "      <td>Canada</td>\n",
       "    </tr>\n",
       "    <tr>\n",
       "      <th>50</th>\n",
       "      <td>Quebec</td>\n",
       "      <td>Canada</td>\n",
       "    </tr>\n",
       "    <tr>\n",
       "      <th>51</th>\n",
       "      <td>Saskatchewan</td>\n",
       "      <td>Canada</td>\n",
       "    </tr>\n",
       "    <tr>\n",
       "      <th>52</th>\n",
       "      <td>Yukon</td>\n",
       "      <td>Canada</td>\n",
       "    </tr>\n",
       "  </tbody>\n",
       "</table>\n",
       "</div>"
      ],
      "text/plain": [
       "               Province/State Country/Region\n",
       "39                    Alberta         Canada\n",
       "40           British Columbia         Canada\n",
       "41           Diamond Princess         Canada\n",
       "42             Grand Princess         Canada\n",
       "43                   Manitoba         Canada\n",
       "44              New Brunswick         Canada\n",
       "45  Newfoundland and Labrador         Canada\n",
       "46      Northwest Territories         Canada\n",
       "47                Nova Scotia         Canada\n",
       "48                    Ontario         Canada\n",
       "49       Prince Edward Island         Canada\n",
       "50                     Quebec         Canada\n",
       "51               Saskatchewan         Canada\n",
       "52                      Yukon         Canada"
      ]
     },
     "execution_count": 5,
     "metadata": {},
     "output_type": "execute_result"
    }
   ],
   "source": [
    "confirmed_df[~confirmed_df['Province/State'].isin(recovered_df['Province/State'])][['Province/State', 'Country/Region']] # !!! 14 'Province/State'  no found in the recovered_df"
   ]
  },
  {
   "cell_type": "markdown",
   "metadata": {
    "id": "CkgwTgf-9LHO"
   },
   "source": [
    "Because of this inconsistency, we decided to exclude data from Canada for now."
   ]
  },
  {
   "cell_type": "code",
   "execution_count": 6,
   "metadata": {
    "id": "HrN7gZkE9LHP"
   },
   "outputs": [],
   "source": [
    "recovered_df = recovered_df[recovered_df['Country/Region']!='Canada']\n",
    "confirmed_df = confirmed_df[confirmed_df['Country/Region']!='Canada']\n",
    "deaths_df = deaths_df[deaths_df['Country/Region']!='Canada']"
   ]
  },
  {
   "cell_type": "code",
   "execution_count": 7,
   "metadata": {
    "colab": {
     "base_uri": "https://localhost:8080/",
     "height": 34
    },
    "id": "o8tLnEDv9LHb",
    "outputId": "3bcd0b74-dfa3-40fd-b48f-912de912485a"
   },
   "outputs": [
    {
     "name": "stdout",
     "output_type": "stream",
     "text": [
      "[(253, 269), (253, 269), (253, 269)]\n"
     ]
    }
   ],
   "source": [
    "# check size of the 3 datasets\n",
    "print([confirmed_df.shape, deaths_df.shape, recovered_df.shape])\n"
   ]
  },
  {
   "cell_type": "markdown",
   "metadata": {
    "id": "wWy3EPy0p5RL"
   },
   "source": [
    "We observed that the first 4 colums of each dataset have the same variables so we use them to merge all 3 datasets and we define the time variable with the rest of the colums\n",
    "\n",
    "1. We create the vector for the time varibale\n",
    "2. we transform the 3 dataframes to long format. "
   ]
  },
  {
   "cell_type": "code",
   "execution_count": 8,
   "metadata": {
    "colab": {
     "base_uri": "https://localhost:8080/",
     "height": 119
    },
    "id": "bhw2Bggyp5Q8",
    "outputId": "9397719c-bb1f-4125-898e-4d6b9cd492fb"
   },
   "outputs": [
    {
     "data": {
      "text/plain": [
       "Index(['Province/State', 'Country/Region', 'Lat', 'Long', '1/22/20', '1/23/20',\n",
       "       '1/24/20', '1/25/20', '1/26/20', '1/27/20',\n",
       "       ...\n",
       "       '10/3/20', '10/4/20', '10/5/20', '10/6/20', '10/7/20', '10/8/20',\n",
       "       '10/9/20', '10/10/20', '10/11/20', '10/12/20'],\n",
       "      dtype='object', length=269)"
      ]
     },
     "execution_count": 8,
     "metadata": {},
     "output_type": "execute_result"
    }
   ],
   "source": [
    "recovered_df.columns"
   ]
  },
  {
   "cell_type": "code",
   "execution_count": 9,
   "metadata": {
    "colab": {
     "base_uri": "https://localhost:8080/",
     "height": 119
    },
    "id": "AQeP3ml9p5RB",
    "outputId": "21070afc-f124-4aa8-aa66-7fff3a02cadb"
   },
   "outputs": [
    {
     "data": {
      "text/plain": [
       "Index(['Province/State', 'Country/Region', 'Lat', 'Long', '1/22/20', '1/23/20',\n",
       "       '1/24/20', '1/25/20', '1/26/20', '1/27/20',\n",
       "       ...\n",
       "       '10/3/20', '10/4/20', '10/5/20', '10/6/20', '10/7/20', '10/8/20',\n",
       "       '10/9/20', '10/10/20', '10/11/20', '10/12/20'],\n",
       "      dtype='object', length=269)"
      ]
     },
     "execution_count": 9,
     "metadata": {},
     "output_type": "execute_result"
    }
   ],
   "source": [
    "deaths_df.columns"
   ]
  },
  {
   "cell_type": "code",
   "execution_count": 10,
   "metadata": {
    "colab": {
     "base_uri": "https://localhost:8080/",
     "height": 119
    },
    "id": "siq1uGeip5RF",
    "outputId": "a7352809-a045-48b9-c7e2-c5bfbba1782a"
   },
   "outputs": [
    {
     "data": {
      "text/plain": [
       "Index(['Province/State', 'Country/Region', 'Lat', 'Long', '1/22/20', '1/23/20',\n",
       "       '1/24/20', '1/25/20', '1/26/20', '1/27/20',\n",
       "       ...\n",
       "       '10/3/20', '10/4/20', '10/5/20', '10/6/20', '10/7/20', '10/8/20',\n",
       "       '10/9/20', '10/10/20', '10/11/20', '10/12/20'],\n",
       "      dtype='object', length=269)"
      ]
     },
     "execution_count": 10,
     "metadata": {},
     "output_type": "execute_result"
    }
   ],
   "source": [
    "confirmed_df.columns"
   ]
  },
  {
   "cell_type": "code",
   "execution_count": 11,
   "metadata": {
    "id": "iDjFoRGip5RM"
   },
   "outputs": [],
   "source": [
    "dates = confirmed_df.columns[4:]\n",
    "\n",
    "confirmed_df_long = confirmed_df.melt(\n",
    "    id_vars=['Province/State', 'Country/Region', 'Lat', 'Long'], \n",
    "    value_vars=dates, \n",
    "    var_name='Date', \n",
    "    value_name='Confirmed')\n",
    "\n",
    "deaths_df_long = deaths_df.melt(\n",
    "    id_vars=['Province/State', 'Country/Region', 'Lat', 'Long'], \n",
    "    value_vars=dates, \n",
    "    var_name='Date', \n",
    "    value_name='Deaths')\n",
    "\n",
    "recovered_df_long = recovered_df.melt(\n",
    "    id_vars=['Province/State', 'Country/Region', 'Lat', 'Long'], \n",
    "    value_vars=dates, \n",
    "    var_name='Date', \n",
    "    value_name='Recovered')"
   ]
  },
  {
   "cell_type": "code",
   "execution_count": 12,
   "metadata": {},
   "outputs": [
    {
     "name": "stdout",
     "output_type": "stream",
     "text": [
      "[(67045, 6), (67045, 6), (67045, 6)]\n"
     ]
    }
   ],
   "source": [
    "# check the size of each dataset in long format\n",
    "print([confirmed_df_long.shape, deaths_df_long.shape, recovered_df_long.shape])"
   ]
  },
  {
   "cell_type": "code",
   "execution_count": 13,
   "metadata": {},
   "outputs": [
    {
     "name": "stdout",
     "output_type": "stream",
     "text": [
      "(188,) (188,) (188,)\n"
     ]
    }
   ],
   "source": [
    "# check if the number of countries are the same in each subset\n",
    "print(confirmed_df_long['Country/Region'].drop_duplicates().shape, \n",
    "      deaths_df_long['Country/Region'].drop_duplicates().shape, \n",
    "      recovered_df_long['Country/Region'].drop_duplicates().shape)\n",
    "      "
   ]
  },
  {
   "cell_type": "code",
   "execution_count": 14,
   "metadata": {
    "id": "xThDNSz-p5Rd"
   },
   "outputs": [],
   "source": [
    "# Merge the 3 datasets \n",
    "\n",
    "confirmed_df_long[\"Deaths\"] = deaths_df_long[\"Deaths\"]\n",
    "confirmed_df_long[\"Recovered\"] = recovered_df_long['Recovered']\n",
    "full_table = confirmed_df_long"
   ]
  },
  {
   "cell_type": "code",
   "execution_count": 15,
   "metadata": {
    "colab": {
     "base_uri": "https://localhost:8080/",
     "height": 272
    },
    "id": "Zw_0HvDrp5Rg",
    "outputId": "34f4eeff-f638-4cb2-9600-a64a133cd46e"
   },
   "outputs": [
    {
     "name": "stdout",
     "output_type": "stream",
     "text": [
      "<class 'pandas.core.frame.DataFrame'>\n",
      "RangeIndex: 67045 entries, 0 to 67044\n",
      "Data columns (total 8 columns):\n",
      " #   Column          Non-Null Count  Dtype  \n",
      "---  ------          --------------  -----  \n",
      " 0   Province/State  17755 non-null  object \n",
      " 1   Country/Region  67045 non-null  object \n",
      " 2   Lat             67045 non-null  float64\n",
      " 3   Long            67045 non-null  float64\n",
      " 4   Date            67045 non-null  object \n",
      " 5   Confirmed       67045 non-null  int64  \n",
      " 6   Deaths          67045 non-null  int64  \n",
      " 7   Recovered       67045 non-null  int64  \n",
      "dtypes: float64(2), int64(3), object(3)\n",
      "memory usage: 4.1+ MB\n"
     ]
    }
   ],
   "source": [
    "full_table.info(verbose = True)"
   ]
  },
  {
   "cell_type": "code",
   "execution_count": 16,
   "metadata": {
    "id": "S_6DV-4Ep5Rj"
   },
   "outputs": [],
   "source": [
    "# trasnform from string to date the \"Date\" column\n",
    "full_table['Date'] = pd.to_datetime(full_table['Date'])"
   ]
  },
  {
   "cell_type": "markdown",
   "metadata": {
    "id": "4jnEGs9Tp5Rm"
   },
   "source": [
    "### **Check and fix NaN in the full dataset**"
   ]
  },
  {
   "cell_type": "code",
   "execution_count": 17,
   "metadata": {
    "colab": {
     "base_uri": "https://localhost:8080/",
     "height": 170
    },
    "id": "ZF9W8__Pp5Rm",
    "outputId": "6ad42dc8-03c4-428e-85bb-bfc4a555fbac"
   },
   "outputs": [
    {
     "data": {
      "text/plain": [
       "Province/State    49290\n",
       "Country/Region        0\n",
       "Lat                   0\n",
       "Long                  0\n",
       "Date                  0\n",
       "Confirmed             0\n",
       "Deaths                0\n",
       "Recovered             0\n",
       "dtype: int64"
      ]
     },
     "execution_count": 17,
     "metadata": {},
     "output_type": "execute_result"
    }
   ],
   "source": [
    "full_table.isna().sum()"
   ]
  },
  {
   "cell_type": "markdown",
   "metadata": {
    "id": "cPz6eVHup5Rr"
   },
   "source": [
    "### **Remove cruise ships data**\n",
    " #### We also observed that there is some of confirmed cases of Covid from the cruise ships (Grand Princess, Diamond Princess and MS Zaandam) that make it difficult to fit in in the Country category, so we excluded from our anaysis"
   ]
  },
  {
   "cell_type": "code",
   "execution_count": 18,
   "metadata": {
    "id": "hpMrI_Bqp5Rs"
   },
   "outputs": [],
   "source": [
    "# select the ships rows\n",
    "ship_rows = full_table['Province/State'].str.contains('Grand Princess') | full_table['Province/State'].str.contains('Diamond Princess') | full_table['Country/Region'].str.contains('Diamond Princess') | full_table['Country/Region'].str.contains('MS Zaandam')"
   ]
  },
  {
   "cell_type": "code",
   "execution_count": 19,
   "metadata": {
    "id": "5GevP13Gp5R0"
   },
   "outputs": [],
   "source": [
    "full_table = full_table[~(ship_rows)] # the '~' operator negate the selections"
   ]
  },
  {
   "cell_type": "markdown",
   "metadata": {
    "id": "bf3mSML5p5R5"
   },
   "source": [
    "## **Add new colum for active cases**\n",
    "Below we compute the active cases by substracting the number of death and recovered to the confirmed cases."
   ]
  },
  {
   "cell_type": "code",
   "execution_count": 20,
   "metadata": {
    "colab": {
     "base_uri": "https://localhost:8080/",
     "height": 419
    },
    "id": "j2Dk58s2p5R6",
    "outputId": "e152673a-ec45-4501-c534-d650a34cdb5e"
   },
   "outputs": [
    {
     "name": "stderr",
     "output_type": "stream",
     "text": [
      "/Users/rubencito/opt/anaconda3/lib/python3.7/site-packages/ipykernel_launcher.py:2: SettingWithCopyWarning: \n",
      "A value is trying to be set on a copy of a slice from a DataFrame.\n",
      "Try using .loc[row_indexer,col_indexer] = value instead\n",
      "\n",
      "See the caveats in the documentation: https://pandas.pydata.org/pandas-docs/stable/user_guide/indexing.html#returning-a-view-versus-a-copy\n",
      "  \n"
     ]
    },
    {
     "data": {
      "text/html": [
       "<div>\n",
       "<style scoped>\n",
       "    .dataframe tbody tr th:only-of-type {\n",
       "        vertical-align: middle;\n",
       "    }\n",
       "\n",
       "    .dataframe tbody tr th {\n",
       "        vertical-align: top;\n",
       "    }\n",
       "\n",
       "    .dataframe thead th {\n",
       "        text-align: right;\n",
       "    }\n",
       "</style>\n",
       "<table border=\"1\" class=\"dataframe\">\n",
       "  <thead>\n",
       "    <tr style=\"text-align: right;\">\n",
       "      <th></th>\n",
       "      <th>Province/State</th>\n",
       "      <th>Country/Region</th>\n",
       "      <th>Lat</th>\n",
       "      <th>Long</th>\n",
       "      <th>Date</th>\n",
       "      <th>Confirmed</th>\n",
       "      <th>Deaths</th>\n",
       "      <th>Recovered</th>\n",
       "      <th>Active</th>\n",
       "    </tr>\n",
       "  </thead>\n",
       "  <tbody>\n",
       "    <tr>\n",
       "      <th>0</th>\n",
       "      <td>NaN</td>\n",
       "      <td>Afghanistan</td>\n",
       "      <td>33.939110</td>\n",
       "      <td>67.709953</td>\n",
       "      <td>2020-01-22</td>\n",
       "      <td>0</td>\n",
       "      <td>0</td>\n",
       "      <td>0</td>\n",
       "      <td>0</td>\n",
       "    </tr>\n",
       "    <tr>\n",
       "      <th>1</th>\n",
       "      <td>NaN</td>\n",
       "      <td>Albania</td>\n",
       "      <td>41.153300</td>\n",
       "      <td>20.168300</td>\n",
       "      <td>2020-01-22</td>\n",
       "      <td>0</td>\n",
       "      <td>0</td>\n",
       "      <td>0</td>\n",
       "      <td>0</td>\n",
       "    </tr>\n",
       "    <tr>\n",
       "      <th>2</th>\n",
       "      <td>NaN</td>\n",
       "      <td>Algeria</td>\n",
       "      <td>28.033900</td>\n",
       "      <td>1.659600</td>\n",
       "      <td>2020-01-22</td>\n",
       "      <td>0</td>\n",
       "      <td>0</td>\n",
       "      <td>0</td>\n",
       "      <td>0</td>\n",
       "    </tr>\n",
       "    <tr>\n",
       "      <th>3</th>\n",
       "      <td>NaN</td>\n",
       "      <td>Andorra</td>\n",
       "      <td>42.506300</td>\n",
       "      <td>1.521800</td>\n",
       "      <td>2020-01-22</td>\n",
       "      <td>0</td>\n",
       "      <td>0</td>\n",
       "      <td>0</td>\n",
       "      <td>0</td>\n",
       "    </tr>\n",
       "    <tr>\n",
       "      <th>4</th>\n",
       "      <td>NaN</td>\n",
       "      <td>Angola</td>\n",
       "      <td>-11.202700</td>\n",
       "      <td>17.873900</td>\n",
       "      <td>2020-01-22</td>\n",
       "      <td>0</td>\n",
       "      <td>0</td>\n",
       "      <td>0</td>\n",
       "      <td>0</td>\n",
       "    </tr>\n",
       "    <tr>\n",
       "      <th>...</th>\n",
       "      <td>...</td>\n",
       "      <td>...</td>\n",
       "      <td>...</td>\n",
       "      <td>...</td>\n",
       "      <td>...</td>\n",
       "      <td>...</td>\n",
       "      <td>...</td>\n",
       "      <td>...</td>\n",
       "      <td>...</td>\n",
       "    </tr>\n",
       "    <tr>\n",
       "      <th>67040</th>\n",
       "      <td>NaN</td>\n",
       "      <td>West Bank and Gaza</td>\n",
       "      <td>31.952200</td>\n",
       "      <td>35.233200</td>\n",
       "      <td>2020-10-12</td>\n",
       "      <td>44684</td>\n",
       "      <td>387</td>\n",
       "      <td>38228</td>\n",
       "      <td>6069</td>\n",
       "    </tr>\n",
       "    <tr>\n",
       "      <th>67041</th>\n",
       "      <td>NaN</td>\n",
       "      <td>Western Sahara</td>\n",
       "      <td>24.215500</td>\n",
       "      <td>-12.885800</td>\n",
       "      <td>2020-10-12</td>\n",
       "      <td>10</td>\n",
       "      <td>1</td>\n",
       "      <td>8</td>\n",
       "      <td>1</td>\n",
       "    </tr>\n",
       "    <tr>\n",
       "      <th>67042</th>\n",
       "      <td>NaN</td>\n",
       "      <td>Yemen</td>\n",
       "      <td>15.552727</td>\n",
       "      <td>48.516388</td>\n",
       "      <td>2020-10-12</td>\n",
       "      <td>2052</td>\n",
       "      <td>596</td>\n",
       "      <td>1329</td>\n",
       "      <td>127</td>\n",
       "    </tr>\n",
       "    <tr>\n",
       "      <th>67043</th>\n",
       "      <td>NaN</td>\n",
       "      <td>Zambia</td>\n",
       "      <td>-13.133897</td>\n",
       "      <td>27.849332</td>\n",
       "      <td>2020-10-12</td>\n",
       "      <td>15549</td>\n",
       "      <td>345</td>\n",
       "      <td>14682</td>\n",
       "      <td>522</td>\n",
       "    </tr>\n",
       "    <tr>\n",
       "      <th>67044</th>\n",
       "      <td>NaN</td>\n",
       "      <td>Zimbabwe</td>\n",
       "      <td>-19.015438</td>\n",
       "      <td>29.154857</td>\n",
       "      <td>2020-10-12</td>\n",
       "      <td>8021</td>\n",
       "      <td>230</td>\n",
       "      <td>7627</td>\n",
       "      <td>164</td>\n",
       "    </tr>\n",
       "  </tbody>\n",
       "</table>\n",
       "<p>66515 rows × 9 columns</p>\n",
       "</div>"
      ],
      "text/plain": [
       "      Province/State      Country/Region        Lat       Long       Date  \\\n",
       "0                NaN         Afghanistan  33.939110  67.709953 2020-01-22   \n",
       "1                NaN             Albania  41.153300  20.168300 2020-01-22   \n",
       "2                NaN             Algeria  28.033900   1.659600 2020-01-22   \n",
       "3                NaN             Andorra  42.506300   1.521800 2020-01-22   \n",
       "4                NaN              Angola -11.202700  17.873900 2020-01-22   \n",
       "...              ...                 ...        ...        ...        ...   \n",
       "67040            NaN  West Bank and Gaza  31.952200  35.233200 2020-10-12   \n",
       "67041            NaN      Western Sahara  24.215500 -12.885800 2020-10-12   \n",
       "67042            NaN               Yemen  15.552727  48.516388 2020-10-12   \n",
       "67043            NaN              Zambia -13.133897  27.849332 2020-10-12   \n",
       "67044            NaN            Zimbabwe -19.015438  29.154857 2020-10-12   \n",
       "\n",
       "       Confirmed  Deaths  Recovered  Active  \n",
       "0              0       0          0       0  \n",
       "1              0       0          0       0  \n",
       "2              0       0          0       0  \n",
       "3              0       0          0       0  \n",
       "4              0       0          0       0  \n",
       "...          ...     ...        ...     ...  \n",
       "67040      44684     387      38228    6069  \n",
       "67041         10       1          8       1  \n",
       "67042       2052     596       1329     127  \n",
       "67043      15549     345      14682     522  \n",
       "67044       8021     230       7627     164  \n",
       "\n",
       "[66515 rows x 9 columns]"
      ]
     },
     "execution_count": 20,
     "metadata": {},
     "output_type": "execute_result"
    }
   ],
   "source": [
    "# Active Case = confirmed - deaths - recovered\n",
    "full_table['Active'] = full_table['Confirmed'] - full_table['Deaths'] - full_table['Recovered']\n",
    "full_table"
   ]
  },
  {
   "cell_type": "markdown",
   "metadata": {
    "id": "-0GWyShBp5R8"
   },
   "source": [
    "We agregate the data by Country and Date (by means of grouping) and calculate de sum of the cases"
   ]
  },
  {
   "cell_type": "code",
   "execution_count": 21,
   "metadata": {
    "colab": {
     "base_uri": "https://localhost:8080/",
     "height": 419
    },
    "id": "y9ukj4knp5R9",
    "outputId": "b387d25c-5355-4167-e3c4-7525a34ab4e1"
   },
   "outputs": [
    {
     "data": {
      "text/html": [
       "<div>\n",
       "<style scoped>\n",
       "    .dataframe tbody tr th:only-of-type {\n",
       "        vertical-align: middle;\n",
       "    }\n",
       "\n",
       "    .dataframe tbody tr th {\n",
       "        vertical-align: top;\n",
       "    }\n",
       "\n",
       "    .dataframe thead th {\n",
       "        text-align: right;\n",
       "    }\n",
       "</style>\n",
       "<table border=\"1\" class=\"dataframe\">\n",
       "  <thead>\n",
       "    <tr style=\"text-align: right;\">\n",
       "      <th></th>\n",
       "      <th>Date</th>\n",
       "      <th>Country/Region</th>\n",
       "      <th>Confirmed</th>\n",
       "      <th>Deaths</th>\n",
       "      <th>Recovered</th>\n",
       "      <th>Active</th>\n",
       "    </tr>\n",
       "  </thead>\n",
       "  <tbody>\n",
       "    <tr>\n",
       "      <th>0</th>\n",
       "      <td>2020-01-22</td>\n",
       "      <td>Afghanistan</td>\n",
       "      <td>0</td>\n",
       "      <td>0</td>\n",
       "      <td>0</td>\n",
       "      <td>0</td>\n",
       "    </tr>\n",
       "    <tr>\n",
       "      <th>1</th>\n",
       "      <td>2020-01-22</td>\n",
       "      <td>Albania</td>\n",
       "      <td>0</td>\n",
       "      <td>0</td>\n",
       "      <td>0</td>\n",
       "      <td>0</td>\n",
       "    </tr>\n",
       "    <tr>\n",
       "      <th>2</th>\n",
       "      <td>2020-01-22</td>\n",
       "      <td>Algeria</td>\n",
       "      <td>0</td>\n",
       "      <td>0</td>\n",
       "      <td>0</td>\n",
       "      <td>0</td>\n",
       "    </tr>\n",
       "    <tr>\n",
       "      <th>3</th>\n",
       "      <td>2020-01-22</td>\n",
       "      <td>Andorra</td>\n",
       "      <td>0</td>\n",
       "      <td>0</td>\n",
       "      <td>0</td>\n",
       "      <td>0</td>\n",
       "    </tr>\n",
       "    <tr>\n",
       "      <th>4</th>\n",
       "      <td>2020-01-22</td>\n",
       "      <td>Angola</td>\n",
       "      <td>0</td>\n",
       "      <td>0</td>\n",
       "      <td>0</td>\n",
       "      <td>0</td>\n",
       "    </tr>\n",
       "    <tr>\n",
       "      <th>...</th>\n",
       "      <td>...</td>\n",
       "      <td>...</td>\n",
       "      <td>...</td>\n",
       "      <td>...</td>\n",
       "      <td>...</td>\n",
       "      <td>...</td>\n",
       "    </tr>\n",
       "    <tr>\n",
       "      <th>49285</th>\n",
       "      <td>2020-10-12</td>\n",
       "      <td>West Bank and Gaza</td>\n",
       "      <td>44684</td>\n",
       "      <td>387</td>\n",
       "      <td>38228</td>\n",
       "      <td>6069</td>\n",
       "    </tr>\n",
       "    <tr>\n",
       "      <th>49286</th>\n",
       "      <td>2020-10-12</td>\n",
       "      <td>Western Sahara</td>\n",
       "      <td>10</td>\n",
       "      <td>1</td>\n",
       "      <td>8</td>\n",
       "      <td>1</td>\n",
       "    </tr>\n",
       "    <tr>\n",
       "      <th>49287</th>\n",
       "      <td>2020-10-12</td>\n",
       "      <td>Yemen</td>\n",
       "      <td>2052</td>\n",
       "      <td>596</td>\n",
       "      <td>1329</td>\n",
       "      <td>127</td>\n",
       "    </tr>\n",
       "    <tr>\n",
       "      <th>49288</th>\n",
       "      <td>2020-10-12</td>\n",
       "      <td>Zambia</td>\n",
       "      <td>15549</td>\n",
       "      <td>345</td>\n",
       "      <td>14682</td>\n",
       "      <td>522</td>\n",
       "    </tr>\n",
       "    <tr>\n",
       "      <th>49289</th>\n",
       "      <td>2020-10-12</td>\n",
       "      <td>Zimbabwe</td>\n",
       "      <td>8021</td>\n",
       "      <td>230</td>\n",
       "      <td>7627</td>\n",
       "      <td>164</td>\n",
       "    </tr>\n",
       "  </tbody>\n",
       "</table>\n",
       "<p>49290 rows × 6 columns</p>\n",
       "</div>"
      ],
      "text/plain": [
       "            Date      Country/Region  Confirmed  Deaths  Recovered  Active\n",
       "0     2020-01-22         Afghanistan          0       0          0       0\n",
       "1     2020-01-22             Albania          0       0          0       0\n",
       "2     2020-01-22             Algeria          0       0          0       0\n",
       "3     2020-01-22             Andorra          0       0          0       0\n",
       "4     2020-01-22              Angola          0       0          0       0\n",
       "...          ...                 ...        ...     ...        ...     ...\n",
       "49285 2020-10-12  West Bank and Gaza      44684     387      38228    6069\n",
       "49286 2020-10-12      Western Sahara         10       1          8       1\n",
       "49287 2020-10-12               Yemen       2052     596       1329     127\n",
       "49288 2020-10-12              Zambia      15549     345      14682     522\n",
       "49289 2020-10-12            Zimbabwe       8021     230       7627     164\n",
       "\n",
       "[49290 rows x 6 columns]"
      ]
     },
     "execution_count": 21,
     "metadata": {},
     "output_type": "execute_result"
    }
   ],
   "source": [
    "full_grouped = full_table.groupby(['Date', 'Country/Region'])[['Confirmed', 'Deaths', 'Recovered', 'Active']].sum().reset_index()\n",
    "\n",
    "full_grouped"
   ]
  },
  {
   "cell_type": "markdown",
   "metadata": {
    "id": "C1Y8V3Om9LKZ"
   },
   "source": [
    "## Add new column(s) for new cases / new deaths / new recovered"
   ]
  },
  {
   "cell_type": "code",
   "execution_count": 22,
   "metadata": {
    "colab": {
     "base_uri": "https://localhost:8080/",
     "height": 71
    },
    "id": "g6m1YPUo9LKb",
    "outputId": "f6d5de85-f4bf-4735-a34f-ea7903d80d6b"
   },
   "outputs": [
    {
     "name": "stderr",
     "output_type": "stream",
     "text": [
      "/Users/rubencito/opt/anaconda3/lib/python3.7/site-packages/ipykernel_launcher.py:2: FutureWarning: Indexing with multiple keys (implicitly converted to a tuple of keys) will be deprecated, use a list instead.\n",
      "  \n"
     ]
    }
   ],
   "source": [
    "# new cases \n",
    "temp = full_grouped.groupby(['Country/Region', 'Date', ])['Confirmed', 'Deaths', 'Recovered']\n",
    "temp = temp.sum().diff().reset_index()\n",
    "\n",
    "mask = temp['Country/Region'] != temp['Country/Region'].shift(1)\n",
    "\n",
    "temp.loc[mask, 'Confirmed'] = np.nan\n",
    "temp.loc[mask, 'Deaths'] = np.nan\n",
    "temp.loc[mask, 'Recovered'] = np.nan\n",
    "\n",
    "# renaming columns\n",
    "temp.columns = ['Country/Region', 'Date', 'New_cases', 'New_deaths', 'New_recovered']\n",
    "\n",
    "# merging new values\n",
    "full_grouped = pd.merge(full_grouped, temp, on=['Country/Region', 'Date'])# filling na with 0\n",
    "full_grouped = full_grouped.fillna(0)\n",
    "\n",
    "# fixing data types\n",
    "cols = ['New_cases', 'New_deaths', 'New_recovered']\n",
    "full_grouped[cols] = full_grouped[cols].astype('int')\n",
    "\n",
    "# \n",
    "full_grouped['New_cases'] = full_grouped['New_cases'].apply(lambda x: 0 if x<0 else x)"
   ]
  },
  {
   "cell_type": "code",
   "execution_count": 23,
   "metadata": {
    "id": "XHINTWYip5R_"
   },
   "outputs": [],
   "source": [
    "#rename the \"Country/Region\" variable\n",
    "full_grouped.rename(columns = {'Country/Region' : 'Country_Region'}, inplace = True)\n"
   ]
  },
  {
   "cell_type": "code",
   "execution_count": 24,
   "metadata": {
    "colab": {
     "base_uri": "https://localhost:8080/",
     "height": 34
    },
    "id": "F4r3Ehz5p5SC",
    "outputId": "c6752b51-3117-4258-acdb-2f29de31362f"
   },
   "outputs": [
    {
     "data": {
      "text/plain": [
       "186"
      ]
     },
     "execution_count": 24,
     "metadata": {},
     "output_type": "execute_result"
    }
   ],
   "source": [
    "# compute the number of countries registered in the covide dataset\n",
    "full_grouped['Country_Region'].unique().size"
   ]
  },
  {
   "cell_type": "code",
   "execution_count": null,
   "metadata": {
    "id": "_hbINcIq9LK9"
   },
   "outputs": [],
   "source": []
  },
  {
   "cell_type": "markdown",
   "metadata": {
    "id": "MpL0eTgip5SE"
   },
   "source": [
    "## **Extract metadata for Covid datasets**\n",
    "We want to merge the covid dataset with other datasets by a comun variable, in our case is the Country. To make sure that the union of datasets are compatible, and since countries might be named disticntly  from each dataset source we use the country code as an standard varibale fro later merge. Now we asign to the Covid dataframe a new colum for the Country codes. To achieve this task we do the following steps: \n",
    " - Load metadata from the Covid repository\n",
    " - Extract the information on Country code (here is the variable called 'iso3')\n",
    "\n",
    "We also extract additional information on the population from each country. this will be used later for normalizing our variables."
   ]
  },
  {
   "cell_type": "code",
   "execution_count": 25,
   "metadata": {
    "id": "EP8Qv_Jip5SF"
   },
   "outputs": [],
   "source": [
    "covid_metadata_countries = pd.read_csv(\"https://raw.githubusercontent.com/CSSEGISandData/COVID-19/master/csse_covid_19_data/UID_ISO_FIPS_LookUp_Table.csv\",\n",
    "                                      usecols = ['Country_Region', 'Province_State', 'iso3', 'Population'])\n"
   ]
  },
  {
   "cell_type": "code",
   "execution_count": 26,
   "metadata": {
    "colab": {
     "base_uri": "https://localhost:8080/",
     "height": 204
    },
    "id": "r6Vp_haVp5SH",
    "outputId": "193cccce-2fff-4142-c580-c3df43c49061"
   },
   "outputs": [
    {
     "name": "stdout",
     "output_type": "stream",
     "text": [
      "<class 'pandas.core.frame.DataFrame'>\n",
      "RangeIndex: 4154 entries, 0 to 4153\n",
      "Data columns (total 4 columns):\n",
      " #   Column          Non-Null Count  Dtype  \n",
      "---  ------          --------------  -----  \n",
      " 0   iso3            4152 non-null   object \n",
      " 1   Province_State  3965 non-null   object \n",
      " 2   Country_Region  4154 non-null   object \n",
      " 3   Population      4013 non-null   float64\n",
      "dtypes: float64(1), object(3)\n",
      "memory usage: 129.9+ KB\n"
     ]
    }
   ],
   "source": [
    "covid_metadata_countries.info(verbose = True)"
   ]
  },
  {
   "cell_type": "markdown",
   "metadata": {
    "id": "nHSFR3sqp5SI"
   },
   "source": [
    "### **Remove the cruise ships information from the metadata on country codes**"
   ]
  },
  {
   "cell_type": "code",
   "execution_count": 27,
   "metadata": {
    "id": "UCo1c7sjp5SL"
   },
   "outputs": [],
   "source": [
    "# select from columns 'Country_Region' the names 'Diamond Princess'and 'MS Zaandam'\n",
    "ship_metadata = covid_metadata_countries['Country_Region'].str.contains('Diamond Princess') | covid_metadata_countries['Country_Region'].str.contains('MS Zaandam')\n",
    "ship_metadata\n",
    "covid_metadata_countries = covid_metadata_countries[~(ship_metadata)]"
   ]
  },
  {
   "cell_type": "markdown",
   "metadata": {
    "id": "43BRMBXqp5SN"
   },
   "source": [
    "### **Summarize the population by country in the metadata dataframe**"
   ]
  },
  {
   "cell_type": "code",
   "execution_count": 28,
   "metadata": {
    "id": "XosG0thQp5SO"
   },
   "outputs": [],
   "source": [
    "#my_covid_variables = ['Confirmed', 'Deaths', 'Recovered', 'Active']\n",
    "code_vars = ['Country_Region', 'iso3']\n",
    "\n",
    "#full_table.groupby(['Date', 'Country/Region'])[my_covid_variables].sum().reset_index()\n",
    "country_population = covid_metadata_countries.groupby(code_vars)['Population'].sum().reset_index()"
   ]
  },
  {
   "cell_type": "code",
   "execution_count": 29,
   "metadata": {
    "colab": {
     "base_uri": "https://localhost:8080/",
     "height": 34
    },
    "id": "4g79RRkDp5SQ",
    "outputId": "cfa2913b-4dcd-4278-9ceb-79d6312f3491"
   },
   "outputs": [
    {
     "data": {
      "text/plain": [
       "(187,)"
      ]
     },
     "execution_count": 29,
     "metadata": {},
     "output_type": "execute_result"
    }
   ],
   "source": [
    "country_population['Country_Region'].unique().shape"
   ]
  },
  {
   "cell_type": "code",
   "execution_count": 30,
   "metadata": {
    "colab": {
     "base_uri": "https://localhost:8080/",
     "height": 419
    },
    "id": "DeR22gLK9LMK",
    "outputId": "832057f8-ab88-4a27-f70b-df498ec518c9"
   },
   "outputs": [
    {
     "data": {
      "text/html": [
       "<div>\n",
       "<style scoped>\n",
       "    .dataframe tbody tr th:only-of-type {\n",
       "        vertical-align: middle;\n",
       "    }\n",
       "\n",
       "    .dataframe tbody tr th {\n",
       "        vertical-align: top;\n",
       "    }\n",
       "\n",
       "    .dataframe thead th {\n",
       "        text-align: right;\n",
       "    }\n",
       "</style>\n",
       "<table border=\"1\" class=\"dataframe\">\n",
       "  <thead>\n",
       "    <tr style=\"text-align: right;\">\n",
       "      <th></th>\n",
       "      <th>Country_Region</th>\n",
       "      <th>iso3</th>\n",
       "      <th>Population</th>\n",
       "    </tr>\n",
       "  </thead>\n",
       "  <tbody>\n",
       "    <tr>\n",
       "      <th>0</th>\n",
       "      <td>Afghanistan</td>\n",
       "      <td>AFG</td>\n",
       "      <td>38928341.0</td>\n",
       "    </tr>\n",
       "    <tr>\n",
       "      <th>1</th>\n",
       "      <td>Albania</td>\n",
       "      <td>ALB</td>\n",
       "      <td>2877800.0</td>\n",
       "    </tr>\n",
       "    <tr>\n",
       "      <th>2</th>\n",
       "      <td>Algeria</td>\n",
       "      <td>DZA</td>\n",
       "      <td>43851043.0</td>\n",
       "    </tr>\n",
       "    <tr>\n",
       "      <th>3</th>\n",
       "      <td>Andorra</td>\n",
       "      <td>AND</td>\n",
       "      <td>77265.0</td>\n",
       "    </tr>\n",
       "    <tr>\n",
       "      <th>4</th>\n",
       "      <td>Angola</td>\n",
       "      <td>AGO</td>\n",
       "      <td>32866268.0</td>\n",
       "    </tr>\n",
       "    <tr>\n",
       "      <th>...</th>\n",
       "      <td>...</td>\n",
       "      <td>...</td>\n",
       "      <td>...</td>\n",
       "    </tr>\n",
       "    <tr>\n",
       "      <th>214</th>\n",
       "      <td>West Bank and Gaza</td>\n",
       "      <td>PSE</td>\n",
       "      <td>5101416.0</td>\n",
       "    </tr>\n",
       "    <tr>\n",
       "      <th>215</th>\n",
       "      <td>Western Sahara</td>\n",
       "      <td>ESH</td>\n",
       "      <td>597330.0</td>\n",
       "    </tr>\n",
       "    <tr>\n",
       "      <th>216</th>\n",
       "      <td>Yemen</td>\n",
       "      <td>YEM</td>\n",
       "      <td>29825968.0</td>\n",
       "    </tr>\n",
       "    <tr>\n",
       "      <th>217</th>\n",
       "      <td>Zambia</td>\n",
       "      <td>ZMB</td>\n",
       "      <td>18383956.0</td>\n",
       "    </tr>\n",
       "    <tr>\n",
       "      <th>218</th>\n",
       "      <td>Zimbabwe</td>\n",
       "      <td>ZWE</td>\n",
       "      <td>14862927.0</td>\n",
       "    </tr>\n",
       "  </tbody>\n",
       "</table>\n",
       "<p>219 rows × 3 columns</p>\n",
       "</div>"
      ],
      "text/plain": [
       "         Country_Region iso3  Population\n",
       "0           Afghanistan  AFG  38928341.0\n",
       "1               Albania  ALB   2877800.0\n",
       "2               Algeria  DZA  43851043.0\n",
       "3               Andorra  AND     77265.0\n",
       "4                Angola  AGO  32866268.0\n",
       "..                  ...  ...         ...\n",
       "214  West Bank and Gaza  PSE   5101416.0\n",
       "215      Western Sahara  ESH    597330.0\n",
       "216               Yemen  YEM  29825968.0\n",
       "217              Zambia  ZMB  18383956.0\n",
       "218            Zimbabwe  ZWE  14862927.0\n",
       "\n",
       "[219 rows x 3 columns]"
      ]
     },
     "execution_count": 30,
     "metadata": {},
     "output_type": "execute_result"
    }
   ],
   "source": [
    "country_population"
   ]
  },
  {
   "cell_type": "code",
   "execution_count": 31,
   "metadata": {
    "colab": {
     "base_uri": "https://localhost:8080/",
     "height": 34
    },
    "id": "9RLB833C9LMY",
    "outputId": "97d6ede8-3320-4577-9e0d-c4b28840b997"
   },
   "outputs": [
    {
     "data": {
      "text/plain": [
       "186"
      ]
     },
     "execution_count": 31,
     "metadata": {},
     "output_type": "execute_result"
    }
   ],
   "source": [
    "# this is the number of countries registered in the Covid df\n",
    "full_grouped['Country_Region'].unique().size"
   ]
  },
  {
   "cell_type": "markdown",
   "metadata": {
    "id": "okjboLfEp5SX"
   },
   "source": [
    "### **Merge country code with Covid datasets**"
   ]
  },
  {
   "cell_type": "code",
   "execution_count": 32,
   "metadata": {
    "id": "V10m-r0_p5SX"
   },
   "outputs": [],
   "source": [
    "full_grouped_ccode = pd.merge(country_population, full_grouped, how = 'left')\n"
   ]
  },
  {
   "cell_type": "code",
   "execution_count": 33,
   "metadata": {
    "colab": {
     "base_uri": "https://localhost:8080/",
     "height": 323
    },
    "id": "xS5LjLIep5SY",
    "outputId": "0f59c750-bbb2-4abd-c62e-13f6e17df29f"
   },
   "outputs": [
    {
     "name": "stdout",
     "output_type": "stream",
     "text": [
      "<class 'pandas.core.frame.DataFrame'>\n",
      "Int64Index: 57771 entries, 0 to 57770\n",
      "Data columns (total 11 columns):\n",
      " #   Column          Non-Null Count  Dtype         \n",
      "---  ------          --------------  -----         \n",
      " 0   Country_Region  57771 non-null  object        \n",
      " 1   iso3            57771 non-null  object        \n",
      " 2   Population      57771 non-null  float64       \n",
      " 3   Date            57770 non-null  datetime64[ns]\n",
      " 4   Confirmed       57770 non-null  float64       \n",
      " 5   Deaths          57770 non-null  float64       \n",
      " 6   Recovered       57770 non-null  float64       \n",
      " 7   Active          57770 non-null  float64       \n",
      " 8   New_cases       57770 non-null  float64       \n",
      " 9   New_deaths      57770 non-null  float64       \n",
      " 10  New_recovered   57770 non-null  float64       \n",
      "dtypes: datetime64[ns](1), float64(8), object(2)\n",
      "memory usage: 5.3+ MB\n"
     ]
    }
   ],
   "source": [
    "full_grouped_ccode.info(verbose = True)"
   ]
  },
  {
   "cell_type": "code",
   "execution_count": 34,
   "metadata": {
    "id": "sCZAVRjop5Sb"
   },
   "outputs": [],
   "source": [
    "full_grouped_ccode.rename(columns = {'iso3' : 'CountryCode'}, inplace = True)"
   ]
  },
  {
   "cell_type": "code",
   "execution_count": 35,
   "metadata": {},
   "outputs": [
    {
     "data": {
      "text/plain": [
       "Country_Region    0\n",
       "CountryCode       0\n",
       "Population        0\n",
       "Date              1\n",
       "Confirmed         1\n",
       "Deaths            1\n",
       "Recovered         1\n",
       "Active            1\n",
       "New_cases         1\n",
       "New_deaths        1\n",
       "New_recovered     1\n",
       "dtype: int64"
      ]
     },
     "execution_count": 35,
     "metadata": {},
     "output_type": "execute_result"
    }
   ],
   "source": [
    "# Check NaNs generated during the merge and remove them\n",
    "full_grouped_ccode.isna().sum()"
   ]
  },
  {
   "cell_type": "code",
   "execution_count": 36,
   "metadata": {},
   "outputs": [],
   "source": [
    "full_grouped_ccode = full_grouped_ccode[~full_grouped_ccode['Date'].isna()]"
   ]
  },
  {
   "cell_type": "markdown",
   "metadata": {
    "id": "1ADIMImLp5Sf"
   },
   "source": [
    "# 2. Oxford Stringency index data collection, cleaning and merging"
   ]
  },
  {
   "cell_type": "code",
   "execution_count": 37,
   "metadata": {},
   "outputs": [],
   "source": [
    "str_url = [\"https://raw.githubusercontent.com/OxCGRT/covid-policy-tracker/master/data/OxCGRT_latest.csv\"]\n",
    "\n",
    "for url in str_url:\n",
    "    filename = path + '/' + os.path.basename(url) # get the full path of the file\n",
    "    if os.path.exists(filename):\n",
    "        os.remove(filename) # if exist, remove it directly\n",
    "    wget.download(url, out=filename) # download it to the specific path.\n",
    "# IMPORTANT: if error loading files bacause link is down, don't run this code chunk and go to the next.\n",
    "# It will read only the local data in the repo from the last time this script was run and updated"
   ]
  },
  {
   "cell_type": "code",
   "execution_count": 38,
   "metadata": {
    "colab": {
     "base_uri": "https://localhost:8080/",
     "height": 272
    },
    "id": "yOmnWSkTp5Sf",
    "outputId": "7f82f493-b06f-47da-9514-f8310ad2a9f6"
   },
   "outputs": [
    {
     "name": "stdout",
     "output_type": "stream",
     "text": [
      "<class 'pandas.core.frame.DataFrame'>\n",
      "RangeIndex: 69741 entries, 0 to 69740\n",
      "Data columns (total 6 columns):\n",
      " #   Column           Non-Null Count  Dtype  \n",
      "---  ------           --------------  -----  \n",
      " 0   CountryName      69741 non-null  object \n",
      " 1   CountryCode      69741 non-null  object \n",
      " 2   RegionName       16072 non-null  object \n",
      " 3   RegionCode       16072 non-null  object \n",
      " 4   Date             69741 non-null  int64  \n",
      " 5   StringencyIndex  66551 non-null  float64\n",
      "dtypes: float64(1), int64(1), object(4)\n",
      "memory usage: 3.2+ MB\n"
     ]
    }
   ],
   "source": [
    "my_string_columns = [\"Date\", \"CountryCode\", \"CountryName\", \"StringencyIndex\", \"RegionName\", \"RegionCode\"] \n",
    "stringency_raw_dataset = pd.read_csv(\"OxCGRT_latest.csv\", usecols = my_string_columns, low_memory=False)\n",
    "stringency_raw_dataset.info(verbose = True)"
   ]
  },
  {
   "cell_type": "markdown",
   "metadata": {
    "id": "ubalw-rqp5Sg"
   },
   "source": [
    "### **Selecting national data only ( exclude regional data) read documentation in this link why -> https://github.com/OxCGRT/covid-policy-tracker**\n",
    "To take only the natinal data we followed instructions in the link above and take only rows where the variable RegionCoide is Null"
   ]
  },
  {
   "cell_type": "code",
   "execution_count": 39,
   "metadata": {
    "id": "YLNub_hsp5Sh"
   },
   "outputs": [],
   "source": [
    "stringe_natio_dataset = stringency_raw_dataset[stringency_raw_dataset.RegionCode.isnull()]\n"
   ]
  },
  {
   "cell_type": "code",
   "execution_count": 40,
   "metadata": {
    "id": "egxYenh1p5Sl"
   },
   "outputs": [],
   "source": [
    "# remove columns with no needed information\n",
    "stringe_natio_dataset = stringe_natio_dataset[my_string_columns[:4]]"
   ]
  },
  {
   "cell_type": "markdown",
   "metadata": {
    "id": "AbDu_6PE9LNx"
   },
   "source": [
    "Closer inspection revealed that the number of country codes from the Stringency dataset is less than the number of country codes in the Covid dataframe.\n"
   ]
  },
  {
   "cell_type": "code",
   "execution_count": 41,
   "metadata": {
    "colab": {
     "base_uri": "https://localhost:8080/",
     "height": 34
    },
    "id": "xFbmKuf_p5So",
    "outputId": "fb114226-ce21-444d-85d8-675f90b3f75c"
   },
   "outputs": [
    {
     "name": "stdout",
     "output_type": "stream",
     "text": [
      "[187, 218]\n"
     ]
    }
   ],
   "source": [
    "print([stringe_natio_dataset['CountryCode'].unique().size, \n",
    "       full_grouped_ccode['CountryCode'].unique().size])\n"
   ]
  },
  {
   "cell_type": "markdown",
   "metadata": {
    "id": "K4EL7iZfp5Ss"
   },
   "source": [
    "#### **The list below shows the Countries/region/dependencies which have not information regarding stringency index. Those countries (31) will be excluded form the analysis for the momment**"
   ]
  },
  {
   "cell_type": "code",
   "execution_count": 42,
   "metadata": {
    "colab": {
     "base_uri": "https://localhost:8080/",
     "height": 1000
    },
    "id": "DOqYxex5p5Ss",
    "outputId": "cce598ef-687c-46eb-f392-8764364722f9"
   },
   "outputs": [
    {
     "data": {
      "text/html": [
       "<div>\n",
       "<style scoped>\n",
       "    .dataframe tbody tr th:only-of-type {\n",
       "        vertical-align: middle;\n",
       "    }\n",
       "\n",
       "    .dataframe tbody tr th {\n",
       "        vertical-align: top;\n",
       "    }\n",
       "\n",
       "    .dataframe thead th {\n",
       "        text-align: right;\n",
       "    }\n",
       "</style>\n",
       "<table border=\"1\" class=\"dataframe\">\n",
       "  <thead>\n",
       "    <tr style=\"text-align: right;\">\n",
       "      <th></th>\n",
       "      <th>CountryCode</th>\n",
       "      <th>Country_Region</th>\n",
       "    </tr>\n",
       "  </thead>\n",
       "  <tbody>\n",
       "    <tr>\n",
       "      <th>1325</th>\n",
       "      <td>ATG</td>\n",
       "      <td>Antigua and Barbuda</td>\n",
       "    </tr>\n",
       "    <tr>\n",
       "      <th>1855</th>\n",
       "      <td>ARM</td>\n",
       "      <td>Armenia</td>\n",
       "    </tr>\n",
       "    <tr>\n",
       "      <th>2915</th>\n",
       "      <td>BHS</td>\n",
       "      <td>Bahamas</td>\n",
       "    </tr>\n",
       "    <tr>\n",
       "      <th>12986</th>\n",
       "      <td>FRO</td>\n",
       "      <td>Denmark</td>\n",
       "    </tr>\n",
       "    <tr>\n",
       "      <th>15106</th>\n",
       "      <td>GNQ</td>\n",
       "      <td>Equatorial Guinea</td>\n",
       "    </tr>\n",
       "    <tr>\n",
       "      <th>16961</th>\n",
       "      <td>BLM</td>\n",
       "      <td>France</td>\n",
       "    </tr>\n",
       "    <tr>\n",
       "      <th>17491</th>\n",
       "      <td>GLP</td>\n",
       "      <td>France</td>\n",
       "    </tr>\n",
       "    <tr>\n",
       "      <th>17756</th>\n",
       "      <td>GUF</td>\n",
       "      <td>France</td>\n",
       "    </tr>\n",
       "    <tr>\n",
       "      <th>18021</th>\n",
       "      <td>MAF</td>\n",
       "      <td>France</td>\n",
       "    </tr>\n",
       "    <tr>\n",
       "      <th>18286</th>\n",
       "      <td>MTQ</td>\n",
       "      <td>France</td>\n",
       "    </tr>\n",
       "    <tr>\n",
       "      <th>18551</th>\n",
       "      <td>MYT</td>\n",
       "      <td>France</td>\n",
       "    </tr>\n",
       "    <tr>\n",
       "      <th>18816</th>\n",
       "      <td>NCL</td>\n",
       "      <td>France</td>\n",
       "    </tr>\n",
       "    <tr>\n",
       "      <th>19081</th>\n",
       "      <td>PYF</td>\n",
       "      <td>France</td>\n",
       "    </tr>\n",
       "    <tr>\n",
       "      <th>19346</th>\n",
       "      <td>REU</td>\n",
       "      <td>France</td>\n",
       "    </tr>\n",
       "    <tr>\n",
       "      <th>19611</th>\n",
       "      <td>SPM</td>\n",
       "      <td>France</td>\n",
       "    </tr>\n",
       "    <tr>\n",
       "      <th>21466</th>\n",
       "      <td>GRD</td>\n",
       "      <td>Grenada</td>\n",
       "    </tr>\n",
       "    <tr>\n",
       "      <th>22261</th>\n",
       "      <td>GNB</td>\n",
       "      <td>Guinea-Bissau</td>\n",
       "    </tr>\n",
       "    <tr>\n",
       "      <th>23056</th>\n",
       "      <td>VAT</td>\n",
       "      <td>Holy See</td>\n",
       "    </tr>\n",
       "    <tr>\n",
       "      <th>27561</th>\n",
       "      <td>XKS</td>\n",
       "      <td>Kosovo</td>\n",
       "    </tr>\n",
       "    <tr>\n",
       "      <th>29946</th>\n",
       "      <td>LIE</td>\n",
       "      <td>Liechtenstein</td>\n",
       "    </tr>\n",
       "    <tr>\n",
       "      <th>31536</th>\n",
       "      <td>MDV</td>\n",
       "      <td>Maldives</td>\n",
       "    </tr>\n",
       "    <tr>\n",
       "      <th>32066</th>\n",
       "      <td>MLT</td>\n",
       "      <td>Malta</td>\n",
       "    </tr>\n",
       "    <tr>\n",
       "      <th>33391</th>\n",
       "      <td>MCO</td>\n",
       "      <td>Monaco</td>\n",
       "    </tr>\n",
       "    <tr>\n",
       "      <th>33921</th>\n",
       "      <td>MNE</td>\n",
       "      <td>Montenegro</td>\n",
       "    </tr>\n",
       "    <tr>\n",
       "      <th>35511</th>\n",
       "      <td>BES</td>\n",
       "      <td>Netherlands</td>\n",
       "    </tr>\n",
       "    <tr>\n",
       "      <th>35776</th>\n",
       "      <td>CUW</td>\n",
       "      <td>Netherlands</td>\n",
       "    </tr>\n",
       "    <tr>\n",
       "      <th>36306</th>\n",
       "      <td>SXM</td>\n",
       "      <td>Netherlands</td>\n",
       "    </tr>\n",
       "    <tr>\n",
       "      <th>37631</th>\n",
       "      <td>MKD</td>\n",
       "      <td>North Macedonia</td>\n",
       "    </tr>\n",
       "    <tr>\n",
       "      <th>41606</th>\n",
       "      <td>KNA</td>\n",
       "      <td>Saint Kitts and Nevis</td>\n",
       "    </tr>\n",
       "    <tr>\n",
       "      <th>41871</th>\n",
       "      <td>LCA</td>\n",
       "      <td>Saint Lucia</td>\n",
       "    </tr>\n",
       "    <tr>\n",
       "      <th>42136</th>\n",
       "      <td>VCT</td>\n",
       "      <td>Saint Vincent and the Grenadines</td>\n",
       "    </tr>\n",
       "    <tr>\n",
       "      <th>42666</th>\n",
       "      <td>STP</td>\n",
       "      <td>Sao Tome and Principe</td>\n",
       "    </tr>\n",
       "    <tr>\n",
       "      <th>50351</th>\n",
       "      <td>ASM</td>\n",
       "      <td>US</td>\n",
       "    </tr>\n",
       "    <tr>\n",
       "      <th>50881</th>\n",
       "      <td>MNP</td>\n",
       "      <td>US</td>\n",
       "    </tr>\n",
       "    <tr>\n",
       "      <th>54326</th>\n",
       "      <td>IMN</td>\n",
       "      <td>United Kingdom</td>\n",
       "    </tr>\n",
       "    <tr>\n",
       "      <th>56711</th>\n",
       "      <td>ESH</td>\n",
       "      <td>Western Sahara</td>\n",
       "    </tr>\n",
       "  </tbody>\n",
       "</table>\n",
       "</div>"
      ],
      "text/plain": [
       "      CountryCode                    Country_Region\n",
       "1325          ATG               Antigua and Barbuda\n",
       "1855          ARM                           Armenia\n",
       "2915          BHS                           Bahamas\n",
       "12986         FRO                           Denmark\n",
       "15106         GNQ                 Equatorial Guinea\n",
       "16961         BLM                            France\n",
       "17491         GLP                            France\n",
       "17756         GUF                            France\n",
       "18021         MAF                            France\n",
       "18286         MTQ                            France\n",
       "18551         MYT                            France\n",
       "18816         NCL                            France\n",
       "19081         PYF                            France\n",
       "19346         REU                            France\n",
       "19611         SPM                            France\n",
       "21466         GRD                           Grenada\n",
       "22261         GNB                     Guinea-Bissau\n",
       "23056         VAT                          Holy See\n",
       "27561         XKS                            Kosovo\n",
       "29946         LIE                     Liechtenstein\n",
       "31536         MDV                          Maldives\n",
       "32066         MLT                             Malta\n",
       "33391         MCO                            Monaco\n",
       "33921         MNE                        Montenegro\n",
       "35511         BES                       Netherlands\n",
       "35776         CUW                       Netherlands\n",
       "36306         SXM                       Netherlands\n",
       "37631         MKD                   North Macedonia\n",
       "41606         KNA             Saint Kitts and Nevis\n",
       "41871         LCA                       Saint Lucia\n",
       "42136         VCT  Saint Vincent and the Grenadines\n",
       "42666         STP             Sao Tome and Principe\n",
       "50351         ASM                                US\n",
       "50881         MNP                                US\n",
       "54326         IMN                    United Kingdom\n",
       "56711         ESH                    Western Sahara"
      ]
     },
     "execution_count": 42,
     "metadata": {},
     "output_type": "execute_result"
    }
   ],
   "source": [
    "# finding What is not present in the stringency dataset\n",
    "full_grouped_ccode[~full_grouped_ccode['CountryCode'].isin(stringe_natio_dataset['CountryCode'])][['CountryCode', 'Country_Region']].drop_duplicates()"
   ]
  },
  {
   "cell_type": "code",
   "execution_count": 43,
   "metadata": {
    "id": "0rSdS7SJp5S3"
   },
   "outputs": [],
   "source": [
    "## We filtered out the countries above for joining with the covid dataset\n",
    "full_grouped_ccode_filtered = full_grouped_ccode[full_grouped_ccode['CountryCode'].isin(stringe_natio_dataset['CountryCode'])]"
   ]
  },
  {
   "cell_type": "code",
   "execution_count": 44,
   "metadata": {
    "colab": {
     "base_uri": "https://localhost:8080/",
     "height": 323
    },
    "id": "Z-Z9fvhDp5S6",
    "outputId": "4974f1e6-cb6b-443c-ec8b-0b2a8cc72858"
   },
   "outputs": [
    {
     "name": "stdout",
     "output_type": "stream",
     "text": [
      "<class 'pandas.core.frame.DataFrame'>\n",
      "Int64Index: 48230 entries, 0 to 57770\n",
      "Data columns (total 11 columns):\n",
      " #   Column          Non-Null Count  Dtype         \n",
      "---  ------          --------------  -----         \n",
      " 0   Country_Region  48230 non-null  object        \n",
      " 1   CountryCode     48230 non-null  object        \n",
      " 2   Population      48230 non-null  float64       \n",
      " 3   Date            48230 non-null  datetime64[ns]\n",
      " 4   Confirmed       48230 non-null  float64       \n",
      " 5   Deaths          48230 non-null  float64       \n",
      " 6   Recovered       48230 non-null  float64       \n",
      " 7   Active          48230 non-null  float64       \n",
      " 8   New_cases       48230 non-null  float64       \n",
      " 9   New_deaths      48230 non-null  float64       \n",
      " 10  New_recovered   48230 non-null  float64       \n",
      "dtypes: datetime64[ns](1), float64(8), object(2)\n",
      "memory usage: 4.4+ MB\n"
     ]
    }
   ],
   "source": [
    "full_grouped_ccode_filtered.info(verbose = True)"
   ]
  },
  {
   "cell_type": "markdown",
   "metadata": {
    "id": "elyc89vwp5S7"
   },
   "source": [
    "### Fixing the date format in the stringency dataset"
   ]
  },
  {
   "cell_type": "code",
   "execution_count": 45,
   "metadata": {
    "id": "_ztEKtK_p5S8"
   },
   "outputs": [],
   "source": [
    "#stringency_raw_dataset.info(verbose = True)\n",
    "stringe_natio_dataset['Date'] = pd.to_datetime(stringe_natio_dataset['Date'], format = '%Y%m%d')"
   ]
  },
  {
   "cell_type": "code",
   "execution_count": 46,
   "metadata": {
    "colab": {
     "base_uri": "https://localhost:8080/",
     "height": 204
    },
    "id": "HuwY5_Rvp5S-",
    "outputId": "bb407f4c-232d-406a-b320-8346875b449b"
   },
   "outputs": [
    {
     "name": "stdout",
     "output_type": "stream",
     "text": [
      "<class 'pandas.core.frame.DataFrame'>\n",
      "Int64Index: 53669 entries, 0 to 69740\n",
      "Data columns (total 4 columns):\n",
      " #   Column           Non-Null Count  Dtype         \n",
      "---  ------           --------------  -----         \n",
      " 0   Date             53669 non-null  datetime64[ns]\n",
      " 1   CountryCode      53669 non-null  object        \n",
      " 2   CountryName      53669 non-null  object        \n",
      " 3   StringencyIndex  51631 non-null  float64       \n",
      "dtypes: datetime64[ns](1), float64(1), object(2)\n",
      "memory usage: 2.0+ MB\n"
     ]
    }
   ],
   "source": [
    "stringe_natio_dataset.info(verbose = True)"
   ]
  },
  {
   "cell_type": "code",
   "execution_count": 47,
   "metadata": {},
   "outputs": [
    {
     "data": {
      "text/html": [
       "<div>\n",
       "<style scoped>\n",
       "    .dataframe tbody tr th:only-of-type {\n",
       "        vertical-align: middle;\n",
       "    }\n",
       "\n",
       "    .dataframe tbody tr th {\n",
       "        vertical-align: top;\n",
       "    }\n",
       "\n",
       "    .dataframe thead th {\n",
       "        text-align: right;\n",
       "    }\n",
       "</style>\n",
       "<table border=\"1\" class=\"dataframe\">\n",
       "  <thead>\n",
       "    <tr style=\"text-align: right;\">\n",
       "      <th></th>\n",
       "      <th>Date</th>\n",
       "      <th>CountryCode</th>\n",
       "      <th>CountryName</th>\n",
       "      <th>StringencyIndex</th>\n",
       "    </tr>\n",
       "  </thead>\n",
       "  <tbody>\n",
       "    <tr>\n",
       "      <th>0</th>\n",
       "      <td>2020-01-01</td>\n",
       "      <td>ABW</td>\n",
       "      <td>Aruba</td>\n",
       "      <td>0.0</td>\n",
       "    </tr>\n",
       "    <tr>\n",
       "      <th>1</th>\n",
       "      <td>2020-01-02</td>\n",
       "      <td>ABW</td>\n",
       "      <td>Aruba</td>\n",
       "      <td>0.0</td>\n",
       "    </tr>\n",
       "    <tr>\n",
       "      <th>2</th>\n",
       "      <td>2020-01-03</td>\n",
       "      <td>ABW</td>\n",
       "      <td>Aruba</td>\n",
       "      <td>0.0</td>\n",
       "    </tr>\n",
       "    <tr>\n",
       "      <th>3</th>\n",
       "      <td>2020-01-04</td>\n",
       "      <td>ABW</td>\n",
       "      <td>Aruba</td>\n",
       "      <td>0.0</td>\n",
       "    </tr>\n",
       "    <tr>\n",
       "      <th>4</th>\n",
       "      <td>2020-01-05</td>\n",
       "      <td>ABW</td>\n",
       "      <td>Aruba</td>\n",
       "      <td>0.0</td>\n",
       "    </tr>\n",
       "    <tr>\n",
       "      <th>...</th>\n",
       "      <td>...</td>\n",
       "      <td>...</td>\n",
       "      <td>...</td>\n",
       "      <td>...</td>\n",
       "    </tr>\n",
       "    <tr>\n",
       "      <th>69736</th>\n",
       "      <td>2020-10-09</td>\n",
       "      <td>ZWE</td>\n",
       "      <td>Zimbabwe</td>\n",
       "      <td>NaN</td>\n",
       "    </tr>\n",
       "    <tr>\n",
       "      <th>69737</th>\n",
       "      <td>2020-10-10</td>\n",
       "      <td>ZWE</td>\n",
       "      <td>Zimbabwe</td>\n",
       "      <td>NaN</td>\n",
       "    </tr>\n",
       "    <tr>\n",
       "      <th>69738</th>\n",
       "      <td>2020-10-11</td>\n",
       "      <td>ZWE</td>\n",
       "      <td>Zimbabwe</td>\n",
       "      <td>NaN</td>\n",
       "    </tr>\n",
       "    <tr>\n",
       "      <th>69739</th>\n",
       "      <td>2020-10-12</td>\n",
       "      <td>ZWE</td>\n",
       "      <td>Zimbabwe</td>\n",
       "      <td>NaN</td>\n",
       "    </tr>\n",
       "    <tr>\n",
       "      <th>69740</th>\n",
       "      <td>2020-10-13</td>\n",
       "      <td>ZWE</td>\n",
       "      <td>Zimbabwe</td>\n",
       "      <td>NaN</td>\n",
       "    </tr>\n",
       "  </tbody>\n",
       "</table>\n",
       "<p>53669 rows × 4 columns</p>\n",
       "</div>"
      ],
      "text/plain": [
       "            Date CountryCode CountryName  StringencyIndex\n",
       "0     2020-01-01         ABW       Aruba              0.0\n",
       "1     2020-01-02         ABW       Aruba              0.0\n",
       "2     2020-01-03         ABW       Aruba              0.0\n",
       "3     2020-01-04         ABW       Aruba              0.0\n",
       "4     2020-01-05         ABW       Aruba              0.0\n",
       "...          ...         ...         ...              ...\n",
       "69736 2020-10-09         ZWE    Zimbabwe              NaN\n",
       "69737 2020-10-10         ZWE    Zimbabwe              NaN\n",
       "69738 2020-10-11         ZWE    Zimbabwe              NaN\n",
       "69739 2020-10-12         ZWE    Zimbabwe              NaN\n",
       "69740 2020-10-13         ZWE    Zimbabwe              NaN\n",
       "\n",
       "[53669 rows x 4 columns]"
      ]
     },
     "execution_count": 47,
     "metadata": {},
     "output_type": "execute_result"
    }
   ],
   "source": [
    "stringe_natio_dataset"
   ]
  },
  {
   "cell_type": "markdown",
   "metadata": {
    "id": "elyc89vwp5S7"
   },
   "source": [
    "### Create categories for Stringency index"
   ]
  },
  {
   "cell_type": "code",
   "execution_count": 48,
   "metadata": {},
   "outputs": [
    {
     "data": {
      "text/html": [
       "<div>\n",
       "<style scoped>\n",
       "    .dataframe tbody tr th:only-of-type {\n",
       "        vertical-align: middle;\n",
       "    }\n",
       "\n",
       "    .dataframe tbody tr th {\n",
       "        vertical-align: top;\n",
       "    }\n",
       "\n",
       "    .dataframe thead th {\n",
       "        text-align: right;\n",
       "    }\n",
       "</style>\n",
       "<table border=\"1\" class=\"dataframe\">\n",
       "  <thead>\n",
       "    <tr style=\"text-align: right;\">\n",
       "      <th></th>\n",
       "      <th>Date</th>\n",
       "      <th>CountryCode</th>\n",
       "      <th>CountryName</th>\n",
       "      <th>StringencyIndex</th>\n",
       "      <th>StringencyIndex_factor</th>\n",
       "    </tr>\n",
       "  </thead>\n",
       "  <tbody>\n",
       "    <tr>\n",
       "      <th>0</th>\n",
       "      <td>2020-01-01</td>\n",
       "      <td>ABW</td>\n",
       "      <td>Aruba</td>\n",
       "      <td>0.0</td>\n",
       "      <td>Very_low</td>\n",
       "    </tr>\n",
       "    <tr>\n",
       "      <th>1</th>\n",
       "      <td>2020-01-02</td>\n",
       "      <td>ABW</td>\n",
       "      <td>Aruba</td>\n",
       "      <td>0.0</td>\n",
       "      <td>Very_low</td>\n",
       "    </tr>\n",
       "    <tr>\n",
       "      <th>2</th>\n",
       "      <td>2020-01-03</td>\n",
       "      <td>ABW</td>\n",
       "      <td>Aruba</td>\n",
       "      <td>0.0</td>\n",
       "      <td>Very_low</td>\n",
       "    </tr>\n",
       "    <tr>\n",
       "      <th>3</th>\n",
       "      <td>2020-01-04</td>\n",
       "      <td>ABW</td>\n",
       "      <td>Aruba</td>\n",
       "      <td>0.0</td>\n",
       "      <td>Very_low</td>\n",
       "    </tr>\n",
       "    <tr>\n",
       "      <th>4</th>\n",
       "      <td>2020-01-05</td>\n",
       "      <td>ABW</td>\n",
       "      <td>Aruba</td>\n",
       "      <td>0.0</td>\n",
       "      <td>Very_low</td>\n",
       "    </tr>\n",
       "    <tr>\n",
       "      <th>...</th>\n",
       "      <td>...</td>\n",
       "      <td>...</td>\n",
       "      <td>...</td>\n",
       "      <td>...</td>\n",
       "      <td>...</td>\n",
       "    </tr>\n",
       "    <tr>\n",
       "      <th>69736</th>\n",
       "      <td>2020-10-09</td>\n",
       "      <td>ZWE</td>\n",
       "      <td>Zimbabwe</td>\n",
       "      <td>NaN</td>\n",
       "      <td>unknown</td>\n",
       "    </tr>\n",
       "    <tr>\n",
       "      <th>69737</th>\n",
       "      <td>2020-10-10</td>\n",
       "      <td>ZWE</td>\n",
       "      <td>Zimbabwe</td>\n",
       "      <td>NaN</td>\n",
       "      <td>unknown</td>\n",
       "    </tr>\n",
       "    <tr>\n",
       "      <th>69738</th>\n",
       "      <td>2020-10-11</td>\n",
       "      <td>ZWE</td>\n",
       "      <td>Zimbabwe</td>\n",
       "      <td>NaN</td>\n",
       "      <td>unknown</td>\n",
       "    </tr>\n",
       "    <tr>\n",
       "      <th>69739</th>\n",
       "      <td>2020-10-12</td>\n",
       "      <td>ZWE</td>\n",
       "      <td>Zimbabwe</td>\n",
       "      <td>NaN</td>\n",
       "      <td>unknown</td>\n",
       "    </tr>\n",
       "    <tr>\n",
       "      <th>69740</th>\n",
       "      <td>2020-10-13</td>\n",
       "      <td>ZWE</td>\n",
       "      <td>Zimbabwe</td>\n",
       "      <td>NaN</td>\n",
       "      <td>unknown</td>\n",
       "    </tr>\n",
       "  </tbody>\n",
       "</table>\n",
       "<p>53669 rows × 5 columns</p>\n",
       "</div>"
      ],
      "text/plain": [
       "            Date CountryCode CountryName  StringencyIndex  \\\n",
       "0     2020-01-01         ABW       Aruba              0.0   \n",
       "1     2020-01-02         ABW       Aruba              0.0   \n",
       "2     2020-01-03         ABW       Aruba              0.0   \n",
       "3     2020-01-04         ABW       Aruba              0.0   \n",
       "4     2020-01-05         ABW       Aruba              0.0   \n",
       "...          ...         ...         ...              ...   \n",
       "69736 2020-10-09         ZWE    Zimbabwe              NaN   \n",
       "69737 2020-10-10         ZWE    Zimbabwe              NaN   \n",
       "69738 2020-10-11         ZWE    Zimbabwe              NaN   \n",
       "69739 2020-10-12         ZWE    Zimbabwe              NaN   \n",
       "69740 2020-10-13         ZWE    Zimbabwe              NaN   \n",
       "\n",
       "      StringencyIndex_factor  \n",
       "0                   Very_low  \n",
       "1                   Very_low  \n",
       "2                   Very_low  \n",
       "3                   Very_low  \n",
       "4                   Very_low  \n",
       "...                      ...  \n",
       "69736                unknown  \n",
       "69737                unknown  \n",
       "69738                unknown  \n",
       "69739                unknown  \n",
       "69740                unknown  \n",
       "\n",
       "[53669 rows x 5 columns]"
      ]
     },
     "execution_count": 48,
     "metadata": {},
     "output_type": "execute_result"
    }
   ],
   "source": [
    "condition1 = (stringe_natio_dataset[\"StringencyIndex\"] >= 0) & (stringe_natio_dataset[\"StringencyIndex\"] <= 20)\n",
    "condition2 = (stringe_natio_dataset[\"StringencyIndex\"] > 20) & (stringe_natio_dataset[\"StringencyIndex\"] <= 40)\n",
    "condition3 = (stringe_natio_dataset[\"StringencyIndex\"] > 40) & (stringe_natio_dataset[\"StringencyIndex\"] <= 60)\n",
    "condition4 = (stringe_natio_dataset[\"StringencyIndex\"] > 60) & (stringe_natio_dataset[\"StringencyIndex\"] <= 80)\n",
    "condition5 = (stringe_natio_dataset[\"StringencyIndex\"] > 80) & (stringe_natio_dataset[\"StringencyIndex\"] <= 100)\n",
    "\n",
    "case1 = \"Very_low\"\n",
    "case2 = \"Low\"\n",
    "case3 = \"Middle\"\n",
    "case4 = \"High\"\n",
    "case5 = \"Very_high\"\n",
    "\n",
    "\n",
    "stringe_natio_dataset[\"StringencyIndex_factor\"] = np.where(condition1, case1, \n",
    "                                                    np.where(condition2, case2, \n",
    "                                                            np.where(condition3, case3,\n",
    "                                                                    np.where(condition3, case3,\n",
    "                                                                            np.where(condition4, case4,\n",
    "                                                                                    np.where(condition5, case5,\n",
    "                                                                                            \"unknown\"))))))\n",
    "stringe_natio_dataset"
   ]
  },
  {
   "cell_type": "markdown",
   "metadata": {
    "id": "AlrhZGj5p5TB"
   },
   "source": [
    "# 3. Joining Covid cases with Stringency index data \n",
    "Join the covid dataset with the stringency dataset and transfrm the final df in a timeseries"
   ]
  },
  {
   "cell_type": "code",
   "execution_count": 49,
   "metadata": {
    "colab": {
     "base_uri": "https://localhost:8080/",
     "height": 340
    },
    "id": "lwrWcwsMp5TG",
    "outputId": "92678d2f-5c79-40f4-ed33-63b46cfb417d"
   },
   "outputs": [
    {
     "name": "stdout",
     "output_type": "stream",
     "text": [
      "<class 'pandas.core.frame.DataFrame'>\n",
      "Int64Index: 48230 entries, 0 to 48229\n",
      "Data columns (total 13 columns):\n",
      " #   Column                  Non-Null Count  Dtype         \n",
      "---  ------                  --------------  -----         \n",
      " 0   Date                    48230 non-null  datetime64[ns]\n",
      " 1   CountryCode             48230 non-null  object        \n",
      " 2   StringencyIndex         46511 non-null  float64       \n",
      " 3   StringencyIndex_factor  48230 non-null  object        \n",
      " 4   Country_Region          48230 non-null  object        \n",
      " 5   Population              48230 non-null  float64       \n",
      " 6   Confirmed               48230 non-null  float64       \n",
      " 7   Deaths                  48230 non-null  float64       \n",
      " 8   Recovered               48230 non-null  float64       \n",
      " 9   Active                  48230 non-null  float64       \n",
      " 10  New_cases               48230 non-null  float64       \n",
      " 11  New_deaths              48230 non-null  float64       \n",
      " 12  New_recovered           48230 non-null  float64       \n",
      "dtypes: datetime64[ns](1), float64(9), object(3)\n",
      "memory usage: 5.2+ MB\n"
     ]
    }
   ],
   "source": [
    "my_complete_df = pd.merge(stringe_natio_dataset[['Date', 'CountryCode','StringencyIndex', 'StringencyIndex_factor']], # selecting only the variables to join\n",
    "                          full_grouped_ccode_filtered)\n",
    "\n",
    "my_complete_df.info(verbose = True)"
   ]
  },
  {
   "cell_type": "code",
   "execution_count": 50,
   "metadata": {
    "id": "gpWNCGu_p5TL"
   },
   "outputs": [],
   "source": [
    "my_complete_df.set_index('Date', inplace = True)"
   ]
  },
  {
   "cell_type": "code",
   "execution_count": 51,
   "metadata": {
    "id": "WyIZkmEY9LPH"
   },
   "outputs": [
    {
     "data": {
      "text/html": [
       "<div>\n",
       "<style scoped>\n",
       "    .dataframe tbody tr th:only-of-type {\n",
       "        vertical-align: middle;\n",
       "    }\n",
       "\n",
       "    .dataframe tbody tr th {\n",
       "        vertical-align: top;\n",
       "    }\n",
       "\n",
       "    .dataframe thead th {\n",
       "        text-align: right;\n",
       "    }\n",
       "</style>\n",
       "<table border=\"1\" class=\"dataframe\">\n",
       "  <thead>\n",
       "    <tr style=\"text-align: right;\">\n",
       "      <th></th>\n",
       "      <th>CountryCode</th>\n",
       "      <th>StringencyIndex</th>\n",
       "      <th>StringencyIndex_factor</th>\n",
       "      <th>Country_Region</th>\n",
       "      <th>Population</th>\n",
       "      <th>Confirmed</th>\n",
       "      <th>Deaths</th>\n",
       "      <th>Recovered</th>\n",
       "      <th>Active</th>\n",
       "      <th>New_cases</th>\n",
       "      <th>New_deaths</th>\n",
       "      <th>New_recovered</th>\n",
       "    </tr>\n",
       "    <tr>\n",
       "      <th>Date</th>\n",
       "      <th></th>\n",
       "      <th></th>\n",
       "      <th></th>\n",
       "      <th></th>\n",
       "      <th></th>\n",
       "      <th></th>\n",
       "      <th></th>\n",
       "      <th></th>\n",
       "      <th></th>\n",
       "      <th></th>\n",
       "      <th></th>\n",
       "      <th></th>\n",
       "    </tr>\n",
       "  </thead>\n",
       "  <tbody>\n",
       "    <tr>\n",
       "      <th>2020-01-22</th>\n",
       "      <td>ABW</td>\n",
       "      <td>0.0</td>\n",
       "      <td>Very_low</td>\n",
       "      <td>Netherlands</td>\n",
       "      <td>106766.0</td>\n",
       "      <td>0.0</td>\n",
       "      <td>0.0</td>\n",
       "      <td>0.0</td>\n",
       "      <td>0.0</td>\n",
       "      <td>0.0</td>\n",
       "      <td>0.0</td>\n",
       "      <td>0.0</td>\n",
       "    </tr>\n",
       "    <tr>\n",
       "      <th>2020-01-23</th>\n",
       "      <td>ABW</td>\n",
       "      <td>0.0</td>\n",
       "      <td>Very_low</td>\n",
       "      <td>Netherlands</td>\n",
       "      <td>106766.0</td>\n",
       "      <td>0.0</td>\n",
       "      <td>0.0</td>\n",
       "      <td>0.0</td>\n",
       "      <td>0.0</td>\n",
       "      <td>0.0</td>\n",
       "      <td>0.0</td>\n",
       "      <td>0.0</td>\n",
       "    </tr>\n",
       "    <tr>\n",
       "      <th>2020-01-24</th>\n",
       "      <td>ABW</td>\n",
       "      <td>0.0</td>\n",
       "      <td>Very_low</td>\n",
       "      <td>Netherlands</td>\n",
       "      <td>106766.0</td>\n",
       "      <td>0.0</td>\n",
       "      <td>0.0</td>\n",
       "      <td>0.0</td>\n",
       "      <td>0.0</td>\n",
       "      <td>0.0</td>\n",
       "      <td>0.0</td>\n",
       "      <td>0.0</td>\n",
       "    </tr>\n",
       "    <tr>\n",
       "      <th>2020-01-25</th>\n",
       "      <td>ABW</td>\n",
       "      <td>0.0</td>\n",
       "      <td>Very_low</td>\n",
       "      <td>Netherlands</td>\n",
       "      <td>106766.0</td>\n",
       "      <td>0.0</td>\n",
       "      <td>0.0</td>\n",
       "      <td>0.0</td>\n",
       "      <td>0.0</td>\n",
       "      <td>0.0</td>\n",
       "      <td>0.0</td>\n",
       "      <td>0.0</td>\n",
       "    </tr>\n",
       "    <tr>\n",
       "      <th>2020-01-26</th>\n",
       "      <td>ABW</td>\n",
       "      <td>0.0</td>\n",
       "      <td>Very_low</td>\n",
       "      <td>Netherlands</td>\n",
       "      <td>106766.0</td>\n",
       "      <td>0.0</td>\n",
       "      <td>0.0</td>\n",
       "      <td>0.0</td>\n",
       "      <td>0.0</td>\n",
       "      <td>0.0</td>\n",
       "      <td>0.0</td>\n",
       "      <td>0.0</td>\n",
       "    </tr>\n",
       "    <tr>\n",
       "      <th>...</th>\n",
       "      <td>...</td>\n",
       "      <td>...</td>\n",
       "      <td>...</td>\n",
       "      <td>...</td>\n",
       "      <td>...</td>\n",
       "      <td>...</td>\n",
       "      <td>...</td>\n",
       "      <td>...</td>\n",
       "      <td>...</td>\n",
       "      <td>...</td>\n",
       "      <td>...</td>\n",
       "      <td>...</td>\n",
       "    </tr>\n",
       "    <tr>\n",
       "      <th>2020-10-08</th>\n",
       "      <td>ZWE</td>\n",
       "      <td>NaN</td>\n",
       "      <td>unknown</td>\n",
       "      <td>Zimbabwe</td>\n",
       "      <td>14862927.0</td>\n",
       "      <td>7951.0</td>\n",
       "      <td>229.0</td>\n",
       "      <td>6446.0</td>\n",
       "      <td>1276.0</td>\n",
       "      <td>32.0</td>\n",
       "      <td>0.0</td>\n",
       "      <td>5.0</td>\n",
       "    </tr>\n",
       "    <tr>\n",
       "      <th>2020-10-09</th>\n",
       "      <td>ZWE</td>\n",
       "      <td>NaN</td>\n",
       "      <td>unknown</td>\n",
       "      <td>Zimbabwe</td>\n",
       "      <td>14862927.0</td>\n",
       "      <td>7994.0</td>\n",
       "      <td>229.0</td>\n",
       "      <td>6474.0</td>\n",
       "      <td>1291.0</td>\n",
       "      <td>43.0</td>\n",
       "      <td>0.0</td>\n",
       "      <td>28.0</td>\n",
       "    </tr>\n",
       "    <tr>\n",
       "      <th>2020-10-10</th>\n",
       "      <td>ZWE</td>\n",
       "      <td>NaN</td>\n",
       "      <td>unknown</td>\n",
       "      <td>Zimbabwe</td>\n",
       "      <td>14862927.0</td>\n",
       "      <td>8010.0</td>\n",
       "      <td>230.0</td>\n",
       "      <td>6492.0</td>\n",
       "      <td>1288.0</td>\n",
       "      <td>16.0</td>\n",
       "      <td>1.0</td>\n",
       "      <td>18.0</td>\n",
       "    </tr>\n",
       "    <tr>\n",
       "      <th>2020-10-11</th>\n",
       "      <td>ZWE</td>\n",
       "      <td>NaN</td>\n",
       "      <td>unknown</td>\n",
       "      <td>Zimbabwe</td>\n",
       "      <td>14862927.0</td>\n",
       "      <td>8011.0</td>\n",
       "      <td>230.0</td>\n",
       "      <td>6504.0</td>\n",
       "      <td>1277.0</td>\n",
       "      <td>1.0</td>\n",
       "      <td>0.0</td>\n",
       "      <td>12.0</td>\n",
       "    </tr>\n",
       "    <tr>\n",
       "      <th>2020-10-12</th>\n",
       "      <td>ZWE</td>\n",
       "      <td>NaN</td>\n",
       "      <td>unknown</td>\n",
       "      <td>Zimbabwe</td>\n",
       "      <td>14862927.0</td>\n",
       "      <td>8021.0</td>\n",
       "      <td>230.0</td>\n",
       "      <td>7627.0</td>\n",
       "      <td>164.0</td>\n",
       "      <td>10.0</td>\n",
       "      <td>0.0</td>\n",
       "      <td>1123.0</td>\n",
       "    </tr>\n",
       "  </tbody>\n",
       "</table>\n",
       "<p>48230 rows × 12 columns</p>\n",
       "</div>"
      ],
      "text/plain": [
       "           CountryCode  StringencyIndex StringencyIndex_factor Country_Region  \\\n",
       "Date                                                                            \n",
       "2020-01-22         ABW              0.0               Very_low    Netherlands   \n",
       "2020-01-23         ABW              0.0               Very_low    Netherlands   \n",
       "2020-01-24         ABW              0.0               Very_low    Netherlands   \n",
       "2020-01-25         ABW              0.0               Very_low    Netherlands   \n",
       "2020-01-26         ABW              0.0               Very_low    Netherlands   \n",
       "...                ...              ...                    ...            ...   \n",
       "2020-10-08         ZWE              NaN                unknown       Zimbabwe   \n",
       "2020-10-09         ZWE              NaN                unknown       Zimbabwe   \n",
       "2020-10-10         ZWE              NaN                unknown       Zimbabwe   \n",
       "2020-10-11         ZWE              NaN                unknown       Zimbabwe   \n",
       "2020-10-12         ZWE              NaN                unknown       Zimbabwe   \n",
       "\n",
       "            Population  Confirmed  Deaths  Recovered  Active  New_cases  \\\n",
       "Date                                                                      \n",
       "2020-01-22    106766.0        0.0     0.0        0.0     0.0        0.0   \n",
       "2020-01-23    106766.0        0.0     0.0        0.0     0.0        0.0   \n",
       "2020-01-24    106766.0        0.0     0.0        0.0     0.0        0.0   \n",
       "2020-01-25    106766.0        0.0     0.0        0.0     0.0        0.0   \n",
       "2020-01-26    106766.0        0.0     0.0        0.0     0.0        0.0   \n",
       "...                ...        ...     ...        ...     ...        ...   \n",
       "2020-10-08  14862927.0     7951.0   229.0     6446.0  1276.0       32.0   \n",
       "2020-10-09  14862927.0     7994.0   229.0     6474.0  1291.0       43.0   \n",
       "2020-10-10  14862927.0     8010.0   230.0     6492.0  1288.0       16.0   \n",
       "2020-10-11  14862927.0     8011.0   230.0     6504.0  1277.0        1.0   \n",
       "2020-10-12  14862927.0     8021.0   230.0     7627.0   164.0       10.0   \n",
       "\n",
       "            New_deaths  New_recovered  \n",
       "Date                                   \n",
       "2020-01-22         0.0            0.0  \n",
       "2020-01-23         0.0            0.0  \n",
       "2020-01-24         0.0            0.0  \n",
       "2020-01-25         0.0            0.0  \n",
       "2020-01-26         0.0            0.0  \n",
       "...                ...            ...  \n",
       "2020-10-08         0.0            5.0  \n",
       "2020-10-09         0.0           28.0  \n",
       "2020-10-10         1.0           18.0  \n",
       "2020-10-11         0.0           12.0  \n",
       "2020-10-12         0.0         1123.0  \n",
       "\n",
       "[48230 rows x 12 columns]"
      ]
     },
     "execution_count": 51,
     "metadata": {},
     "output_type": "execute_result"
    }
   ],
   "source": [
    "my_complete_df"
   ]
  },
  {
   "cell_type": "markdown",
   "metadata": {
    "id": "kzVZMFdw9LPP"
   },
   "source": [
    "## Normalize the variables on all cases by 100.000 people per country"
   ]
  },
  {
   "cell_type": "code",
   "execution_count": 53,
   "metadata": {
    "colab": {
     "base_uri": "https://localhost:8080/",
     "height": 640
    },
    "id": "oFt_DnX29LPh",
    "outputId": "28a374a0-be11-4879-8676-186de2da075c"
   },
   "outputs": [
    {
     "data": {
      "text/html": [
       "<div>\n",
       "<style scoped>\n",
       "    .dataframe tbody tr th:only-of-type {\n",
       "        vertical-align: middle;\n",
       "    }\n",
       "\n",
       "    .dataframe tbody tr th {\n",
       "        vertical-align: top;\n",
       "    }\n",
       "\n",
       "    .dataframe thead th {\n",
       "        text-align: right;\n",
       "    }\n",
       "</style>\n",
       "<table border=\"1\" class=\"dataframe\">\n",
       "  <thead>\n",
       "    <tr style=\"text-align: right;\">\n",
       "      <th></th>\n",
       "      <th>CountryCode</th>\n",
       "      <th>StringencyIndex</th>\n",
       "      <th>StringencyIndex_factor</th>\n",
       "      <th>Country_Region</th>\n",
       "      <th>Population</th>\n",
       "      <th>Confirmed</th>\n",
       "      <th>Deaths</th>\n",
       "      <th>Recovered</th>\n",
       "      <th>Active</th>\n",
       "      <th>New_cases</th>\n",
       "      <th>New_deaths</th>\n",
       "      <th>New_recovered</th>\n",
       "      <th>Confirmed_100K</th>\n",
       "      <th>Deaths_100K</th>\n",
       "      <th>Recovered_100K</th>\n",
       "      <th>Active_100K</th>\n",
       "      <th>New_cases_100K</th>\n",
       "      <th>New_deaths_100K</th>\n",
       "      <th>New_recovered_100K</th>\n",
       "    </tr>\n",
       "    <tr>\n",
       "      <th>Date</th>\n",
       "      <th></th>\n",
       "      <th></th>\n",
       "      <th></th>\n",
       "      <th></th>\n",
       "      <th></th>\n",
       "      <th></th>\n",
       "      <th></th>\n",
       "      <th></th>\n",
       "      <th></th>\n",
       "      <th></th>\n",
       "      <th></th>\n",
       "      <th></th>\n",
       "      <th></th>\n",
       "      <th></th>\n",
       "      <th></th>\n",
       "      <th></th>\n",
       "      <th></th>\n",
       "      <th></th>\n",
       "      <th></th>\n",
       "    </tr>\n",
       "  </thead>\n",
       "  <tbody>\n",
       "    <tr>\n",
       "      <th>2020-01-22</th>\n",
       "      <td>ABW</td>\n",
       "      <td>0.0</td>\n",
       "      <td>Very_low</td>\n",
       "      <td>Netherlands</td>\n",
       "      <td>106766.0</td>\n",
       "      <td>0.0</td>\n",
       "      <td>0.0</td>\n",
       "      <td>0.0</td>\n",
       "      <td>0.0</td>\n",
       "      <td>0.0</td>\n",
       "      <td>0.0</td>\n",
       "      <td>0.0</td>\n",
       "      <td>0.000000</td>\n",
       "      <td>0.000000</td>\n",
       "      <td>0.000000</td>\n",
       "      <td>0.000000</td>\n",
       "      <td>0.000000</td>\n",
       "      <td>0.000000</td>\n",
       "      <td>0.000000</td>\n",
       "    </tr>\n",
       "    <tr>\n",
       "      <th>2020-01-23</th>\n",
       "      <td>ABW</td>\n",
       "      <td>0.0</td>\n",
       "      <td>Very_low</td>\n",
       "      <td>Netherlands</td>\n",
       "      <td>106766.0</td>\n",
       "      <td>0.0</td>\n",
       "      <td>0.0</td>\n",
       "      <td>0.0</td>\n",
       "      <td>0.0</td>\n",
       "      <td>0.0</td>\n",
       "      <td>0.0</td>\n",
       "      <td>0.0</td>\n",
       "      <td>0.000000</td>\n",
       "      <td>0.000000</td>\n",
       "      <td>0.000000</td>\n",
       "      <td>0.000000</td>\n",
       "      <td>0.000000</td>\n",
       "      <td>0.000000</td>\n",
       "      <td>0.000000</td>\n",
       "    </tr>\n",
       "    <tr>\n",
       "      <th>2020-01-24</th>\n",
       "      <td>ABW</td>\n",
       "      <td>0.0</td>\n",
       "      <td>Very_low</td>\n",
       "      <td>Netherlands</td>\n",
       "      <td>106766.0</td>\n",
       "      <td>0.0</td>\n",
       "      <td>0.0</td>\n",
       "      <td>0.0</td>\n",
       "      <td>0.0</td>\n",
       "      <td>0.0</td>\n",
       "      <td>0.0</td>\n",
       "      <td>0.0</td>\n",
       "      <td>0.000000</td>\n",
       "      <td>0.000000</td>\n",
       "      <td>0.000000</td>\n",
       "      <td>0.000000</td>\n",
       "      <td>0.000000</td>\n",
       "      <td>0.000000</td>\n",
       "      <td>0.000000</td>\n",
       "    </tr>\n",
       "    <tr>\n",
       "      <th>2020-01-25</th>\n",
       "      <td>ABW</td>\n",
       "      <td>0.0</td>\n",
       "      <td>Very_low</td>\n",
       "      <td>Netherlands</td>\n",
       "      <td>106766.0</td>\n",
       "      <td>0.0</td>\n",
       "      <td>0.0</td>\n",
       "      <td>0.0</td>\n",
       "      <td>0.0</td>\n",
       "      <td>0.0</td>\n",
       "      <td>0.0</td>\n",
       "      <td>0.0</td>\n",
       "      <td>0.000000</td>\n",
       "      <td>0.000000</td>\n",
       "      <td>0.000000</td>\n",
       "      <td>0.000000</td>\n",
       "      <td>0.000000</td>\n",
       "      <td>0.000000</td>\n",
       "      <td>0.000000</td>\n",
       "    </tr>\n",
       "    <tr>\n",
       "      <th>2020-01-26</th>\n",
       "      <td>ABW</td>\n",
       "      <td>0.0</td>\n",
       "      <td>Very_low</td>\n",
       "      <td>Netherlands</td>\n",
       "      <td>106766.0</td>\n",
       "      <td>0.0</td>\n",
       "      <td>0.0</td>\n",
       "      <td>0.0</td>\n",
       "      <td>0.0</td>\n",
       "      <td>0.0</td>\n",
       "      <td>0.0</td>\n",
       "      <td>0.0</td>\n",
       "      <td>0.000000</td>\n",
       "      <td>0.000000</td>\n",
       "      <td>0.000000</td>\n",
       "      <td>0.000000</td>\n",
       "      <td>0.000000</td>\n",
       "      <td>0.000000</td>\n",
       "      <td>0.000000</td>\n",
       "    </tr>\n",
       "    <tr>\n",
       "      <th>...</th>\n",
       "      <td>...</td>\n",
       "      <td>...</td>\n",
       "      <td>...</td>\n",
       "      <td>...</td>\n",
       "      <td>...</td>\n",
       "      <td>...</td>\n",
       "      <td>...</td>\n",
       "      <td>...</td>\n",
       "      <td>...</td>\n",
       "      <td>...</td>\n",
       "      <td>...</td>\n",
       "      <td>...</td>\n",
       "      <td>...</td>\n",
       "      <td>...</td>\n",
       "      <td>...</td>\n",
       "      <td>...</td>\n",
       "      <td>...</td>\n",
       "      <td>...</td>\n",
       "      <td>...</td>\n",
       "    </tr>\n",
       "    <tr>\n",
       "      <th>2020-10-08</th>\n",
       "      <td>ZWE</td>\n",
       "      <td>NaN</td>\n",
       "      <td>unknown</td>\n",
       "      <td>Zimbabwe</td>\n",
       "      <td>14862927.0</td>\n",
       "      <td>7951.0</td>\n",
       "      <td>229.0</td>\n",
       "      <td>6446.0</td>\n",
       "      <td>1276.0</td>\n",
       "      <td>32.0</td>\n",
       "      <td>0.0</td>\n",
       "      <td>5.0</td>\n",
       "      <td>53.495519</td>\n",
       "      <td>1.540746</td>\n",
       "      <td>43.369654</td>\n",
       "      <td>8.585119</td>\n",
       "      <td>0.215301</td>\n",
       "      <td>0.000000</td>\n",
       "      <td>0.033641</td>\n",
       "    </tr>\n",
       "    <tr>\n",
       "      <th>2020-10-09</th>\n",
       "      <td>ZWE</td>\n",
       "      <td>NaN</td>\n",
       "      <td>unknown</td>\n",
       "      <td>Zimbabwe</td>\n",
       "      <td>14862927.0</td>\n",
       "      <td>7994.0</td>\n",
       "      <td>229.0</td>\n",
       "      <td>6474.0</td>\n",
       "      <td>1291.0</td>\n",
       "      <td>43.0</td>\n",
       "      <td>0.0</td>\n",
       "      <td>28.0</td>\n",
       "      <td>53.784830</td>\n",
       "      <td>1.540746</td>\n",
       "      <td>43.558042</td>\n",
       "      <td>8.686041</td>\n",
       "      <td>0.289310</td>\n",
       "      <td>0.000000</td>\n",
       "      <td>0.188388</td>\n",
       "    </tr>\n",
       "    <tr>\n",
       "      <th>2020-10-10</th>\n",
       "      <td>ZWE</td>\n",
       "      <td>NaN</td>\n",
       "      <td>unknown</td>\n",
       "      <td>Zimbabwe</td>\n",
       "      <td>14862927.0</td>\n",
       "      <td>8010.0</td>\n",
       "      <td>230.0</td>\n",
       "      <td>6492.0</td>\n",
       "      <td>1288.0</td>\n",
       "      <td>16.0</td>\n",
       "      <td>1.0</td>\n",
       "      <td>18.0</td>\n",
       "      <td>53.892480</td>\n",
       "      <td>1.547474</td>\n",
       "      <td>43.679149</td>\n",
       "      <td>8.665857</td>\n",
       "      <td>0.107650</td>\n",
       "      <td>0.006728</td>\n",
       "      <td>0.121107</td>\n",
       "    </tr>\n",
       "    <tr>\n",
       "      <th>2020-10-11</th>\n",
       "      <td>ZWE</td>\n",
       "      <td>NaN</td>\n",
       "      <td>unknown</td>\n",
       "      <td>Zimbabwe</td>\n",
       "      <td>14862927.0</td>\n",
       "      <td>8011.0</td>\n",
       "      <td>230.0</td>\n",
       "      <td>6504.0</td>\n",
       "      <td>1277.0</td>\n",
       "      <td>1.0</td>\n",
       "      <td>0.0</td>\n",
       "      <td>12.0</td>\n",
       "      <td>53.899208</td>\n",
       "      <td>1.547474</td>\n",
       "      <td>43.759887</td>\n",
       "      <td>8.591847</td>\n",
       "      <td>0.006728</td>\n",
       "      <td>0.000000</td>\n",
       "      <td>0.080738</td>\n",
       "    </tr>\n",
       "    <tr>\n",
       "      <th>2020-10-12</th>\n",
       "      <td>ZWE</td>\n",
       "      <td>NaN</td>\n",
       "      <td>unknown</td>\n",
       "      <td>Zimbabwe</td>\n",
       "      <td>14862927.0</td>\n",
       "      <td>8021.0</td>\n",
       "      <td>230.0</td>\n",
       "      <td>7627.0</td>\n",
       "      <td>164.0</td>\n",
       "      <td>10.0</td>\n",
       "      <td>0.0</td>\n",
       "      <td>1123.0</td>\n",
       "      <td>53.966490</td>\n",
       "      <td>1.547474</td>\n",
       "      <td>51.315599</td>\n",
       "      <td>1.103417</td>\n",
       "      <td>0.067281</td>\n",
       "      <td>0.000000</td>\n",
       "      <td>7.555712</td>\n",
       "    </tr>\n",
       "  </tbody>\n",
       "</table>\n",
       "<p>48230 rows × 19 columns</p>\n",
       "</div>"
      ],
      "text/plain": [
       "           CountryCode  StringencyIndex StringencyIndex_factor Country_Region  \\\n",
       "Date                                                                            \n",
       "2020-01-22         ABW              0.0               Very_low    Netherlands   \n",
       "2020-01-23         ABW              0.0               Very_low    Netherlands   \n",
       "2020-01-24         ABW              0.0               Very_low    Netherlands   \n",
       "2020-01-25         ABW              0.0               Very_low    Netherlands   \n",
       "2020-01-26         ABW              0.0               Very_low    Netherlands   \n",
       "...                ...              ...                    ...            ...   \n",
       "2020-10-08         ZWE              NaN                unknown       Zimbabwe   \n",
       "2020-10-09         ZWE              NaN                unknown       Zimbabwe   \n",
       "2020-10-10         ZWE              NaN                unknown       Zimbabwe   \n",
       "2020-10-11         ZWE              NaN                unknown       Zimbabwe   \n",
       "2020-10-12         ZWE              NaN                unknown       Zimbabwe   \n",
       "\n",
       "            Population  Confirmed  Deaths  Recovered  Active  New_cases  \\\n",
       "Date                                                                      \n",
       "2020-01-22    106766.0        0.0     0.0        0.0     0.0        0.0   \n",
       "2020-01-23    106766.0        0.0     0.0        0.0     0.0        0.0   \n",
       "2020-01-24    106766.0        0.0     0.0        0.0     0.0        0.0   \n",
       "2020-01-25    106766.0        0.0     0.0        0.0     0.0        0.0   \n",
       "2020-01-26    106766.0        0.0     0.0        0.0     0.0        0.0   \n",
       "...                ...        ...     ...        ...     ...        ...   \n",
       "2020-10-08  14862927.0     7951.0   229.0     6446.0  1276.0       32.0   \n",
       "2020-10-09  14862927.0     7994.0   229.0     6474.0  1291.0       43.0   \n",
       "2020-10-10  14862927.0     8010.0   230.0     6492.0  1288.0       16.0   \n",
       "2020-10-11  14862927.0     8011.0   230.0     6504.0  1277.0        1.0   \n",
       "2020-10-12  14862927.0     8021.0   230.0     7627.0   164.0       10.0   \n",
       "\n",
       "            New_deaths  New_recovered  Confirmed_100K  Deaths_100K  \\\n",
       "Date                                                                 \n",
       "2020-01-22         0.0            0.0        0.000000     0.000000   \n",
       "2020-01-23         0.0            0.0        0.000000     0.000000   \n",
       "2020-01-24         0.0            0.0        0.000000     0.000000   \n",
       "2020-01-25         0.0            0.0        0.000000     0.000000   \n",
       "2020-01-26         0.0            0.0        0.000000     0.000000   \n",
       "...                ...            ...             ...          ...   \n",
       "2020-10-08         0.0            5.0       53.495519     1.540746   \n",
       "2020-10-09         0.0           28.0       53.784830     1.540746   \n",
       "2020-10-10         1.0           18.0       53.892480     1.547474   \n",
       "2020-10-11         0.0           12.0       53.899208     1.547474   \n",
       "2020-10-12         0.0         1123.0       53.966490     1.547474   \n",
       "\n",
       "            Recovered_100K  Active_100K  New_cases_100K  New_deaths_100K  \\\n",
       "Date                                                                       \n",
       "2020-01-22        0.000000     0.000000        0.000000         0.000000   \n",
       "2020-01-23        0.000000     0.000000        0.000000         0.000000   \n",
       "2020-01-24        0.000000     0.000000        0.000000         0.000000   \n",
       "2020-01-25        0.000000     0.000000        0.000000         0.000000   \n",
       "2020-01-26        0.000000     0.000000        0.000000         0.000000   \n",
       "...                    ...          ...             ...              ...   \n",
       "2020-10-08       43.369654     8.585119        0.215301         0.000000   \n",
       "2020-10-09       43.558042     8.686041        0.289310         0.000000   \n",
       "2020-10-10       43.679149     8.665857        0.107650         0.006728   \n",
       "2020-10-11       43.759887     8.591847        0.006728         0.000000   \n",
       "2020-10-12       51.315599     1.103417        0.067281         0.000000   \n",
       "\n",
       "            New_recovered_100K  \n",
       "Date                            \n",
       "2020-01-22            0.000000  \n",
       "2020-01-23            0.000000  \n",
       "2020-01-24            0.000000  \n",
       "2020-01-25            0.000000  \n",
       "2020-01-26            0.000000  \n",
       "...                        ...  \n",
       "2020-10-08            0.033641  \n",
       "2020-10-09            0.188388  \n",
       "2020-10-10            0.121107  \n",
       "2020-10-11            0.080738  \n",
       "2020-10-12            7.555712  \n",
       "\n",
       "[48230 rows x 19 columns]"
      ]
     },
     "execution_count": 53,
     "metadata": {},
     "output_type": "execute_result"
    }
   ],
   "source": [
    "my_complete_df['Confirmed_100K'] = my_complete_df['Confirmed'].multiply(100000, fill_value = 0).divide(my_complete_df['Population'], fill_value = 0)\n",
    "my_complete_df['Deaths_100K'] = my_complete_df['Deaths'].multiply(100000, fill_value = 0).divide(my_complete_df['Population'], fill_value = 0)\n",
    "my_complete_df['Recovered_100K'] = my_complete_df['Recovered'].multiply(100000, fill_value = 0).divide(my_complete_df['Population'], fill_value = 0)\n",
    "my_complete_df['Active_100K'] = my_complete_df['Active'].multiply(100000, fill_value = 0).divide(my_complete_df['Population'], fill_value = 0)\n",
    "my_complete_df['New_cases_100K'] = my_complete_df['New_cases'].multiply(100000, fill_value = 0).divide(my_complete_df['Population'], fill_value = 0)\n",
    "my_complete_df['New_deaths_100K'] = my_complete_df['New_deaths'].multiply(100000, fill_value = 0).divide(my_complete_df['Population'], fill_value = 0)\n",
    "my_complete_df['New_recovered_100K'] = my_complete_df['New_recovered'].multiply(100000, fill_value = 0).divide(my_complete_df['Population'], fill_value = 0)\n",
    "my_complete_df"
   ]
  },
  {
   "cell_type": "code",
   "execution_count": null,
   "metadata": {
    "id": "5oCBPzSd9LPr"
   },
   "outputs": [],
   "source": []
  },
  {
   "cell_type": "code",
   "execution_count": null,
   "metadata": {
    "id": "39RaU7Iq9LP1"
   },
   "outputs": [],
   "source": []
  },
  {
   "cell_type": "code",
   "execution_count": null,
   "metadata": {
    "id": "uf2QcMJR9LQE"
   },
   "outputs": [],
   "source": []
  },
  {
   "cell_type": "code",
   "execution_count": null,
   "metadata": {
    "id": "kPcEZsSZ9LQR"
   },
   "outputs": [],
   "source": []
  },
  {
   "cell_type": "markdown",
   "metadata": {},
   "source": [
    "# NOTE: This old visualization chunk section below can be removed and use the new one you have created in the exploratory analysis"
   ]
  },
  {
   "cell_type": "markdown",
   "metadata": {
    "id": "4qmgYacLp5TO"
   },
   "source": [
    "## Visualizing Covid data by individual countries\n",
    "To visualize a country performance with the Covid assign a country code to the variable my_country from the following diccionary of countries names and codes"
   ]
  },
  {
   "cell_type": "code",
   "execution_count": 54,
   "metadata": {
    "id": "R0jomGJY9LQY"
   },
   "outputs": [],
   "source": [
    "my_countries_dicc = my_complete_df[['CountryCode', 'Country_Region']].drop_duplicates().reset_index()[['CountryCode', 'Country_Region']].set_index('CountryCode').to_dict()\n",
    "\n",
    "#my_countries_dicc # to see al country codes and names uncomment this line"
   ]
  },
  {
   "cell_type": "markdown",
   "metadata": {
    "id": "VJvKbMqF9LQd"
   },
   "source": [
    "Here we take an example visualizing the dataset from Switzerland (CHE)"
   ]
  },
  {
   "cell_type": "code",
   "execution_count": 55,
   "metadata": {
    "colab": {
     "base_uri": "https://localhost:8080/",
     "height": 640
    },
    "id": "h5Aze5Cq9LQe",
    "outputId": "3d6816b6-276c-457f-c0e6-59f7b5e3e002"
   },
   "outputs": [
    {
     "data": {
      "text/html": [
       "<div>\n",
       "<style scoped>\n",
       "    .dataframe tbody tr th:only-of-type {\n",
       "        vertical-align: middle;\n",
       "    }\n",
       "\n",
       "    .dataframe tbody tr th {\n",
       "        vertical-align: top;\n",
       "    }\n",
       "\n",
       "    .dataframe thead th {\n",
       "        text-align: right;\n",
       "    }\n",
       "</style>\n",
       "<table border=\"1\" class=\"dataframe\">\n",
       "  <thead>\n",
       "    <tr style=\"text-align: right;\">\n",
       "      <th></th>\n",
       "      <th>CountryCode</th>\n",
       "      <th>StringencyIndex</th>\n",
       "      <th>StringencyIndex_factor</th>\n",
       "      <th>Country_Region</th>\n",
       "      <th>Population</th>\n",
       "      <th>Confirmed</th>\n",
       "      <th>Deaths</th>\n",
       "      <th>Recovered</th>\n",
       "      <th>Active</th>\n",
       "      <th>New_cases</th>\n",
       "      <th>New_deaths</th>\n",
       "      <th>New_recovered</th>\n",
       "      <th>Confirmed_100K</th>\n",
       "      <th>Deaths_100K</th>\n",
       "      <th>Recovered_100K</th>\n",
       "      <th>Active_100K</th>\n",
       "      <th>New_cases_100K</th>\n",
       "      <th>New_deaths_100K</th>\n",
       "      <th>New_recovered_100K</th>\n",
       "    </tr>\n",
       "    <tr>\n",
       "      <th>Date</th>\n",
       "      <th></th>\n",
       "      <th></th>\n",
       "      <th></th>\n",
       "      <th></th>\n",
       "      <th></th>\n",
       "      <th></th>\n",
       "      <th></th>\n",
       "      <th></th>\n",
       "      <th></th>\n",
       "      <th></th>\n",
       "      <th></th>\n",
       "      <th></th>\n",
       "      <th></th>\n",
       "      <th></th>\n",
       "      <th></th>\n",
       "      <th></th>\n",
       "      <th></th>\n",
       "      <th></th>\n",
       "      <th></th>\n",
       "    </tr>\n",
       "  </thead>\n",
       "  <tbody>\n",
       "    <tr>\n",
       "      <th>2020-01-22</th>\n",
       "      <td>COL</td>\n",
       "      <td>8.33</td>\n",
       "      <td>Very_low</td>\n",
       "      <td>Colombia</td>\n",
       "      <td>99141018.0</td>\n",
       "      <td>0.0</td>\n",
       "      <td>0.0</td>\n",
       "      <td>0.0</td>\n",
       "      <td>0.0</td>\n",
       "      <td>0.0</td>\n",
       "      <td>0.0</td>\n",
       "      <td>0.0</td>\n",
       "      <td>0.000000</td>\n",
       "      <td>0.000000</td>\n",
       "      <td>0.000000</td>\n",
       "      <td>0.000000</td>\n",
       "      <td>0.000000</td>\n",
       "      <td>0.000000</td>\n",
       "      <td>0.000000</td>\n",
       "    </tr>\n",
       "    <tr>\n",
       "      <th>2020-01-23</th>\n",
       "      <td>COL</td>\n",
       "      <td>8.33</td>\n",
       "      <td>Very_low</td>\n",
       "      <td>Colombia</td>\n",
       "      <td>99141018.0</td>\n",
       "      <td>0.0</td>\n",
       "      <td>0.0</td>\n",
       "      <td>0.0</td>\n",
       "      <td>0.0</td>\n",
       "      <td>0.0</td>\n",
       "      <td>0.0</td>\n",
       "      <td>0.0</td>\n",
       "      <td>0.000000</td>\n",
       "      <td>0.000000</td>\n",
       "      <td>0.000000</td>\n",
       "      <td>0.000000</td>\n",
       "      <td>0.000000</td>\n",
       "      <td>0.000000</td>\n",
       "      <td>0.000000</td>\n",
       "    </tr>\n",
       "    <tr>\n",
       "      <th>2020-01-24</th>\n",
       "      <td>COL</td>\n",
       "      <td>8.33</td>\n",
       "      <td>Very_low</td>\n",
       "      <td>Colombia</td>\n",
       "      <td>99141018.0</td>\n",
       "      <td>0.0</td>\n",
       "      <td>0.0</td>\n",
       "      <td>0.0</td>\n",
       "      <td>0.0</td>\n",
       "      <td>0.0</td>\n",
       "      <td>0.0</td>\n",
       "      <td>0.0</td>\n",
       "      <td>0.000000</td>\n",
       "      <td>0.000000</td>\n",
       "      <td>0.000000</td>\n",
       "      <td>0.000000</td>\n",
       "      <td>0.000000</td>\n",
       "      <td>0.000000</td>\n",
       "      <td>0.000000</td>\n",
       "    </tr>\n",
       "    <tr>\n",
       "      <th>2020-01-25</th>\n",
       "      <td>COL</td>\n",
       "      <td>8.33</td>\n",
       "      <td>Very_low</td>\n",
       "      <td>Colombia</td>\n",
       "      <td>99141018.0</td>\n",
       "      <td>0.0</td>\n",
       "      <td>0.0</td>\n",
       "      <td>0.0</td>\n",
       "      <td>0.0</td>\n",
       "      <td>0.0</td>\n",
       "      <td>0.0</td>\n",
       "      <td>0.0</td>\n",
       "      <td>0.000000</td>\n",
       "      <td>0.000000</td>\n",
       "      <td>0.000000</td>\n",
       "      <td>0.000000</td>\n",
       "      <td>0.000000</td>\n",
       "      <td>0.000000</td>\n",
       "      <td>0.000000</td>\n",
       "    </tr>\n",
       "    <tr>\n",
       "      <th>2020-01-26</th>\n",
       "      <td>COL</td>\n",
       "      <td>8.33</td>\n",
       "      <td>Very_low</td>\n",
       "      <td>Colombia</td>\n",
       "      <td>99141018.0</td>\n",
       "      <td>0.0</td>\n",
       "      <td>0.0</td>\n",
       "      <td>0.0</td>\n",
       "      <td>0.0</td>\n",
       "      <td>0.0</td>\n",
       "      <td>0.0</td>\n",
       "      <td>0.0</td>\n",
       "      <td>0.000000</td>\n",
       "      <td>0.000000</td>\n",
       "      <td>0.000000</td>\n",
       "      <td>0.000000</td>\n",
       "      <td>0.000000</td>\n",
       "      <td>0.000000</td>\n",
       "      <td>0.000000</td>\n",
       "    </tr>\n",
       "    <tr>\n",
       "      <th>...</th>\n",
       "      <td>...</td>\n",
       "      <td>...</td>\n",
       "      <td>...</td>\n",
       "      <td>...</td>\n",
       "      <td>...</td>\n",
       "      <td>...</td>\n",
       "      <td>...</td>\n",
       "      <td>...</td>\n",
       "      <td>...</td>\n",
       "      <td>...</td>\n",
       "      <td>...</td>\n",
       "      <td>...</td>\n",
       "      <td>...</td>\n",
       "      <td>...</td>\n",
       "      <td>...</td>\n",
       "      <td>...</td>\n",
       "      <td>...</td>\n",
       "      <td>...</td>\n",
       "      <td>...</td>\n",
       "    </tr>\n",
       "    <tr>\n",
       "      <th>2020-10-08</th>\n",
       "      <td>COL</td>\n",
       "      <td>50.93</td>\n",
       "      <td>Middle</td>\n",
       "      <td>Colombia</td>\n",
       "      <td>99141018.0</td>\n",
       "      <td>886179.0</td>\n",
       "      <td>27180.0</td>\n",
       "      <td>773973.0</td>\n",
       "      <td>85026.0</td>\n",
       "      <td>8495.0</td>\n",
       "      <td>0.0</td>\n",
       "      <td>0.0</td>\n",
       "      <td>893.857071</td>\n",
       "      <td>27.415494</td>\n",
       "      <td>780.678891</td>\n",
       "      <td>85.762686</td>\n",
       "      <td>8.568603</td>\n",
       "      <td>0.000000</td>\n",
       "      <td>0.000000</td>\n",
       "    </tr>\n",
       "    <tr>\n",
       "      <th>2020-10-09</th>\n",
       "      <td>COL</td>\n",
       "      <td>50.93</td>\n",
       "      <td>Middle</td>\n",
       "      <td>Colombia</td>\n",
       "      <td>99141018.0</td>\n",
       "      <td>894300.0</td>\n",
       "      <td>27495.0</td>\n",
       "      <td>780547.0</td>\n",
       "      <td>86258.0</td>\n",
       "      <td>8121.0</td>\n",
       "      <td>315.0</td>\n",
       "      <td>6574.0</td>\n",
       "      <td>902.048434</td>\n",
       "      <td>27.733223</td>\n",
       "      <td>787.309850</td>\n",
       "      <td>87.005360</td>\n",
       "      <td>8.191362</td>\n",
       "      <td>0.317729</td>\n",
       "      <td>6.630959</td>\n",
       "    </tr>\n",
       "    <tr>\n",
       "      <th>2020-10-10</th>\n",
       "      <td>COL</td>\n",
       "      <td>NaN</td>\n",
       "      <td>unknown</td>\n",
       "      <td>Colombia</td>\n",
       "      <td>99141018.0</td>\n",
       "      <td>902747.0</td>\n",
       "      <td>27660.0</td>\n",
       "      <td>783131.0</td>\n",
       "      <td>91956.0</td>\n",
       "      <td>8447.0</td>\n",
       "      <td>165.0</td>\n",
       "      <td>2584.0</td>\n",
       "      <td>910.568621</td>\n",
       "      <td>27.899653</td>\n",
       "      <td>789.916238</td>\n",
       "      <td>92.752729</td>\n",
       "      <td>8.520187</td>\n",
       "      <td>0.166430</td>\n",
       "      <td>2.606388</td>\n",
       "    </tr>\n",
       "    <tr>\n",
       "      <th>2020-10-11</th>\n",
       "      <td>COL</td>\n",
       "      <td>NaN</td>\n",
       "      <td>unknown</td>\n",
       "      <td>Colombia</td>\n",
       "      <td>99141018.0</td>\n",
       "      <td>911316.0</td>\n",
       "      <td>27834.0</td>\n",
       "      <td>789787.0</td>\n",
       "      <td>93695.0</td>\n",
       "      <td>8569.0</td>\n",
       "      <td>174.0</td>\n",
       "      <td>6656.0</td>\n",
       "      <td>919.211864</td>\n",
       "      <td>28.075161</td>\n",
       "      <td>796.629908</td>\n",
       "      <td>94.506796</td>\n",
       "      <td>8.643244</td>\n",
       "      <td>0.175508</td>\n",
       "      <td>6.713669</td>\n",
       "    </tr>\n",
       "    <tr>\n",
       "      <th>2020-10-12</th>\n",
       "      <td>COL</td>\n",
       "      <td>NaN</td>\n",
       "      <td>unknown</td>\n",
       "      <td>Colombia</td>\n",
       "      <td>99141018.0</td>\n",
       "      <td>919084.0</td>\n",
       "      <td>27985.0</td>\n",
       "      <td>798396.0</td>\n",
       "      <td>92703.0</td>\n",
       "      <td>7768.0</td>\n",
       "      <td>151.0</td>\n",
       "      <td>8609.0</td>\n",
       "      <td>927.047168</td>\n",
       "      <td>28.227469</td>\n",
       "      <td>805.313498</td>\n",
       "      <td>93.506201</td>\n",
       "      <td>7.835304</td>\n",
       "      <td>0.152308</td>\n",
       "      <td>8.683590</td>\n",
       "    </tr>\n",
       "  </tbody>\n",
       "</table>\n",
       "<p>265 rows × 19 columns</p>\n",
       "</div>"
      ],
      "text/plain": [
       "           CountryCode  StringencyIndex StringencyIndex_factor Country_Region  \\\n",
       "Date                                                                            \n",
       "2020-01-22         COL             8.33               Very_low       Colombia   \n",
       "2020-01-23         COL             8.33               Very_low       Colombia   \n",
       "2020-01-24         COL             8.33               Very_low       Colombia   \n",
       "2020-01-25         COL             8.33               Very_low       Colombia   \n",
       "2020-01-26         COL             8.33               Very_low       Colombia   \n",
       "...                ...              ...                    ...            ...   \n",
       "2020-10-08         COL            50.93                 Middle       Colombia   \n",
       "2020-10-09         COL            50.93                 Middle       Colombia   \n",
       "2020-10-10         COL              NaN                unknown       Colombia   \n",
       "2020-10-11         COL              NaN                unknown       Colombia   \n",
       "2020-10-12         COL              NaN                unknown       Colombia   \n",
       "\n",
       "            Population  Confirmed   Deaths  Recovered   Active  New_cases  \\\n",
       "Date                                                                        \n",
       "2020-01-22  99141018.0        0.0      0.0        0.0      0.0        0.0   \n",
       "2020-01-23  99141018.0        0.0      0.0        0.0      0.0        0.0   \n",
       "2020-01-24  99141018.0        0.0      0.0        0.0      0.0        0.0   \n",
       "2020-01-25  99141018.0        0.0      0.0        0.0      0.0        0.0   \n",
       "2020-01-26  99141018.0        0.0      0.0        0.0      0.0        0.0   \n",
       "...                ...        ...      ...        ...      ...        ...   \n",
       "2020-10-08  99141018.0   886179.0  27180.0   773973.0  85026.0     8495.0   \n",
       "2020-10-09  99141018.0   894300.0  27495.0   780547.0  86258.0     8121.0   \n",
       "2020-10-10  99141018.0   902747.0  27660.0   783131.0  91956.0     8447.0   \n",
       "2020-10-11  99141018.0   911316.0  27834.0   789787.0  93695.0     8569.0   \n",
       "2020-10-12  99141018.0   919084.0  27985.0   798396.0  92703.0     7768.0   \n",
       "\n",
       "            New_deaths  New_recovered  Confirmed_100K  Deaths_100K  \\\n",
       "Date                                                                 \n",
       "2020-01-22         0.0            0.0        0.000000     0.000000   \n",
       "2020-01-23         0.0            0.0        0.000000     0.000000   \n",
       "2020-01-24         0.0            0.0        0.000000     0.000000   \n",
       "2020-01-25         0.0            0.0        0.000000     0.000000   \n",
       "2020-01-26         0.0            0.0        0.000000     0.000000   \n",
       "...                ...            ...             ...          ...   \n",
       "2020-10-08         0.0            0.0      893.857071    27.415494   \n",
       "2020-10-09       315.0         6574.0      902.048434    27.733223   \n",
       "2020-10-10       165.0         2584.0      910.568621    27.899653   \n",
       "2020-10-11       174.0         6656.0      919.211864    28.075161   \n",
       "2020-10-12       151.0         8609.0      927.047168    28.227469   \n",
       "\n",
       "            Recovered_100K  Active_100K  New_cases_100K  New_deaths_100K  \\\n",
       "Date                                                                       \n",
       "2020-01-22        0.000000     0.000000        0.000000         0.000000   \n",
       "2020-01-23        0.000000     0.000000        0.000000         0.000000   \n",
       "2020-01-24        0.000000     0.000000        0.000000         0.000000   \n",
       "2020-01-25        0.000000     0.000000        0.000000         0.000000   \n",
       "2020-01-26        0.000000     0.000000        0.000000         0.000000   \n",
       "...                    ...          ...             ...              ...   \n",
       "2020-10-08      780.678891    85.762686        8.568603         0.000000   \n",
       "2020-10-09      787.309850    87.005360        8.191362         0.317729   \n",
       "2020-10-10      789.916238    92.752729        8.520187         0.166430   \n",
       "2020-10-11      796.629908    94.506796        8.643244         0.175508   \n",
       "2020-10-12      805.313498    93.506201        7.835304         0.152308   \n",
       "\n",
       "            New_recovered_100K  \n",
       "Date                            \n",
       "2020-01-22            0.000000  \n",
       "2020-01-23            0.000000  \n",
       "2020-01-24            0.000000  \n",
       "2020-01-25            0.000000  \n",
       "2020-01-26            0.000000  \n",
       "...                        ...  \n",
       "2020-10-08            0.000000  \n",
       "2020-10-09            6.630959  \n",
       "2020-10-10            2.606388  \n",
       "2020-10-11            6.713669  \n",
       "2020-10-12            8.683590  \n",
       "\n",
       "[265 rows x 19 columns]"
      ]
     },
     "execution_count": 55,
     "metadata": {},
     "output_type": "execute_result"
    }
   ],
   "source": [
    "country = 'COL'\n",
    "single_country_covid_df = my_complete_df[my_complete_df['CountryCode'] == country]\n",
    "single_country_covid_df"
   ]
  },
  {
   "cell_type": "code",
   "execution_count": 56,
   "metadata": {
    "colab": {
     "base_uri": "https://localhost:8080/",
     "height": 1000
    },
    "id": "PHjqxmCu9LQm",
    "outputId": "4203c143-1637-4be6-fdcd-7aba24ed79bf"
   },
   "outputs": [],
   "source": [
    "# my_vars_for_ploting = ['StringencyIndex', 'New_cases_100K', 'New_deaths_100K', 'New_recovered_100K', 'Confirmed_100K', 'Deaths_100K', 'Recovered_100K', 'Active_100K']\n",
    "\n",
    "# i = 0\n",
    "# for variables in range(len(my_vars_for_ploting)):\n",
    "#     single_country_covid_df.plot(y=my_vars_for_ploting[i],\n",
    "#                                  kind=\"line\",\n",
    "# #                                  c=['c', 'b'], \n",
    "#                                  c = 'c',\n",
    "#                                  label = my_vars_for_ploting[i]) # = ['StringencyIndex', 'New cases', 'New deaths', 'New recovered', 'Confirmed', 'Deaths', 'Recovered']])\n",
    "#     plt.title('Country = ' + my_countries_dicc['Country_Region'][country])\n",
    "#     i+=1\n",
    "# plt.legend()\n",
    "# plt.show()"
   ]
  },
  {
   "cell_type": "markdown",
   "metadata": {
    "id": "l8qDH34Xp5TX"
   },
   "source": [
    "# 4. Colecting and merging Socieconomical data from the WorldBank\n",
    "We extract socieconomical data such is GDP and Income level from the Worldbank datasets via API query request protocol.\n",
    "\n",
    "**Note**: retrieving *GDP* and *income level* doesn't seem to be so straightforward in a single call. So may be the strategy would be to make a call for each dataset and then merge then."
   ]
  },
  {
   "cell_type": "code",
   "execution_count": 57,
   "metadata": {},
   "outputs": [],
   "source": [
    "my_home_url = 'http://api.worldbank.org/v2/country/all/indicator/NY.GDP.MKTP.CD'\n",
    "my_params = {'date' : '2019',\n",
    "            'incomelevel' :'',\n",
    "            'downloadformat' : 'csv',\n",
    "            'per_page' : '304'} # dic with the parameters of interest\n",
    "filename_2 = path + '/' + 'API_' + os.path.basename(my_home_url) + '_DS2_EN_csv_v2_1482525.zip'\n",
    "\n",
    "\n",
    "\n",
    "if os.path.exists(filename_2):\n",
    "    os.remove(filename_2)\n",
    "    r_GDP = requests.get(my_home_url, params = my_params) # make the data request to the API\n",
    "    my_zip_file = wget.download(r_GDP.url)\n",
    "else:\n",
    "    r_GDP = requests.get(my_home_url, params = my_params)\n",
    "    my_zip_file = wget.download(r_GDP.url)\n",
    "    \n",
    "# IMPORTANT: if error loading files bacause link is down, don't run this code chunk.\n",
    "# Manually download the full directory content of this repo in your colab session, including the .zip file and run the next chunk\n",
    "# It will read only the local data in the repo from the last time this script was run and updated"
   ]
  },
  {
   "cell_type": "code",
   "execution_count": 58,
   "metadata": {},
   "outputs": [],
   "source": [
    "# Extract only the file with the data, Note: in he zip file there are alos a other files containing metadata\n",
    "with ZipFile(os.path.basename(filename_2), 'r') as zipObj:\n",
    "    #print(zipObj.namelist())\n",
    "    zipObj.extract('API_NY.GDP.MKTP.CD_DS2_EN_csv_v2_1482525.csv')\n"
   ]
  },
  {
   "cell_type": "code",
   "execution_count": 59,
   "metadata": {
    "colab": {
     "base_uri": "https://localhost:8080/",
     "height": 419
    },
    "id": "QGtrutM1p5TX",
    "outputId": "07a928eb-c7bd-4eb6-a029-9bdeebdc1b7a"
   },
   "outputs": [
    {
     "data": {
      "text/html": [
       "<div>\n",
       "<style scoped>\n",
       "    .dataframe tbody tr th:only-of-type {\n",
       "        vertical-align: middle;\n",
       "    }\n",
       "\n",
       "    .dataframe tbody tr th {\n",
       "        vertical-align: top;\n",
       "    }\n",
       "\n",
       "    .dataframe thead th {\n",
       "        text-align: right;\n",
       "    }\n",
       "</style>\n",
       "<table border=\"1\" class=\"dataframe\">\n",
       "  <thead>\n",
       "    <tr style=\"text-align: right;\">\n",
       "      <th></th>\n",
       "      <th>Country Code</th>\n",
       "      <th>2019</th>\n",
       "    </tr>\n",
       "  </thead>\n",
       "  <tbody>\n",
       "    <tr>\n",
       "      <th>0</th>\n",
       "      <td>ABW</td>\n",
       "      <td>NaN</td>\n",
       "    </tr>\n",
       "    <tr>\n",
       "      <th>1</th>\n",
       "      <td>AFG</td>\n",
       "      <td>1.910135e+10</td>\n",
       "    </tr>\n",
       "    <tr>\n",
       "      <th>2</th>\n",
       "      <td>AGO</td>\n",
       "      <td>9.463542e+10</td>\n",
       "    </tr>\n",
       "    <tr>\n",
       "      <th>3</th>\n",
       "      <td>ALB</td>\n",
       "      <td>1.527808e+10</td>\n",
       "    </tr>\n",
       "    <tr>\n",
       "      <th>4</th>\n",
       "      <td>AND</td>\n",
       "      <td>3.154058e+09</td>\n",
       "    </tr>\n",
       "    <tr>\n",
       "      <th>...</th>\n",
       "      <td>...</td>\n",
       "      <td>...</td>\n",
       "    </tr>\n",
       "    <tr>\n",
       "      <th>259</th>\n",
       "      <td>XKX</td>\n",
       "      <td>7.926108e+09</td>\n",
       "    </tr>\n",
       "    <tr>\n",
       "      <th>260</th>\n",
       "      <td>YEM</td>\n",
       "      <td>NaN</td>\n",
       "    </tr>\n",
       "    <tr>\n",
       "      <th>261</th>\n",
       "      <td>ZAF</td>\n",
       "      <td>3.514316e+11</td>\n",
       "    </tr>\n",
       "    <tr>\n",
       "      <th>262</th>\n",
       "      <td>ZMB</td>\n",
       "      <td>2.306472e+10</td>\n",
       "    </tr>\n",
       "    <tr>\n",
       "      <th>263</th>\n",
       "      <td>ZWE</td>\n",
       "      <td>2.144076e+10</td>\n",
       "    </tr>\n",
       "  </tbody>\n",
       "</table>\n",
       "<p>264 rows × 2 columns</p>\n",
       "</div>"
      ],
      "text/plain": [
       "    Country Code          2019\n",
       "0            ABW           NaN\n",
       "1            AFG  1.910135e+10\n",
       "2            AGO  9.463542e+10\n",
       "3            ALB  1.527808e+10\n",
       "4            AND  3.154058e+09\n",
       "..           ...           ...\n",
       "259          XKX  7.926108e+09\n",
       "260          YEM           NaN\n",
       "261          ZAF  3.514316e+11\n",
       "262          ZMB  2.306472e+10\n",
       "263          ZWE  2.144076e+10\n",
       "\n",
       "[264 rows x 2 columns]"
      ]
     },
     "execution_count": 59,
     "metadata": {},
     "output_type": "execute_result"
    }
   ],
   "source": [
    "GDP_raw_df = pd.read_csv('API_NY.GDP.MKTP.CD_DS2_EN_csv_v2_1482525.csv',\n",
    "                        header = 2,\n",
    "                        usecols = [1, 4])\n",
    "GDP_raw_df"
   ]
  },
  {
   "cell_type": "code",
   "execution_count": 60,
   "metadata": {
    "colab": {
     "base_uri": "https://localhost:8080/",
     "height": 204
    },
    "id": "AnwLXoXyp5TZ",
    "outputId": "84f58de9-0c74-4153-b64f-e21fdda75627"
   },
   "outputs": [
    {
     "name": "stdout",
     "output_type": "stream",
     "text": [
      "<class 'pandas.core.frame.DataFrame'>\n",
      "RangeIndex: 264 entries, 0 to 263\n",
      "Data columns (total 2 columns):\n",
      " #   Column        Non-Null Count  Dtype  \n",
      "---  ------        --------------  -----  \n",
      " 0   Country Code  264 non-null    object \n",
      " 1   2019          223 non-null    float64\n",
      "dtypes: float64(1), object(1)\n",
      "memory usage: 4.2+ KB\n"
     ]
    }
   ],
   "source": [
    "GDP_raw_df.info(verbose = True)"
   ]
  },
  {
   "cell_type": "code",
   "execution_count": 61,
   "metadata": {
    "colab": {
     "base_uri": "https://localhost:8080/",
     "height": 419
    },
    "id": "BqvPpijr9LQ_",
    "outputId": "e65d848e-6b47-4b01-ad28-ad3bced9e070"
   },
   "outputs": [
    {
     "data": {
      "text/html": [
       "<div>\n",
       "<style scoped>\n",
       "    .dataframe tbody tr th:only-of-type {\n",
       "        vertical-align: middle;\n",
       "    }\n",
       "\n",
       "    .dataframe tbody tr th {\n",
       "        vertical-align: top;\n",
       "    }\n",
       "\n",
       "    .dataframe thead th {\n",
       "        text-align: right;\n",
       "    }\n",
       "</style>\n",
       "<table border=\"1\" class=\"dataframe\">\n",
       "  <thead>\n",
       "    <tr style=\"text-align: right;\">\n",
       "      <th></th>\n",
       "      <th>CountryCode</th>\n",
       "      <th>GDP_in_USD</th>\n",
       "    </tr>\n",
       "  </thead>\n",
       "  <tbody>\n",
       "    <tr>\n",
       "      <th>0</th>\n",
       "      <td>ABW</td>\n",
       "      <td>NaN</td>\n",
       "    </tr>\n",
       "    <tr>\n",
       "      <th>1</th>\n",
       "      <td>AFG</td>\n",
       "      <td>1.910135e+10</td>\n",
       "    </tr>\n",
       "    <tr>\n",
       "      <th>2</th>\n",
       "      <td>AGO</td>\n",
       "      <td>9.463542e+10</td>\n",
       "    </tr>\n",
       "    <tr>\n",
       "      <th>3</th>\n",
       "      <td>ALB</td>\n",
       "      <td>1.527808e+10</td>\n",
       "    </tr>\n",
       "    <tr>\n",
       "      <th>4</th>\n",
       "      <td>AND</td>\n",
       "      <td>3.154058e+09</td>\n",
       "    </tr>\n",
       "    <tr>\n",
       "      <th>...</th>\n",
       "      <td>...</td>\n",
       "      <td>...</td>\n",
       "    </tr>\n",
       "    <tr>\n",
       "      <th>259</th>\n",
       "      <td>XKX</td>\n",
       "      <td>7.926108e+09</td>\n",
       "    </tr>\n",
       "    <tr>\n",
       "      <th>260</th>\n",
       "      <td>YEM</td>\n",
       "      <td>NaN</td>\n",
       "    </tr>\n",
       "    <tr>\n",
       "      <th>261</th>\n",
       "      <td>ZAF</td>\n",
       "      <td>3.514316e+11</td>\n",
       "    </tr>\n",
       "    <tr>\n",
       "      <th>262</th>\n",
       "      <td>ZMB</td>\n",
       "      <td>2.306472e+10</td>\n",
       "    </tr>\n",
       "    <tr>\n",
       "      <th>263</th>\n",
       "      <td>ZWE</td>\n",
       "      <td>2.144076e+10</td>\n",
       "    </tr>\n",
       "  </tbody>\n",
       "</table>\n",
       "<p>264 rows × 2 columns</p>\n",
       "</div>"
      ],
      "text/plain": [
       "    CountryCode    GDP_in_USD\n",
       "0           ABW           NaN\n",
       "1           AFG  1.910135e+10\n",
       "2           AGO  9.463542e+10\n",
       "3           ALB  1.527808e+10\n",
       "4           AND  3.154058e+09\n",
       "..          ...           ...\n",
       "259         XKX  7.926108e+09\n",
       "260         YEM           NaN\n",
       "261         ZAF  3.514316e+11\n",
       "262         ZMB  2.306472e+10\n",
       "263         ZWE  2.144076e+10\n",
       "\n",
       "[264 rows x 2 columns]"
      ]
     },
     "execution_count": 61,
     "metadata": {},
     "output_type": "execute_result"
    }
   ],
   "source": [
    "# 1. fixing names in GDP_raw_df dataset\n",
    "\n",
    "GDP_correct_names = {'Country Code' : 'CountryCode',\n",
    "                     '2019' : 'GDP_in_USD'}\n",
    "GDP_raw_df.rename(columns = GDP_correct_names, inplace= True)\n",
    "GDP_raw_df"
   ]
  },
  {
   "cell_type": "code",
   "execution_count": 62,
   "metadata": {
    "colab": {
     "base_uri": "https://localhost:8080/",
     "height": 34
    },
    "id": "qUoIc-Ri9LRG",
    "outputId": "a29e7343-a778-48ab-bc37-c95cb3d627cd"
   },
   "outputs": [
    {
     "data": {
      "text/plain": [
       "(86, 2)"
      ]
     },
     "execution_count": 62,
     "metadata": {},
     "output_type": "execute_result"
    }
   ],
   "source": [
    "GDP_raw_df[~GDP_raw_df['CountryCode'].isin(my_complete_df['CountryCode'])].drop_duplicates().shape #this are the 88 regions or dependencies from the GDP dataset that are not in the Covid df"
   ]
  },
  {
   "cell_type": "code",
   "execution_count": 63,
   "metadata": {
    "colab": {
     "base_uri": "https://localhost:8080/",
     "height": 34
    },
    "id": "dQ7cLINn9LRO",
    "outputId": "8b4e5181-672c-474c-977b-0ca58b23accb"
   },
   "outputs": [
    {
     "data": {
      "text/plain": [
       "(178, 1)"
      ]
     },
     "execution_count": 63,
     "metadata": {},
     "output_type": "execute_result"
    }
   ],
   "source": [
    "my_complete_df[my_complete_df['CountryCode'].isin(GDP_raw_df['CountryCode'])][['CountryCode']].drop_duplicates().shape"
   ]
  },
  {
   "cell_type": "markdown",
   "metadata": {
    "id": "TxG7JZ7K9LRU"
   },
   "source": [
    "We select only those countries from the GDP df that are present in the covid dataframe to be merged with the covid full dataframe"
   ]
  },
  {
   "cell_type": "code",
   "execution_count": 64,
   "metadata": {
    "colab": {
     "base_uri": "https://localhost:8080/",
     "height": 204
    },
    "id": "4Rx0Lkvu9LRV",
    "outputId": "bc49806d-2d3c-421e-fd47-7ea8917adfa4"
   },
   "outputs": [
    {
     "name": "stdout",
     "output_type": "stream",
     "text": [
      "<class 'pandas.core.frame.DataFrame'>\n",
      "Int64Index: 178 entries, 0 to 263\n",
      "Data columns (total 2 columns):\n",
      " #   Column       Non-Null Count  Dtype  \n",
      "---  ------       --------------  -----  \n",
      " 0   CountryCode  178 non-null    object \n",
      " 1   GDP_in_USD   158 non-null    float64\n",
      "dtypes: float64(1), object(1)\n",
      "memory usage: 4.2+ KB\n"
     ]
    }
   ],
   "source": [
    "GDP_raw_df = GDP_raw_df[GDP_raw_df['CountryCode'].isin(my_complete_df['CountryCode'])]\n",
    "GDP_raw_df.info()"
   ]
  },
  {
   "cell_type": "markdown",
   "metadata": {
    "id": "YmlaUF3O9LRc"
   },
   "source": [
    "### Join the GDP data to the covid df"
   ]
  },
  {
   "cell_type": "code",
   "execution_count": 65,
   "metadata": {
    "colab": {
     "base_uri": "https://localhost:8080/",
     "height": 459
    },
    "id": "INkwkEn99LRd",
    "outputId": "baf01ded-f589-489e-fd35-2326119b2a41"
   },
   "outputs": [
    {
     "name": "stdout",
     "output_type": "stream",
     "text": [
      "<class 'pandas.core.frame.DataFrame'>\n",
      "DatetimeIndex: 48230 entries, 2020-01-22 to 2020-10-12\n",
      "Data columns (total 20 columns):\n",
      " #   Column                  Non-Null Count  Dtype  \n",
      "---  ------                  --------------  -----  \n",
      " 0   CountryCode             48230 non-null  object \n",
      " 1   StringencyIndex         46511 non-null  float64\n",
      " 2   StringencyIndex_factor  48230 non-null  object \n",
      " 3   Country_Region          48230 non-null  object \n",
      " 4   Population              48230 non-null  float64\n",
      " 5   Confirmed               48230 non-null  float64\n",
      " 6   Deaths                  48230 non-null  float64\n",
      " 7   Recovered               48230 non-null  float64\n",
      " 8   Active                  48230 non-null  float64\n",
      " 9   New_cases               48230 non-null  float64\n",
      " 10  New_deaths              48230 non-null  float64\n",
      " 11  New_recovered           48230 non-null  float64\n",
      " 12  Confirmed_100K          48230 non-null  float64\n",
      " 13  Deaths_100K             48230 non-null  float64\n",
      " 14  Recovered_100K          48230 non-null  float64\n",
      " 15  Active_100K             48230 non-null  float64\n",
      " 16  New_cases_100K          48230 non-null  float64\n",
      " 17  New_deaths_100K         48230 non-null  float64\n",
      " 18  New_recovered_100K      48230 non-null  float64\n",
      " 19  GDP_in_USD              41870 non-null  float64\n",
      "dtypes: float64(17), object(3)\n",
      "memory usage: 7.7+ MB\n"
     ]
    }
   ],
   "source": [
    "my_complete_df = my_complete_df.reset_index().merge(right=GDP_raw_df[['CountryCode', 'GDP_in_USD']],how='left', on=['CountryCode']).set_index('Date')\n",
    "my_complete_df.info()"
   ]
  },
  {
   "cell_type": "markdown",
   "metadata": {
    "id": "26DOwcZI9LRk"
   },
   "source": [
    "## We now extract data on Income level of the differnet countries (Country categories) from the worldbank API as before "
   ]
  },
  {
   "cell_type": "code",
   "execution_count": 66,
   "metadata": {
    "colab": {
     "base_uri": "https://localhost:8080/",
     "height": 419
    },
    "id": "FDBQoe7hp5Ta",
    "outputId": "fdca8456-ecd2-427e-d2fa-a03d4e333f86"
   },
   "outputs": [
    {
     "data": {
      "text/html": [
       "<div>\n",
       "<style scoped>\n",
       "    .dataframe tbody tr th:only-of-type {\n",
       "        vertical-align: middle;\n",
       "    }\n",
       "\n",
       "    .dataframe tbody tr th {\n",
       "        vertical-align: top;\n",
       "    }\n",
       "\n",
       "    .dataframe thead th {\n",
       "        text-align: right;\n",
       "    }\n",
       "</style>\n",
       "<table border=\"1\" class=\"dataframe\">\n",
       "  <thead>\n",
       "    <tr style=\"text-align: right;\">\n",
       "      <th></th>\n",
       "      <th>id</th>\n",
       "      <th>name</th>\n",
       "      <th>region.value</th>\n",
       "      <th>incomeLevel.id</th>\n",
       "      <th>incomeLevel.value</th>\n",
       "    </tr>\n",
       "  </thead>\n",
       "  <tbody>\n",
       "    <tr>\n",
       "      <th>0</th>\n",
       "      <td>ABW</td>\n",
       "      <td>Aruba</td>\n",
       "      <td>Latin America &amp; Caribbean</td>\n",
       "      <td>HIC</td>\n",
       "      <td>High income</td>\n",
       "    </tr>\n",
       "    <tr>\n",
       "      <th>1</th>\n",
       "      <td>AFG</td>\n",
       "      <td>Afghanistan</td>\n",
       "      <td>South Asia</td>\n",
       "      <td>LIC</td>\n",
       "      <td>Low income</td>\n",
       "    </tr>\n",
       "    <tr>\n",
       "      <th>2</th>\n",
       "      <td>AFR</td>\n",
       "      <td>Africa</td>\n",
       "      <td>Aggregates</td>\n",
       "      <td>NA</td>\n",
       "      <td>Aggregates</td>\n",
       "    </tr>\n",
       "    <tr>\n",
       "      <th>3</th>\n",
       "      <td>AGO</td>\n",
       "      <td>Angola</td>\n",
       "      <td>Sub-Saharan Africa</td>\n",
       "      <td>LMC</td>\n",
       "      <td>Lower middle income</td>\n",
       "    </tr>\n",
       "    <tr>\n",
       "      <th>4</th>\n",
       "      <td>ALB</td>\n",
       "      <td>Albania</td>\n",
       "      <td>Europe &amp; Central Asia</td>\n",
       "      <td>UMC</td>\n",
       "      <td>Upper middle income</td>\n",
       "    </tr>\n",
       "    <tr>\n",
       "      <th>...</th>\n",
       "      <td>...</td>\n",
       "      <td>...</td>\n",
       "      <td>...</td>\n",
       "      <td>...</td>\n",
       "      <td>...</td>\n",
       "    </tr>\n",
       "    <tr>\n",
       "      <th>299</th>\n",
       "      <td>XZN</td>\n",
       "      <td>Sub-Saharan Africa excluding South Africa and ...</td>\n",
       "      <td>Aggregates</td>\n",
       "      <td>NA</td>\n",
       "      <td>Aggregates</td>\n",
       "    </tr>\n",
       "    <tr>\n",
       "      <th>300</th>\n",
       "      <td>YEM</td>\n",
       "      <td>Yemen, Rep.</td>\n",
       "      <td>Middle East &amp; North Africa</td>\n",
       "      <td>LIC</td>\n",
       "      <td>Low income</td>\n",
       "    </tr>\n",
       "    <tr>\n",
       "      <th>301</th>\n",
       "      <td>ZAF</td>\n",
       "      <td>South Africa</td>\n",
       "      <td>Sub-Saharan Africa</td>\n",
       "      <td>UMC</td>\n",
       "      <td>Upper middle income</td>\n",
       "    </tr>\n",
       "    <tr>\n",
       "      <th>302</th>\n",
       "      <td>ZMB</td>\n",
       "      <td>Zambia</td>\n",
       "      <td>Sub-Saharan Africa</td>\n",
       "      <td>LMC</td>\n",
       "      <td>Lower middle income</td>\n",
       "    </tr>\n",
       "    <tr>\n",
       "      <th>303</th>\n",
       "      <td>ZWE</td>\n",
       "      <td>Zimbabwe</td>\n",
       "      <td>Sub-Saharan Africa</td>\n",
       "      <td>LMC</td>\n",
       "      <td>Lower middle income</td>\n",
       "    </tr>\n",
       "  </tbody>\n",
       "</table>\n",
       "<p>304 rows × 5 columns</p>\n",
       "</div>"
      ],
      "text/plain": [
       "      id                                               name  \\\n",
       "0    ABW                                              Aruba   \n",
       "1    AFG                                        Afghanistan   \n",
       "2    AFR                                             Africa   \n",
       "3    AGO                                             Angola   \n",
       "4    ALB                                            Albania   \n",
       "..   ...                                                ...   \n",
       "299  XZN  Sub-Saharan Africa excluding South Africa and ...   \n",
       "300  YEM                                        Yemen, Rep.   \n",
       "301  ZAF                                       South Africa   \n",
       "302  ZMB                                             Zambia   \n",
       "303  ZWE                                           Zimbabwe   \n",
       "\n",
       "                   region.value incomeLevel.id    incomeLevel.value  \n",
       "0    Latin America & Caribbean             HIC          High income  \n",
       "1                    South Asia            LIC           Low income  \n",
       "2                    Aggregates             NA           Aggregates  \n",
       "3           Sub-Saharan Africa             LMC  Lower middle income  \n",
       "4         Europe & Central Asia            UMC  Upper middle income  \n",
       "..                          ...            ...                  ...  \n",
       "299                  Aggregates             NA           Aggregates  \n",
       "300  Middle East & North Africa            LIC           Low income  \n",
       "301         Sub-Saharan Africa             UMC  Upper middle income  \n",
       "302         Sub-Saharan Africa             LMC  Lower middle income  \n",
       "303         Sub-Saharan Africa             LMC  Lower middle income  \n",
       "\n",
       "[304 rows x 5 columns]"
      ]
     },
     "execution_count": 66,
     "metadata": {},
     "output_type": "execute_result"
    }
   ],
   "source": [
    "# Extract data on Income level (Country categories)\n",
    "\n",
    "income_url = 'http://api.worldbank.org/v2/country/all'\n",
    "my_params_2 = {'format' : 'json',\n",
    "              'per_page' : '304'}\n",
    "\n",
    "r_income = requests.get(income_url, params = my_params_2) # make the data request\n",
    "\n",
    "#remove first value (which contain info on the request)  and transform to json then to dataframe\n",
    "income_raw_df = pd.json_normalize(r_income.json()[-1]) \n",
    "# take only relevant variables\n",
    "income_raw_df = income_raw_df[['id', 'name', 'region.value', 'incomeLevel.id', 'incomeLevel.value']]\n",
    "income_raw_df"
   ]
  },
  {
   "cell_type": "code",
   "execution_count": 67,
   "metadata": {},
   "outputs": [],
   "source": [
    "with ZipFile(os.path.basename(filename_2), 'r') as zipObj:\n",
    "    zipObj.extract('Metadata_Country_API_NY.GDP.MKTP.CD_DS2_EN_csv_v2_1482525.csv')\n",
    "    #print(zipObj.namelist())"
   ]
  },
  {
   "cell_type": "code",
   "execution_count": 68,
   "metadata": {
    "colab": {
     "base_uri": "https://localhost:8080/",
     "height": 419
    },
    "id": "QGtrutM1p5TX",
    "outputId": "07a928eb-c7bd-4eb6-a029-9bdeebdc1b7a"
   },
   "outputs": [
    {
     "data": {
      "text/html": [
       "<div>\n",
       "<style scoped>\n",
       "    .dataframe tbody tr th:only-of-type {\n",
       "        vertical-align: middle;\n",
       "    }\n",
       "\n",
       "    .dataframe tbody tr th {\n",
       "        vertical-align: top;\n",
       "    }\n",
       "\n",
       "    .dataframe thead th {\n",
       "        text-align: right;\n",
       "    }\n",
       "</style>\n",
       "<table border=\"1\" class=\"dataframe\">\n",
       "  <thead>\n",
       "    <tr style=\"text-align: right;\">\n",
       "      <th></th>\n",
       "      <th>Country Code</th>\n",
       "      <th>Region</th>\n",
       "      <th>IncomeGroup</th>\n",
       "      <th>TableName</th>\n",
       "    </tr>\n",
       "  </thead>\n",
       "  <tbody>\n",
       "    <tr>\n",
       "      <th>0</th>\n",
       "      <td>ABW</td>\n",
       "      <td>Latin America &amp; Caribbean</td>\n",
       "      <td>High income</td>\n",
       "      <td>Aruba</td>\n",
       "    </tr>\n",
       "    <tr>\n",
       "      <th>1</th>\n",
       "      <td>AFG</td>\n",
       "      <td>South Asia</td>\n",
       "      <td>Low income</td>\n",
       "      <td>Afghanistan</td>\n",
       "    </tr>\n",
       "    <tr>\n",
       "      <th>2</th>\n",
       "      <td>AGO</td>\n",
       "      <td>Sub-Saharan Africa</td>\n",
       "      <td>Lower middle income</td>\n",
       "      <td>Angola</td>\n",
       "    </tr>\n",
       "    <tr>\n",
       "      <th>3</th>\n",
       "      <td>ALB</td>\n",
       "      <td>Europe &amp; Central Asia</td>\n",
       "      <td>Upper middle income</td>\n",
       "      <td>Albania</td>\n",
       "    </tr>\n",
       "    <tr>\n",
       "      <th>4</th>\n",
       "      <td>AND</td>\n",
       "      <td>Europe &amp; Central Asia</td>\n",
       "      <td>High income</td>\n",
       "      <td>Andorra</td>\n",
       "    </tr>\n",
       "    <tr>\n",
       "      <th>...</th>\n",
       "      <td>...</td>\n",
       "      <td>...</td>\n",
       "      <td>...</td>\n",
       "      <td>...</td>\n",
       "    </tr>\n",
       "    <tr>\n",
       "      <th>258</th>\n",
       "      <td>XKX</td>\n",
       "      <td>Europe &amp; Central Asia</td>\n",
       "      <td>Upper middle income</td>\n",
       "      <td>Kosovo</td>\n",
       "    </tr>\n",
       "    <tr>\n",
       "      <th>259</th>\n",
       "      <td>YEM</td>\n",
       "      <td>Middle East &amp; North Africa</td>\n",
       "      <td>Low income</td>\n",
       "      <td>Yemen, Rep.</td>\n",
       "    </tr>\n",
       "    <tr>\n",
       "      <th>260</th>\n",
       "      <td>ZAF</td>\n",
       "      <td>Sub-Saharan Africa</td>\n",
       "      <td>Upper middle income</td>\n",
       "      <td>South Africa</td>\n",
       "    </tr>\n",
       "    <tr>\n",
       "      <th>261</th>\n",
       "      <td>ZMB</td>\n",
       "      <td>Sub-Saharan Africa</td>\n",
       "      <td>Lower middle income</td>\n",
       "      <td>Zambia</td>\n",
       "    </tr>\n",
       "    <tr>\n",
       "      <th>262</th>\n",
       "      <td>ZWE</td>\n",
       "      <td>Sub-Saharan Africa</td>\n",
       "      <td>Lower middle income</td>\n",
       "      <td>Zimbabwe</td>\n",
       "    </tr>\n",
       "  </tbody>\n",
       "</table>\n",
       "<p>263 rows × 4 columns</p>\n",
       "</div>"
      ],
      "text/plain": [
       "    Country Code                      Region          IncomeGroup  \\\n",
       "0            ABW   Latin America & Caribbean          High income   \n",
       "1            AFG                  South Asia           Low income   \n",
       "2            AGO          Sub-Saharan Africa  Lower middle income   \n",
       "3            ALB       Europe & Central Asia  Upper middle income   \n",
       "4            AND       Europe & Central Asia          High income   \n",
       "..           ...                         ...                  ...   \n",
       "258          XKX       Europe & Central Asia  Upper middle income   \n",
       "259          YEM  Middle East & North Africa           Low income   \n",
       "260          ZAF          Sub-Saharan Africa  Upper middle income   \n",
       "261          ZMB          Sub-Saharan Africa  Lower middle income   \n",
       "262          ZWE          Sub-Saharan Africa  Lower middle income   \n",
       "\n",
       "        TableName  \n",
       "0           Aruba  \n",
       "1     Afghanistan  \n",
       "2          Angola  \n",
       "3         Albania  \n",
       "4         Andorra  \n",
       "..            ...  \n",
       "258        Kosovo  \n",
       "259   Yemen, Rep.  \n",
       "260  South Africa  \n",
       "261        Zambia  \n",
       "262      Zimbabwe  \n",
       "\n",
       "[263 rows x 4 columns]"
      ]
     },
     "execution_count": 68,
     "metadata": {},
     "output_type": "execute_result"
    }
   ],
   "source": [
    "income_raw_df = pd.read_csv('Metadata_Country_API_NY.GDP.MKTP.CD_DS2_EN_csv_v2_1482525.csv',\n",
    "                        #header = 2,\n",
    "                        usecols = [0, 1, 2, 4])\n",
    "\n",
    "income_raw_df"
   ]
  },
  {
   "cell_type": "code",
   "execution_count": 69,
   "metadata": {
    "colab": {
     "base_uri": "https://localhost:8080/",
     "height": 419
    },
    "id": "esyfeEMn9LRs",
    "outputId": "20a08b29-edcd-4d42-8f42-6a67097cfd1d"
   },
   "outputs": [
    {
     "data": {
      "text/html": [
       "<div>\n",
       "<style scoped>\n",
       "    .dataframe tbody tr th:only-of-type {\n",
       "        vertical-align: middle;\n",
       "    }\n",
       "\n",
       "    .dataframe tbody tr th {\n",
       "        vertical-align: top;\n",
       "    }\n",
       "\n",
       "    .dataframe thead th {\n",
       "        text-align: right;\n",
       "    }\n",
       "</style>\n",
       "<table border=\"1\" class=\"dataframe\">\n",
       "  <thead>\n",
       "    <tr style=\"text-align: right;\">\n",
       "      <th></th>\n",
       "      <th>CountryCode</th>\n",
       "      <th>Region</th>\n",
       "      <th>IncomeGroup</th>\n",
       "      <th>Country_Region</th>\n",
       "    </tr>\n",
       "  </thead>\n",
       "  <tbody>\n",
       "    <tr>\n",
       "      <th>0</th>\n",
       "      <td>ABW</td>\n",
       "      <td>Latin America &amp; Caribbean</td>\n",
       "      <td>High income</td>\n",
       "      <td>Aruba</td>\n",
       "    </tr>\n",
       "    <tr>\n",
       "      <th>1</th>\n",
       "      <td>AFG</td>\n",
       "      <td>South Asia</td>\n",
       "      <td>Low income</td>\n",
       "      <td>Afghanistan</td>\n",
       "    </tr>\n",
       "    <tr>\n",
       "      <th>2</th>\n",
       "      <td>AGO</td>\n",
       "      <td>Sub-Saharan Africa</td>\n",
       "      <td>Lower middle income</td>\n",
       "      <td>Angola</td>\n",
       "    </tr>\n",
       "    <tr>\n",
       "      <th>3</th>\n",
       "      <td>ALB</td>\n",
       "      <td>Europe &amp; Central Asia</td>\n",
       "      <td>Upper middle income</td>\n",
       "      <td>Albania</td>\n",
       "    </tr>\n",
       "    <tr>\n",
       "      <th>4</th>\n",
       "      <td>AND</td>\n",
       "      <td>Europe &amp; Central Asia</td>\n",
       "      <td>High income</td>\n",
       "      <td>Andorra</td>\n",
       "    </tr>\n",
       "    <tr>\n",
       "      <th>...</th>\n",
       "      <td>...</td>\n",
       "      <td>...</td>\n",
       "      <td>...</td>\n",
       "      <td>...</td>\n",
       "    </tr>\n",
       "    <tr>\n",
       "      <th>258</th>\n",
       "      <td>XKX</td>\n",
       "      <td>Europe &amp; Central Asia</td>\n",
       "      <td>Upper middle income</td>\n",
       "      <td>Kosovo</td>\n",
       "    </tr>\n",
       "    <tr>\n",
       "      <th>259</th>\n",
       "      <td>YEM</td>\n",
       "      <td>Middle East &amp; North Africa</td>\n",
       "      <td>Low income</td>\n",
       "      <td>Yemen, Rep.</td>\n",
       "    </tr>\n",
       "    <tr>\n",
       "      <th>260</th>\n",
       "      <td>ZAF</td>\n",
       "      <td>Sub-Saharan Africa</td>\n",
       "      <td>Upper middle income</td>\n",
       "      <td>South Africa</td>\n",
       "    </tr>\n",
       "    <tr>\n",
       "      <th>261</th>\n",
       "      <td>ZMB</td>\n",
       "      <td>Sub-Saharan Africa</td>\n",
       "      <td>Lower middle income</td>\n",
       "      <td>Zambia</td>\n",
       "    </tr>\n",
       "    <tr>\n",
       "      <th>262</th>\n",
       "      <td>ZWE</td>\n",
       "      <td>Sub-Saharan Africa</td>\n",
       "      <td>Lower middle income</td>\n",
       "      <td>Zimbabwe</td>\n",
       "    </tr>\n",
       "  </tbody>\n",
       "</table>\n",
       "<p>263 rows × 4 columns</p>\n",
       "</div>"
      ],
      "text/plain": [
       "    CountryCode                      Region          IncomeGroup  \\\n",
       "0           ABW   Latin America & Caribbean          High income   \n",
       "1           AFG                  South Asia           Low income   \n",
       "2           AGO          Sub-Saharan Africa  Lower middle income   \n",
       "3           ALB       Europe & Central Asia  Upper middle income   \n",
       "4           AND       Europe & Central Asia          High income   \n",
       "..          ...                         ...                  ...   \n",
       "258         XKX       Europe & Central Asia  Upper middle income   \n",
       "259         YEM  Middle East & North Africa           Low income   \n",
       "260         ZAF          Sub-Saharan Africa  Upper middle income   \n",
       "261         ZMB          Sub-Saharan Africa  Lower middle income   \n",
       "262         ZWE          Sub-Saharan Africa  Lower middle income   \n",
       "\n",
       "    Country_Region  \n",
       "0            Aruba  \n",
       "1      Afghanistan  \n",
       "2           Angola  \n",
       "3          Albania  \n",
       "4          Andorra  \n",
       "..             ...  \n",
       "258         Kosovo  \n",
       "259    Yemen, Rep.  \n",
       "260   South Africa  \n",
       "261         Zambia  \n",
       "262       Zimbabwe  \n",
       "\n",
       "[263 rows x 4 columns]"
      ]
     },
     "execution_count": 69,
     "metadata": {},
     "output_type": "execute_result"
    }
   ],
   "source": [
    "#2 (on income_raw_df)\n",
    "# make consistennt names for all datasets\n",
    "# 1. fixing names in income_raw_df dataset\n",
    "# 2. take only relevant columns\n",
    "\n",
    "income_correct_names = {'Country Code' : 'CountryCode',\n",
    "                        'TableName' : 'Country_Region'}\n",
    "\n",
    "income_raw_df.rename(columns = income_correct_names, inplace = True)\n",
    "income_raw_df"
   ]
  },
  {
   "cell_type": "code",
   "execution_count": 70,
   "metadata": {
    "colab": {
     "base_uri": "https://localhost:8080/",
     "height": 34
    },
    "id": "qWQxwM7t9LR7",
    "outputId": "4e3b5f85-0a71-4e21-8f08-48e19694002e"
   },
   "outputs": [
    {
     "data": {
      "text/plain": [
       "(85, 4)"
      ]
     },
     "execution_count": 70,
     "metadata": {},
     "output_type": "execute_result"
    }
   ],
   "source": [
    "income_raw_df[~income_raw_df['CountryCode'].isin(my_complete_df['CountryCode'])].shape #this are the 85 regions or aggregated regions, dependencies from the income level dataset that are not in the Covid df"
   ]
  },
  {
   "cell_type": "code",
   "execution_count": 71,
   "metadata": {
    "colab": {
     "base_uri": "https://localhost:8080/",
     "height": 173
    },
    "id": "B9vPW8sx9LSJ",
    "outputId": "d8b00837-6e5a-4232-9ad3-c7d130cbe111"
   },
   "outputs": [
    {
     "data": {
      "text/html": [
       "<div>\n",
       "<style scoped>\n",
       "    .dataframe tbody tr th:only-of-type {\n",
       "        vertical-align: middle;\n",
       "    }\n",
       "\n",
       "    .dataframe tbody tr th {\n",
       "        vertical-align: top;\n",
       "    }\n",
       "\n",
       "    .dataframe thead th {\n",
       "        text-align: right;\n",
       "    }\n",
       "</style>\n",
       "<table border=\"1\" class=\"dataframe\">\n",
       "  <thead>\n",
       "    <tr style=\"text-align: right;\">\n",
       "      <th></th>\n",
       "      <th>CountryCode</th>\n",
       "    </tr>\n",
       "    <tr>\n",
       "      <th>Date</th>\n",
       "      <th></th>\n",
       "    </tr>\n",
       "  </thead>\n",
       "  <tbody>\n",
       "    <tr>\n",
       "      <th>2020-01-22</th>\n",
       "      <td>AIA</td>\n",
       "    </tr>\n",
       "    <tr>\n",
       "      <th>2020-01-22</th>\n",
       "      <td>FLK</td>\n",
       "    </tr>\n",
       "    <tr>\n",
       "      <th>2020-01-22</th>\n",
       "      <td>MSR</td>\n",
       "    </tr>\n",
       "    <tr>\n",
       "      <th>2020-01-22</th>\n",
       "      <td>TWN</td>\n",
       "    </tr>\n",
       "  </tbody>\n",
       "</table>\n",
       "</div>"
      ],
      "text/plain": [
       "           CountryCode\n",
       "Date                  \n",
       "2020-01-22         AIA\n",
       "2020-01-22         FLK\n",
       "2020-01-22         MSR\n",
       "2020-01-22         TWN"
      ]
     },
     "execution_count": 71,
     "metadata": {},
     "output_type": "execute_result"
    }
   ],
   "source": [
    "my_complete_df[~my_complete_df['CountryCode'].isin(income_raw_df['CountryCode'])][['CountryCode']].drop_duplicates()#.shape # these 4 dependencies from de covid dataset have no income level information"
   ]
  },
  {
   "cell_type": "markdown",
   "metadata": {
    "id": "bJZ0SE9G9LSY"
   },
   "source": [
    "### As before, we select only those countries from the Income level dataset wich are also present in the covid dataset, and exclude all other regions dependencies."
   ]
  },
  {
   "cell_type": "code",
   "execution_count": 72,
   "metadata": {
    "colab": {
     "base_uri": "https://localhost:8080/",
     "height": 221
    },
    "id": "GhM5jhTR9LSc",
    "outputId": "bf52d1a5-0a72-4f90-fe31-01211bc885fd"
   },
   "outputs": [
    {
     "name": "stdout",
     "output_type": "stream",
     "text": [
      "<class 'pandas.core.frame.DataFrame'>\n",
      "Int64Index: 178 entries, 0 to 262\n",
      "Data columns (total 4 columns):\n",
      " #   Column          Non-Null Count  Dtype \n",
      "---  ------          --------------  ----- \n",
      " 0   CountryCode     178 non-null    object\n",
      " 1   Region          178 non-null    object\n",
      " 2   IncomeGroup     178 non-null    object\n",
      " 3   Country_Region  178 non-null    object\n",
      "dtypes: object(4)\n",
      "memory usage: 7.0+ KB\n"
     ]
    }
   ],
   "source": [
    "income_raw_df = income_raw_df[income_raw_df['CountryCode'].isin(my_complete_df['CountryCode'])]\n",
    "income_raw_df.info()"
   ]
  },
  {
   "cell_type": "markdown",
   "metadata": {
    "id": "524M-Nq99LSj"
   },
   "source": [
    "## We make the final join of the income level data with the covid dataset"
   ]
  },
  {
   "cell_type": "code",
   "execution_count": 73,
   "metadata": {
    "colab": {
     "base_uri": "https://localhost:8080/",
     "height": 476
    },
    "id": "3sIK_TXU9LSm",
    "outputId": "152cfa83-18b0-486b-feae-2f4a19015811"
   },
   "outputs": [
    {
     "name": "stdout",
     "output_type": "stream",
     "text": [
      "<class 'pandas.core.frame.DataFrame'>\n",
      "DatetimeIndex: 48230 entries, 2020-01-22 to 2020-10-12\n",
      "Data columns (total 21 columns):\n",
      " #   Column                  Non-Null Count  Dtype  \n",
      "---  ------                  --------------  -----  \n",
      " 0   CountryCode             48230 non-null  object \n",
      " 1   StringencyIndex         46511 non-null  float64\n",
      " 2   StringencyIndex_factor  48230 non-null  object \n",
      " 3   Country_Region          48230 non-null  object \n",
      " 4   Population              48230 non-null  float64\n",
      " 5   Confirmed               48230 non-null  float64\n",
      " 6   Deaths                  48230 non-null  float64\n",
      " 7   Recovered               48230 non-null  float64\n",
      " 8   Active                  48230 non-null  float64\n",
      " 9   New_cases               48230 non-null  float64\n",
      " 10  New_deaths              48230 non-null  float64\n",
      " 11  New_recovered           48230 non-null  float64\n",
      " 12  Confirmed_100K          48230 non-null  float64\n",
      " 13  Deaths_100K             48230 non-null  float64\n",
      " 14  Recovered_100K          48230 non-null  float64\n",
      " 15  Active_100K             48230 non-null  float64\n",
      " 16  New_cases_100K          48230 non-null  float64\n",
      " 17  New_deaths_100K         48230 non-null  float64\n",
      " 18  New_recovered_100K      48230 non-null  float64\n",
      " 19  GDP_in_USD              41870 non-null  float64\n",
      " 20  IncomeGroup             47170 non-null  object \n",
      "dtypes: float64(17), object(4)\n",
      "memory usage: 8.1+ MB\n"
     ]
    }
   ],
   "source": [
    "my_final_df = my_complete_df.reset_index().merge(right=income_raw_df[['CountryCode', 'IncomeGroup']],how='left', on=['CountryCode']).set_index('Date')\n",
    "my_final_df.info()"
   ]
  },
  {
   "cell_type": "code",
   "execution_count": 93,
   "metadata": {
    "id": "cXmx60ti9LSy"
   },
   "outputs": [
    {
     "data": {
      "text/html": [
       "<div>\n",
       "<style scoped>\n",
       "    .dataframe tbody tr th:only-of-type {\n",
       "        vertical-align: middle;\n",
       "    }\n",
       "\n",
       "    .dataframe tbody tr th {\n",
       "        vertical-align: top;\n",
       "    }\n",
       "\n",
       "    .dataframe thead th {\n",
       "        text-align: right;\n",
       "    }\n",
       "</style>\n",
       "<table border=\"1\" class=\"dataframe\">\n",
       "  <thead>\n",
       "    <tr style=\"text-align: right;\">\n",
       "      <th></th>\n",
       "      <th>CountryCode</th>\n",
       "      <th>StringencyIndex</th>\n",
       "      <th>StringencyIndex_factor</th>\n",
       "      <th>Country_Region</th>\n",
       "      <th>Population</th>\n",
       "      <th>Confirmed</th>\n",
       "      <th>Deaths</th>\n",
       "      <th>Recovered</th>\n",
       "      <th>Active</th>\n",
       "      <th>New_cases</th>\n",
       "      <th>...</th>\n",
       "      <th>New_recovered</th>\n",
       "      <th>Confirmed_100K</th>\n",
       "      <th>Deaths_100K</th>\n",
       "      <th>Recovered_100K</th>\n",
       "      <th>Active_100K</th>\n",
       "      <th>New_cases_100K</th>\n",
       "      <th>New_deaths_100K</th>\n",
       "      <th>New_recovered_100K</th>\n",
       "      <th>GDP_in_USD</th>\n",
       "      <th>IncomeGroup</th>\n",
       "    </tr>\n",
       "    <tr>\n",
       "      <th>Date</th>\n",
       "      <th></th>\n",
       "      <th></th>\n",
       "      <th></th>\n",
       "      <th></th>\n",
       "      <th></th>\n",
       "      <th></th>\n",
       "      <th></th>\n",
       "      <th></th>\n",
       "      <th></th>\n",
       "      <th></th>\n",
       "      <th></th>\n",
       "      <th></th>\n",
       "      <th></th>\n",
       "      <th></th>\n",
       "      <th></th>\n",
       "      <th></th>\n",
       "      <th></th>\n",
       "      <th></th>\n",
       "      <th></th>\n",
       "      <th></th>\n",
       "      <th></th>\n",
       "    </tr>\n",
       "  </thead>\n",
       "  <tbody>\n",
       "    <tr>\n",
       "      <th>2020-01-22</th>\n",
       "      <td>ABW</td>\n",
       "      <td>0.0</td>\n",
       "      <td>Very_low</td>\n",
       "      <td>Netherlands</td>\n",
       "      <td>106766.0</td>\n",
       "      <td>0.0</td>\n",
       "      <td>0.0</td>\n",
       "      <td>0.0</td>\n",
       "      <td>0.0</td>\n",
       "      <td>0.0</td>\n",
       "      <td>...</td>\n",
       "      <td>0.0</td>\n",
       "      <td>0.0</td>\n",
       "      <td>0.0</td>\n",
       "      <td>0.0</td>\n",
       "      <td>0.0</td>\n",
       "      <td>0.0</td>\n",
       "      <td>0.0</td>\n",
       "      <td>0.0</td>\n",
       "      <td>NaN</td>\n",
       "      <td>High income</td>\n",
       "    </tr>\n",
       "    <tr>\n",
       "      <th>2020-01-23</th>\n",
       "      <td>ABW</td>\n",
       "      <td>0.0</td>\n",
       "      <td>Very_low</td>\n",
       "      <td>Netherlands</td>\n",
       "      <td>106766.0</td>\n",
       "      <td>0.0</td>\n",
       "      <td>0.0</td>\n",
       "      <td>0.0</td>\n",
       "      <td>0.0</td>\n",
       "      <td>0.0</td>\n",
       "      <td>...</td>\n",
       "      <td>0.0</td>\n",
       "      <td>0.0</td>\n",
       "      <td>0.0</td>\n",
       "      <td>0.0</td>\n",
       "      <td>0.0</td>\n",
       "      <td>0.0</td>\n",
       "      <td>0.0</td>\n",
       "      <td>0.0</td>\n",
       "      <td>NaN</td>\n",
       "      <td>High income</td>\n",
       "    </tr>\n",
       "    <tr>\n",
       "      <th>2020-01-24</th>\n",
       "      <td>ABW</td>\n",
       "      <td>0.0</td>\n",
       "      <td>Very_low</td>\n",
       "      <td>Netherlands</td>\n",
       "      <td>106766.0</td>\n",
       "      <td>0.0</td>\n",
       "      <td>0.0</td>\n",
       "      <td>0.0</td>\n",
       "      <td>0.0</td>\n",
       "      <td>0.0</td>\n",
       "      <td>...</td>\n",
       "      <td>0.0</td>\n",
       "      <td>0.0</td>\n",
       "      <td>0.0</td>\n",
       "      <td>0.0</td>\n",
       "      <td>0.0</td>\n",
       "      <td>0.0</td>\n",
       "      <td>0.0</td>\n",
       "      <td>0.0</td>\n",
       "      <td>NaN</td>\n",
       "      <td>High income</td>\n",
       "    </tr>\n",
       "    <tr>\n",
       "      <th>2020-01-25</th>\n",
       "      <td>ABW</td>\n",
       "      <td>0.0</td>\n",
       "      <td>Very_low</td>\n",
       "      <td>Netherlands</td>\n",
       "      <td>106766.0</td>\n",
       "      <td>0.0</td>\n",
       "      <td>0.0</td>\n",
       "      <td>0.0</td>\n",
       "      <td>0.0</td>\n",
       "      <td>0.0</td>\n",
       "      <td>...</td>\n",
       "      <td>0.0</td>\n",
       "      <td>0.0</td>\n",
       "      <td>0.0</td>\n",
       "      <td>0.0</td>\n",
       "      <td>0.0</td>\n",
       "      <td>0.0</td>\n",
       "      <td>0.0</td>\n",
       "      <td>0.0</td>\n",
       "      <td>NaN</td>\n",
       "      <td>High income</td>\n",
       "    </tr>\n",
       "    <tr>\n",
       "      <th>2020-01-26</th>\n",
       "      <td>ABW</td>\n",
       "      <td>0.0</td>\n",
       "      <td>Very_low</td>\n",
       "      <td>Netherlands</td>\n",
       "      <td>106766.0</td>\n",
       "      <td>0.0</td>\n",
       "      <td>0.0</td>\n",
       "      <td>0.0</td>\n",
       "      <td>0.0</td>\n",
       "      <td>0.0</td>\n",
       "      <td>...</td>\n",
       "      <td>0.0</td>\n",
       "      <td>0.0</td>\n",
       "      <td>0.0</td>\n",
       "      <td>0.0</td>\n",
       "      <td>0.0</td>\n",
       "      <td>0.0</td>\n",
       "      <td>0.0</td>\n",
       "      <td>0.0</td>\n",
       "      <td>NaN</td>\n",
       "      <td>High income</td>\n",
       "    </tr>\n",
       "    <tr>\n",
       "      <th>2020-01-27</th>\n",
       "      <td>ABW</td>\n",
       "      <td>0.0</td>\n",
       "      <td>Very_low</td>\n",
       "      <td>Netherlands</td>\n",
       "      <td>106766.0</td>\n",
       "      <td>0.0</td>\n",
       "      <td>0.0</td>\n",
       "      <td>0.0</td>\n",
       "      <td>0.0</td>\n",
       "      <td>0.0</td>\n",
       "      <td>...</td>\n",
       "      <td>0.0</td>\n",
       "      <td>0.0</td>\n",
       "      <td>0.0</td>\n",
       "      <td>0.0</td>\n",
       "      <td>0.0</td>\n",
       "      <td>0.0</td>\n",
       "      <td>0.0</td>\n",
       "      <td>0.0</td>\n",
       "      <td>NaN</td>\n",
       "      <td>High income</td>\n",
       "    </tr>\n",
       "    <tr>\n",
       "      <th>2020-01-28</th>\n",
       "      <td>ABW</td>\n",
       "      <td>0.0</td>\n",
       "      <td>Very_low</td>\n",
       "      <td>Netherlands</td>\n",
       "      <td>106766.0</td>\n",
       "      <td>0.0</td>\n",
       "      <td>0.0</td>\n",
       "      <td>0.0</td>\n",
       "      <td>0.0</td>\n",
       "      <td>0.0</td>\n",
       "      <td>...</td>\n",
       "      <td>0.0</td>\n",
       "      <td>0.0</td>\n",
       "      <td>0.0</td>\n",
       "      <td>0.0</td>\n",
       "      <td>0.0</td>\n",
       "      <td>0.0</td>\n",
       "      <td>0.0</td>\n",
       "      <td>0.0</td>\n",
       "      <td>NaN</td>\n",
       "      <td>High income</td>\n",
       "    </tr>\n",
       "    <tr>\n",
       "      <th>2020-01-29</th>\n",
       "      <td>ABW</td>\n",
       "      <td>0.0</td>\n",
       "      <td>Very_low</td>\n",
       "      <td>Netherlands</td>\n",
       "      <td>106766.0</td>\n",
       "      <td>0.0</td>\n",
       "      <td>0.0</td>\n",
       "      <td>0.0</td>\n",
       "      <td>0.0</td>\n",
       "      <td>0.0</td>\n",
       "      <td>...</td>\n",
       "      <td>0.0</td>\n",
       "      <td>0.0</td>\n",
       "      <td>0.0</td>\n",
       "      <td>0.0</td>\n",
       "      <td>0.0</td>\n",
       "      <td>0.0</td>\n",
       "      <td>0.0</td>\n",
       "      <td>0.0</td>\n",
       "      <td>NaN</td>\n",
       "      <td>High income</td>\n",
       "    </tr>\n",
       "    <tr>\n",
       "      <th>2020-01-30</th>\n",
       "      <td>ABW</td>\n",
       "      <td>0.0</td>\n",
       "      <td>Very_low</td>\n",
       "      <td>Netherlands</td>\n",
       "      <td>106766.0</td>\n",
       "      <td>0.0</td>\n",
       "      <td>0.0</td>\n",
       "      <td>0.0</td>\n",
       "      <td>0.0</td>\n",
       "      <td>0.0</td>\n",
       "      <td>...</td>\n",
       "      <td>0.0</td>\n",
       "      <td>0.0</td>\n",
       "      <td>0.0</td>\n",
       "      <td>0.0</td>\n",
       "      <td>0.0</td>\n",
       "      <td>0.0</td>\n",
       "      <td>0.0</td>\n",
       "      <td>0.0</td>\n",
       "      <td>NaN</td>\n",
       "      <td>High income</td>\n",
       "    </tr>\n",
       "    <tr>\n",
       "      <th>2020-01-31</th>\n",
       "      <td>ABW</td>\n",
       "      <td>0.0</td>\n",
       "      <td>Very_low</td>\n",
       "      <td>Netherlands</td>\n",
       "      <td>106766.0</td>\n",
       "      <td>0.0</td>\n",
       "      <td>0.0</td>\n",
       "      <td>0.0</td>\n",
       "      <td>0.0</td>\n",
       "      <td>0.0</td>\n",
       "      <td>...</td>\n",
       "      <td>0.0</td>\n",
       "      <td>0.0</td>\n",
       "      <td>0.0</td>\n",
       "      <td>0.0</td>\n",
       "      <td>0.0</td>\n",
       "      <td>0.0</td>\n",
       "      <td>0.0</td>\n",
       "      <td>0.0</td>\n",
       "      <td>NaN</td>\n",
       "      <td>High income</td>\n",
       "    </tr>\n",
       "  </tbody>\n",
       "</table>\n",
       "<p>10 rows × 21 columns</p>\n",
       "</div>"
      ],
      "text/plain": [
       "           CountryCode  StringencyIndex StringencyIndex_factor Country_Region  \\\n",
       "Date                                                                            \n",
       "2020-01-22         ABW              0.0               Very_low    Netherlands   \n",
       "2020-01-23         ABW              0.0               Very_low    Netherlands   \n",
       "2020-01-24         ABW              0.0               Very_low    Netherlands   \n",
       "2020-01-25         ABW              0.0               Very_low    Netherlands   \n",
       "2020-01-26         ABW              0.0               Very_low    Netherlands   \n",
       "2020-01-27         ABW              0.0               Very_low    Netherlands   \n",
       "2020-01-28         ABW              0.0               Very_low    Netherlands   \n",
       "2020-01-29         ABW              0.0               Very_low    Netherlands   \n",
       "2020-01-30         ABW              0.0               Very_low    Netherlands   \n",
       "2020-01-31         ABW              0.0               Very_low    Netherlands   \n",
       "\n",
       "            Population  Confirmed  Deaths  Recovered  Active  New_cases  ...  \\\n",
       "Date                                                                     ...   \n",
       "2020-01-22    106766.0        0.0     0.0        0.0     0.0        0.0  ...   \n",
       "2020-01-23    106766.0        0.0     0.0        0.0     0.0        0.0  ...   \n",
       "2020-01-24    106766.0        0.0     0.0        0.0     0.0        0.0  ...   \n",
       "2020-01-25    106766.0        0.0     0.0        0.0     0.0        0.0  ...   \n",
       "2020-01-26    106766.0        0.0     0.0        0.0     0.0        0.0  ...   \n",
       "2020-01-27    106766.0        0.0     0.0        0.0     0.0        0.0  ...   \n",
       "2020-01-28    106766.0        0.0     0.0        0.0     0.0        0.0  ...   \n",
       "2020-01-29    106766.0        0.0     0.0        0.0     0.0        0.0  ...   \n",
       "2020-01-30    106766.0        0.0     0.0        0.0     0.0        0.0  ...   \n",
       "2020-01-31    106766.0        0.0     0.0        0.0     0.0        0.0  ...   \n",
       "\n",
       "            New_recovered  Confirmed_100K  Deaths_100K  Recovered_100K  \\\n",
       "Date                                                                     \n",
       "2020-01-22            0.0             0.0          0.0             0.0   \n",
       "2020-01-23            0.0             0.0          0.0             0.0   \n",
       "2020-01-24            0.0             0.0          0.0             0.0   \n",
       "2020-01-25            0.0             0.0          0.0             0.0   \n",
       "2020-01-26            0.0             0.0          0.0             0.0   \n",
       "2020-01-27            0.0             0.0          0.0             0.0   \n",
       "2020-01-28            0.0             0.0          0.0             0.0   \n",
       "2020-01-29            0.0             0.0          0.0             0.0   \n",
       "2020-01-30            0.0             0.0          0.0             0.0   \n",
       "2020-01-31            0.0             0.0          0.0             0.0   \n",
       "\n",
       "            Active_100K  New_cases_100K  New_deaths_100K  New_recovered_100K  \\\n",
       "Date                                                                           \n",
       "2020-01-22          0.0             0.0              0.0                 0.0   \n",
       "2020-01-23          0.0             0.0              0.0                 0.0   \n",
       "2020-01-24          0.0             0.0              0.0                 0.0   \n",
       "2020-01-25          0.0             0.0              0.0                 0.0   \n",
       "2020-01-26          0.0             0.0              0.0                 0.0   \n",
       "2020-01-27          0.0             0.0              0.0                 0.0   \n",
       "2020-01-28          0.0             0.0              0.0                 0.0   \n",
       "2020-01-29          0.0             0.0              0.0                 0.0   \n",
       "2020-01-30          0.0             0.0              0.0                 0.0   \n",
       "2020-01-31          0.0             0.0              0.0                 0.0   \n",
       "\n",
       "            GDP_in_USD  IncomeGroup  \n",
       "Date                                 \n",
       "2020-01-22         NaN  High income  \n",
       "2020-01-23         NaN  High income  \n",
       "2020-01-24         NaN  High income  \n",
       "2020-01-25         NaN  High income  \n",
       "2020-01-26         NaN  High income  \n",
       "2020-01-27         NaN  High income  \n",
       "2020-01-28         NaN  High income  \n",
       "2020-01-29         NaN  High income  \n",
       "2020-01-30         NaN  High income  \n",
       "2020-01-31         NaN  High income  \n",
       "\n",
       "[10 rows x 21 columns]"
      ]
     },
     "execution_count": 93,
     "metadata": {},
     "output_type": "execute_result"
    }
   ],
   "source": [
    "my_final_df.head(10)#[my_final_df['CountryCode'] == \"DEU\"][['New_deaths']]"
   ]
  },
  {
   "cell_type": "code",
   "execution_count": 74,
   "metadata": {},
   "outputs": [
    {
     "data": {
      "text/plain": [
       "Index(['CountryCode', 'StringencyIndex', 'StringencyIndex_factor',\n",
       "       'Country_Region', 'Population', 'Confirmed', 'Deaths', 'Recovered',\n",
       "       'Active', 'New_cases', 'New_deaths', 'New_recovered', 'Confirmed_100K',\n",
       "       'Deaths_100K', 'Recovered_100K', 'Active_100K', 'New_cases_100K',\n",
       "       'New_deaths_100K', 'New_recovered_100K', 'GDP_in_USD', 'IncomeGroup'],\n",
       "      dtype='object')"
      ]
     },
     "execution_count": 74,
     "metadata": {},
     "output_type": "execute_result"
    }
   ],
   "source": [
    "my_final_df.columns"
   ]
  },
  {
   "cell_type": "markdown",
   "metadata": {
    "id": "cVoaEK899LSv"
   },
   "source": [
    "## This is the final clean working dataframe  which contain:\n",
    " - time series of Covid cases of 180 countries or dependencies etc from the world.\n",
    " - standard country code for ease finding of countries\n",
    " - the cumulative sum of confirmed, deatch and recovered cases\n",
    " - the new cases, new death and new recovered in a day-wise format\n",
    " - all varibales before mentioned normalized by 100.000 people per country. This is may be usefull to compare among different countries\n",
    " - government response on restraining the spread of the pandemic indicated by the restringency index\n",
    " - two socioeconomical indicators for countries: GDP in USD and Income level\n",
    " "
   ]
  },
  {
   "cell_type": "code",
   "execution_count": null,
   "metadata": {},
   "outputs": [],
   "source": []
  },
  {
   "cell_type": "code",
   "execution_count": null,
   "metadata": {
    "id": "MhWkTt2w9LS9"
   },
   "outputs": [],
   "source": []
  },
  {
   "cell_type": "code",
   "execution_count": null,
   "metadata": {
    "id": "iCvQm0yJ9LTO"
   },
   "outputs": [],
   "source": []
  },
  {
   "cell_type": "markdown",
   "metadata": {
    "id": "u51M-kbF9LTY"
   },
   "source": [
    "# Part II \n",
    "# M2 project on descriptive statistics\n",
    "\n",
    "## 1.  Descriptive Statistics\n"
   ]
  },
  {
   "cell_type": "markdown",
   "metadata": {
    "id": "54iNUbRnZpzH"
   },
   "source": [
    "# 1. Visualization of Coronavirus cases per country\n"
   ]
  },
  {
   "cell_type": "code",
   "execution_count": null,
   "metadata": {
    "colab": {
     "base_uri": "https://localhost:8080/",
     "height": 1000
    },
    "id": "jeqqtXxBq1Ym",
    "outputId": "47bc8aa7-dd13-4ed0-b3a4-b372ec951221"
   },
   "outputs": [],
   "source": [
    "#countries = sorted(confirmed_df['Country/Region'].unique())\n",
    "countries =[\"Brazil\", \"India\", \"Colombia\", \"US\",\"Russia\"]\n",
    "n_rows = len(countries) // 2 + 1\n",
    "i = 0\n",
    "for country in (countries):\n",
    "    country_data = confirmed_df[confirmed_df['Country/Region'] == country]\n",
    "    # sum all the rows together for each column, and select only the data columns\n",
    "    by_date = country_data.sum().filter(like='/20')\n",
    "    \n",
    "    # plot it if numbers exceed specified amount on date\n",
    "    if by_date['10/10/20'] > 0:\n",
    "        plt.subplot(n_rows, 2, i+1)\n",
    "        by_date.plot(title='Coronavirus Cases: %s' % country, color='blue', figsize=(20,5 * n_rows))\n",
    "        i += 1"
   ]
  },
  {
   "cell_type": "code",
   "execution_count": null,
   "metadata": {
    "colab": {
     "base_uri": "https://localhost:8080/",
     "height": 1000
    },
    "id": "3nAwU91_diFq",
    "outputId": "80b56204-d9e8-41da-e326-383bf51dcf58"
   },
   "outputs": [],
   "source": [
    "#countries = sorted(deaths_df['Country/Region'].unique())\n",
    "countries =[\"Brazil\", \"India\", \"Colombia\", \"US\",\"Russia\"]\n",
    "n_rows = len(countries) // 2 + 1\n",
    "i = 0\n",
    "for country in (countries):\n",
    "    country_data = deaths_df[deaths_df['Country/Region'] == country]\n",
    "    # sum all the rows together for each column, and select only the data columns\n",
    "    by_date = country_data.sum().filter(like='/20')\n",
    "    \n",
    "    # plot it if numbers exceed specified amount on date\n",
    "    if by_date['10/10/20'] > 0:\n",
    "        plt.subplot(n_rows, 2, i+1)\n",
    "        by_date.plot(title='Coronavirus Deaths: %s' % country, color='blue', figsize=(20,5 * n_rows))\n",
    "        i += 1"
   ]
  },
  {
   "cell_type": "markdown",
   "metadata": {
    "id": "x6okGuHAYCqI"
   },
   "source": [
    "# 2. Sorting the countries with most coronavirus cases\n",
    "We first sort the data to understand the countries with most cases\n"
   ]
  },
  {
   "cell_type": "code",
   "execution_count": null,
   "metadata": {
    "colab": {
     "base_uri": "https://localhost:8080/",
     "height": 34
    },
    "id": "061yO2aF-Hr4",
    "outputId": "cdd3a1d9-8258-4196-b53c-1fde7ee6f989"
   },
   "outputs": [],
   "source": [
    "date_list = confirmed_df.columns.tolist()[4:]\n",
    "date_list[0], date_list[-1]"
   ]
  },
  {
   "cell_type": "code",
   "execution_count": null,
   "metadata": {
    "colab": {
     "base_uri": "https://localhost:8080/",
     "height": 359
    },
    "id": "4bcfyZu0-Ldl",
    "outputId": "beed6198-2668-4262-9999-f7e73a751103"
   },
   "outputs": [],
   "source": [
    "# Confirmed cases per Country\n",
    "confirmed_df[['Country/Region', date_list[-1]]].sort_values(by = date_list[-1], ascending = False).head(10)"
   ]
  },
  {
   "cell_type": "code",
   "execution_count": null,
   "metadata": {
    "colab": {
     "base_uri": "https://localhost:8080/",
     "height": 204
    },
    "id": "ziOXpOxdABIs",
    "outputId": "f9272fd4-73c0-41c9-80b2-792af77538fc"
   },
   "outputs": [],
   "source": [
    "confirmed_df[['Country/Region', date_list[-1]]].sort_values(by = date_list[-1], ascending = True).head(5)"
   ]
  },
  {
   "cell_type": "markdown",
   "metadata": {
    "id": "feeY0mPLfDvV"
   },
   "source": [
    "## Plotting the top five countries \n"
   ]
  },
  {
   "cell_type": "code",
   "execution_count": null,
   "metadata": {
    "colab": {
     "base_uri": "https://localhost:8080/",
     "height": 1000
    },
    "id": "u3FefhzAZ5Pl",
    "outputId": "d072c1d3-5005-4b62-ad1e-6fb17c3df946"
   },
   "outputs": [],
   "source": [
    "my_final_df[my_final_df['CountryCode'] == \"USA\"].plot(y='Confirmed_100K', color='red',kind=\"line\",c='c')\n",
    "plt.ylim(0 , 1300)\n",
    "plt.title(\"USA Confirmed 100K\")\n",
    "my_final_df[my_final_df['Country_Region'] == \"India\"].plot(y='Confirmed_100K',marker='', color='olive', linewidth=2)\n",
    "plt.ylim(0 , 1300)\n",
    "plt.title(\"India Confirmed 100K\")\n",
    "my_final_df[my_final_df['Country_Region'] == \"Brazil\"].plot(y='Confirmed_100K',kind=\"line\",c='c')\n",
    "plt.ylim(0 , 1300)\n",
    "plt.title(\"Brazil Confirmed 100K\")\n",
    "my_final_df[my_final_df['Country_Region'] == \"Russia\"].plot(y='Confirmed_100K',kind=\"line\",c='c')\n",
    "plt.ylim(0 , 1300)\n",
    "plt.title(\"Russia Confirmed 100K\")\n",
    "my_final_df[my_final_df['CountryCode'] == \"COL\"].plot(y='Confirmed_100K',kind=\"line\",c='c')\n",
    "plt.ylim(0 , 1300)\n",
    "plt.title(\"Colombia Confirmed 100K\")\n",
    "\n",
    "plt.legend()\n",
    "plt.show()\n",
    "\n",
    "\n",
    "India_covid_df = my_final_df[my_final_df['Country_Region'] == \"Brazil\"]\n",
    "plot1=India_covid_df.plot(y='Confirmed_100K',kind=\"line\",c='c')\n",
    "#plt.ylim(0 , 100)\n",
    "plt.title(\"India confirmed cases\")\n",
    "plt.ylabel(\"Confirmed cases per 100K\")\n",
    "plt.show()"
   ]
  },
  {
   "cell_type": "code",
   "execution_count": null,
   "metadata": {
    "colab": {
     "base_uri": "https://localhost:8080/",
     "height": 1000
    },
    "id": "dyIdmP7h-KV3",
    "outputId": "151cc4b0-4aab-4c48-d42a-3174f1696515"
   },
   "outputs": [],
   "source": [
    "my_final_df[my_final_df['CountryCode'] == \"USA\"].plot(y='Confirmed_100K',kind=\"line\",c='c')\n",
    "plt.ylim(0 , 1300)\n",
    "my_final_df[my_final_df['Country_Region'] == \"India\"].plot(y='Confirmed_100K',marker='', color='olive', linewidth=2)\n",
    "plt.ylim(0 , 1300)\n",
    "my_final_df[my_final_df['Country_Region'] == \"Brazil\"].plot(y='Confirmed_100K',kind=\"line\",c='c')\n",
    "plt.ylim(0 , 1300)\n",
    "my_final_df[my_final_df['Country_Region'] == \"Russia\"].plot(y='Confirmed_100K',kind=\"line\",c='c')\n",
    "plt.ylim(0 , 1300)\n",
    "my_final_df[my_final_df['CountryCode'] == \"COL\"].plot(y='Confirmed_100K',kind=\"line\",c='c')\n",
    "plt.ylim(0 , 1300)\n",
    "\n",
    "\n",
    "plt.legend()\n",
    "plt.show()\n"
   ]
  },
  {
   "cell_type": "code",
   "execution_count": null,
   "metadata": {
    "colab": {
     "base_uri": "https://localhost:8080/",
     "height": 1000
    },
    "id": "q9cq1gchn78T",
    "outputId": "cd6e949e-f8ea-4610-cb83-636011429fcb"
   },
   "outputs": [],
   "source": [
    "my_final_df[my_final_df['CountryCode'] == \"USA\"].plot(y='Deaths_100K',kind=\"line\",c='c')\n",
    "#plt.ylim(0 , 1300)\n",
    "my_final_df[my_final_df['Country_Region'] == \"India\"].plot(y='Deaths_100K',marker='', color='olive', linewidth=2)\n",
    "#plt.ylim(0 , 1300)\n",
    "my_final_df[my_final_df['Country_Region'] == \"Brazil\"].plot(y='Deaths_100K',kind=\"line\",c='c')\n",
    "#plt.ylim(0 , 1300)\n",
    "my_final_df[my_final_df['Country_Region'] == \"Russia\"].plot(y='Deaths_100K',kind=\"line\",c='c')\n",
    "#plt.ylim(0 , 1300)\n",
    "my_final_df[my_final_df['CountryCode'] == \"COL\"].plot(y='Deaths_100K',kind=\"line\",c='c')\n",
    "#plt.ylim(0 , 1300)\n",
    "\n",
    "plt.legend()\n",
    "plt.show()\n"
   ]
  },
  {
   "cell_type": "code",
   "execution_count": null,
   "metadata": {
    "colab": {
     "base_uri": "https://localhost:8080/",
     "height": 334
    },
    "id": "B42kczBun_Nv",
    "outputId": "66b55ba7-667e-4519-feab-53f77f62f75e"
   },
   "outputs": [],
   "source": [
    "my_final_df.describe()"
   ]
  },
  {
   "cell_type": "markdown",
   "metadata": {
    "id": "JS92mjmOe_bc"
   },
   "source": []
  },
  {
   "cell_type": "code",
   "execution_count": null,
   "metadata": {
    "colab": {
     "base_uri": "https://localhost:8080/",
     "height": 361
    },
    "id": "RTc3IhIIePSW",
    "outputId": "dbcd45ae-ef0e-4a48-eb57-6c41ee9d4a4f"
   },
   "outputs": [],
   "source": [
    "#A. USA Stringency \n",
    "my_complete_df[my_complete_df['CountryCode'] == \"USA\"].plot(y='StringencyIndex',color='red', kind=\"line\",c='c')\n",
    "#plt.plot( 'x', 'y3', data=df, marker='', color='olive', linewidth=2, linestyle='dashed', label=\"toto\")\n",
    "plt.ylim(0 , 105)\n",
    "plt.title(\"USA Stringency Index\")\n",
    "plt.ylabel(\"Stringency Index (%)\")\n",
    "plt.legend()\n",
    "plt.show()\n",
    "\n"
   ]
  },
  {
   "cell_type": "code",
   "execution_count": null,
   "metadata": {
    "colab": {
     "base_uri": "https://localhost:8080/",
     "height": 609
    },
    "id": "RMfyw1DFeRgp",
    "outputId": "e308efbf-4c68-4622-98f4-84df51b9ea65"
   },
   "outputs": [],
   "source": [
    "countries = [\"IND\", \"BRA\", \"RUS\", \"COL\", \"USA\"]\n",
    "coun = my_final_df[my_final_df['CountryCode'].isin(countries)].reset_index()\n",
    "coun"
   ]
  },
  {
   "cell_type": "code",
   "execution_count": null,
   "metadata": {
    "colab": {
     "base_uri": "https://localhost:8080/",
     "height": 375
    },
    "id": "cXHBsspOJwVa",
    "outputId": "85c37c2f-82b7-4795-9f3b-995affad7d49"
   },
   "outputs": [],
   "source": [
    "#countries = [\"US\", \"India\", \"Brazil\", \"Russia\", \"Colombia\"]\n",
    "#coun= my_final_df[my_final_df['Country_Region'].isin(countries)].reset.index()\n",
    "sb.relplot(\n",
    "    data=coun, kind=\"line\",\n",
    "    x=\"Date\", y=\"Death_100K\",\n",
    "    hue=\"CountryCode\")\n",
    "\n",
    "# col=\"align\",\n",
    "#my_complete_df[(my_complete_df['Country_Region'] == \"Brazil\") & (my_complete_df['Country_Region'] == \"India\") & (my_complete_df['Country_Region'] == \"Colombia\")]\n",
    "#subset_df= my_complete_df.loc[:,[my_complete_df['Country_Region'] == \"US\"]].copy()\n",
    "\n",
    "# plot1=subs.plot(y='StringencyIndex',kind=\"line\",c='c')\n",
    "#plt.show()"
   ]
  },
  {
   "cell_type": "code",
   "execution_count": null,
   "metadata": {
    "id": "AyXxkW3EQu4L"
   },
   "outputs": [],
   "source": [
    "x.corr(y)"
   ]
  },
  {
   "cell_type": "code",
   "execution_count": null,
   "metadata": {
    "id": "CH5sE6kQk2p0"
   },
   "outputs": [],
   "source": [
    "#my_complete_df[my_complete_df['CountryCode'] == \"USA\"]\n",
    "#CHE_covid_df = my_complete_df[my_complete_df['Country_Region'] == \"US\"]\n",
    "\n",
    "fig, ax1 = plt.subplots()\n",
    "ax2 = ax1.twinx()\n",
    "Bra_covid_df.plot(y='StringencyIndex',kind=\"line\",c='c')\n",
    "\n",
    "#ax1.plot(x, y1, 'g-')\n",
    "#ax2.plot(x, y2, 'b-')\n"
   ]
  },
  {
   "cell_type": "code",
   "execution_count": null,
   "metadata": {
    "id": "TFfeJKI79uFN"
   },
   "outputs": [],
   "source": [
    "#A. USA Stringency \n",
    "US_covid_df = my_complete_df[my_complete_df['CountryCode'] == \"USA\"]\n",
    "#CHE_covid_df = my_complete_df[my_complete_df['Country_Region'] == \"US\"]\n",
    "plot1=my_complete_df[my_complete_df['CountryCode'] == \"USA\"].plot(y='StringencyIndex',kind=\"line\",c='c')\n",
    "plt.show()\n",
    "# B. India Stringency\n",
    "India_covid_df = my_complete_df[my_complete_df['Country_Region'] == \"India\"]\n",
    "#CHE_covid_df = my_complete_df[my_complete_df['Country_Region'] == \"US\"]\n",
    "plot1=India_covid_df.plot(y='StringencyIndex',kind=\"line\",c='c')\n",
    "plt.show()"
   ]
  },
  {
   "cell_type": "code",
   "execution_count": null,
   "metadata": {
    "id": "ykfUxxU_9bnY"
   },
   "outputs": [],
   "source": [
    "import matplotlib.pyplot as plt\n",
    "\n",
    "#df=pd.DataFrame({'x': range(1,11), 'y1': np.random.randn(10), 'y2': np.random.randn(10)+range(1,11), 'y3': np.random.randn(10)+range(11,21) })\n",
    "\n",
    "my_complete_df[my_complete_df['Country_Region'] == \"India\"].plot(y='StringencyIndex',marker='', color='olive', linewidth=2)\n",
    "plt.ylim(0 , 105)\n",
    "my_complete_df[my_complete_df['CountryCode'] == \"USA\"].plot(y='StringencyIndex',kind=\"line\",c='c')\n",
    "plt.ylim(0 , 105)\n",
    "my_complete_df[my_complete_df['Country_Region'] == \"Brazil\"].plot(y='StringencyIndex')\n",
    "plt.ylim(0 , 105)\n",
    "\n",
    "# C. Brazil Stringency\n",
    "Bra_covid_df = my_complete_df[my_complete_df['Country_Region'] == \"Brazil\"]\n",
    "#CHE_covid_df = my_complete_df[my_complete_df['Country_Region'] == \"US\"]\n",
    "plot1=Bra_covid_df.plot(y='StringencyIndex',kind=\"line\",c='c')\n",
    "plt.show()\n",
    "\n",
    "plt.legend()\n",
    "plt.show()"
   ]
  },
  {
   "cell_type": "code",
   "execution_count": null,
   "metadata": {
    "id": "uktSI7DvdJW6"
   },
   "outputs": [],
   "source": [
    "my_complete_df[my_complete_df['Country_Region'] == \"Brazil\"].plot(y='StringencyIndex', color='green')\n",
    "plt.title(\"Brazil Stringency Index\")\n",
    "plt.ylim(0 , 105)\n",
    "plt.ylabel(\"Stringency Index (%)\")\n",
    "plt.legend()\n",
    "plt.show()\n",
    "\n"
   ]
  },
  {
   "cell_type": "code",
   "execution_count": null,
   "metadata": {
    "id": "ra0jwmxw-I2j"
   },
   "outputs": [],
   "source": [
    "India_covid_df = my_final_df[my_final_df['Country_Region'] == \"Brazil\"]\n",
    "plot1=India_covid_df.plot(y='Confirmed_100K',kind=\"line\",c='c')\n",
    "#plt.ylim(0 , 100)\n",
    "plt.title(\"India confirmed cases\")\n",
    "plt.ylabel(\"Confirmed cases per 100K\")\n",
    "plt.show()\n"
   ]
  },
  {
   "cell_type": "code",
   "execution_count": null,
   "metadata": {
    "id": "PLTqrCE2apCq"
   },
   "outputs": [],
   "source": [
    "my_final_df[my_final_df['CountryCode'] == \"USA\"].plot(y='Confirmed_100K',kind=\"line\",color='red',c='c')\n",
    "plt.title(\"USA confirmed cases\")\n",
    "plt.ylabel(\"Confirmed cases per 100K\")\n",
    "plt.ylim(0 , 1300)\n",
    "plt.legend()\n",
    "plt.show()\n",
    "\n",
    "my_final_df[my_final_df['Country_Region'] == \"India\"].plot(y='Confirmed_100K',marker='', color='olive', linewidth=2)\n",
    "plt.title(\"India confirmed cases\")\n",
    "plt.ylabel(\"Confirmed cases per 100K\")\n",
    "plt.ylim(0 , 1300)\n",
    "plt.legend()\n",
    "plt.show()\n",
    "\n",
    "my_final_df[my_final_df['Country_Region'] == \"Brazil\"].plot(y='Confirmed',kind=\"line\",color='green',c='c')\n",
    "plt.title(\"Brazil confirmed cases\")\n",
    "plt.ylabel(\"Confirmed cases per 100K\")\n",
    "#plt.ylim(0 , 1300)\n",
    "plt.legend()\n",
    "plt.show()\n",
    "my_final_df[my_final_df['Country_Region'] == \"Russia\"].plot(y='Confirmed_100K',kind=\"line\",c='c')\n",
    "plt.title(\"Russia confirmed cases\")\n",
    "plt.ylabel(\"Confirmed cases per 100K\")\n",
    "plt.ylim(0 , 1300)\n",
    "plt.legend()\n",
    "plt.show()\n",
    "my_final_df[my_final_df['CountryCode'] == \"COL\"].plot(y='Confirmed_100K',kind=\"line\",color='purple',c='c')\n",
    "plt.title(\"Colombia confirmed cases\")\n",
    "plt.ylabel(\"Confirmed cases per 100K\")\n",
    "plt.ylim(0 , 1300)\n",
    "plt.legend()\n",
    "plt.show()"
   ]
  },
  {
   "cell_type": "code",
   "execution_count": null,
   "metadata": {
    "id": "YQg0j0w7Jshw"
   },
   "outputs": [],
   "source": [
    "#my_final_df[my_final_df['CountryCode'] == \"USA\"]\n",
    "#my_final_df.describe\n",
    "#my_final_df.columns\n",
    "#my_final_df['Date'] \n",
    "#= pd.to_datetime(my_final_df['Date'], format='%Y%m%d')\n",
    "\n",
    "#date_list= my_final_df.loc['2020-10-10']\n",
    "#date_list\n",
    "#my_final_df.set_index(my_final_df['Date'], inplace=True) \n",
    "#my_final_df[:,my_final_df[\"Date\"]]\n",
    "#confirmed_df[['Country/Region', date_list[-1]]].sort_values(by = date_list[-1], ascending = False).head(5)\n",
    "date_list[['CountryCode', \"Confirmed\"]].sort_values(by =\"Confirmed\", ascending = False).head(5)"
   ]
  },
  {
   "cell_type": "code",
   "execution_count": null,
   "metadata": {
    "id": "cYo9y_zR8o9j"
   },
   "outputs": [],
   "source": [
    "my_final_df.columns"
   ]
  },
  {
   "cell_type": "code",
   "execution_count": null,
   "metadata": {
    "id": "YaVOjfyy6TNQ"
   },
   "outputs": [],
   "source": [
    "import statsmodels.api as sm\n",
    "import statsmodels.formula.api as smf\n",
    "import pandas as pd\n",
    "import numpy as np"
   ]
  },
  {
   "cell_type": "code",
   "execution_count": null,
   "metadata": {
    "id": "O1T6ysXm8AME"
   },
   "outputs": [],
   "source": [
    "my_final_df"
   ]
  },
  {
   "cell_type": "code",
   "execution_count": null,
   "metadata": {
    "id": "i499L8Jj74_n"
   },
   "outputs": [],
   "source": [
    "dates = confirmed_df.columns[4:]\n",
    "\n",
    "confirmed_df_long = confirmed_df.melt(\n",
    "    id_vars=['Province/State', 'Country/Region', 'Lat', 'Long'], \n",
    "    value_vars=dates, \n",
    "    var_name='Date', \n",
    "    value_name='Confirmed')\n",
    "\n",
    "deaths_df_long = deaths_df.melt(\n",
    "    id_vars=['Province/State', 'Country/Region', 'Lat', 'Long'], \n",
    "    value_vars=dates, \n",
    "    var_name='Date', \n",
    "    value_name='Deaths')\n",
    "\n",
    "recovered_df_long = recovered_df.melt(\n",
    "    id_vars=['Province/State', 'Country/Region', 'Lat', 'Long'], \n",
    "    value_vars=dates, \n",
    "    var_name='Date', \n",
    "    value_name='Recovered')"
   ]
  },
  {
   "cell_type": "code",
   "execution_count": null,
   "metadata": {
    "id": "qjLspseMEDLm"
   },
   "outputs": [],
   "source": [
    "confirmed_df_india = confirmed_df[confirmed_df[\"Country/Region\"]==\"India\"]\n",
    "deaths_df_india = deaths_df[deaths_df[\"Country/Region\"]==\"India\"]\n",
    "recovered_df_india= recovered_df[recovered_df[\"Country/Region\"]==\"India\"]\n",
    "recovered_df_india\n",
    "#deaths_df = pd.read_csv('time_series_covid19_deaths_global.csv')\n",
    "#recovered_df = pd.read_csv('time_series_covid19_recovered_global.csv')"
   ]
  },
  {
   "cell_type": "code",
   "execution_count": null,
   "metadata": {
    "id": "W1APXoSrFLh0"
   },
   "outputs": [],
   "source": [
    "#world_confirmed_ts_url = 'https://raw.githubusercontent.com/CSSEGISandData/COVID-19/master/csse_covid_19_data/csse_covid_19_time_series/time_series_covid19_confirmed_global.csv'"
   ]
  },
  {
   "cell_type": "markdown",
   "metadata": {
    "id": "X9ZSMcO3FMNO"
   },
   "source": [
    "Predictive analysis\n"
   ]
  },
  {
   "cell_type": "code",
   "execution_count": null,
   "metadata": {
    "id": "LyHxQCzAKk8B"
   },
   "outputs": [],
   "source": [
    "# World Recovered\n",
    "world_recovered_ts_url = 'https://raw.githubusercontent.com/CSSEGISandData/COVID-19/master/csse_covid_19_data/csse_covid_19_time_series/time_series_covid19_recovered_global.csv'\n",
    "world_recovered_ts_df = pd.read_csv(world_recovered_ts_url, header=0, escapechar='\\\\')\n",
    "world_recovered_ts_df.head(5)"
   ]
  },
  {
   "cell_type": "code",
   "execution_count": null,
   "metadata": {
    "id": "38DdxRXxK6fy"
   },
   "outputs": [],
   "source": [
    "world_recovered_ts_df = world_recovered_ts_df.assign(days=[1 + \n",
    "                                               i for i in range(len(world_recovered_ts_df))])[['days'] + \n",
    "                                               world_recovered_ts_df.columns.tolist()]"
   ]
  },
  {
   "cell_type": "code",
   "execution_count": null,
   "metadata": {
    "id": "5lXk9mPuK86S"
   },
   "outputs": [],
   "source": [
    "recovered_df_long = world_recovered_ts_df.melt(\n",
    "    id_vars=[\"days\",'Province/State', 'Country/Region', 'Lat', 'Long'], \n",
    "    value_vars=dates, \n",
    "    var_name='Date', \n",
    "    value_name='Recovered')"
   ]
  },
  {
   "cell_type": "code",
   "execution_count": null,
   "metadata": {
    "id": "gJs5j0wDLDjy"
   },
   "outputs": [],
   "source": [
    "training_set = recovered_df_long\n",
    "x = np.array(training_set[\"days\"]).reshape(-1, 1)\n",
    "y = training_set[\"Recovered\"]"
   ]
  },
  {
   "cell_type": "code",
   "execution_count": null,
   "metadata": {
    "id": "EY-4rIvmLFur"
   },
   "outputs": [],
   "source": [
    "regression_model = PolynomialRegressionModel(\"Cases using Polynomial Regression\", 2)\n",
    "regression_model.train(x, y)"
   ]
  },
  {
   "cell_type": "code",
   "execution_count": null,
   "metadata": {
    "id": "0RXLe50-LIP5"
   },
   "outputs": [],
   "source": [
    "y_pred = regression_model.get_predictions(x)\n",
    "y_pred"
   ]
  },
  {
   "cell_type": "code",
   "execution_count": null,
   "metadata": {
    "id": "62c_GXOpLMK8"
   },
   "outputs": [],
   "source": [
    "plot_graph(\"Cases using Polynomial Regression\", x, y, y_pred)"
   ]
  },
  {
   "cell_type": "code",
   "execution_count": null,
   "metadata": {
    "id": "tsIym_pXLfs5"
   },
   "outputs": [],
   "source": [
    "training_set = new_usa_recovered_df\n",
    "x = np.array(training_set[\"days\"]).reshape(-1, 1)\n",
    "y = training_set[\"recovered\"]"
   ]
  },
  {
   "cell_type": "markdown",
   "metadata": {
    "id": "cfkJdipASqgI"
   },
   "source": [
    "#3. Correlations\n",
    "\n",
    "Here, we explored the correlations between the variables\n",
    "\n"
   ]
  },
  {
   "cell_type": "code",
   "execution_count": null,
   "metadata": {
    "id": "-5kApuSBqL4R"
   },
   "outputs": [],
   "source": [
    "import scipy.stats\n",
    "from sklearn.linear_model import LinearRegression\n",
    "from scipy.stats import pearsonr\n",
    "from scipy.stats import spearmanr\n",
    "import seaborn as sb\n",
    "model = LinearRegression()\n"
   ]
  },
  {
   "cell_type": "code",
   "execution_count": null,
   "metadata": {
    "colab": {
     "base_uri": "https://localhost:8080/",
     "height": 391
    },
    "id": "sB6G3eK_6pEg",
    "outputId": "3e6c5326-bed6-4d5b-ccf5-b4edb18dd66c"
   },
   "outputs": [],
   "source": [
    "#coun[coun[\"Confirmed\"] = 1]\n",
    "#coun[coun[\"Confirmed\"]]\n",
    "coun.isna().sum()"
   ]
  },
  {
   "cell_type": "code",
   "execution_count": null,
   "metadata": {
    "colab": {
     "base_uri": "https://localhost:8080/",
     "height": 307
    },
    "id": "1UebuiqE6YQ4",
    "outputId": "0e55b613-7c8d-4f82-a5af-d01a66450831"
   },
   "outputs": [],
   "source": [
    "sb.boxplot(\n",
    "    data=coun, x=\"incomeLevel.value\", y=\"Confirmed\",\n",
    "    hue=\"Country_Region\")"
   ]
  },
  {
   "cell_type": "code",
   "execution_count": null,
   "metadata": {
    "id": "DUD4P-jhOio-"
   },
   "outputs": [],
   "source": [
    "# We explored the graphical correlation between the variables of interest\n",
    "\n",
    "#col_stringe=stringe_natio_dataset[stringe_natio_dataset[\"CountryName\"]==\"Colombia\"]\n",
    "#col_stringe\n",
    "#stringe_natio_dataset['Date'] = pd.to_datetime(stringe_natio_dataset['Date'], format = '%Y%m%d')\n",
    "col_sub= my_final_df[my_final_df['Country_Region'] == \"Colombia\"]\n",
    "ind_sub= my_final_df[my_final_df['Country_Region'] == \"India\"]\n",
    "usa_sub= my_final_df[my_final_df['CountryCode'] == \"USA\"]\n",
    "bra_sub = my_final_df[my_final_df['Country_Region'] == \"Brazil\"]\n",
    "rus_sub= my_final_df[my_final_df['Country_Region'] == \"Russia\"]\n"
   ]
  },
  {
   "cell_type": "code",
   "execution_count": null,
   "metadata": {
    "id": "Xj-SEzBcqe7J"
   },
   "outputs": [],
   "source": [
    "col_sub =col_sub[[\"Confirmed_100K\", \"StringencyIndex\",\"Deaths_100K\", \"Recovered\"]]\n",
    "ind_sub =ind_sub[[\"Confirmed_100K\", \"StringencyIndex\",\"Deaths_100K\", \"Recovered\"]]\n",
    "usa_sub =usa_sub[[\"Confirmed_100K\", \"StringencyIndex\",\"Deaths_100K\", \"Recovered\"]]\n",
    "bra_sub =bra_sub[[\"Confirmed_100K\", \"StringencyIndex\",\"Deaths_100K\", \"Recovered\"]]\n",
    "rus_sub =rus_sub[[\"Confirmed_100K\", \"StringencyIndex\",\"Deaths_100K\", \"Recovered\"]]\n",
    "\n",
    "sb.pairplot(col_sub)\n",
    "sb.pairplot(ind_sub)\n",
    "sb.pairplot(usa_sub)\n",
    "sb.pairplot(bra_sub)\n",
    "sb.pairplot(rus_sub)\n",
    "#col_sub[\"Confirmed_100K\"]"
   ]
  },
  {
   "cell_type": "code",
   "execution_count": null,
   "metadata": {
    "id": "ZScACwwMdNKT"
   },
   "outputs": [],
   "source": [
    "#spearmanr_coefficient, p_value=spearmanr(col_sub[\"Confirmed_100K\"],col_sub[\"Deaths_100K\"])\n",
    "p_value1=spearmanr(col_sub[\"Confirmed_100K\"],col_sub[\"Deaths_100K\"])\n",
    "p_value2=spearmanr(col_sub[\"Confirmed_100K\"],col_sub[\"Recovered\"])\n",
    "p_value3=spearmanr(col_sub[\"Confirmed_100K\"],col_sub[\"StringencyIndex\"])\n",
    "p_value3\n",
    "#spearmanr_coefficient"
   ]
  },
  {
   "cell_type": "code",
   "execution_count": null,
   "metadata": {
    "id": "LQC90uwMUq8Y"
   },
   "outputs": [],
   "source": [
    "\n",
    "#training_set_deaths = my_col_death\n",
    "y_deaths = np.array([my_col_death[\"StringencyIndex\"]]).reshape(-1, 1)\n",
    "x_deaths = np.array([my_col_death[\"Deaths\"]]).reshape(-1, 1)\n",
    "#len(y_deaths)\n",
    "pearsonr(x_deaths, y_deaths)\n",
    "len(y_deaths)"
   ]
  },
  {
   "cell_type": "code",
   "execution_count": null,
   "metadata": {
    "id": "KMfIsoTULS8Q"
   },
   "outputs": [],
   "source": [
    "import operator\n",
    "\n",
    "def plot_graph(model_name, x, y, y_pred):\n",
    "\n",
    "    plt.scatter(x, y, s=10)\n",
    "    sort_axis = operator.itemgetter(0)\n",
    "    sorted_zip = sorted(zip(x, y_pred), key=sort_axis)\n",
    "    x, y_pred = zip(*sorted_zip)\n",
    "\n",
    "    plt.plot(x, y_pred, color='m')\n",
    "    plt.title(\"Amount of \" + model_name + \" in each day\")\n",
    "    plt.xlabel(\"Day\")\n",
    "    plt.ylabel(model_name)\n",
    "    plt.show()"
   ]
  },
  {
   "cell_type": "markdown",
   "metadata": {
    "id": "SaWjREmcaSVQ"
   },
   "source": [
    "# 4. Polynomial Regression of Coronavirus cases\n",
    "\n",
    "This data could be potentially used for predictive analysis\n"
   ]
  },
  {
   "cell_type": "code",
   "execution_count": null,
   "metadata": {
    "id": "Nn4461G9FOWx"
   },
   "outputs": [],
   "source": [
    "import numpy as np\n",
    "from sklearn.linear_model import LinearRegression\n",
    "from sklearn.preprocessing import PolynomialFeatures\n",
    "\n",
    "class PolynomialRegressionModel:\n",
    "\n",
    "    def __init__(self, model_name, polynomial_degree):\n",
    "        self.__model_name = model_name\n",
    "        self.__polynomial_degree = polynomial_degree\n",
    "        self.__model = None\n",
    "\n",
    "    def train(self, x, y):\n",
    "        polynomial_features = PolynomialFeatures(degree=self.__polynomial_degree)\n",
    "        x_poly = polynomial_features.fit_transform(x)\n",
    "        self.__model = LinearRegression()\n",
    "        self.__model.fit(x_poly, y)\n",
    "\n",
    "    def get_predictions(self, x):\n",
    "        polynomial_features = PolynomialFeatures(degree=self.__polynomial_degree)\n",
    "        x_poly = polynomial_features.fit_transform(x)\n",
    "        return np.round(self.__model.predict(x_poly), 0).astype(np.int32)\n",
    "\n",
    "    def get_model_polynomial_str(self):\n",
    "        coef = self.__model.coef_\n",
    "        intercept = self.__model.intercept_\n",
    "        poly = \"{0:.3f}\".format(intercept)\n",
    "\n",
    "        for i in range(1, len(coef)):\n",
    "            if coef[i] >= 0:\n",
    "                poly += \" + \"\n",
    "            else:\n",
    "                poly += \" - \"\n",
    "            poly += \"{0:.3f}\".format(coef[i]).replace(\"-\", \"\") + \"X^\" + str(i)\n",
    "\n",
    "        return poly"
   ]
  },
  {
   "cell_type": "code",
   "execution_count": null,
   "metadata": {
    "id": "Iqtv4zavM0DI"
   },
   "outputs": [],
   "source": [
    "def print_forecast(model_name, model, beginning_day=0, limit=10):\n",
    "\n",
    "    next_days_x = np.array(range(beginning_day, beginning_day + limit)).reshape(-1, 1)\n",
    "    next_days_pred = model.get_predictions(next_days_x)\n",
    "\n",
    "    print(\"The forecast for \" + model_name + \" in the following \" + str(limit) + \" days is:\")\n",
    "    for i in range(0, limit):\n",
    "        print(\"Day \" + str(i + 1) + \": \" + str(next_days_pred[i]))"
   ]
  },
  {
   "cell_type": "code",
   "execution_count": null,
   "metadata": {
    "id": "A_HiuI2zM6Aw"
   },
   "outputs": [],
   "source": [
    "import operator\n",
    "\n",
    "def plot_graph(model_name, x, y, y_pred):\n",
    "\n",
    "    plt.scatter(x, y, s=10)\n",
    "    sort_axis = operator.itemgetter(0)\n",
    "    sorted_zip = sorted(zip(x, y_pred), key=sort_axis)\n",
    "    x, y_pred = zip(*sorted_zip)\n",
    "\n",
    "    plt.plot(x, y_pred, color='m')\n",
    "    plt.title(\"Amount of \" + model_name + \" in each day\")\n",
    "    plt.xlabel(\"Day\")\n",
    "    plt.ylabel(model_name)\n",
    "    plt.show()"
   ]
  },
  {
   "cell_type": "code",
   "execution_count": null,
   "metadata": {
    "id": "ogomO-trRsTp"
   },
   "outputs": [],
   "source": [
    "# 1. Data, first example is Russia\n",
    "overall_deaths_ts_df = deaths_df[deaths_df[\"Country/Region\"] == \"Colombia\"]\n",
    "new_country_deaths_df = overall_deaths_ts_df[date_list].T\n",
    "\n",
    "\n",
    "new_country_deaths_df.columns = [\"deaths\"]\n",
    "new_country_deaths_df = new_country_deaths_df.assign(days=[1 +\n",
    "                                                   i for i in range(len(new_country_deaths_df))])[['days'] + \n",
    "                                                   new_country_deaths_df.columns.tolist()]\n",
    "new_country_deaths_df"
   ]
  },
  {
   "cell_type": "code",
   "execution_count": null,
   "metadata": {
    "id": "f6So1Myk47_v"
   },
   "outputs": [],
   "source": [
    "overall_deaths_ts_df = confirmed_df[confirmed_df[\"Country/Region\"] == \"India\"]\n",
    "new_country_deaths_df = overall_deaths_ts_df[date_list].T\n",
    "\n",
    "\n",
    "new_country_deaths_df.columns = [\"confirmed\"]\n",
    "new_country_deaths_df = new_country_deaths_df.assign(days=[1 +\n",
    "                                                   i for i in range(len(new_country_deaths_df))])[['days'] + \n",
    "                                                   new_country_deaths_df.columns.tolist()]\n",
    "new_country_deaths_df"
   ]
  },
  {
   "cell_type": "code",
   "execution_count": null,
   "metadata": {
    "id": "8JYJyf7FMsVA"
   },
   "outputs": [],
   "source": [
    "# 2. select data attention\n",
    "training_set_deaths = new_country_deaths_df\n",
    "x_deaths = np.array(training_set_deaths[\"days\"]).reshape(-1, 1)\n",
    "y_deaths = training_set_deaths[\"confirmed\"]"
   ]
  },
  {
   "cell_type": "code",
   "execution_count": null,
   "metadata": {
    "id": "ebfVyrKDNMD_"
   },
   "outputs": [],
   "source": [
    "# 3 Modelling Country predictive deaths\n",
    "regression_model = PolynomialRegressionModel(\"Deaths using Polynomial Regression\", 2)\n",
    "regression_model.train(x_deaths, y_deaths)\n",
    "y_deaths_pred = regression_model.get_predictions(x_deaths)\n",
    "print_forecast(\"Deaths using Polynomial Regression\", regression_model, \n",
    "               beginning_day=len(x_deaths), \n",
    "               limit=10)\n",
    "plot_graph(\"Russia Deaths\", x_deaths, y_deaths, y_deaths_pred)"
   ]
  },
  {
   "cell_type": "markdown",
   "metadata": {
    "id": "0lSFfpXHy2eX"
   },
   "source": [
    "# Examples\n"
   ]
  },
  {
   "cell_type": "code",
   "execution_count": null,
   "metadata": {
    "id": "FmwJdFXGc3Od"
   },
   "outputs": [],
   "source": [
    "# 1. Data, first example is Russia 2\n",
    "new_country_deaths_df= my_final_df[my_final_df['Country_Region'] == \"Colombia\"]\n",
    "#overall_deaths_ts_df = deaths_df[deaths_df[\"Country/Region\"] == \"Russia\"]\n",
    "#new_country_deaths_df = overall_deaths_ts_df[date_list].T\n",
    "#new_country_deaths_df.columns = [\"deaths\"]\n",
    "new_country_deaths_df = new_country_deaths_df.assign(days=[1 +\n",
    "                                                   i for i in range(len(new_country_deaths_df))])[['days'] + \n",
    "                                                   new_country_deaths_df.columns.tolist()]\n",
    "new_country_deaths_df"
   ]
  },
  {
   "cell_type": "code",
   "execution_count": null,
   "metadata": {
    "id": "iDSMXtZ2zNH6"
   },
   "outputs": [],
   "source": [
    "# 2. select data attention\n",
    "training_set_deaths = new_country_deaths_df\n",
    "x_deaths = np.array(training_set_deaths[\"days\"]).reshape(-1, 1)\n",
    "y_deaths = training_set_deaths[\"Deaths\"]\n",
    "x_active = np.array(training_set_deaths[\"days\"]).reshape(-1, 1)\n",
    "y_active = training_set_deaths[\"Active\"]\n",
    "x_confirmed = np.array(training_set_deaths[\"days\"]).reshape(-1, 1)\n",
    "y_confirmed = training_set_deaths[\"Confirmed\"]\n"
   ]
  },
  {
   "cell_type": "code",
   "execution_count": null,
   "metadata": {
    "id": "RIGP8KW5zYcZ"
   },
   "outputs": [],
   "source": [
    "# 3 Modelling Country predictive deaths, \n",
    "regression_model = PolynomialRegressionModel(\"Deaths using Polynomial Regression\", 2)\n",
    "regression_model.train(x_deaths, y_deaths)\n",
    "y_deaths_pred = regression_model.get_predictions(x_deaths)\n",
    "print_forecast(\"Deaths using Polynomial Regression\", regression_model, \n",
    "               beginning_day=len(x_deaths), \n",
    "               limit=10)\n",
    "plot_graph(\"Colombia Deaths\", x_deaths, y_deaths, y_deaths_pred)\n",
    "\n",
    "regression_model = PolynomialRegressionModel(\"Deaths using Polynomial Regression\", 3)\n",
    "regression_model.train(x_active, y_active)\n",
    "y_active_pred = regression_model.get_predictions(x_active)\n",
    "print_forecast(\"Deaths using Polynomial Regression\", regression_model, \n",
    "               beginning_day=len(x_active), \n",
    "               limit=10)\n",
    "plot_graph(\"Colombia Active\", x_active, y_active, y_active_pred)\n",
    "\n",
    "regression_model = PolynomialRegressionModel(\"Deaths using Polynomial Regression\", 2)\n",
    "regression_model.train(x_confirmed, y_confirmed)\n",
    "y_confirmed_pred = regression_model.get_predictions(x_confirmed)\n",
    "print_forecast(\"Deaths using Polynomial Regression\", regression_model, \n",
    "               beginning_day=len(x_confirmed), \n",
    "               limit=10)\n",
    "plot_graph(\"Colombia Confirmed\", x_confirmed, y_confirmed, y_confirmed_pred)"
   ]
  },
  {
   "cell_type": "code",
   "execution_count": null,
   "metadata": {
    "id": "OHES1Ywkddj8"
   },
   "outputs": [],
   "source": [
    "MORE CODE"
   ]
  },
  {
   "cell_type": "code",
   "execution_count": null,
   "metadata": {
    "id": "-CwShaS9OfhX"
   },
   "outputs": [],
   "source": [
    "countries = [\"US\", \"India\", \"Brazil\", \"Russia\", \"Colombia\"]\n",
    "my_final_df[my_final_df['Country_Region'].isin(countries)].plot(y='Confirmed_100K',kind=\"line\",c='c')\n",
    "\n",
    "df=pd.DataFrame({'y1': my_final_df[my_final_df['Country_Region'] == \"Brazil\",],\n",
    "                 'y2': np.random.randn(10)+range(1,11), \n",
    "                 'y3': np.random.randn(10)+range(11,21) })\n",
    "\n",
    "# multiple line plot\n",
    "#plt.plot( 'x', 'y1', data=df, marker='o', markerfacecolor='blue', markersize=12, color='skyblue', linewidth=4)\n",
    "#plt.plot( 'x', 'y2', data=df, marker='', color='olive', linewidth=2)\n",
    "#plt.plot( 'x', 'y3', data=df, marker='', color='olive', linewidth=2, linestyle='dashed', label=\"toto\")\n",
    "\n"
   ]
  },
  {
   "cell_type": "code",
   "execution_count": null,
   "metadata": {
    "id": "MeCor8W7LscQ"
   },
   "outputs": [],
   "source": [
    "usa_overall_deaths_ts_df = world_deaths_ts_df[world_deaths_ts_df[\"Country/Region\"] == \"Russia\"]\n",
    "new_usa_deaths_df = usa_overall_deaths_ts_df[date_list].T\n",
    "new_usa_deaths_df.columns = [\"deaths\"]\n",
    "new_usa_deaths_df = new_usa_deaths_df.assign(days=[1 +\n",
    "                                                   i for i in range(len(new_usa_deaths_df))])[['days'] + \n",
    "                                                   new_usa_deaths_df.columns.tolist()]\n",
    "new_usa_deaths_df"
   ]
  },
  {
   "cell_type": "code",
   "execution_count": null,
   "metadata": {
    "id": "NbaB5InLVq-E"
   },
   "outputs": [],
   "source": [
    "x_deaths"
   ]
  },
  {
   "cell_type": "code",
   "execution_count": null,
   "metadata": {
    "id": "1exTtV33MxLg"
   },
   "outputs": [],
   "source": [
    "y_pred = regression_model.get_predictions(x)\n",
    "y_pred"
   ]
  },
  {
   "cell_type": "code",
   "execution_count": null,
   "metadata": {
    "id": "D4OoNX7mM2yA"
   },
   "outputs": [],
   "source": [
    "print_forecast(\"Cases using Polynomial Regression\", regression_model, \n",
    "               beginning_day=len(x), \n",
    "               limit=10)"
   ]
  },
  {
   "cell_type": "code",
   "execution_count": null,
   "metadata": {
    "id": "jQkufxDDM8Hv"
   },
   "outputs": [],
   "source": [
    "plot_graph(\"Cases using Polynomial Regression\", x, y, y_pred)\n"
   ]
  },
  {
   "cell_type": "code",
   "execution_count": null,
   "metadata": {
    "id": "bCMXOrCiSJ-O"
   },
   "outputs": [],
   "source": [
    "# Model\n",
    "regression_model = PolynomialRegressionModel(\"Cases using Polynomial Regression\", 2)\n",
    "regression_model.train(x_deaths, y_deaths)"
   ]
  },
  {
   "cell_type": "code",
   "execution_count": null,
   "metadata": {
    "id": "Qt9yhxR-cZtX"
   },
   "outputs": [],
   "source": [
    "# For Colombia\n",
    "deaths_df\n",
    "overall_deaths_ts_df = deaths_df[deaths_df[\"Country/Region\"] == \"Colombia\"]\n",
    "new_country_deaths_df = overall_deaths_ts_df[date_list].T\n",
    "new_country_deaths_df.columns = [\"deaths\"]\n",
    "new_country_deaths_df = new_country_deaths_df.assign(days=[1 +\n",
    "                                                   i for i in range(len(new_country_deaths_df))])[['days'] + \n",
    "                                                   new_country_deaths_df.columns.tolist()]\n",
    "new_country_deaths_df"
   ]
  },
  {
   "cell_type": "code",
   "execution_count": null,
   "metadata": {
    "id": "18Ep_0T1Udtk"
   },
   "outputs": [],
   "source": [
    "#countries = sorted(corona_data['Country/Region'].unique())\n",
    "countries =[\"Brazil\", \"India\"]\n",
    "n_rows = len(countries) // 2 + 1\n",
    "i = 0\n",
    "for country in (countries):\n",
    "    country_data = my_final_df[my_final_df['Country_Region'] == country]\n",
    "    # sum all the rows together for each column, and select only the data columns\n",
    "    by_date = country_data[my_final_df['Confirmed_100K'].filter(like='/20')\n",
    "\n",
    "#my_final_df[my_final_df['Country_Region'] == \"Russia\"].plot(y='Confirmed_100K',kind=\"line\",c='c')\n",
    "    # plot it if numbers exceed specified amount on date\n",
    "    if by_date['3/14/20'] > 1000:\n",
    "        plt.subplot(n_rows, 2, i+1)\n",
    "        by_date.plot(title='cases by date: %s' % country, color='green', figsize=(20,5 * n_rows))\n",
    "        i += 1"
   ]
  }
 ],
 "metadata": {
  "colab": {
   "collapsed_sections": [],
   "name": "M1_cas_data_science.ipynb",
   "provenance": [],
   "toc_visible": true
  },
  "kernelspec": {
   "display_name": "Python 3",
   "language": "python",
   "name": "python3"
  },
  "language_info": {
   "codemirror_mode": {
    "name": "ipython",
    "version": 3
   },
   "file_extension": ".py",
   "mimetype": "text/x-python",
   "name": "python",
   "nbconvert_exporter": "python",
   "pygments_lexer": "ipython3",
   "version": "3.7.6"
  }
 },
 "nbformat": 4,
 "nbformat_minor": 4
}
