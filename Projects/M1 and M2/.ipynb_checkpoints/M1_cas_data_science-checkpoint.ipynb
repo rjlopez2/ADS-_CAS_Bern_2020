{
 "cells": [
  {
   "cell_type": "markdown",
   "metadata": {
    "id": "ZNcjDy0ip5Qd"
   },
   "source": [
    "### **Import libraries**"
   ]
  },
  {
   "cell_type": "code",
   "execution_count": 1,
   "metadata": {
    "colab": {
     "base_uri": "https://localhost:8080/",
     "height": 170
    },
    "id": "-5JnbT3Vp5Qf",
    "outputId": "7b5a3d5d-f5d9-4039-f080-b2c597b535ad"
   },
   "outputs": [],
   "source": [
    "import pandas as pd\n",
    "#!pip install wget # uncomment this igf you run it via colab\n",
    "import os\n",
    "import numpy as np\n",
    "import wget\n",
    "import requests\n",
    "import matplotlib.pyplot as plt\n",
    "pd.set_option('display.max_rows', 200)"
   ]
  },
  {
   "cell_type": "markdown",
   "metadata": {
    "id": "xukyw79xp5Qn"
   },
   "source": [
    "# Part I \n",
    "# M1 project on data aquisition, formating and cleaning\n",
    "\n",
    "## 1. John Hopkins data collection and cleaning\n",
    "### **Download the time series datasets on global Covid cases from the John Hpkins University**\n",
    "The time series are organized in 3 different files from their Github repository:\n",
    "\n",
    " - one file retrieve information on the confirmed cases\n",
    " - one file retrieve information on the death cases\n",
    " - one file retrieve information on the recovered cases\n",
    "\n",
    "Below we download the 3 datastes and store them locally in .csv format."
   ]
  },
  {
   "cell_type": "code",
   "execution_count": 2,
   "metadata": {
    "id": "LgTaKV73p5Qs"
   },
   "outputs": [],
   "source": [
    "urls = ['https://raw.githubusercontent.com/CSSEGISandData/COVID-19/master/csse_covid_19_data/csse_covid_19_time_series/time_series_covid19_confirmed_global.csv',\n",
    "       'https://raw.githubusercontent.com/CSSEGISandData/COVID-19/master/csse_covid_19_data/csse_covid_19_time_series/time_series_covid19_deaths_global.csv',\n",
    "       'https://raw.githubusercontent.com/CSSEGISandData/COVID-19/master/csse_covid_19_data/csse_covid_19_time_series/time_series_covid19_recovered_global.csv']\n",
    "\n",
    "path = os.getcwd() # get the current directory\n",
    "\n",
    "for url in urls:\n",
    "    filename = path + '/' + os.path.basename(url) # get the full path of the file\n",
    "    if os.path.exists(filename):\n",
    "        os.remove(filename) # if exist, remove it directly\n",
    "    wget.download(url, out=filename) # download it to the specific path."
   ]
  },
  {
   "cell_type": "code",
   "execution_count": 3,
   "metadata": {
    "id": "Cgp4WyBrp5Qy"
   },
   "outputs": [],
   "source": [
    "confirmed_df = pd.read_csv('time_series_covid19_confirmed_global.csv')\n",
    "deaths_df = pd.read_csv('time_series_covid19_deaths_global.csv')\n",
    "recovered_df = pd.read_csv('time_series_covid19_recovered_global.csv')"
   ]
  },
  {
   "cell_type": "markdown",
   "metadata": {},
   "source": [
    "### **We explore below the structure of the 3 datasets**"
   ]
  },
  {
   "cell_type": "markdown",
   "metadata": {},
   "source": [
    "By looking at the shape of the 3 df, we observe that the recovered_df has different dimention than the two others.\n",
    "Closer inspection revealed that 14 provinces from Canada were missed in the recovered_df."
   ]
  },
  {
   "cell_type": "code",
   "execution_count": 4,
   "metadata": {
    "colab": {
     "base_uri": "https://localhost:8080/",
     "height": 34
    },
    "id": "34Lmqyj-p5Q3",
    "outputId": "44c3e42b-95d4-49fd-fd2c-204f881ec7ab"
   },
   "outputs": [
    {
     "name": "stdout",
     "output_type": "stream",
     "text": [
      "[(266, 264), (266, 264), (253, 264)]\n"
     ]
    }
   ],
   "source": [
    "# check size of the 3 datasets\n",
    "print([confirmed_df.shape, deaths_df.shape, recovered_df.shape])\n"
   ]
  },
  {
   "cell_type": "code",
   "execution_count": 5,
   "metadata": {},
   "outputs": [
    {
     "data": {
      "text/html": [
       "<div>\n",
       "<style scoped>\n",
       "    .dataframe tbody tr th:only-of-type {\n",
       "        vertical-align: middle;\n",
       "    }\n",
       "\n",
       "    .dataframe tbody tr th {\n",
       "        vertical-align: top;\n",
       "    }\n",
       "\n",
       "    .dataframe thead th {\n",
       "        text-align: right;\n",
       "    }\n",
       "</style>\n",
       "<table border=\"1\" class=\"dataframe\">\n",
       "  <thead>\n",
       "    <tr style=\"text-align: right;\">\n",
       "      <th></th>\n",
       "      <th>Province/State</th>\n",
       "      <th>Country/Region</th>\n",
       "    </tr>\n",
       "  </thead>\n",
       "  <tbody>\n",
       "    <tr>\n",
       "      <th>39</th>\n",
       "      <td>Alberta</td>\n",
       "      <td>Canada</td>\n",
       "    </tr>\n",
       "    <tr>\n",
       "      <th>40</th>\n",
       "      <td>British Columbia</td>\n",
       "      <td>Canada</td>\n",
       "    </tr>\n",
       "    <tr>\n",
       "      <th>41</th>\n",
       "      <td>Diamond Princess</td>\n",
       "      <td>Canada</td>\n",
       "    </tr>\n",
       "    <tr>\n",
       "      <th>42</th>\n",
       "      <td>Grand Princess</td>\n",
       "      <td>Canada</td>\n",
       "    </tr>\n",
       "    <tr>\n",
       "      <th>43</th>\n",
       "      <td>Manitoba</td>\n",
       "      <td>Canada</td>\n",
       "    </tr>\n",
       "    <tr>\n",
       "      <th>44</th>\n",
       "      <td>New Brunswick</td>\n",
       "      <td>Canada</td>\n",
       "    </tr>\n",
       "    <tr>\n",
       "      <th>45</th>\n",
       "      <td>Newfoundland and Labrador</td>\n",
       "      <td>Canada</td>\n",
       "    </tr>\n",
       "    <tr>\n",
       "      <th>46</th>\n",
       "      <td>Northwest Territories</td>\n",
       "      <td>Canada</td>\n",
       "    </tr>\n",
       "    <tr>\n",
       "      <th>47</th>\n",
       "      <td>Nova Scotia</td>\n",
       "      <td>Canada</td>\n",
       "    </tr>\n",
       "    <tr>\n",
       "      <th>48</th>\n",
       "      <td>Ontario</td>\n",
       "      <td>Canada</td>\n",
       "    </tr>\n",
       "    <tr>\n",
       "      <th>49</th>\n",
       "      <td>Prince Edward Island</td>\n",
       "      <td>Canada</td>\n",
       "    </tr>\n",
       "    <tr>\n",
       "      <th>50</th>\n",
       "      <td>Quebec</td>\n",
       "      <td>Canada</td>\n",
       "    </tr>\n",
       "    <tr>\n",
       "      <th>51</th>\n",
       "      <td>Saskatchewan</td>\n",
       "      <td>Canada</td>\n",
       "    </tr>\n",
       "    <tr>\n",
       "      <th>52</th>\n",
       "      <td>Yukon</td>\n",
       "      <td>Canada</td>\n",
       "    </tr>\n",
       "  </tbody>\n",
       "</table>\n",
       "</div>"
      ],
      "text/plain": [
       "               Province/State Country/Region\n",
       "39                    Alberta         Canada\n",
       "40           British Columbia         Canada\n",
       "41           Diamond Princess         Canada\n",
       "42             Grand Princess         Canada\n",
       "43                   Manitoba         Canada\n",
       "44              New Brunswick         Canada\n",
       "45  Newfoundland and Labrador         Canada\n",
       "46      Northwest Territories         Canada\n",
       "47                Nova Scotia         Canada\n",
       "48                    Ontario         Canada\n",
       "49       Prince Edward Island         Canada\n",
       "50                     Quebec         Canada\n",
       "51               Saskatchewan         Canada\n",
       "52                      Yukon         Canada"
      ]
     },
     "execution_count": 5,
     "metadata": {},
     "output_type": "execute_result"
    }
   ],
   "source": [
    "confirmed_df[~confirmed_df['Province/State'].isin(recovered_df['Province/State'])][['Province/State', 'Country/Region']] # !!! 14 'Province/State'  no found in the recovered_df"
   ]
  },
  {
   "cell_type": "markdown",
   "metadata": {},
   "source": [
    "Because of this inconsistency, we decided to exclude data from Canada for now."
   ]
  },
  {
   "cell_type": "code",
   "execution_count": 6,
   "metadata": {},
   "outputs": [],
   "source": [
    "recovered_df = recovered_df[recovered_df['Country/Region']!='Canada']\n",
    "confirmed_df = confirmed_df[confirmed_df['Country/Region']!='Canada']\n",
    "deaths_df = deaths_df[deaths_df['Country/Region']!='Canada']"
   ]
  },
  {
   "cell_type": "code",
   "execution_count": 7,
   "metadata": {},
   "outputs": [
    {
     "name": "stdout",
     "output_type": "stream",
     "text": [
      "[(252, 264), (252, 264), (252, 264)]\n"
     ]
    }
   ],
   "source": [
    "# check size of the 3 datasets\n",
    "print([confirmed_df.shape, deaths_df.shape, recovered_df.shape])\n"
   ]
  },
  {
   "cell_type": "markdown",
   "metadata": {
    "id": "wWy3EPy0p5RL"
   },
   "source": [
    "We observed that the first 4 colums of each dataset have the same variables so we use them to merge all 3 datasets and we define the time variable with the rest of the colums\n",
    "\n",
    "1. We create the vector for the time varibale\n",
    "2. we transform the 3 dataframes to long format. "
   ]
  },
  {
   "cell_type": "code",
   "execution_count": 8,
   "metadata": {
    "colab": {
     "base_uri": "https://localhost:8080/",
     "height": 119
    },
    "id": "bhw2Bggyp5Q8",
    "outputId": "1b1c8f6e-fe16-429a-8553-746163bb5adb"
   },
   "outputs": [
    {
     "data": {
      "text/plain": [
       "Index(['Province/State', 'Country/Region', 'Lat', 'Long', '1/22/20', '1/23/20',\n",
       "       '1/24/20', '1/25/20', '1/26/20', '1/27/20',\n",
       "       ...\n",
       "       '9/28/20', '9/29/20', '9/30/20', '10/1/20', '10/2/20', '10/3/20',\n",
       "       '10/4/20', '10/5/20', '10/6/20', '10/7/20'],\n",
       "      dtype='object', length=264)"
      ]
     },
     "execution_count": 8,
     "metadata": {},
     "output_type": "execute_result"
    }
   ],
   "source": [
    "recovered_df.columns"
   ]
  },
  {
   "cell_type": "code",
   "execution_count": 9,
   "metadata": {
    "colab": {
     "base_uri": "https://localhost:8080/",
     "height": 119
    },
    "id": "AQeP3ml9p5RB",
    "outputId": "79286c48-4a13-44ac-dd83-42daa4cf8e3f"
   },
   "outputs": [
    {
     "data": {
      "text/plain": [
       "Index(['Province/State', 'Country/Region', 'Lat', 'Long', '1/22/20', '1/23/20',\n",
       "       '1/24/20', '1/25/20', '1/26/20', '1/27/20',\n",
       "       ...\n",
       "       '9/28/20', '9/29/20', '9/30/20', '10/1/20', '10/2/20', '10/3/20',\n",
       "       '10/4/20', '10/5/20', '10/6/20', '10/7/20'],\n",
       "      dtype='object', length=264)"
      ]
     },
     "execution_count": 9,
     "metadata": {},
     "output_type": "execute_result"
    }
   ],
   "source": [
    "deaths_df.columns"
   ]
  },
  {
   "cell_type": "code",
   "execution_count": 10,
   "metadata": {
    "colab": {
     "base_uri": "https://localhost:8080/",
     "height": 119
    },
    "id": "siq1uGeip5RF",
    "outputId": "9a97e7f0-60fc-4fa9-cbc6-612764b149e2"
   },
   "outputs": [
    {
     "data": {
      "text/plain": [
       "Index(['Province/State', 'Country/Region', 'Lat', 'Long', '1/22/20', '1/23/20',\n",
       "       '1/24/20', '1/25/20', '1/26/20', '1/27/20',\n",
       "       ...\n",
       "       '9/28/20', '9/29/20', '9/30/20', '10/1/20', '10/2/20', '10/3/20',\n",
       "       '10/4/20', '10/5/20', '10/6/20', '10/7/20'],\n",
       "      dtype='object', length=264)"
      ]
     },
     "execution_count": 10,
     "metadata": {},
     "output_type": "execute_result"
    }
   ],
   "source": [
    "confirmed_df.columns"
   ]
  },
  {
   "cell_type": "code",
   "execution_count": 11,
   "metadata": {
    "id": "iDjFoRGip5RM"
   },
   "outputs": [],
   "source": [
    "dates = confirmed_df.columns[4:]\n",
    "\n",
    "confirmed_df_long = confirmed_df.melt(\n",
    "    id_vars=['Province/State', 'Country/Region', 'Lat', 'Long'], \n",
    "    value_vars=dates, \n",
    "    var_name='Date', \n",
    "    value_name='Confirmed')\n",
    "\n",
    "deaths_df_long = deaths_df.melt(\n",
    "    id_vars=['Province/State', 'Country/Region', 'Lat', 'Long'], \n",
    "    value_vars=dates, \n",
    "    var_name='Date', \n",
    "    value_name='Deaths')\n",
    "\n",
    "recovered_df_long = recovered_df.melt(\n",
    "    id_vars=['Province/State', 'Country/Region', 'Lat', 'Long'], \n",
    "    value_vars=dates, \n",
    "    var_name='Date', \n",
    "    value_name='Recovered')"
   ]
  },
  {
   "cell_type": "code",
   "execution_count": 12,
   "metadata": {},
   "outputs": [
    {
     "name": "stdout",
     "output_type": "stream",
     "text": [
      "[(65520, 6), (65520, 6), (65520, 6)]\n"
     ]
    }
   ],
   "source": [
    "print([confirmed_df_long.shape, deaths_df_long.shape, recovered_df_long.shape])"
   ]
  },
  {
   "cell_type": "code",
   "execution_count": 13,
   "metadata": {
    "id": "xThDNSz-p5Rd"
   },
   "outputs": [],
   "source": [
    "# Merge the 3 datasets \n",
    "\n",
    "full_table = confirmed_df_long.merge(\n",
    "  right=deaths_df_long, \n",
    "  how='left',\n",
    "  on=['Province/State', 'Country/Region', 'Date', 'Lat', 'Long'])# Merging full_table and recovered_df_long\n",
    "\n",
    "full_table = full_table.merge(\n",
    "  right=recovered_df_long, \n",
    "  how='left',\n",
    "  on=['Province/State', 'Country/Region', 'Date', 'Lat', 'Long'])"
   ]
  },
  {
   "cell_type": "code",
   "execution_count": 14,
   "metadata": {
    "colab": {
     "base_uri": "https://localhost:8080/",
     "height": 272
    },
    "id": "Zw_0HvDrp5Rg",
    "outputId": "ca2492c3-c612-4cc5-bb15-13971c8d718b"
   },
   "outputs": [
    {
     "name": "stdout",
     "output_type": "stream",
     "text": [
      "<class 'pandas.core.frame.DataFrame'>\n",
      "Int64Index: 65520 entries, 0 to 65519\n",
      "Data columns (total 8 columns):\n",
      " #   Column          Non-Null Count  Dtype  \n",
      "---  ------          --------------  -----  \n",
      " 0   Province/State  17420 non-null  object \n",
      " 1   Country/Region  65520 non-null  object \n",
      " 2   Lat             65520 non-null  float64\n",
      " 3   Long            65520 non-null  float64\n",
      " 4   Date            65520 non-null  object \n",
      " 5   Confirmed       65520 non-null  int64  \n",
      " 6   Deaths          59540 non-null  float64\n",
      " 7   Recovered       64220 non-null  float64\n",
      "dtypes: float64(4), int64(1), object(3)\n",
      "memory usage: 4.5+ MB\n"
     ]
    }
   ],
   "source": [
    "full_table.info(verbose = True)"
   ]
  },
  {
   "cell_type": "code",
   "execution_count": 15,
   "metadata": {
    "id": "S_6DV-4Ep5Rj"
   },
   "outputs": [],
   "source": [
    "# trasnform from string to date the \"Date\" column\n",
    "full_table['Date'] = pd.to_datetime(full_table['Date'])"
   ]
  },
  {
   "cell_type": "markdown",
   "metadata": {
    "id": "4jnEGs9Tp5Rm"
   },
   "source": [
    "### **Check and fix NaN in the full dataset**"
   ]
  },
  {
   "cell_type": "code",
   "execution_count": 16,
   "metadata": {
    "colab": {
     "base_uri": "https://localhost:8080/",
     "height": 170
    },
    "id": "ZF9W8__Pp5Rm",
    "outputId": "f8fc7352-d08e-47f9-9b23-28d3e1185f01"
   },
   "outputs": [
    {
     "data": {
      "text/plain": [
       "Province/State    48100\n",
       "Country/Region        0\n",
       "Lat                   0\n",
       "Long                  0\n",
       "Date                  0\n",
       "Confirmed             0\n",
       "Deaths             5980\n",
       "Recovered          1300\n",
       "dtype: int64"
      ]
     },
     "execution_count": 16,
     "metadata": {},
     "output_type": "execute_result"
    }
   ],
   "source": [
    "full_table.isna().sum()"
   ]
  },
  {
   "cell_type": "markdown",
   "metadata": {},
   "source": [
    "We observe many NaN in Province/State adn this is because many countries only report Countr-wise data. \n",
    "However, we also observe a large number of NaN in death and Recovered reports.\n",
    "We remove the NaNs from \"Deaths\" and \"Recovered\" and replace them with 0 "
   ]
  },
  {
   "cell_type": "code",
   "execution_count": 17,
   "metadata": {
    "id": "S6uU7NX_p5Rp"
   },
   "outputs": [],
   "source": [
    "full_table['Deaths'] = full_table['Deaths'].fillna(0)\n",
    "full_table['Recovered'] = full_table['Recovered'].fillna(0)"
   ]
  },
  {
   "cell_type": "markdown",
   "metadata": {
    "id": "cPz6eVHup5Rr"
   },
   "source": [
    "### **Remove cruise ships data**\n",
    " #### We also observed that there is some of confirmed cases of Covid from the cruise ships (Grand Princess, Diamond Princess and MS Zaandam) that make it difficult to fit in in the Country category, so we excluded from our anaysis"
   ]
  },
  {
   "cell_type": "code",
   "execution_count": 18,
   "metadata": {
    "id": "hpMrI_Bqp5Rs"
   },
   "outputs": [],
   "source": [
    "# select the ships rows\n",
    "ship_rows = full_table['Province/State'].str.contains('Grand Princess') | full_table['Province/State'].str.contains('Diamond Princess') | full_table['Country/Region'].str.contains('Diamond Princess') | full_table['Country/Region'].str.contains('MS Zaandam')"
   ]
  },
  {
   "cell_type": "code",
   "execution_count": 19,
   "metadata": {
    "id": "5GevP13Gp5R0"
   },
   "outputs": [],
   "source": [
    "full_table = full_table[~(ship_rows)] # the '~' operator negate the selections"
   ]
  },
  {
   "cell_type": "markdown",
   "metadata": {
    "id": "bf3mSML5p5R5"
   },
   "source": [
    "## **Add new colum for active cases**\n",
    "Below we compute the active cases by substracting the number of death and recovered to the confirmed cases."
   ]
  },
  {
   "cell_type": "code",
   "execution_count": 20,
   "metadata": {
    "colab": {
     "base_uri": "https://localhost:8080/",
     "height": 419
    },
    "id": "j2Dk58s2p5R6",
    "outputId": "76389bf9-5e20-455a-b9d4-7a353ea3be22"
   },
   "outputs": [
    {
     "data": {
      "text/html": [
       "<div>\n",
       "<style scoped>\n",
       "    .dataframe tbody tr th:only-of-type {\n",
       "        vertical-align: middle;\n",
       "    }\n",
       "\n",
       "    .dataframe tbody tr th {\n",
       "        vertical-align: top;\n",
       "    }\n",
       "\n",
       "    .dataframe thead th {\n",
       "        text-align: right;\n",
       "    }\n",
       "</style>\n",
       "<table border=\"1\" class=\"dataframe\">\n",
       "  <thead>\n",
       "    <tr style=\"text-align: right;\">\n",
       "      <th></th>\n",
       "      <th>Province/State</th>\n",
       "      <th>Country/Region</th>\n",
       "      <th>Lat</th>\n",
       "      <th>Long</th>\n",
       "      <th>Date</th>\n",
       "      <th>Confirmed</th>\n",
       "      <th>Deaths</th>\n",
       "      <th>Recovered</th>\n",
       "      <th>Active</th>\n",
       "    </tr>\n",
       "  </thead>\n",
       "  <tbody>\n",
       "    <tr>\n",
       "      <th>0</th>\n",
       "      <td>NaN</td>\n",
       "      <td>Afghanistan</td>\n",
       "      <td>33.939110</td>\n",
       "      <td>67.709953</td>\n",
       "      <td>2020-01-22</td>\n",
       "      <td>0</td>\n",
       "      <td>0.0</td>\n",
       "      <td>0.0</td>\n",
       "      <td>0.0</td>\n",
       "    </tr>\n",
       "    <tr>\n",
       "      <th>1</th>\n",
       "      <td>NaN</td>\n",
       "      <td>Albania</td>\n",
       "      <td>41.153300</td>\n",
       "      <td>20.168300</td>\n",
       "      <td>2020-01-22</td>\n",
       "      <td>0</td>\n",
       "      <td>0.0</td>\n",
       "      <td>0.0</td>\n",
       "      <td>0.0</td>\n",
       "    </tr>\n",
       "    <tr>\n",
       "      <th>2</th>\n",
       "      <td>NaN</td>\n",
       "      <td>Algeria</td>\n",
       "      <td>28.033900</td>\n",
       "      <td>1.659600</td>\n",
       "      <td>2020-01-22</td>\n",
       "      <td>0</td>\n",
       "      <td>0.0</td>\n",
       "      <td>0.0</td>\n",
       "      <td>0.0</td>\n",
       "    </tr>\n",
       "    <tr>\n",
       "      <th>3</th>\n",
       "      <td>NaN</td>\n",
       "      <td>Andorra</td>\n",
       "      <td>42.506300</td>\n",
       "      <td>1.521800</td>\n",
       "      <td>2020-01-22</td>\n",
       "      <td>0</td>\n",
       "      <td>0.0</td>\n",
       "      <td>0.0</td>\n",
       "      <td>0.0</td>\n",
       "    </tr>\n",
       "    <tr>\n",
       "      <th>4</th>\n",
       "      <td>NaN</td>\n",
       "      <td>Angola</td>\n",
       "      <td>-11.202700</td>\n",
       "      <td>17.873900</td>\n",
       "      <td>2020-01-22</td>\n",
       "      <td>0</td>\n",
       "      <td>0.0</td>\n",
       "      <td>0.0</td>\n",
       "      <td>0.0</td>\n",
       "    </tr>\n",
       "    <tr>\n",
       "      <th>...</th>\n",
       "      <td>...</td>\n",
       "      <td>...</td>\n",
       "      <td>...</td>\n",
       "      <td>...</td>\n",
       "      <td>...</td>\n",
       "      <td>...</td>\n",
       "      <td>...</td>\n",
       "      <td>...</td>\n",
       "      <td>...</td>\n",
       "    </tr>\n",
       "    <tr>\n",
       "      <th>65515</th>\n",
       "      <td>NaN</td>\n",
       "      <td>West Bank and Gaza</td>\n",
       "      <td>31.952200</td>\n",
       "      <td>35.233200</td>\n",
       "      <td>2020-10-07</td>\n",
       "      <td>42840</td>\n",
       "      <td>355.0</td>\n",
       "      <td>35953.0</td>\n",
       "      <td>6532.0</td>\n",
       "    </tr>\n",
       "    <tr>\n",
       "      <th>65516</th>\n",
       "      <td>NaN</td>\n",
       "      <td>Western Sahara</td>\n",
       "      <td>24.215500</td>\n",
       "      <td>-12.885800</td>\n",
       "      <td>2020-10-07</td>\n",
       "      <td>10</td>\n",
       "      <td>1.0</td>\n",
       "      <td>8.0</td>\n",
       "      <td>1.0</td>\n",
       "    </tr>\n",
       "    <tr>\n",
       "      <th>65517</th>\n",
       "      <td>NaN</td>\n",
       "      <td>Yemen</td>\n",
       "      <td>15.552727</td>\n",
       "      <td>48.516388</td>\n",
       "      <td>2020-10-07</td>\n",
       "      <td>2049</td>\n",
       "      <td>0.0</td>\n",
       "      <td>1328.0</td>\n",
       "      <td>721.0</td>\n",
       "    </tr>\n",
       "    <tr>\n",
       "      <th>65518</th>\n",
       "      <td>NaN</td>\n",
       "      <td>Zambia</td>\n",
       "      <td>-13.133897</td>\n",
       "      <td>27.849332</td>\n",
       "      <td>2020-10-07</td>\n",
       "      <td>15224</td>\n",
       "      <td>335.0</td>\n",
       "      <td>14342.0</td>\n",
       "      <td>547.0</td>\n",
       "    </tr>\n",
       "    <tr>\n",
       "      <th>65519</th>\n",
       "      <td>NaN</td>\n",
       "      <td>Zimbabwe</td>\n",
       "      <td>-19.015438</td>\n",
       "      <td>29.154857</td>\n",
       "      <td>2020-10-07</td>\n",
       "      <td>7919</td>\n",
       "      <td>229.0</td>\n",
       "      <td>6441.0</td>\n",
       "      <td>1249.0</td>\n",
       "    </tr>\n",
       "  </tbody>\n",
       "</table>\n",
       "<p>65000 rows × 9 columns</p>\n",
       "</div>"
      ],
      "text/plain": [
       "      Province/State      Country/Region        Lat       Long       Date  \\\n",
       "0                NaN         Afghanistan  33.939110  67.709953 2020-01-22   \n",
       "1                NaN             Albania  41.153300  20.168300 2020-01-22   \n",
       "2                NaN             Algeria  28.033900   1.659600 2020-01-22   \n",
       "3                NaN             Andorra  42.506300   1.521800 2020-01-22   \n",
       "4                NaN              Angola -11.202700  17.873900 2020-01-22   \n",
       "...              ...                 ...        ...        ...        ...   \n",
       "65515            NaN  West Bank and Gaza  31.952200  35.233200 2020-10-07   \n",
       "65516            NaN      Western Sahara  24.215500 -12.885800 2020-10-07   \n",
       "65517            NaN               Yemen  15.552727  48.516388 2020-10-07   \n",
       "65518            NaN              Zambia -13.133897  27.849332 2020-10-07   \n",
       "65519            NaN            Zimbabwe -19.015438  29.154857 2020-10-07   \n",
       "\n",
       "       Confirmed  Deaths  Recovered  Active  \n",
       "0              0     0.0        0.0     0.0  \n",
       "1              0     0.0        0.0     0.0  \n",
       "2              0     0.0        0.0     0.0  \n",
       "3              0     0.0        0.0     0.0  \n",
       "4              0     0.0        0.0     0.0  \n",
       "...          ...     ...        ...     ...  \n",
       "65515      42840   355.0    35953.0  6532.0  \n",
       "65516         10     1.0        8.0     1.0  \n",
       "65517       2049     0.0     1328.0   721.0  \n",
       "65518      15224   335.0    14342.0   547.0  \n",
       "65519       7919   229.0     6441.0  1249.0  \n",
       "\n",
       "[65000 rows x 9 columns]"
      ]
     },
     "execution_count": 20,
     "metadata": {},
     "output_type": "execute_result"
    }
   ],
   "source": [
    "# Active Case = confirmed - deaths - recovered\n",
    "full_table['Active'] = full_table['Confirmed'] - full_table['Deaths'] - full_table['Recovered']\n",
    "full_table"
   ]
  },
  {
   "cell_type": "markdown",
   "metadata": {
    "id": "-0GWyShBp5R8"
   },
   "source": [
    "We agregate the data by Country and Date (by means of grouping) and calculate de sum of the cases"
   ]
  },
  {
   "cell_type": "code",
   "execution_count": 21,
   "metadata": {
    "colab": {
     "base_uri": "https://localhost:8080/",
     "height": 453
    },
    "id": "y9ukj4knp5R9",
    "outputId": "0b5c50f1-7ccc-453f-c43a-3e4168a1409e"
   },
   "outputs": [
    {
     "data": {
      "text/html": [
       "<div>\n",
       "<style scoped>\n",
       "    .dataframe tbody tr th:only-of-type {\n",
       "        vertical-align: middle;\n",
       "    }\n",
       "\n",
       "    .dataframe tbody tr th {\n",
       "        vertical-align: top;\n",
       "    }\n",
       "\n",
       "    .dataframe thead th {\n",
       "        text-align: right;\n",
       "    }\n",
       "</style>\n",
       "<table border=\"1\" class=\"dataframe\">\n",
       "  <thead>\n",
       "    <tr style=\"text-align: right;\">\n",
       "      <th></th>\n",
       "      <th>Date</th>\n",
       "      <th>Country/Region</th>\n",
       "      <th>Confirmed</th>\n",
       "      <th>Deaths</th>\n",
       "      <th>Recovered</th>\n",
       "      <th>Active</th>\n",
       "    </tr>\n",
       "  </thead>\n",
       "  <tbody>\n",
       "    <tr>\n",
       "      <th>0</th>\n",
       "      <td>2020-01-22</td>\n",
       "      <td>Afghanistan</td>\n",
       "      <td>0</td>\n",
       "      <td>0.0</td>\n",
       "      <td>0.0</td>\n",
       "      <td>0.0</td>\n",
       "    </tr>\n",
       "    <tr>\n",
       "      <th>1</th>\n",
       "      <td>2020-01-22</td>\n",
       "      <td>Albania</td>\n",
       "      <td>0</td>\n",
       "      <td>0.0</td>\n",
       "      <td>0.0</td>\n",
       "      <td>0.0</td>\n",
       "    </tr>\n",
       "    <tr>\n",
       "      <th>2</th>\n",
       "      <td>2020-01-22</td>\n",
       "      <td>Algeria</td>\n",
       "      <td>0</td>\n",
       "      <td>0.0</td>\n",
       "      <td>0.0</td>\n",
       "      <td>0.0</td>\n",
       "    </tr>\n",
       "    <tr>\n",
       "      <th>3</th>\n",
       "      <td>2020-01-22</td>\n",
       "      <td>Andorra</td>\n",
       "      <td>0</td>\n",
       "      <td>0.0</td>\n",
       "      <td>0.0</td>\n",
       "      <td>0.0</td>\n",
       "    </tr>\n",
       "    <tr>\n",
       "      <th>4</th>\n",
       "      <td>2020-01-22</td>\n",
       "      <td>Angola</td>\n",
       "      <td>0</td>\n",
       "      <td>0.0</td>\n",
       "      <td>0.0</td>\n",
       "      <td>0.0</td>\n",
       "    </tr>\n",
       "    <tr>\n",
       "      <th>...</th>\n",
       "      <td>...</td>\n",
       "      <td>...</td>\n",
       "      <td>...</td>\n",
       "      <td>...</td>\n",
       "      <td>...</td>\n",
       "      <td>...</td>\n",
       "    </tr>\n",
       "    <tr>\n",
       "      <th>48095</th>\n",
       "      <td>2020-10-07</td>\n",
       "      <td>West Bank and Gaza</td>\n",
       "      <td>42840</td>\n",
       "      <td>355.0</td>\n",
       "      <td>35953.0</td>\n",
       "      <td>6532.0</td>\n",
       "    </tr>\n",
       "    <tr>\n",
       "      <th>48096</th>\n",
       "      <td>2020-10-07</td>\n",
       "      <td>Western Sahara</td>\n",
       "      <td>10</td>\n",
       "      <td>1.0</td>\n",
       "      <td>8.0</td>\n",
       "      <td>1.0</td>\n",
       "    </tr>\n",
       "    <tr>\n",
       "      <th>48097</th>\n",
       "      <td>2020-10-07</td>\n",
       "      <td>Yemen</td>\n",
       "      <td>2049</td>\n",
       "      <td>0.0</td>\n",
       "      <td>1328.0</td>\n",
       "      <td>721.0</td>\n",
       "    </tr>\n",
       "    <tr>\n",
       "      <th>48098</th>\n",
       "      <td>2020-10-07</td>\n",
       "      <td>Zambia</td>\n",
       "      <td>15224</td>\n",
       "      <td>335.0</td>\n",
       "      <td>14342.0</td>\n",
       "      <td>547.0</td>\n",
       "    </tr>\n",
       "    <tr>\n",
       "      <th>48099</th>\n",
       "      <td>2020-10-07</td>\n",
       "      <td>Zimbabwe</td>\n",
       "      <td>7919</td>\n",
       "      <td>229.0</td>\n",
       "      <td>6441.0</td>\n",
       "      <td>1249.0</td>\n",
       "    </tr>\n",
       "  </tbody>\n",
       "</table>\n",
       "<p>48100 rows × 6 columns</p>\n",
       "</div>"
      ],
      "text/plain": [
       "            Date      Country/Region  Confirmed  Deaths  Recovered  Active\n",
       "0     2020-01-22         Afghanistan          0     0.0        0.0     0.0\n",
       "1     2020-01-22             Albania          0     0.0        0.0     0.0\n",
       "2     2020-01-22             Algeria          0     0.0        0.0     0.0\n",
       "3     2020-01-22             Andorra          0     0.0        0.0     0.0\n",
       "4     2020-01-22              Angola          0     0.0        0.0     0.0\n",
       "...          ...                 ...        ...     ...        ...     ...\n",
       "48095 2020-10-07  West Bank and Gaza      42840   355.0    35953.0  6532.0\n",
       "48096 2020-10-07      Western Sahara         10     1.0        8.0     1.0\n",
       "48097 2020-10-07               Yemen       2049     0.0     1328.0   721.0\n",
       "48098 2020-10-07              Zambia      15224   335.0    14342.0   547.0\n",
       "48099 2020-10-07            Zimbabwe       7919   229.0     6441.0  1249.0\n",
       "\n",
       "[48100 rows x 6 columns]"
      ]
     },
     "execution_count": 21,
     "metadata": {},
     "output_type": "execute_result"
    }
   ],
   "source": [
    "full_grouped = full_table.groupby(['Date', 'Country/Region'])[['Confirmed', 'Deaths', 'Recovered', 'Active']].sum().reset_index()\n",
    "\n",
    "full_grouped"
   ]
  },
  {
   "cell_type": "markdown",
   "metadata": {},
   "source": [
    "## Add new column(s) for new cases / new deaths / new recovered"
   ]
  },
  {
   "cell_type": "code",
   "execution_count": 22,
   "metadata": {},
   "outputs": [
    {
     "name": "stderr",
     "output_type": "stream",
     "text": [
      "/Users/rubencito/opt/anaconda3/lib/python3.7/site-packages/ipykernel_launcher.py:2: FutureWarning: Indexing with multiple keys (implicitly converted to a tuple of keys) will be deprecated, use a list instead.\n",
      "  \n"
     ]
    }
   ],
   "source": [
    "# new cases \n",
    "temp = full_grouped.groupby(['Country/Region', 'Date', ])['Confirmed', 'Deaths', 'Recovered']\n",
    "temp = temp.sum().diff().reset_index()\n",
    "\n",
    "mask = temp['Country/Region'] != temp['Country/Region'].shift(1)\n",
    "\n",
    "temp.loc[mask, 'Confirmed'] = np.nan\n",
    "temp.loc[mask, 'Deaths'] = np.nan\n",
    "temp.loc[mask, 'Recovered'] = np.nan\n",
    "\n",
    "# renaming columns\n",
    "temp.columns = ['Country/Region', 'Date', 'New_cases', 'New_deaths', 'New_recovered']\n",
    "\n",
    "# merging new values\n",
    "full_grouped = pd.merge(full_grouped, temp, on=['Country/Region', 'Date'])# filling na with 0\n",
    "full_grouped = full_grouped.fillna(0)\n",
    "\n",
    "# fixing data types\n",
    "cols = ['New_cases', 'New_deaths', 'New_recovered']\n",
    "full_grouped[cols] = full_grouped[cols].astype('int')\n",
    "\n",
    "# \n",
    "full_grouped['New_cases'] = full_grouped['New_cases'].apply(lambda x: 0 if x<0 else x)"
   ]
  },
  {
   "cell_type": "code",
   "execution_count": 23,
   "metadata": {
    "colab": {
     "base_uri": "https://localhost:8080/",
     "height": 419
    },
    "id": "XHINTWYip5R_",
    "outputId": "3d229b00-06ad-4252-e338-6695950674ca"
   },
   "outputs": [],
   "source": [
    "#rename the \"Country/Region\" variable\n",
    "full_grouped.rename(columns = {'Country/Region' : 'Country_Region'}, inplace = True)\n"
   ]
  },
  {
   "cell_type": "code",
   "execution_count": 24,
   "metadata": {
    "colab": {
     "base_uri": "https://localhost:8080/",
     "height": 34
    },
    "id": "F4r3Ehz5p5SC",
    "outputId": "347d49bb-f115-4983-ba20-c60471bbc709"
   },
   "outputs": [
    {
     "data": {
      "text/plain": [
       "185"
      ]
     },
     "execution_count": 24,
     "metadata": {},
     "output_type": "execute_result"
    }
   ],
   "source": [
    "# compute the number of countries registered in the covide dataset\n",
    "full_grouped['Country_Region'].unique().size"
   ]
  },
  {
   "cell_type": "code",
   "execution_count": null,
   "metadata": {},
   "outputs": [],
   "source": []
  },
  {
   "cell_type": "markdown",
   "metadata": {
    "id": "MpL0eTgip5SE"
   },
   "source": [
    "## **Extract metadata for Covid datasets**\n",
    "We want to merge the covid dataset with other datasets by a comun variable, in our case is the Country. To make sure that the union of datasets are compatible, and since countries might be named disticntly  from each dataset source we use the country code as an standard varibale fro later merge. Now we asign to the Covid dataframe a new colum for the Country codes. To achieve this task we do the following steps: \n",
    " - Load metadata from the Covid repository\n",
    " - Extract the information on Country code (here is the variable called 'iso3')\n",
    "\n",
    "We also extract additional information on the population from each country. this will be used later for normalizing our variables."
   ]
  },
  {
   "cell_type": "code",
   "execution_count": 25,
   "metadata": {
    "colab": {
     "base_uri": "https://localhost:8080/",
     "height": 34
    },
    "id": "EP8Qv_Jip5SF",
    "outputId": "696dddb4-0583-4c5b-9ae2-3d7d9504dc8b"
   },
   "outputs": [],
   "source": [
    "covid_metadata_countries = pd.read_csv(\"https://raw.githubusercontent.com/CSSEGISandData/COVID-19/master/csse_covid_19_data/UID_ISO_FIPS_LookUp_Table.csv\",\n",
    "                                      usecols = ['Country_Region', 'Province_State', 'iso3', 'Population'])\n"
   ]
  },
  {
   "cell_type": "code",
   "execution_count": 26,
   "metadata": {
    "colab": {
     "base_uri": "https://localhost:8080/",
     "height": 204
    },
    "id": "r6Vp_haVp5SH",
    "outputId": "af1461de-0ffa-484d-938b-f9f9a1669c5a"
   },
   "outputs": [
    {
     "name": "stdout",
     "output_type": "stream",
     "text": [
      "<class 'pandas.core.frame.DataFrame'>\n",
      "RangeIndex: 4153 entries, 0 to 4152\n",
      "Data columns (total 4 columns):\n",
      " #   Column          Non-Null Count  Dtype  \n",
      "---  ------          --------------  -----  \n",
      " 0   iso3            4151 non-null   object \n",
      " 1   Province_State  3965 non-null   object \n",
      " 2   Country_Region  4153 non-null   object \n",
      " 3   Population      4012 non-null   float64\n",
      "dtypes: float64(1), object(3)\n",
      "memory usage: 129.9+ KB\n"
     ]
    }
   ],
   "source": [
    "covid_metadata_countries.info(verbose = True)"
   ]
  },
  {
   "cell_type": "markdown",
   "metadata": {
    "id": "nHSFR3sqp5SI"
   },
   "source": [
    "### **Remove the cruise ships information from the metadata on country codes**"
   ]
  },
  {
   "cell_type": "code",
   "execution_count": 27,
   "metadata": {
    "id": "UCo1c7sjp5SL"
   },
   "outputs": [],
   "source": [
    "# select from columns 'Country_Region' the names 'Diamond Princess'and 'MS Zaandam'\n",
    "ship_metadata = covid_metadata_countries['Country_Region'].str.contains('Diamond Princess') | covid_metadata_countries['Country_Region'].str.contains('MS Zaandam')\n",
    "ship_metadata\n",
    "covid_metadata_countries = covid_metadata_countries[~(ship_metadata)]"
   ]
  },
  {
   "cell_type": "markdown",
   "metadata": {
    "id": "43BRMBXqp5SN"
   },
   "source": [
    "### **Summarize the population by country in the metadata dataframe**"
   ]
  },
  {
   "cell_type": "code",
   "execution_count": 28,
   "metadata": {
    "id": "XosG0thQp5SO"
   },
   "outputs": [],
   "source": [
    "#my_covid_variables = ['Confirmed', 'Deaths', 'Recovered', 'Active']\n",
    "code_vars = ['Country_Region', 'iso3']\n",
    "\n",
    "#full_table.groupby(['Date', 'Country/Region'])[my_covid_variables].sum().reset_index()\n",
    "country_population = covid_metadata_countries.groupby(code_vars)['Population'].sum().reset_index()"
   ]
  },
  {
   "cell_type": "code",
   "execution_count": 29,
   "metadata": {
    "colab": {
     "base_uri": "https://localhost:8080/",
     "height": 663
    },
    "id": "4g79RRkDp5SQ",
    "outputId": "0c86b9d3-814c-4519-b937-80dfbe4233c6"
   },
   "outputs": [
    {
     "data": {
      "text/plain": [
       "(186,)"
      ]
     },
     "execution_count": 29,
     "metadata": {},
     "output_type": "execute_result"
    }
   ],
   "source": [
    "country_population['Country_Region'].unique().shape"
   ]
  },
  {
   "cell_type": "code",
   "execution_count": 30,
   "metadata": {},
   "outputs": [
    {
     "data": {
      "text/html": [
       "<div>\n",
       "<style scoped>\n",
       "    .dataframe tbody tr th:only-of-type {\n",
       "        vertical-align: middle;\n",
       "    }\n",
       "\n",
       "    .dataframe tbody tr th {\n",
       "        vertical-align: top;\n",
       "    }\n",
       "\n",
       "    .dataframe thead th {\n",
       "        text-align: right;\n",
       "    }\n",
       "</style>\n",
       "<table border=\"1\" class=\"dataframe\">\n",
       "  <thead>\n",
       "    <tr style=\"text-align: right;\">\n",
       "      <th></th>\n",
       "      <th>Country_Region</th>\n",
       "      <th>iso3</th>\n",
       "      <th>Population</th>\n",
       "    </tr>\n",
       "  </thead>\n",
       "  <tbody>\n",
       "    <tr>\n",
       "      <th>0</th>\n",
       "      <td>Afghanistan</td>\n",
       "      <td>AFG</td>\n",
       "      <td>38928341.0</td>\n",
       "    </tr>\n",
       "    <tr>\n",
       "      <th>1</th>\n",
       "      <td>Albania</td>\n",
       "      <td>ALB</td>\n",
       "      <td>2877800.0</td>\n",
       "    </tr>\n",
       "    <tr>\n",
       "      <th>2</th>\n",
       "      <td>Algeria</td>\n",
       "      <td>DZA</td>\n",
       "      <td>43851043.0</td>\n",
       "    </tr>\n",
       "    <tr>\n",
       "      <th>3</th>\n",
       "      <td>Andorra</td>\n",
       "      <td>AND</td>\n",
       "      <td>77265.0</td>\n",
       "    </tr>\n",
       "    <tr>\n",
       "      <th>4</th>\n",
       "      <td>Angola</td>\n",
       "      <td>AGO</td>\n",
       "      <td>32866268.0</td>\n",
       "    </tr>\n",
       "    <tr>\n",
       "      <th>...</th>\n",
       "      <td>...</td>\n",
       "      <td>...</td>\n",
       "      <td>...</td>\n",
       "    </tr>\n",
       "    <tr>\n",
       "      <th>213</th>\n",
       "      <td>West Bank and Gaza</td>\n",
       "      <td>PSE</td>\n",
       "      <td>5101416.0</td>\n",
       "    </tr>\n",
       "    <tr>\n",
       "      <th>214</th>\n",
       "      <td>Western Sahara</td>\n",
       "      <td>ESH</td>\n",
       "      <td>597330.0</td>\n",
       "    </tr>\n",
       "    <tr>\n",
       "      <th>215</th>\n",
       "      <td>Yemen</td>\n",
       "      <td>YEM</td>\n",
       "      <td>29825968.0</td>\n",
       "    </tr>\n",
       "    <tr>\n",
       "      <th>216</th>\n",
       "      <td>Zambia</td>\n",
       "      <td>ZMB</td>\n",
       "      <td>18383956.0</td>\n",
       "    </tr>\n",
       "    <tr>\n",
       "      <th>217</th>\n",
       "      <td>Zimbabwe</td>\n",
       "      <td>ZWE</td>\n",
       "      <td>14862927.0</td>\n",
       "    </tr>\n",
       "  </tbody>\n",
       "</table>\n",
       "<p>218 rows × 3 columns</p>\n",
       "</div>"
      ],
      "text/plain": [
       "         Country_Region iso3  Population\n",
       "0           Afghanistan  AFG  38928341.0\n",
       "1               Albania  ALB   2877800.0\n",
       "2               Algeria  DZA  43851043.0\n",
       "3               Andorra  AND     77265.0\n",
       "4                Angola  AGO  32866268.0\n",
       "..                  ...  ...         ...\n",
       "213  West Bank and Gaza  PSE   5101416.0\n",
       "214      Western Sahara  ESH    597330.0\n",
       "215               Yemen  YEM  29825968.0\n",
       "216              Zambia  ZMB  18383956.0\n",
       "217            Zimbabwe  ZWE  14862927.0\n",
       "\n",
       "[218 rows x 3 columns]"
      ]
     },
     "execution_count": 30,
     "metadata": {},
     "output_type": "execute_result"
    }
   ],
   "source": [
    "country_population"
   ]
  },
  {
   "cell_type": "markdown",
   "metadata": {},
   "source": [
    "## Remove Countries from the metadata df that are not in the Covid df ????"
   ]
  },
  {
   "cell_type": "code",
   "execution_count": 31,
   "metadata": {},
   "outputs": [
    {
     "data": {
      "text/plain": [
       "185"
      ]
     },
     "execution_count": 31,
     "metadata": {},
     "output_type": "execute_result"
    }
   ],
   "source": [
    "# this is the number of countries registered in the Covid df\n",
    "full_grouped['Country_Region'].unique().size"
   ]
  },
  {
   "cell_type": "markdown",
   "metadata": {
    "id": "okjboLfEp5SX"
   },
   "source": [
    "### **Merge country code with Covid datasets**"
   ]
  },
  {
   "cell_type": "code",
   "execution_count": 32,
   "metadata": {
    "colab": {
     "base_uri": "https://localhost:8080/",
     "height": 419
    },
    "id": "V10m-r0_p5SX",
    "outputId": "9432579f-9713-4c93-baf6-b570dc03d100"
   },
   "outputs": [],
   "source": [
    "full_grouped_ccode = pd.merge(country_population, full_grouped, how = 'left')\n"
   ]
  },
  {
   "cell_type": "code",
   "execution_count": 33,
   "metadata": {
    "colab": {
     "base_uri": "https://localhost:8080/",
     "height": 272
    },
    "id": "xS5LjLIep5SY",
    "outputId": "cc52e86b-5f68-4fe7-c223-162d110001a5"
   },
   "outputs": [
    {
     "name": "stdout",
     "output_type": "stream",
     "text": [
      "<class 'pandas.core.frame.DataFrame'>\n",
      "Int64Index: 56421 entries, 0 to 56420\n",
      "Data columns (total 11 columns):\n",
      " #   Column          Non-Null Count  Dtype         \n",
      "---  ------          --------------  -----         \n",
      " 0   Country_Region  56421 non-null  object        \n",
      " 1   iso3            56421 non-null  object        \n",
      " 2   Population      56421 non-null  float64       \n",
      " 3   Date            56420 non-null  datetime64[ns]\n",
      " 4   Confirmed       56420 non-null  float64       \n",
      " 5   Deaths          56420 non-null  float64       \n",
      " 6   Recovered       56420 non-null  float64       \n",
      " 7   Active          56420 non-null  float64       \n",
      " 8   New_cases       56420 non-null  float64       \n",
      " 9   New_deaths      56420 non-null  float64       \n",
      " 10  New_recovered   56420 non-null  float64       \n",
      "dtypes: datetime64[ns](1), float64(8), object(2)\n",
      "memory usage: 5.2+ MB\n"
     ]
    }
   ],
   "source": [
    "full_grouped_ccode.info(verbose = True)"
   ]
  },
  {
   "cell_type": "code",
   "execution_count": 34,
   "metadata": {
    "id": "sCZAVRjop5Sb"
   },
   "outputs": [],
   "source": [
    "full_grouped_ccode.rename(columns = {'iso3' : 'CountryCode'}, inplace = True)"
   ]
  },
  {
   "cell_type": "markdown",
   "metadata": {
    "id": "1ADIMImLp5Sf"
   },
   "source": [
    "# 2. Oxford Stringency index data collection, cleaning and merging"
   ]
  },
  {
   "cell_type": "code",
   "execution_count": 35,
   "metadata": {
    "colab": {
     "base_uri": "https://localhost:8080/",
     "height": 272
    },
    "id": "yOmnWSkTp5Sf",
    "outputId": "7f82f493-b06f-47da-9514-f8310ad2a9f6"
   },
   "outputs": [
    {
     "name": "stdout",
     "output_type": "stream",
     "text": [
      "<class 'pandas.core.frame.DataFrame'>\n",
      "RangeIndex: 68244 entries, 0 to 68243\n",
      "Data columns (total 6 columns):\n",
      " #   Column           Non-Null Count  Dtype  \n",
      "---  ------           --------------  -----  \n",
      " 0   CountryName      68244 non-null  object \n",
      " 1   CountryCode      68244 non-null  object \n",
      " 2   RegionName       15792 non-null  object \n",
      " 3   RegionCode       15792 non-null  object \n",
      " 4   Date             68244 non-null  int64  \n",
      " 5   StringencyIndex  65654 non-null  float64\n",
      "dtypes: float64(1), int64(1), object(4)\n",
      "memory usage: 3.1+ MB\n"
     ]
    }
   ],
   "source": [
    "my_string_columns = [\"Date\", \"CountryCode\", \"CountryName\", \"StringencyIndex\", \"RegionName\", \"RegionCode\"] \n",
    "str_url = \"https://raw.githubusercontent.com/OxCGRT/covid-policy-tracker/master/data/OxCGRT_latest.csv\"\n",
    "stringency_raw_dataset = pd.read_csv(str_url, usecols = my_string_columns, low_memory=False)\n",
    "stringency_raw_dataset.info(verbose = True)"
   ]
  },
  {
   "cell_type": "markdown",
   "metadata": {
    "id": "ubalw-rqp5Sg"
   },
   "source": [
    "### **Selecting national data only ( exclude regional data) read documentation in this link why -> https://github.com/OxCGRT/covid-policy-tracker**\n",
    "To take only the natinal data we followed instructions in the link above and take remove rows where the variable RegionCoide is Null"
   ]
  },
  {
   "cell_type": "code",
   "execution_count": 36,
   "metadata": {
    "id": "YLNub_hsp5Sh"
   },
   "outputs": [],
   "source": [
    "stringe_natio_dataset = stringency_raw_dataset[stringency_raw_dataset.RegionCode.isnull()]\n"
   ]
  },
  {
   "cell_type": "code",
   "execution_count": 37,
   "metadata": {
    "id": "egxYenh1p5Sl"
   },
   "outputs": [],
   "source": [
    "# remove columns with no needed information\n",
    "stringe_natio_dataset = stringe_natio_dataset[my_string_columns[:4]]"
   ]
  },
  {
   "cell_type": "markdown",
   "metadata": {},
   "source": [
    "Closer inspection revealed that the number of country codes from the Stringency dataset is less than the number of country codes in the Covid dataframe.\n"
   ]
  },
  {
   "cell_type": "code",
   "execution_count": 38,
   "metadata": {
    "colab": {
     "base_uri": "https://localhost:8080/",
     "height": 34
    },
    "id": "xFbmKuf_p5So",
    "outputId": "0f47efdc-4860-4022-d7b4-34f15b3abca6"
   },
   "outputs": [
    {
     "name": "stdout",
     "output_type": "stream",
     "text": [
      "[186, 218]\n"
     ]
    }
   ],
   "source": [
    "print([stringe_natio_dataset['CountryCode'].unique().size, \n",
    "       full_grouped_ccode['CountryCode'].unique().size])\n"
   ]
  },
  {
   "cell_type": "markdown",
   "metadata": {
    "id": "K4EL7iZfp5Ss"
   },
   "source": [
    "#### **The list below shows the Countries/region/dependencies which have not information regarding stringency index. Those countries (31) will be excluded form the analysis for the momment**"
   ]
  },
  {
   "cell_type": "code",
   "execution_count": 39,
   "metadata": {
    "colab": {
     "base_uri": "https://localhost:8080/",
     "height": 1000
    },
    "id": "DOqYxex5p5Ss",
    "outputId": "980c3c92-3472-40ed-b15f-f8913513c6b9"
   },
   "outputs": [
    {
     "data": {
      "text/html": [
       "<div>\n",
       "<style scoped>\n",
       "    .dataframe tbody tr th:only-of-type {\n",
       "        vertical-align: middle;\n",
       "    }\n",
       "\n",
       "    .dataframe tbody tr th {\n",
       "        vertical-align: top;\n",
       "    }\n",
       "\n",
       "    .dataframe thead th {\n",
       "        text-align: right;\n",
       "    }\n",
       "</style>\n",
       "<table border=\"1\" class=\"dataframe\">\n",
       "  <thead>\n",
       "    <tr style=\"text-align: right;\">\n",
       "      <th></th>\n",
       "      <th>CountryCode</th>\n",
       "      <th>Country_Region</th>\n",
       "    </tr>\n",
       "  </thead>\n",
       "  <tbody>\n",
       "    <tr>\n",
       "      <th>1300</th>\n",
       "      <td>ATG</td>\n",
       "      <td>Antigua and Barbuda</td>\n",
       "    </tr>\n",
       "    <tr>\n",
       "      <th>1820</th>\n",
       "      <td>ARM</td>\n",
       "      <td>Armenia</td>\n",
       "    </tr>\n",
       "    <tr>\n",
       "      <th>2860</th>\n",
       "      <td>BHS</td>\n",
       "      <td>Bahamas</td>\n",
       "    </tr>\n",
       "    <tr>\n",
       "      <th>10141</th>\n",
       "      <td>COM</td>\n",
       "      <td>Comoros</td>\n",
       "    </tr>\n",
       "    <tr>\n",
       "      <th>12741</th>\n",
       "      <td>FRO</td>\n",
       "      <td>Denmark</td>\n",
       "    </tr>\n",
       "    <tr>\n",
       "      <th>14821</th>\n",
       "      <td>GNQ</td>\n",
       "      <td>Equatorial Guinea</td>\n",
       "    </tr>\n",
       "    <tr>\n",
       "      <th>16641</th>\n",
       "      <td>BLM</td>\n",
       "      <td>France</td>\n",
       "    </tr>\n",
       "    <tr>\n",
       "      <th>17161</th>\n",
       "      <td>GLP</td>\n",
       "      <td>France</td>\n",
       "    </tr>\n",
       "    <tr>\n",
       "      <th>17421</th>\n",
       "      <td>GUF</td>\n",
       "      <td>France</td>\n",
       "    </tr>\n",
       "    <tr>\n",
       "      <th>17681</th>\n",
       "      <td>MAF</td>\n",
       "      <td>France</td>\n",
       "    </tr>\n",
       "    <tr>\n",
       "      <th>17941</th>\n",
       "      <td>MTQ</td>\n",
       "      <td>France</td>\n",
       "    </tr>\n",
       "    <tr>\n",
       "      <th>18201</th>\n",
       "      <td>MYT</td>\n",
       "      <td>France</td>\n",
       "    </tr>\n",
       "    <tr>\n",
       "      <th>18461</th>\n",
       "      <td>NCL</td>\n",
       "      <td>France</td>\n",
       "    </tr>\n",
       "    <tr>\n",
       "      <th>18721</th>\n",
       "      <td>PYF</td>\n",
       "      <td>France</td>\n",
       "    </tr>\n",
       "    <tr>\n",
       "      <th>18981</th>\n",
       "      <td>REU</td>\n",
       "      <td>France</td>\n",
       "    </tr>\n",
       "    <tr>\n",
       "      <th>19241</th>\n",
       "      <td>SPM</td>\n",
       "      <td>France</td>\n",
       "    </tr>\n",
       "    <tr>\n",
       "      <th>21061</th>\n",
       "      <td>GRD</td>\n",
       "      <td>Grenada</td>\n",
       "    </tr>\n",
       "    <tr>\n",
       "      <th>21841</th>\n",
       "      <td>GNB</td>\n",
       "      <td>Guinea-Bissau</td>\n",
       "    </tr>\n",
       "    <tr>\n",
       "      <th>22621</th>\n",
       "      <td>VAT</td>\n",
       "      <td>Holy See</td>\n",
       "    </tr>\n",
       "    <tr>\n",
       "      <th>27041</th>\n",
       "      <td>XKS</td>\n",
       "      <td>Kosovo</td>\n",
       "    </tr>\n",
       "    <tr>\n",
       "      <th>29381</th>\n",
       "      <td>LIE</td>\n",
       "      <td>Liechtenstein</td>\n",
       "    </tr>\n",
       "    <tr>\n",
       "      <th>30941</th>\n",
       "      <td>MDV</td>\n",
       "      <td>Maldives</td>\n",
       "    </tr>\n",
       "    <tr>\n",
       "      <th>31461</th>\n",
       "      <td>MLT</td>\n",
       "      <td>Malta</td>\n",
       "    </tr>\n",
       "    <tr>\n",
       "      <th>32761</th>\n",
       "      <td>MCO</td>\n",
       "      <td>Monaco</td>\n",
       "    </tr>\n",
       "    <tr>\n",
       "      <th>33281</th>\n",
       "      <td>MNE</td>\n",
       "      <td>Montenegro</td>\n",
       "    </tr>\n",
       "    <tr>\n",
       "      <th>34841</th>\n",
       "      <td>BES</td>\n",
       "      <td>Netherlands</td>\n",
       "    </tr>\n",
       "    <tr>\n",
       "      <th>35101</th>\n",
       "      <td>CUW</td>\n",
       "      <td>Netherlands</td>\n",
       "    </tr>\n",
       "    <tr>\n",
       "      <th>35621</th>\n",
       "      <td>SXM</td>\n",
       "      <td>Netherlands</td>\n",
       "    </tr>\n",
       "    <tr>\n",
       "      <th>36921</th>\n",
       "      <td>MKD</td>\n",
       "      <td>North Macedonia</td>\n",
       "    </tr>\n",
       "    <tr>\n",
       "      <th>40821</th>\n",
       "      <td>KNA</td>\n",
       "      <td>Saint Kitts and Nevis</td>\n",
       "    </tr>\n",
       "    <tr>\n",
       "      <th>41081</th>\n",
       "      <td>LCA</td>\n",
       "      <td>Saint Lucia</td>\n",
       "    </tr>\n",
       "    <tr>\n",
       "      <th>41341</th>\n",
       "      <td>VCT</td>\n",
       "      <td>Saint Vincent and the Grenadines</td>\n",
       "    </tr>\n",
       "    <tr>\n",
       "      <th>41861</th>\n",
       "      <td>STP</td>\n",
       "      <td>Sao Tome and Principe</td>\n",
       "    </tr>\n",
       "    <tr>\n",
       "      <th>49141</th>\n",
       "      <td>ASM</td>\n",
       "      <td>US</td>\n",
       "    </tr>\n",
       "    <tr>\n",
       "      <th>49661</th>\n",
       "      <td>MNP</td>\n",
       "      <td>US</td>\n",
       "    </tr>\n",
       "    <tr>\n",
       "      <th>53041</th>\n",
       "      <td>IMN</td>\n",
       "      <td>United Kingdom</td>\n",
       "    </tr>\n",
       "    <tr>\n",
       "      <th>55381</th>\n",
       "      <td>ESH</td>\n",
       "      <td>Western Sahara</td>\n",
       "    </tr>\n",
       "  </tbody>\n",
       "</table>\n",
       "</div>"
      ],
      "text/plain": [
       "      CountryCode                    Country_Region\n",
       "1300          ATG               Antigua and Barbuda\n",
       "1820          ARM                           Armenia\n",
       "2860          BHS                           Bahamas\n",
       "10141         COM                           Comoros\n",
       "12741         FRO                           Denmark\n",
       "14821         GNQ                 Equatorial Guinea\n",
       "16641         BLM                            France\n",
       "17161         GLP                            France\n",
       "17421         GUF                            France\n",
       "17681         MAF                            France\n",
       "17941         MTQ                            France\n",
       "18201         MYT                            France\n",
       "18461         NCL                            France\n",
       "18721         PYF                            France\n",
       "18981         REU                            France\n",
       "19241         SPM                            France\n",
       "21061         GRD                           Grenada\n",
       "21841         GNB                     Guinea-Bissau\n",
       "22621         VAT                          Holy See\n",
       "27041         XKS                            Kosovo\n",
       "29381         LIE                     Liechtenstein\n",
       "30941         MDV                          Maldives\n",
       "31461         MLT                             Malta\n",
       "32761         MCO                            Monaco\n",
       "33281         MNE                        Montenegro\n",
       "34841         BES                       Netherlands\n",
       "35101         CUW                       Netherlands\n",
       "35621         SXM                       Netherlands\n",
       "36921         MKD                   North Macedonia\n",
       "40821         KNA             Saint Kitts and Nevis\n",
       "41081         LCA                       Saint Lucia\n",
       "41341         VCT  Saint Vincent and the Grenadines\n",
       "41861         STP             Sao Tome and Principe\n",
       "49141         ASM                                US\n",
       "49661         MNP                                US\n",
       "53041         IMN                    United Kingdom\n",
       "55381         ESH                    Western Sahara"
      ]
     },
     "execution_count": 39,
     "metadata": {},
     "output_type": "execute_result"
    }
   ],
   "source": [
    "# finding What is not present in the stringency dataset\n",
    "full_grouped_ccode[~full_grouped_ccode['CountryCode'].isin(stringe_natio_dataset['CountryCode'])][['CountryCode', 'Country_Region']].drop_duplicates()"
   ]
  },
  {
   "cell_type": "code",
   "execution_count": 40,
   "metadata": {
    "id": "0rSdS7SJp5S3"
   },
   "outputs": [],
   "source": [
    "## you can filter the countries above for joining  final dataset\n",
    "full_grouped_ccode_filtered = full_grouped_ccode[full_grouped_ccode['CountryCode'].isin(stringe_natio_dataset['CountryCode'])]"
   ]
  },
  {
   "cell_type": "code",
   "execution_count": 41,
   "metadata": {
    "colab": {
     "base_uri": "https://localhost:8080/",
     "height": 272
    },
    "id": "Z-Z9fvhDp5S6",
    "outputId": "a7bef8a5-3ccf-4e9e-f0ff-e94ac4e02749"
   },
   "outputs": [
    {
     "name": "stdout",
     "output_type": "stream",
     "text": [
      "<class 'pandas.core.frame.DataFrame'>\n",
      "Int64Index: 46801 entries, 0 to 56420\n",
      "Data columns (total 11 columns):\n",
      " #   Column          Non-Null Count  Dtype         \n",
      "---  ------          --------------  -----         \n",
      " 0   Country_Region  46801 non-null  object        \n",
      " 1   CountryCode     46801 non-null  object        \n",
      " 2   Population      46801 non-null  float64       \n",
      " 3   Date            46800 non-null  datetime64[ns]\n",
      " 4   Confirmed       46800 non-null  float64       \n",
      " 5   Deaths          46800 non-null  float64       \n",
      " 6   Recovered       46800 non-null  float64       \n",
      " 7   Active          46800 non-null  float64       \n",
      " 8   New_cases       46800 non-null  float64       \n",
      " 9   New_deaths      46800 non-null  float64       \n",
      " 10  New_recovered   46800 non-null  float64       \n",
      "dtypes: datetime64[ns](1), float64(8), object(2)\n",
      "memory usage: 4.3+ MB\n"
     ]
    }
   ],
   "source": [
    "full_grouped_ccode_filtered.info(verbose = True)"
   ]
  },
  {
   "cell_type": "markdown",
   "metadata": {
    "id": "elyc89vwp5S7"
   },
   "source": [
    "### Fixing the date format in the stringency dataset"
   ]
  },
  {
   "cell_type": "code",
   "execution_count": 42,
   "metadata": {
    "id": "_ztEKtK_p5S8"
   },
   "outputs": [],
   "source": [
    "#stringency_raw_dataset.info(verbose = True)\n",
    "stringe_natio_dataset['Date'] = pd.to_datetime(stringe_natio_dataset['Date'], format = '%Y%m%d')"
   ]
  },
  {
   "cell_type": "code",
   "execution_count": 43,
   "metadata": {
    "colab": {
     "base_uri": "https://localhost:8080/",
     "height": 238
    },
    "id": "HuwY5_Rvp5S-",
    "outputId": "8e4fafef-ddd3-418c-96ca-7d921255b94f"
   },
   "outputs": [
    {
     "name": "stdout",
     "output_type": "stream",
     "text": [
      "<class 'pandas.core.frame.DataFrame'>\n",
      "Int64Index: 52452 entries, 0 to 68243\n",
      "Data columns (total 4 columns):\n",
      " #   Column           Non-Null Count  Dtype         \n",
      "---  ------           --------------  -----         \n",
      " 0   Date             52452 non-null  datetime64[ns]\n",
      " 1   CountryCode      52452 non-null  object        \n",
      " 2   CountryName      52452 non-null  object        \n",
      " 3   StringencyIndex  50747 non-null  float64       \n",
      "dtypes: datetime64[ns](1), float64(1), object(2)\n",
      "memory usage: 2.0+ MB\n"
     ]
    }
   ],
   "source": [
    "stringe_natio_dataset.info(verbose = True)"
   ]
  },
  {
   "cell_type": "markdown",
   "metadata": {
    "id": "AlrhZGj5p5TB"
   },
   "source": [
    "# 3. Joining Covid cases with Stringency index data \n",
    "Join the covid dataset with the stringency dataset and transfrm the final df in a timeseries"
   ]
  },
  {
   "cell_type": "code",
   "execution_count": 44,
   "metadata": {
    "id": "lwrWcwsMp5TG"
   },
   "outputs": [
    {
     "name": "stdout",
     "output_type": "stream",
     "text": [
      "<class 'pandas.core.frame.DataFrame'>\n",
      "Int64Index: 46800 entries, 0 to 46799\n",
      "Data columns (total 12 columns):\n",
      " #   Column           Non-Null Count  Dtype         \n",
      "---  ------           --------------  -----         \n",
      " 0   Date             46800 non-null  datetime64[ns]\n",
      " 1   CountryCode      46800 non-null  object        \n",
      " 2   StringencyIndex  45382 non-null  float64       \n",
      " 3   Country_Region   46800 non-null  object        \n",
      " 4   Population       46800 non-null  float64       \n",
      " 5   Confirmed        46800 non-null  float64       \n",
      " 6   Deaths           46800 non-null  float64       \n",
      " 7   Recovered        46800 non-null  float64       \n",
      " 8   Active           46800 non-null  float64       \n",
      " 9   New_cases        46800 non-null  float64       \n",
      " 10  New_deaths       46800 non-null  float64       \n",
      " 11  New_recovered    46800 non-null  float64       \n",
      "dtypes: datetime64[ns](1), float64(9), object(2)\n",
      "memory usage: 4.6+ MB\n"
     ]
    }
   ],
   "source": [
    "my_complete_df = pd.merge(stringe_natio_dataset[['Date', 'CountryCode','StringencyIndex']], # selecting only the variables to join\n",
    "                          full_grouped_ccode_filtered)\n",
    "\n",
    "my_complete_df.info(verbose = True)"
   ]
  },
  {
   "cell_type": "code",
   "execution_count": 45,
   "metadata": {
    "id": "gpWNCGu_p5TL"
   },
   "outputs": [],
   "source": [
    "my_complete_df.set_index('Date', inplace = True)"
   ]
  },
  {
   "cell_type": "code",
   "execution_count": null,
   "metadata": {},
   "outputs": [],
   "source": []
  },
  {
   "cell_type": "markdown",
   "metadata": {},
   "source": [
    "## Normalize the variables on all cases by 100.000 people per country"
   ]
  },
  {
   "cell_type": "code",
   "execution_count": 46,
   "metadata": {},
   "outputs": [
    {
     "data": {
      "text/html": [
       "<div>\n",
       "<style scoped>\n",
       "    .dataframe tbody tr th:only-of-type {\n",
       "        vertical-align: middle;\n",
       "    }\n",
       "\n",
       "    .dataframe tbody tr th {\n",
       "        vertical-align: top;\n",
       "    }\n",
       "\n",
       "    .dataframe thead th {\n",
       "        text-align: right;\n",
       "    }\n",
       "</style>\n",
       "<table border=\"1\" class=\"dataframe\">\n",
       "  <thead>\n",
       "    <tr style=\"text-align: right;\">\n",
       "      <th></th>\n",
       "      <th>CountryCode</th>\n",
       "      <th>StringencyIndex</th>\n",
       "      <th>Country_Region</th>\n",
       "      <th>Population</th>\n",
       "      <th>Confirmed</th>\n",
       "      <th>Deaths</th>\n",
       "      <th>Recovered</th>\n",
       "      <th>Active</th>\n",
       "      <th>New_cases</th>\n",
       "      <th>New_deaths</th>\n",
       "      <th>New_recovered</th>\n",
       "    </tr>\n",
       "    <tr>\n",
       "      <th>Date</th>\n",
       "      <th></th>\n",
       "      <th></th>\n",
       "      <th></th>\n",
       "      <th></th>\n",
       "      <th></th>\n",
       "      <th></th>\n",
       "      <th></th>\n",
       "      <th></th>\n",
       "      <th></th>\n",
       "      <th></th>\n",
       "      <th></th>\n",
       "    </tr>\n",
       "  </thead>\n",
       "  <tbody>\n",
       "    <tr>\n",
       "      <th>2020-01-22</th>\n",
       "      <td>ABW</td>\n",
       "      <td>0.0</td>\n",
       "      <td>Netherlands</td>\n",
       "      <td>106766.0</td>\n",
       "      <td>0.0</td>\n",
       "      <td>0.0</td>\n",
       "      <td>0.0</td>\n",
       "      <td>0.0</td>\n",
       "      <td>0.0</td>\n",
       "      <td>0.0</td>\n",
       "      <td>0.0</td>\n",
       "    </tr>\n",
       "    <tr>\n",
       "      <th>2020-01-23</th>\n",
       "      <td>ABW</td>\n",
       "      <td>0.0</td>\n",
       "      <td>Netherlands</td>\n",
       "      <td>106766.0</td>\n",
       "      <td>0.0</td>\n",
       "      <td>0.0</td>\n",
       "      <td>0.0</td>\n",
       "      <td>0.0</td>\n",
       "      <td>0.0</td>\n",
       "      <td>0.0</td>\n",
       "      <td>0.0</td>\n",
       "    </tr>\n",
       "    <tr>\n",
       "      <th>2020-01-24</th>\n",
       "      <td>ABW</td>\n",
       "      <td>0.0</td>\n",
       "      <td>Netherlands</td>\n",
       "      <td>106766.0</td>\n",
       "      <td>0.0</td>\n",
       "      <td>0.0</td>\n",
       "      <td>0.0</td>\n",
       "      <td>0.0</td>\n",
       "      <td>0.0</td>\n",
       "      <td>0.0</td>\n",
       "      <td>0.0</td>\n",
       "    </tr>\n",
       "    <tr>\n",
       "      <th>2020-01-25</th>\n",
       "      <td>ABW</td>\n",
       "      <td>0.0</td>\n",
       "      <td>Netherlands</td>\n",
       "      <td>106766.0</td>\n",
       "      <td>0.0</td>\n",
       "      <td>0.0</td>\n",
       "      <td>0.0</td>\n",
       "      <td>0.0</td>\n",
       "      <td>0.0</td>\n",
       "      <td>0.0</td>\n",
       "      <td>0.0</td>\n",
       "    </tr>\n",
       "    <tr>\n",
       "      <th>2020-01-26</th>\n",
       "      <td>ABW</td>\n",
       "      <td>0.0</td>\n",
       "      <td>Netherlands</td>\n",
       "      <td>106766.0</td>\n",
       "      <td>0.0</td>\n",
       "      <td>0.0</td>\n",
       "      <td>0.0</td>\n",
       "      <td>0.0</td>\n",
       "      <td>0.0</td>\n",
       "      <td>0.0</td>\n",
       "      <td>0.0</td>\n",
       "    </tr>\n",
       "    <tr>\n",
       "      <th>...</th>\n",
       "      <td>...</td>\n",
       "      <td>...</td>\n",
       "      <td>...</td>\n",
       "      <td>...</td>\n",
       "      <td>...</td>\n",
       "      <td>...</td>\n",
       "      <td>...</td>\n",
       "      <td>...</td>\n",
       "      <td>...</td>\n",
       "      <td>...</td>\n",
       "      <td>...</td>\n",
       "    </tr>\n",
       "    <tr>\n",
       "      <th>2020-10-03</th>\n",
       "      <td>ZWE</td>\n",
       "      <td>NaN</td>\n",
       "      <td>Zimbabwe</td>\n",
       "      <td>14862927.0</td>\n",
       "      <td>7885.0</td>\n",
       "      <td>228.0</td>\n",
       "      <td>6327.0</td>\n",
       "      <td>1330.0</td>\n",
       "      <td>27.0</td>\n",
       "      <td>0.0</td>\n",
       "      <td>5.0</td>\n",
       "    </tr>\n",
       "    <tr>\n",
       "      <th>2020-10-04</th>\n",
       "      <td>ZWE</td>\n",
       "      <td>NaN</td>\n",
       "      <td>Zimbabwe</td>\n",
       "      <td>14862927.0</td>\n",
       "      <td>7888.0</td>\n",
       "      <td>228.0</td>\n",
       "      <td>6359.0</td>\n",
       "      <td>1301.0</td>\n",
       "      <td>3.0</td>\n",
       "      <td>0.0</td>\n",
       "      <td>32.0</td>\n",
       "    </tr>\n",
       "    <tr>\n",
       "      <th>2020-10-05</th>\n",
       "      <td>ZWE</td>\n",
       "      <td>NaN</td>\n",
       "      <td>Zimbabwe</td>\n",
       "      <td>14862927.0</td>\n",
       "      <td>7898.0</td>\n",
       "      <td>228.0</td>\n",
       "      <td>6424.0</td>\n",
       "      <td>1246.0</td>\n",
       "      <td>10.0</td>\n",
       "      <td>0.0</td>\n",
       "      <td>65.0</td>\n",
       "    </tr>\n",
       "    <tr>\n",
       "      <th>2020-10-06</th>\n",
       "      <td>ZWE</td>\n",
       "      <td>NaN</td>\n",
       "      <td>Zimbabwe</td>\n",
       "      <td>14862927.0</td>\n",
       "      <td>7915.0</td>\n",
       "      <td>229.0</td>\n",
       "      <td>6440.0</td>\n",
       "      <td>1246.0</td>\n",
       "      <td>17.0</td>\n",
       "      <td>1.0</td>\n",
       "      <td>16.0</td>\n",
       "    </tr>\n",
       "    <tr>\n",
       "      <th>2020-10-07</th>\n",
       "      <td>ZWE</td>\n",
       "      <td>NaN</td>\n",
       "      <td>Zimbabwe</td>\n",
       "      <td>14862927.0</td>\n",
       "      <td>7919.0</td>\n",
       "      <td>229.0</td>\n",
       "      <td>6441.0</td>\n",
       "      <td>1249.0</td>\n",
       "      <td>4.0</td>\n",
       "      <td>0.0</td>\n",
       "      <td>1.0</td>\n",
       "    </tr>\n",
       "  </tbody>\n",
       "</table>\n",
       "<p>46800 rows × 11 columns</p>\n",
       "</div>"
      ],
      "text/plain": [
       "           CountryCode  StringencyIndex Country_Region  Population  Confirmed  \\\n",
       "Date                                                                            \n",
       "2020-01-22         ABW              0.0    Netherlands    106766.0        0.0   \n",
       "2020-01-23         ABW              0.0    Netherlands    106766.0        0.0   \n",
       "2020-01-24         ABW              0.0    Netherlands    106766.0        0.0   \n",
       "2020-01-25         ABW              0.0    Netherlands    106766.0        0.0   \n",
       "2020-01-26         ABW              0.0    Netherlands    106766.0        0.0   \n",
       "...                ...              ...            ...         ...        ...   \n",
       "2020-10-03         ZWE              NaN       Zimbabwe  14862927.0     7885.0   \n",
       "2020-10-04         ZWE              NaN       Zimbabwe  14862927.0     7888.0   \n",
       "2020-10-05         ZWE              NaN       Zimbabwe  14862927.0     7898.0   \n",
       "2020-10-06         ZWE              NaN       Zimbabwe  14862927.0     7915.0   \n",
       "2020-10-07         ZWE              NaN       Zimbabwe  14862927.0     7919.0   \n",
       "\n",
       "            Deaths  Recovered  Active  New_cases  New_deaths  New_recovered  \n",
       "Date                                                                         \n",
       "2020-01-22     0.0        0.0     0.0        0.0         0.0            0.0  \n",
       "2020-01-23     0.0        0.0     0.0        0.0         0.0            0.0  \n",
       "2020-01-24     0.0        0.0     0.0        0.0         0.0            0.0  \n",
       "2020-01-25     0.0        0.0     0.0        0.0         0.0            0.0  \n",
       "2020-01-26     0.0        0.0     0.0        0.0         0.0            0.0  \n",
       "...            ...        ...     ...        ...         ...            ...  \n",
       "2020-10-03   228.0     6327.0  1330.0       27.0         0.0            5.0  \n",
       "2020-10-04   228.0     6359.0  1301.0        3.0         0.0           32.0  \n",
       "2020-10-05   228.0     6424.0  1246.0       10.0         0.0           65.0  \n",
       "2020-10-06   229.0     6440.0  1246.0       17.0         1.0           16.0  \n",
       "2020-10-07   229.0     6441.0  1249.0        4.0         0.0            1.0  \n",
       "\n",
       "[46800 rows x 11 columns]"
      ]
     },
     "execution_count": 46,
     "metadata": {},
     "output_type": "execute_result"
    }
   ],
   "source": [
    "my_complete_df"
   ]
  },
  {
   "cell_type": "code",
   "execution_count": 47,
   "metadata": {},
   "outputs": [
    {
     "data": {
      "text/html": [
       "<div>\n",
       "<style scoped>\n",
       "    .dataframe tbody tr th:only-of-type {\n",
       "        vertical-align: middle;\n",
       "    }\n",
       "\n",
       "    .dataframe tbody tr th {\n",
       "        vertical-align: top;\n",
       "    }\n",
       "\n",
       "    .dataframe thead th {\n",
       "        text-align: right;\n",
       "    }\n",
       "</style>\n",
       "<table border=\"1\" class=\"dataframe\">\n",
       "  <thead>\n",
       "    <tr style=\"text-align: right;\">\n",
       "      <th></th>\n",
       "      <th>CountryCode</th>\n",
       "      <th>StringencyIndex</th>\n",
       "      <th>Country_Region</th>\n",
       "      <th>Population</th>\n",
       "      <th>Confirmed</th>\n",
       "      <th>Deaths</th>\n",
       "      <th>Recovered</th>\n",
       "      <th>Active</th>\n",
       "      <th>New_cases</th>\n",
       "      <th>New_deaths</th>\n",
       "      <th>New_recovered</th>\n",
       "      <th>Confirmed_100K</th>\n",
       "      <th>Deaths_100K</th>\n",
       "      <th>Recovered_100K</th>\n",
       "      <th>Active_100K</th>\n",
       "      <th>New_cases_100K</th>\n",
       "      <th>New_deaths_100K</th>\n",
       "      <th>New_recovered_100K</th>\n",
       "    </tr>\n",
       "    <tr>\n",
       "      <th>Date</th>\n",
       "      <th></th>\n",
       "      <th></th>\n",
       "      <th></th>\n",
       "      <th></th>\n",
       "      <th></th>\n",
       "      <th></th>\n",
       "      <th></th>\n",
       "      <th></th>\n",
       "      <th></th>\n",
       "      <th></th>\n",
       "      <th></th>\n",
       "      <th></th>\n",
       "      <th></th>\n",
       "      <th></th>\n",
       "      <th></th>\n",
       "      <th></th>\n",
       "      <th></th>\n",
       "      <th></th>\n",
       "    </tr>\n",
       "  </thead>\n",
       "  <tbody>\n",
       "    <tr>\n",
       "      <th>2020-01-22</th>\n",
       "      <td>ABW</td>\n",
       "      <td>0.0</td>\n",
       "      <td>Netherlands</td>\n",
       "      <td>106766.0</td>\n",
       "      <td>0.0</td>\n",
       "      <td>0.0</td>\n",
       "      <td>0.0</td>\n",
       "      <td>0.0</td>\n",
       "      <td>0.0</td>\n",
       "      <td>0.0</td>\n",
       "      <td>0.0</td>\n",
       "      <td>0.000000</td>\n",
       "      <td>0.000000</td>\n",
       "      <td>0.000000</td>\n",
       "      <td>0.000000</td>\n",
       "      <td>0.000000</td>\n",
       "      <td>0.000000</td>\n",
       "      <td>0.000000</td>\n",
       "    </tr>\n",
       "    <tr>\n",
       "      <th>2020-01-23</th>\n",
       "      <td>ABW</td>\n",
       "      <td>0.0</td>\n",
       "      <td>Netherlands</td>\n",
       "      <td>106766.0</td>\n",
       "      <td>0.0</td>\n",
       "      <td>0.0</td>\n",
       "      <td>0.0</td>\n",
       "      <td>0.0</td>\n",
       "      <td>0.0</td>\n",
       "      <td>0.0</td>\n",
       "      <td>0.0</td>\n",
       "      <td>0.000000</td>\n",
       "      <td>0.000000</td>\n",
       "      <td>0.000000</td>\n",
       "      <td>0.000000</td>\n",
       "      <td>0.000000</td>\n",
       "      <td>0.000000</td>\n",
       "      <td>0.000000</td>\n",
       "    </tr>\n",
       "    <tr>\n",
       "      <th>2020-01-24</th>\n",
       "      <td>ABW</td>\n",
       "      <td>0.0</td>\n",
       "      <td>Netherlands</td>\n",
       "      <td>106766.0</td>\n",
       "      <td>0.0</td>\n",
       "      <td>0.0</td>\n",
       "      <td>0.0</td>\n",
       "      <td>0.0</td>\n",
       "      <td>0.0</td>\n",
       "      <td>0.0</td>\n",
       "      <td>0.0</td>\n",
       "      <td>0.000000</td>\n",
       "      <td>0.000000</td>\n",
       "      <td>0.000000</td>\n",
       "      <td>0.000000</td>\n",
       "      <td>0.000000</td>\n",
       "      <td>0.000000</td>\n",
       "      <td>0.000000</td>\n",
       "    </tr>\n",
       "    <tr>\n",
       "      <th>2020-01-25</th>\n",
       "      <td>ABW</td>\n",
       "      <td>0.0</td>\n",
       "      <td>Netherlands</td>\n",
       "      <td>106766.0</td>\n",
       "      <td>0.0</td>\n",
       "      <td>0.0</td>\n",
       "      <td>0.0</td>\n",
       "      <td>0.0</td>\n",
       "      <td>0.0</td>\n",
       "      <td>0.0</td>\n",
       "      <td>0.0</td>\n",
       "      <td>0.000000</td>\n",
       "      <td>0.000000</td>\n",
       "      <td>0.000000</td>\n",
       "      <td>0.000000</td>\n",
       "      <td>0.000000</td>\n",
       "      <td>0.000000</td>\n",
       "      <td>0.000000</td>\n",
       "    </tr>\n",
       "    <tr>\n",
       "      <th>2020-01-26</th>\n",
       "      <td>ABW</td>\n",
       "      <td>0.0</td>\n",
       "      <td>Netherlands</td>\n",
       "      <td>106766.0</td>\n",
       "      <td>0.0</td>\n",
       "      <td>0.0</td>\n",
       "      <td>0.0</td>\n",
       "      <td>0.0</td>\n",
       "      <td>0.0</td>\n",
       "      <td>0.0</td>\n",
       "      <td>0.0</td>\n",
       "      <td>0.000000</td>\n",
       "      <td>0.000000</td>\n",
       "      <td>0.000000</td>\n",
       "      <td>0.000000</td>\n",
       "      <td>0.000000</td>\n",
       "      <td>0.000000</td>\n",
       "      <td>0.000000</td>\n",
       "    </tr>\n",
       "    <tr>\n",
       "      <th>...</th>\n",
       "      <td>...</td>\n",
       "      <td>...</td>\n",
       "      <td>...</td>\n",
       "      <td>...</td>\n",
       "      <td>...</td>\n",
       "      <td>...</td>\n",
       "      <td>...</td>\n",
       "      <td>...</td>\n",
       "      <td>...</td>\n",
       "      <td>...</td>\n",
       "      <td>...</td>\n",
       "      <td>...</td>\n",
       "      <td>...</td>\n",
       "      <td>...</td>\n",
       "      <td>...</td>\n",
       "      <td>...</td>\n",
       "      <td>...</td>\n",
       "      <td>...</td>\n",
       "    </tr>\n",
       "    <tr>\n",
       "      <th>2020-10-03</th>\n",
       "      <td>ZWE</td>\n",
       "      <td>NaN</td>\n",
       "      <td>Zimbabwe</td>\n",
       "      <td>14862927.0</td>\n",
       "      <td>7885.0</td>\n",
       "      <td>228.0</td>\n",
       "      <td>6327.0</td>\n",
       "      <td>1330.0</td>\n",
       "      <td>27.0</td>\n",
       "      <td>0.0</td>\n",
       "      <td>5.0</td>\n",
       "      <td>53.051462</td>\n",
       "      <td>1.534018</td>\n",
       "      <td>42.569004</td>\n",
       "      <td>8.948439</td>\n",
       "      <td>0.181660</td>\n",
       "      <td>0.000000</td>\n",
       "      <td>0.033641</td>\n",
       "    </tr>\n",
       "    <tr>\n",
       "      <th>2020-10-04</th>\n",
       "      <td>ZWE</td>\n",
       "      <td>NaN</td>\n",
       "      <td>Zimbabwe</td>\n",
       "      <td>14862927.0</td>\n",
       "      <td>7888.0</td>\n",
       "      <td>228.0</td>\n",
       "      <td>6359.0</td>\n",
       "      <td>1301.0</td>\n",
       "      <td>3.0</td>\n",
       "      <td>0.0</td>\n",
       "      <td>32.0</td>\n",
       "      <td>53.071646</td>\n",
       "      <td>1.534018</td>\n",
       "      <td>42.784305</td>\n",
       "      <td>8.753323</td>\n",
       "      <td>0.020184</td>\n",
       "      <td>0.000000</td>\n",
       "      <td>0.215301</td>\n",
       "    </tr>\n",
       "    <tr>\n",
       "      <th>2020-10-05</th>\n",
       "      <td>ZWE</td>\n",
       "      <td>NaN</td>\n",
       "      <td>Zimbabwe</td>\n",
       "      <td>14862927.0</td>\n",
       "      <td>7898.0</td>\n",
       "      <td>228.0</td>\n",
       "      <td>6424.0</td>\n",
       "      <td>1246.0</td>\n",
       "      <td>10.0</td>\n",
       "      <td>0.0</td>\n",
       "      <td>65.0</td>\n",
       "      <td>53.138927</td>\n",
       "      <td>1.534018</td>\n",
       "      <td>43.221635</td>\n",
       "      <td>8.383275</td>\n",
       "      <td>0.067281</td>\n",
       "      <td>0.000000</td>\n",
       "      <td>0.437330</td>\n",
       "    </tr>\n",
       "    <tr>\n",
       "      <th>2020-10-06</th>\n",
       "      <td>ZWE</td>\n",
       "      <td>NaN</td>\n",
       "      <td>Zimbabwe</td>\n",
       "      <td>14862927.0</td>\n",
       "      <td>7915.0</td>\n",
       "      <td>229.0</td>\n",
       "      <td>6440.0</td>\n",
       "      <td>1246.0</td>\n",
       "      <td>17.0</td>\n",
       "      <td>1.0</td>\n",
       "      <td>16.0</td>\n",
       "      <td>53.253306</td>\n",
       "      <td>1.540746</td>\n",
       "      <td>43.329285</td>\n",
       "      <td>8.383275</td>\n",
       "      <td>0.114379</td>\n",
       "      <td>0.006728</td>\n",
       "      <td>0.107650</td>\n",
       "    </tr>\n",
       "    <tr>\n",
       "      <th>2020-10-07</th>\n",
       "      <td>ZWE</td>\n",
       "      <td>NaN</td>\n",
       "      <td>Zimbabwe</td>\n",
       "      <td>14862927.0</td>\n",
       "      <td>7919.0</td>\n",
       "      <td>229.0</td>\n",
       "      <td>6441.0</td>\n",
       "      <td>1249.0</td>\n",
       "      <td>4.0</td>\n",
       "      <td>0.0</td>\n",
       "      <td>1.0</td>\n",
       "      <td>53.280219</td>\n",
       "      <td>1.540746</td>\n",
       "      <td>43.336013</td>\n",
       "      <td>8.403459</td>\n",
       "      <td>0.026913</td>\n",
       "      <td>0.000000</td>\n",
       "      <td>0.006728</td>\n",
       "    </tr>\n",
       "  </tbody>\n",
       "</table>\n",
       "<p>46800 rows × 18 columns</p>\n",
       "</div>"
      ],
      "text/plain": [
       "           CountryCode  StringencyIndex Country_Region  Population  Confirmed  \\\n",
       "Date                                                                            \n",
       "2020-01-22         ABW              0.0    Netherlands    106766.0        0.0   \n",
       "2020-01-23         ABW              0.0    Netherlands    106766.0        0.0   \n",
       "2020-01-24         ABW              0.0    Netherlands    106766.0        0.0   \n",
       "2020-01-25         ABW              0.0    Netherlands    106766.0        0.0   \n",
       "2020-01-26         ABW              0.0    Netherlands    106766.0        0.0   \n",
       "...                ...              ...            ...         ...        ...   \n",
       "2020-10-03         ZWE              NaN       Zimbabwe  14862927.0     7885.0   \n",
       "2020-10-04         ZWE              NaN       Zimbabwe  14862927.0     7888.0   \n",
       "2020-10-05         ZWE              NaN       Zimbabwe  14862927.0     7898.0   \n",
       "2020-10-06         ZWE              NaN       Zimbabwe  14862927.0     7915.0   \n",
       "2020-10-07         ZWE              NaN       Zimbabwe  14862927.0     7919.0   \n",
       "\n",
       "            Deaths  Recovered  Active  New_cases  New_deaths  New_recovered  \\\n",
       "Date                                                                          \n",
       "2020-01-22     0.0        0.0     0.0        0.0         0.0            0.0   \n",
       "2020-01-23     0.0        0.0     0.0        0.0         0.0            0.0   \n",
       "2020-01-24     0.0        0.0     0.0        0.0         0.0            0.0   \n",
       "2020-01-25     0.0        0.0     0.0        0.0         0.0            0.0   \n",
       "2020-01-26     0.0        0.0     0.0        0.0         0.0            0.0   \n",
       "...            ...        ...     ...        ...         ...            ...   \n",
       "2020-10-03   228.0     6327.0  1330.0       27.0         0.0            5.0   \n",
       "2020-10-04   228.0     6359.0  1301.0        3.0         0.0           32.0   \n",
       "2020-10-05   228.0     6424.0  1246.0       10.0         0.0           65.0   \n",
       "2020-10-06   229.0     6440.0  1246.0       17.0         1.0           16.0   \n",
       "2020-10-07   229.0     6441.0  1249.0        4.0         0.0            1.0   \n",
       "\n",
       "            Confirmed_100K  Deaths_100K  Recovered_100K  Active_100K  \\\n",
       "Date                                                                   \n",
       "2020-01-22        0.000000     0.000000        0.000000     0.000000   \n",
       "2020-01-23        0.000000     0.000000        0.000000     0.000000   \n",
       "2020-01-24        0.000000     0.000000        0.000000     0.000000   \n",
       "2020-01-25        0.000000     0.000000        0.000000     0.000000   \n",
       "2020-01-26        0.000000     0.000000        0.000000     0.000000   \n",
       "...                    ...          ...             ...          ...   \n",
       "2020-10-03       53.051462     1.534018       42.569004     8.948439   \n",
       "2020-10-04       53.071646     1.534018       42.784305     8.753323   \n",
       "2020-10-05       53.138927     1.534018       43.221635     8.383275   \n",
       "2020-10-06       53.253306     1.540746       43.329285     8.383275   \n",
       "2020-10-07       53.280219     1.540746       43.336013     8.403459   \n",
       "\n",
       "            New_cases_100K  New_deaths_100K  New_recovered_100K  \n",
       "Date                                                             \n",
       "2020-01-22        0.000000         0.000000            0.000000  \n",
       "2020-01-23        0.000000         0.000000            0.000000  \n",
       "2020-01-24        0.000000         0.000000            0.000000  \n",
       "2020-01-25        0.000000         0.000000            0.000000  \n",
       "2020-01-26        0.000000         0.000000            0.000000  \n",
       "...                    ...              ...                 ...  \n",
       "2020-10-03        0.181660         0.000000            0.033641  \n",
       "2020-10-04        0.020184         0.000000            0.215301  \n",
       "2020-10-05        0.067281         0.000000            0.437330  \n",
       "2020-10-06        0.114379         0.006728            0.107650  \n",
       "2020-10-07        0.026913         0.000000            0.006728  \n",
       "\n",
       "[46800 rows x 18 columns]"
      ]
     },
     "execution_count": 47,
     "metadata": {},
     "output_type": "execute_result"
    }
   ],
   "source": [
    "my_complete_df['Confirmed_100K'] = my_complete_df['Confirmed'].multiply(100000, fill_value = 0).divide(my_complete_df['Population'], fill_value = 0)\n",
    "my_complete_df['Deaths_100K'] = my_complete_df['Deaths'].multiply(100000, fill_value = 0).divide(my_complete_df['Population'], fill_value = 0)\n",
    "my_complete_df['Recovered_100K'] = my_complete_df['Recovered'].multiply(100000, fill_value = 0).divide(my_complete_df['Population'], fill_value = 0)\n",
    "my_complete_df['Active_100K'] = my_complete_df['Active'].multiply(100000, fill_value = 0).divide(my_complete_df['Population'], fill_value = 0)\n",
    "my_complete_df['New_cases_100K'] = my_complete_df['New_cases'].multiply(100000, fill_value = 0).divide(my_complete_df['Population'], fill_value = 0)\n",
    "my_complete_df['New_deaths_100K'] = my_complete_df['New_deaths'].multiply(100000, fill_value = 0).divide(my_complete_df['Population'], fill_value = 0)\n",
    "my_complete_df['New_recovered_100K'] = my_complete_df['New_recovered'].multiply(100000, fill_value = 0).divide(my_complete_df['Population'], fill_value = 0)\n",
    "my_complete_df"
   ]
  },
  {
   "cell_type": "code",
   "execution_count": null,
   "metadata": {},
   "outputs": [],
   "source": []
  },
  {
   "cell_type": "code",
   "execution_count": null,
   "metadata": {},
   "outputs": [],
   "source": []
  },
  {
   "cell_type": "code",
   "execution_count": null,
   "metadata": {},
   "outputs": [],
   "source": []
  },
  {
   "cell_type": "code",
   "execution_count": null,
   "metadata": {},
   "outputs": [],
   "source": []
  },
  {
   "cell_type": "markdown",
   "metadata": {
    "id": "4qmgYacLp5TO"
   },
   "source": [
    "## Visualizing Covid data by individual countries\n",
    "To visualize a country performance with the Covid assign a country code to the variable my_country from the following diccionary of countries names and codes"
   ]
  },
  {
   "cell_type": "code",
   "execution_count": 48,
   "metadata": {},
   "outputs": [],
   "source": [
    "my_countries_dicc = my_complete_df[['CountryCode', 'Country_Region']].drop_duplicates().reset_index()[['CountryCode', 'Country_Region']].set_index('CountryCode').to_dict()\n",
    "\n",
    "#my_countries_dicc # to see al country codes and names uncomment this line"
   ]
  },
  {
   "cell_type": "markdown",
   "metadata": {},
   "source": [
    "Here we take an example visualizing the dataset from Switzerland (CHE)"
   ]
  },
  {
   "cell_type": "code",
   "execution_count": 49,
   "metadata": {},
   "outputs": [
    {
     "data": {
      "text/html": [
       "<div>\n",
       "<style scoped>\n",
       "    .dataframe tbody tr th:only-of-type {\n",
       "        vertical-align: middle;\n",
       "    }\n",
       "\n",
       "    .dataframe tbody tr th {\n",
       "        vertical-align: top;\n",
       "    }\n",
       "\n",
       "    .dataframe thead th {\n",
       "        text-align: right;\n",
       "    }\n",
       "</style>\n",
       "<table border=\"1\" class=\"dataframe\">\n",
       "  <thead>\n",
       "    <tr style=\"text-align: right;\">\n",
       "      <th></th>\n",
       "      <th>CountryCode</th>\n",
       "      <th>StringencyIndex</th>\n",
       "      <th>Country_Region</th>\n",
       "      <th>Population</th>\n",
       "      <th>Confirmed</th>\n",
       "      <th>Deaths</th>\n",
       "      <th>Recovered</th>\n",
       "      <th>Active</th>\n",
       "      <th>New_cases</th>\n",
       "      <th>New_deaths</th>\n",
       "      <th>New_recovered</th>\n",
       "      <th>Confirmed_100K</th>\n",
       "      <th>Deaths_100K</th>\n",
       "      <th>Recovered_100K</th>\n",
       "      <th>Active_100K</th>\n",
       "      <th>New_cases_100K</th>\n",
       "      <th>New_deaths_100K</th>\n",
       "      <th>New_recovered_100K</th>\n",
       "    </tr>\n",
       "    <tr>\n",
       "      <th>Date</th>\n",
       "      <th></th>\n",
       "      <th></th>\n",
       "      <th></th>\n",
       "      <th></th>\n",
       "      <th></th>\n",
       "      <th></th>\n",
       "      <th></th>\n",
       "      <th></th>\n",
       "      <th></th>\n",
       "      <th></th>\n",
       "      <th></th>\n",
       "      <th></th>\n",
       "      <th></th>\n",
       "      <th></th>\n",
       "      <th></th>\n",
       "      <th></th>\n",
       "      <th></th>\n",
       "      <th></th>\n",
       "    </tr>\n",
       "  </thead>\n",
       "  <tbody>\n",
       "    <tr>\n",
       "      <th>2020-01-22</th>\n",
       "      <td>COL</td>\n",
       "      <td>8.33</td>\n",
       "      <td>Colombia</td>\n",
       "      <td>99141018.0</td>\n",
       "      <td>0.0</td>\n",
       "      <td>0.0</td>\n",
       "      <td>0.0</td>\n",
       "      <td>0.0</td>\n",
       "      <td>0.0</td>\n",
       "      <td>0.0</td>\n",
       "      <td>0.0</td>\n",
       "      <td>0.000000</td>\n",
       "      <td>0.000000</td>\n",
       "      <td>0.000000</td>\n",
       "      <td>0.000000</td>\n",
       "      <td>0.000000</td>\n",
       "      <td>0.000000</td>\n",
       "      <td>0.000000</td>\n",
       "    </tr>\n",
       "    <tr>\n",
       "      <th>2020-01-23</th>\n",
       "      <td>COL</td>\n",
       "      <td>8.33</td>\n",
       "      <td>Colombia</td>\n",
       "      <td>99141018.0</td>\n",
       "      <td>0.0</td>\n",
       "      <td>0.0</td>\n",
       "      <td>0.0</td>\n",
       "      <td>0.0</td>\n",
       "      <td>0.0</td>\n",
       "      <td>0.0</td>\n",
       "      <td>0.0</td>\n",
       "      <td>0.000000</td>\n",
       "      <td>0.000000</td>\n",
       "      <td>0.000000</td>\n",
       "      <td>0.000000</td>\n",
       "      <td>0.000000</td>\n",
       "      <td>0.000000</td>\n",
       "      <td>0.000000</td>\n",
       "    </tr>\n",
       "    <tr>\n",
       "      <th>2020-01-24</th>\n",
       "      <td>COL</td>\n",
       "      <td>8.33</td>\n",
       "      <td>Colombia</td>\n",
       "      <td>99141018.0</td>\n",
       "      <td>0.0</td>\n",
       "      <td>0.0</td>\n",
       "      <td>0.0</td>\n",
       "      <td>0.0</td>\n",
       "      <td>0.0</td>\n",
       "      <td>0.0</td>\n",
       "      <td>0.0</td>\n",
       "      <td>0.000000</td>\n",
       "      <td>0.000000</td>\n",
       "      <td>0.000000</td>\n",
       "      <td>0.000000</td>\n",
       "      <td>0.000000</td>\n",
       "      <td>0.000000</td>\n",
       "      <td>0.000000</td>\n",
       "    </tr>\n",
       "    <tr>\n",
       "      <th>2020-01-25</th>\n",
       "      <td>COL</td>\n",
       "      <td>8.33</td>\n",
       "      <td>Colombia</td>\n",
       "      <td>99141018.0</td>\n",
       "      <td>0.0</td>\n",
       "      <td>0.0</td>\n",
       "      <td>0.0</td>\n",
       "      <td>0.0</td>\n",
       "      <td>0.0</td>\n",
       "      <td>0.0</td>\n",
       "      <td>0.0</td>\n",
       "      <td>0.000000</td>\n",
       "      <td>0.000000</td>\n",
       "      <td>0.000000</td>\n",
       "      <td>0.000000</td>\n",
       "      <td>0.000000</td>\n",
       "      <td>0.000000</td>\n",
       "      <td>0.000000</td>\n",
       "    </tr>\n",
       "    <tr>\n",
       "      <th>2020-01-26</th>\n",
       "      <td>COL</td>\n",
       "      <td>8.33</td>\n",
       "      <td>Colombia</td>\n",
       "      <td>99141018.0</td>\n",
       "      <td>0.0</td>\n",
       "      <td>0.0</td>\n",
       "      <td>0.0</td>\n",
       "      <td>0.0</td>\n",
       "      <td>0.0</td>\n",
       "      <td>0.0</td>\n",
       "      <td>0.0</td>\n",
       "      <td>0.000000</td>\n",
       "      <td>0.000000</td>\n",
       "      <td>0.000000</td>\n",
       "      <td>0.000000</td>\n",
       "      <td>0.000000</td>\n",
       "      <td>0.000000</td>\n",
       "      <td>0.000000</td>\n",
       "    </tr>\n",
       "    <tr>\n",
       "      <th>...</th>\n",
       "      <td>...</td>\n",
       "      <td>...</td>\n",
       "      <td>...</td>\n",
       "      <td>...</td>\n",
       "      <td>...</td>\n",
       "      <td>...</td>\n",
       "      <td>...</td>\n",
       "      <td>...</td>\n",
       "      <td>...</td>\n",
       "      <td>...</td>\n",
       "      <td>...</td>\n",
       "      <td>...</td>\n",
       "      <td>...</td>\n",
       "      <td>...</td>\n",
       "      <td>...</td>\n",
       "      <td>...</td>\n",
       "      <td>...</td>\n",
       "      <td>...</td>\n",
       "    </tr>\n",
       "    <tr>\n",
       "      <th>2020-10-03</th>\n",
       "      <td>COL</td>\n",
       "      <td>NaN</td>\n",
       "      <td>Colombia</td>\n",
       "      <td>99141018.0</td>\n",
       "      <td>848147.0</td>\n",
       "      <td>26556.0</td>\n",
       "      <td>757801.0</td>\n",
       "      <td>63790.0</td>\n",
       "      <td>6615.0</td>\n",
       "      <td>159.0</td>\n",
       "      <td>3848.0</td>\n",
       "      <td>855.495553</td>\n",
       "      <td>26.786088</td>\n",
       "      <td>764.366773</td>\n",
       "      <td>64.342692</td>\n",
       "      <td>6.672314</td>\n",
       "      <td>0.160378</td>\n",
       "      <td>3.881340</td>\n",
       "    </tr>\n",
       "    <tr>\n",
       "      <th>2020-10-04</th>\n",
       "      <td>COL</td>\n",
       "      <td>NaN</td>\n",
       "      <td>Colombia</td>\n",
       "      <td>99141018.0</td>\n",
       "      <td>855052.0</td>\n",
       "      <td>26712.0</td>\n",
       "      <td>761674.0</td>\n",
       "      <td>66666.0</td>\n",
       "      <td>6905.0</td>\n",
       "      <td>156.0</td>\n",
       "      <td>3873.0</td>\n",
       "      <td>862.460379</td>\n",
       "      <td>26.943439</td>\n",
       "      <td>768.273330</td>\n",
       "      <td>67.243611</td>\n",
       "      <td>6.964827</td>\n",
       "      <td>0.157352</td>\n",
       "      <td>3.906557</td>\n",
       "    </tr>\n",
       "    <tr>\n",
       "      <th>2020-10-05</th>\n",
       "      <td>COL</td>\n",
       "      <td>NaN</td>\n",
       "      <td>Colombia</td>\n",
       "      <td>99141018.0</td>\n",
       "      <td>862158.0</td>\n",
       "      <td>26844.0</td>\n",
       "      <td>766300.0</td>\n",
       "      <td>69014.0</td>\n",
       "      <td>7106.0</td>\n",
       "      <td>132.0</td>\n",
       "      <td>4626.0</td>\n",
       "      <td>869.627948</td>\n",
       "      <td>27.076583</td>\n",
       "      <td>772.939410</td>\n",
       "      <td>69.611954</td>\n",
       "      <td>7.167568</td>\n",
       "      <td>0.133144</td>\n",
       "      <td>4.666081</td>\n",
       "    </tr>\n",
       "    <tr>\n",
       "      <th>2020-10-06</th>\n",
       "      <td>COL</td>\n",
       "      <td>NaN</td>\n",
       "      <td>Colombia</td>\n",
       "      <td>99141018.0</td>\n",
       "      <td>869808.0</td>\n",
       "      <td>27017.0</td>\n",
       "      <td>770812.0</td>\n",
       "      <td>71979.0</td>\n",
       "      <td>7650.0</td>\n",
       "      <td>173.0</td>\n",
       "      <td>4512.0</td>\n",
       "      <td>877.344229</td>\n",
       "      <td>27.251082</td>\n",
       "      <td>777.490503</td>\n",
       "      <td>72.602644</td>\n",
       "      <td>7.716281</td>\n",
       "      <td>0.174499</td>\n",
       "      <td>4.551093</td>\n",
       "    </tr>\n",
       "    <tr>\n",
       "      <th>2020-10-07</th>\n",
       "      <td>COL</td>\n",
       "      <td>NaN</td>\n",
       "      <td>Colombia</td>\n",
       "      <td>99141018.0</td>\n",
       "      <td>877684.0</td>\n",
       "      <td>27180.0</td>\n",
       "      <td>773973.0</td>\n",
       "      <td>76531.0</td>\n",
       "      <td>7876.0</td>\n",
       "      <td>163.0</td>\n",
       "      <td>3161.0</td>\n",
       "      <td>885.288469</td>\n",
       "      <td>27.415494</td>\n",
       "      <td>780.678891</td>\n",
       "      <td>77.194083</td>\n",
       "      <td>7.944240</td>\n",
       "      <td>0.164412</td>\n",
       "      <td>3.188388</td>\n",
       "    </tr>\n",
       "  </tbody>\n",
       "</table>\n",
       "<p>260 rows × 18 columns</p>\n",
       "</div>"
      ],
      "text/plain": [
       "           CountryCode  StringencyIndex Country_Region  Population  Confirmed  \\\n",
       "Date                                                                            \n",
       "2020-01-22         COL             8.33       Colombia  99141018.0        0.0   \n",
       "2020-01-23         COL             8.33       Colombia  99141018.0        0.0   \n",
       "2020-01-24         COL             8.33       Colombia  99141018.0        0.0   \n",
       "2020-01-25         COL             8.33       Colombia  99141018.0        0.0   \n",
       "2020-01-26         COL             8.33       Colombia  99141018.0        0.0   \n",
       "...                ...              ...            ...         ...        ...   \n",
       "2020-10-03         COL              NaN       Colombia  99141018.0   848147.0   \n",
       "2020-10-04         COL              NaN       Colombia  99141018.0   855052.0   \n",
       "2020-10-05         COL              NaN       Colombia  99141018.0   862158.0   \n",
       "2020-10-06         COL              NaN       Colombia  99141018.0   869808.0   \n",
       "2020-10-07         COL              NaN       Colombia  99141018.0   877684.0   \n",
       "\n",
       "             Deaths  Recovered   Active  New_cases  New_deaths  New_recovered  \\\n",
       "Date                                                                            \n",
       "2020-01-22      0.0        0.0      0.0        0.0         0.0            0.0   \n",
       "2020-01-23      0.0        0.0      0.0        0.0         0.0            0.0   \n",
       "2020-01-24      0.0        0.0      0.0        0.0         0.0            0.0   \n",
       "2020-01-25      0.0        0.0      0.0        0.0         0.0            0.0   \n",
       "2020-01-26      0.0        0.0      0.0        0.0         0.0            0.0   \n",
       "...             ...        ...      ...        ...         ...            ...   \n",
       "2020-10-03  26556.0   757801.0  63790.0     6615.0       159.0         3848.0   \n",
       "2020-10-04  26712.0   761674.0  66666.0     6905.0       156.0         3873.0   \n",
       "2020-10-05  26844.0   766300.0  69014.0     7106.0       132.0         4626.0   \n",
       "2020-10-06  27017.0   770812.0  71979.0     7650.0       173.0         4512.0   \n",
       "2020-10-07  27180.0   773973.0  76531.0     7876.0       163.0         3161.0   \n",
       "\n",
       "            Confirmed_100K  Deaths_100K  Recovered_100K  Active_100K  \\\n",
       "Date                                                                   \n",
       "2020-01-22        0.000000     0.000000        0.000000     0.000000   \n",
       "2020-01-23        0.000000     0.000000        0.000000     0.000000   \n",
       "2020-01-24        0.000000     0.000000        0.000000     0.000000   \n",
       "2020-01-25        0.000000     0.000000        0.000000     0.000000   \n",
       "2020-01-26        0.000000     0.000000        0.000000     0.000000   \n",
       "...                    ...          ...             ...          ...   \n",
       "2020-10-03      855.495553    26.786088      764.366773    64.342692   \n",
       "2020-10-04      862.460379    26.943439      768.273330    67.243611   \n",
       "2020-10-05      869.627948    27.076583      772.939410    69.611954   \n",
       "2020-10-06      877.344229    27.251082      777.490503    72.602644   \n",
       "2020-10-07      885.288469    27.415494      780.678891    77.194083   \n",
       "\n",
       "            New_cases_100K  New_deaths_100K  New_recovered_100K  \n",
       "Date                                                             \n",
       "2020-01-22        0.000000         0.000000            0.000000  \n",
       "2020-01-23        0.000000         0.000000            0.000000  \n",
       "2020-01-24        0.000000         0.000000            0.000000  \n",
       "2020-01-25        0.000000         0.000000            0.000000  \n",
       "2020-01-26        0.000000         0.000000            0.000000  \n",
       "...                    ...              ...                 ...  \n",
       "2020-10-03        6.672314         0.160378            3.881340  \n",
       "2020-10-04        6.964827         0.157352            3.906557  \n",
       "2020-10-05        7.167568         0.133144            4.666081  \n",
       "2020-10-06        7.716281         0.174499            4.551093  \n",
       "2020-10-07        7.944240         0.164412            3.188388  \n",
       "\n",
       "[260 rows x 18 columns]"
      ]
     },
     "execution_count": 49,
     "metadata": {},
     "output_type": "execute_result"
    }
   ],
   "source": [
    "country = 'COL'\n",
    "single_country_covid_df = my_complete_df[my_complete_df['CountryCode'] == country]\n",
    "single_country_covid_df"
   ]
  },
  {
   "cell_type": "code",
   "execution_count": 50,
   "metadata": {},
   "outputs": [
    {
     "data": {
      "image/png": "[encoded data removed]",
      "text/plain": [
       "<Figure size 432x288 with 1 Axes>"
      ]
     },
     "metadata": {
      "needs_background": "light"
     },
     "output_type": "display_data"
    },
    {
     "data": {
      "image/png": "[encoded data removed]",
      "text/plain": [
       "<Figure size 432x288 with 1 Axes>"
      ]
     },
     "metadata": {
      "needs_background": "light"
     },
     "output_type": "display_data"
    },
    {
     "data": {
      "image/png": "[encoded data removed]",
      "text/plain": [
       "<Figure size 432x288 with 1 Axes>"
      ]
     },
     "metadata": {
      "needs_background": "light"
     },
     "output_type": "display_data"
    },
    {
     "data": {
      "image/png": "[encoded data removed]",
      "text/plain": [
       "<Figure size 432x288 with 1 Axes>"
      ]
     },
     "metadata": {
      "needs_background": "light"
     },
     "output_type": "display_data"
    },
    {
     "data": {
      "image/png": "[encoded data removed]",
      "text/plain": [
       "<Figure size 432x288 with 1 Axes>"
      ]
     },
     "metadata": {
      "needs_background": "light"
     },
     "output_type": "display_data"
    },
    {
     "data": {
      "image/png": "[encoded data removed]",
      "text/plain": [
       "<Figure size 432x288 with 1 Axes>"
      ]
     },
     "metadata": {
      "needs_background": "light"
     },
     "output_type": "display_data"
    },
    {
     "data": {
      "image/png": "[encoded data removed]",
      "text/plain": [
       "<Figure size 432x288 with 1 Axes>"
      ]
     },
     "metadata": {
      "needs_background": "light"
     },
     "output_type": "display_data"
    },
    {
     "data": {
      "image/png": "[encoded data removed]",
      "text/plain": [
       "<Figure size 432x288 with 1 Axes>"
      ]
     },
     "metadata": {
      "needs_background": "light"
     },
     "output_type": "display_data"
    }
   ],
   "source": [
    "my_vars_for_ploting = ['StringencyIndex', 'New_cases_100K', 'New_deaths_100K', 'New_recovered_100K', 'Confirmed_100K', 'Deaths_100K', 'Recovered_100K', 'Active_100K']\n",
    "\n",
    "i = 0\n",
    "for variables in range(len(my_vars_for_ploting)):\n",
    "    single_country_covid_df.plot(y=my_vars_for_ploting[i],\n",
    "                                 kind=\"line\",\n",
    "#                                  c=['c', 'b'], \n",
    "                                 c = 'c',\n",
    "                                 label = my_vars_for_ploting[i]) # = ['StringencyIndex', 'New cases', 'New deaths', 'New recovered', 'Confirmed', 'Deaths', 'Recovered']])\n",
    "    plt.title('Country = ' + my_countries_dicc['Country_Region'][country])\n",
    "    i+=1\n",
    "plt.legend()\n",
    "plt.show()"
   ]
  },
  {
   "cell_type": "markdown",
   "metadata": {
    "id": "l8qDH34Xp5TX"
   },
   "source": [
    "# 4. Colecting and merging Socieconomical data from the WorldBank\n",
    "We extract socieconomical data such is GDP and Income level from the Worldbank datasets via API query request protocol.\n",
    "\n",
    "**Note**: retrieving *GDP* and *income level* doesn't seem to be so straightforward in a single call. So may be the strategy would be to make a call for each dataset and then merge then."
   ]
  },
  {
   "cell_type": "code",
   "execution_count": 51,
   "metadata": {
    "colab": {
     "base_uri": "https://localhost:8080/",
     "height": 424
    },
    "id": "QGtrutM1p5TX",
    "outputId": "d6960c37-efdc-49ef-dead-a0e2f93dcb65"
   },
   "outputs": [
    {
     "data": {
      "text/html": [
       "<div>\n",
       "<style scoped>\n",
       "    .dataframe tbody tr th:only-of-type {\n",
       "        vertical-align: middle;\n",
       "    }\n",
       "\n",
       "    .dataframe tbody tr th {\n",
       "        vertical-align: top;\n",
       "    }\n",
       "\n",
       "    .dataframe thead th {\n",
       "        text-align: right;\n",
       "    }\n",
       "</style>\n",
       "<table border=\"1\" class=\"dataframe\">\n",
       "  <thead>\n",
       "    <tr style=\"text-align: right;\">\n",
       "      <th></th>\n",
       "      <th>countryiso3code</th>\n",
       "      <th>value</th>\n",
       "      <th>indicator.value</th>\n",
       "      <th>country.value</th>\n",
       "    </tr>\n",
       "  </thead>\n",
       "  <tbody>\n",
       "    <tr>\n",
       "      <th>0</th>\n",
       "      <td>ARB</td>\n",
       "      <td>2.815410e+12</td>\n",
       "      <td>GDP (current US$)</td>\n",
       "      <td>Arab World</td>\n",
       "    </tr>\n",
       "    <tr>\n",
       "      <th>1</th>\n",
       "      <td>CSS</td>\n",
       "      <td>7.629037e+10</td>\n",
       "      <td>GDP (current US$)</td>\n",
       "      <td>Caribbean small states</td>\n",
       "    </tr>\n",
       "    <tr>\n",
       "      <th>2</th>\n",
       "      <td>CEB</td>\n",
       "      <td>1.656929e+12</td>\n",
       "      <td>GDP (current US$)</td>\n",
       "      <td>Central Europe and the Baltics</td>\n",
       "    </tr>\n",
       "    <tr>\n",
       "      <th>3</th>\n",
       "      <td>EAR</td>\n",
       "      <td>1.198157e+13</td>\n",
       "      <td>GDP (current US$)</td>\n",
       "      <td>Early-demographic dividend</td>\n",
       "    </tr>\n",
       "    <tr>\n",
       "      <th>4</th>\n",
       "      <td>EAS</td>\n",
       "      <td>2.697981e+13</td>\n",
       "      <td>GDP (current US$)</td>\n",
       "      <td>East Asia &amp; Pacific</td>\n",
       "    </tr>\n",
       "    <tr>\n",
       "      <th>...</th>\n",
       "      <td>...</td>\n",
       "      <td>...</td>\n",
       "      <td>...</td>\n",
       "      <td>...</td>\n",
       "    </tr>\n",
       "    <tr>\n",
       "      <th>259</th>\n",
       "      <td>VIR</td>\n",
       "      <td>NaN</td>\n",
       "      <td>GDP (current US$)</td>\n",
       "      <td>Virgin Islands (U.S.)</td>\n",
       "    </tr>\n",
       "    <tr>\n",
       "      <th>260</th>\n",
       "      <td>PSE</td>\n",
       "      <td>NaN</td>\n",
       "      <td>GDP (current US$)</td>\n",
       "      <td>West Bank and Gaza</td>\n",
       "    </tr>\n",
       "    <tr>\n",
       "      <th>261</th>\n",
       "      <td>YEM</td>\n",
       "      <td>NaN</td>\n",
       "      <td>GDP (current US$)</td>\n",
       "      <td>Yemen, Rep.</td>\n",
       "    </tr>\n",
       "    <tr>\n",
       "      <th>262</th>\n",
       "      <td>ZMB</td>\n",
       "      <td>2.306472e+10</td>\n",
       "      <td>GDP (current US$)</td>\n",
       "      <td>Zambia</td>\n",
       "    </tr>\n",
       "    <tr>\n",
       "      <th>263</th>\n",
       "      <td>ZWE</td>\n",
       "      <td>2.144076e+10</td>\n",
       "      <td>GDP (current US$)</td>\n",
       "      <td>Zimbabwe</td>\n",
       "    </tr>\n",
       "  </tbody>\n",
       "</table>\n",
       "<p>264 rows × 4 columns</p>\n",
       "</div>"
      ],
      "text/plain": [
       "    countryiso3code         value    indicator.value  \\\n",
       "0               ARB  2.815410e+12  GDP (current US$)   \n",
       "1               CSS  7.629037e+10  GDP (current US$)   \n",
       "2               CEB  1.656929e+12  GDP (current US$)   \n",
       "3               EAR  1.198157e+13  GDP (current US$)   \n",
       "4               EAS  2.697981e+13  GDP (current US$)   \n",
       "..              ...           ...                ...   \n",
       "259             VIR           NaN  GDP (current US$)   \n",
       "260             PSE           NaN  GDP (current US$)   \n",
       "261             YEM           NaN  GDP (current US$)   \n",
       "262             ZMB  2.306472e+10  GDP (current US$)   \n",
       "263             ZWE  2.144076e+10  GDP (current US$)   \n",
       "\n",
       "                      country.value  \n",
       "0                        Arab World  \n",
       "1            Caribbean small states  \n",
       "2    Central Europe and the Baltics  \n",
       "3        Early-demographic dividend  \n",
       "4               East Asia & Pacific  \n",
       "..                              ...  \n",
       "259           Virgin Islands (U.S.)  \n",
       "260              West Bank and Gaza  \n",
       "261                     Yemen, Rep.  \n",
       "262                          Zambia  \n",
       "263                        Zimbabwe  \n",
       "\n",
       "[264 rows x 4 columns]"
      ]
     },
     "execution_count": 51,
     "metadata": {},
     "output_type": "execute_result"
    }
   ],
   "source": [
    "my_home_url = 'http://api.worldbank.org/v2/country/all/indicator/NY.GDP.MKTP.CD'\n",
    "my_params = {'format' : 'json',\n",
    "            'date' : '2019',\n",
    "            'incomelevel' :'',\n",
    "            'per_page' : '304'} # dic with the parameters of interest\n",
    "r_GDP = requests.get(my_home_url, params = my_params) # make the data request\n",
    "\n",
    "#print(r.url) # here you can print the actual url send it to the API\n",
    "\n",
    "#remove first value (which contain info on the request)  and transform to json then to dataframe\n",
    "GDP_raw_df = pd.json_normalize(r_GDP.json()[-1]) \n",
    "# take only relevant variables\n",
    "GDP_raw_df = GDP_raw_df[['countryiso3code', 'value', 'indicator.value', 'country.value']]\n",
    "GDP_raw_df"
   ]
  },
  {
   "cell_type": "code",
   "execution_count": 52,
   "metadata": {
    "colab": {
     "base_uri": "https://localhost:8080/",
     "height": 225
    },
    "id": "AnwLXoXyp5TZ",
    "outputId": "6d677e10-d10d-4a5f-c61e-4a7d693e3e8a"
   },
   "outputs": [
    {
     "name": "stdout",
     "output_type": "stream",
     "text": [
      "<class 'pandas.core.frame.DataFrame'>\n",
      "RangeIndex: 264 entries, 0 to 263\n",
      "Data columns (total 4 columns):\n",
      " #   Column           Non-Null Count  Dtype  \n",
      "---  ------           --------------  -----  \n",
      " 0   countryiso3code  264 non-null    object \n",
      " 1   value            223 non-null    float64\n",
      " 2   indicator.value  264 non-null    object \n",
      " 3   country.value    264 non-null    object \n",
      "dtypes: float64(1), object(3)\n",
      "memory usage: 8.4+ KB\n"
     ]
    }
   ],
   "source": [
    "GDP_raw_df.info(verbose = True)"
   ]
  },
  {
   "cell_type": "code",
   "execution_count": 53,
   "metadata": {},
   "outputs": [
    {
     "data": {
      "text/html": [
       "<div>\n",
       "<style scoped>\n",
       "    .dataframe tbody tr th:only-of-type {\n",
       "        vertical-align: middle;\n",
       "    }\n",
       "\n",
       "    .dataframe tbody tr th {\n",
       "        vertical-align: top;\n",
       "    }\n",
       "\n",
       "    .dataframe thead th {\n",
       "        text-align: right;\n",
       "    }\n",
       "</style>\n",
       "<table border=\"1\" class=\"dataframe\">\n",
       "  <thead>\n",
       "    <tr style=\"text-align: right;\">\n",
       "      <th></th>\n",
       "      <th>CountryCode</th>\n",
       "      <th>GDP_in_USD</th>\n",
       "      <th>indicator.value</th>\n",
       "      <th>Country_Region</th>\n",
       "    </tr>\n",
       "  </thead>\n",
       "  <tbody>\n",
       "    <tr>\n",
       "      <th>0</th>\n",
       "      <td>ARB</td>\n",
       "      <td>2.815410e+12</td>\n",
       "      <td>GDP (current US$)</td>\n",
       "      <td>Arab World</td>\n",
       "    </tr>\n",
       "    <tr>\n",
       "      <th>1</th>\n",
       "      <td>CSS</td>\n",
       "      <td>7.629037e+10</td>\n",
       "      <td>GDP (current US$)</td>\n",
       "      <td>Caribbean small states</td>\n",
       "    </tr>\n",
       "    <tr>\n",
       "      <th>2</th>\n",
       "      <td>CEB</td>\n",
       "      <td>1.656929e+12</td>\n",
       "      <td>GDP (current US$)</td>\n",
       "      <td>Central Europe and the Baltics</td>\n",
       "    </tr>\n",
       "    <tr>\n",
       "      <th>3</th>\n",
       "      <td>EAR</td>\n",
       "      <td>1.198157e+13</td>\n",
       "      <td>GDP (current US$)</td>\n",
       "      <td>Early-demographic dividend</td>\n",
       "    </tr>\n",
       "    <tr>\n",
       "      <th>4</th>\n",
       "      <td>EAS</td>\n",
       "      <td>2.697981e+13</td>\n",
       "      <td>GDP (current US$)</td>\n",
       "      <td>East Asia &amp; Pacific</td>\n",
       "    </tr>\n",
       "    <tr>\n",
       "      <th>...</th>\n",
       "      <td>...</td>\n",
       "      <td>...</td>\n",
       "      <td>...</td>\n",
       "      <td>...</td>\n",
       "    </tr>\n",
       "    <tr>\n",
       "      <th>259</th>\n",
       "      <td>VIR</td>\n",
       "      <td>NaN</td>\n",
       "      <td>GDP (current US$)</td>\n",
       "      <td>Virgin Islands (U.S.)</td>\n",
       "    </tr>\n",
       "    <tr>\n",
       "      <th>260</th>\n",
       "      <td>PSE</td>\n",
       "      <td>NaN</td>\n",
       "      <td>GDP (current US$)</td>\n",
       "      <td>West Bank and Gaza</td>\n",
       "    </tr>\n",
       "    <tr>\n",
       "      <th>261</th>\n",
       "      <td>YEM</td>\n",
       "      <td>NaN</td>\n",
       "      <td>GDP (current US$)</td>\n",
       "      <td>Yemen, Rep.</td>\n",
       "    </tr>\n",
       "    <tr>\n",
       "      <th>262</th>\n",
       "      <td>ZMB</td>\n",
       "      <td>2.306472e+10</td>\n",
       "      <td>GDP (current US$)</td>\n",
       "      <td>Zambia</td>\n",
       "    </tr>\n",
       "    <tr>\n",
       "      <th>263</th>\n",
       "      <td>ZWE</td>\n",
       "      <td>2.144076e+10</td>\n",
       "      <td>GDP (current US$)</td>\n",
       "      <td>Zimbabwe</td>\n",
       "    </tr>\n",
       "  </tbody>\n",
       "</table>\n",
       "<p>264 rows × 4 columns</p>\n",
       "</div>"
      ],
      "text/plain": [
       "    CountryCode    GDP_in_USD    indicator.value  \\\n",
       "0           ARB  2.815410e+12  GDP (current US$)   \n",
       "1           CSS  7.629037e+10  GDP (current US$)   \n",
       "2           CEB  1.656929e+12  GDP (current US$)   \n",
       "3           EAR  1.198157e+13  GDP (current US$)   \n",
       "4           EAS  2.697981e+13  GDP (current US$)   \n",
       "..          ...           ...                ...   \n",
       "259         VIR           NaN  GDP (current US$)   \n",
       "260         PSE           NaN  GDP (current US$)   \n",
       "261         YEM           NaN  GDP (current US$)   \n",
       "262         ZMB  2.306472e+10  GDP (current US$)   \n",
       "263         ZWE  2.144076e+10  GDP (current US$)   \n",
       "\n",
       "                     Country_Region  \n",
       "0                        Arab World  \n",
       "1            Caribbean small states  \n",
       "2    Central Europe and the Baltics  \n",
       "3        Early-demographic dividend  \n",
       "4               East Asia & Pacific  \n",
       "..                              ...  \n",
       "259           Virgin Islands (U.S.)  \n",
       "260              West Bank and Gaza  \n",
       "261                     Yemen, Rep.  \n",
       "262                          Zambia  \n",
       "263                        Zimbabwe  \n",
       "\n",
       "[264 rows x 4 columns]"
      ]
     },
     "execution_count": 53,
     "metadata": {},
     "output_type": "execute_result"
    }
   ],
   "source": [
    "# 1. fixing names in GDP_raw_df dataset\n",
    "\n",
    "GDP_correct_names = {'countryiso3code' : 'CountryCode',\n",
    "                     'country.value' : 'Country_Region',\n",
    "                     'value' : 'GDP_in_USD'}\n",
    "GDP_raw_df.rename(columns = GDP_correct_names, inplace= True)\n",
    "GDP_raw_df"
   ]
  },
  {
   "cell_type": "code",
   "execution_count": 54,
   "metadata": {},
   "outputs": [
    {
     "data": {
      "text/plain": [
       "(88, 4)"
      ]
     },
     "execution_count": 54,
     "metadata": {},
     "output_type": "execute_result"
    }
   ],
   "source": [
    "GDP_raw_df[~GDP_raw_df['CountryCode'].isin(my_complete_df['CountryCode'])].drop_duplicates().shape #this are the 88 regions or dependencies from the GDP dataset that are not in the Covid df"
   ]
  },
  {
   "cell_type": "code",
   "execution_count": 55,
   "metadata": {},
   "outputs": [
    {
     "data": {
      "text/plain": [
       "(176, 1)"
      ]
     },
     "execution_count": 55,
     "metadata": {},
     "output_type": "execute_result"
    }
   ],
   "source": [
    "my_complete_df[my_complete_df['CountryCode'].isin(GDP_raw_df['CountryCode'])][['CountryCode']].drop_duplicates().shape"
   ]
  },
  {
   "cell_type": "markdown",
   "metadata": {},
   "source": [
    "We select only those countries from the GDP df that are present in the covid dataframe to be merged with the covid full dataframe"
   ]
  },
  {
   "cell_type": "code",
   "execution_count": 56,
   "metadata": {},
   "outputs": [
    {
     "name": "stdout",
     "output_type": "stream",
     "text": [
      "<class 'pandas.core.frame.DataFrame'>\n",
      "Int64Index: 176 entries, 47 to 263\n",
      "Data columns (total 4 columns):\n",
      " #   Column           Non-Null Count  Dtype  \n",
      "---  ------           --------------  -----  \n",
      " 0   CountryCode      176 non-null    object \n",
      " 1   GDP_in_USD       156 non-null    float64\n",
      " 2   indicator.value  176 non-null    object \n",
      " 3   Country_Region   176 non-null    object \n",
      "dtypes: float64(1), object(3)\n",
      "memory usage: 6.9+ KB\n"
     ]
    }
   ],
   "source": [
    "GDP_raw_df = GDP_raw_df[GDP_raw_df['CountryCode'].isin(my_complete_df['CountryCode'])]\n",
    "GDP_raw_df.info()"
   ]
  },
  {
   "cell_type": "markdown",
   "metadata": {},
   "source": [
    "### Join the GDP data to the covid df"
   ]
  },
  {
   "cell_type": "code",
   "execution_count": 57,
   "metadata": {},
   "outputs": [
    {
     "name": "stdout",
     "output_type": "stream",
     "text": [
      "<class 'pandas.core.frame.DataFrame'>\n",
      "DatetimeIndex: 46800 entries, 2020-01-22 to 2020-10-07\n",
      "Data columns (total 19 columns):\n",
      " #   Column              Non-Null Count  Dtype  \n",
      "---  ------              --------------  -----  \n",
      " 0   CountryCode         46800 non-null  object \n",
      " 1   StringencyIndex     45382 non-null  float64\n",
      " 2   Country_Region      46800 non-null  object \n",
      " 3   Population          46800 non-null  float64\n",
      " 4   Confirmed           46800 non-null  float64\n",
      " 5   Deaths              46800 non-null  float64\n",
      " 6   Recovered           46800 non-null  float64\n",
      " 7   Active              46800 non-null  float64\n",
      " 8   New_cases           46800 non-null  float64\n",
      " 9   New_deaths          46800 non-null  float64\n",
      " 10  New_recovered       46800 non-null  float64\n",
      " 11  Confirmed_100K      46800 non-null  float64\n",
      " 12  Deaths_100K         46800 non-null  float64\n",
      " 13  Recovered_100K      46800 non-null  float64\n",
      " 14  Active_100K         46800 non-null  float64\n",
      " 15  New_cases_100K      46800 non-null  float64\n",
      " 16  New_deaths_100K     46800 non-null  float64\n",
      " 17  New_recovered_100K  46800 non-null  float64\n",
      " 18  GDP_in_USD          40560 non-null  float64\n",
      "dtypes: float64(17), object(2)\n",
      "memory usage: 7.1+ MB\n"
     ]
    }
   ],
   "source": [
    "my_complete_df = my_complete_df.reset_index().merge(right=GDP_raw_df[['CountryCode', 'GDP_in_USD']],how='left', on=['CountryCode']).set_index('Date')\n",
    "my_complete_df.info()"
   ]
  },
  {
   "cell_type": "markdown",
   "metadata": {},
   "source": [
    "## We now extract data on Income level of the differnet countries (Country categories) from the worldbank API as before "
   ]
  },
  {
   "cell_type": "code",
   "execution_count": 58,
   "metadata": {
    "colab": {
     "base_uri": "https://localhost:8080/",
     "height": 424
    },
    "id": "FDBQoe7hp5Ta",
    "outputId": "78b47a3d-0bf3-4bd9-b138-f6ff24e13362"
   },
   "outputs": [
    {
     "data": {
      "text/html": [
       "<div>\n",
       "<style scoped>\n",
       "    .dataframe tbody tr th:only-of-type {\n",
       "        vertical-align: middle;\n",
       "    }\n",
       "\n",
       "    .dataframe tbody tr th {\n",
       "        vertical-align: top;\n",
       "    }\n",
       "\n",
       "    .dataframe thead th {\n",
       "        text-align: right;\n",
       "    }\n",
       "</style>\n",
       "<table border=\"1\" class=\"dataframe\">\n",
       "  <thead>\n",
       "    <tr style=\"text-align: right;\">\n",
       "      <th></th>\n",
       "      <th>id</th>\n",
       "      <th>name</th>\n",
       "      <th>region.value</th>\n",
       "      <th>incomeLevel.id</th>\n",
       "      <th>incomeLevel.value</th>\n",
       "    </tr>\n",
       "  </thead>\n",
       "  <tbody>\n",
       "    <tr>\n",
       "      <th>0</th>\n",
       "      <td>ABW</td>\n",
       "      <td>Aruba</td>\n",
       "      <td>Latin America &amp; Caribbean</td>\n",
       "      <td>HIC</td>\n",
       "      <td>High income</td>\n",
       "    </tr>\n",
       "    <tr>\n",
       "      <th>1</th>\n",
       "      <td>AFG</td>\n",
       "      <td>Afghanistan</td>\n",
       "      <td>South Asia</td>\n",
       "      <td>LIC</td>\n",
       "      <td>Low income</td>\n",
       "    </tr>\n",
       "    <tr>\n",
       "      <th>2</th>\n",
       "      <td>AFR</td>\n",
       "      <td>Africa</td>\n",
       "      <td>Aggregates</td>\n",
       "      <td>NA</td>\n",
       "      <td>Aggregates</td>\n",
       "    </tr>\n",
       "    <tr>\n",
       "      <th>3</th>\n",
       "      <td>AGO</td>\n",
       "      <td>Angola</td>\n",
       "      <td>Sub-Saharan Africa</td>\n",
       "      <td>LMC</td>\n",
       "      <td>Lower middle income</td>\n",
       "    </tr>\n",
       "    <tr>\n",
       "      <th>4</th>\n",
       "      <td>ALB</td>\n",
       "      <td>Albania</td>\n",
       "      <td>Europe &amp; Central Asia</td>\n",
       "      <td>UMC</td>\n",
       "      <td>Upper middle income</td>\n",
       "    </tr>\n",
       "    <tr>\n",
       "      <th>...</th>\n",
       "      <td>...</td>\n",
       "      <td>...</td>\n",
       "      <td>...</td>\n",
       "      <td>...</td>\n",
       "      <td>...</td>\n",
       "    </tr>\n",
       "    <tr>\n",
       "      <th>299</th>\n",
       "      <td>XZN</td>\n",
       "      <td>Sub-Saharan Africa excluding South Africa and ...</td>\n",
       "      <td>Aggregates</td>\n",
       "      <td>NA</td>\n",
       "      <td>Aggregates</td>\n",
       "    </tr>\n",
       "    <tr>\n",
       "      <th>300</th>\n",
       "      <td>YEM</td>\n",
       "      <td>Yemen, Rep.</td>\n",
       "      <td>Middle East &amp; North Africa</td>\n",
       "      <td>LIC</td>\n",
       "      <td>Low income</td>\n",
       "    </tr>\n",
       "    <tr>\n",
       "      <th>301</th>\n",
       "      <td>ZAF</td>\n",
       "      <td>South Africa</td>\n",
       "      <td>Sub-Saharan Africa</td>\n",
       "      <td>UMC</td>\n",
       "      <td>Upper middle income</td>\n",
       "    </tr>\n",
       "    <tr>\n",
       "      <th>302</th>\n",
       "      <td>ZMB</td>\n",
       "      <td>Zambia</td>\n",
       "      <td>Sub-Saharan Africa</td>\n",
       "      <td>LMC</td>\n",
       "      <td>Lower middle income</td>\n",
       "    </tr>\n",
       "    <tr>\n",
       "      <th>303</th>\n",
       "      <td>ZWE</td>\n",
       "      <td>Zimbabwe</td>\n",
       "      <td>Sub-Saharan Africa</td>\n",
       "      <td>LMC</td>\n",
       "      <td>Lower middle income</td>\n",
       "    </tr>\n",
       "  </tbody>\n",
       "</table>\n",
       "<p>304 rows × 5 columns</p>\n",
       "</div>"
      ],
      "text/plain": [
       "      id                                               name  \\\n",
       "0    ABW                                              Aruba   \n",
       "1    AFG                                        Afghanistan   \n",
       "2    AFR                                             Africa   \n",
       "3    AGO                                             Angola   \n",
       "4    ALB                                            Albania   \n",
       "..   ...                                                ...   \n",
       "299  XZN  Sub-Saharan Africa excluding South Africa and ...   \n",
       "300  YEM                                        Yemen, Rep.   \n",
       "301  ZAF                                       South Africa   \n",
       "302  ZMB                                             Zambia   \n",
       "303  ZWE                                           Zimbabwe   \n",
       "\n",
       "                   region.value incomeLevel.id    incomeLevel.value  \n",
       "0    Latin America & Caribbean             HIC          High income  \n",
       "1                    South Asia            LIC           Low income  \n",
       "2                    Aggregates             NA           Aggregates  \n",
       "3           Sub-Saharan Africa             LMC  Lower middle income  \n",
       "4         Europe & Central Asia            UMC  Upper middle income  \n",
       "..                          ...            ...                  ...  \n",
       "299                  Aggregates             NA           Aggregates  \n",
       "300  Middle East & North Africa            LIC           Low income  \n",
       "301         Sub-Saharan Africa             UMC  Upper middle income  \n",
       "302         Sub-Saharan Africa             LMC  Lower middle income  \n",
       "303         Sub-Saharan Africa             LMC  Lower middle income  \n",
       "\n",
       "[304 rows x 5 columns]"
      ]
     },
     "execution_count": 58,
     "metadata": {},
     "output_type": "execute_result"
    }
   ],
   "source": [
    "# Extract data on Income level (Country categories)\n",
    "\n",
    "income_url = 'http://api.worldbank.org/v2/country/all'\n",
    "my_params_2 = {'format' : 'json',\n",
    "              'per_page' : '304'}\n",
    "\n",
    "r_income = requests.get(income_url, params = my_params_2) # make the data request\n",
    "\n",
    "#remove first value (which contain info on the request)  and transform to json then to dataframe\n",
    "income_raw_df = pd.json_normalize(r_income.json()[-1]) \n",
    "# take only relevant variables\n",
    "income_raw_df = income_raw_df[['id', 'name', 'region.value', 'incomeLevel.id', 'incomeLevel.value']]\n",
    "income_raw_df"
   ]
  },
  {
   "cell_type": "code",
   "execution_count": 59,
   "metadata": {},
   "outputs": [
    {
     "data": {
      "text/html": [
       "<div>\n",
       "<style scoped>\n",
       "    .dataframe tbody tr th:only-of-type {\n",
       "        vertical-align: middle;\n",
       "    }\n",
       "\n",
       "    .dataframe tbody tr th {\n",
       "        vertical-align: top;\n",
       "    }\n",
       "\n",
       "    .dataframe thead th {\n",
       "        text-align: right;\n",
       "    }\n",
       "</style>\n",
       "<table border=\"1\" class=\"dataframe\">\n",
       "  <thead>\n",
       "    <tr style=\"text-align: right;\">\n",
       "      <th></th>\n",
       "      <th>CountryCode</th>\n",
       "      <th>Country_Region</th>\n",
       "      <th>region.value</th>\n",
       "      <th>incomeLevel.id</th>\n",
       "      <th>incomeLevel.value</th>\n",
       "    </tr>\n",
       "  </thead>\n",
       "  <tbody>\n",
       "    <tr>\n",
       "      <th>0</th>\n",
       "      <td>ABW</td>\n",
       "      <td>Aruba</td>\n",
       "      <td>Latin America &amp; Caribbean</td>\n",
       "      <td>HIC</td>\n",
       "      <td>High income</td>\n",
       "    </tr>\n",
       "    <tr>\n",
       "      <th>1</th>\n",
       "      <td>AFG</td>\n",
       "      <td>Afghanistan</td>\n",
       "      <td>South Asia</td>\n",
       "      <td>LIC</td>\n",
       "      <td>Low income</td>\n",
       "    </tr>\n",
       "    <tr>\n",
       "      <th>2</th>\n",
       "      <td>AFR</td>\n",
       "      <td>Africa</td>\n",
       "      <td>Aggregates</td>\n",
       "      <td>NA</td>\n",
       "      <td>Aggregates</td>\n",
       "    </tr>\n",
       "    <tr>\n",
       "      <th>3</th>\n",
       "      <td>AGO</td>\n",
       "      <td>Angola</td>\n",
       "      <td>Sub-Saharan Africa</td>\n",
       "      <td>LMC</td>\n",
       "      <td>Lower middle income</td>\n",
       "    </tr>\n",
       "    <tr>\n",
       "      <th>4</th>\n",
       "      <td>ALB</td>\n",
       "      <td>Albania</td>\n",
       "      <td>Europe &amp; Central Asia</td>\n",
       "      <td>UMC</td>\n",
       "      <td>Upper middle income</td>\n",
       "    </tr>\n",
       "    <tr>\n",
       "      <th>...</th>\n",
       "      <td>...</td>\n",
       "      <td>...</td>\n",
       "      <td>...</td>\n",
       "      <td>...</td>\n",
       "      <td>...</td>\n",
       "    </tr>\n",
       "    <tr>\n",
       "      <th>299</th>\n",
       "      <td>XZN</td>\n",
       "      <td>Sub-Saharan Africa excluding South Africa and ...</td>\n",
       "      <td>Aggregates</td>\n",
       "      <td>NA</td>\n",
       "      <td>Aggregates</td>\n",
       "    </tr>\n",
       "    <tr>\n",
       "      <th>300</th>\n",
       "      <td>YEM</td>\n",
       "      <td>Yemen, Rep.</td>\n",
       "      <td>Middle East &amp; North Africa</td>\n",
       "      <td>LIC</td>\n",
       "      <td>Low income</td>\n",
       "    </tr>\n",
       "    <tr>\n",
       "      <th>301</th>\n",
       "      <td>ZAF</td>\n",
       "      <td>South Africa</td>\n",
       "      <td>Sub-Saharan Africa</td>\n",
       "      <td>UMC</td>\n",
       "      <td>Upper middle income</td>\n",
       "    </tr>\n",
       "    <tr>\n",
       "      <th>302</th>\n",
       "      <td>ZMB</td>\n",
       "      <td>Zambia</td>\n",
       "      <td>Sub-Saharan Africa</td>\n",
       "      <td>LMC</td>\n",
       "      <td>Lower middle income</td>\n",
       "    </tr>\n",
       "    <tr>\n",
       "      <th>303</th>\n",
       "      <td>ZWE</td>\n",
       "      <td>Zimbabwe</td>\n",
       "      <td>Sub-Saharan Africa</td>\n",
       "      <td>LMC</td>\n",
       "      <td>Lower middle income</td>\n",
       "    </tr>\n",
       "  </tbody>\n",
       "</table>\n",
       "<p>304 rows × 5 columns</p>\n",
       "</div>"
      ],
      "text/plain": [
       "    CountryCode                                     Country_Region  \\\n",
       "0           ABW                                              Aruba   \n",
       "1           AFG                                        Afghanistan   \n",
       "2           AFR                                             Africa   \n",
       "3           AGO                                             Angola   \n",
       "4           ALB                                            Albania   \n",
       "..          ...                                                ...   \n",
       "299         XZN  Sub-Saharan Africa excluding South Africa and ...   \n",
       "300         YEM                                        Yemen, Rep.   \n",
       "301         ZAF                                       South Africa   \n",
       "302         ZMB                                             Zambia   \n",
       "303         ZWE                                           Zimbabwe   \n",
       "\n",
       "                   region.value incomeLevel.id    incomeLevel.value  \n",
       "0    Latin America & Caribbean             HIC          High income  \n",
       "1                    South Asia            LIC           Low income  \n",
       "2                    Aggregates             NA           Aggregates  \n",
       "3           Sub-Saharan Africa             LMC  Lower middle income  \n",
       "4         Europe & Central Asia            UMC  Upper middle income  \n",
       "..                          ...            ...                  ...  \n",
       "299                  Aggregates             NA           Aggregates  \n",
       "300  Middle East & North Africa            LIC           Low income  \n",
       "301         Sub-Saharan Africa             UMC  Upper middle income  \n",
       "302         Sub-Saharan Africa             LMC  Lower middle income  \n",
       "303         Sub-Saharan Africa             LMC  Lower middle income  \n",
       "\n",
       "[304 rows x 5 columns]"
      ]
     },
     "execution_count": 59,
     "metadata": {},
     "output_type": "execute_result"
    }
   ],
   "source": [
    "#2 (on income_raw_df)\n",
    "# make consistennt names for all datasets\n",
    "# 1. fixing names in income_raw_df dataset\n",
    "# 2. take only relevant columns\n",
    "\n",
    "income_correct_names = {'id' : 'CountryCode',\n",
    "                        'name' : 'Country_Region'}\n",
    "\n",
    "income_raw_df.rename(columns = income_correct_names, inplace = True)\n",
    "income_raw_df"
   ]
  },
  {
   "cell_type": "code",
   "execution_count": 60,
   "metadata": {},
   "outputs": [
    {
     "data": {
      "text/plain": [
       "(127, 5)"
      ]
     },
     "execution_count": 60,
     "metadata": {},
     "output_type": "execute_result"
    }
   ],
   "source": [
    "income_raw_df[~income_raw_df['CountryCode'].isin(my_complete_df['CountryCode'])].shape #this are the 127 regions or aggregated regions, dependencies from the income level dataset that are not in the Covid df"
   ]
  },
  {
   "cell_type": "code",
   "execution_count": 61,
   "metadata": {},
   "outputs": [
    {
     "data": {
      "text/html": [
       "<div>\n",
       "<style scoped>\n",
       "    .dataframe tbody tr th:only-of-type {\n",
       "        vertical-align: middle;\n",
       "    }\n",
       "\n",
       "    .dataframe tbody tr th {\n",
       "        vertical-align: top;\n",
       "    }\n",
       "\n",
       "    .dataframe thead th {\n",
       "        text-align: right;\n",
       "    }\n",
       "</style>\n",
       "<table border=\"1\" class=\"dataframe\">\n",
       "  <thead>\n",
       "    <tr style=\"text-align: right;\">\n",
       "      <th></th>\n",
       "      <th>CountryCode</th>\n",
       "    </tr>\n",
       "    <tr>\n",
       "      <th>Date</th>\n",
       "      <th></th>\n",
       "    </tr>\n",
       "  </thead>\n",
       "  <tbody>\n",
       "    <tr>\n",
       "      <th>2020-01-22</th>\n",
       "      <td>AIA</td>\n",
       "    </tr>\n",
       "    <tr>\n",
       "      <th>2020-01-22</th>\n",
       "      <td>FLK</td>\n",
       "    </tr>\n",
       "    <tr>\n",
       "      <th>2020-01-22</th>\n",
       "      <td>MSR</td>\n",
       "    </tr>\n",
       "  </tbody>\n",
       "</table>\n",
       "</div>"
      ],
      "text/plain": [
       "           CountryCode\n",
       "Date                  \n",
       "2020-01-22         AIA\n",
       "2020-01-22         FLK\n",
       "2020-01-22         MSR"
      ]
     },
     "execution_count": 61,
     "metadata": {},
     "output_type": "execute_result"
    }
   ],
   "source": [
    "my_complete_df[~my_complete_df['CountryCode'].isin(income_raw_df['CountryCode'])][['CountryCode']].drop_duplicates()#.shape # these 3 dependencies from de covid dataset have no income level information"
   ]
  },
  {
   "cell_type": "markdown",
   "metadata": {},
   "source": [
    "### As before, we select only those countries from the Income level dataset wich are also present in the covid dataset, and exclude all other regions dependencies."
   ]
  },
  {
   "cell_type": "code",
   "execution_count": 62,
   "metadata": {},
   "outputs": [
    {
     "name": "stdout",
     "output_type": "stream",
     "text": [
      "<class 'pandas.core.frame.DataFrame'>\n",
      "Int64Index: 177 entries, 0 to 303\n",
      "Data columns (total 5 columns):\n",
      " #   Column             Non-Null Count  Dtype \n",
      "---  ------             --------------  ----- \n",
      " 0   CountryCode        177 non-null    object\n",
      " 1   Country_Region     177 non-null    object\n",
      " 2   region.value       177 non-null    object\n",
      " 3   incomeLevel.id     177 non-null    object\n",
      " 4   incomeLevel.value  177 non-null    object\n",
      "dtypes: object(5)\n",
      "memory usage: 8.3+ KB\n"
     ]
    }
   ],
   "source": [
    "income_raw_df = income_raw_df[income_raw_df['CountryCode'].isin(my_complete_df['CountryCode'])]\n",
    "income_raw_df.info()"
   ]
  },
  {
   "cell_type": "markdown",
   "metadata": {},
   "source": [
    "## We make the final join of the income level data with the covid dataset"
   ]
  },
  {
   "cell_type": "code",
   "execution_count": 63,
   "metadata": {},
   "outputs": [
    {
     "name": "stdout",
     "output_type": "stream",
     "text": [
      "<class 'pandas.core.frame.DataFrame'>\n",
      "DatetimeIndex: 46800 entries, 2020-01-22 to 2020-10-07\n",
      "Data columns (total 20 columns):\n",
      " #   Column              Non-Null Count  Dtype  \n",
      "---  ------              --------------  -----  \n",
      " 0   CountryCode         46800 non-null  object \n",
      " 1   StringencyIndex     45382 non-null  float64\n",
      " 2   Country_Region      46800 non-null  object \n",
      " 3   Population          46800 non-null  float64\n",
      " 4   Confirmed           46800 non-null  float64\n",
      " 5   Deaths              46800 non-null  float64\n",
      " 6   Recovered           46800 non-null  float64\n",
      " 7   Active              46800 non-null  float64\n",
      " 8   New_cases           46800 non-null  float64\n",
      " 9   New_deaths          46800 non-null  float64\n",
      " 10  New_recovered       46800 non-null  float64\n",
      " 11  Confirmed_100K      46800 non-null  float64\n",
      " 12  Deaths_100K         46800 non-null  float64\n",
      " 13  Recovered_100K      46800 non-null  float64\n",
      " 14  Active_100K         46800 non-null  float64\n",
      " 15  New_cases_100K      46800 non-null  float64\n",
      " 16  New_deaths_100K     46800 non-null  float64\n",
      " 17  New_recovered_100K  46800 non-null  float64\n",
      " 18  GDP_in_USD          40560 non-null  float64\n",
      " 19  incomeLevel.value   46020 non-null  object \n",
      "dtypes: float64(17), object(3)\n",
      "memory usage: 7.5+ MB\n"
     ]
    }
   ],
   "source": [
    "my_final_df = my_complete_df.reset_index().merge(right=income_raw_df[['CountryCode', 'incomeLevel.value']],how='left', on=['CountryCode']).set_index('Date')\n",
    "my_final_df.info()"
   ]
  },
  {
   "cell_type": "markdown",
   "metadata": {},
   "source": [
    "## This is the final clean working dataframe  which contain:\n",
    " - time series of Covid cases of 180 countries or dependencies etc from the world.\n",
    " - standard country code for ease finding of countries\n",
    " - the cumulative sum of confirmed, deatch and recovered cases\n",
    " - the new cases, new death and new recovered in a day-wise format\n",
    " - all varibales before mentioned normalized by 100.000 people per country. This is may be usefull to compare amoung different countries\n",
    " - government response on restraining the spread of the pandemic indicated by the restringency index\n",
    " - two socioeconomical indicators for countries: GDP in USD and Income level\n",
    " "
   ]
  },
  {
   "cell_type": "code",
   "execution_count": 64,
   "metadata": {},
   "outputs": [
    {
     "data": {
      "text/html": [
       "<div>\n",
       "<style scoped>\n",
       "    .dataframe tbody tr th:only-of-type {\n",
       "        vertical-align: middle;\n",
       "    }\n",
       "\n",
       "    .dataframe tbody tr th {\n",
       "        vertical-align: top;\n",
       "    }\n",
       "\n",
       "    .dataframe thead th {\n",
       "        text-align: right;\n",
       "    }\n",
       "</style>\n",
       "<table border=\"1\" class=\"dataframe\">\n",
       "  <thead>\n",
       "    <tr style=\"text-align: right;\">\n",
       "      <th></th>\n",
       "      <th>CountryCode</th>\n",
       "      <th>StringencyIndex</th>\n",
       "      <th>Country_Region</th>\n",
       "      <th>Population</th>\n",
       "      <th>Confirmed</th>\n",
       "      <th>Deaths</th>\n",
       "      <th>Recovered</th>\n",
       "      <th>Active</th>\n",
       "      <th>New_cases</th>\n",
       "      <th>New_deaths</th>\n",
       "      <th>New_recovered</th>\n",
       "      <th>Confirmed_100K</th>\n",
       "      <th>Deaths_100K</th>\n",
       "      <th>Recovered_100K</th>\n",
       "      <th>Active_100K</th>\n",
       "      <th>New_cases_100K</th>\n",
       "      <th>New_deaths_100K</th>\n",
       "      <th>New_recovered_100K</th>\n",
       "      <th>GDP_in_USD</th>\n",
       "      <th>incomeLevel.value</th>\n",
       "    </tr>\n",
       "    <tr>\n",
       "      <th>Date</th>\n",
       "      <th></th>\n",
       "      <th></th>\n",
       "      <th></th>\n",
       "      <th></th>\n",
       "      <th></th>\n",
       "      <th></th>\n",
       "      <th></th>\n",
       "      <th></th>\n",
       "      <th></th>\n",
       "      <th></th>\n",
       "      <th></th>\n",
       "      <th></th>\n",
       "      <th></th>\n",
       "      <th></th>\n",
       "      <th></th>\n",
       "      <th></th>\n",
       "      <th></th>\n",
       "      <th></th>\n",
       "      <th></th>\n",
       "      <th></th>\n",
       "    </tr>\n",
       "  </thead>\n",
       "  <tbody>\n",
       "    <tr>\n",
       "      <th>2020-01-22</th>\n",
       "      <td>ABW</td>\n",
       "      <td>0.0</td>\n",
       "      <td>Netherlands</td>\n",
       "      <td>106766.0</td>\n",
       "      <td>0.0</td>\n",
       "      <td>0.0</td>\n",
       "      <td>0.0</td>\n",
       "      <td>0.0</td>\n",
       "      <td>0.0</td>\n",
       "      <td>0.0</td>\n",
       "      <td>0.0</td>\n",
       "      <td>0.000000</td>\n",
       "      <td>0.000000</td>\n",
       "      <td>0.000000</td>\n",
       "      <td>0.000000</td>\n",
       "      <td>0.000000</td>\n",
       "      <td>0.000000</td>\n",
       "      <td>0.000000</td>\n",
       "      <td>NaN</td>\n",
       "      <td>High income</td>\n",
       "    </tr>\n",
       "    <tr>\n",
       "      <th>2020-01-23</th>\n",
       "      <td>ABW</td>\n",
       "      <td>0.0</td>\n",
       "      <td>Netherlands</td>\n",
       "      <td>106766.0</td>\n",
       "      <td>0.0</td>\n",
       "      <td>0.0</td>\n",
       "      <td>0.0</td>\n",
       "      <td>0.0</td>\n",
       "      <td>0.0</td>\n",
       "      <td>0.0</td>\n",
       "      <td>0.0</td>\n",
       "      <td>0.000000</td>\n",
       "      <td>0.000000</td>\n",
       "      <td>0.000000</td>\n",
       "      <td>0.000000</td>\n",
       "      <td>0.000000</td>\n",
       "      <td>0.000000</td>\n",
       "      <td>0.000000</td>\n",
       "      <td>NaN</td>\n",
       "      <td>High income</td>\n",
       "    </tr>\n",
       "    <tr>\n",
       "      <th>2020-01-24</th>\n",
       "      <td>ABW</td>\n",
       "      <td>0.0</td>\n",
       "      <td>Netherlands</td>\n",
       "      <td>106766.0</td>\n",
       "      <td>0.0</td>\n",
       "      <td>0.0</td>\n",
       "      <td>0.0</td>\n",
       "      <td>0.0</td>\n",
       "      <td>0.0</td>\n",
       "      <td>0.0</td>\n",
       "      <td>0.0</td>\n",
       "      <td>0.000000</td>\n",
       "      <td>0.000000</td>\n",
       "      <td>0.000000</td>\n",
       "      <td>0.000000</td>\n",
       "      <td>0.000000</td>\n",
       "      <td>0.000000</td>\n",
       "      <td>0.000000</td>\n",
       "      <td>NaN</td>\n",
       "      <td>High income</td>\n",
       "    </tr>\n",
       "    <tr>\n",
       "      <th>2020-01-25</th>\n",
       "      <td>ABW</td>\n",
       "      <td>0.0</td>\n",
       "      <td>Netherlands</td>\n",
       "      <td>106766.0</td>\n",
       "      <td>0.0</td>\n",
       "      <td>0.0</td>\n",
       "      <td>0.0</td>\n",
       "      <td>0.0</td>\n",
       "      <td>0.0</td>\n",
       "      <td>0.0</td>\n",
       "      <td>0.0</td>\n",
       "      <td>0.000000</td>\n",
       "      <td>0.000000</td>\n",
       "      <td>0.000000</td>\n",
       "      <td>0.000000</td>\n",
       "      <td>0.000000</td>\n",
       "      <td>0.000000</td>\n",
       "      <td>0.000000</td>\n",
       "      <td>NaN</td>\n",
       "      <td>High income</td>\n",
       "    </tr>\n",
       "    <tr>\n",
       "      <th>2020-01-26</th>\n",
       "      <td>ABW</td>\n",
       "      <td>0.0</td>\n",
       "      <td>Netherlands</td>\n",
       "      <td>106766.0</td>\n",
       "      <td>0.0</td>\n",
       "      <td>0.0</td>\n",
       "      <td>0.0</td>\n",
       "      <td>0.0</td>\n",
       "      <td>0.0</td>\n",
       "      <td>0.0</td>\n",
       "      <td>0.0</td>\n",
       "      <td>0.000000</td>\n",
       "      <td>0.000000</td>\n",
       "      <td>0.000000</td>\n",
       "      <td>0.000000</td>\n",
       "      <td>0.000000</td>\n",
       "      <td>0.000000</td>\n",
       "      <td>0.000000</td>\n",
       "      <td>NaN</td>\n",
       "      <td>High income</td>\n",
       "    </tr>\n",
       "    <tr>\n",
       "      <th>...</th>\n",
       "      <td>...</td>\n",
       "      <td>...</td>\n",
       "      <td>...</td>\n",
       "      <td>...</td>\n",
       "      <td>...</td>\n",
       "      <td>...</td>\n",
       "      <td>...</td>\n",
       "      <td>...</td>\n",
       "      <td>...</td>\n",
       "      <td>...</td>\n",
       "      <td>...</td>\n",
       "      <td>...</td>\n",
       "      <td>...</td>\n",
       "      <td>...</td>\n",
       "      <td>...</td>\n",
       "      <td>...</td>\n",
       "      <td>...</td>\n",
       "      <td>...</td>\n",
       "      <td>...</td>\n",
       "      <td>...</td>\n",
       "    </tr>\n",
       "    <tr>\n",
       "      <th>2020-10-03</th>\n",
       "      <td>ZWE</td>\n",
       "      <td>NaN</td>\n",
       "      <td>Zimbabwe</td>\n",
       "      <td>14862927.0</td>\n",
       "      <td>7885.0</td>\n",
       "      <td>228.0</td>\n",
       "      <td>6327.0</td>\n",
       "      <td>1330.0</td>\n",
       "      <td>27.0</td>\n",
       "      <td>0.0</td>\n",
       "      <td>5.0</td>\n",
       "      <td>53.051462</td>\n",
       "      <td>1.534018</td>\n",
       "      <td>42.569004</td>\n",
       "      <td>8.948439</td>\n",
       "      <td>0.181660</td>\n",
       "      <td>0.000000</td>\n",
       "      <td>0.033641</td>\n",
       "      <td>2.144076e+10</td>\n",
       "      <td>Lower middle income</td>\n",
       "    </tr>\n",
       "    <tr>\n",
       "      <th>2020-10-04</th>\n",
       "      <td>ZWE</td>\n",
       "      <td>NaN</td>\n",
       "      <td>Zimbabwe</td>\n",
       "      <td>14862927.0</td>\n",
       "      <td>7888.0</td>\n",
       "      <td>228.0</td>\n",
       "      <td>6359.0</td>\n",
       "      <td>1301.0</td>\n",
       "      <td>3.0</td>\n",
       "      <td>0.0</td>\n",
       "      <td>32.0</td>\n",
       "      <td>53.071646</td>\n",
       "      <td>1.534018</td>\n",
       "      <td>42.784305</td>\n",
       "      <td>8.753323</td>\n",
       "      <td>0.020184</td>\n",
       "      <td>0.000000</td>\n",
       "      <td>0.215301</td>\n",
       "      <td>2.144076e+10</td>\n",
       "      <td>Lower middle income</td>\n",
       "    </tr>\n",
       "    <tr>\n",
       "      <th>2020-10-05</th>\n",
       "      <td>ZWE</td>\n",
       "      <td>NaN</td>\n",
       "      <td>Zimbabwe</td>\n",
       "      <td>14862927.0</td>\n",
       "      <td>7898.0</td>\n",
       "      <td>228.0</td>\n",
       "      <td>6424.0</td>\n",
       "      <td>1246.0</td>\n",
       "      <td>10.0</td>\n",
       "      <td>0.0</td>\n",
       "      <td>65.0</td>\n",
       "      <td>53.138927</td>\n",
       "      <td>1.534018</td>\n",
       "      <td>43.221635</td>\n",
       "      <td>8.383275</td>\n",
       "      <td>0.067281</td>\n",
       "      <td>0.000000</td>\n",
       "      <td>0.437330</td>\n",
       "      <td>2.144076e+10</td>\n",
       "      <td>Lower middle income</td>\n",
       "    </tr>\n",
       "    <tr>\n",
       "      <th>2020-10-06</th>\n",
       "      <td>ZWE</td>\n",
       "      <td>NaN</td>\n",
       "      <td>Zimbabwe</td>\n",
       "      <td>14862927.0</td>\n",
       "      <td>7915.0</td>\n",
       "      <td>229.0</td>\n",
       "      <td>6440.0</td>\n",
       "      <td>1246.0</td>\n",
       "      <td>17.0</td>\n",
       "      <td>1.0</td>\n",
       "      <td>16.0</td>\n",
       "      <td>53.253306</td>\n",
       "      <td>1.540746</td>\n",
       "      <td>43.329285</td>\n",
       "      <td>8.383275</td>\n",
       "      <td>0.114379</td>\n",
       "      <td>0.006728</td>\n",
       "      <td>0.107650</td>\n",
       "      <td>2.144076e+10</td>\n",
       "      <td>Lower middle income</td>\n",
       "    </tr>\n",
       "    <tr>\n",
       "      <th>2020-10-07</th>\n",
       "      <td>ZWE</td>\n",
       "      <td>NaN</td>\n",
       "      <td>Zimbabwe</td>\n",
       "      <td>14862927.0</td>\n",
       "      <td>7919.0</td>\n",
       "      <td>229.0</td>\n",
       "      <td>6441.0</td>\n",
       "      <td>1249.0</td>\n",
       "      <td>4.0</td>\n",
       "      <td>0.0</td>\n",
       "      <td>1.0</td>\n",
       "      <td>53.280219</td>\n",
       "      <td>1.540746</td>\n",
       "      <td>43.336013</td>\n",
       "      <td>8.403459</td>\n",
       "      <td>0.026913</td>\n",
       "      <td>0.000000</td>\n",
       "      <td>0.006728</td>\n",
       "      <td>2.144076e+10</td>\n",
       "      <td>Lower middle income</td>\n",
       "    </tr>\n",
       "  </tbody>\n",
       "</table>\n",
       "<p>46800 rows × 20 columns</p>\n",
       "</div>"
      ],
      "text/plain": [
       "           CountryCode  StringencyIndex Country_Region  Population  Confirmed  \\\n",
       "Date                                                                            \n",
       "2020-01-22         ABW              0.0    Netherlands    106766.0        0.0   \n",
       "2020-01-23         ABW              0.0    Netherlands    106766.0        0.0   \n",
       "2020-01-24         ABW              0.0    Netherlands    106766.0        0.0   \n",
       "2020-01-25         ABW              0.0    Netherlands    106766.0        0.0   \n",
       "2020-01-26         ABW              0.0    Netherlands    106766.0        0.0   \n",
       "...                ...              ...            ...         ...        ...   \n",
       "2020-10-03         ZWE              NaN       Zimbabwe  14862927.0     7885.0   \n",
       "2020-10-04         ZWE              NaN       Zimbabwe  14862927.0     7888.0   \n",
       "2020-10-05         ZWE              NaN       Zimbabwe  14862927.0     7898.0   \n",
       "2020-10-06         ZWE              NaN       Zimbabwe  14862927.0     7915.0   \n",
       "2020-10-07         ZWE              NaN       Zimbabwe  14862927.0     7919.0   \n",
       "\n",
       "            Deaths  Recovered  Active  New_cases  New_deaths  New_recovered  \\\n",
       "Date                                                                          \n",
       "2020-01-22     0.0        0.0     0.0        0.0         0.0            0.0   \n",
       "2020-01-23     0.0        0.0     0.0        0.0         0.0            0.0   \n",
       "2020-01-24     0.0        0.0     0.0        0.0         0.0            0.0   \n",
       "2020-01-25     0.0        0.0     0.0        0.0         0.0            0.0   \n",
       "2020-01-26     0.0        0.0     0.0        0.0         0.0            0.0   \n",
       "...            ...        ...     ...        ...         ...            ...   \n",
       "2020-10-03   228.0     6327.0  1330.0       27.0         0.0            5.0   \n",
       "2020-10-04   228.0     6359.0  1301.0        3.0         0.0           32.0   \n",
       "2020-10-05   228.0     6424.0  1246.0       10.0         0.0           65.0   \n",
       "2020-10-06   229.0     6440.0  1246.0       17.0         1.0           16.0   \n",
       "2020-10-07   229.0     6441.0  1249.0        4.0         0.0            1.0   \n",
       "\n",
       "            Confirmed_100K  Deaths_100K  Recovered_100K  Active_100K  \\\n",
       "Date                                                                   \n",
       "2020-01-22        0.000000     0.000000        0.000000     0.000000   \n",
       "2020-01-23        0.000000     0.000000        0.000000     0.000000   \n",
       "2020-01-24        0.000000     0.000000        0.000000     0.000000   \n",
       "2020-01-25        0.000000     0.000000        0.000000     0.000000   \n",
       "2020-01-26        0.000000     0.000000        0.000000     0.000000   \n",
       "...                    ...          ...             ...          ...   \n",
       "2020-10-03       53.051462     1.534018       42.569004     8.948439   \n",
       "2020-10-04       53.071646     1.534018       42.784305     8.753323   \n",
       "2020-10-05       53.138927     1.534018       43.221635     8.383275   \n",
       "2020-10-06       53.253306     1.540746       43.329285     8.383275   \n",
       "2020-10-07       53.280219     1.540746       43.336013     8.403459   \n",
       "\n",
       "            New_cases_100K  New_deaths_100K  New_recovered_100K    GDP_in_USD  \\\n",
       "Date                                                                            \n",
       "2020-01-22        0.000000         0.000000            0.000000           NaN   \n",
       "2020-01-23        0.000000         0.000000            0.000000           NaN   \n",
       "2020-01-24        0.000000         0.000000            0.000000           NaN   \n",
       "2020-01-25        0.000000         0.000000            0.000000           NaN   \n",
       "2020-01-26        0.000000         0.000000            0.000000           NaN   \n",
       "...                    ...              ...                 ...           ...   \n",
       "2020-10-03        0.181660         0.000000            0.033641  2.144076e+10   \n",
       "2020-10-04        0.020184         0.000000            0.215301  2.144076e+10   \n",
       "2020-10-05        0.067281         0.000000            0.437330  2.144076e+10   \n",
       "2020-10-06        0.114379         0.006728            0.107650  2.144076e+10   \n",
       "2020-10-07        0.026913         0.000000            0.006728  2.144076e+10   \n",
       "\n",
       "              incomeLevel.value  \n",
       "Date                             \n",
       "2020-01-22          High income  \n",
       "2020-01-23          High income  \n",
       "2020-01-24          High income  \n",
       "2020-01-25          High income  \n",
       "2020-01-26          High income  \n",
       "...                         ...  \n",
       "2020-10-03  Lower middle income  \n",
       "2020-10-04  Lower middle income  \n",
       "2020-10-05  Lower middle income  \n",
       "2020-10-06  Lower middle income  \n",
       "2020-10-07  Lower middle income  \n",
       "\n",
       "[46800 rows x 20 columns]"
      ]
     },
     "execution_count": 64,
     "metadata": {},
     "output_type": "execute_result"
    }
   ],
   "source": [
    "my_final_df"
   ]
  },
  {
   "cell_type": "code",
   "execution_count": null,
   "metadata": {},
   "outputs": [],
   "source": []
  },
  {
   "cell_type": "code",
   "execution_count": null,
   "metadata": {},
   "outputs": [],
   "source": []
  },
  {
   "cell_type": "markdown",
   "metadata": {
    "id": "xukyw79xp5Qn"
   },
   "source": [
    "# Part II \n",
    "# M2 project on descriptive statistics\n",
    "\n",
    "## 1.  Descriptive Statistics\n"
   ]
  }
 ],
 "metadata": {
  "colab": {
   "collapsed_sections": [],
   "name": "M1-M2_cas_data_science.ipynb",
   "provenance": [],
   "toc_visible": true
  },
  "kernelspec": {
   "display_name": "Python 3",
   "language": "python",
   "name": "python3"
  },
  "language_info": {
   "codemirror_mode": {
    "name": "ipython",
    "version": 3
   },
   "file_extension": ".py",
   "mimetype": "text/x-python",
   "name": "python",
   "nbconvert_exporter": "python",
   "pygments_lexer": "ipython3",
   "version": "3.7.6"
  }
 },
 "nbformat": 4,
 "nbformat_minor": 4
}
