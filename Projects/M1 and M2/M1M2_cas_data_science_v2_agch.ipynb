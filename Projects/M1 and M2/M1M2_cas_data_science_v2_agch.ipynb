{
 "cells": [
  {
   "cell_type": "markdown",
   "metadata": {
    "id": "_Rb9bicvVqke"
   },
   "source": [
    "## Run me on colab \n",
    "[![Open In Colab](https://colab.research.google.com/assets/colab-badge.svg)](https://colab.research.google.com/github/rjlopez2/ADS_CAS_Bern_2020/blob/main/Projects/M1%20and%20M2/.ipynb_checkpoints/M1M2_cas_data_science_v2_agch-checkpoint.ipynb)\n"
   ]
  },
  {
   "cell_type": "markdown",
   "metadata": {
    "id": "ZNcjDy0ip5Qd"
   },
   "source": [
    "### **Import libraries**"
   ]
  },
  {
   "cell_type": "code",
   "execution_count": 1,
   "metadata": {
    "colab": {
     "base_uri": "https://localhost:8080/",
     "height": 190
    },
    "id": "-5JnbT3Vp5Qf",
    "outputId": "0fec9e91-8337-4dc9-f4c6-3a19657e4f66"
   },
   "outputs": [],
   "source": [
    "import pandas as pd\n",
    "#!pip install wget # uncomment this igf you run it via colab\n",
    "import os\n",
    "from zipfile import ZipFile\n",
    "import numpy as np\n",
    "import wget\n",
    "import fnmatch\n",
    "import requests\n",
    "import matplotlib.pyplot as plt\n",
    "pd.set_option('display.max_rows', 200)"
   ]
  },
  {
   "cell_type": "markdown",
   "metadata": {
    "id": "xukyw79xp5Qn"
   },
   "source": [
    "# Part I \n",
    "# M1 project \n",
    "\n",
    "## On data aquisition, formating and cleaning\n",
    "\n",
    "# 1. John Hopkins data collection and cleaning\n",
    "### **Download the time series datasets on global Covid cases from the John Hpkins University**\n",
    "The time series are organized in 3 different files from their Github repository:\n",
    "\n",
    " - one file retrieve information on the confirmed cases\n",
    " - one file retrieve information on the death cases\n",
    " - one file retrieve information on the recovered cases\n",
    "\n",
    "Below we download the 3 datastes and store them locally in .csv format."
   ]
  },
  {
   "cell_type": "code",
   "execution_count": 2,
   "metadata": {
    "id": "LgTaKV73p5Qs"
   },
   "outputs": [],
   "source": [
    "urls = ['https://raw.githubusercontent.com/CSSEGISandData/COVID-19/master/csse_covid_19_data/csse_covid_19_time_series/time_series_covid19_confirmed_global.csv',\n",
    "       'https://raw.githubusercontent.com/CSSEGISandData/COVID-19/master/csse_covid_19_data/csse_covid_19_time_series/time_series_covid19_deaths_global.csv',\n",
    "       'https://raw.githubusercontent.com/CSSEGISandData/COVID-19/master/csse_covid_19_data/csse_covid_19_time_series/time_series_covid19_recovered_global.csv']\n",
    "\n",
    "path = os.getcwd() # get the current directory\n",
    "\n",
    "for url in urls:\n",
    "    filename = path + '/' + os.path.basename(url) # get the full path of the file\n",
    "    if os.path.exists(filename):\n",
    "        os.remove(filename) # if exist, remove it directly\n",
    "    wget.download(url, out=filename) # download it to the specific path.\n",
    "    \n",
    "# IMPORTANT: if error loading files bacause link is down, don't run this code chunk and go to the next.\n",
    "# It will read only the local data in the repo from the last time this script was run and updated"
   ]
  },
  {
   "cell_type": "code",
   "execution_count": 3,
   "metadata": {
    "id": "Cgp4WyBrp5Qy"
   },
   "outputs": [],
   "source": [
    "confirmed_df = pd.read_csv('time_series_covid19_confirmed_global.csv')\n",
    "deaths_df = pd.read_csv('time_series_covid19_deaths_global.csv')\n",
    "recovered_df = pd.read_csv('time_series_covid19_recovered_global.csv')"
   ]
  },
  {
   "cell_type": "markdown",
   "metadata": {
    "id": "ijRSVaN39LGj"
   },
   "source": [
    "### **We explore below the structure of the 3 datasets**"
   ]
  },
  {
   "cell_type": "markdown",
   "metadata": {
    "id": "U8XajHkl9LGn"
   },
   "source": [
    "By looking at the shape of the 3 df, we observe that the recovered_df has different dimention than the two others.\n",
    "Closer inspection revealed that 14 provinces from Canada were missed in the recovered_df."
   ]
  },
  {
   "cell_type": "code",
   "execution_count": 4,
   "metadata": {
    "colab": {
     "base_uri": "https://localhost:8080/",
     "height": 34
    },
    "id": "34Lmqyj-p5Q3",
    "outputId": "2f614df6-e89e-4e52-9880-3daacf31815d"
   },
   "outputs": [
    {
     "name": "stdout",
     "output_type": "stream",
     "text": [
      "[(267, 271), (267, 271), (254, 271)]\n"
     ]
    }
   ],
   "source": [
    "# check size of the 3 datasets\n",
    "print([confirmed_df.shape, deaths_df.shape, recovered_df.shape])\n"
   ]
  },
  {
   "cell_type": "code",
   "execution_count": 5,
   "metadata": {
    "colab": {
     "base_uri": "https://localhost:8080/",
     "height": 483
    },
    "id": "oiH9wwle9LHB",
    "outputId": "c1aa6474-e3ef-42f0-ecc4-63c9142a34d2"
   },
   "outputs": [
    {
     "data": {
      "text/html": [
       "<div>\n",
       "<style scoped>\n",
       "    .dataframe tbody tr th:only-of-type {\n",
       "        vertical-align: middle;\n",
       "    }\n",
       "\n",
       "    .dataframe tbody tr th {\n",
       "        vertical-align: top;\n",
       "    }\n",
       "\n",
       "    .dataframe thead th {\n",
       "        text-align: right;\n",
       "    }\n",
       "</style>\n",
       "<table border=\"1\" class=\"dataframe\">\n",
       "  <thead>\n",
       "    <tr style=\"text-align: right;\">\n",
       "      <th></th>\n",
       "      <th>Province/State</th>\n",
       "      <th>Country/Region</th>\n",
       "    </tr>\n",
       "  </thead>\n",
       "  <tbody>\n",
       "    <tr>\n",
       "      <th>39</th>\n",
       "      <td>Alberta</td>\n",
       "      <td>Canada</td>\n",
       "    </tr>\n",
       "    <tr>\n",
       "      <th>40</th>\n",
       "      <td>British Columbia</td>\n",
       "      <td>Canada</td>\n",
       "    </tr>\n",
       "    <tr>\n",
       "      <th>41</th>\n",
       "      <td>Diamond Princess</td>\n",
       "      <td>Canada</td>\n",
       "    </tr>\n",
       "    <tr>\n",
       "      <th>42</th>\n",
       "      <td>Grand Princess</td>\n",
       "      <td>Canada</td>\n",
       "    </tr>\n",
       "    <tr>\n",
       "      <th>43</th>\n",
       "      <td>Manitoba</td>\n",
       "      <td>Canada</td>\n",
       "    </tr>\n",
       "    <tr>\n",
       "      <th>44</th>\n",
       "      <td>New Brunswick</td>\n",
       "      <td>Canada</td>\n",
       "    </tr>\n",
       "    <tr>\n",
       "      <th>45</th>\n",
       "      <td>Newfoundland and Labrador</td>\n",
       "      <td>Canada</td>\n",
       "    </tr>\n",
       "    <tr>\n",
       "      <th>46</th>\n",
       "      <td>Northwest Territories</td>\n",
       "      <td>Canada</td>\n",
       "    </tr>\n",
       "    <tr>\n",
       "      <th>47</th>\n",
       "      <td>Nova Scotia</td>\n",
       "      <td>Canada</td>\n",
       "    </tr>\n",
       "    <tr>\n",
       "      <th>48</th>\n",
       "      <td>Ontario</td>\n",
       "      <td>Canada</td>\n",
       "    </tr>\n",
       "    <tr>\n",
       "      <th>49</th>\n",
       "      <td>Prince Edward Island</td>\n",
       "      <td>Canada</td>\n",
       "    </tr>\n",
       "    <tr>\n",
       "      <th>50</th>\n",
       "      <td>Quebec</td>\n",
       "      <td>Canada</td>\n",
       "    </tr>\n",
       "    <tr>\n",
       "      <th>51</th>\n",
       "      <td>Saskatchewan</td>\n",
       "      <td>Canada</td>\n",
       "    </tr>\n",
       "    <tr>\n",
       "      <th>52</th>\n",
       "      <td>Yukon</td>\n",
       "      <td>Canada</td>\n",
       "    </tr>\n",
       "  </tbody>\n",
       "</table>\n",
       "</div>"
      ],
      "text/plain": [
       "               Province/State Country/Region\n",
       "39                    Alberta         Canada\n",
       "40           British Columbia         Canada\n",
       "41           Diamond Princess         Canada\n",
       "42             Grand Princess         Canada\n",
       "43                   Manitoba         Canada\n",
       "44              New Brunswick         Canada\n",
       "45  Newfoundland and Labrador         Canada\n",
       "46      Northwest Territories         Canada\n",
       "47                Nova Scotia         Canada\n",
       "48                    Ontario         Canada\n",
       "49       Prince Edward Island         Canada\n",
       "50                     Quebec         Canada\n",
       "51               Saskatchewan         Canada\n",
       "52                      Yukon         Canada"
      ]
     },
     "execution_count": 5,
     "metadata": {},
     "output_type": "execute_result"
    }
   ],
   "source": [
    "confirmed_df[~confirmed_df['Province/State'].isin(recovered_df['Province/State'])][['Province/State', 'Country/Region']] # !!! 14 'Province/State'  no found in the recovered_df"
   ]
  },
  {
   "cell_type": "markdown",
   "metadata": {
    "id": "CkgwTgf-9LHO"
   },
   "source": [
    "Because of this inconsistency, we decided to exclude data from Canada for now."
   ]
  },
  {
   "cell_type": "code",
   "execution_count": 6,
   "metadata": {
    "id": "HrN7gZkE9LHP"
   },
   "outputs": [],
   "source": [
    "recovered_df = recovered_df[recovered_df['Country/Region']!='Canada']\n",
    "confirmed_df = confirmed_df[confirmed_df['Country/Region']!='Canada']\n",
    "deaths_df = deaths_df[deaths_df['Country/Region']!='Canada']"
   ]
  },
  {
   "cell_type": "code",
   "execution_count": 7,
   "metadata": {
    "colab": {
     "base_uri": "https://localhost:8080/",
     "height": 34
    },
    "id": "o8tLnEDv9LHb",
    "outputId": "6a2945c9-59bb-472c-b800-d79f5310fdc0"
   },
   "outputs": [
    {
     "name": "stdout",
     "output_type": "stream",
     "text": [
      "[(253, 271), (253, 271), (253, 271)]\n"
     ]
    }
   ],
   "source": [
    "# check size of the 3 datasets\n",
    "print([confirmed_df.shape, deaths_df.shape, recovered_df.shape])\n"
   ]
  },
  {
   "cell_type": "markdown",
   "metadata": {
    "id": "wWy3EPy0p5RL"
   },
   "source": [
    "We observed that the first 4 colums of each dataset have the same variables so we use them to merge all 3 datasets and we define the time variable with the rest of the colums\n",
    "\n",
    "1. We create the vector for the time varibale\n",
    "2. we transform the 3 dataframes to long format. "
   ]
  },
  {
   "cell_type": "code",
   "execution_count": 8,
   "metadata": {
    "colab": {
     "base_uri": "https://localhost:8080/",
     "height": 119
    },
    "id": "bhw2Bggyp5Q8",
    "outputId": "9eb313cc-a60b-4248-da75-ce7a214eea47"
   },
   "outputs": [
    {
     "data": {
      "text/plain": [
       "Index(['Province/State', 'Country/Region', 'Lat', 'Long', '1/22/20', '1/23/20',\n",
       "       '1/24/20', '1/25/20', '1/26/20', '1/27/20',\n",
       "       ...\n",
       "       '10/5/20', '10/6/20', '10/7/20', '10/8/20', '10/9/20', '10/10/20',\n",
       "       '10/11/20', '10/12/20', '10/13/20', '10/14/20'],\n",
       "      dtype='object', length=271)"
      ]
     },
     "execution_count": 8,
     "metadata": {},
     "output_type": "execute_result"
    }
   ],
   "source": [
    "recovered_df.columns"
   ]
  },
  {
   "cell_type": "code",
   "execution_count": 9,
   "metadata": {
    "colab": {
     "base_uri": "https://localhost:8080/",
     "height": 119
    },
    "id": "AQeP3ml9p5RB",
    "outputId": "c7a8bf1f-092f-4140-8fb2-04f9550a8f78"
   },
   "outputs": [
    {
     "data": {
      "text/plain": [
       "Index(['Province/State', 'Country/Region', 'Lat', 'Long', '1/22/20', '1/23/20',\n",
       "       '1/24/20', '1/25/20', '1/26/20', '1/27/20',\n",
       "       ...\n",
       "       '10/5/20', '10/6/20', '10/7/20', '10/8/20', '10/9/20', '10/10/20',\n",
       "       '10/11/20', '10/12/20', '10/13/20', '10/14/20'],\n",
       "      dtype='object', length=271)"
      ]
     },
     "execution_count": 9,
     "metadata": {},
     "output_type": "execute_result"
    }
   ],
   "source": [
    "deaths_df.columns"
   ]
  },
  {
   "cell_type": "code",
   "execution_count": 10,
   "metadata": {
    "colab": {
     "base_uri": "https://localhost:8080/",
     "height": 119
    },
    "id": "siq1uGeip5RF",
    "outputId": "74c91d03-0e06-4ca4-bf11-acf3cfc84941"
   },
   "outputs": [
    {
     "data": {
      "text/plain": [
       "Index(['Province/State', 'Country/Region', 'Lat', 'Long', '1/22/20', '1/23/20',\n",
       "       '1/24/20', '1/25/20', '1/26/20', '1/27/20',\n",
       "       ...\n",
       "       '10/5/20', '10/6/20', '10/7/20', '10/8/20', '10/9/20', '10/10/20',\n",
       "       '10/11/20', '10/12/20', '10/13/20', '10/14/20'],\n",
       "      dtype='object', length=271)"
      ]
     },
     "execution_count": 10,
     "metadata": {},
     "output_type": "execute_result"
    }
   ],
   "source": [
    "confirmed_df.columns"
   ]
  },
  {
   "cell_type": "code",
   "execution_count": 11,
   "metadata": {
    "id": "iDjFoRGip5RM"
   },
   "outputs": [],
   "source": [
    "dates = confirmed_df.columns[4:]\n",
    "\n",
    "confirmed_df_long = confirmed_df.melt(\n",
    "    id_vars=['Province/State', 'Country/Region', 'Lat', 'Long'], \n",
    "    value_vars=dates, \n",
    "    var_name='Date', \n",
    "    value_name='Confirmed')\n",
    "\n",
    "deaths_df_long = deaths_df.melt(\n",
    "    id_vars=['Province/State', 'Country/Region', 'Lat', 'Long'], \n",
    "    value_vars=dates, \n",
    "    var_name='Date', \n",
    "    value_name='Deaths')\n",
    "\n",
    "recovered_df_long = recovered_df.melt(\n",
    "    id_vars=['Province/State', 'Country/Region', 'Lat', 'Long'], \n",
    "    value_vars=dates, \n",
    "    var_name='Date', \n",
    "    value_name='Recovered')"
   ]
  },
  {
   "cell_type": "code",
   "execution_count": 12,
   "metadata": {
    "colab": {
     "base_uri": "https://localhost:8080/",
     "height": 34
    },
    "id": "la__bkXMVqmr",
    "outputId": "32669769-fea2-40f1-f854-4a5bbef3177f"
   },
   "outputs": [
    {
     "name": "stdout",
     "output_type": "stream",
     "text": [
      "[(67551, 6), (67551, 6), (67551, 6)]\n"
     ]
    }
   ],
   "source": [
    "# check the size of each dataset in long format\n",
    "print([confirmed_df_long.shape, deaths_df_long.shape, recovered_df_long.shape])"
   ]
  },
  {
   "cell_type": "code",
   "execution_count": 13,
   "metadata": {
    "colab": {
     "base_uri": "https://localhost:8080/",
     "height": 34
    },
    "id": "Qo2YWwNFVqmz",
    "outputId": "9d1d1170-eaff-4b97-9f45-d8da94522ed1"
   },
   "outputs": [
    {
     "name": "stdout",
     "output_type": "stream",
     "text": [
      "(188,) (188,) (188,)\n"
     ]
    }
   ],
   "source": [
    "# check if the number of countries are the same in each subset\n",
    "print(confirmed_df_long['Country/Region'].drop_duplicates().shape, \n",
    "      deaths_df_long['Country/Region'].drop_duplicates().shape, \n",
    "      recovered_df_long['Country/Region'].drop_duplicates().shape)\n",
    "      "
   ]
  },
  {
   "cell_type": "code",
   "execution_count": 14,
   "metadata": {},
   "outputs": [
    {
     "data": {
      "text/html": [
       "<div>\n",
       "<style scoped>\n",
       "    .dataframe tbody tr th:only-of-type {\n",
       "        vertical-align: middle;\n",
       "    }\n",
       "\n",
       "    .dataframe tbody tr th {\n",
       "        vertical-align: top;\n",
       "    }\n",
       "\n",
       "    .dataframe thead th {\n",
       "        text-align: right;\n",
       "    }\n",
       "</style>\n",
       "<table border=\"1\" class=\"dataframe\">\n",
       "  <thead>\n",
       "    <tr style=\"text-align: right;\">\n",
       "      <th></th>\n",
       "      <th>Province/State</th>\n",
       "      <th>Country/Region</th>\n",
       "      <th>Lat</th>\n",
       "      <th>Long</th>\n",
       "      <th>Date</th>\n",
       "      <th>Confirmed</th>\n",
       "    </tr>\n",
       "  </thead>\n",
       "  <tbody>\n",
       "    <tr>\n",
       "      <th>0</th>\n",
       "      <td>NaN</td>\n",
       "      <td>Afghanistan</td>\n",
       "      <td>33.939110</td>\n",
       "      <td>67.709953</td>\n",
       "      <td>1/22/20</td>\n",
       "      <td>0</td>\n",
       "    </tr>\n",
       "    <tr>\n",
       "      <th>1</th>\n",
       "      <td>NaN</td>\n",
       "      <td>Albania</td>\n",
       "      <td>41.153300</td>\n",
       "      <td>20.168300</td>\n",
       "      <td>1/22/20</td>\n",
       "      <td>0</td>\n",
       "    </tr>\n",
       "    <tr>\n",
       "      <th>2</th>\n",
       "      <td>NaN</td>\n",
       "      <td>Algeria</td>\n",
       "      <td>28.033900</td>\n",
       "      <td>1.659600</td>\n",
       "      <td>1/22/20</td>\n",
       "      <td>0</td>\n",
       "    </tr>\n",
       "    <tr>\n",
       "      <th>3</th>\n",
       "      <td>NaN</td>\n",
       "      <td>Andorra</td>\n",
       "      <td>42.506300</td>\n",
       "      <td>1.521800</td>\n",
       "      <td>1/22/20</td>\n",
       "      <td>0</td>\n",
       "    </tr>\n",
       "    <tr>\n",
       "      <th>4</th>\n",
       "      <td>NaN</td>\n",
       "      <td>Angola</td>\n",
       "      <td>-11.202700</td>\n",
       "      <td>17.873900</td>\n",
       "      <td>1/22/20</td>\n",
       "      <td>0</td>\n",
       "    </tr>\n",
       "    <tr>\n",
       "      <th>...</th>\n",
       "      <td>...</td>\n",
       "      <td>...</td>\n",
       "      <td>...</td>\n",
       "      <td>...</td>\n",
       "      <td>...</td>\n",
       "      <td>...</td>\n",
       "    </tr>\n",
       "    <tr>\n",
       "      <th>67546</th>\n",
       "      <td>NaN</td>\n",
       "      <td>West Bank and Gaza</td>\n",
       "      <td>31.952200</td>\n",
       "      <td>35.233200</td>\n",
       "      <td>10/14/20</td>\n",
       "      <td>45658</td>\n",
       "    </tr>\n",
       "    <tr>\n",
       "      <th>67547</th>\n",
       "      <td>NaN</td>\n",
       "      <td>Western Sahara</td>\n",
       "      <td>24.215500</td>\n",
       "      <td>-12.885800</td>\n",
       "      <td>10/14/20</td>\n",
       "      <td>10</td>\n",
       "    </tr>\n",
       "    <tr>\n",
       "      <th>67548</th>\n",
       "      <td>NaN</td>\n",
       "      <td>Yemen</td>\n",
       "      <td>15.552727</td>\n",
       "      <td>48.516388</td>\n",
       "      <td>10/14/20</td>\n",
       "      <td>2053</td>\n",
       "    </tr>\n",
       "    <tr>\n",
       "      <th>67549</th>\n",
       "      <td>NaN</td>\n",
       "      <td>Zambia</td>\n",
       "      <td>-13.133897</td>\n",
       "      <td>27.849332</td>\n",
       "      <td>10/14/20</td>\n",
       "      <td>15616</td>\n",
       "    </tr>\n",
       "    <tr>\n",
       "      <th>67550</th>\n",
       "      <td>NaN</td>\n",
       "      <td>Zimbabwe</td>\n",
       "      <td>-19.015438</td>\n",
       "      <td>29.154857</td>\n",
       "      <td>10/14/20</td>\n",
       "      <td>8055</td>\n",
       "    </tr>\n",
       "  </tbody>\n",
       "</table>\n",
       "<p>67551 rows × 6 columns</p>\n",
       "</div>"
      ],
      "text/plain": [
       "      Province/State      Country/Region        Lat       Long      Date  \\\n",
       "0                NaN         Afghanistan  33.939110  67.709953   1/22/20   \n",
       "1                NaN             Albania  41.153300  20.168300   1/22/20   \n",
       "2                NaN             Algeria  28.033900   1.659600   1/22/20   \n",
       "3                NaN             Andorra  42.506300   1.521800   1/22/20   \n",
       "4                NaN              Angola -11.202700  17.873900   1/22/20   \n",
       "...              ...                 ...        ...        ...       ...   \n",
       "67546            NaN  West Bank and Gaza  31.952200  35.233200  10/14/20   \n",
       "67547            NaN      Western Sahara  24.215500 -12.885800  10/14/20   \n",
       "67548            NaN               Yemen  15.552727  48.516388  10/14/20   \n",
       "67549            NaN              Zambia -13.133897  27.849332  10/14/20   \n",
       "67550            NaN            Zimbabwe -19.015438  29.154857  10/14/20   \n",
       "\n",
       "       Confirmed  \n",
       "0              0  \n",
       "1              0  \n",
       "2              0  \n",
       "3              0  \n",
       "4              0  \n",
       "...          ...  \n",
       "67546      45658  \n",
       "67547         10  \n",
       "67548       2053  \n",
       "67549      15616  \n",
       "67550       8055  \n",
       "\n",
       "[67551 rows x 6 columns]"
      ]
     },
     "execution_count": 14,
     "metadata": {},
     "output_type": "execute_result"
    }
   ],
   "source": [
    "confirmed_df_long"
   ]
  },
  {
   "cell_type": "code",
   "execution_count": 15,
   "metadata": {
    "id": "xThDNSz-p5Rd"
   },
   "outputs": [],
   "source": [
    "# Merge the 3 datasets \n",
    "\n",
    "confirmed_df_long[\"Deaths\"] = deaths_df_long[\"Deaths\"]\n",
    "confirmed_df_long[\"Recovered\"] = recovered_df_long['Recovered']\n",
    "full_table = confirmed_df_long"
   ]
  },
  {
   "cell_type": "code",
   "execution_count": 16,
   "metadata": {
    "colab": {
     "base_uri": "https://localhost:8080/",
     "height": 272
    },
    "id": "Zw_0HvDrp5Rg",
    "outputId": "6e69751d-129b-4664-89b0-d6ad7fcb89f3"
   },
   "outputs": [
    {
     "name": "stdout",
     "output_type": "stream",
     "text": [
      "<class 'pandas.core.frame.DataFrame'>\n",
      "RangeIndex: 67551 entries, 0 to 67550\n",
      "Data columns (total 8 columns):\n",
      " #   Column          Non-Null Count  Dtype  \n",
      "---  ------          --------------  -----  \n",
      " 0   Province/State  17889 non-null  object \n",
      " 1   Country/Region  67551 non-null  object \n",
      " 2   Lat             67551 non-null  float64\n",
      " 3   Long            67551 non-null  float64\n",
      " 4   Date            67551 non-null  object \n",
      " 5   Confirmed       67551 non-null  int64  \n",
      " 6   Deaths          67551 non-null  int64  \n",
      " 7   Recovered       67551 non-null  int64  \n",
      "dtypes: float64(2), int64(3), object(3)\n",
      "memory usage: 4.1+ MB\n"
     ]
    }
   ],
   "source": [
    "full_table.info(verbose = True)"
   ]
  },
  {
   "cell_type": "code",
   "execution_count": 17,
   "metadata": {
    "id": "S_6DV-4Ep5Rj"
   },
   "outputs": [],
   "source": [
    "# trasnform from string to date the \"Date\" column\n",
    "full_table['Date'] = pd.to_datetime(full_table['Date'])"
   ]
  },
  {
   "cell_type": "markdown",
   "metadata": {
    "id": "4jnEGs9Tp5Rm"
   },
   "source": [
    "### **Check and fix NaN in the full dataset**"
   ]
  },
  {
   "cell_type": "code",
   "execution_count": 18,
   "metadata": {
    "colab": {
     "base_uri": "https://localhost:8080/",
     "height": 170
    },
    "id": "ZF9W8__Pp5Rm",
    "outputId": "fc1ffa13-e5c2-4b1b-ad65-1a3c136be042"
   },
   "outputs": [
    {
     "data": {
      "text/plain": [
       "Province/State    49662\n",
       "Country/Region        0\n",
       "Lat                   0\n",
       "Long                  0\n",
       "Date                  0\n",
       "Confirmed             0\n",
       "Deaths                0\n",
       "Recovered             0\n",
       "dtype: int64"
      ]
     },
     "execution_count": 18,
     "metadata": {},
     "output_type": "execute_result"
    }
   ],
   "source": [
    "full_table.isna().sum()"
   ]
  },
  {
   "cell_type": "markdown",
   "metadata": {
    "id": "cPz6eVHup5Rr"
   },
   "source": [
    "### **Remove cruise ships data**\n",
    " #### We also observed that there is some of confirmed cases of Covid from the cruise ships (Grand Princess, Diamond Princess and MS Zaandam) that make it difficult to fit in in the Country category, so we excluded from our anaysis"
   ]
  },
  {
   "cell_type": "code",
   "execution_count": 19,
   "metadata": {
    "id": "hpMrI_Bqp5Rs"
   },
   "outputs": [],
   "source": [
    "# select the ships rows\n",
    "ship_rows = full_table['Province/State'].str.contains('Grand Princess') | full_table['Province/State'].str.contains('Diamond Princess') | full_table['Country/Region'].str.contains('Diamond Princess') | full_table['Country/Region'].str.contains('MS Zaandam')"
   ]
  },
  {
   "cell_type": "code",
   "execution_count": 20,
   "metadata": {
    "id": "5GevP13Gp5R0"
   },
   "outputs": [],
   "source": [
    "full_table = full_table[~(ship_rows)] # the '~' operator negate the selections"
   ]
  },
  {
   "cell_type": "markdown",
   "metadata": {
    "id": "bf3mSML5p5R5"
   },
   "source": [
    "## **Add new colum for active cases**\n",
    "Below we compute the active cases by substracting the number of death and recovered to the confirmed cases."
   ]
  },
  {
   "cell_type": "code",
   "execution_count": 21,
   "metadata": {
    "colab": {
     "base_uri": "https://localhost:8080/",
     "height": 541
    },
    "id": "j2Dk58s2p5R6",
    "outputId": "01440846-5b45-4baa-9699-09a85b445ff4"
   },
   "outputs": [
    {
     "name": "stderr",
     "output_type": "stream",
     "text": [
      "/Users/rubencito/opt/anaconda3/lib/python3.7/site-packages/ipykernel_launcher.py:2: SettingWithCopyWarning: \n",
      "A value is trying to be set on a copy of a slice from a DataFrame.\n",
      "Try using .loc[row_indexer,col_indexer] = value instead\n",
      "\n",
      "See the caveats in the documentation: https://pandas.pydata.org/pandas-docs/stable/user_guide/indexing.html#returning-a-view-versus-a-copy\n",
      "  \n"
     ]
    },
    {
     "data": {
      "text/html": [
       "<div>\n",
       "<style scoped>\n",
       "    .dataframe tbody tr th:only-of-type {\n",
       "        vertical-align: middle;\n",
       "    }\n",
       "\n",
       "    .dataframe tbody tr th {\n",
       "        vertical-align: top;\n",
       "    }\n",
       "\n",
       "    .dataframe thead th {\n",
       "        text-align: right;\n",
       "    }\n",
       "</style>\n",
       "<table border=\"1\" class=\"dataframe\">\n",
       "  <thead>\n",
       "    <tr style=\"text-align: right;\">\n",
       "      <th></th>\n",
       "      <th>Province/State</th>\n",
       "      <th>Country/Region</th>\n",
       "      <th>Lat</th>\n",
       "      <th>Long</th>\n",
       "      <th>Date</th>\n",
       "      <th>Confirmed</th>\n",
       "      <th>Deaths</th>\n",
       "      <th>Recovered</th>\n",
       "      <th>Active</th>\n",
       "    </tr>\n",
       "  </thead>\n",
       "  <tbody>\n",
       "    <tr>\n",
       "      <th>0</th>\n",
       "      <td>NaN</td>\n",
       "      <td>Afghanistan</td>\n",
       "      <td>33.939110</td>\n",
       "      <td>67.709953</td>\n",
       "      <td>2020-01-22</td>\n",
       "      <td>0</td>\n",
       "      <td>0</td>\n",
       "      <td>0</td>\n",
       "      <td>0</td>\n",
       "    </tr>\n",
       "    <tr>\n",
       "      <th>1</th>\n",
       "      <td>NaN</td>\n",
       "      <td>Albania</td>\n",
       "      <td>41.153300</td>\n",
       "      <td>20.168300</td>\n",
       "      <td>2020-01-22</td>\n",
       "      <td>0</td>\n",
       "      <td>0</td>\n",
       "      <td>0</td>\n",
       "      <td>0</td>\n",
       "    </tr>\n",
       "    <tr>\n",
       "      <th>2</th>\n",
       "      <td>NaN</td>\n",
       "      <td>Algeria</td>\n",
       "      <td>28.033900</td>\n",
       "      <td>1.659600</td>\n",
       "      <td>2020-01-22</td>\n",
       "      <td>0</td>\n",
       "      <td>0</td>\n",
       "      <td>0</td>\n",
       "      <td>0</td>\n",
       "    </tr>\n",
       "    <tr>\n",
       "      <th>3</th>\n",
       "      <td>NaN</td>\n",
       "      <td>Andorra</td>\n",
       "      <td>42.506300</td>\n",
       "      <td>1.521800</td>\n",
       "      <td>2020-01-22</td>\n",
       "      <td>0</td>\n",
       "      <td>0</td>\n",
       "      <td>0</td>\n",
       "      <td>0</td>\n",
       "    </tr>\n",
       "    <tr>\n",
       "      <th>4</th>\n",
       "      <td>NaN</td>\n",
       "      <td>Angola</td>\n",
       "      <td>-11.202700</td>\n",
       "      <td>17.873900</td>\n",
       "      <td>2020-01-22</td>\n",
       "      <td>0</td>\n",
       "      <td>0</td>\n",
       "      <td>0</td>\n",
       "      <td>0</td>\n",
       "    </tr>\n",
       "    <tr>\n",
       "      <th>...</th>\n",
       "      <td>...</td>\n",
       "      <td>...</td>\n",
       "      <td>...</td>\n",
       "      <td>...</td>\n",
       "      <td>...</td>\n",
       "      <td>...</td>\n",
       "      <td>...</td>\n",
       "      <td>...</td>\n",
       "      <td>...</td>\n",
       "    </tr>\n",
       "    <tr>\n",
       "      <th>67546</th>\n",
       "      <td>NaN</td>\n",
       "      <td>West Bank and Gaza</td>\n",
       "      <td>31.952200</td>\n",
       "      <td>35.233200</td>\n",
       "      <td>2020-10-14</td>\n",
       "      <td>45658</td>\n",
       "      <td>393</td>\n",
       "      <td>39304</td>\n",
       "      <td>5961</td>\n",
       "    </tr>\n",
       "    <tr>\n",
       "      <th>67547</th>\n",
       "      <td>NaN</td>\n",
       "      <td>Western Sahara</td>\n",
       "      <td>24.215500</td>\n",
       "      <td>-12.885800</td>\n",
       "      <td>2020-10-14</td>\n",
       "      <td>10</td>\n",
       "      <td>1</td>\n",
       "      <td>8</td>\n",
       "      <td>1</td>\n",
       "    </tr>\n",
       "    <tr>\n",
       "      <th>67548</th>\n",
       "      <td>NaN</td>\n",
       "      <td>Yemen</td>\n",
       "      <td>15.552727</td>\n",
       "      <td>48.516388</td>\n",
       "      <td>2020-10-14</td>\n",
       "      <td>2053</td>\n",
       "      <td>596</td>\n",
       "      <td>1329</td>\n",
       "      <td>128</td>\n",
       "    </tr>\n",
       "    <tr>\n",
       "      <th>67549</th>\n",
       "      <td>NaN</td>\n",
       "      <td>Zambia</td>\n",
       "      <td>-13.133897</td>\n",
       "      <td>27.849332</td>\n",
       "      <td>2020-10-14</td>\n",
       "      <td>15616</td>\n",
       "      <td>345</td>\n",
       "      <td>14850</td>\n",
       "      <td>421</td>\n",
       "    </tr>\n",
       "    <tr>\n",
       "      <th>67550</th>\n",
       "      <td>NaN</td>\n",
       "      <td>Zimbabwe</td>\n",
       "      <td>-19.015438</td>\n",
       "      <td>29.154857</td>\n",
       "      <td>2020-10-14</td>\n",
       "      <td>8055</td>\n",
       "      <td>231</td>\n",
       "      <td>7640</td>\n",
       "      <td>184</td>\n",
       "    </tr>\n",
       "  </tbody>\n",
       "</table>\n",
       "<p>67017 rows × 9 columns</p>\n",
       "</div>"
      ],
      "text/plain": [
       "      Province/State      Country/Region        Lat       Long       Date  \\\n",
       "0                NaN         Afghanistan  33.939110  67.709953 2020-01-22   \n",
       "1                NaN             Albania  41.153300  20.168300 2020-01-22   \n",
       "2                NaN             Algeria  28.033900   1.659600 2020-01-22   \n",
       "3                NaN             Andorra  42.506300   1.521800 2020-01-22   \n",
       "4                NaN              Angola -11.202700  17.873900 2020-01-22   \n",
       "...              ...                 ...        ...        ...        ...   \n",
       "67546            NaN  West Bank and Gaza  31.952200  35.233200 2020-10-14   \n",
       "67547            NaN      Western Sahara  24.215500 -12.885800 2020-10-14   \n",
       "67548            NaN               Yemen  15.552727  48.516388 2020-10-14   \n",
       "67549            NaN              Zambia -13.133897  27.849332 2020-10-14   \n",
       "67550            NaN            Zimbabwe -19.015438  29.154857 2020-10-14   \n",
       "\n",
       "       Confirmed  Deaths  Recovered  Active  \n",
       "0              0       0          0       0  \n",
       "1              0       0          0       0  \n",
       "2              0       0          0       0  \n",
       "3              0       0          0       0  \n",
       "4              0       0          0       0  \n",
       "...          ...     ...        ...     ...  \n",
       "67546      45658     393      39304    5961  \n",
       "67547         10       1          8       1  \n",
       "67548       2053     596       1329     128  \n",
       "67549      15616     345      14850     421  \n",
       "67550       8055     231       7640     184  \n",
       "\n",
       "[67017 rows x 9 columns]"
      ]
     },
     "execution_count": 21,
     "metadata": {},
     "output_type": "execute_result"
    }
   ],
   "source": [
    "# Active Case = confirmed - deaths - recovered\n",
    "full_table['Active'] = full_table['Confirmed'] - full_table['Deaths'] - full_table['Recovered']\n",
    "full_table"
   ]
  },
  {
   "cell_type": "markdown",
   "metadata": {
    "id": "-0GWyShBp5R8"
   },
   "source": [
    "We agregate the data by Country and Date (by means of grouping) and calculate de sum of the cases"
   ]
  },
  {
   "cell_type": "code",
   "execution_count": 22,
   "metadata": {
    "colab": {
     "base_uri": "https://localhost:8080/",
     "height": 419
    },
    "id": "y9ukj4knp5R9",
    "outputId": "111156d5-ee25-4561-8d8d-f36e0e38de99"
   },
   "outputs": [
    {
     "data": {
      "text/html": [
       "<div>\n",
       "<style scoped>\n",
       "    .dataframe tbody tr th:only-of-type {\n",
       "        vertical-align: middle;\n",
       "    }\n",
       "\n",
       "    .dataframe tbody tr th {\n",
       "        vertical-align: top;\n",
       "    }\n",
       "\n",
       "    .dataframe thead th {\n",
       "        text-align: right;\n",
       "    }\n",
       "</style>\n",
       "<table border=\"1\" class=\"dataframe\">\n",
       "  <thead>\n",
       "    <tr style=\"text-align: right;\">\n",
       "      <th></th>\n",
       "      <th>Date</th>\n",
       "      <th>Country/Region</th>\n",
       "      <th>Confirmed</th>\n",
       "      <th>Deaths</th>\n",
       "      <th>Recovered</th>\n",
       "      <th>Active</th>\n",
       "    </tr>\n",
       "  </thead>\n",
       "  <tbody>\n",
       "    <tr>\n",
       "      <th>0</th>\n",
       "      <td>2020-01-22</td>\n",
       "      <td>Afghanistan</td>\n",
       "      <td>0</td>\n",
       "      <td>0</td>\n",
       "      <td>0</td>\n",
       "      <td>0</td>\n",
       "    </tr>\n",
       "    <tr>\n",
       "      <th>1</th>\n",
       "      <td>2020-01-22</td>\n",
       "      <td>Albania</td>\n",
       "      <td>0</td>\n",
       "      <td>0</td>\n",
       "      <td>0</td>\n",
       "      <td>0</td>\n",
       "    </tr>\n",
       "    <tr>\n",
       "      <th>2</th>\n",
       "      <td>2020-01-22</td>\n",
       "      <td>Algeria</td>\n",
       "      <td>0</td>\n",
       "      <td>0</td>\n",
       "      <td>0</td>\n",
       "      <td>0</td>\n",
       "    </tr>\n",
       "    <tr>\n",
       "      <th>3</th>\n",
       "      <td>2020-01-22</td>\n",
       "      <td>Andorra</td>\n",
       "      <td>0</td>\n",
       "      <td>0</td>\n",
       "      <td>0</td>\n",
       "      <td>0</td>\n",
       "    </tr>\n",
       "    <tr>\n",
       "      <th>4</th>\n",
       "      <td>2020-01-22</td>\n",
       "      <td>Angola</td>\n",
       "      <td>0</td>\n",
       "      <td>0</td>\n",
       "      <td>0</td>\n",
       "      <td>0</td>\n",
       "    </tr>\n",
       "    <tr>\n",
       "      <th>...</th>\n",
       "      <td>...</td>\n",
       "      <td>...</td>\n",
       "      <td>...</td>\n",
       "      <td>...</td>\n",
       "      <td>...</td>\n",
       "      <td>...</td>\n",
       "    </tr>\n",
       "    <tr>\n",
       "      <th>49657</th>\n",
       "      <td>2020-10-14</td>\n",
       "      <td>West Bank and Gaza</td>\n",
       "      <td>45658</td>\n",
       "      <td>393</td>\n",
       "      <td>39304</td>\n",
       "      <td>5961</td>\n",
       "    </tr>\n",
       "    <tr>\n",
       "      <th>49658</th>\n",
       "      <td>2020-10-14</td>\n",
       "      <td>Western Sahara</td>\n",
       "      <td>10</td>\n",
       "      <td>1</td>\n",
       "      <td>8</td>\n",
       "      <td>1</td>\n",
       "    </tr>\n",
       "    <tr>\n",
       "      <th>49659</th>\n",
       "      <td>2020-10-14</td>\n",
       "      <td>Yemen</td>\n",
       "      <td>2053</td>\n",
       "      <td>596</td>\n",
       "      <td>1329</td>\n",
       "      <td>128</td>\n",
       "    </tr>\n",
       "    <tr>\n",
       "      <th>49660</th>\n",
       "      <td>2020-10-14</td>\n",
       "      <td>Zambia</td>\n",
       "      <td>15616</td>\n",
       "      <td>345</td>\n",
       "      <td>14850</td>\n",
       "      <td>421</td>\n",
       "    </tr>\n",
       "    <tr>\n",
       "      <th>49661</th>\n",
       "      <td>2020-10-14</td>\n",
       "      <td>Zimbabwe</td>\n",
       "      <td>8055</td>\n",
       "      <td>231</td>\n",
       "      <td>7640</td>\n",
       "      <td>184</td>\n",
       "    </tr>\n",
       "  </tbody>\n",
       "</table>\n",
       "<p>49662 rows × 6 columns</p>\n",
       "</div>"
      ],
      "text/plain": [
       "            Date      Country/Region  Confirmed  Deaths  Recovered  Active\n",
       "0     2020-01-22         Afghanistan          0       0          0       0\n",
       "1     2020-01-22             Albania          0       0          0       0\n",
       "2     2020-01-22             Algeria          0       0          0       0\n",
       "3     2020-01-22             Andorra          0       0          0       0\n",
       "4     2020-01-22              Angola          0       0          0       0\n",
       "...          ...                 ...        ...     ...        ...     ...\n",
       "49657 2020-10-14  West Bank and Gaza      45658     393      39304    5961\n",
       "49658 2020-10-14      Western Sahara         10       1          8       1\n",
       "49659 2020-10-14               Yemen       2053     596       1329     128\n",
       "49660 2020-10-14              Zambia      15616     345      14850     421\n",
       "49661 2020-10-14            Zimbabwe       8055     231       7640     184\n",
       "\n",
       "[49662 rows x 6 columns]"
      ]
     },
     "execution_count": 22,
     "metadata": {},
     "output_type": "execute_result"
    }
   ],
   "source": [
    "full_grouped = full_table.groupby(['Date', 'Country/Region'])[['Confirmed', 'Deaths', 'Recovered', 'Active']].sum().reset_index()\n",
    "\n",
    "full_grouped"
   ]
  },
  {
   "cell_type": "markdown",
   "metadata": {
    "id": "C1Y8V3Om9LKZ"
   },
   "source": [
    "## Add new column(s) for new cases / new deaths / new recovered"
   ]
  },
  {
   "cell_type": "code",
   "execution_count": 23,
   "metadata": {
    "colab": {
     "base_uri": "https://localhost:8080/",
     "height": 71
    },
    "id": "g6m1YPUo9LKb",
    "outputId": "e7e8ac7b-1a8d-49de-9144-863273981bee"
   },
   "outputs": [
    {
     "name": "stderr",
     "output_type": "stream",
     "text": [
      "/Users/rubencito/opt/anaconda3/lib/python3.7/site-packages/ipykernel_launcher.py:2: FutureWarning: Indexing with multiple keys (implicitly converted to a tuple of keys) will be deprecated, use a list instead.\n",
      "  \n"
     ]
    }
   ],
   "source": [
    "# new cases \n",
    "temp = full_grouped.groupby(['Country/Region', 'Date', ])['Confirmed', 'Deaths', 'Recovered']\n",
    "temp = temp.sum().diff().reset_index()\n",
    "\n",
    "mask = temp['Country/Region'] != temp['Country/Region'].shift(1)\n",
    "\n",
    "temp.loc[mask, 'Confirmed'] = np.nan\n",
    "temp.loc[mask, 'Deaths'] = np.nan\n",
    "temp.loc[mask, 'Recovered'] = np.nan\n",
    "\n",
    "# renaming columns\n",
    "temp.columns = ['Country/Region', 'Date', 'New_cases', 'New_deaths', 'New_recovered']\n",
    "\n",
    "# merging new values\n",
    "full_grouped = pd.merge(full_grouped, temp, on=['Country/Region', 'Date'])# filling na with 0\n",
    "full_grouped = full_grouped.fillna(0)\n",
    "\n",
    "# fixing data types\n",
    "cols = ['New_cases', 'New_deaths', 'New_recovered']\n",
    "full_grouped[cols] = full_grouped[cols].astype('int')\n",
    "\n",
    "# \n",
    "full_grouped['New_cases'] = full_grouped['New_cases'].apply(lambda x: 0 if x<0 else x)"
   ]
  },
  {
   "cell_type": "code",
   "execution_count": 24,
   "metadata": {
    "id": "XHINTWYip5R_"
   },
   "outputs": [],
   "source": [
    "#rename the \"Country/Region\" variable\n",
    "full_grouped.rename(columns = {'Country/Region' : 'Country_Region'}, inplace = True)\n"
   ]
  },
  {
   "cell_type": "code",
   "execution_count": 25,
   "metadata": {
    "colab": {
     "base_uri": "https://localhost:8080/",
     "height": 34
    },
    "id": "F4r3Ehz5p5SC",
    "outputId": "6283220f-419f-4e64-88be-0929377dae18"
   },
   "outputs": [
    {
     "data": {
      "text/plain": [
       "186"
      ]
     },
     "execution_count": 25,
     "metadata": {},
     "output_type": "execute_result"
    }
   ],
   "source": [
    "# compute the number of countries registered in the covide dataset\n",
    "full_grouped['Country_Region'].unique().size"
   ]
  },
  {
   "cell_type": "code",
   "execution_count": null,
   "metadata": {
    "id": "_hbINcIq9LK9"
   },
   "outputs": [],
   "source": []
  },
  {
   "cell_type": "markdown",
   "metadata": {
    "id": "MpL0eTgip5SE"
   },
   "source": [
    "## **Extract metadata for Covid datasets**\n",
    "We want to merge the covid dataset with other datasets by a comun variable, in our case is the Country. To make sure that the union of datasets are compatible, and since countries might be named disticntly  from each dataset source we use the country code as an standard varibale fro later merge. Now we asign to the Covid dataframe a new colum for the Country codes. To achieve this task we do the following steps: \n",
    " - Load metadata from the Covid repository\n",
    " - Extract the information on Country code (here is the variable called 'iso3')\n",
    "\n",
    "We also extract additional information on the population from each country. this will be used later for normalizing our variables."
   ]
  },
  {
   "cell_type": "code",
   "execution_count": 26,
   "metadata": {
    "id": "EP8Qv_Jip5SF"
   },
   "outputs": [],
   "source": [
    "covid_metadata_countries = pd.read_csv(\"https://raw.githubusercontent.com/CSSEGISandData/COVID-19/master/csse_covid_19_data/UID_ISO_FIPS_LookUp_Table.csv\",\n",
    "                                      usecols = ['Country_Region', 'Province_State', 'iso3', 'Population'])\n"
   ]
  },
  {
   "cell_type": "code",
   "execution_count": 27,
   "metadata": {
    "colab": {
     "base_uri": "https://localhost:8080/",
     "height": 204
    },
    "id": "r6Vp_haVp5SH",
    "outputId": "f17b46b5-1508-41ca-b14c-98fe9d11b788"
   },
   "outputs": [
    {
     "name": "stdout",
     "output_type": "stream",
     "text": [
      "<class 'pandas.core.frame.DataFrame'>\n",
      "RangeIndex: 4154 entries, 0 to 4153\n",
      "Data columns (total 4 columns):\n",
      " #   Column          Non-Null Count  Dtype  \n",
      "---  ------          --------------  -----  \n",
      " 0   iso3            4152 non-null   object \n",
      " 1   Province_State  3965 non-null   object \n",
      " 2   Country_Region  4154 non-null   object \n",
      " 3   Population      4013 non-null   float64\n",
      "dtypes: float64(1), object(3)\n",
      "memory usage: 129.9+ KB\n"
     ]
    }
   ],
   "source": [
    "covid_metadata_countries.info(verbose = True)"
   ]
  },
  {
   "cell_type": "markdown",
   "metadata": {
    "id": "nHSFR3sqp5SI"
   },
   "source": [
    "### **Remove regional subset in hte metadata and only work at national level**"
   ]
  },
  {
   "cell_type": "code",
   "execution_count": 28,
   "metadata": {},
   "outputs": [],
   "source": [
    "covid_metadata_countries = covid_metadata_countries[covid_metadata_countries['Province_State'].isna()].drop_duplicates()#.shape"
   ]
  },
  {
   "cell_type": "markdown",
   "metadata": {
    "id": "nHSFR3sqp5SI"
   },
   "source": [
    "### **Remove the cruise ships information from the metadata on country codes**"
   ]
  },
  {
   "cell_type": "code",
   "execution_count": 29,
   "metadata": {
    "id": "UCo1c7sjp5SL"
   },
   "outputs": [],
   "source": [
    "# select from columns 'Country_Region' the names 'Diamond Princess'and 'MS Zaandam'\n",
    "ship_metadata = covid_metadata_countries['Country_Region'].str.contains('Diamond Princess') | covid_metadata_countries['Country_Region'].str.contains('MS Zaandam')\n",
    "ship_metadata\n",
    "covid_metadata_countries = covid_metadata_countries[~(ship_metadata)]"
   ]
  },
  {
   "cell_type": "markdown",
   "metadata": {
    "id": "43BRMBXqp5SN"
   },
   "source": [
    "### **Summarize the population by country in the metadata dataframe**"
   ]
  },
  {
   "cell_type": "code",
   "execution_count": 30,
   "metadata": {
    "id": "XosG0thQp5SO"
   },
   "outputs": [],
   "source": [
    "#my_covid_variables = ['Confirmed', 'Deaths', 'Recovered', 'Active']\n",
    "code_vars = ['Country_Region', 'iso3']\n",
    "\n",
    "#full_table.groupby(['Date', 'Country/Region'])[my_covid_variables].sum().reset_index()\n",
    "country_population = covid_metadata_countries.groupby(code_vars)['Population'].sum().reset_index()"
   ]
  },
  {
   "cell_type": "code",
   "execution_count": 31,
   "metadata": {
    "colab": {
     "base_uri": "https://localhost:8080/",
     "height": 34
    },
    "id": "4g79RRkDp5SQ",
    "outputId": "7a13ad90-7cb2-4149-a5ba-67320b55bc20"
   },
   "outputs": [
    {
     "data": {
      "text/plain": [
       "(187,)"
      ]
     },
     "execution_count": 31,
     "metadata": {},
     "output_type": "execute_result"
    }
   ],
   "source": [
    "country_population['Country_Region'].unique().shape"
   ]
  },
  {
   "cell_type": "code",
   "execution_count": 32,
   "metadata": {
    "colab": {
     "base_uri": "https://localhost:8080/",
     "height": 34
    },
    "id": "9RLB833C9LMY",
    "outputId": "ad6eb2fb-db7e-48ad-9f4f-f9cab7fa75fb"
   },
   "outputs": [
    {
     "data": {
      "text/plain": [
       "186"
      ]
     },
     "execution_count": 32,
     "metadata": {},
     "output_type": "execute_result"
    }
   ],
   "source": [
    "# this is the number of countries registered in the Covid df\n",
    "full_grouped['Country_Region'].unique().size"
   ]
  },
  {
   "cell_type": "markdown",
   "metadata": {
    "id": "okjboLfEp5SX"
   },
   "source": [
    "### **Merge country code with Covid datasets**"
   ]
  },
  {
   "cell_type": "code",
   "execution_count": 33,
   "metadata": {
    "id": "V10m-r0_p5SX"
   },
   "outputs": [],
   "source": [
    "full_grouped_ccode = pd.merge(country_population, full_grouped, how = 'left')\n"
   ]
  },
  {
   "cell_type": "code",
   "execution_count": 34,
   "metadata": {
    "colab": {
     "base_uri": "https://localhost:8080/",
     "height": 323
    },
    "id": "xS5LjLIep5SY",
    "outputId": "c17c510c-9e12-4005-b516-23e16f38f095"
   },
   "outputs": [
    {
     "name": "stdout",
     "output_type": "stream",
     "text": [
      "<class 'pandas.core.frame.DataFrame'>\n",
      "Int64Index: 49663 entries, 0 to 49662\n",
      "Data columns (total 11 columns):\n",
      " #   Column          Non-Null Count  Dtype         \n",
      "---  ------          --------------  -----         \n",
      " 0   Country_Region  49663 non-null  object        \n",
      " 1   iso3            49663 non-null  object        \n",
      " 2   Population      49663 non-null  float64       \n",
      " 3   Date            49662 non-null  datetime64[ns]\n",
      " 4   Confirmed       49662 non-null  float64       \n",
      " 5   Deaths          49662 non-null  float64       \n",
      " 6   Recovered       49662 non-null  float64       \n",
      " 7   Active          49662 non-null  float64       \n",
      " 8   New_cases       49662 non-null  float64       \n",
      " 9   New_deaths      49662 non-null  float64       \n",
      " 10  New_recovered   49662 non-null  float64       \n",
      "dtypes: datetime64[ns](1), float64(8), object(2)\n",
      "memory usage: 4.5+ MB\n"
     ]
    }
   ],
   "source": [
    "full_grouped_ccode.info(verbose = True)"
   ]
  },
  {
   "cell_type": "code",
   "execution_count": 35,
   "metadata": {
    "id": "sCZAVRjop5Sb"
   },
   "outputs": [],
   "source": [
    "full_grouped_ccode.rename(columns = {'iso3' : 'CountryCode'}, inplace = True)"
   ]
  },
  {
   "cell_type": "code",
   "execution_count": 36,
   "metadata": {
    "colab": {
     "base_uri": "https://localhost:8080/",
     "height": 221
    },
    "id": "hsZg9qwsVqoz",
    "outputId": "e804ef73-c6db-4485-9c4d-871e3bcf19d0"
   },
   "outputs": [
    {
     "data": {
      "text/plain": [
       "Country_Region    0\n",
       "CountryCode       0\n",
       "Population        0\n",
       "Date              1\n",
       "Confirmed         1\n",
       "Deaths            1\n",
       "Recovered         1\n",
       "Active            1\n",
       "New_cases         1\n",
       "New_deaths        1\n",
       "New_recovered     1\n",
       "dtype: int64"
      ]
     },
     "execution_count": 36,
     "metadata": {},
     "output_type": "execute_result"
    }
   ],
   "source": [
    "# Check NaNs generated during the merge and remove them\n",
    "full_grouped_ccode.isna().sum()"
   ]
  },
  {
   "cell_type": "code",
   "execution_count": 37,
   "metadata": {
    "id": "fm_e84b9Vqo5"
   },
   "outputs": [],
   "source": [
    "full_grouped_ccode = full_grouped_ccode[~full_grouped_ccode['Date'].isna()]"
   ]
  },
  {
   "cell_type": "markdown",
   "metadata": {
    "id": "1ADIMImLp5Sf"
   },
   "source": [
    "# 2. Oxford Stringency index data collection, cleaning and merging"
   ]
  },
  {
   "cell_type": "code",
   "execution_count": 38,
   "metadata": {
    "id": "OkSvCaZRVqpG"
   },
   "outputs": [],
   "source": [
    "str_url = [\"https://raw.githubusercontent.com/OxCGRT/covid-policy-tracker/master/data/OxCGRT_latest.csv\"]\n",
    "\n",
    "for url in str_url:\n",
    "    filename = path + '/' + os.path.basename(url) # get the full path of the file\n",
    "    if os.path.exists(filename):\n",
    "        os.remove(filename) # if exist, remove it directly\n",
    "    wget.download(url, out=filename) # download it to the specific path.\n",
    "# IMPORTANT: if error loading files bacause link is down, don't run this code chunk and go to the next.\n",
    "# It will read only the local data in the repo from the last time this script was run and updated"
   ]
  },
  {
   "cell_type": "code",
   "execution_count": 39,
   "metadata": {
    "colab": {
     "base_uri": "https://localhost:8080/",
     "height": 238
    },
    "id": "yOmnWSkTp5Sf",
    "outputId": "4a5335f5-6870-4efe-e7da-89bcd7c6dbd8"
   },
   "outputs": [
    {
     "name": "stdout",
     "output_type": "stream",
     "text": [
      "<class 'pandas.core.frame.DataFrame'>\n",
      "RangeIndex: 70227 entries, 0 to 70226\n",
      "Data columns (total 6 columns):\n",
      " #   Column           Non-Null Count  Dtype  \n",
      "---  ------           --------------  -----  \n",
      " 0   CountryName      70227 non-null  object \n",
      " 1   CountryCode      70227 non-null  object \n",
      " 2   RegionName       16184 non-null  object \n",
      " 3   RegionCode       16184 non-null  object \n",
      " 4   Date             70227 non-null  int64  \n",
      " 5   StringencyIndex  66955 non-null  float64\n",
      "dtypes: float64(1), int64(1), object(4)\n",
      "memory usage: 3.2+ MB\n"
     ]
    }
   ],
   "source": [
    "my_string_columns = [\"Date\", \"CountryCode\", \"CountryName\", \"StringencyIndex\", \"RegionName\", \"RegionCode\"] \n",
    "stringency_raw_dataset = pd.read_csv(\"OxCGRT_latest.csv\", usecols = my_string_columns, low_memory=False)\n",
    "stringency_raw_dataset.info(verbose = True)"
   ]
  },
  {
   "cell_type": "markdown",
   "metadata": {
    "id": "ubalw-rqp5Sg"
   },
   "source": [
    "### **Selecting national data only ( exclude regional data) read documentation in this link why -> https://github.com/OxCGRT/covid-policy-tracker**\n",
    "To take only the natinal data we followed instructions in the link above and take only rows where the variable RegionCoide is Null"
   ]
  },
  {
   "cell_type": "code",
   "execution_count": 40,
   "metadata": {
    "id": "YLNub_hsp5Sh"
   },
   "outputs": [],
   "source": [
    "stringe_natio_dataset = stringency_raw_dataset[stringency_raw_dataset.RegionCode.isnull()]\n"
   ]
  },
  {
   "cell_type": "code",
   "execution_count": 41,
   "metadata": {
    "id": "egxYenh1p5Sl"
   },
   "outputs": [],
   "source": [
    "# remove columns with no needed information\n",
    "stringe_natio_dataset = stringe_natio_dataset[my_string_columns[:4]]"
   ]
  },
  {
   "cell_type": "markdown",
   "metadata": {
    "id": "AbDu_6PE9LNx"
   },
   "source": [
    "Closer inspection revealed that the number of country codes from the Stringency dataset is less than the number of country codes in the Covid dataframe.\n"
   ]
  },
  {
   "cell_type": "code",
   "execution_count": 42,
   "metadata": {
    "colab": {
     "base_uri": "https://localhost:8080/",
     "height": 34
    },
    "id": "xFbmKuf_p5So",
    "outputId": "472cd213-7489-4f4f-93f1-1934c49edb23"
   },
   "outputs": [
    {
     "name": "stdout",
     "output_type": "stream",
     "text": [
      "[187, 186]\n"
     ]
    }
   ],
   "source": [
    "print([stringe_natio_dataset['CountryCode'].unique().size, \n",
    "       full_grouped_ccode['CountryCode'].unique().size])\n"
   ]
  },
  {
   "cell_type": "markdown",
   "metadata": {
    "id": "K4EL7iZfp5Ss"
   },
   "source": [
    "#### **The list below shows the Countries/region/dependencies which have not information regarding stringency index. Those countries (31) will be excluded form the analysis for the momment**"
   ]
  },
  {
   "cell_type": "code",
   "execution_count": 43,
   "metadata": {
    "colab": {
     "base_uri": "https://localhost:8080/",
     "height": 1000
    },
    "id": "DOqYxex5p5Ss",
    "outputId": "fa3800b9-fb09-451e-cc25-1b54856e815f"
   },
   "outputs": [
    {
     "data": {
      "text/html": [
       "<div>\n",
       "<style scoped>\n",
       "    .dataframe tbody tr th:only-of-type {\n",
       "        vertical-align: middle;\n",
       "    }\n",
       "\n",
       "    .dataframe tbody tr th {\n",
       "        vertical-align: top;\n",
       "    }\n",
       "\n",
       "    .dataframe thead th {\n",
       "        text-align: right;\n",
       "    }\n",
       "</style>\n",
       "<table border=\"1\" class=\"dataframe\">\n",
       "  <thead>\n",
       "    <tr style=\"text-align: right;\">\n",
       "      <th></th>\n",
       "      <th>CountryCode</th>\n",
       "      <th>Country_Region</th>\n",
       "    </tr>\n",
       "  </thead>\n",
       "  <tbody>\n",
       "    <tr>\n",
       "      <th>1335</th>\n",
       "      <td>ATG</td>\n",
       "      <td>Antigua and Barbuda</td>\n",
       "    </tr>\n",
       "    <tr>\n",
       "      <th>1869</th>\n",
       "      <td>ARM</td>\n",
       "      <td>Armenia</td>\n",
       "    </tr>\n",
       "    <tr>\n",
       "      <th>2937</th>\n",
       "      <td>BHS</td>\n",
       "      <td>Bahamas</td>\n",
       "    </tr>\n",
       "    <tr>\n",
       "      <th>14152</th>\n",
       "      <td>GNQ</td>\n",
       "      <td>Equatorial Guinea</td>\n",
       "    </tr>\n",
       "    <tr>\n",
       "      <th>17890</th>\n",
       "      <td>GRD</td>\n",
       "      <td>Grenada</td>\n",
       "    </tr>\n",
       "    <tr>\n",
       "      <th>18691</th>\n",
       "      <td>GNB</td>\n",
       "      <td>Guinea-Bissau</td>\n",
       "    </tr>\n",
       "    <tr>\n",
       "      <th>19492</th>\n",
       "      <td>VAT</td>\n",
       "      <td>Holy See</td>\n",
       "    </tr>\n",
       "    <tr>\n",
       "      <th>24031</th>\n",
       "      <td>XKS</td>\n",
       "      <td>Kosovo</td>\n",
       "    </tr>\n",
       "    <tr>\n",
       "      <th>26434</th>\n",
       "      <td>LIE</td>\n",
       "      <td>Liechtenstein</td>\n",
       "    </tr>\n",
       "    <tr>\n",
       "      <th>28036</th>\n",
       "      <td>MDV</td>\n",
       "      <td>Maldives</td>\n",
       "    </tr>\n",
       "    <tr>\n",
       "      <th>28570</th>\n",
       "      <td>MLT</td>\n",
       "      <td>Malta</td>\n",
       "    </tr>\n",
       "    <tr>\n",
       "      <th>29905</th>\n",
       "      <td>MCO</td>\n",
       "      <td>Monaco</td>\n",
       "    </tr>\n",
       "    <tr>\n",
       "      <th>30439</th>\n",
       "      <td>MNE</td>\n",
       "      <td>Montenegro</td>\n",
       "    </tr>\n",
       "    <tr>\n",
       "      <th>33109</th>\n",
       "      <td>MKD</td>\n",
       "      <td>North Macedonia</td>\n",
       "    </tr>\n",
       "    <tr>\n",
       "      <th>37114</th>\n",
       "      <td>KNA</td>\n",
       "      <td>Saint Kitts and Nevis</td>\n",
       "    </tr>\n",
       "    <tr>\n",
       "      <th>37381</th>\n",
       "      <td>LCA</td>\n",
       "      <td>Saint Lucia</td>\n",
       "    </tr>\n",
       "    <tr>\n",
       "      <th>37648</th>\n",
       "      <td>VCT</td>\n",
       "      <td>Saint Vincent and the Grenadines</td>\n",
       "    </tr>\n",
       "    <tr>\n",
       "      <th>38182</th>\n",
       "      <td>STP</td>\n",
       "      <td>Sao Tome and Principe</td>\n",
       "    </tr>\n",
       "    <tr>\n",
       "      <th>48595</th>\n",
       "      <td>ESH</td>\n",
       "      <td>Western Sahara</td>\n",
       "    </tr>\n",
       "  </tbody>\n",
       "</table>\n",
       "</div>"
      ],
      "text/plain": [
       "      CountryCode                    Country_Region\n",
       "1335          ATG               Antigua and Barbuda\n",
       "1869          ARM                           Armenia\n",
       "2937          BHS                           Bahamas\n",
       "14152         GNQ                 Equatorial Guinea\n",
       "17890         GRD                           Grenada\n",
       "18691         GNB                     Guinea-Bissau\n",
       "19492         VAT                          Holy See\n",
       "24031         XKS                            Kosovo\n",
       "26434         LIE                     Liechtenstein\n",
       "28036         MDV                          Maldives\n",
       "28570         MLT                             Malta\n",
       "29905         MCO                            Monaco\n",
       "30439         MNE                        Montenegro\n",
       "33109         MKD                   North Macedonia\n",
       "37114         KNA             Saint Kitts and Nevis\n",
       "37381         LCA                       Saint Lucia\n",
       "37648         VCT  Saint Vincent and the Grenadines\n",
       "38182         STP             Sao Tome and Principe\n",
       "48595         ESH                    Western Sahara"
      ]
     },
     "execution_count": 43,
     "metadata": {},
     "output_type": "execute_result"
    }
   ],
   "source": [
    "# finding What is not present in the stringency dataset\n",
    "full_grouped_ccode[~full_grouped_ccode['CountryCode'].isin(stringe_natio_dataset['CountryCode'])][['CountryCode', 'Country_Region']].drop_duplicates()"
   ]
  },
  {
   "cell_type": "code",
   "execution_count": 44,
   "metadata": {
    "id": "0rSdS7SJp5S3"
   },
   "outputs": [],
   "source": [
    "## We filtered out the countries above for joining with the covid dataset\n",
    "full_grouped_ccode_filtered = full_grouped_ccode[full_grouped_ccode['CountryCode'].isin(stringe_natio_dataset['CountryCode'])]"
   ]
  },
  {
   "cell_type": "code",
   "execution_count": 45,
   "metadata": {
    "colab": {
     "base_uri": "https://localhost:8080/",
     "height": 323
    },
    "id": "Z-Z9fvhDp5S6",
    "outputId": "6539175b-b46f-4686-9036-5d445534b8cc"
   },
   "outputs": [
    {
     "name": "stdout",
     "output_type": "stream",
     "text": [
      "<class 'pandas.core.frame.DataFrame'>\n",
      "Int64Index: 44589 entries, 0 to 49662\n",
      "Data columns (total 11 columns):\n",
      " #   Column          Non-Null Count  Dtype         \n",
      "---  ------          --------------  -----         \n",
      " 0   Country_Region  44589 non-null  object        \n",
      " 1   CountryCode     44589 non-null  object        \n",
      " 2   Population      44589 non-null  float64       \n",
      " 3   Date            44589 non-null  datetime64[ns]\n",
      " 4   Confirmed       44589 non-null  float64       \n",
      " 5   Deaths          44589 non-null  float64       \n",
      " 6   Recovered       44589 non-null  float64       \n",
      " 7   Active          44589 non-null  float64       \n",
      " 8   New_cases       44589 non-null  float64       \n",
      " 9   New_deaths      44589 non-null  float64       \n",
      " 10  New_recovered   44589 non-null  float64       \n",
      "dtypes: datetime64[ns](1), float64(8), object(2)\n",
      "memory usage: 4.1+ MB\n"
     ]
    }
   ],
   "source": [
    "full_grouped_ccode_filtered.info(verbose = True)"
   ]
  },
  {
   "cell_type": "markdown",
   "metadata": {
    "id": "elyc89vwp5S7"
   },
   "source": [
    "### Fixing the date format in the stringency dataset"
   ]
  },
  {
   "cell_type": "code",
   "execution_count": 46,
   "metadata": {
    "id": "_ztEKtK_p5S8"
   },
   "outputs": [],
   "source": [
    "#stringency_raw_dataset.info(verbose = True)\n",
    "stringe_natio_dataset['Date'] = pd.to_datetime(stringe_natio_dataset['Date'], format = '%Y%m%d')"
   ]
  },
  {
   "cell_type": "code",
   "execution_count": 47,
   "metadata": {
    "colab": {
     "base_uri": "https://localhost:8080/",
     "height": 204
    },
    "id": "HuwY5_Rvp5S-",
    "outputId": "fbe338f0-15b0-4a6e-f5af-53bf75eefc68"
   },
   "outputs": [
    {
     "name": "stdout",
     "output_type": "stream",
     "text": [
      "<class 'pandas.core.frame.DataFrame'>\n",
      "Int64Index: 54043 entries, 0 to 70226\n",
      "Data columns (total 4 columns):\n",
      " #   Column           Non-Null Count  Dtype         \n",
      "---  ------           --------------  -----         \n",
      " 0   Date             54043 non-null  datetime64[ns]\n",
      " 1   CountryCode      54043 non-null  object        \n",
      " 2   CountryName      54043 non-null  object        \n",
      " 3   StringencyIndex  52015 non-null  float64       \n",
      "dtypes: datetime64[ns](1), float64(1), object(2)\n",
      "memory usage: 2.1+ MB\n"
     ]
    }
   ],
   "source": [
    "stringe_natio_dataset.info(verbose = True)"
   ]
  },
  {
   "cell_type": "code",
   "execution_count": 48,
   "metadata": {
    "colab": {
     "base_uri": "https://localhost:8080/",
     "height": 419
    },
    "id": "NhYeL4gcVqqX",
    "outputId": "51e7b8bd-0066-4087-c733-8338914a07fd"
   },
   "outputs": [
    {
     "data": {
      "text/html": [
       "<div>\n",
       "<style scoped>\n",
       "    .dataframe tbody tr th:only-of-type {\n",
       "        vertical-align: middle;\n",
       "    }\n",
       "\n",
       "    .dataframe tbody tr th {\n",
       "        vertical-align: top;\n",
       "    }\n",
       "\n",
       "    .dataframe thead th {\n",
       "        text-align: right;\n",
       "    }\n",
       "</style>\n",
       "<table border=\"1\" class=\"dataframe\">\n",
       "  <thead>\n",
       "    <tr style=\"text-align: right;\">\n",
       "      <th></th>\n",
       "      <th>Date</th>\n",
       "      <th>CountryCode</th>\n",
       "      <th>CountryName</th>\n",
       "      <th>StringencyIndex</th>\n",
       "    </tr>\n",
       "  </thead>\n",
       "  <tbody>\n",
       "    <tr>\n",
       "      <th>0</th>\n",
       "      <td>2020-01-01</td>\n",
       "      <td>ABW</td>\n",
       "      <td>Aruba</td>\n",
       "      <td>0.00</td>\n",
       "    </tr>\n",
       "    <tr>\n",
       "      <th>1</th>\n",
       "      <td>2020-01-02</td>\n",
       "      <td>ABW</td>\n",
       "      <td>Aruba</td>\n",
       "      <td>0.00</td>\n",
       "    </tr>\n",
       "    <tr>\n",
       "      <th>2</th>\n",
       "      <td>2020-01-03</td>\n",
       "      <td>ABW</td>\n",
       "      <td>Aruba</td>\n",
       "      <td>0.00</td>\n",
       "    </tr>\n",
       "    <tr>\n",
       "      <th>3</th>\n",
       "      <td>2020-01-04</td>\n",
       "      <td>ABW</td>\n",
       "      <td>Aruba</td>\n",
       "      <td>0.00</td>\n",
       "    </tr>\n",
       "    <tr>\n",
       "      <th>4</th>\n",
       "      <td>2020-01-05</td>\n",
       "      <td>ABW</td>\n",
       "      <td>Aruba</td>\n",
       "      <td>0.00</td>\n",
       "    </tr>\n",
       "    <tr>\n",
       "      <th>...</th>\n",
       "      <td>...</td>\n",
       "      <td>...</td>\n",
       "      <td>...</td>\n",
       "      <td>...</td>\n",
       "    </tr>\n",
       "    <tr>\n",
       "      <th>70222</th>\n",
       "      <td>2020-10-11</td>\n",
       "      <td>ZWE</td>\n",
       "      <td>Zimbabwe</td>\n",
       "      <td>76.85</td>\n",
       "    </tr>\n",
       "    <tr>\n",
       "      <th>70223</th>\n",
       "      <td>2020-10-12</td>\n",
       "      <td>ZWE</td>\n",
       "      <td>Zimbabwe</td>\n",
       "      <td>76.85</td>\n",
       "    </tr>\n",
       "    <tr>\n",
       "      <th>70224</th>\n",
       "      <td>2020-10-13</td>\n",
       "      <td>ZWE</td>\n",
       "      <td>Zimbabwe</td>\n",
       "      <td>76.85</td>\n",
       "    </tr>\n",
       "    <tr>\n",
       "      <th>70225</th>\n",
       "      <td>2020-10-14</td>\n",
       "      <td>ZWE</td>\n",
       "      <td>Zimbabwe</td>\n",
       "      <td>NaN</td>\n",
       "    </tr>\n",
       "    <tr>\n",
       "      <th>70226</th>\n",
       "      <td>2020-10-15</td>\n",
       "      <td>ZWE</td>\n",
       "      <td>Zimbabwe</td>\n",
       "      <td>NaN</td>\n",
       "    </tr>\n",
       "  </tbody>\n",
       "</table>\n",
       "<p>54043 rows × 4 columns</p>\n",
       "</div>"
      ],
      "text/plain": [
       "            Date CountryCode CountryName  StringencyIndex\n",
       "0     2020-01-01         ABW       Aruba             0.00\n",
       "1     2020-01-02         ABW       Aruba             0.00\n",
       "2     2020-01-03         ABW       Aruba             0.00\n",
       "3     2020-01-04         ABW       Aruba             0.00\n",
       "4     2020-01-05         ABW       Aruba             0.00\n",
       "...          ...         ...         ...              ...\n",
       "70222 2020-10-11         ZWE    Zimbabwe            76.85\n",
       "70223 2020-10-12         ZWE    Zimbabwe            76.85\n",
       "70224 2020-10-13         ZWE    Zimbabwe            76.85\n",
       "70225 2020-10-14         ZWE    Zimbabwe              NaN\n",
       "70226 2020-10-15         ZWE    Zimbabwe              NaN\n",
       "\n",
       "[54043 rows x 4 columns]"
      ]
     },
     "execution_count": 48,
     "metadata": {},
     "output_type": "execute_result"
    }
   ],
   "source": [
    "stringe_natio_dataset"
   ]
  },
  {
   "cell_type": "markdown",
   "metadata": {
    "id": "rzokZI-DVqqg"
   },
   "source": [
    "### Create categories for Stringency index"
   ]
  },
  {
   "cell_type": "code",
   "execution_count": 49,
   "metadata": {
    "colab": {
     "base_uri": "https://localhost:8080/",
     "height": 419
    },
    "id": "rst1alssVqqh",
    "outputId": "8ab5698f-6427-4985-c605-a3801df44f11"
   },
   "outputs": [
    {
     "data": {
      "text/html": [
       "<div>\n",
       "<style scoped>\n",
       "    .dataframe tbody tr th:only-of-type {\n",
       "        vertical-align: middle;\n",
       "    }\n",
       "\n",
       "    .dataframe tbody tr th {\n",
       "        vertical-align: top;\n",
       "    }\n",
       "\n",
       "    .dataframe thead th {\n",
       "        text-align: right;\n",
       "    }\n",
       "</style>\n",
       "<table border=\"1\" class=\"dataframe\">\n",
       "  <thead>\n",
       "    <tr style=\"text-align: right;\">\n",
       "      <th></th>\n",
       "      <th>Date</th>\n",
       "      <th>CountryCode</th>\n",
       "      <th>CountryName</th>\n",
       "      <th>StringencyIndex</th>\n",
       "      <th>StringencyIndex_factor</th>\n",
       "    </tr>\n",
       "  </thead>\n",
       "  <tbody>\n",
       "    <tr>\n",
       "      <th>0</th>\n",
       "      <td>2020-01-01</td>\n",
       "      <td>ABW</td>\n",
       "      <td>Aruba</td>\n",
       "      <td>0.00</td>\n",
       "      <td>Very_low</td>\n",
       "    </tr>\n",
       "    <tr>\n",
       "      <th>1</th>\n",
       "      <td>2020-01-02</td>\n",
       "      <td>ABW</td>\n",
       "      <td>Aruba</td>\n",
       "      <td>0.00</td>\n",
       "      <td>Very_low</td>\n",
       "    </tr>\n",
       "    <tr>\n",
       "      <th>2</th>\n",
       "      <td>2020-01-03</td>\n",
       "      <td>ABW</td>\n",
       "      <td>Aruba</td>\n",
       "      <td>0.00</td>\n",
       "      <td>Very_low</td>\n",
       "    </tr>\n",
       "    <tr>\n",
       "      <th>3</th>\n",
       "      <td>2020-01-04</td>\n",
       "      <td>ABW</td>\n",
       "      <td>Aruba</td>\n",
       "      <td>0.00</td>\n",
       "      <td>Very_low</td>\n",
       "    </tr>\n",
       "    <tr>\n",
       "      <th>4</th>\n",
       "      <td>2020-01-05</td>\n",
       "      <td>ABW</td>\n",
       "      <td>Aruba</td>\n",
       "      <td>0.00</td>\n",
       "      <td>Very_low</td>\n",
       "    </tr>\n",
       "    <tr>\n",
       "      <th>...</th>\n",
       "      <td>...</td>\n",
       "      <td>...</td>\n",
       "      <td>...</td>\n",
       "      <td>...</td>\n",
       "      <td>...</td>\n",
       "    </tr>\n",
       "    <tr>\n",
       "      <th>70222</th>\n",
       "      <td>2020-10-11</td>\n",
       "      <td>ZWE</td>\n",
       "      <td>Zimbabwe</td>\n",
       "      <td>76.85</td>\n",
       "      <td>High</td>\n",
       "    </tr>\n",
       "    <tr>\n",
       "      <th>70223</th>\n",
       "      <td>2020-10-12</td>\n",
       "      <td>ZWE</td>\n",
       "      <td>Zimbabwe</td>\n",
       "      <td>76.85</td>\n",
       "      <td>High</td>\n",
       "    </tr>\n",
       "    <tr>\n",
       "      <th>70224</th>\n",
       "      <td>2020-10-13</td>\n",
       "      <td>ZWE</td>\n",
       "      <td>Zimbabwe</td>\n",
       "      <td>76.85</td>\n",
       "      <td>High</td>\n",
       "    </tr>\n",
       "    <tr>\n",
       "      <th>70225</th>\n",
       "      <td>2020-10-14</td>\n",
       "      <td>ZWE</td>\n",
       "      <td>Zimbabwe</td>\n",
       "      <td>NaN</td>\n",
       "      <td>unknown</td>\n",
       "    </tr>\n",
       "    <tr>\n",
       "      <th>70226</th>\n",
       "      <td>2020-10-15</td>\n",
       "      <td>ZWE</td>\n",
       "      <td>Zimbabwe</td>\n",
       "      <td>NaN</td>\n",
       "      <td>unknown</td>\n",
       "    </tr>\n",
       "  </tbody>\n",
       "</table>\n",
       "<p>54043 rows × 5 columns</p>\n",
       "</div>"
      ],
      "text/plain": [
       "            Date CountryCode CountryName  StringencyIndex  \\\n",
       "0     2020-01-01         ABW       Aruba             0.00   \n",
       "1     2020-01-02         ABW       Aruba             0.00   \n",
       "2     2020-01-03         ABW       Aruba             0.00   \n",
       "3     2020-01-04         ABW       Aruba             0.00   \n",
       "4     2020-01-05         ABW       Aruba             0.00   \n",
       "...          ...         ...         ...              ...   \n",
       "70222 2020-10-11         ZWE    Zimbabwe            76.85   \n",
       "70223 2020-10-12         ZWE    Zimbabwe            76.85   \n",
       "70224 2020-10-13         ZWE    Zimbabwe            76.85   \n",
       "70225 2020-10-14         ZWE    Zimbabwe              NaN   \n",
       "70226 2020-10-15         ZWE    Zimbabwe              NaN   \n",
       "\n",
       "      StringencyIndex_factor  \n",
       "0                   Very_low  \n",
       "1                   Very_low  \n",
       "2                   Very_low  \n",
       "3                   Very_low  \n",
       "4                   Very_low  \n",
       "...                      ...  \n",
       "70222                   High  \n",
       "70223                   High  \n",
       "70224                   High  \n",
       "70225                unknown  \n",
       "70226                unknown  \n",
       "\n",
       "[54043 rows x 5 columns]"
      ]
     },
     "execution_count": 49,
     "metadata": {},
     "output_type": "execute_result"
    }
   ],
   "source": [
    "condition1 = (stringe_natio_dataset[\"StringencyIndex\"] >= 0) & (stringe_natio_dataset[\"StringencyIndex\"] <= 20)\n",
    "condition2 = (stringe_natio_dataset[\"StringencyIndex\"] > 20) & (stringe_natio_dataset[\"StringencyIndex\"] <= 40)\n",
    "condition3 = (stringe_natio_dataset[\"StringencyIndex\"] > 40) & (stringe_natio_dataset[\"StringencyIndex\"] <= 60)\n",
    "condition4 = (stringe_natio_dataset[\"StringencyIndex\"] > 60) & (stringe_natio_dataset[\"StringencyIndex\"] <= 80)\n",
    "condition5 = (stringe_natio_dataset[\"StringencyIndex\"] > 80) & (stringe_natio_dataset[\"StringencyIndex\"] <= 100)\n",
    "\n",
    "case1 = \"Very_low\"\n",
    "case2 = \"Low\"\n",
    "case3 = \"Middle\"\n",
    "case4 = \"High\"\n",
    "case5 = \"Very_high\"\n",
    "\n",
    "\n",
    "stringe_natio_dataset[\"StringencyIndex_factor\"] = np.where(condition1, case1, \n",
    "                                                    np.where(condition2, case2, \n",
    "                                                            np.where(condition3, case3,\n",
    "                                                                    np.where(condition3, case3,\n",
    "                                                                            np.where(condition4, case4,\n",
    "                                                                                    np.where(condition5, case5,\n",
    "                                                                                            \"unknown\"))))))\n",
    "stringe_natio_dataset"
   ]
  },
  {
   "cell_type": "markdown",
   "metadata": {
    "id": "AlrhZGj5p5TB"
   },
   "source": [
    "# 3. Joining Covid cases with Stringency index data \n",
    "Join the covid dataset with the stringency dataset and transfrm the final df in a timeseries"
   ]
  },
  {
   "cell_type": "code",
   "execution_count": 50,
   "metadata": {
    "colab": {
     "base_uri": "https://localhost:8080/",
     "height": 357
    },
    "id": "lwrWcwsMp5TG",
    "outputId": "13337d29-c105-4c79-8ccd-92118ff882c7"
   },
   "outputs": [
    {
     "name": "stdout",
     "output_type": "stream",
     "text": [
      "<class 'pandas.core.frame.DataFrame'>\n",
      "Int64Index: 44589 entries, 0 to 44588\n",
      "Data columns (total 13 columns):\n",
      " #   Column                  Non-Null Count  Dtype         \n",
      "---  ------                  --------------  -----         \n",
      " 0   Date                    44589 non-null  datetime64[ns]\n",
      " 1   CountryCode             44589 non-null  object        \n",
      " 2   StringencyIndex         43484 non-null  float64       \n",
      " 3   StringencyIndex_factor  44589 non-null  object        \n",
      " 4   Country_Region          44589 non-null  object        \n",
      " 5   Population              44589 non-null  float64       \n",
      " 6   Confirmed               44589 non-null  float64       \n",
      " 7   Deaths                  44589 non-null  float64       \n",
      " 8   Recovered               44589 non-null  float64       \n",
      " 9   Active                  44589 non-null  float64       \n",
      " 10  New_cases               44589 non-null  float64       \n",
      " 11  New_deaths              44589 non-null  float64       \n",
      " 12  New_recovered           44589 non-null  float64       \n",
      "dtypes: datetime64[ns](1), float64(9), object(3)\n",
      "memory usage: 4.8+ MB\n"
     ]
    }
   ],
   "source": [
    "my_complete_df = pd.merge(stringe_natio_dataset[['Date', 'CountryCode','StringencyIndex', 'StringencyIndex_factor']], # selecting only the variables to join\n",
    "                          full_grouped_ccode_filtered)\n",
    "\n",
    "my_complete_df.info(verbose = True)"
   ]
  },
  {
   "cell_type": "code",
   "execution_count": 51,
   "metadata": {
    "id": "gpWNCGu_p5TL"
   },
   "outputs": [],
   "source": [
    "my_complete_df.set_index('Date', inplace = True)"
   ]
  },
  {
   "cell_type": "code",
   "execution_count": 52,
   "metadata": {
    "colab": {
     "base_uri": "https://localhost:8080/",
     "height": 640
    },
    "id": "WyIZkmEY9LPH",
    "outputId": "746d8f08-6911-425f-c20d-a811bda85bca"
   },
   "outputs": [
    {
     "data": {
      "text/html": [
       "<div>\n",
       "<style scoped>\n",
       "    .dataframe tbody tr th:only-of-type {\n",
       "        vertical-align: middle;\n",
       "    }\n",
       "\n",
       "    .dataframe tbody tr th {\n",
       "        vertical-align: top;\n",
       "    }\n",
       "\n",
       "    .dataframe thead th {\n",
       "        text-align: right;\n",
       "    }\n",
       "</style>\n",
       "<table border=\"1\" class=\"dataframe\">\n",
       "  <thead>\n",
       "    <tr style=\"text-align: right;\">\n",
       "      <th></th>\n",
       "      <th>CountryCode</th>\n",
       "      <th>StringencyIndex</th>\n",
       "      <th>StringencyIndex_factor</th>\n",
       "      <th>Country_Region</th>\n",
       "      <th>Population</th>\n",
       "      <th>Confirmed</th>\n",
       "      <th>Deaths</th>\n",
       "      <th>Recovered</th>\n",
       "      <th>Active</th>\n",
       "      <th>New_cases</th>\n",
       "      <th>New_deaths</th>\n",
       "      <th>New_recovered</th>\n",
       "    </tr>\n",
       "    <tr>\n",
       "      <th>Date</th>\n",
       "      <th></th>\n",
       "      <th></th>\n",
       "      <th></th>\n",
       "      <th></th>\n",
       "      <th></th>\n",
       "      <th></th>\n",
       "      <th></th>\n",
       "      <th></th>\n",
       "      <th></th>\n",
       "      <th></th>\n",
       "      <th></th>\n",
       "      <th></th>\n",
       "    </tr>\n",
       "  </thead>\n",
       "  <tbody>\n",
       "    <tr>\n",
       "      <th>2020-01-22</th>\n",
       "      <td>AFG</td>\n",
       "      <td>0.00</td>\n",
       "      <td>Very_low</td>\n",
       "      <td>Afghanistan</td>\n",
       "      <td>38928341.0</td>\n",
       "      <td>0.0</td>\n",
       "      <td>0.0</td>\n",
       "      <td>0.0</td>\n",
       "      <td>0.0</td>\n",
       "      <td>0.0</td>\n",
       "      <td>0.0</td>\n",
       "      <td>0.0</td>\n",
       "    </tr>\n",
       "    <tr>\n",
       "      <th>2020-01-23</th>\n",
       "      <td>AFG</td>\n",
       "      <td>0.00</td>\n",
       "      <td>Very_low</td>\n",
       "      <td>Afghanistan</td>\n",
       "      <td>38928341.0</td>\n",
       "      <td>0.0</td>\n",
       "      <td>0.0</td>\n",
       "      <td>0.0</td>\n",
       "      <td>0.0</td>\n",
       "      <td>0.0</td>\n",
       "      <td>0.0</td>\n",
       "      <td>0.0</td>\n",
       "    </tr>\n",
       "    <tr>\n",
       "      <th>2020-01-24</th>\n",
       "      <td>AFG</td>\n",
       "      <td>0.00</td>\n",
       "      <td>Very_low</td>\n",
       "      <td>Afghanistan</td>\n",
       "      <td>38928341.0</td>\n",
       "      <td>0.0</td>\n",
       "      <td>0.0</td>\n",
       "      <td>0.0</td>\n",
       "      <td>0.0</td>\n",
       "      <td>0.0</td>\n",
       "      <td>0.0</td>\n",
       "      <td>0.0</td>\n",
       "    </tr>\n",
       "    <tr>\n",
       "      <th>2020-01-25</th>\n",
       "      <td>AFG</td>\n",
       "      <td>0.00</td>\n",
       "      <td>Very_low</td>\n",
       "      <td>Afghanistan</td>\n",
       "      <td>38928341.0</td>\n",
       "      <td>0.0</td>\n",
       "      <td>0.0</td>\n",
       "      <td>0.0</td>\n",
       "      <td>0.0</td>\n",
       "      <td>0.0</td>\n",
       "      <td>0.0</td>\n",
       "      <td>0.0</td>\n",
       "    </tr>\n",
       "    <tr>\n",
       "      <th>2020-01-26</th>\n",
       "      <td>AFG</td>\n",
       "      <td>0.00</td>\n",
       "      <td>Very_low</td>\n",
       "      <td>Afghanistan</td>\n",
       "      <td>38928341.0</td>\n",
       "      <td>0.0</td>\n",
       "      <td>0.0</td>\n",
       "      <td>0.0</td>\n",
       "      <td>0.0</td>\n",
       "      <td>0.0</td>\n",
       "      <td>0.0</td>\n",
       "      <td>0.0</td>\n",
       "    </tr>\n",
       "    <tr>\n",
       "      <th>...</th>\n",
       "      <td>...</td>\n",
       "      <td>...</td>\n",
       "      <td>...</td>\n",
       "      <td>...</td>\n",
       "      <td>...</td>\n",
       "      <td>...</td>\n",
       "      <td>...</td>\n",
       "      <td>...</td>\n",
       "      <td>...</td>\n",
       "      <td>...</td>\n",
       "      <td>...</td>\n",
       "      <td>...</td>\n",
       "    </tr>\n",
       "    <tr>\n",
       "      <th>2020-10-10</th>\n",
       "      <td>ZWE</td>\n",
       "      <td>76.85</td>\n",
       "      <td>High</td>\n",
       "      <td>Zimbabwe</td>\n",
       "      <td>14862927.0</td>\n",
       "      <td>8010.0</td>\n",
       "      <td>230.0</td>\n",
       "      <td>6492.0</td>\n",
       "      <td>1288.0</td>\n",
       "      <td>16.0</td>\n",
       "      <td>1.0</td>\n",
       "      <td>18.0</td>\n",
       "    </tr>\n",
       "    <tr>\n",
       "      <th>2020-10-11</th>\n",
       "      <td>ZWE</td>\n",
       "      <td>76.85</td>\n",
       "      <td>High</td>\n",
       "      <td>Zimbabwe</td>\n",
       "      <td>14862927.0</td>\n",
       "      <td>8011.0</td>\n",
       "      <td>230.0</td>\n",
       "      <td>6504.0</td>\n",
       "      <td>1277.0</td>\n",
       "      <td>1.0</td>\n",
       "      <td>0.0</td>\n",
       "      <td>12.0</td>\n",
       "    </tr>\n",
       "    <tr>\n",
       "      <th>2020-10-12</th>\n",
       "      <td>ZWE</td>\n",
       "      <td>76.85</td>\n",
       "      <td>High</td>\n",
       "      <td>Zimbabwe</td>\n",
       "      <td>14862927.0</td>\n",
       "      <td>8021.0</td>\n",
       "      <td>230.0</td>\n",
       "      <td>7627.0</td>\n",
       "      <td>164.0</td>\n",
       "      <td>10.0</td>\n",
       "      <td>0.0</td>\n",
       "      <td>1123.0</td>\n",
       "    </tr>\n",
       "    <tr>\n",
       "      <th>2020-10-13</th>\n",
       "      <td>ZWE</td>\n",
       "      <td>76.85</td>\n",
       "      <td>High</td>\n",
       "      <td>Zimbabwe</td>\n",
       "      <td>14862927.0</td>\n",
       "      <td>8036.0</td>\n",
       "      <td>230.0</td>\n",
       "      <td>7632.0</td>\n",
       "      <td>174.0</td>\n",
       "      <td>15.0</td>\n",
       "      <td>0.0</td>\n",
       "      <td>5.0</td>\n",
       "    </tr>\n",
       "    <tr>\n",
       "      <th>2020-10-14</th>\n",
       "      <td>ZWE</td>\n",
       "      <td>NaN</td>\n",
       "      <td>unknown</td>\n",
       "      <td>Zimbabwe</td>\n",
       "      <td>14862927.0</td>\n",
       "      <td>8055.0</td>\n",
       "      <td>231.0</td>\n",
       "      <td>7640.0</td>\n",
       "      <td>184.0</td>\n",
       "      <td>19.0</td>\n",
       "      <td>1.0</td>\n",
       "      <td>8.0</td>\n",
       "    </tr>\n",
       "  </tbody>\n",
       "</table>\n",
       "<p>44589 rows × 12 columns</p>\n",
       "</div>"
      ],
      "text/plain": [
       "           CountryCode  StringencyIndex StringencyIndex_factor Country_Region  \\\n",
       "Date                                                                            \n",
       "2020-01-22         AFG             0.00               Very_low    Afghanistan   \n",
       "2020-01-23         AFG             0.00               Very_low    Afghanistan   \n",
       "2020-01-24         AFG             0.00               Very_low    Afghanistan   \n",
       "2020-01-25         AFG             0.00               Very_low    Afghanistan   \n",
       "2020-01-26         AFG             0.00               Very_low    Afghanistan   \n",
       "...                ...              ...                    ...            ...   \n",
       "2020-10-10         ZWE            76.85                   High       Zimbabwe   \n",
       "2020-10-11         ZWE            76.85                   High       Zimbabwe   \n",
       "2020-10-12         ZWE            76.85                   High       Zimbabwe   \n",
       "2020-10-13         ZWE            76.85                   High       Zimbabwe   \n",
       "2020-10-14         ZWE              NaN                unknown       Zimbabwe   \n",
       "\n",
       "            Population  Confirmed  Deaths  Recovered  Active  New_cases  \\\n",
       "Date                                                                      \n",
       "2020-01-22  38928341.0        0.0     0.0        0.0     0.0        0.0   \n",
       "2020-01-23  38928341.0        0.0     0.0        0.0     0.0        0.0   \n",
       "2020-01-24  38928341.0        0.0     0.0        0.0     0.0        0.0   \n",
       "2020-01-25  38928341.0        0.0     0.0        0.0     0.0        0.0   \n",
       "2020-01-26  38928341.0        0.0     0.0        0.0     0.0        0.0   \n",
       "...                ...        ...     ...        ...     ...        ...   \n",
       "2020-10-10  14862927.0     8010.0   230.0     6492.0  1288.0       16.0   \n",
       "2020-10-11  14862927.0     8011.0   230.0     6504.0  1277.0        1.0   \n",
       "2020-10-12  14862927.0     8021.0   230.0     7627.0   164.0       10.0   \n",
       "2020-10-13  14862927.0     8036.0   230.0     7632.0   174.0       15.0   \n",
       "2020-10-14  14862927.0     8055.0   231.0     7640.0   184.0       19.0   \n",
       "\n",
       "            New_deaths  New_recovered  \n",
       "Date                                   \n",
       "2020-01-22         0.0            0.0  \n",
       "2020-01-23         0.0            0.0  \n",
       "2020-01-24         0.0            0.0  \n",
       "2020-01-25         0.0            0.0  \n",
       "2020-01-26         0.0            0.0  \n",
       "...                ...            ...  \n",
       "2020-10-10         1.0           18.0  \n",
       "2020-10-11         0.0           12.0  \n",
       "2020-10-12         0.0         1123.0  \n",
       "2020-10-13         0.0            5.0  \n",
       "2020-10-14         1.0            8.0  \n",
       "\n",
       "[44589 rows x 12 columns]"
      ]
     },
     "execution_count": 52,
     "metadata": {},
     "output_type": "execute_result"
    }
   ],
   "source": [
    "my_complete_df"
   ]
  },
  {
   "cell_type": "markdown",
   "metadata": {
    "id": "kzVZMFdw9LPP"
   },
   "source": [
    "## Normalize the variables on all cases by 100.000 people per country"
   ]
  },
  {
   "cell_type": "code",
   "execution_count": 53,
   "metadata": {
    "colab": {
     "base_uri": "https://localhost:8080/",
     "height": 640
    },
    "id": "oFt_DnX29LPh",
    "outputId": "3d049820-406c-4fbb-dcc0-bee780bd9cb7"
   },
   "outputs": [
    {
     "data": {
      "text/html": [
       "<div>\n",
       "<style scoped>\n",
       "    .dataframe tbody tr th:only-of-type {\n",
       "        vertical-align: middle;\n",
       "    }\n",
       "\n",
       "    .dataframe tbody tr th {\n",
       "        vertical-align: top;\n",
       "    }\n",
       "\n",
       "    .dataframe thead th {\n",
       "        text-align: right;\n",
       "    }\n",
       "</style>\n",
       "<table border=\"1\" class=\"dataframe\">\n",
       "  <thead>\n",
       "    <tr style=\"text-align: right;\">\n",
       "      <th></th>\n",
       "      <th>CountryCode</th>\n",
       "      <th>StringencyIndex</th>\n",
       "      <th>StringencyIndex_factor</th>\n",
       "      <th>Country_Region</th>\n",
       "      <th>Population</th>\n",
       "      <th>Confirmed</th>\n",
       "      <th>Deaths</th>\n",
       "      <th>Recovered</th>\n",
       "      <th>Active</th>\n",
       "      <th>New_cases</th>\n",
       "      <th>New_deaths</th>\n",
       "      <th>New_recovered</th>\n",
       "      <th>Confirmed_100K</th>\n",
       "      <th>Deaths_100K</th>\n",
       "      <th>Recovered_100K</th>\n",
       "      <th>Active_100K</th>\n",
       "      <th>New_cases_100K</th>\n",
       "      <th>New_deaths_100K</th>\n",
       "      <th>New_recovered_100K</th>\n",
       "    </tr>\n",
       "    <tr>\n",
       "      <th>Date</th>\n",
       "      <th></th>\n",
       "      <th></th>\n",
       "      <th></th>\n",
       "      <th></th>\n",
       "      <th></th>\n",
       "      <th></th>\n",
       "      <th></th>\n",
       "      <th></th>\n",
       "      <th></th>\n",
       "      <th></th>\n",
       "      <th></th>\n",
       "      <th></th>\n",
       "      <th></th>\n",
       "      <th></th>\n",
       "      <th></th>\n",
       "      <th></th>\n",
       "      <th></th>\n",
       "      <th></th>\n",
       "      <th></th>\n",
       "    </tr>\n",
       "  </thead>\n",
       "  <tbody>\n",
       "    <tr>\n",
       "      <th>2020-01-22</th>\n",
       "      <td>AFG</td>\n",
       "      <td>0.00</td>\n",
       "      <td>Very_low</td>\n",
       "      <td>Afghanistan</td>\n",
       "      <td>38928341.0</td>\n",
       "      <td>0.0</td>\n",
       "      <td>0.0</td>\n",
       "      <td>0.0</td>\n",
       "      <td>0.0</td>\n",
       "      <td>0.0</td>\n",
       "      <td>0.0</td>\n",
       "      <td>0.0</td>\n",
       "      <td>0.000000</td>\n",
       "      <td>0.000000</td>\n",
       "      <td>0.000000</td>\n",
       "      <td>0.000000</td>\n",
       "      <td>0.000000</td>\n",
       "      <td>0.000000</td>\n",
       "      <td>0.000000</td>\n",
       "    </tr>\n",
       "    <tr>\n",
       "      <th>2020-01-23</th>\n",
       "      <td>AFG</td>\n",
       "      <td>0.00</td>\n",
       "      <td>Very_low</td>\n",
       "      <td>Afghanistan</td>\n",
       "      <td>38928341.0</td>\n",
       "      <td>0.0</td>\n",
       "      <td>0.0</td>\n",
       "      <td>0.0</td>\n",
       "      <td>0.0</td>\n",
       "      <td>0.0</td>\n",
       "      <td>0.0</td>\n",
       "      <td>0.0</td>\n",
       "      <td>0.000000</td>\n",
       "      <td>0.000000</td>\n",
       "      <td>0.000000</td>\n",
       "      <td>0.000000</td>\n",
       "      <td>0.000000</td>\n",
       "      <td>0.000000</td>\n",
       "      <td>0.000000</td>\n",
       "    </tr>\n",
       "    <tr>\n",
       "      <th>2020-01-24</th>\n",
       "      <td>AFG</td>\n",
       "      <td>0.00</td>\n",
       "      <td>Very_low</td>\n",
       "      <td>Afghanistan</td>\n",
       "      <td>38928341.0</td>\n",
       "      <td>0.0</td>\n",
       "      <td>0.0</td>\n",
       "      <td>0.0</td>\n",
       "      <td>0.0</td>\n",
       "      <td>0.0</td>\n",
       "      <td>0.0</td>\n",
       "      <td>0.0</td>\n",
       "      <td>0.000000</td>\n",
       "      <td>0.000000</td>\n",
       "      <td>0.000000</td>\n",
       "      <td>0.000000</td>\n",
       "      <td>0.000000</td>\n",
       "      <td>0.000000</td>\n",
       "      <td>0.000000</td>\n",
       "    </tr>\n",
       "    <tr>\n",
       "      <th>2020-01-25</th>\n",
       "      <td>AFG</td>\n",
       "      <td>0.00</td>\n",
       "      <td>Very_low</td>\n",
       "      <td>Afghanistan</td>\n",
       "      <td>38928341.0</td>\n",
       "      <td>0.0</td>\n",
       "      <td>0.0</td>\n",
       "      <td>0.0</td>\n",
       "      <td>0.0</td>\n",
       "      <td>0.0</td>\n",
       "      <td>0.0</td>\n",
       "      <td>0.0</td>\n",
       "      <td>0.000000</td>\n",
       "      <td>0.000000</td>\n",
       "      <td>0.000000</td>\n",
       "      <td>0.000000</td>\n",
       "      <td>0.000000</td>\n",
       "      <td>0.000000</td>\n",
       "      <td>0.000000</td>\n",
       "    </tr>\n",
       "    <tr>\n",
       "      <th>2020-01-26</th>\n",
       "      <td>AFG</td>\n",
       "      <td>0.00</td>\n",
       "      <td>Very_low</td>\n",
       "      <td>Afghanistan</td>\n",
       "      <td>38928341.0</td>\n",
       "      <td>0.0</td>\n",
       "      <td>0.0</td>\n",
       "      <td>0.0</td>\n",
       "      <td>0.0</td>\n",
       "      <td>0.0</td>\n",
       "      <td>0.0</td>\n",
       "      <td>0.0</td>\n",
       "      <td>0.000000</td>\n",
       "      <td>0.000000</td>\n",
       "      <td>0.000000</td>\n",
       "      <td>0.000000</td>\n",
       "      <td>0.000000</td>\n",
       "      <td>0.000000</td>\n",
       "      <td>0.000000</td>\n",
       "    </tr>\n",
       "    <tr>\n",
       "      <th>...</th>\n",
       "      <td>...</td>\n",
       "      <td>...</td>\n",
       "      <td>...</td>\n",
       "      <td>...</td>\n",
       "      <td>...</td>\n",
       "      <td>...</td>\n",
       "      <td>...</td>\n",
       "      <td>...</td>\n",
       "      <td>...</td>\n",
       "      <td>...</td>\n",
       "      <td>...</td>\n",
       "      <td>...</td>\n",
       "      <td>...</td>\n",
       "      <td>...</td>\n",
       "      <td>...</td>\n",
       "      <td>...</td>\n",
       "      <td>...</td>\n",
       "      <td>...</td>\n",
       "      <td>...</td>\n",
       "    </tr>\n",
       "    <tr>\n",
       "      <th>2020-10-10</th>\n",
       "      <td>ZWE</td>\n",
       "      <td>76.85</td>\n",
       "      <td>High</td>\n",
       "      <td>Zimbabwe</td>\n",
       "      <td>14862927.0</td>\n",
       "      <td>8010.0</td>\n",
       "      <td>230.0</td>\n",
       "      <td>6492.0</td>\n",
       "      <td>1288.0</td>\n",
       "      <td>16.0</td>\n",
       "      <td>1.0</td>\n",
       "      <td>18.0</td>\n",
       "      <td>53.892480</td>\n",
       "      <td>1.547474</td>\n",
       "      <td>43.679149</td>\n",
       "      <td>8.665857</td>\n",
       "      <td>0.107650</td>\n",
       "      <td>0.006728</td>\n",
       "      <td>0.121107</td>\n",
       "    </tr>\n",
       "    <tr>\n",
       "      <th>2020-10-11</th>\n",
       "      <td>ZWE</td>\n",
       "      <td>76.85</td>\n",
       "      <td>High</td>\n",
       "      <td>Zimbabwe</td>\n",
       "      <td>14862927.0</td>\n",
       "      <td>8011.0</td>\n",
       "      <td>230.0</td>\n",
       "      <td>6504.0</td>\n",
       "      <td>1277.0</td>\n",
       "      <td>1.0</td>\n",
       "      <td>0.0</td>\n",
       "      <td>12.0</td>\n",
       "      <td>53.899208</td>\n",
       "      <td>1.547474</td>\n",
       "      <td>43.759887</td>\n",
       "      <td>8.591847</td>\n",
       "      <td>0.006728</td>\n",
       "      <td>0.000000</td>\n",
       "      <td>0.080738</td>\n",
       "    </tr>\n",
       "    <tr>\n",
       "      <th>2020-10-12</th>\n",
       "      <td>ZWE</td>\n",
       "      <td>76.85</td>\n",
       "      <td>High</td>\n",
       "      <td>Zimbabwe</td>\n",
       "      <td>14862927.0</td>\n",
       "      <td>8021.0</td>\n",
       "      <td>230.0</td>\n",
       "      <td>7627.0</td>\n",
       "      <td>164.0</td>\n",
       "      <td>10.0</td>\n",
       "      <td>0.0</td>\n",
       "      <td>1123.0</td>\n",
       "      <td>53.966490</td>\n",
       "      <td>1.547474</td>\n",
       "      <td>51.315599</td>\n",
       "      <td>1.103417</td>\n",
       "      <td>0.067281</td>\n",
       "      <td>0.000000</td>\n",
       "      <td>7.555712</td>\n",
       "    </tr>\n",
       "    <tr>\n",
       "      <th>2020-10-13</th>\n",
       "      <td>ZWE</td>\n",
       "      <td>76.85</td>\n",
       "      <td>High</td>\n",
       "      <td>Zimbabwe</td>\n",
       "      <td>14862927.0</td>\n",
       "      <td>8036.0</td>\n",
       "      <td>230.0</td>\n",
       "      <td>7632.0</td>\n",
       "      <td>174.0</td>\n",
       "      <td>15.0</td>\n",
       "      <td>0.0</td>\n",
       "      <td>5.0</td>\n",
       "      <td>54.067412</td>\n",
       "      <td>1.547474</td>\n",
       "      <td>51.349240</td>\n",
       "      <td>1.170698</td>\n",
       "      <td>0.100922</td>\n",
       "      <td>0.000000</td>\n",
       "      <td>0.033641</td>\n",
       "    </tr>\n",
       "    <tr>\n",
       "      <th>2020-10-14</th>\n",
       "      <td>ZWE</td>\n",
       "      <td>NaN</td>\n",
       "      <td>unknown</td>\n",
       "      <td>Zimbabwe</td>\n",
       "      <td>14862927.0</td>\n",
       "      <td>8055.0</td>\n",
       "      <td>231.0</td>\n",
       "      <td>7640.0</td>\n",
       "      <td>184.0</td>\n",
       "      <td>19.0</td>\n",
       "      <td>1.0</td>\n",
       "      <td>8.0</td>\n",
       "      <td>54.195247</td>\n",
       "      <td>1.554203</td>\n",
       "      <td>51.403065</td>\n",
       "      <td>1.237980</td>\n",
       "      <td>0.127835</td>\n",
       "      <td>0.006728</td>\n",
       "      <td>0.053825</td>\n",
       "    </tr>\n",
       "  </tbody>\n",
       "</table>\n",
       "<p>44589 rows × 19 columns</p>\n",
       "</div>"
      ],
      "text/plain": [
       "           CountryCode  StringencyIndex StringencyIndex_factor Country_Region  \\\n",
       "Date                                                                            \n",
       "2020-01-22         AFG             0.00               Very_low    Afghanistan   \n",
       "2020-01-23         AFG             0.00               Very_low    Afghanistan   \n",
       "2020-01-24         AFG             0.00               Very_low    Afghanistan   \n",
       "2020-01-25         AFG             0.00               Very_low    Afghanistan   \n",
       "2020-01-26         AFG             0.00               Very_low    Afghanistan   \n",
       "...                ...              ...                    ...            ...   \n",
       "2020-10-10         ZWE            76.85                   High       Zimbabwe   \n",
       "2020-10-11         ZWE            76.85                   High       Zimbabwe   \n",
       "2020-10-12         ZWE            76.85                   High       Zimbabwe   \n",
       "2020-10-13         ZWE            76.85                   High       Zimbabwe   \n",
       "2020-10-14         ZWE              NaN                unknown       Zimbabwe   \n",
       "\n",
       "            Population  Confirmed  Deaths  Recovered  Active  New_cases  \\\n",
       "Date                                                                      \n",
       "2020-01-22  38928341.0        0.0     0.0        0.0     0.0        0.0   \n",
       "2020-01-23  38928341.0        0.0     0.0        0.0     0.0        0.0   \n",
       "2020-01-24  38928341.0        0.0     0.0        0.0     0.0        0.0   \n",
       "2020-01-25  38928341.0        0.0     0.0        0.0     0.0        0.0   \n",
       "2020-01-26  38928341.0        0.0     0.0        0.0     0.0        0.0   \n",
       "...                ...        ...     ...        ...     ...        ...   \n",
       "2020-10-10  14862927.0     8010.0   230.0     6492.0  1288.0       16.0   \n",
       "2020-10-11  14862927.0     8011.0   230.0     6504.0  1277.0        1.0   \n",
       "2020-10-12  14862927.0     8021.0   230.0     7627.0   164.0       10.0   \n",
       "2020-10-13  14862927.0     8036.0   230.0     7632.0   174.0       15.0   \n",
       "2020-10-14  14862927.0     8055.0   231.0     7640.0   184.0       19.0   \n",
       "\n",
       "            New_deaths  New_recovered  Confirmed_100K  Deaths_100K  \\\n",
       "Date                                                                 \n",
       "2020-01-22         0.0            0.0        0.000000     0.000000   \n",
       "2020-01-23         0.0            0.0        0.000000     0.000000   \n",
       "2020-01-24         0.0            0.0        0.000000     0.000000   \n",
       "2020-01-25         0.0            0.0        0.000000     0.000000   \n",
       "2020-01-26         0.0            0.0        0.000000     0.000000   \n",
       "...                ...            ...             ...          ...   \n",
       "2020-10-10         1.0           18.0       53.892480     1.547474   \n",
       "2020-10-11         0.0           12.0       53.899208     1.547474   \n",
       "2020-10-12         0.0         1123.0       53.966490     1.547474   \n",
       "2020-10-13         0.0            5.0       54.067412     1.547474   \n",
       "2020-10-14         1.0            8.0       54.195247     1.554203   \n",
       "\n",
       "            Recovered_100K  Active_100K  New_cases_100K  New_deaths_100K  \\\n",
       "Date                                                                       \n",
       "2020-01-22        0.000000     0.000000        0.000000         0.000000   \n",
       "2020-01-23        0.000000     0.000000        0.000000         0.000000   \n",
       "2020-01-24        0.000000     0.000000        0.000000         0.000000   \n",
       "2020-01-25        0.000000     0.000000        0.000000         0.000000   \n",
       "2020-01-26        0.000000     0.000000        0.000000         0.000000   \n",
       "...                    ...          ...             ...              ...   \n",
       "2020-10-10       43.679149     8.665857        0.107650         0.006728   \n",
       "2020-10-11       43.759887     8.591847        0.006728         0.000000   \n",
       "2020-10-12       51.315599     1.103417        0.067281         0.000000   \n",
       "2020-10-13       51.349240     1.170698        0.100922         0.000000   \n",
       "2020-10-14       51.403065     1.237980        0.127835         0.006728   \n",
       "\n",
       "            New_recovered_100K  \n",
       "Date                            \n",
       "2020-01-22            0.000000  \n",
       "2020-01-23            0.000000  \n",
       "2020-01-24            0.000000  \n",
       "2020-01-25            0.000000  \n",
       "2020-01-26            0.000000  \n",
       "...                        ...  \n",
       "2020-10-10            0.121107  \n",
       "2020-10-11            0.080738  \n",
       "2020-10-12            7.555712  \n",
       "2020-10-13            0.033641  \n",
       "2020-10-14            0.053825  \n",
       "\n",
       "[44589 rows x 19 columns]"
      ]
     },
     "execution_count": 53,
     "metadata": {},
     "output_type": "execute_result"
    }
   ],
   "source": [
    "my_complete_df['Confirmed_100K'] = my_complete_df['Confirmed'].multiply(100000, fill_value = 0).divide(my_complete_df['Population'], fill_value = 0)\n",
    "my_complete_df['Deaths_100K'] = my_complete_df['Deaths'].multiply(100000, fill_value = 0).divide(my_complete_df['Population'], fill_value = 0)\n",
    "my_complete_df['Recovered_100K'] = my_complete_df['Recovered'].multiply(100000, fill_value = 0).divide(my_complete_df['Population'], fill_value = 0)\n",
    "my_complete_df['Active_100K'] = my_complete_df['Active'].multiply(100000, fill_value = 0).divide(my_complete_df['Population'], fill_value = 0)\n",
    "my_complete_df['New_cases_100K'] = my_complete_df['New_cases'].multiply(100000, fill_value = 0).divide(my_complete_df['Population'], fill_value = 0)\n",
    "my_complete_df['New_deaths_100K'] = my_complete_df['New_deaths'].multiply(100000, fill_value = 0).divide(my_complete_df['Population'], fill_value = 0)\n",
    "my_complete_df['New_recovered_100K'] = my_complete_df['New_recovered'].multiply(100000, fill_value = 0).divide(my_complete_df['Population'], fill_value = 0)\n",
    "my_complete_df"
   ]
  },
  {
   "cell_type": "code",
   "execution_count": null,
   "metadata": {
    "id": "5oCBPzSd9LPr"
   },
   "outputs": [],
   "source": []
  },
  {
   "cell_type": "code",
   "execution_count": null,
   "metadata": {
    "id": "39RaU7Iq9LP1"
   },
   "outputs": [],
   "source": []
  },
  {
   "cell_type": "code",
   "execution_count": null,
   "metadata": {
    "id": "uf2QcMJR9LQE"
   },
   "outputs": [],
   "source": []
  },
  {
   "cell_type": "code",
   "execution_count": null,
   "metadata": {
    "id": "kPcEZsSZ9LQR"
   },
   "outputs": [],
   "source": []
  },
  {
   "cell_type": "markdown",
   "metadata": {
    "id": "sIJoXNEAVqrr"
   },
   "source": [
    "# NOTE: This old visualization chunk section below can be removed and use the new one you have created in the exploratory analysis"
   ]
  },
  {
   "cell_type": "markdown",
   "metadata": {
    "id": "4qmgYacLp5TO"
   },
   "source": [
    "## Visualizing Covid data by individual countries\n",
    "To visualize a country performance with the Covid assign a country code to the variable my_country from the following diccionary of countries names and codes"
   ]
  },
  {
   "cell_type": "code",
   "execution_count": 54,
   "metadata": {
    "id": "R0jomGJY9LQY"
   },
   "outputs": [],
   "source": [
    "my_countries_dicc = my_complete_df[['CountryCode', 'Country_Region']].drop_duplicates().reset_index()[['CountryCode', 'Country_Region']].set_index('CountryCode').to_dict()['Country_Region']\n",
    "\n",
    "#my_countries_dicc# to see al country codes and names uncomment this line"
   ]
  },
  {
   "cell_type": "markdown",
   "metadata": {
    "id": "VJvKbMqF9LQd"
   },
   "source": [
    "Here we take an example visualizing the dataset from Switzerland (CHE)"
   ]
  },
  {
   "cell_type": "code",
   "execution_count": null,
   "metadata": {},
   "outputs": [],
   "source": []
  },
  {
   "cell_type": "code",
   "execution_count": 55,
   "metadata": {
    "colab": {
     "base_uri": "https://localhost:8080/",
     "height": 640
    },
    "id": "h5Aze5Cq9LQe",
    "outputId": "38205cba-aff0-4935-def8-ab8f755c2460"
   },
   "outputs": [
    {
     "data": {
      "text/html": [
       "<div>\n",
       "<style scoped>\n",
       "    .dataframe tbody tr th:only-of-type {\n",
       "        vertical-align: middle;\n",
       "    }\n",
       "\n",
       "    .dataframe tbody tr th {\n",
       "        vertical-align: top;\n",
       "    }\n",
       "\n",
       "    .dataframe thead th {\n",
       "        text-align: right;\n",
       "    }\n",
       "</style>\n",
       "<table border=\"1\" class=\"dataframe\">\n",
       "  <thead>\n",
       "    <tr style=\"text-align: right;\">\n",
       "      <th></th>\n",
       "      <th>CountryCode</th>\n",
       "      <th>StringencyIndex</th>\n",
       "      <th>StringencyIndex_factor</th>\n",
       "      <th>Country_Region</th>\n",
       "      <th>Population</th>\n",
       "      <th>Confirmed</th>\n",
       "      <th>Deaths</th>\n",
       "      <th>Recovered</th>\n",
       "      <th>Active</th>\n",
       "      <th>New_cases</th>\n",
       "      <th>New_deaths</th>\n",
       "      <th>New_recovered</th>\n",
       "      <th>Confirmed_100K</th>\n",
       "      <th>Deaths_100K</th>\n",
       "      <th>Recovered_100K</th>\n",
       "      <th>Active_100K</th>\n",
       "      <th>New_cases_100K</th>\n",
       "      <th>New_deaths_100K</th>\n",
       "      <th>New_recovered_100K</th>\n",
       "    </tr>\n",
       "    <tr>\n",
       "      <th>Date</th>\n",
       "      <th></th>\n",
       "      <th></th>\n",
       "      <th></th>\n",
       "      <th></th>\n",
       "      <th></th>\n",
       "      <th></th>\n",
       "      <th></th>\n",
       "      <th></th>\n",
       "      <th></th>\n",
       "      <th></th>\n",
       "      <th></th>\n",
       "      <th></th>\n",
       "      <th></th>\n",
       "      <th></th>\n",
       "      <th></th>\n",
       "      <th></th>\n",
       "      <th></th>\n",
       "      <th></th>\n",
       "      <th></th>\n",
       "    </tr>\n",
       "  </thead>\n",
       "  <tbody>\n",
       "    <tr>\n",
       "      <th>2020-01-22</th>\n",
       "      <td>CHN</td>\n",
       "      <td>26.39</td>\n",
       "      <td>Low</td>\n",
       "      <td>China</td>\n",
       "      <td>1.404676e+09</td>\n",
       "      <td>548.0</td>\n",
       "      <td>17.0</td>\n",
       "      <td>28.0</td>\n",
       "      <td>503.0</td>\n",
       "      <td>0.0</td>\n",
       "      <td>0.0</td>\n",
       "      <td>0.0</td>\n",
       "      <td>0.039013</td>\n",
       "      <td>0.001210</td>\n",
       "      <td>0.001993</td>\n",
       "      <td>0.035809</td>\n",
       "      <td>0.000000</td>\n",
       "      <td>0.000000</td>\n",
       "      <td>0.000000</td>\n",
       "    </tr>\n",
       "    <tr>\n",
       "      <th>2020-01-23</th>\n",
       "      <td>CHN</td>\n",
       "      <td>44.91</td>\n",
       "      <td>Middle</td>\n",
       "      <td>China</td>\n",
       "      <td>1.404676e+09</td>\n",
       "      <td>643.0</td>\n",
       "      <td>18.0</td>\n",
       "      <td>30.0</td>\n",
       "      <td>595.0</td>\n",
       "      <td>95.0</td>\n",
       "      <td>1.0</td>\n",
       "      <td>2.0</td>\n",
       "      <td>0.045776</td>\n",
       "      <td>0.001281</td>\n",
       "      <td>0.002136</td>\n",
       "      <td>0.042359</td>\n",
       "      <td>0.006763</td>\n",
       "      <td>0.000071</td>\n",
       "      <td>0.000142</td>\n",
       "    </tr>\n",
       "    <tr>\n",
       "      <th>2020-01-24</th>\n",
       "      <td>CHN</td>\n",
       "      <td>44.91</td>\n",
       "      <td>Middle</td>\n",
       "      <td>China</td>\n",
       "      <td>1.404676e+09</td>\n",
       "      <td>920.0</td>\n",
       "      <td>26.0</td>\n",
       "      <td>36.0</td>\n",
       "      <td>858.0</td>\n",
       "      <td>277.0</td>\n",
       "      <td>8.0</td>\n",
       "      <td>6.0</td>\n",
       "      <td>0.065496</td>\n",
       "      <td>0.001851</td>\n",
       "      <td>0.002563</td>\n",
       "      <td>0.061082</td>\n",
       "      <td>0.019720</td>\n",
       "      <td>0.000570</td>\n",
       "      <td>0.000427</td>\n",
       "    </tr>\n",
       "    <tr>\n",
       "      <th>2020-01-25</th>\n",
       "      <td>CHN</td>\n",
       "      <td>47.69</td>\n",
       "      <td>Middle</td>\n",
       "      <td>China</td>\n",
       "      <td>1.404676e+09</td>\n",
       "      <td>1406.0</td>\n",
       "      <td>42.0</td>\n",
       "      <td>39.0</td>\n",
       "      <td>1325.0</td>\n",
       "      <td>486.0</td>\n",
       "      <td>16.0</td>\n",
       "      <td>3.0</td>\n",
       "      <td>0.100094</td>\n",
       "      <td>0.002990</td>\n",
       "      <td>0.002776</td>\n",
       "      <td>0.094328</td>\n",
       "      <td>0.034599</td>\n",
       "      <td>0.001139</td>\n",
       "      <td>0.000214</td>\n",
       "    </tr>\n",
       "    <tr>\n",
       "      <th>2020-01-26</th>\n",
       "      <td>CHN</td>\n",
       "      <td>69.91</td>\n",
       "      <td>High</td>\n",
       "      <td>China</td>\n",
       "      <td>1.404676e+09</td>\n",
       "      <td>2075.0</td>\n",
       "      <td>56.0</td>\n",
       "      <td>49.0</td>\n",
       "      <td>1970.0</td>\n",
       "      <td>669.0</td>\n",
       "      <td>14.0</td>\n",
       "      <td>10.0</td>\n",
       "      <td>0.147721</td>\n",
       "      <td>0.003987</td>\n",
       "      <td>0.003488</td>\n",
       "      <td>0.140246</td>\n",
       "      <td>0.047627</td>\n",
       "      <td>0.000997</td>\n",
       "      <td>0.000712</td>\n",
       "    </tr>\n",
       "    <tr>\n",
       "      <th>...</th>\n",
       "      <td>...</td>\n",
       "      <td>...</td>\n",
       "      <td>...</td>\n",
       "      <td>...</td>\n",
       "      <td>...</td>\n",
       "      <td>...</td>\n",
       "      <td>...</td>\n",
       "      <td>...</td>\n",
       "      <td>...</td>\n",
       "      <td>...</td>\n",
       "      <td>...</td>\n",
       "      <td>...</td>\n",
       "      <td>...</td>\n",
       "      <td>...</td>\n",
       "      <td>...</td>\n",
       "      <td>...</td>\n",
       "      <td>...</td>\n",
       "      <td>...</td>\n",
       "      <td>...</td>\n",
       "    </tr>\n",
       "    <tr>\n",
       "      <th>2020-10-10</th>\n",
       "      <td>CHN</td>\n",
       "      <td>NaN</td>\n",
       "      <td>unknown</td>\n",
       "      <td>China</td>\n",
       "      <td>1.404676e+09</td>\n",
       "      <td>90778.0</td>\n",
       "      <td>4739.0</td>\n",
       "      <td>85658.0</td>\n",
       "      <td>381.0</td>\n",
       "      <td>27.0</td>\n",
       "      <td>0.0</td>\n",
       "      <td>17.0</td>\n",
       "      <td>6.462556</td>\n",
       "      <td>0.337373</td>\n",
       "      <td>6.098060</td>\n",
       "      <td>0.027124</td>\n",
       "      <td>0.001922</td>\n",
       "      <td>0.000000</td>\n",
       "      <td>0.001210</td>\n",
       "    </tr>\n",
       "    <tr>\n",
       "      <th>2020-10-11</th>\n",
       "      <td>CHN</td>\n",
       "      <td>NaN</td>\n",
       "      <td>unknown</td>\n",
       "      <td>China</td>\n",
       "      <td>1.404676e+09</td>\n",
       "      <td>90812.0</td>\n",
       "      <td>4739.0</td>\n",
       "      <td>85669.0</td>\n",
       "      <td>404.0</td>\n",
       "      <td>34.0</td>\n",
       "      <td>0.0</td>\n",
       "      <td>11.0</td>\n",
       "      <td>6.464977</td>\n",
       "      <td>0.337373</td>\n",
       "      <td>6.098843</td>\n",
       "      <td>0.028761</td>\n",
       "      <td>0.002420</td>\n",
       "      <td>0.000000</td>\n",
       "      <td>0.000783</td>\n",
       "    </tr>\n",
       "    <tr>\n",
       "      <th>2020-10-12</th>\n",
       "      <td>CHN</td>\n",
       "      <td>NaN</td>\n",
       "      <td>unknown</td>\n",
       "      <td>China</td>\n",
       "      <td>1.404676e+09</td>\n",
       "      <td>90830.0</td>\n",
       "      <td>4739.0</td>\n",
       "      <td>85690.0</td>\n",
       "      <td>401.0</td>\n",
       "      <td>18.0</td>\n",
       "      <td>0.0</td>\n",
       "      <td>21.0</td>\n",
       "      <td>6.466258</td>\n",
       "      <td>0.337373</td>\n",
       "      <td>6.100338</td>\n",
       "      <td>0.028548</td>\n",
       "      <td>0.001281</td>\n",
       "      <td>0.000000</td>\n",
       "      <td>0.001495</td>\n",
       "    </tr>\n",
       "    <tr>\n",
       "      <th>2020-10-13</th>\n",
       "      <td>CHN</td>\n",
       "      <td>NaN</td>\n",
       "      <td>unknown</td>\n",
       "      <td>China</td>\n",
       "      <td>1.404676e+09</td>\n",
       "      <td>90858.0</td>\n",
       "      <td>4739.0</td>\n",
       "      <td>85707.0</td>\n",
       "      <td>412.0</td>\n",
       "      <td>28.0</td>\n",
       "      <td>0.0</td>\n",
       "      <td>17.0</td>\n",
       "      <td>6.468252</td>\n",
       "      <td>0.337373</td>\n",
       "      <td>6.101548</td>\n",
       "      <td>0.029331</td>\n",
       "      <td>0.001993</td>\n",
       "      <td>0.000000</td>\n",
       "      <td>0.001210</td>\n",
       "    </tr>\n",
       "    <tr>\n",
       "      <th>2020-10-14</th>\n",
       "      <td>CHN</td>\n",
       "      <td>NaN</td>\n",
       "      <td>unknown</td>\n",
       "      <td>China</td>\n",
       "      <td>1.404676e+09</td>\n",
       "      <td>90869.0</td>\n",
       "      <td>4739.0</td>\n",
       "      <td>85720.0</td>\n",
       "      <td>410.0</td>\n",
       "      <td>11.0</td>\n",
       "      <td>0.0</td>\n",
       "      <td>13.0</td>\n",
       "      <td>6.469035</td>\n",
       "      <td>0.337373</td>\n",
       "      <td>6.102473</td>\n",
       "      <td>0.029188</td>\n",
       "      <td>0.000783</td>\n",
       "      <td>0.000000</td>\n",
       "      <td>0.000925</td>\n",
       "    </tr>\n",
       "  </tbody>\n",
       "</table>\n",
       "<p>267 rows × 19 columns</p>\n",
       "</div>"
      ],
      "text/plain": [
       "           CountryCode  StringencyIndex StringencyIndex_factor Country_Region  \\\n",
       "Date                                                                            \n",
       "2020-01-22         CHN            26.39                    Low          China   \n",
       "2020-01-23         CHN            44.91                 Middle          China   \n",
       "2020-01-24         CHN            44.91                 Middle          China   \n",
       "2020-01-25         CHN            47.69                 Middle          China   \n",
       "2020-01-26         CHN            69.91                   High          China   \n",
       "...                ...              ...                    ...            ...   \n",
       "2020-10-10         CHN              NaN                unknown          China   \n",
       "2020-10-11         CHN              NaN                unknown          China   \n",
       "2020-10-12         CHN              NaN                unknown          China   \n",
       "2020-10-13         CHN              NaN                unknown          China   \n",
       "2020-10-14         CHN              NaN                unknown          China   \n",
       "\n",
       "              Population  Confirmed  Deaths  Recovered  Active  New_cases  \\\n",
       "Date                                                                        \n",
       "2020-01-22  1.404676e+09      548.0    17.0       28.0   503.0        0.0   \n",
       "2020-01-23  1.404676e+09      643.0    18.0       30.0   595.0       95.0   \n",
       "2020-01-24  1.404676e+09      920.0    26.0       36.0   858.0      277.0   \n",
       "2020-01-25  1.404676e+09     1406.0    42.0       39.0  1325.0      486.0   \n",
       "2020-01-26  1.404676e+09     2075.0    56.0       49.0  1970.0      669.0   \n",
       "...                  ...        ...     ...        ...     ...        ...   \n",
       "2020-10-10  1.404676e+09    90778.0  4739.0    85658.0   381.0       27.0   \n",
       "2020-10-11  1.404676e+09    90812.0  4739.0    85669.0   404.0       34.0   \n",
       "2020-10-12  1.404676e+09    90830.0  4739.0    85690.0   401.0       18.0   \n",
       "2020-10-13  1.404676e+09    90858.0  4739.0    85707.0   412.0       28.0   \n",
       "2020-10-14  1.404676e+09    90869.0  4739.0    85720.0   410.0       11.0   \n",
       "\n",
       "            New_deaths  New_recovered  Confirmed_100K  Deaths_100K  \\\n",
       "Date                                                                 \n",
       "2020-01-22         0.0            0.0        0.039013     0.001210   \n",
       "2020-01-23         1.0            2.0        0.045776     0.001281   \n",
       "2020-01-24         8.0            6.0        0.065496     0.001851   \n",
       "2020-01-25        16.0            3.0        0.100094     0.002990   \n",
       "2020-01-26        14.0           10.0        0.147721     0.003987   \n",
       "...                ...            ...             ...          ...   \n",
       "2020-10-10         0.0           17.0        6.462556     0.337373   \n",
       "2020-10-11         0.0           11.0        6.464977     0.337373   \n",
       "2020-10-12         0.0           21.0        6.466258     0.337373   \n",
       "2020-10-13         0.0           17.0        6.468252     0.337373   \n",
       "2020-10-14         0.0           13.0        6.469035     0.337373   \n",
       "\n",
       "            Recovered_100K  Active_100K  New_cases_100K  New_deaths_100K  \\\n",
       "Date                                                                       \n",
       "2020-01-22        0.001993     0.035809        0.000000         0.000000   \n",
       "2020-01-23        0.002136     0.042359        0.006763         0.000071   \n",
       "2020-01-24        0.002563     0.061082        0.019720         0.000570   \n",
       "2020-01-25        0.002776     0.094328        0.034599         0.001139   \n",
       "2020-01-26        0.003488     0.140246        0.047627         0.000997   \n",
       "...                    ...          ...             ...              ...   \n",
       "2020-10-10        6.098060     0.027124        0.001922         0.000000   \n",
       "2020-10-11        6.098843     0.028761        0.002420         0.000000   \n",
       "2020-10-12        6.100338     0.028548        0.001281         0.000000   \n",
       "2020-10-13        6.101548     0.029331        0.001993         0.000000   \n",
       "2020-10-14        6.102473     0.029188        0.000783         0.000000   \n",
       "\n",
       "            New_recovered_100K  \n",
       "Date                            \n",
       "2020-01-22            0.000000  \n",
       "2020-01-23            0.000142  \n",
       "2020-01-24            0.000427  \n",
       "2020-01-25            0.000214  \n",
       "2020-01-26            0.000712  \n",
       "...                        ...  \n",
       "2020-10-10            0.001210  \n",
       "2020-10-11            0.000783  \n",
       "2020-10-12            0.001495  \n",
       "2020-10-13            0.001210  \n",
       "2020-10-14            0.000925  \n",
       "\n",
       "[267 rows x 19 columns]"
      ]
     },
     "execution_count": 55,
     "metadata": {},
     "output_type": "execute_result"
    }
   ],
   "source": [
    "country = 'CHN'\n",
    "single_country_covid_df = my_complete_df[my_complete_df['CountryCode'] == country]\n",
    "single_country_covid_df"
   ]
  },
  {
   "cell_type": "code",
   "execution_count": 56,
   "metadata": {
    "id": "PHjqxmCu9LQm"
   },
   "outputs": [],
   "source": [
    "# my_vars_for_ploting = ['StringencyIndex', 'New_cases_100K', 'New_deaths_100K', 'New_recovered_100K', 'Confirmed_100K', 'Deaths_100K', 'Recovered_100K', 'Active_100K']\n",
    "\n",
    "# i = 0\n",
    "# for variables in range(len(my_vars_for_ploting)):\n",
    "#     single_country_covid_df.plot(y=my_vars_for_ploting[i],\n",
    "#                                  kind=\"line\",\n",
    "# #                                  c=['c', 'b'], \n",
    "#                                  c = 'c',\n",
    "#                                  label = my_vars_for_ploting[i]) # = ['StringencyIndex', 'New cases', 'New deaths', 'New recovered', 'Confirmed', 'Deaths', 'Recovered']])\n",
    "#     plt.title('Country = ' + my_countries_dicc['Country_Region'][country])\n",
    "#     i+=1\n",
    "# plt.legend()\n",
    "# plt.show()"
   ]
  },
  {
   "cell_type": "markdown",
   "metadata": {
    "id": "l8qDH34Xp5TX"
   },
   "source": [
    "# 4. Colecting and merging Socieconomical data from the WorldBank\n",
    "We extract socieconomical data such is GDP and Income level from the Worldbank datasets via API query request protocol.\n",
    "\n",
    "**Note**: retrieving *GDP* and *income level* doesn't seem to be so straightforward in a single call. So may be the strategy would be to make a call for each dataset and then merge then."
   ]
  },
  {
   "cell_type": "code",
   "execution_count": 57,
   "metadata": {
    "id": "fSHR4rF6Vqr-"
   },
   "outputs": [],
   "source": [
    "my_home_url = 'http://api.worldbank.org/v2/country/all/indicator/NY.GDP.MKTP.CD'\n",
    "my_params = {'date' : '2019',\n",
    "            'incomelevel' :'',\n",
    "            'downloadformat' : 'csv',\n",
    "            'per_page' : '304'} # dic with the parameters of interest\n",
    "\n",
    "\n",
    "# remove excel file if exists\n",
    "for file in os.listdir(path):\n",
    "    if fnmatch.fnmatch(file, 'API_*.csv'):\n",
    "        os.remove(file)\n",
    "\n",
    "# remove excel file if exists\n",
    "for file in os.listdir(path):\n",
    "    if fnmatch.fnmatch(file, 'Metadata_*.csv'):\n",
    "        os.remove(file)\n",
    "        \n",
    "        \n",
    "        \n",
    "# if the zip file exist it will be updated\n",
    "for file in os.listdir(path):\n",
    "    if fnmatch.fnmatch(file, '*.zip'):\n",
    "        file_exists = True\n",
    "        os.remove(file)\n",
    "        r_GDP = requests.get(my_home_url, params = my_params)\n",
    "        my_zip_file = wget.download(r_GDP.url)\n",
    "        \n",
    "#         for i in list_files:\n",
    "#             os.remove(file)\n",
    "#             r_GDP = requests.get(my_home_url, params = my_params)\n",
    "#             my_zip_file = wget.download(r_GDP.url)\n",
    "\n",
    "    else:\n",
    "        file_exists = False\n",
    "        \n"
   ]
  },
  {
   "cell_type": "code",
   "execution_count": 58,
   "metadata": {},
   "outputs": [
    {
     "data": {
      "text/plain": [
       "False"
      ]
     },
     "execution_count": 58,
     "metadata": {},
     "output_type": "execute_result"
    }
   ],
   "source": [
    "file_exists"
   ]
  },
  {
   "cell_type": "code",
   "execution_count": 59,
   "metadata": {},
   "outputs": [],
   "source": [
    "# if the zip file doesent exist it will be downloaded\n",
    "if file_exists == False:\n",
    "    r_GDP = requests.get(my_home_url, params = my_params)\n",
    "    my_zip_file = wget.download(r_GDP.url)"
   ]
  },
  {
   "cell_type": "code",
   "execution_count": 60,
   "metadata": {},
   "outputs": [],
   "source": [
    "for file in os.listdir(path):\n",
    "    if fnmatch.fnmatch(file, '*.zip'):\n",
    "        #print(file)# find only the zip file\n",
    "        with ZipFile(file, 'r') as zipObj:\n",
    "            for content in zipObj.namelist():\n",
    "                if fnmatch.fnmatch(content, 'API_*'):\n",
    "                    #print(content) wihtin the content of the zip file find and extract the csv file that contain the data\n",
    "                    my_filename = content\n",
    "                    zipObj.extract(content)\n",
    "                    "
   ]
  },
  {
   "cell_type": "code",
   "execution_count": 61,
   "metadata": {
    "colab": {
     "base_uri": "https://localhost:8080/",
     "height": 419
    },
    "id": "QGtrutM1p5TX",
    "outputId": "a8bbb207-7261-4661-a2e5-863185651dd0"
   },
   "outputs": [
    {
     "data": {
      "text/html": [
       "<div>\n",
       "<style scoped>\n",
       "    .dataframe tbody tr th:only-of-type {\n",
       "        vertical-align: middle;\n",
       "    }\n",
       "\n",
       "    .dataframe tbody tr th {\n",
       "        vertical-align: top;\n",
       "    }\n",
       "\n",
       "    .dataframe thead th {\n",
       "        text-align: right;\n",
       "    }\n",
       "</style>\n",
       "<table border=\"1\" class=\"dataframe\">\n",
       "  <thead>\n",
       "    <tr style=\"text-align: right;\">\n",
       "      <th></th>\n",
       "      <th>Country Code</th>\n",
       "      <th>2019</th>\n",
       "    </tr>\n",
       "  </thead>\n",
       "  <tbody>\n",
       "    <tr>\n",
       "      <th>0</th>\n",
       "      <td>ABW</td>\n",
       "      <td>NaN</td>\n",
       "    </tr>\n",
       "    <tr>\n",
       "      <th>1</th>\n",
       "      <td>AFG</td>\n",
       "      <td>1.910135e+10</td>\n",
       "    </tr>\n",
       "    <tr>\n",
       "      <th>2</th>\n",
       "      <td>AGO</td>\n",
       "      <td>9.463542e+10</td>\n",
       "    </tr>\n",
       "    <tr>\n",
       "      <th>3</th>\n",
       "      <td>ALB</td>\n",
       "      <td>1.527808e+10</td>\n",
       "    </tr>\n",
       "    <tr>\n",
       "      <th>4</th>\n",
       "      <td>AND</td>\n",
       "      <td>3.154058e+09</td>\n",
       "    </tr>\n",
       "    <tr>\n",
       "      <th>...</th>\n",
       "      <td>...</td>\n",
       "      <td>...</td>\n",
       "    </tr>\n",
       "    <tr>\n",
       "      <th>259</th>\n",
       "      <td>XKX</td>\n",
       "      <td>7.926108e+09</td>\n",
       "    </tr>\n",
       "    <tr>\n",
       "      <th>260</th>\n",
       "      <td>YEM</td>\n",
       "      <td>NaN</td>\n",
       "    </tr>\n",
       "    <tr>\n",
       "      <th>261</th>\n",
       "      <td>ZAF</td>\n",
       "      <td>3.514316e+11</td>\n",
       "    </tr>\n",
       "    <tr>\n",
       "      <th>262</th>\n",
       "      <td>ZMB</td>\n",
       "      <td>2.306472e+10</td>\n",
       "    </tr>\n",
       "    <tr>\n",
       "      <th>263</th>\n",
       "      <td>ZWE</td>\n",
       "      <td>2.144076e+10</td>\n",
       "    </tr>\n",
       "  </tbody>\n",
       "</table>\n",
       "<p>264 rows × 2 columns</p>\n",
       "</div>"
      ],
      "text/plain": [
       "    Country Code          2019\n",
       "0            ABW           NaN\n",
       "1            AFG  1.910135e+10\n",
       "2            AGO  9.463542e+10\n",
       "3            ALB  1.527808e+10\n",
       "4            AND  3.154058e+09\n",
       "..           ...           ...\n",
       "259          XKX  7.926108e+09\n",
       "260          YEM           NaN\n",
       "261          ZAF  3.514316e+11\n",
       "262          ZMB  2.306472e+10\n",
       "263          ZWE  2.144076e+10\n",
       "\n",
       "[264 rows x 2 columns]"
      ]
     },
     "execution_count": 61,
     "metadata": {},
     "output_type": "execute_result"
    }
   ],
   "source": [
    "GDP_raw_df = pd.read_csv(path + '/' + my_filename,\n",
    "                        header = 2,\n",
    "                        usecols = [1, 4])\n",
    "GDP_raw_df"
   ]
  },
  {
   "cell_type": "code",
   "execution_count": 62,
   "metadata": {
    "colab": {
     "base_uri": "https://localhost:8080/",
     "height": 170
    },
    "id": "AnwLXoXyp5TZ",
    "outputId": "cb6c2eec-aae1-4f50-8427-7d13845964a7"
   },
   "outputs": [
    {
     "name": "stdout",
     "output_type": "stream",
     "text": [
      "<class 'pandas.core.frame.DataFrame'>\n",
      "RangeIndex: 264 entries, 0 to 263\n",
      "Data columns (total 2 columns):\n",
      " #   Column        Non-Null Count  Dtype  \n",
      "---  ------        --------------  -----  \n",
      " 0   Country Code  264 non-null    object \n",
      " 1   2019          223 non-null    float64\n",
      "dtypes: float64(1), object(1)\n",
      "memory usage: 4.2+ KB\n"
     ]
    }
   ],
   "source": [
    "GDP_raw_df.info(verbose = True)"
   ]
  },
  {
   "cell_type": "code",
   "execution_count": 63,
   "metadata": {
    "colab": {
     "base_uri": "https://localhost:8080/",
     "height": 419
    },
    "id": "BqvPpijr9LQ_",
    "outputId": "dffc3b23-f621-447c-901d-ec9caba7e9c4"
   },
   "outputs": [
    {
     "data": {
      "text/html": [
       "<div>\n",
       "<style scoped>\n",
       "    .dataframe tbody tr th:only-of-type {\n",
       "        vertical-align: middle;\n",
       "    }\n",
       "\n",
       "    .dataframe tbody tr th {\n",
       "        vertical-align: top;\n",
       "    }\n",
       "\n",
       "    .dataframe thead th {\n",
       "        text-align: right;\n",
       "    }\n",
       "</style>\n",
       "<table border=\"1\" class=\"dataframe\">\n",
       "  <thead>\n",
       "    <tr style=\"text-align: right;\">\n",
       "      <th></th>\n",
       "      <th>CountryCode</th>\n",
       "      <th>GDP_in_USD</th>\n",
       "    </tr>\n",
       "  </thead>\n",
       "  <tbody>\n",
       "    <tr>\n",
       "      <th>0</th>\n",
       "      <td>ABW</td>\n",
       "      <td>NaN</td>\n",
       "    </tr>\n",
       "    <tr>\n",
       "      <th>1</th>\n",
       "      <td>AFG</td>\n",
       "      <td>1.910135e+10</td>\n",
       "    </tr>\n",
       "    <tr>\n",
       "      <th>2</th>\n",
       "      <td>AGO</td>\n",
       "      <td>9.463542e+10</td>\n",
       "    </tr>\n",
       "    <tr>\n",
       "      <th>3</th>\n",
       "      <td>ALB</td>\n",
       "      <td>1.527808e+10</td>\n",
       "    </tr>\n",
       "    <tr>\n",
       "      <th>4</th>\n",
       "      <td>AND</td>\n",
       "      <td>3.154058e+09</td>\n",
       "    </tr>\n",
       "    <tr>\n",
       "      <th>...</th>\n",
       "      <td>...</td>\n",
       "      <td>...</td>\n",
       "    </tr>\n",
       "    <tr>\n",
       "      <th>259</th>\n",
       "      <td>XKX</td>\n",
       "      <td>7.926108e+09</td>\n",
       "    </tr>\n",
       "    <tr>\n",
       "      <th>260</th>\n",
       "      <td>YEM</td>\n",
       "      <td>NaN</td>\n",
       "    </tr>\n",
       "    <tr>\n",
       "      <th>261</th>\n",
       "      <td>ZAF</td>\n",
       "      <td>3.514316e+11</td>\n",
       "    </tr>\n",
       "    <tr>\n",
       "      <th>262</th>\n",
       "      <td>ZMB</td>\n",
       "      <td>2.306472e+10</td>\n",
       "    </tr>\n",
       "    <tr>\n",
       "      <th>263</th>\n",
       "      <td>ZWE</td>\n",
       "      <td>2.144076e+10</td>\n",
       "    </tr>\n",
       "  </tbody>\n",
       "</table>\n",
       "<p>264 rows × 2 columns</p>\n",
       "</div>"
      ],
      "text/plain": [
       "    CountryCode    GDP_in_USD\n",
       "0           ABW           NaN\n",
       "1           AFG  1.910135e+10\n",
       "2           AGO  9.463542e+10\n",
       "3           ALB  1.527808e+10\n",
       "4           AND  3.154058e+09\n",
       "..          ...           ...\n",
       "259         XKX  7.926108e+09\n",
       "260         YEM           NaN\n",
       "261         ZAF  3.514316e+11\n",
       "262         ZMB  2.306472e+10\n",
       "263         ZWE  2.144076e+10\n",
       "\n",
       "[264 rows x 2 columns]"
      ]
     },
     "execution_count": 63,
     "metadata": {},
     "output_type": "execute_result"
    }
   ],
   "source": [
    "# 1. fixing names in GDP_raw_df dataset\n",
    "\n",
    "GDP_correct_names = {'Country Code' : 'CountryCode',\n",
    "                     '2019' : 'GDP_in_USD'}\n",
    "GDP_raw_df.rename(columns = GDP_correct_names, inplace= True)\n",
    "GDP_raw_df"
   ]
  },
  {
   "cell_type": "code",
   "execution_count": 64,
   "metadata": {
    "colab": {
     "base_uri": "https://localhost:8080/",
     "height": 34
    },
    "id": "qUoIc-Ri9LRG",
    "outputId": "ce9dbd53-274f-4757-bce1-efb500b4880b"
   },
   "outputs": [
    {
     "data": {
      "text/plain": [
       "(98, 2)"
      ]
     },
     "execution_count": 64,
     "metadata": {},
     "output_type": "execute_result"
    }
   ],
   "source": [
    "GDP_raw_df[~GDP_raw_df['CountryCode'].isin(my_complete_df['CountryCode'])].drop_duplicates().shape #this are the 88 regions or dependencies from the GDP dataset that are not in the Covid df"
   ]
  },
  {
   "cell_type": "code",
   "execution_count": 65,
   "metadata": {
    "colab": {
     "base_uri": "https://localhost:8080/",
     "height": 34
    },
    "id": "dQ7cLINn9LRO",
    "outputId": "85db1659-735c-43cd-a4e2-083e96cf9b6c"
   },
   "outputs": [
    {
     "data": {
      "text/plain": [
       "(166, 1)"
      ]
     },
     "execution_count": 65,
     "metadata": {},
     "output_type": "execute_result"
    }
   ],
   "source": [
    "my_complete_df[my_complete_df['CountryCode'].isin(GDP_raw_df['CountryCode'])][['CountryCode']].drop_duplicates().shape"
   ]
  },
  {
   "cell_type": "markdown",
   "metadata": {
    "id": "TxG7JZ7K9LRU"
   },
   "source": [
    "We select only those countries from the GDP df that are present in the covid dataframe to be merged with the covid full dataframe"
   ]
  },
  {
   "cell_type": "code",
   "execution_count": 66,
   "metadata": {
    "colab": {
     "base_uri": "https://localhost:8080/",
     "height": 170
    },
    "id": "4Rx0Lkvu9LRV",
    "outputId": "2fa8e117-e05a-48d6-ce1e-b17382a28720"
   },
   "outputs": [
    {
     "name": "stdout",
     "output_type": "stream",
     "text": [
      "<class 'pandas.core.frame.DataFrame'>\n",
      "Int64Index: 166 entries, 1 to 263\n",
      "Data columns (total 2 columns):\n",
      " #   Column       Non-Null Count  Dtype  \n",
      "---  ------       --------------  -----  \n",
      " 0   CountryCode  166 non-null    object \n",
      " 1   GDP_in_USD   155 non-null    float64\n",
      "dtypes: float64(1), object(1)\n",
      "memory usage: 3.9+ KB\n"
     ]
    }
   ],
   "source": [
    "GDP_raw_df = GDP_raw_df[GDP_raw_df['CountryCode'].isin(my_complete_df['CountryCode'])]\n",
    "GDP_raw_df.info()"
   ]
  },
  {
   "cell_type": "markdown",
   "metadata": {
    "id": "YmlaUF3O9LRc"
   },
   "source": [
    "### Join the GDP data to the covid df"
   ]
  },
  {
   "cell_type": "code",
   "execution_count": 67,
   "metadata": {
    "colab": {
     "base_uri": "https://localhost:8080/",
     "height": 476
    },
    "id": "INkwkEn99LRd",
    "outputId": "3548a068-0ffd-4003-e9c5-3db7635762bf"
   },
   "outputs": [
    {
     "name": "stdout",
     "output_type": "stream",
     "text": [
      "<class 'pandas.core.frame.DataFrame'>\n",
      "DatetimeIndex: 44589 entries, 2020-01-22 to 2020-10-14\n",
      "Data columns (total 20 columns):\n",
      " #   Column                  Non-Null Count  Dtype  \n",
      "---  ------                  --------------  -----  \n",
      " 0   CountryCode             44589 non-null  object \n",
      " 1   StringencyIndex         43484 non-null  float64\n",
      " 2   StringencyIndex_factor  44589 non-null  object \n",
      " 3   Country_Region          44589 non-null  object \n",
      " 4   Population              44589 non-null  float64\n",
      " 5   Confirmed               44589 non-null  float64\n",
      " 6   Deaths                  44589 non-null  float64\n",
      " 7   Recovered               44589 non-null  float64\n",
      " 8   Active                  44589 non-null  float64\n",
      " 9   New_cases               44589 non-null  float64\n",
      " 10  New_deaths              44589 non-null  float64\n",
      " 11  New_recovered           44589 non-null  float64\n",
      " 12  Confirmed_100K          44589 non-null  float64\n",
      " 13  Deaths_100K             44589 non-null  float64\n",
      " 14  Recovered_100K          44589 non-null  float64\n",
      " 15  Active_100K             44589 non-null  float64\n",
      " 16  New_cases_100K          44589 non-null  float64\n",
      " 17  New_deaths_100K         44589 non-null  float64\n",
      " 18  New_recovered_100K      44589 non-null  float64\n",
      " 19  GDP_in_USD              41385 non-null  float64\n",
      "dtypes: float64(17), object(3)\n",
      "memory usage: 7.1+ MB\n"
     ]
    }
   ],
   "source": [
    "my_complete_df = my_complete_df.reset_index().merge(right=GDP_raw_df[['CountryCode', 'GDP_in_USD']],how='left', on=['CountryCode']).set_index('Date')\n",
    "my_complete_df.info()"
   ]
  },
  {
   "cell_type": "markdown",
   "metadata": {
    "id": "26DOwcZI9LRk"
   },
   "source": [
    "## We now extract data on Income level of the different countries from metadata files from the WorldBank in the zip file"
   ]
  },
  {
   "cell_type": "code",
   "execution_count": 68,
   "metadata": {},
   "outputs": [],
   "source": [
    "for file in os.listdir(path):\n",
    "    if fnmatch.fnmatch(file, '*.zip'):\n",
    "        #print(file)# find only the zip file\n",
    "        with ZipFile(file, 'r') as zipObj:\n",
    "            for content in zipObj.namelist():\n",
    "                if fnmatch.fnmatch(content, 'Metadata_Country*'):\n",
    "                    #print(content) wihtin the content of the zip file find and extract the csv file that contain the data\n",
    "                    my_filename = content\n",
    "                    zipObj.extract(content)\n",
    "                    "
   ]
  },
  {
   "cell_type": "code",
   "execution_count": 69,
   "metadata": {
    "colab": {
     "base_uri": "https://localhost:8080/",
     "height": 419
    },
    "id": "BcLAbqklVqs6",
    "outputId": "23b0a7f3-59a6-4fae-a539-0c40276e8070"
   },
   "outputs": [
    {
     "data": {
      "text/html": [
       "<div>\n",
       "<style scoped>\n",
       "    .dataframe tbody tr th:only-of-type {\n",
       "        vertical-align: middle;\n",
       "    }\n",
       "\n",
       "    .dataframe tbody tr th {\n",
       "        vertical-align: top;\n",
       "    }\n",
       "\n",
       "    .dataframe thead th {\n",
       "        text-align: right;\n",
       "    }\n",
       "</style>\n",
       "<table border=\"1\" class=\"dataframe\">\n",
       "  <thead>\n",
       "    <tr style=\"text-align: right;\">\n",
       "      <th></th>\n",
       "      <th>Country Code</th>\n",
       "      <th>Region</th>\n",
       "      <th>IncomeGroup</th>\n",
       "      <th>TableName</th>\n",
       "    </tr>\n",
       "  </thead>\n",
       "  <tbody>\n",
       "    <tr>\n",
       "      <th>0</th>\n",
       "      <td>ABW</td>\n",
       "      <td>Latin America &amp; Caribbean</td>\n",
       "      <td>High income</td>\n",
       "      <td>Aruba</td>\n",
       "    </tr>\n",
       "    <tr>\n",
       "      <th>1</th>\n",
       "      <td>AFG</td>\n",
       "      <td>South Asia</td>\n",
       "      <td>Low income</td>\n",
       "      <td>Afghanistan</td>\n",
       "    </tr>\n",
       "    <tr>\n",
       "      <th>2</th>\n",
       "      <td>AGO</td>\n",
       "      <td>Sub-Saharan Africa</td>\n",
       "      <td>Lower middle income</td>\n",
       "      <td>Angola</td>\n",
       "    </tr>\n",
       "    <tr>\n",
       "      <th>3</th>\n",
       "      <td>ALB</td>\n",
       "      <td>Europe &amp; Central Asia</td>\n",
       "      <td>Upper middle income</td>\n",
       "      <td>Albania</td>\n",
       "    </tr>\n",
       "    <tr>\n",
       "      <th>4</th>\n",
       "      <td>AND</td>\n",
       "      <td>Europe &amp; Central Asia</td>\n",
       "      <td>High income</td>\n",
       "      <td>Andorra</td>\n",
       "    </tr>\n",
       "    <tr>\n",
       "      <th>...</th>\n",
       "      <td>...</td>\n",
       "      <td>...</td>\n",
       "      <td>...</td>\n",
       "      <td>...</td>\n",
       "    </tr>\n",
       "    <tr>\n",
       "      <th>258</th>\n",
       "      <td>XKX</td>\n",
       "      <td>Europe &amp; Central Asia</td>\n",
       "      <td>Upper middle income</td>\n",
       "      <td>Kosovo</td>\n",
       "    </tr>\n",
       "    <tr>\n",
       "      <th>259</th>\n",
       "      <td>YEM</td>\n",
       "      <td>Middle East &amp; North Africa</td>\n",
       "      <td>Low income</td>\n",
       "      <td>Yemen, Rep.</td>\n",
       "    </tr>\n",
       "    <tr>\n",
       "      <th>260</th>\n",
       "      <td>ZAF</td>\n",
       "      <td>Sub-Saharan Africa</td>\n",
       "      <td>Upper middle income</td>\n",
       "      <td>South Africa</td>\n",
       "    </tr>\n",
       "    <tr>\n",
       "      <th>261</th>\n",
       "      <td>ZMB</td>\n",
       "      <td>Sub-Saharan Africa</td>\n",
       "      <td>Lower middle income</td>\n",
       "      <td>Zambia</td>\n",
       "    </tr>\n",
       "    <tr>\n",
       "      <th>262</th>\n",
       "      <td>ZWE</td>\n",
       "      <td>Sub-Saharan Africa</td>\n",
       "      <td>Lower middle income</td>\n",
       "      <td>Zimbabwe</td>\n",
       "    </tr>\n",
       "  </tbody>\n",
       "</table>\n",
       "<p>263 rows × 4 columns</p>\n",
       "</div>"
      ],
      "text/plain": [
       "    Country Code                      Region          IncomeGroup  \\\n",
       "0            ABW   Latin America & Caribbean          High income   \n",
       "1            AFG                  South Asia           Low income   \n",
       "2            AGO          Sub-Saharan Africa  Lower middle income   \n",
       "3            ALB       Europe & Central Asia  Upper middle income   \n",
       "4            AND       Europe & Central Asia          High income   \n",
       "..           ...                         ...                  ...   \n",
       "258          XKX       Europe & Central Asia  Upper middle income   \n",
       "259          YEM  Middle East & North Africa           Low income   \n",
       "260          ZAF          Sub-Saharan Africa  Upper middle income   \n",
       "261          ZMB          Sub-Saharan Africa  Lower middle income   \n",
       "262          ZWE          Sub-Saharan Africa  Lower middle income   \n",
       "\n",
       "        TableName  \n",
       "0           Aruba  \n",
       "1     Afghanistan  \n",
       "2          Angola  \n",
       "3         Albania  \n",
       "4         Andorra  \n",
       "..            ...  \n",
       "258        Kosovo  \n",
       "259   Yemen, Rep.  \n",
       "260  South Africa  \n",
       "261        Zambia  \n",
       "262      Zimbabwe  \n",
       "\n",
       "[263 rows x 4 columns]"
      ]
     },
     "execution_count": 69,
     "metadata": {},
     "output_type": "execute_result"
    }
   ],
   "source": [
    "income_raw_df = pd.read_csv(my_filename,\n",
    "                        #header = 2,\n",
    "                        usecols = [0, 1, 2, 4])\n",
    "\n",
    "income_raw_df"
   ]
  },
  {
   "cell_type": "code",
   "execution_count": 70,
   "metadata": {
    "colab": {
     "base_uri": "https://localhost:8080/",
     "height": 419
    },
    "id": "esyfeEMn9LRs",
    "outputId": "57afa620-72cb-4884-b8f0-ce7da45e5ab4"
   },
   "outputs": [
    {
     "data": {
      "text/html": [
       "<div>\n",
       "<style scoped>\n",
       "    .dataframe tbody tr th:only-of-type {\n",
       "        vertical-align: middle;\n",
       "    }\n",
       "\n",
       "    .dataframe tbody tr th {\n",
       "        vertical-align: top;\n",
       "    }\n",
       "\n",
       "    .dataframe thead th {\n",
       "        text-align: right;\n",
       "    }\n",
       "</style>\n",
       "<table border=\"1\" class=\"dataframe\">\n",
       "  <thead>\n",
       "    <tr style=\"text-align: right;\">\n",
       "      <th></th>\n",
       "      <th>CountryCode</th>\n",
       "      <th>Region</th>\n",
       "      <th>IncomeGroup</th>\n",
       "      <th>Country_Region</th>\n",
       "    </tr>\n",
       "  </thead>\n",
       "  <tbody>\n",
       "    <tr>\n",
       "      <th>0</th>\n",
       "      <td>ABW</td>\n",
       "      <td>Latin America &amp; Caribbean</td>\n",
       "      <td>High income</td>\n",
       "      <td>Aruba</td>\n",
       "    </tr>\n",
       "    <tr>\n",
       "      <th>1</th>\n",
       "      <td>AFG</td>\n",
       "      <td>South Asia</td>\n",
       "      <td>Low income</td>\n",
       "      <td>Afghanistan</td>\n",
       "    </tr>\n",
       "    <tr>\n",
       "      <th>2</th>\n",
       "      <td>AGO</td>\n",
       "      <td>Sub-Saharan Africa</td>\n",
       "      <td>Lower middle income</td>\n",
       "      <td>Angola</td>\n",
       "    </tr>\n",
       "    <tr>\n",
       "      <th>3</th>\n",
       "      <td>ALB</td>\n",
       "      <td>Europe &amp; Central Asia</td>\n",
       "      <td>Upper middle income</td>\n",
       "      <td>Albania</td>\n",
       "    </tr>\n",
       "    <tr>\n",
       "      <th>4</th>\n",
       "      <td>AND</td>\n",
       "      <td>Europe &amp; Central Asia</td>\n",
       "      <td>High income</td>\n",
       "      <td>Andorra</td>\n",
       "    </tr>\n",
       "    <tr>\n",
       "      <th>...</th>\n",
       "      <td>...</td>\n",
       "      <td>...</td>\n",
       "      <td>...</td>\n",
       "      <td>...</td>\n",
       "    </tr>\n",
       "    <tr>\n",
       "      <th>258</th>\n",
       "      <td>XKX</td>\n",
       "      <td>Europe &amp; Central Asia</td>\n",
       "      <td>Upper middle income</td>\n",
       "      <td>Kosovo</td>\n",
       "    </tr>\n",
       "    <tr>\n",
       "      <th>259</th>\n",
       "      <td>YEM</td>\n",
       "      <td>Middle East &amp; North Africa</td>\n",
       "      <td>Low income</td>\n",
       "      <td>Yemen, Rep.</td>\n",
       "    </tr>\n",
       "    <tr>\n",
       "      <th>260</th>\n",
       "      <td>ZAF</td>\n",
       "      <td>Sub-Saharan Africa</td>\n",
       "      <td>Upper middle income</td>\n",
       "      <td>South Africa</td>\n",
       "    </tr>\n",
       "    <tr>\n",
       "      <th>261</th>\n",
       "      <td>ZMB</td>\n",
       "      <td>Sub-Saharan Africa</td>\n",
       "      <td>Lower middle income</td>\n",
       "      <td>Zambia</td>\n",
       "    </tr>\n",
       "    <tr>\n",
       "      <th>262</th>\n",
       "      <td>ZWE</td>\n",
       "      <td>Sub-Saharan Africa</td>\n",
       "      <td>Lower middle income</td>\n",
       "      <td>Zimbabwe</td>\n",
       "    </tr>\n",
       "  </tbody>\n",
       "</table>\n",
       "<p>263 rows × 4 columns</p>\n",
       "</div>"
      ],
      "text/plain": [
       "    CountryCode                      Region          IncomeGroup  \\\n",
       "0           ABW   Latin America & Caribbean          High income   \n",
       "1           AFG                  South Asia           Low income   \n",
       "2           AGO          Sub-Saharan Africa  Lower middle income   \n",
       "3           ALB       Europe & Central Asia  Upper middle income   \n",
       "4           AND       Europe & Central Asia          High income   \n",
       "..          ...                         ...                  ...   \n",
       "258         XKX       Europe & Central Asia  Upper middle income   \n",
       "259         YEM  Middle East & North Africa           Low income   \n",
       "260         ZAF          Sub-Saharan Africa  Upper middle income   \n",
       "261         ZMB          Sub-Saharan Africa  Lower middle income   \n",
       "262         ZWE          Sub-Saharan Africa  Lower middle income   \n",
       "\n",
       "    Country_Region  \n",
       "0            Aruba  \n",
       "1      Afghanistan  \n",
       "2           Angola  \n",
       "3          Albania  \n",
       "4          Andorra  \n",
       "..             ...  \n",
       "258         Kosovo  \n",
       "259    Yemen, Rep.  \n",
       "260   South Africa  \n",
       "261         Zambia  \n",
       "262       Zimbabwe  \n",
       "\n",
       "[263 rows x 4 columns]"
      ]
     },
     "execution_count": 70,
     "metadata": {},
     "output_type": "execute_result"
    }
   ],
   "source": [
    "#2 (on income_raw_df)\n",
    "# make consistennt names for all datasets\n",
    "# 1. fixing names in income_raw_df dataset\n",
    "# 2. take only relevant columns\n",
    "\n",
    "income_correct_names = {'Country Code' : 'CountryCode',\n",
    "                        'TableName' : 'Country_Region'}\n",
    "\n",
    "income_raw_df.rename(columns = income_correct_names, inplace = True)\n",
    "income_raw_df"
   ]
  },
  {
   "cell_type": "code",
   "execution_count": 71,
   "metadata": {
    "colab": {
     "base_uri": "https://localhost:8080/",
     "height": 34
    },
    "id": "qWQxwM7t9LR7",
    "outputId": "eb4569cb-cf00-4242-8757-c32be51a6d78"
   },
   "outputs": [
    {
     "data": {
      "text/plain": [
       "(97, 4)"
      ]
     },
     "execution_count": 71,
     "metadata": {},
     "output_type": "execute_result"
    }
   ],
   "source": [
    "income_raw_df[~income_raw_df['CountryCode'].isin(my_complete_df['CountryCode'])].shape #this are the 85 regions or aggregated regions, dependencies from the income level dataset that are not in the Covid df"
   ]
  },
  {
   "cell_type": "code",
   "execution_count": 72,
   "metadata": {
    "colab": {
     "base_uri": "https://localhost:8080/",
     "height": 204
    },
    "id": "B9vPW8sx9LSJ",
    "outputId": "8b0a3b3e-bb26-4ae9-f8de-98f6a10bb659"
   },
   "outputs": [
    {
     "data": {
      "text/html": [
       "<div>\n",
       "<style scoped>\n",
       "    .dataframe tbody tr th:only-of-type {\n",
       "        vertical-align: middle;\n",
       "    }\n",
       "\n",
       "    .dataframe tbody tr th {\n",
       "        vertical-align: top;\n",
       "    }\n",
       "\n",
       "    .dataframe thead th {\n",
       "        text-align: right;\n",
       "    }\n",
       "</style>\n",
       "<table border=\"1\" class=\"dataframe\">\n",
       "  <thead>\n",
       "    <tr style=\"text-align: right;\">\n",
       "      <th></th>\n",
       "      <th>CountryCode</th>\n",
       "    </tr>\n",
       "    <tr>\n",
       "      <th>Date</th>\n",
       "      <th></th>\n",
       "    </tr>\n",
       "  </thead>\n",
       "  <tbody>\n",
       "    <tr>\n",
       "      <th>2020-01-22</th>\n",
       "      <td>TWN</td>\n",
       "    </tr>\n",
       "  </tbody>\n",
       "</table>\n",
       "</div>"
      ],
      "text/plain": [
       "           CountryCode\n",
       "Date                  \n",
       "2020-01-22         TWN"
      ]
     },
     "execution_count": 72,
     "metadata": {},
     "output_type": "execute_result"
    }
   ],
   "source": [
    "my_complete_df[~my_complete_df['CountryCode'].isin(income_raw_df['CountryCode'])][['CountryCode']].drop_duplicates()#.shape # these 4 dependencies from de covid dataset have no income level information"
   ]
  },
  {
   "cell_type": "markdown",
   "metadata": {
    "id": "bJZ0SE9G9LSY"
   },
   "source": [
    "### As before, we select only those countries from the Income level dataset wich are also present in the covid dataset, and exclude all other regions dependencies."
   ]
  },
  {
   "cell_type": "code",
   "execution_count": 73,
   "metadata": {
    "colab": {
     "base_uri": "https://localhost:8080/",
     "height": 204
    },
    "id": "GhM5jhTR9LSc",
    "outputId": "fb3faeb5-0094-4ac5-cc66-8732ee3f6d5c"
   },
   "outputs": [
    {
     "name": "stdout",
     "output_type": "stream",
     "text": [
      "<class 'pandas.core.frame.DataFrame'>\n",
      "Int64Index: 166 entries, 1 to 262\n",
      "Data columns (total 4 columns):\n",
      " #   Column          Non-Null Count  Dtype \n",
      "---  ------          --------------  ----- \n",
      " 0   CountryCode     166 non-null    object\n",
      " 1   Region          166 non-null    object\n",
      " 2   IncomeGroup     166 non-null    object\n",
      " 3   Country_Region  166 non-null    object\n",
      "dtypes: object(4)\n",
      "memory usage: 6.5+ KB\n"
     ]
    }
   ],
   "source": [
    "income_raw_df = income_raw_df[income_raw_df['CountryCode'].isin(my_complete_df['CountryCode'])]\n",
    "income_raw_df.info()"
   ]
  },
  {
   "cell_type": "markdown",
   "metadata": {
    "id": "524M-Nq99LSj"
   },
   "source": [
    "## We make the final join of the income level data with the covid dataset"
   ]
  },
  {
   "cell_type": "code",
   "execution_count": 74,
   "metadata": {
    "colab": {
     "base_uri": "https://localhost:8080/",
     "height": 493
    },
    "id": "3sIK_TXU9LSm",
    "outputId": "9ffe28d5-a108-4e74-be91-3152224f360c"
   },
   "outputs": [
    {
     "name": "stdout",
     "output_type": "stream",
     "text": [
      "<class 'pandas.core.frame.DataFrame'>\n",
      "DatetimeIndex: 44589 entries, 2020-01-22 to 2020-10-14\n",
      "Data columns (total 21 columns):\n",
      " #   Column                  Non-Null Count  Dtype  \n",
      "---  ------                  --------------  -----  \n",
      " 0   CountryCode             44589 non-null  object \n",
      " 1   StringencyIndex         43484 non-null  float64\n",
      " 2   StringencyIndex_factor  44589 non-null  object \n",
      " 3   Country_Region          44589 non-null  object \n",
      " 4   Population              44589 non-null  float64\n",
      " 5   Confirmed               44589 non-null  float64\n",
      " 6   Deaths                  44589 non-null  float64\n",
      " 7   Recovered               44589 non-null  float64\n",
      " 8   Active                  44589 non-null  float64\n",
      " 9   New_cases               44589 non-null  float64\n",
      " 10  New_deaths              44589 non-null  float64\n",
      " 11  New_recovered           44589 non-null  float64\n",
      " 12  Confirmed_100K          44589 non-null  float64\n",
      " 13  Deaths_100K             44589 non-null  float64\n",
      " 14  Recovered_100K          44589 non-null  float64\n",
      " 15  Active_100K             44589 non-null  float64\n",
      " 16  New_cases_100K          44589 non-null  float64\n",
      " 17  New_deaths_100K         44589 non-null  float64\n",
      " 18  New_recovered_100K      44589 non-null  float64\n",
      " 19  GDP_in_USD              41385 non-null  float64\n",
      " 20  IncomeGroup             44322 non-null  object \n",
      "dtypes: float64(17), object(4)\n",
      "memory usage: 7.5+ MB\n"
     ]
    }
   ],
   "source": [
    "my_final_df = my_complete_df.reset_index().merge(right=income_raw_df[['CountryCode', 'IncomeGroup']],how='left', on=['CountryCode']).set_index('Date')\n",
    "my_final_df.info()"
   ]
  },
  {
   "cell_type": "code",
   "execution_count": 75,
   "metadata": {
    "colab": {
     "base_uri": "https://localhost:8080/",
     "height": 580
    },
    "id": "cXmx60ti9LSy",
    "outputId": "046ea3f3-91ec-4b92-82c4-02eee14457d6"
   },
   "outputs": [
    {
     "data": {
      "text/html": [
       "<div>\n",
       "<style scoped>\n",
       "    .dataframe tbody tr th:only-of-type {\n",
       "        vertical-align: middle;\n",
       "    }\n",
       "\n",
       "    .dataframe tbody tr th {\n",
       "        vertical-align: top;\n",
       "    }\n",
       "\n",
       "    .dataframe thead th {\n",
       "        text-align: right;\n",
       "    }\n",
       "</style>\n",
       "<table border=\"1\" class=\"dataframe\">\n",
       "  <thead>\n",
       "    <tr style=\"text-align: right;\">\n",
       "      <th></th>\n",
       "      <th>CountryCode</th>\n",
       "      <th>StringencyIndex</th>\n",
       "      <th>StringencyIndex_factor</th>\n",
       "      <th>Country_Region</th>\n",
       "      <th>Population</th>\n",
       "      <th>Confirmed</th>\n",
       "      <th>Deaths</th>\n",
       "      <th>Recovered</th>\n",
       "      <th>Active</th>\n",
       "      <th>New_cases</th>\n",
       "      <th>...</th>\n",
       "      <th>New_recovered</th>\n",
       "      <th>Confirmed_100K</th>\n",
       "      <th>Deaths_100K</th>\n",
       "      <th>Recovered_100K</th>\n",
       "      <th>Active_100K</th>\n",
       "      <th>New_cases_100K</th>\n",
       "      <th>New_deaths_100K</th>\n",
       "      <th>New_recovered_100K</th>\n",
       "      <th>GDP_in_USD</th>\n",
       "      <th>IncomeGroup</th>\n",
       "    </tr>\n",
       "    <tr>\n",
       "      <th>Date</th>\n",
       "      <th></th>\n",
       "      <th></th>\n",
       "      <th></th>\n",
       "      <th></th>\n",
       "      <th></th>\n",
       "      <th></th>\n",
       "      <th></th>\n",
       "      <th></th>\n",
       "      <th></th>\n",
       "      <th></th>\n",
       "      <th></th>\n",
       "      <th></th>\n",
       "      <th></th>\n",
       "      <th></th>\n",
       "      <th></th>\n",
       "      <th></th>\n",
       "      <th></th>\n",
       "      <th></th>\n",
       "      <th></th>\n",
       "      <th></th>\n",
       "      <th></th>\n",
       "    </tr>\n",
       "  </thead>\n",
       "  <tbody>\n",
       "    <tr>\n",
       "      <th>2020-01-22</th>\n",
       "      <td>AFG</td>\n",
       "      <td>0.0</td>\n",
       "      <td>Very_low</td>\n",
       "      <td>Afghanistan</td>\n",
       "      <td>38928341.0</td>\n",
       "      <td>0.0</td>\n",
       "      <td>0.0</td>\n",
       "      <td>0.0</td>\n",
       "      <td>0.0</td>\n",
       "      <td>0.0</td>\n",
       "      <td>...</td>\n",
       "      <td>0.0</td>\n",
       "      <td>0.0</td>\n",
       "      <td>0.0</td>\n",
       "      <td>0.0</td>\n",
       "      <td>0.0</td>\n",
       "      <td>0.0</td>\n",
       "      <td>0.0</td>\n",
       "      <td>0.0</td>\n",
       "      <td>1.910135e+10</td>\n",
       "      <td>Low income</td>\n",
       "    </tr>\n",
       "    <tr>\n",
       "      <th>2020-01-23</th>\n",
       "      <td>AFG</td>\n",
       "      <td>0.0</td>\n",
       "      <td>Very_low</td>\n",
       "      <td>Afghanistan</td>\n",
       "      <td>38928341.0</td>\n",
       "      <td>0.0</td>\n",
       "      <td>0.0</td>\n",
       "      <td>0.0</td>\n",
       "      <td>0.0</td>\n",
       "      <td>0.0</td>\n",
       "      <td>...</td>\n",
       "      <td>0.0</td>\n",
       "      <td>0.0</td>\n",
       "      <td>0.0</td>\n",
       "      <td>0.0</td>\n",
       "      <td>0.0</td>\n",
       "      <td>0.0</td>\n",
       "      <td>0.0</td>\n",
       "      <td>0.0</td>\n",
       "      <td>1.910135e+10</td>\n",
       "      <td>Low income</td>\n",
       "    </tr>\n",
       "    <tr>\n",
       "      <th>2020-01-24</th>\n",
       "      <td>AFG</td>\n",
       "      <td>0.0</td>\n",
       "      <td>Very_low</td>\n",
       "      <td>Afghanistan</td>\n",
       "      <td>38928341.0</td>\n",
       "      <td>0.0</td>\n",
       "      <td>0.0</td>\n",
       "      <td>0.0</td>\n",
       "      <td>0.0</td>\n",
       "      <td>0.0</td>\n",
       "      <td>...</td>\n",
       "      <td>0.0</td>\n",
       "      <td>0.0</td>\n",
       "      <td>0.0</td>\n",
       "      <td>0.0</td>\n",
       "      <td>0.0</td>\n",
       "      <td>0.0</td>\n",
       "      <td>0.0</td>\n",
       "      <td>0.0</td>\n",
       "      <td>1.910135e+10</td>\n",
       "      <td>Low income</td>\n",
       "    </tr>\n",
       "    <tr>\n",
       "      <th>2020-01-25</th>\n",
       "      <td>AFG</td>\n",
       "      <td>0.0</td>\n",
       "      <td>Very_low</td>\n",
       "      <td>Afghanistan</td>\n",
       "      <td>38928341.0</td>\n",
       "      <td>0.0</td>\n",
       "      <td>0.0</td>\n",
       "      <td>0.0</td>\n",
       "      <td>0.0</td>\n",
       "      <td>0.0</td>\n",
       "      <td>...</td>\n",
       "      <td>0.0</td>\n",
       "      <td>0.0</td>\n",
       "      <td>0.0</td>\n",
       "      <td>0.0</td>\n",
       "      <td>0.0</td>\n",
       "      <td>0.0</td>\n",
       "      <td>0.0</td>\n",
       "      <td>0.0</td>\n",
       "      <td>1.910135e+10</td>\n",
       "      <td>Low income</td>\n",
       "    </tr>\n",
       "    <tr>\n",
       "      <th>2020-01-26</th>\n",
       "      <td>AFG</td>\n",
       "      <td>0.0</td>\n",
       "      <td>Very_low</td>\n",
       "      <td>Afghanistan</td>\n",
       "      <td>38928341.0</td>\n",
       "      <td>0.0</td>\n",
       "      <td>0.0</td>\n",
       "      <td>0.0</td>\n",
       "      <td>0.0</td>\n",
       "      <td>0.0</td>\n",
       "      <td>...</td>\n",
       "      <td>0.0</td>\n",
       "      <td>0.0</td>\n",
       "      <td>0.0</td>\n",
       "      <td>0.0</td>\n",
       "      <td>0.0</td>\n",
       "      <td>0.0</td>\n",
       "      <td>0.0</td>\n",
       "      <td>0.0</td>\n",
       "      <td>1.910135e+10</td>\n",
       "      <td>Low income</td>\n",
       "    </tr>\n",
       "    <tr>\n",
       "      <th>2020-01-27</th>\n",
       "      <td>AFG</td>\n",
       "      <td>0.0</td>\n",
       "      <td>Very_low</td>\n",
       "      <td>Afghanistan</td>\n",
       "      <td>38928341.0</td>\n",
       "      <td>0.0</td>\n",
       "      <td>0.0</td>\n",
       "      <td>0.0</td>\n",
       "      <td>0.0</td>\n",
       "      <td>0.0</td>\n",
       "      <td>...</td>\n",
       "      <td>0.0</td>\n",
       "      <td>0.0</td>\n",
       "      <td>0.0</td>\n",
       "      <td>0.0</td>\n",
       "      <td>0.0</td>\n",
       "      <td>0.0</td>\n",
       "      <td>0.0</td>\n",
       "      <td>0.0</td>\n",
       "      <td>1.910135e+10</td>\n",
       "      <td>Low income</td>\n",
       "    </tr>\n",
       "    <tr>\n",
       "      <th>2020-01-28</th>\n",
       "      <td>AFG</td>\n",
       "      <td>0.0</td>\n",
       "      <td>Very_low</td>\n",
       "      <td>Afghanistan</td>\n",
       "      <td>38928341.0</td>\n",
       "      <td>0.0</td>\n",
       "      <td>0.0</td>\n",
       "      <td>0.0</td>\n",
       "      <td>0.0</td>\n",
       "      <td>0.0</td>\n",
       "      <td>...</td>\n",
       "      <td>0.0</td>\n",
       "      <td>0.0</td>\n",
       "      <td>0.0</td>\n",
       "      <td>0.0</td>\n",
       "      <td>0.0</td>\n",
       "      <td>0.0</td>\n",
       "      <td>0.0</td>\n",
       "      <td>0.0</td>\n",
       "      <td>1.910135e+10</td>\n",
       "      <td>Low income</td>\n",
       "    </tr>\n",
       "    <tr>\n",
       "      <th>2020-01-29</th>\n",
       "      <td>AFG</td>\n",
       "      <td>0.0</td>\n",
       "      <td>Very_low</td>\n",
       "      <td>Afghanistan</td>\n",
       "      <td>38928341.0</td>\n",
       "      <td>0.0</td>\n",
       "      <td>0.0</td>\n",
       "      <td>0.0</td>\n",
       "      <td>0.0</td>\n",
       "      <td>0.0</td>\n",
       "      <td>...</td>\n",
       "      <td>0.0</td>\n",
       "      <td>0.0</td>\n",
       "      <td>0.0</td>\n",
       "      <td>0.0</td>\n",
       "      <td>0.0</td>\n",
       "      <td>0.0</td>\n",
       "      <td>0.0</td>\n",
       "      <td>0.0</td>\n",
       "      <td>1.910135e+10</td>\n",
       "      <td>Low income</td>\n",
       "    </tr>\n",
       "    <tr>\n",
       "      <th>2020-01-30</th>\n",
       "      <td>AFG</td>\n",
       "      <td>0.0</td>\n",
       "      <td>Very_low</td>\n",
       "      <td>Afghanistan</td>\n",
       "      <td>38928341.0</td>\n",
       "      <td>0.0</td>\n",
       "      <td>0.0</td>\n",
       "      <td>0.0</td>\n",
       "      <td>0.0</td>\n",
       "      <td>0.0</td>\n",
       "      <td>...</td>\n",
       "      <td>0.0</td>\n",
       "      <td>0.0</td>\n",
       "      <td>0.0</td>\n",
       "      <td>0.0</td>\n",
       "      <td>0.0</td>\n",
       "      <td>0.0</td>\n",
       "      <td>0.0</td>\n",
       "      <td>0.0</td>\n",
       "      <td>1.910135e+10</td>\n",
       "      <td>Low income</td>\n",
       "    </tr>\n",
       "    <tr>\n",
       "      <th>2020-01-31</th>\n",
       "      <td>AFG</td>\n",
       "      <td>0.0</td>\n",
       "      <td>Very_low</td>\n",
       "      <td>Afghanistan</td>\n",
       "      <td>38928341.0</td>\n",
       "      <td>0.0</td>\n",
       "      <td>0.0</td>\n",
       "      <td>0.0</td>\n",
       "      <td>0.0</td>\n",
       "      <td>0.0</td>\n",
       "      <td>...</td>\n",
       "      <td>0.0</td>\n",
       "      <td>0.0</td>\n",
       "      <td>0.0</td>\n",
       "      <td>0.0</td>\n",
       "      <td>0.0</td>\n",
       "      <td>0.0</td>\n",
       "      <td>0.0</td>\n",
       "      <td>0.0</td>\n",
       "      <td>1.910135e+10</td>\n",
       "      <td>Low income</td>\n",
       "    </tr>\n",
       "  </tbody>\n",
       "</table>\n",
       "<p>10 rows × 21 columns</p>\n",
       "</div>"
      ],
      "text/plain": [
       "           CountryCode  StringencyIndex StringencyIndex_factor Country_Region  \\\n",
       "Date                                                                            \n",
       "2020-01-22         AFG              0.0               Very_low    Afghanistan   \n",
       "2020-01-23         AFG              0.0               Very_low    Afghanistan   \n",
       "2020-01-24         AFG              0.0               Very_low    Afghanistan   \n",
       "2020-01-25         AFG              0.0               Very_low    Afghanistan   \n",
       "2020-01-26         AFG              0.0               Very_low    Afghanistan   \n",
       "2020-01-27         AFG              0.0               Very_low    Afghanistan   \n",
       "2020-01-28         AFG              0.0               Very_low    Afghanistan   \n",
       "2020-01-29         AFG              0.0               Very_low    Afghanistan   \n",
       "2020-01-30         AFG              0.0               Very_low    Afghanistan   \n",
       "2020-01-31         AFG              0.0               Very_low    Afghanistan   \n",
       "\n",
       "            Population  Confirmed  Deaths  Recovered  Active  New_cases  ...  \\\n",
       "Date                                                                     ...   \n",
       "2020-01-22  38928341.0        0.0     0.0        0.0     0.0        0.0  ...   \n",
       "2020-01-23  38928341.0        0.0     0.0        0.0     0.0        0.0  ...   \n",
       "2020-01-24  38928341.0        0.0     0.0        0.0     0.0        0.0  ...   \n",
       "2020-01-25  38928341.0        0.0     0.0        0.0     0.0        0.0  ...   \n",
       "2020-01-26  38928341.0        0.0     0.0        0.0     0.0        0.0  ...   \n",
       "2020-01-27  38928341.0        0.0     0.0        0.0     0.0        0.0  ...   \n",
       "2020-01-28  38928341.0        0.0     0.0        0.0     0.0        0.0  ...   \n",
       "2020-01-29  38928341.0        0.0     0.0        0.0     0.0        0.0  ...   \n",
       "2020-01-30  38928341.0        0.0     0.0        0.0     0.0        0.0  ...   \n",
       "2020-01-31  38928341.0        0.0     0.0        0.0     0.0        0.0  ...   \n",
       "\n",
       "            New_recovered  Confirmed_100K  Deaths_100K  Recovered_100K  \\\n",
       "Date                                                                     \n",
       "2020-01-22            0.0             0.0          0.0             0.0   \n",
       "2020-01-23            0.0             0.0          0.0             0.0   \n",
       "2020-01-24            0.0             0.0          0.0             0.0   \n",
       "2020-01-25            0.0             0.0          0.0             0.0   \n",
       "2020-01-26            0.0             0.0          0.0             0.0   \n",
       "2020-01-27            0.0             0.0          0.0             0.0   \n",
       "2020-01-28            0.0             0.0          0.0             0.0   \n",
       "2020-01-29            0.0             0.0          0.0             0.0   \n",
       "2020-01-30            0.0             0.0          0.0             0.0   \n",
       "2020-01-31            0.0             0.0          0.0             0.0   \n",
       "\n",
       "            Active_100K  New_cases_100K  New_deaths_100K  New_recovered_100K  \\\n",
       "Date                                                                           \n",
       "2020-01-22          0.0             0.0              0.0                 0.0   \n",
       "2020-01-23          0.0             0.0              0.0                 0.0   \n",
       "2020-01-24          0.0             0.0              0.0                 0.0   \n",
       "2020-01-25          0.0             0.0              0.0                 0.0   \n",
       "2020-01-26          0.0             0.0              0.0                 0.0   \n",
       "2020-01-27          0.0             0.0              0.0                 0.0   \n",
       "2020-01-28          0.0             0.0              0.0                 0.0   \n",
       "2020-01-29          0.0             0.0              0.0                 0.0   \n",
       "2020-01-30          0.0             0.0              0.0                 0.0   \n",
       "2020-01-31          0.0             0.0              0.0                 0.0   \n",
       "\n",
       "              GDP_in_USD  IncomeGroup  \n",
       "Date                                   \n",
       "2020-01-22  1.910135e+10   Low income  \n",
       "2020-01-23  1.910135e+10   Low income  \n",
       "2020-01-24  1.910135e+10   Low income  \n",
       "2020-01-25  1.910135e+10   Low income  \n",
       "2020-01-26  1.910135e+10   Low income  \n",
       "2020-01-27  1.910135e+10   Low income  \n",
       "2020-01-28  1.910135e+10   Low income  \n",
       "2020-01-29  1.910135e+10   Low income  \n",
       "2020-01-30  1.910135e+10   Low income  \n",
       "2020-01-31  1.910135e+10   Low income  \n",
       "\n",
       "[10 rows x 21 columns]"
      ]
     },
     "execution_count": 75,
     "metadata": {},
     "output_type": "execute_result"
    }
   ],
   "source": [
    "my_final_df.head(10)#[my_final_df['CountryCode'] == \"DEU\"][['New_deaths']]"
   ]
  },
  {
   "cell_type": "code",
   "execution_count": 76,
   "metadata": {
    "colab": {
     "base_uri": "https://localhost:8080/",
     "height": 119
    },
    "id": "kexXH0qJVqte",
    "outputId": "c964d69c-a278-49a2-d6cd-d66cdf997cf7"
   },
   "outputs": [
    {
     "data": {
      "text/plain": [
       "Index(['CountryCode', 'StringencyIndex', 'StringencyIndex_factor',\n",
       "       'Country_Region', 'Population', 'Confirmed', 'Deaths', 'Recovered',\n",
       "       'Active', 'New_cases', 'New_deaths', 'New_recovered', 'Confirmed_100K',\n",
       "       'Deaths_100K', 'Recovered_100K', 'Active_100K', 'New_cases_100K',\n",
       "       'New_deaths_100K', 'New_recovered_100K', 'GDP_in_USD', 'IncomeGroup'],\n",
       "      dtype='object')"
      ]
     },
     "execution_count": 76,
     "metadata": {},
     "output_type": "execute_result"
    }
   ],
   "source": [
    "my_final_df.columns"
   ]
  },
  {
   "cell_type": "markdown",
   "metadata": {
    "id": "cVoaEK899LSv"
   },
   "source": [
    "## This is the final clean working dataframe  which contain:\n",
    " - time series of Covid cases of 180 countries or dependencies etc from the world.\n",
    " - standard country code for ease finding of countries\n",
    " - the cumulative sum of confirmed, deatch and recovered cases\n",
    " - the new cases, new death and new recovered in a day-wise format\n",
    " - all varibales before mentioned normalized by 100.000 people per country. This is may be usefull to compare among different countries\n",
    " - government response on restraining the spread of the pandemic indicated by the restringency index\n",
    " - two socioeconomical indicators for countries: GDP in USD and Income level\n",
    " "
   ]
  },
  {
   "cell_type": "code",
   "execution_count": null,
   "metadata": {
    "id": "MhWkTt2w9LS9"
   },
   "outputs": [],
   "source": []
  },
  {
   "cell_type": "code",
   "execution_count": null,
   "metadata": {
    "id": "iCvQm0yJ9LTO"
   },
   "outputs": [],
   "source": []
  },
  {
   "cell_type": "markdown",
   "metadata": {
    "id": "u51M-kbF9LTY"
   },
   "source": [
    "# Part II \n",
    "# M2 project on descriptive statistics\n",
    "\n",
    "## 1.  Descriptive Statistics\n"
   ]
  },
  {
   "cell_type": "markdown",
   "metadata": {
    "id": "54iNUbRnZpzH"
   },
   "source": [
    "# 1. Visualization of Coronavirus cases per country and exploring which income group they belong to\n"
   ]
  },
  {
   "cell_type": "code",
   "execution_count": 77,
   "metadata": {
    "id": "lu17N3wXd87T"
   },
   "outputs": [],
   "source": [
    "import scipy.stats\n",
    "from sklearn.linear_model import LinearRegression\n",
    "from scipy.stats import pearsonr\n",
    "from scipy.stats import spearmanr\n",
    "model = LinearRegression()\n",
    "import seaborn as sb"
   ]
  },
  {
   "cell_type": "markdown",
   "metadata": {
    "id": "x6okGuHAYCqI"
   },
   "source": [
    "## Sorting the countries with the **hihgest** coronavirus outbreak\n",
    "We first sort the data to understand the countries with most cases\n"
   ]
  },
  {
   "cell_type": "markdown",
   "metadata": {
    "id": "feeY0mPLfDvV"
   },
   "source": [
    "## Plotting the top ten MORE affected countries based on total tols and infecctions\n"
   ]
  },
  {
   "cell_type": "code",
   "execution_count": 78,
   "metadata": {
    "colab": {
     "base_uri": "https://localhost:8080/",
     "height": 34
    },
    "id": "061yO2aF-Hr4",
    "outputId": "7ee33150-d742-4ee2-b915-9e62a3e01e76"
   },
   "outputs": [
    {
     "data": {
      "text/plain": [
       "'2020-10-14'"
      ]
     },
     "execution_count": 78,
     "metadata": {},
     "output_type": "execute_result"
    }
   ],
   "source": [
    "#find last reported date\n",
    "last_reported_date = my_final_df.reset_index().tail(1)['Date'].to_string(index = False)\n",
    "last_reported_date"
   ]
  },
  {
   "cell_type": "code",
   "execution_count": null,
   "metadata": {},
   "outputs": [],
   "source": []
  },
  {
   "cell_type": "code",
   "execution_count": 79,
   "metadata": {},
   "outputs": [
    {
     "ename": "NameError",
     "evalue": "name 'top_deaths_100K_df' is not defined",
     "output_type": "error",
     "traceback": [
      "\u001b[0;31m---------------------------------------------------------------------------\u001b[0m",
      "\u001b[0;31mNameError\u001b[0m                                 Traceback (most recent call last)",
      "\u001b[0;32m<ipython-input-79-6a7958c7536f>\u001b[0m in \u001b[0;36m<module>\u001b[0;34m\u001b[0m\n\u001b[0;32m----> 1\u001b[0;31m \u001b[0mtop_deaths_100K_df\u001b[0m\u001b[0;34m[\u001b[0m\u001b[0mtop_deaths_100K_df\u001b[0m\u001b[0;34m[\u001b[0m\u001b[0;34m'Date'\u001b[0m\u001b[0;34m]\u001b[0m \u001b[0;34m==\u001b[0m \u001b[0mlast_reported_date\u001b[0m\u001b[0;34m]\u001b[0m\u001b[0;34m\u001b[0m\u001b[0;34m\u001b[0m\u001b[0m\n\u001b[0m",
      "\u001b[0;31mNameError\u001b[0m: name 'top_deaths_100K_df' is not defined"
     ]
    }
   ],
   "source": [
    "top_deaths_100K_df[top_deaths_100K_df['Date'] == last_reported_date]"
   ]
  },
  {
   "cell_type": "code",
   "execution_count": null,
   "metadata": {
    "id": "PbT1QbOJdMD0"
   },
   "outputs": [],
   "source": [
    "#find top 10 countries wiht highest numebr of deaths and confirmed cases (cumulative)\n",
    "my_top = 5\n",
    "top_deaths_100K = my_final_df.loc[last_reported_date].sort_values(by = \"Deaths_100K\", ascending = False).head(my_top).reset_index()['CountryCode'].to_list()#.set_index('CountryCode').to_dict()[\"Country_Region\"]\n",
    "top_confirmed_100K = my_final_df.loc[last_reported_date].sort_values(by = \"Confirmed_100K\", ascending = False).head(my_top).reset_index()['CountryCode'].to_list()#.set_index('CountryCode').to_dict()[\"Country_Region\"]\n",
    "\n",
    "top_deaths_100K_df = my_final_df[my_final_df['CountryCode'].isin(top_deaths_100K)].reset_index()\n",
    "top_confirmed_100K_df = my_final_df[my_final_df['CountryCode'].isin(top_confirmed_100K)].reset_index()\n",
    "\n",
    "# font = {'family' : 'normal',\n",
    "#         'weight' : 'bold',\n",
    "#         'size'   : 18}\n",
    "# plt.rc('font', **font)\n",
    "\n",
    "factor_size = 1.5\n",
    "SMALL_SIZE = 8 * factor_size\n",
    "MEDIUM_SIZE = 10 * factor_size\n",
    "BIGGER_SIZE = 12 * factor_size\n",
    "\n",
    "plt.rc('font', size=SMALL_SIZE)          # controls default text sizes\n",
    "plt.rc('axes', titlesize=SMALL_SIZE)     # fontsize of the axes title\n",
    "plt.rc('axes', labelsize=BIGGER_SIZE)    # fontsize of the x and y labels\n",
    "plt.rc('xtick', labelsize=SMALL_SIZE)    # fontsize of the tick labels\n",
    "plt.rc('ytick', labelsize=SMALL_SIZE)    # fontsize of the tick labels\n",
    "plt.rc('legend', fontsize=SMALL_SIZE)    # legend fontsize\n",
    "plt.rc('figure', titlesize=BIGGER_SIZE)  # fontsize of the figure title\n",
    "\n",
    "# Multiline Plot: number of confirmed cases in 100K \n",
    "fig1 = plt.figure(figsize=(22, 10) , dpi=300)\n",
    "\n",
    "\n",
    "ax1 = fig1.add_subplot(221)\n",
    "sb.lineplot(\n",
    "    data=top_confirmed_100K_df, \n",
    "#     kind=\"line\",\n",
    "    x=\"Date\", \n",
    "    y=\"Confirmed_100K\",\n",
    "    ax = ax1,\n",
    "    linewidth = 4,\n",
    "    hue=\"Country_Region\")\n",
    "plt.xticks(rotation=45) \n",
    "plt.legend(frameon=False)\n",
    "plt.legend(bbox_to_anchor=(1.04,1), borderaxespad=0)\n",
    "#plt.title('My title')\n",
    "\n",
    "ax2 = fig1.add_subplot(222)\n",
    "sb.barplot(\n",
    "    data=top_confirmed_100K_df[top_confirmed_100K_df['Date'] == last_reported_date], \n",
    "    x=\"IncomeGroup\", \n",
    "    y=\"Confirmed_100K\",\n",
    "    ax = ax2,\n",
    "    hue=\"Country_Region\")\n",
    "\n",
    "plt.legend(frameon=False)\n",
    "plt.legend(bbox_to_anchor=(1.04,1), borderaxespad=0)\n",
    "ax3 = fig1.add_subplot(223)\n",
    "\n",
    "sb.lineplot(\n",
    "    data=top_deaths_100K_df, \n",
    "#     kind=\"line\",\n",
    "    x=\"Date\", \n",
    "    y=\"Deaths_100K\",\n",
    "    linewidth = 4,\n",
    "    ax = ax3,\n",
    "    hue=\"Country_Region\")\n",
    "plt.xticks(rotation=45)\n",
    "plt.legend(frameon=False)\n",
    "plt.legend(bbox_to_anchor=(1.04,1), borderaxespad=0)\n",
    "\n",
    "ax4 = fig1.add_subplot(224)\n",
    "sb.barplot(\n",
    "    data=top_deaths_100K_df[top_deaths_100K_df['Date'] == last_reported_date], \n",
    "    x=\"IncomeGroup\", \n",
    "    y=\"Deaths_100K\",\n",
    "    ax = ax4,\n",
    "    hue=\"Country_Region\")\n",
    "plt.legend(frameon=False)\n",
    "plt.legend(bbox_to_anchor=(1.04,1), borderaxespad=0)\n",
    "\n",
    "fig1.tight_layout(pad=3)\n",
    "\n",
    "plt.savefig('Most_affected_countries.png')"
   ]
  },
  {
   "cell_type": "markdown",
   "metadata": {
    "id": "feeY0mPLfDvV"
   },
   "source": [
    "## Plotting the top ten LESS affected countries and Inconme level\n"
   ]
  },
  {
   "cell_type": "code",
   "execution_count": null,
   "metadata": {
    "id": "PbT1QbOJdMD0"
   },
   "outputs": [],
   "source": [
    "#find top 10 countries wiht highest numebr of deaths and confirmed cases (cumulative)\n",
    "my_top_n = 5\n",
    "top_deaths_100K = my_final_df.loc[last_reported_date].sort_values(by = \"Deaths_100K\", ascending = True).head(my_top_n).reset_index()['CountryCode'].to_list()#.set_index('CountryCode').to_dict()[\"Country_Region\"]\n",
    "top_confirmed_100K = my_final_df.loc[last_reported_date].sort_values(by = \"Confirmed_100K\", ascending = True).head(my_top_n).reset_index()['CountryCode'].to_list()#.set_index('CountryCode').to_dict()[\"Country_Region\"]\n",
    "\n",
    "top_deaths_100K_df = my_final_df.loc[my_final_df['CountryCode'].isin(top_deaths_100K)].reset_index()\n",
    "top_confirmed_100K_df = my_final_df.loc[my_final_df['CountryCode'].isin(top_confirmed_100K)].reset_index()\n",
    "# font = {'family' : 'normal',\n",
    "#         'weight' : 'bold',\n",
    "#         'size'   : 18}\n",
    "# plt.rc('font', **font)\n",
    "\n",
    "factor_size = 1.5\n",
    "SMALL_SIZE = 8 * factor_size\n",
    "MEDIUM_SIZE = 10 * factor_size\n",
    "BIGGER_SIZE = 12 * factor_size\n",
    "\n",
    "plt.rc('font', size=SMALL_SIZE)          # controls default text sizes\n",
    "plt.rc('axes', titlesize=SMALL_SIZE)     # fontsize of the axes title\n",
    "plt.rc('axes', labelsize=BIGGER_SIZE)    # fontsize of the x and y labels\n",
    "plt.rc('xtick', labelsize=SMALL_SIZE)    # fontsize of the tick labels\n",
    "plt.rc('ytick', labelsize=SMALL_SIZE)    # fontsize of the tick labels\n",
    "plt.rc('legend', fontsize=SMALL_SIZE)    # legend fontsize\n",
    "plt.rc('figure', titlesize=BIGGER_SIZE)  # fontsize of the figure title\n",
    "\n",
    "# Multiline Plot: number of confirmed cases in 100K \n",
    "fig1 = plt.figure(figsize=(22, 10) , dpi=300)\n",
    "\n",
    "\n",
    "ax1 = fig1.add_subplot(221)\n",
    "sb.lineplot(\n",
    "    data=top_confirmed_100K_df, \n",
    "#     kind=\"line\",\n",
    "    x=\"Date\", \n",
    "    y=\"Confirmed_100K\",\n",
    "    ax = ax1,\n",
    "    linewidth = 4,\n",
    "    hue=\"Country_Region\")\n",
    "plt.xticks(rotation=45) \n",
    "plt.legend(frameon=False)\n",
    "plt.legend(bbox_to_anchor=(1.04,1), borderaxespad=0)\n",
    "#plt.title('My title')\n",
    "\n",
    "ax2 = fig1.add_subplot(222)\n",
    "sb.barplot(\n",
    "    data=top_confirmed_100K_df[top_confirmed_100K_df['Date'] == last_reported_date], \n",
    "    x=\"IncomeGroup\", \n",
    "    y=\"Confirmed_100K\",\n",
    "    ax = ax2,\n",
    "    hue=\"Country_Region\")\n",
    "\n",
    "plt.legend(frameon=False)\n",
    "plt.legend(bbox_to_anchor=(1.04,1), borderaxespad=0)\n",
    "ax3 = fig1.add_subplot(223)\n",
    "\n",
    "sb.lineplot(\n",
    "    data=top_deaths_100K_df, \n",
    "#     kind=\"line\",\n",
    "    x=\"Date\", \n",
    "    y=\"Deaths_100K\",\n",
    "    linewidth = 4,\n",
    "    ax = ax3,\n",
    "    hue=\"Country_Region\")\n",
    "plt.xticks(rotation=45)\n",
    "plt.legend(frameon=False)\n",
    "plt.legend(bbox_to_anchor=(1.04,1), borderaxespad=0)\n",
    "\n",
    "ax4 = fig1.add_subplot(224)\n",
    "sb.barplot(\n",
    "    data=top_deaths_100K_df[top_deaths_100K_df['Date'] == last_reported_date], \n",
    "    x=\"IncomeGroup\", \n",
    "    y=\"Deaths_100K\",\n",
    "    ax = ax4,\n",
    "    hue=\"Country_Region\")\n",
    "plt.legend(frameon=False)\n",
    "plt.legend(bbox_to_anchor=(1.04,1), borderaxespad=0)\n",
    "\n",
    "fig1.tight_layout(pad=3)\n",
    "\n",
    "plt.savefig('Less_affected_countries.png')"
   ]
  },
  {
   "cell_type": "markdown",
   "metadata": {},
   "source": [
    "## NOTE: We found that the less affected countries seem to be countries with missed information (no reported cases) or very small populated countries. "
   ]
  },
  {
   "cell_type": "markdown",
   "metadata": {},
   "source": [
    "## Beacuse of this, we remove countries with small population size (< 1000000 people)"
   ]
  },
  {
   "cell_type": "code",
   "execution_count": null,
   "metadata": {},
   "outputs": [],
   "source": [
    "my_top_n = 5\n",
    "best_10_confirmed=my_final_df[(my_final_df['IncomeGroup'] == 'High income') & (my_final_df['Population'] >= 1000000)].loc[last_reported_date].sort_values(by = \"Confirmed_100K\", ascending = True).head(my_top_n).reset_index()['CountryCode'].to_list()"
   ]
  },
  {
   "cell_type": "code",
   "execution_count": null,
   "metadata": {},
   "outputs": [],
   "source": [
    "best_10_deaths=my_final_df[(my_final_df['IncomeGroup'] == 'High income')& (my_final_df['Population'] >= 1000000)].loc[last_reported_date].sort_values(by = \"Deaths_100K\", ascending = True).head(my_top_n).reset_index()['CountryCode'].to_list()"
   ]
  },
  {
   "cell_type": "code",
   "execution_count": null,
   "metadata": {},
   "outputs": [],
   "source": [
    "best_deaths_100K_df = my_final_df.loc[my_final_df['CountryCode'].isin(best_10_deaths)].reset_index()\n",
    "best_confirmed_100K_df = my_final_df.loc[my_final_df['CountryCode'].isin(best_10_confirmed)].reset_index()"
   ]
  },
  {
   "cell_type": "code",
   "execution_count": null,
   "metadata": {},
   "outputs": [],
   "source": []
  },
  {
   "cell_type": "code",
   "execution_count": null,
   "metadata": {
    "id": "PbT1QbOJdMD0"
   },
   "outputs": [],
   "source": [
    "#find top 10 countries wiht highest numebr of deaths and confirmed cases (cumulative)\n",
    "my_top_n = 5\n",
    "best_10_confirmed=my_final_df[(my_final_df['IncomeGroup'] == 'High income') & (my_final_df['Population'] >= 1000000)].loc[last_reported_date].sort_values(by = \"Confirmed_100K\", ascending = True).head(my_top_n).reset_index()['CountryCode'].to_list()\n",
    "best_10_deaths=my_final_df[(my_final_df['IncomeGroup'] == 'High income')& (my_final_df['Population'] >= 1000000)].loc[last_reported_date].sort_values(by = \"Deaths_100K\", ascending = True).head(my_top_n).reset_index()['CountryCode'].to_list()\n",
    "\n",
    "best_deaths_100K_df = my_final_df.loc[my_final_df['CountryCode'].isin(best_10_deaths)].reset_index()\n",
    "best_confirmed_100K_df = my_final_df.loc[my_final_df['CountryCode'].isin(best_10_confirmed)].reset_index()\n",
    "\n",
    "\n",
    "\n",
    "factor_size = 1.5\n",
    "SMALL_SIZE = 8 * factor_size\n",
    "MEDIUM_SIZE = 10 * factor_size\n",
    "BIGGER_SIZE = 12 * factor_size\n",
    "\n",
    "plt.rc('font', size=SMALL_SIZE)          # controls default text sizes\n",
    "plt.rc('axes', titlesize=SMALL_SIZE)     # fontsize of the axes title\n",
    "plt.rc('axes', labelsize=BIGGER_SIZE)    # fontsize of the x and y labels\n",
    "plt.rc('xtick', labelsize=SMALL_SIZE)    # fontsize of the tick labels\n",
    "plt.rc('ytick', labelsize=SMALL_SIZE)    # fontsize of the tick labels\n",
    "plt.rc('legend', fontsize=SMALL_SIZE)    # legend fontsize\n",
    "plt.rc('figure', titlesize=BIGGER_SIZE)  # fontsize of the figure title\n",
    "\n",
    "# Multiline Plot: number of confirmed cases in 100K \n",
    "fig1 = plt.figure(figsize=(22, 10) , dpi=300)\n",
    "\n",
    "\n",
    "ax1 = fig1.add_subplot(221)\n",
    "sb.lineplot(\n",
    "    data=best_confirmed_100K_df, \n",
    "#     kind=\"line\",\n",
    "    x=\"Date\", \n",
    "    y=\"Confirmed_100K\",\n",
    "    ax = ax1,\n",
    "    linewidth = 4,\n",
    "    hue=\"Country_Region\")\n",
    "plt.xticks(rotation=45) \n",
    "plt.legend(frameon=False)\n",
    "plt.legend(bbox_to_anchor=(1.04,1), borderaxespad=0)\n",
    "#plt.title('My title')\n",
    "\n",
    "ax2 = fig1.add_subplot(222)\n",
    "sb.barplot(\n",
    "    data=best_confirmed_100K_df[best_confirmed_100K_df['Date'] == last_reported_date], \n",
    "    x=\"IncomeGroup\", \n",
    "    y=\"Confirmed_100K\",\n",
    "    ax = ax2,\n",
    "    hue=\"Country_Region\")\n",
    "\n",
    "plt.legend(frameon=False)\n",
    "plt.legend(bbox_to_anchor=(1.04,1), borderaxespad=0)\n",
    "ax3 = fig1.add_subplot(223)\n",
    "\n",
    "sb.lineplot(\n",
    "    data=best_deaths_100K_df, \n",
    "#     kind=\"line\",\n",
    "    x=\"Date\", \n",
    "    y=\"Deaths_100K\",\n",
    "    linewidth = 4,\n",
    "    ax = ax3,\n",
    "    hue=\"Country_Region\")\n",
    "plt.xticks(rotation=45)\n",
    "plt.legend(frameon=False)\n",
    "plt.legend(bbox_to_anchor=(1.04,1), borderaxespad=0)\n",
    "\n",
    "ax4 = fig1.add_subplot(224)\n",
    "sb.barplot(\n",
    "    data=best_deaths_100K_df[best_deaths_100K_df['Date'] == last_reported_date], \n",
    "    x=\"IncomeGroup\", \n",
    "    y=\"Deaths_100K\",\n",
    "    ax = ax4,\n",
    "    hue=\"Country_Region\")\n",
    "plt.legend(frameon=False)\n",
    "plt.legend(bbox_to_anchor=(1.04,1), borderaxespad=0)\n",
    "\n",
    "fig1.tight_layout(pad=3)\n",
    "\n",
    "plt.savefig('Real_Less_affected_countries.png')"
   ]
  },
  {
   "cell_type": "code",
   "execution_count": null,
   "metadata": {},
   "outputs": [],
   "source": []
  },
  {
   "cell_type": "code",
   "execution_count": null,
   "metadata": {},
   "outputs": [],
   "source": []
  },
  {
   "cell_type": "markdown",
   "metadata": {},
   "source": [
    "## Checking the High income countries and find out what is the best stringency index pattern"
   ]
  },
  {
   "cell_type": "code",
   "execution_count": null,
   "metadata": {},
   "outputs": [],
   "source": [
    "my_final_df.IncomeGroup.unique()"
   ]
  },
  {
   "cell_type": "code",
   "execution_count": null,
   "metadata": {},
   "outputs": [],
   "source": [
    "my_top_n = 5\n",
    "best_10_confirmed=my_final_df[(my_final_df['IncomeGroup'] == 'High income') & (my_final_df['Population'] >= 1000000)].loc[last_reported_date].sort_values(by = \"Confirmed_100K\", ascending = True).head(my_top_n).reset_index()['CountryCode'].to_list()"
   ]
  },
  {
   "cell_type": "code",
   "execution_count": null,
   "metadata": {},
   "outputs": [],
   "source": [
    "best_10_deaths=my_final_df[(my_final_df['IncomeGroup'] == 'High income') & (my_final_df['Population'] >= 1000000)].loc[last_reported_date].sort_values(by = \"Deaths_100K\", ascending = True).head(my_top_n).reset_index()['CountryCode'].to_list()"
   ]
  },
  {
   "cell_type": "code",
   "execution_count": null,
   "metadata": {},
   "outputs": [],
   "source": [
    "best_deaths_100K_df = my_final_df.loc[my_final_df['CountryCode'].isin(best_10_deaths)].reset_index()\n",
    "best_confirmed_100K_df = my_final_df.loc[my_final_df['CountryCode'].isin(best_10_confirmed)].reset_index()"
   ]
  },
  {
   "cell_type": "code",
   "execution_count": null,
   "metadata": {},
   "outputs": [],
   "source": []
  },
  {
   "cell_type": "code",
   "execution_count": null,
   "metadata": {
    "id": "PbT1QbOJdMD0"
   },
   "outputs": [],
   "source": [
    "#find top 10 countries wiht highest numebr of deaths and confirmed cases (cumulative)\n",
    "my_top_n = 5\n",
    "\n",
    "best_10_confirmed=my_final_df[(my_final_df['IncomeGroup'] == 'High income') & (my_final_df['Population'] >= 1000000)].loc[last_reported_date].sort_values(by = \"Confirmed_100K\", ascending = True).head(my_top_n).reset_index()['CountryCode'].to_list()\n",
    "best_10_deaths=my_final_df[(my_final_df['IncomeGroup'] == 'High income') & (my_final_df['Population'] >= 1000000)].loc[last_reported_date].sort_values(by = \"Deaths_100K\", ascending = True).head(my_top_n).reset_index()['CountryCode'].to_list()\n",
    "\n",
    "best_deaths_100K_df = my_final_df.loc[my_final_df['CountryCode'].isin(best_10_deaths)].reset_index()\n",
    "best_confirmed_100K_df = my_final_df.loc[my_final_df['CountryCode'].isin(best_10_confirmed)].reset_index()\n",
    "\n",
    "\n",
    "\n",
    "factor_size = 1.5\n",
    "SMALL_SIZE = 8 * factor_size\n",
    "MEDIUM_SIZE = 10 * factor_size\n",
    "BIGGER_SIZE = 12 * factor_size\n",
    "\n",
    "plt.rc('font', size=SMALL_SIZE)          # controls default text sizes\n",
    "plt.rc('axes', titlesize=SMALL_SIZE)     # fontsize of the axes title\n",
    "plt.rc('axes', labelsize=BIGGER_SIZE)    # fontsize of the x and y labels\n",
    "plt.rc('xtick', labelsize=SMALL_SIZE)    # fontsize of the tick labels\n",
    "plt.rc('ytick', labelsize=SMALL_SIZE)    # fontsize of the tick labels\n",
    "plt.rc('legend', fontsize=SMALL_SIZE)    # legend fontsize\n",
    "plt.rc('figure', titlesize=BIGGER_SIZE)  # fontsize of the figure title\n",
    "\n",
    "# Multiline Plot: number of confirmed cases in 100K \n",
    "fig1 = plt.figure(figsize=(22, 10) , dpi=300)\n",
    "\n",
    "\n",
    "ax1 = fig1.add_subplot(221)\n",
    "sb.lineplot(\n",
    "    data=best_confirmed_100K_df, \n",
    "#     kind=\"line\",\n",
    "    x=\"Date\", \n",
    "    y=\"Confirmed_100K\",\n",
    "    ax = ax1,\n",
    "    linewidth = 4,\n",
    "    hue=\"Country_Region\")\n",
    "plt.xticks(rotation=45) \n",
    "plt.legend(frameon=False)\n",
    "plt.legend(bbox_to_anchor=(1.04,1), borderaxespad=0)\n",
    "#plt.title('My title')\n",
    "\n",
    "ax2 = fig1.add_subplot(222)\n",
    "sb.lineplot(\n",
    "    data=best_confirmed_100K_df, \n",
    "#     kind=\"line\",\n",
    "    x=\"Date\", \n",
    "    y=\"StringencyIndex\",\n",
    "    ax = ax2,\n",
    "    linewidth = 4,\n",
    "    hue=\"Country_Region\")\n",
    "plt.xticks(rotation=45) \n",
    "plt.legend(frameon=False)\n",
    "plt.legend(bbox_to_anchor=(1.04,1), borderaxespad=0)\n",
    "\n",
    "ax3 = fig1.add_subplot(223)\n",
    "sb.lineplot(\n",
    "    data=best_deaths_100K_df, \n",
    "#     kind=\"line\",\n",
    "    x=\"Date\", \n",
    "    y=\"Deaths_100K\",\n",
    "    linewidth = 4,\n",
    "    ax = ax3,\n",
    "    hue=\"Country_Region\")\n",
    "plt.xticks(rotation=45)\n",
    "plt.legend(frameon=False)\n",
    "plt.legend(bbox_to_anchor=(1.04,1), borderaxespad=0)\n",
    "\n",
    "ax4 = fig1.add_subplot(224)\n",
    "sb.lineplot(\n",
    "    data=best_deaths_100K_df, \n",
    "#     kind=\"line\",\n",
    "    x=\"Date\", \n",
    "    y=\"StringencyIndex\",\n",
    "    ax = ax4,\n",
    "    linewidth = 4,\n",
    "    hue=\"Country_Region\")\n",
    "plt.xticks(rotation=45) \n",
    "plt.legend(frameon=False)\n",
    "plt.legend(bbox_to_anchor=(1.04,1), borderaxespad=0)\n",
    "\n",
    "fig1.tight_layout(pad=3)\n",
    "\n",
    "plt.savefig('best_perfarmance.png')"
   ]
  },
  {
   "cell_type": "markdown",
   "metadata": {},
   "source": [
    "# END"
   ]
  },
  {
   "cell_type": "code",
   "execution_count": null,
   "metadata": {},
   "outputs": [],
   "source": []
  },
  {
   "cell_type": "code",
   "execution_count": null,
   "metadata": {},
   "outputs": [],
   "source": []
  },
  {
   "cell_type": "code",
   "execution_count": null,
   "metadata": {},
   "outputs": [],
   "source": []
  },
  {
   "cell_type": "code",
   "execution_count": null,
   "metadata": {},
   "outputs": [],
   "source": []
  },
  {
   "cell_type": "code",
   "execution_count": null,
   "metadata": {},
   "outputs": [],
   "source": []
  },
  {
   "cell_type": "code",
   "execution_count": null,
   "metadata": {},
   "outputs": [],
   "source": []
  },
  {
   "cell_type": "code",
   "execution_count": null,
   "metadata": {},
   "outputs": [],
   "source": []
  },
  {
   "cell_type": "markdown",
   "metadata": {},
   "source": [
    "# Old  experimental script"
   ]
  },
  {
   "cell_type": "code",
   "execution_count": null,
   "metadata": {
    "id": "u3FefhzAZ5Pl"
   },
   "outputs": [],
   "source": [
    "# Individual Plots: number of confirmed cases in 100K \n",
    "my_final_df[my_final_df['CountryCode'] == \"USA\"].plot(y='Confirmed_100K', color='red',kind=\"line\",c='c')\n",
    "plt.ylim(0 , 1300)\n",
    "plt.title(\"USA Confirmed 100K\")\n",
    "my_final_df[my_final_df['Country_Region'] == \"India\"].plot(y='Confirmed_100K',marker='', color='olive', linewidth=2)\n",
    "plt.ylim(0 , 1300)\n",
    "plt.title(\"India Confirmed 100K\")\n",
    "my_final_df[my_final_df['Country_Region'] == \"Brazil\"].plot(y='Confirmed_100K',kind=\"line\",c='c')\n",
    "plt.ylim(0 , 1300)\n",
    "plt.title(\"Brazil Confirmed 100K\")\n",
    "my_final_df[my_final_df['Country_Region'] == \"Russia\"].plot(y='Confirmed_100K',kind=\"line\",c='c')\n",
    "plt.ylim(0 , 1300)\n",
    "plt.title(\"Russia Confirmed 100K\")\n",
    "my_final_df[my_final_df['CountryCode'] == \"COL\"].plot(y='Confirmed_100K',kind=\"line\",c='c')\n",
    "plt.ylim(0 , 1300)\n",
    "plt.title(\"Colombia Confirmed 100K\")\n",
    "\n",
    "plt.legend()\n",
    "plt.show()\n",
    "\n",
    "\n",
    "India_covid_df = my_final_df[my_final_df['Country_Region'] == \"Brazil\"]\n",
    "plot1=India_covid_df.plot(y='Confirmed_100K',kind=\"line\",c='c')\n",
    "#plt.ylim(0 , 100)\n",
    "plt.title(\"India confirmed cases\")\n",
    "plt.ylabel(\"Confirmed cases per 100K\")\n",
    "plt.show()\n",
    "\n",
    "\n",
    "my_final_df[my_final_df['CountryCode'] == \"USA\"].plot(y='Confirmed_100K',kind=\"line\",color='red',c='c')\n",
    "plt.title(\"USA confirmed cases\")\n",
    "plt.ylabel(\"Confirmed cases per 100K\")\n",
    "plt.ylim(0 , 1300)\n",
    "plt.legend()\n",
    "plt.show()\n",
    "\n",
    "my_final_df[my_final_df['Country_Region'] == \"India\"].plot(y='Confirmed_100K',marker='', color='olive', linewidth=2)\n",
    "plt.title(\"India confirmed cases\")\n",
    "plt.ylabel(\"Confirmed cases per 100K\")\n",
    "plt.ylim(0 , 1300)\n",
    "plt.legend()\n",
    "plt.show()\n",
    "\n",
    "my_final_df[my_final_df['Country_Region'] == \"Brazil\"].plot(y='Confirmed',kind=\"line\",color='green',c='c')\n",
    "plt.title(\"Brazil confirmed cases\")\n",
    "plt.ylabel(\"Confirmed cases per 100K\")\n",
    "#plt.ylim(0 , 1300)\n",
    "plt.legend()\n",
    "plt.show()\n",
    "my_final_df[my_final_df['Country_Region'] == \"Russia\"].plot(y='Confirmed_100K',kind=\"line\",c='c')\n",
    "plt.title(\"Russia confirmed cases\")\n",
    "plt.ylabel(\"Confirmed cases per 100K\")\n",
    "plt.ylim(0 , 1300)\n",
    "plt.legend()\n",
    "plt.show()\n",
    "my_final_df[my_final_df['CountryCode'] == \"COL\"].plot(y='Confirmed_100K',kind=\"line\",color='purple',c='c')\n",
    "plt.title(\"Colombia confirmed cases\")\n",
    "plt.ylabel(\"Confirmed cases per 100K\")\n",
    "plt.ylim(0 , 1300)\n",
    "plt.legend()\n",
    "plt.show()\n",
    "\n",
    "\n",
    "India_covid_df = my_final_df[my_final_df['Country_Region'] == \"Brazil\"]\n",
    "plot1=India_covid_df.plot(y='Confirmed_100K',kind=\"line\",c='c')\n",
    "#plt.ylim(0 , 100)\n",
    "plt.title(\"India confirmed cases\")\n",
    "plt.ylabel(\"Confirmed cases per 100K\")\n",
    "plt.show()\n",
    "\n",
    "\n",
    "\n",
    "\n",
    "\n"
   ]
  },
  {
   "cell_type": "code",
   "execution_count": null,
   "metadata": {
    "id": "q9cq1gchn78T"
   },
   "outputs": [],
   "source": [
    "my_final_df[my_final_df['CountryCode'] == \"USA\"].plot(y='Deaths_100K',kind=\"line\",c='c')\n",
    "#plt.ylim(0 , 1300)\n",
    "my_final_df[my_final_df['Country_Region'] == \"India\"].plot(y='Deaths_100K',marker='', color='olive', linewidth=2)\n",
    "#plt.ylim(0 , 1300)\n",
    "my_final_df[my_final_df['Country_Region'] == \"Brazil\"].plot(y='Deaths_100K',kind=\"line\",c='c')\n",
    "#plt.ylim(0 , 1300)\n",
    "my_final_df[my_final_df['Country_Region'] == \"Russia\"].plot(y='Deaths_100K',kind=\"line\",c='c')\n",
    "#plt.ylim(0 , 1300)\n",
    "my_final_df[my_final_df['CountryCode'] == \"COL\"].plot(y='Deaths_100K',kind=\"line\",c='c')\n",
    "#plt.ylim(0 , 1300)\n",
    "\n",
    "plt.legend()\n",
    "plt.show()\n"
   ]
  },
  {
   "cell_type": "code",
   "execution_count": null,
   "metadata": {
    "id": "B42kczBun_Nv"
   },
   "outputs": [],
   "source": [
    "my_final_df.describe()"
   ]
  },
  {
   "cell_type": "markdown",
   "metadata": {
    "id": "JS92mjmOe_bc"
   },
   "source": []
  },
  {
   "cell_type": "markdown",
   "metadata": {
    "id": "Yi7Zeq-ifaW0"
   },
   "source": [
    "#Stringency"
   ]
  },
  {
   "cell_type": "code",
   "execution_count": null,
   "metadata": {
    "id": "RTc3IhIIePSW"
   },
   "outputs": [],
   "source": [
    "#A. USA Stringency \n",
    "my_complete_df[my_complete_df['CountryCode'] == \"USA\"].plot(y='StringencyIndex',color='red', kind=\"line\",c='c')\n",
    "#plt.plot( 'x', 'y3', data=df, marker='', color='olive', linewidth=2, linestyle='dashed', label=\"toto\")\n",
    "plt.ylim(0 , 105)\n",
    "plt.title(\"USA Stringency Index\")\n",
    "plt.ylabel(\"Stringency Index (%)\")\n",
    "plt.legend()\n",
    "plt.show()\n",
    "\n"
   ]
  },
  {
   "cell_type": "code",
   "execution_count": null,
   "metadata": {
    "id": "TFfeJKI79uFN"
   },
   "outputs": [],
   "source": [
    "#A. USA Stringency \n",
    "US_covid_df = my_complete_df[my_complete_df['CountryCode'] == \"USA\"]\n",
    "#CHE_covid_df = my_complete_df[my_complete_df['Country_Region'] == \"US\"]\n",
    "plot1=my_complete_df[my_complete_df['CountryCode'] == \"USA\"].plot(y='StringencyIndex',kind=\"line\",c='c')\n",
    "plt.show()\n",
    "# B. India Stringency\n",
    "India_covid_df = my_complete_df[my_complete_df['Country_Region'] == \"India\"]\n",
    "#CHE_covid_df = my_complete_df[my_complete_df['Country_Region'] == \"US\"]\n",
    "plot1=India_covid_df.plot(y='StringencyIndex',kind=\"line\",c='c')\n",
    "plt.show()"
   ]
  },
  {
   "cell_type": "code",
   "execution_count": null,
   "metadata": {
    "id": "ykfUxxU_9bnY"
   },
   "outputs": [],
   "source": [
    "import matplotlib.pyplot as plt\n",
    "\n",
    "#df=pd.DataFrame({'x': range(1,11), 'y1': np.random.randn(10), 'y2': np.random.randn(10)+range(1,11), 'y3': np.random.randn(10)+range(11,21) })\n",
    "\n",
    "my_complete_df[my_complete_df['Country_Region'] == \"India\"].plot(y='StringencyIndex',marker='', color='olive', linewidth=2)\n",
    "plt.ylim(0 , 105)\n",
    "my_complete_df[my_complete_df['CountryCode'] == \"USA\"].plot(y='StringencyIndex',kind=\"line\",c='c')\n",
    "plt.ylim(0 , 105)\n",
    "my_complete_df[my_complete_df['Country_Region'] == \"Brazil\"].plot(y='StringencyIndex')\n",
    "plt.ylim(0 , 105)\n",
    "\n",
    "# C. Brazil Stringency\n",
    "Bra_covid_df = my_complete_df[my_complete_df['Country_Region'] == \"Brazil\"]\n",
    "#CHE_covid_df = my_complete_df[my_complete_df['Country_Region'] == \"US\"]\n",
    "plot1=Bra_covid_df.plot(y='StringencyIndex',kind=\"line\",c='c')\n",
    "plt.show()\n",
    "\n",
    "plt.legend()\n",
    "plt.show()\n",
    "\n",
    "my_complete_df[my_complete_df['Country_Region'] == \"Brazil\"].plot(y='StringencyIndex', color='green')\n",
    "plt.title(\"Brazil Stringency Index\")\n",
    "plt.ylim(0 , 105)\n",
    "plt.ylabel(\"Stringency Index (%)\")\n",
    "plt.legend()\n",
    "plt.show()\n"
   ]
  },
  {
   "cell_type": "code",
   "execution_count": null,
   "metadata": {
    "id": "O1T6ysXm8AME"
   },
   "outputs": [],
   "source": [
    "my_final_df"
   ]
  },
  {
   "cell_type": "code",
   "execution_count": null,
   "metadata": {
    "id": "5lXk9mPuK86S"
   },
   "outputs": [],
   "source": []
  },
  {
   "cell_type": "code",
   "execution_count": null,
   "metadata": {
    "id": "gJs5j0wDLDjy"
   },
   "outputs": [],
   "source": []
  },
  {
   "cell_type": "code",
   "execution_count": null,
   "metadata": {
    "id": "EY-4rIvmLFur"
   },
   "outputs": [],
   "source": []
  },
  {
   "cell_type": "code",
   "execution_count": null,
   "metadata": {
    "id": "0RXLe50-LIP5"
   },
   "outputs": [],
   "source": []
  },
  {
   "cell_type": "markdown",
   "metadata": {
    "id": "yMaPZj9Yh6mf"
   },
   "source": []
  },
  {
   "cell_type": "code",
   "execution_count": null,
   "metadata": {
    "id": "62c_GXOpLMK8"
   },
   "outputs": [],
   "source": []
  },
  {
   "cell_type": "code",
   "execution_count": null,
   "metadata": {
    "id": "tsIym_pXLfs5"
   },
   "outputs": [],
   "source": []
  },
  {
   "cell_type": "markdown",
   "metadata": {
    "id": "cfkJdipASqgI"
   },
   "source": [
    "#3. Correlations\n",
    "\n",
    "Here, we explored the correlations between the variables\n",
    "\n"
   ]
  },
  {
   "cell_type": "code",
   "execution_count": null,
   "metadata": {
    "id": "sB6G3eK_6pEg"
   },
   "outputs": [],
   "source": [
    "#coun[coun[\"Confirmed\"] = 1]\n",
    "#coun[coun[\"Confirmed\"]]\n",
    "coun.isna().sum()"
   ]
  },
  {
   "cell_type": "code",
   "execution_count": null,
   "metadata": {
    "id": "DUD4P-jhOio-"
   },
   "outputs": [],
   "source": [
    "# We explored the graphical correlation between the variables of interest\n",
    "\n",
    "#col_stringe=stringe_natio_dataset[stringe_natio_dataset[\"CountryName\"]==\"Colombia\"]\n",
    "#col_stringe\n",
    "#stringe_natio_dataset['Date'] = pd.to_datetime(stringe_natio_dataset['Date'], format = '%Y%m%d')\n",
    "col_sub= my_final_df[my_final_df['Country_Region'] == \"Colombia\"]\n",
    "ind_sub= my_final_df[my_final_df['Country_Region'] == \"India\"]\n",
    "usa_sub= my_final_df[my_final_df['CountryCode'] == \"USA\"]\n",
    "bra_sub = my_final_df[my_final_df['Country_Region'] == \"Brazil\"]\n",
    "rus_sub= my_final_df[my_final_df['Country_Region'] == \"Russia\"]\n"
   ]
  },
  {
   "cell_type": "code",
   "execution_count": null,
   "metadata": {
    "id": "Xj-SEzBcqe7J"
   },
   "outputs": [],
   "source": [
    "col_sub =col_sub[[\"Confirmed_100K\", \"StringencyIndex\",\"Deaths_100K\", \"Recovered\"]]\n",
    "ind_sub =ind_sub[[\"Confirmed_100K\", \"StringencyIndex\",\"Deaths_100K\", \"Recovered\"]]\n",
    "usa_sub =usa_sub[[\"Confirmed_100K\", \"StringencyIndex\",\"Deaths_100K\", \"Recovered\"]]\n",
    "bra_sub =bra_sub[[\"Confirmed_100K\", \"StringencyIndex\",\"Deaths_100K\", \"Recovered\"]]\n",
    "rus_sub =rus_sub[[\"Confirmed_100K\", \"StringencyIndex\",\"Deaths_100K\", \"Recovered\"]]\n",
    "\n",
    "sb.pairplot(col_sub)\n",
    "sb.pairplot(ind_sub)\n",
    "sb.pairplot(usa_sub)\n",
    "sb.pairplot(bra_sub)\n",
    "sb.pairplot(rus_sub)\n",
    "#col_sub[\"Confirmed_100K\"]"
   ]
  },
  {
   "cell_type": "code",
   "execution_count": null,
   "metadata": {
    "id": "ZScACwwMdNKT"
   },
   "outputs": [],
   "source": [
    "#spearmanr_coefficient, p_value=spearmanr(col_sub[\"Confirmed_100K\"],col_sub[\"Deaths_100K\"])\n",
    "p_value1=spearmanr(col_sub[\"Confirmed_100K\"],col_sub[\"Deaths_100K\"])\n",
    "p_value2=spearmanr(col_sub[\"Confirmed_100K\"],col_sub[\"Recovered\"])\n",
    "p_value3=spearmanr(col_sub[\"Confirmed_100K\"],col_sub[\"StringencyIndex\"])\n",
    "p_value3\n",
    "#spearmanr_coefficient"
   ]
  },
  {
   "cell_type": "code",
   "execution_count": null,
   "metadata": {
    "id": "LQC90uwMUq8Y"
   },
   "outputs": [],
   "source": [
    "\n",
    "#training_set_deaths = my_col_death\n",
    "y_deaths = np.array([my_col_death[\"StringencyIndex\"]]).reshape(-1, 1)\n",
    "x_deaths = np.array([my_col_death[\"Deaths\"]]).reshape(-1, 1)\n",
    "#len(y_deaths)\n",
    "pearsonr(x_deaths, y_deaths)\n",
    "len(y_deaths)"
   ]
  },
  {
   "cell_type": "markdown",
   "metadata": {
    "id": "SaWjREmcaSVQ"
   },
   "source": [
    "# 4. Polynomial Regression of Coronavirus cases\n",
    "\n",
    "This data could be potentially used for predictive analysis\n"
   ]
  },
  {
   "cell_type": "code",
   "execution_count": null,
   "metadata": {
    "id": "6tFX2_A6g2cU"
   },
   "outputs": [],
   "source": [
    "import statsmodels.api as sm\n",
    "import statsmodels.formula.api as smf\n",
    "import pandas as pd"
   ]
  },
  {
   "cell_type": "code",
   "execution_count": null,
   "metadata": {
    "id": "Nn4461G9FOWx"
   },
   "outputs": [],
   "source": [
    "import numpy as np\n",
    "from sklearn.linear_model import LinearRegression\n",
    "from sklearn.preprocessing import PolynomialFeatures\n",
    "\n",
    "class PolynomialRegressionModel:\n",
    "\n",
    "    def __init__(self, model_name, polynomial_degree):\n",
    "        self.__model_name = model_name\n",
    "        self.__polynomial_degree = polynomial_degree\n",
    "        self.__model = None\n",
    "\n",
    "    def train(self, x, y):\n",
    "        polynomial_features = PolynomialFeatures(degree=self.__polynomial_degree)\n",
    "        x_poly = polynomial_features.fit_transform(x)\n",
    "        self.__model = LinearRegression()\n",
    "        self.__model.fit(x_poly, y)\n",
    "\n",
    "    def get_predictions(self, x):\n",
    "        polynomial_features = PolynomialFeatures(degree=self.__polynomial_degree)\n",
    "        x_poly = polynomial_features.fit_transform(x)\n",
    "        return np.round(self.__model.predict(x_poly), 0).astype(np.int32)\n",
    "\n",
    "    def get_model_polynomial_str(self):\n",
    "        coef = self.__model.coef_\n",
    "        intercept = self.__model.intercept_\n",
    "        poly = \"{0:.3f}\".format(intercept)\n",
    "\n",
    "        for i in range(1, len(coef)):\n",
    "            if coef[i] >= 0:\n",
    "                poly += \" + \"\n",
    "            else:\n",
    "                poly += \" - \"\n",
    "            poly += \"{0:.3f}\".format(coef[i]).replace(\"-\", \"\") + \"X^\" + str(i)\n",
    "\n",
    "        return poly"
   ]
  },
  {
   "cell_type": "code",
   "execution_count": null,
   "metadata": {
    "id": "Iqtv4zavM0DI"
   },
   "outputs": [],
   "source": [
    "def print_forecast(model_name, model, beginning_day=0, limit=10):\n",
    "\n",
    "    next_days_x = np.array(range(beginning_day, beginning_day + limit)).reshape(-1, 1)\n",
    "    next_days_pred = model.get_predictions(next_days_x)\n",
    "\n",
    "    print(\"The forecast for \" + model_name + \" in the following \" + str(limit) + \" days is:\")\n",
    "    for i in range(0, limit):\n",
    "        print(\"Day \" + str(i + 1) + \": \" + str(next_days_pred[i]))"
   ]
  },
  {
   "cell_type": "code",
   "execution_count": null,
   "metadata": {
    "id": "A_HiuI2zM6Aw"
   },
   "outputs": [],
   "source": [
    "import operator\n",
    "\n",
    "def plot_graph(model_name, x, y, y_pred):\n",
    "\n",
    "    plt.scatter(x, y, s=10)\n",
    "    sort_axis = operator.itemgetter(0)\n",
    "    sorted_zip = sorted(zip(x, y_pred), key=sort_axis)\n",
    "    x, y_pred = zip(*sorted_zip)\n",
    "\n",
    "    plt.plot(x, y_pred, color='m')\n",
    "    plt.title(\"Amount of \" + model_name + \" in each day\")\n",
    "    plt.xlabel(\"Day\")\n",
    "    plt.ylabel(model_name)\n",
    "    plt.show()"
   ]
  },
  {
   "cell_type": "code",
   "execution_count": null,
   "metadata": {
    "id": "ogomO-trRsTp"
   },
   "outputs": [],
   "source": [
    "# 1. Data, first example is Russia\n",
    "overall_deaths_ts_df = deaths_df[deaths_df[\"Country/Region\"] == \"Colombia\"]\n",
    "new_country_deaths_df = overall_deaths_ts_df[date_list].T\n",
    "\n",
    "\n",
    "new_country_deaths_df.columns = [\"deaths\"]\n",
    "new_country_deaths_df = new_country_deaths_df.assign(days=[1 +\n",
    "                                                   i for i in range(len(new_country_deaths_df))])[['days'] + \n",
    "                                                   new_country_deaths_df.columns.tolist()]\n",
    "new_country_deaths_df"
   ]
  },
  {
   "cell_type": "code",
   "execution_count": null,
   "metadata": {
    "id": "f6So1Myk47_v"
   },
   "outputs": [],
   "source": [
    "overall_deaths_ts_df = confirmed_df[confirmed_df[\"Country/Region\"] == \"India\"]\n",
    "new_country_deaths_df = overall_deaths_ts_df[date_list].T\n",
    "\n",
    "\n",
    "new_country_deaths_df.columns = [\"confirmed\"]\n",
    "new_country_deaths_df = new_country_deaths_df.assign(days=[1 +\n",
    "                                                   i for i in range(len(new_country_deaths_df))])[['days'] + \n",
    "                                                   new_country_deaths_df.columns.tolist()]\n",
    "new_country_deaths_df"
   ]
  },
  {
   "cell_type": "code",
   "execution_count": null,
   "metadata": {
    "id": "8JYJyf7FMsVA"
   },
   "outputs": [],
   "source": [
    "# 2. select data attention\n",
    "training_set_deaths = new_country_deaths_df\n",
    "x_deaths = np.array(training_set_deaths[\"days\"]).reshape(-1, 1)\n",
    "y_deaths = training_set_deaths[\"confirmed\"]"
   ]
  },
  {
   "cell_type": "code",
   "execution_count": null,
   "metadata": {
    "id": "ebfVyrKDNMD_"
   },
   "outputs": [],
   "source": [
    "# 3 Modelling Country predictive deaths\n",
    "regression_model = PolynomialRegressionModel(\"Deaths using Polynomial Regression\", 2)\n",
    "regression_model.train(x_deaths, y_deaths)\n",
    "y_deaths_pred = regression_model.get_predictions(x_deaths)\n",
    "print_forecast(\"Deaths using Polynomial Regression\", regression_model, \n",
    "               beginning_day=len(x_deaths), \n",
    "               limit=10)\n",
    "plot_graph(\"Russia Deaths\", x_deaths, y_deaths, y_deaths_pred)"
   ]
  },
  {
   "cell_type": "markdown",
   "metadata": {
    "id": "0lSFfpXHy2eX"
   },
   "source": [
    "# Examples\n"
   ]
  },
  {
   "cell_type": "code",
   "execution_count": null,
   "metadata": {
    "id": "eRUaHWtfhBTj"
   },
   "outputs": [],
   "source": [
    "dates = confirmed_df.columns[4:]\n",
    "\n",
    "confirmed_df_long = confirmed_df.melt(\n",
    "    id_vars=['Province/State', 'Country/Region', 'Lat', 'Long'], \n",
    "    value_vars=dates, \n",
    "    var_name='Date', \n",
    "    value_name='Confirmed')\n",
    "\n",
    "deaths_df_long = deaths_df.melt(\n",
    "    id_vars=['Province/State', 'Country/Region', 'Lat', 'Long'], \n",
    "    value_vars=dates, \n",
    "    var_name='Date', \n",
    "    value_name='Deaths')\n",
    "\n",
    "recovered_df_long = recovered_df.melt(\n",
    "    id_vars=['Province/State', 'Country/Region', 'Lat', 'Long'], \n",
    "    value_vars=dates, \n",
    "    var_name='Date', \n",
    "    value_name='Recovered')"
   ]
  },
  {
   "cell_type": "code",
   "execution_count": null,
   "metadata": {
    "id": "9TNiXAw3hRfD"
   },
   "outputs": [],
   "source": [
    "# World Recovered\n",
    "world_recovered_ts_url = 'https://raw.githubusercontent.com/CSSEGISandData/COVID-19/master/csse_covid_19_data/csse_covid_19_time_series/time_series_covid19_recovered_global.csv'\n",
    "world_recovered_ts_df = pd.read_csv(world_recovered_ts_url, header=0, escapechar='\\\\')\n",
    "world_recovered_ts_df.head(5)"
   ]
  },
  {
   "cell_type": "code",
   "execution_count": null,
   "metadata": {
    "id": "KUSHw0yBha14"
   },
   "outputs": [],
   "source": [
    "world_recovered_ts_df = world_recovered_ts_df.assign(days=[1 + \n",
    "                                               i for i in range(len(world_recovered_ts_df))])[['days'] + \n",
    "                                               world_recovered_ts_df.columns.tolist()]"
   ]
  },
  {
   "cell_type": "code",
   "execution_count": null,
   "metadata": {
    "id": "zGKcyjFyhbbP"
   },
   "outputs": [],
   "source": [
    "recovered_df_long = world_recovered_ts_df.melt(\n",
    "    id_vars=[\"days\",'Province/State', 'Country/Region', 'Lat', 'Long'], \n",
    "    value_vars=dates, \n",
    "    var_name='Date', \n",
    "    value_name='Recovered')"
   ]
  },
  {
   "cell_type": "code",
   "execution_count": null,
   "metadata": {
    "id": "u8tBugGShfBN"
   },
   "outputs": [],
   "source": [
    "training_set = recovered_df_long\n",
    "x = np.array(training_set[\"days\"]).reshape(-1, 1)\n",
    "y = training_set[\"Recovered\"]"
   ]
  },
  {
   "cell_type": "code",
   "execution_count": null,
   "metadata": {
    "id": "NMmyiI6AhvQl"
   },
   "outputs": [],
   "source": [
    "regression_model = PolynomialRegressionModel(\"Cases using Polynomial Regression\", 2)\n",
    "regression_model.train(x, y)"
   ]
  },
  {
   "cell_type": "code",
   "execution_count": null,
   "metadata": {
    "id": "3Ii0RAJNh0Fa"
   },
   "outputs": [],
   "source": [
    "y_pred = regression_model.get_predictions(x)\n",
    "y_pred\n",
    "training_set = new_usa_recovered_df\n",
    "x = np.array(training_set[\"days\"]).reshape(-1, 1)\n",
    "y = training_set[\"recovered\"]"
   ]
  },
  {
   "cell_type": "code",
   "execution_count": null,
   "metadata": {
    "id": "R8GtO4SIhVKG"
   },
   "outputs": [],
   "source": [
    "#world_confirmed_ts_url = 'https://raw.githubusercontent.com/CSSEGISandData/COVID-19/master/csse_covid_19_data/csse_covid_19_time_series/time_series_covid19_confirmed_global.csv'"
   ]
  },
  {
   "cell_type": "code",
   "execution_count": null,
   "metadata": {
    "id": "y0bX7_NJhHeN"
   },
   "outputs": [],
   "source": [
    "confirmed_df_india = confirmed_df[confirmed_df[\"Country/Region\"]==\"India\"]\n",
    "deaths_df_india = deaths_df[deaths_df[\"Country/Region\"]==\"India\"]\n",
    "recovered_df_india= recovered_df[recovered_df[\"Country/Region\"]==\"India\"]\n",
    "recovered_df_india\n",
    "#deaths_df = pd.read_csv('time_series_covid19_deaths_global.csv')\n",
    "#recovered_df = pd.read_csv('time_series_covid19_recovered_global.csv')"
   ]
  },
  {
   "cell_type": "code",
   "execution_count": null,
   "metadata": {
    "id": "FmwJdFXGc3Od"
   },
   "outputs": [],
   "source": [
    "# 1. Data, first example is Russia 2\n",
    "new_country_deaths_df= my_final_df[my_final_df['Country_Region'] == \"Colombia\"]\n",
    "#overall_deaths_ts_df = deaths_df[deaths_df[\"Country/Region\"] == \"Russia\"]\n",
    "#new_country_deaths_df = overall_deaths_ts_df[date_list].T\n",
    "#new_country_deaths_df.columns = [\"deaths\"]\n",
    "new_country_deaths_df = new_country_deaths_df.assign(days=[1 +\n",
    "                                                   i for i in range(len(new_country_deaths_df))])[['days'] + \n",
    "                                                   new_country_deaths_df.columns.tolist()]\n",
    "new_country_deaths_df"
   ]
  },
  {
   "cell_type": "code",
   "execution_count": null,
   "metadata": {
    "id": "iDSMXtZ2zNH6"
   },
   "outputs": [],
   "source": [
    "# 2. select data attention\n",
    "training_set_deaths = new_country_deaths_df\n",
    "x_deaths = np.array(training_set_deaths[\"days\"]).reshape(-1, 1)\n",
    "y_deaths = training_set_deaths[\"Deaths\"]\n",
    "x_active = np.array(training_set_deaths[\"days\"]).reshape(-1, 1)\n",
    "y_active = training_set_deaths[\"Active\"]\n",
    "x_confirmed = np.array(training_set_deaths[\"days\"]).reshape(-1, 1)\n",
    "y_confirmed = training_set_deaths[\"Confirmed\"]\n"
   ]
  },
  {
   "cell_type": "code",
   "execution_count": null,
   "metadata": {
    "id": "RIGP8KW5zYcZ"
   },
   "outputs": [],
   "source": [
    "# 3 Modelling Country predictive deaths, \n",
    "regression_model = PolynomialRegressionModel(\"Deaths using Polynomial Regression\", 2)\n",
    "regression_model.train(x_deaths, y_deaths)\n",
    "y_deaths_pred = regression_model.get_predictions(x_deaths)\n",
    "print_forecast(\"Deaths using Polynomial Regression\", regression_model, \n",
    "               beginning_day=len(x_deaths), \n",
    "               limit=10)\n",
    "plot_graph(\"Colombia Deaths\", x_deaths, y_deaths, y_deaths_pred)\n",
    "\n",
    "regression_model = PolynomialRegressionModel(\"Deaths using Polynomial Regression\", 3)\n",
    "regression_model.train(x_active, y_active)\n",
    "y_active_pred = regression_model.get_predictions(x_active)\n",
    "print_forecast(\"Deaths using Polynomial Regression\", regression_model, \n",
    "               beginning_day=len(x_active), \n",
    "               limit=10)\n",
    "plot_graph(\"Colombia Active\", x_active, y_active, y_active_pred)\n",
    "\n",
    "regression_model = PolynomialRegressionModel(\"Deaths using Polynomial Regression\", 2)\n",
    "regression_model.train(x_confirmed, y_confirmed)\n",
    "y_confirmed_pred = regression_model.get_predictions(x_confirmed)\n",
    "print_forecast(\"Deaths using Polynomial Regression\", regression_model, \n",
    "               beginning_day=len(x_confirmed), \n",
    "               limit=10)\n",
    "plot_graph(\"Colombia Confirmed\", x_confirmed, y_confirmed, y_confirmed_pred)"
   ]
  },
  {
   "cell_type": "markdown",
   "metadata": {
    "id": "U43qlpmBa9kk"
   },
   "source": [
    "# More Code"
   ]
  },
  {
   "cell_type": "code",
   "execution_count": null,
   "metadata": {
    "id": "8JFOlWfva7s_"
   },
   "outputs": [],
   "source": [
    "import operator\n",
    "\n",
    "def plot_graph(model_name, x, y, y_pred):\n",
    "\n",
    "    plt.scatter(x, y, s=10)\n",
    "    sort_axis = operator.itemgetter(0)\n",
    "    sorted_zip = sorted(zip(x, y_pred), key=sort_axis)\n",
    "    x, y_pred = zip(*sorted_zip)\n",
    "\n",
    "    plt.plot(x, y_pred, color='m')\n",
    "    plt.title(\"Amount of \" + model_name + \" in each day\")\n",
    "    plt.xlabel(\"Day\")\n",
    "    plt.ylabel(model_name)\n",
    "    plt.show()"
   ]
  },
  {
   "cell_type": "code",
   "execution_count": null,
   "metadata": {
    "id": "JTJ7SnPyeBpB"
   },
   "outputs": [],
   "source": [
    "sb.boxplot(\n",
    "    data=coun, x=\"incomeLevel.value\", y=\"Confirmed\",\n",
    "    hue=\"Country_Region\")\n",
    "\n",
    "#my_complete_df[my_complete_df['CountryCode'] == \"USA\"]\n",
    "#CHE_covid_df = my_complete_df[my_complete_df['Country_Region'] == \"US\"]\n",
    "\n",
    "fig, ax1 = plt.subplots()\n",
    "ax2 = ax1.twinx()\n",
    "Bra_covid_df.plot(y='StringencyIndex',kind=\"line\",c='c')\n",
    "\n",
    "#ax1.plot(x, y1, 'g-')\n",
    "#ax2.plot(x, y2, 'b-')"
   ]
  },
  {
   "cell_type": "code",
   "execution_count": null,
   "metadata": {
    "id": "-CwShaS9OfhX"
   },
   "outputs": [],
   "source": [
    "countries = [\"US\", \"India\", \"Brazil\", \"Russia\", \"Colombia\"]\n",
    "my_final_df[my_final_df['Country_Region'].isin(countries)].plot(y='Confirmed_100K',kind=\"line\",c='c')\n",
    "\n",
    "df=pd.DataFrame({'y1': my_final_df[my_final_df['Country_Region'] == \"Brazil\",],\n",
    "                 'y2': np.random.randn(10)+range(1,11), \n",
    "                 'y3': np.random.randn(10)+range(11,21) })\n",
    "\n",
    "# multiple line plot\n",
    "#plt.plot( 'x', 'y1', data=df, marker='o', markerfacecolor='blue', markersize=12, color='skyblue', linewidth=4)\n",
    "#plt.plot( 'x', 'y2', data=df, marker='', color='olive', linewidth=2)\n",
    "#plt.plot( 'x', 'y3', data=df, marker='', color='olive', linewidth=2, linestyle='dashed', label=\"toto\")\n",
    "\n"
   ]
  },
  {
   "cell_type": "code",
   "execution_count": null,
   "metadata": {
    "id": "MeCor8W7LscQ"
   },
   "outputs": [],
   "source": [
    "usa_overall_deaths_ts_df = world_deaths_ts_df[world_deaths_ts_df[\"Country/Region\"] == \"Russia\"]\n",
    "new_usa_deaths_df = usa_overall_deaths_ts_df[date_list].T\n",
    "new_usa_deaths_df.columns = [\"deaths\"]\n",
    "new_usa_deaths_df = new_usa_deaths_df.assign(days=[1 +\n",
    "                                                   i for i in range(len(new_usa_deaths_df))])[['days'] + \n",
    "                                                   new_usa_deaths_df.columns.tolist()]\n",
    "new_usa_deaths_df"
   ]
  },
  {
   "cell_type": "code",
   "execution_count": null,
   "metadata": {
    "id": "NbaB5InLVq-E"
   },
   "outputs": [],
   "source": [
    "x_deaths"
   ]
  },
  {
   "cell_type": "code",
   "execution_count": null,
   "metadata": {
    "id": "1exTtV33MxLg"
   },
   "outputs": [],
   "source": [
    "y_pred = regression_model.get_predictions(x)\n",
    "y_pred"
   ]
  },
  {
   "cell_type": "code",
   "execution_count": null,
   "metadata": {
    "id": "D4OoNX7mM2yA"
   },
   "outputs": [],
   "source": [
    "print_forecast(\"Cases using Polynomial Regression\", regression_model, \n",
    "               beginning_day=len(x), \n",
    "               limit=10)"
   ]
  },
  {
   "cell_type": "code",
   "execution_count": null,
   "metadata": {
    "id": "jQkufxDDM8Hv"
   },
   "outputs": [],
   "source": [
    "plot_graph(\"Cases using Polynomial Regression\", x, y, y_pred)\n"
   ]
  },
  {
   "cell_type": "code",
   "execution_count": null,
   "metadata": {
    "id": "bCMXOrCiSJ-O"
   },
   "outputs": [],
   "source": [
    "# Model\n",
    "regression_model = PolynomialRegressionModel(\"Cases using Polynomial Regression\", 2)\n",
    "regression_model.train(x_deaths, y_deaths)"
   ]
  },
  {
   "cell_type": "code",
   "execution_count": null,
   "metadata": {
    "id": "Qt9yhxR-cZtX"
   },
   "outputs": [],
   "source": [
    "# For Colombia\n",
    "deaths_df\n",
    "overall_deaths_ts_df = deaths_df[deaths_df[\"Country/Region\"] == \"Colombia\"]\n",
    "new_country_deaths_df = overall_deaths_ts_df[date_list].T\n",
    "new_country_deaths_df.columns = [\"deaths\"]\n",
    "new_country_deaths_df = new_country_deaths_df.assign(days=[1 +\n",
    "                                                   i for i in range(len(new_country_deaths_df))])[['days'] + \n",
    "                                                   new_country_deaths_df.columns.tolist()]\n",
    "new_country_deaths_df"
   ]
  },
  {
   "cell_type": "code",
   "execution_count": null,
   "metadata": {
    "id": "18Ep_0T1Udtk"
   },
   "outputs": [],
   "source": [
    "#countries = sorted(corona_data['Country/Region'].unique())\n",
    "countries =[\"Brazil\", \"India\"]\n",
    "n_rows = len(countries) // 2 + 1\n",
    "i = 0\n",
    "for country in (countries):\n",
    "    country_data = my_final_df[my_final_df['Country_Region'] == country]\n",
    "    # sum all the rows together for each column, and select only the data columns\n",
    "    by_date = country_data[my_final_df['Confirmed_100K'].filter(like='/20')\n",
    "\n",
    "#my_final_df[my_final_df['Country_Region'] == \"Russia\"].plot(y='Confirmed_100K',kind=\"line\",c='c')\n",
    "    # plot it if numbers exceed specified amount on date\n",
    "    if by_date['3/14/20'] > 1000:\n",
    "        plt.subplot(n_rows, 2, i+1)\n",
    "        by_date.plot(title='cases by date: %s' % country, color='green', figsize=(20,5 * n_rows))\n",
    "        i += 1"
   ]
  },
  {
   "cell_type": "code",
   "execution_count": null,
   "metadata": {
    "id": "jV2Du2-bcUf6"
   },
   "outputs": [],
   "source": []
  },
  {
   "cell_type": "code",
   "execution_count": null,
   "metadata": {
    "id": "EUiMHrRRcYcM"
   },
   "outputs": [],
   "source": []
  },
  {
   "cell_type": "code",
   "execution_count": null,
   "metadata": {
    "id": "l8qEI4GPAbDy"
   },
   "outputs": [],
   "source": []
  },
  {
   "cell_type": "code",
   "execution_count": null,
   "metadata": {},
   "outputs": [],
   "source": []
  },
  {
   "cell_type": "code",
   "execution_count": null,
   "metadata": {
    "colab": {
     "base_uri": "https://localhost:8080/",
     "height": 710
    },
    "id": "jeqqtXxBq1Ym",
    "outputId": "bda5c9c3-fd5e-45ea-b9ea-253297049f6b"
   },
   "outputs": [],
   "source": [
    "#countries = sorted(confirmed_df['Country/Region'].unique())\n",
    "countries =[\"Brazil\", \"India\", \"Colombia\", \"US\",\"Russia\"]\n",
    "n_rows = len(countries) // 2 + 1\n",
    "i = 0\n",
    "for country in (countries):\n",
    "    country_data = confirmed_df[confirmed_df['Country/Region'] == country]\n",
    "    # sum all the rows together for each column, and select only the data columns\n",
    "    by_date = country_data.sum().filter(like='/20')\n",
    "    \n",
    "    # plot it if numbers exceed specified amount on date\n",
    "    if by_date['10/10/20'] > 0:\n",
    "        plt.subplot(n_rows, 2, i+1)\n",
    "        by_date.plot(title='Coronavirus Cases: %s' % country, color='blue', figsize=(20,5 * n_rows))\n",
    "        i += 1"
   ]
  },
  {
   "cell_type": "code",
   "execution_count": null,
   "metadata": {
    "colab": {
     "base_uri": "https://localhost:8080/",
     "height": 710
    },
    "id": "3nAwU91_diFq",
    "outputId": "082ca773-9252-4b24-f11b-5222e84216c5"
   },
   "outputs": [],
   "source": [
    "#countries = sorted(deaths_df['Country/Region'].unique())\n",
    "countries =[\"Brazil\", \"India\", \"Colombia\", \"US\",\"Russia\"]\n",
    "n_rows = len(countries) // 2 + 1\n",
    "i = 0\n",
    "for country in (countries):\n",
    "    country_data = deaths_df[deaths_df['Country/Region'] == country]\n",
    "    # sum all the rows together for each column, and select only the data columns\n",
    "    by_date = country_data.sum().filter(like='/20')\n",
    "    \n",
    "    # plot it if numbers exceed specified amount on date\n",
    "    if by_date['10/10/20'] > 0:\n",
    "        plt.subplot(n_rows, 2, i+1)\n",
    "        by_date.plot(title='Coronavirus Deaths: %s' % country, color='blue', figsize=(20,5 * n_rows))\n",
    "        i += 1"
   ]
  },
  {
   "cell_type": "code",
   "execution_count": null,
   "metadata": {
    "colab": {
     "base_uri": "https://localhost:8080/",
     "height": 198
    },
    "id": "H9pUl9TWgxIO",
    "outputId": "4774b813-75ad-45c2-898b-bdfd610f528a"
   },
   "outputs": [],
   "source": [
    "#my_final_df[my_final_df['CountryCode'] == \"USA\"]\n",
    "#my_final_df.describe\n",
    "#my_final_df.columns\n",
    "#my_final_df['Date'] \n",
    "#= pd.to_datetime(my_final_df['Date'], format='%Y%m%d')\n",
    "\n",
    "#date_list= my_final_df.loc['2020-10-10']\n",
    "#date_list\n",
    "#my_final_df.set_index(my_final_df['Date'], inplace=True) \n",
    "#my_final_df[:,my_final_df[\"Date\"]]\n",
    "#confirmed_df[['Country/Region', date_list[-1]]].sort_values(by = date_list[-1], ascending = False).head(5)\n",
    "#date_list[['CountryCode', \"Confirmed\"]].sort_values(by =\"Confirmed\", ascending = False).head(5)"
   ]
  },
  {
   "cell_type": "code",
   "execution_count": null,
   "metadata": {
    "colab": {
     "base_uri": "https://localhost:8080/",
     "height": 669
    },
    "id": "liZ446VYb4WU",
    "outputId": "67f096ba-7feb-4474-cae6-ed3fa75b5602"
   },
   "outputs": [],
   "source": [
    "#Sorting by number of confirmed cases in 100K\n",
    "#sort1 =my_final_df.groupby(['Date', \"Country_Region\"])[['Confirmed', 'Deaths', 'Recovered', 'StringencyIndex']].sum().reset_index()\n",
    "#sort1\n",
    "#sort1[sort1[\"Date\"]==\"2020-10-12\"].sort_values(by = \"Confirmed\", ascending = True).head(50)\n",
    "#sort2 = my_final_df.groupby(['Date', \"Country_Region\",\"IncomeGroup\",\"GDP_in_USD\"])[['Confirmed_100K', 'Deaths_100K', 'Recovered_100K']].sum().reset_index()\n",
    "#sort2 = my_final_df.groupby(['Date', \"Country_Region\",\"incomeLevel.value\",\"GDP_in_USD\"])[['Confirmed_100K', 'Deaths_100K', 'Recovered_100K']].sum().reset_index()\n",
    "# sort3=my_final_df.reset_index()\n",
    "# sort3[sort3[\"Date\"]==\"2020-10-12\"].sort_values(by = \"Deaths_100K\", ascending = False).head(20)\n",
    "my_final_df.reset_index()[my_final_df.reset_index()['Date'] == \"2020-10-12\"].sort_values(by = \"Deaths_100K\", ascending = False).head(20)"
   ]
  }
 ],
 "metadata": {
  "colab": {
   "collapsed_sections": [],
   "name": "M1_cas_data_science.ipynb",
   "provenance": [],
   "toc_visible": true
  },
  "kernelspec": {
   "display_name": "Python 3",
   "language": "python",
   "name": "python3"
  },
  "language_info": {
   "codemirror_mode": {
    "name": "ipython",
    "version": 3
   },
   "file_extension": ".py",
   "mimetype": "text/x-python",
   "name": "python",
   "nbconvert_exporter": "python",
   "pygments_lexer": "ipython3",
   "version": "3.7.6"
  }
 },
 "nbformat": 4,
 "nbformat_minor": 4
}
