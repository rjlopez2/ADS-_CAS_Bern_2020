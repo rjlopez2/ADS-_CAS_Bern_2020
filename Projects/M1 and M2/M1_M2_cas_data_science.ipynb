{
  "nbformat": 4,
  "nbformat_minor": 0,
  "metadata": {
    "kernelspec": {
      "display_name": "Python 3",
      "language": "python",
      "name": "python3"
    },
    "language_info": {
      "codemirror_mode": {
        "name": "ipython",
        "version": 3
      },
      "file_extension": ".py",
      "mimetype": "text/x-python",
      "name": "python",
      "nbconvert_exporter": "python",
      "pygments_lexer": "ipython3",
      "version": "3.7.6"
    },
    "colab": {
      "name": "M1-M2_cas_data_science.ipynb",
      "provenance": [],
      "collapsed_sections": [],
      "toc_visible": true
    }
  },
  "cells": [
    {
      "cell_type": "markdown",
      "metadata": {
        "id": "ZNcjDy0ip5Qd"
      },
      "source": [
        "### **Import libraries**"
      ]
    },
    {
      "cell_type": "code",
      "metadata": {
        "id": "-5JnbT3Vp5Qf",
        "outputId": "7b5a3d5d-f5d9-4039-f080-b2c597b535ad",
        "colab": {
          "base_uri": "https://localhost:8080/",
          "height": 170
        }
      },
      "source": [
        "import pandas as pd\n",
        "!pip install wget\n",
        "import os\n",
        "import wget\n",
        "import requests\n",
        "import matplotlib.pyplot as plt\n",
        "pd.set_option('display.max_rows', 200)"
      ],
      "execution_count": null,
      "outputs": [
        {
          "output_type": "stream",
          "text": [
            "Collecting wget\n",
            "  Downloading https://files.pythonhosted.org/packages/47/6a/62e288da7bcda82b935ff0c6cfe542970f04e29c756b0e147251b2fb251f/wget-3.2.zip\n",
            "Building wheels for collected packages: wget\n",
            "  Building wheel for wget (setup.py) ... \u001b[?25l\u001b[?25hdone\n",
            "  Created wheel for wget: filename=wget-3.2-cp36-none-any.whl size=9682 sha256=91b399efc8b37b0f7d003643c40405f625b90550fff636bdb7df7bc945bae38b\n",
            "  Stored in directory: /root/.cache/pip/wheels/40/15/30/7d8f7cea2902b4db79e3fea550d7d7b85ecb27ef992b618f3f\n",
            "Successfully built wget\n",
            "Installing collected packages: wget\n",
            "Successfully installed wget-3.2\n"
          ],
          "name": "stdout"
        }
      ]
    },
    {
      "cell_type": "markdown",
      "metadata": {
        "id": "xukyw79xp5Qn"
      },
      "source": [
        "# 1. John Hopkins data collection and cleaning"
      ]
    },
    {
      "cell_type": "markdown",
      "metadata": {
        "id": "sHHQF4W4p5Qr"
      },
      "source": [
        "### **Links to the time series data from JH repository on Confirmed cases, Deaths and Recovery**"
      ]
    },
    {
      "cell_type": "markdown",
      "metadata": {
        "id": "roAmdvWDp5Qs"
      },
      "source": [
        "### **Download and read the .csv files**"
      ]
    },
    {
      "cell_type": "code",
      "metadata": {
        "id": "LgTaKV73p5Qs"
      },
      "source": [
        "urls = ['https://raw.githubusercontent.com/CSSEGISandData/COVID-19/master/csse_covid_19_data/csse_covid_19_time_series/time_series_covid19_confirmed_global.csv',\n",
        "       'https://raw.githubusercontent.com/CSSEGISandData/COVID-19/master/csse_covid_19_data/csse_covid_19_time_series/time_series_covid19_deaths_global.csv',\n",
        "       'https://raw.githubusercontent.com/CSSEGISandData/COVID-19/master/csse_covid_19_data/csse_covid_19_time_series/time_series_covid19_recovered_global.csv']\n",
        "\n",
        "path = os.getcwd() # get the current directory\n",
        "\n",
        "for url in urls:\n",
        "    filename = path + '/' + os.path.basename(url) # get the full path of the file\n",
        "    if os.path.exists(filename):\n",
        "        os.remove(filename) # if exist, remove it directly\n",
        "    wget.download(url, out=filename) # download it to the specific path."
      ],
      "execution_count": null,
      "outputs": []
    },
    {
      "cell_type": "code",
      "metadata": {
        "id": "Cgp4WyBrp5Qy"
      },
      "source": [
        "confirmed_df = pd.read_csv('time_series_covid19_confirmed_global.csv')\n",
        "deaths_df = pd.read_csv('time_series_covid19_deaths_global.csv')\n",
        "recovered_df = pd.read_csv('time_series_covid19_recovered_global.csv')"
      ],
      "execution_count": null,
      "outputs": []
    },
    {
      "cell_type": "code",
      "metadata": {
        "id": "34Lmqyj-p5Q3",
        "outputId": "44c3e42b-95d4-49fd-fd2c-204f881ec7ab",
        "colab": {
          "base_uri": "https://localhost:8080/",
          "height": 34
        }
      },
      "source": [
        "# check size of the 3 datasets\n",
        "print([confirmed_df.shape, deaths_df.shape, recovered_df.shape])\n"
      ],
      "execution_count": null,
      "outputs": [
        {
          "output_type": "stream",
          "text": [
            "[(266, 262), (266, 262), (253, 262)]\n"
          ],
          "name": "stdout"
        }
      ]
    },
    {
      "cell_type": "code",
      "metadata": {
        "id": "bhw2Bggyp5Q8",
        "outputId": "1b1c8f6e-fe16-429a-8553-746163bb5adb",
        "colab": {
          "base_uri": "https://localhost:8080/",
          "height": 119
        }
      },
      "source": [
        "recovered_df.columns"
      ],
      "execution_count": null,
      "outputs": [
        {
          "output_type": "execute_result",
          "data": {
            "text/plain": [
              "Index(['Province/State', 'Country/Region', 'Lat', 'Long', '1/22/20', '1/23/20',\n",
              "       '1/24/20', '1/25/20', '1/26/20', '1/27/20',\n",
              "       ...\n",
              "       '9/26/20', '9/27/20', '9/28/20', '9/29/20', '9/30/20', '10/1/20',\n",
              "       '10/2/20', '10/3/20', '10/4/20', '10/5/20'],\n",
              "      dtype='object', length=262)"
            ]
          },
          "metadata": {
            "tags": []
          },
          "execution_count": 5
        }
      ]
    },
    {
      "cell_type": "code",
      "metadata": {
        "id": "AQeP3ml9p5RB",
        "outputId": "79286c48-4a13-44ac-dd83-42daa4cf8e3f",
        "colab": {
          "base_uri": "https://localhost:8080/",
          "height": 119
        }
      },
      "source": [
        "deaths_df.columns"
      ],
      "execution_count": null,
      "outputs": [
        {
          "output_type": "execute_result",
          "data": {
            "text/plain": [
              "Index(['Province/State', 'Country/Region', 'Lat', 'Long', '1/22/20', '1/23/20',\n",
              "       '1/24/20', '1/25/20', '1/26/20', '1/27/20',\n",
              "       ...\n",
              "       '9/26/20', '9/27/20', '9/28/20', '9/29/20', '9/30/20', '10/1/20',\n",
              "       '10/2/20', '10/3/20', '10/4/20', '10/5/20'],\n",
              "      dtype='object', length=262)"
            ]
          },
          "metadata": {
            "tags": []
          },
          "execution_count": 6
        }
      ]
    },
    {
      "cell_type": "code",
      "metadata": {
        "id": "siq1uGeip5RF",
        "outputId": "9a97e7f0-60fc-4fa9-cbc6-612764b149e2",
        "colab": {
          "base_uri": "https://localhost:8080/",
          "height": 119
        }
      },
      "source": [
        "confirmed_df.columns"
      ],
      "execution_count": null,
      "outputs": [
        {
          "output_type": "execute_result",
          "data": {
            "text/plain": [
              "Index(['Province/State', 'Country/Region', 'Lat', 'Long', '1/22/20', '1/23/20',\n",
              "       '1/24/20', '1/25/20', '1/26/20', '1/27/20',\n",
              "       ...\n",
              "       '9/26/20', '9/27/20', '9/28/20', '9/29/20', '9/30/20', '10/1/20',\n",
              "       '10/2/20', '10/3/20', '10/4/20', '10/5/20'],\n",
              "      dtype='object', length=262)"
            ]
          },
          "metadata": {
            "tags": []
          },
          "execution_count": 7
        }
      ]
    },
    {
      "cell_type": "code",
      "metadata": {
        "id": "-mBz5ffqp5RI",
        "outputId": "fe6b2efd-86a8-4783-d79d-f3475ef6ed3e",
        "colab": {
          "base_uri": "https://localhost:8080/",
          "height": 129
        }
      },
      "source": [
        "confirmed_df[confirmed_df['Country/Region'] == 'Colombia']"
      ],
      "execution_count": null,
      "outputs": [
        {
          "output_type": "execute_result",
          "data": {
            "text/html": [
              "<div>\n",
              "<style scoped>\n",
              "    .dataframe tbody tr th:only-of-type {\n",
              "        vertical-align: middle;\n",
              "    }\n",
              "\n",
              "    .dataframe tbody tr th {\n",
              "        vertical-align: top;\n",
              "    }\n",
              "\n",
              "    .dataframe thead th {\n",
              "        text-align: right;\n",
              "    }\n",
              "</style>\n",
              "<table border=\"1\" class=\"dataframe\">\n",
              "  <thead>\n",
              "    <tr style=\"text-align: right;\">\n",
              "      <th></th>\n",
              "      <th>Province/State</th>\n",
              "      <th>Country/Region</th>\n",
              "      <th>Lat</th>\n",
              "      <th>Long</th>\n",
              "      <th>1/22/20</th>\n",
              "      <th>1/23/20</th>\n",
              "      <th>1/24/20</th>\n",
              "      <th>1/25/20</th>\n",
              "      <th>1/26/20</th>\n",
              "      <th>1/27/20</th>\n",
              "      <th>1/28/20</th>\n",
              "      <th>1/29/20</th>\n",
              "      <th>1/30/20</th>\n",
              "      <th>1/31/20</th>\n",
              "      <th>2/1/20</th>\n",
              "      <th>2/2/20</th>\n",
              "      <th>2/3/20</th>\n",
              "      <th>2/4/20</th>\n",
              "      <th>2/5/20</th>\n",
              "      <th>2/6/20</th>\n",
              "      <th>2/7/20</th>\n",
              "      <th>2/8/20</th>\n",
              "      <th>2/9/20</th>\n",
              "      <th>2/10/20</th>\n",
              "      <th>2/11/20</th>\n",
              "      <th>2/12/20</th>\n",
              "      <th>2/13/20</th>\n",
              "      <th>2/14/20</th>\n",
              "      <th>2/15/20</th>\n",
              "      <th>2/16/20</th>\n",
              "      <th>2/17/20</th>\n",
              "      <th>2/18/20</th>\n",
              "      <th>2/19/20</th>\n",
              "      <th>2/20/20</th>\n",
              "      <th>2/21/20</th>\n",
              "      <th>2/22/20</th>\n",
              "      <th>2/23/20</th>\n",
              "      <th>2/24/20</th>\n",
              "      <th>2/25/20</th>\n",
              "      <th>2/26/20</th>\n",
              "      <th>...</th>\n",
              "      <th>8/27/20</th>\n",
              "      <th>8/28/20</th>\n",
              "      <th>8/29/20</th>\n",
              "      <th>8/30/20</th>\n",
              "      <th>8/31/20</th>\n",
              "      <th>9/1/20</th>\n",
              "      <th>9/2/20</th>\n",
              "      <th>9/3/20</th>\n",
              "      <th>9/4/20</th>\n",
              "      <th>9/5/20</th>\n",
              "      <th>9/6/20</th>\n",
              "      <th>9/7/20</th>\n",
              "      <th>9/8/20</th>\n",
              "      <th>9/9/20</th>\n",
              "      <th>9/10/20</th>\n",
              "      <th>9/11/20</th>\n",
              "      <th>9/12/20</th>\n",
              "      <th>9/13/20</th>\n",
              "      <th>9/14/20</th>\n",
              "      <th>9/15/20</th>\n",
              "      <th>9/16/20</th>\n",
              "      <th>9/17/20</th>\n",
              "      <th>9/18/20</th>\n",
              "      <th>9/19/20</th>\n",
              "      <th>9/20/20</th>\n",
              "      <th>9/21/20</th>\n",
              "      <th>9/22/20</th>\n",
              "      <th>9/23/20</th>\n",
              "      <th>9/24/20</th>\n",
              "      <th>9/25/20</th>\n",
              "      <th>9/26/20</th>\n",
              "      <th>9/27/20</th>\n",
              "      <th>9/28/20</th>\n",
              "      <th>9/29/20</th>\n",
              "      <th>9/30/20</th>\n",
              "      <th>10/1/20</th>\n",
              "      <th>10/2/20</th>\n",
              "      <th>10/3/20</th>\n",
              "      <th>10/4/20</th>\n",
              "      <th>10/5/20</th>\n",
              "    </tr>\n",
              "  </thead>\n",
              "  <tbody>\n",
              "    <tr>\n",
              "      <th>89</th>\n",
              "      <td>NaN</td>\n",
              "      <td>Colombia</td>\n",
              "      <td>4.5709</td>\n",
              "      <td>-74.2973</td>\n",
              "      <td>0</td>\n",
              "      <td>0</td>\n",
              "      <td>0</td>\n",
              "      <td>0</td>\n",
              "      <td>0</td>\n",
              "      <td>0</td>\n",
              "      <td>0</td>\n",
              "      <td>0</td>\n",
              "      <td>0</td>\n",
              "      <td>0</td>\n",
              "      <td>0</td>\n",
              "      <td>0</td>\n",
              "      <td>0</td>\n",
              "      <td>0</td>\n",
              "      <td>0</td>\n",
              "      <td>0</td>\n",
              "      <td>0</td>\n",
              "      <td>0</td>\n",
              "      <td>0</td>\n",
              "      <td>0</td>\n",
              "      <td>0</td>\n",
              "      <td>0</td>\n",
              "      <td>0</td>\n",
              "      <td>0</td>\n",
              "      <td>0</td>\n",
              "      <td>0</td>\n",
              "      <td>0</td>\n",
              "      <td>0</td>\n",
              "      <td>0</td>\n",
              "      <td>0</td>\n",
              "      <td>0</td>\n",
              "      <td>0</td>\n",
              "      <td>0</td>\n",
              "      <td>0</td>\n",
              "      <td>0</td>\n",
              "      <td>0</td>\n",
              "      <td>...</td>\n",
              "      <td>581995</td>\n",
              "      <td>590492</td>\n",
              "      <td>599884</td>\n",
              "      <td>607904</td>\n",
              "      <td>615094</td>\n",
              "      <td>624026</td>\n",
              "      <td>633321</td>\n",
              "      <td>641574</td>\n",
              "      <td>650063</td>\n",
              "      <td>658456</td>\n",
              "      <td>666521</td>\n",
              "      <td>671848</td>\n",
              "      <td>671533</td>\n",
              "      <td>686851</td>\n",
              "      <td>694664</td>\n",
              "      <td>702088</td>\n",
              "      <td>708964</td>\n",
              "      <td>716319</td>\n",
              "      <td>721892</td>\n",
              "      <td>728590</td>\n",
              "      <td>736377</td>\n",
              "      <td>743945</td>\n",
              "      <td>750471</td>\n",
              "      <td>758398</td>\n",
              "      <td>765076</td>\n",
              "      <td>770435</td>\n",
              "      <td>777537</td>\n",
              "      <td>784268</td>\n",
              "      <td>790823</td>\n",
              "      <td>798317</td>\n",
              "      <td>806038</td>\n",
              "      <td>813056</td>\n",
              "      <td>818203</td>\n",
              "      <td>824042</td>\n",
              "      <td>829679</td>\n",
              "      <td>835339</td>\n",
              "      <td>841532</td>\n",
              "      <td>848147</td>\n",
              "      <td>855052</td>\n",
              "      <td>862158</td>\n",
              "    </tr>\n",
              "  </tbody>\n",
              "</table>\n",
              "<p>1 rows × 262 columns</p>\n",
              "</div>"
            ],
            "text/plain": [
              "   Province/State Country/Region     Lat  ...  10/3/20  10/4/20  10/5/20\n",
              "89            NaN       Colombia  4.5709  ...   848147   855052   862158\n",
              "\n",
              "[1 rows x 262 columns]"
            ]
          },
          "metadata": {
            "tags": []
          },
          "execution_count": 8
        }
      ]
    },
    {
      "cell_type": "markdown",
      "metadata": {
        "id": "wWy3EPy0p5RL"
      },
      "source": [
        "### **The first 4 colums of each dataset have the same variable so we use them to merge all 3 datasets**"
      ]
    },
    {
      "cell_type": "code",
      "metadata": {
        "id": "iDjFoRGip5RM"
      },
      "source": [
        "dates = confirmed_df.columns[4:]\n",
        "\n",
        "confirmed_df_long = confirmed_df.melt(\n",
        "    id_vars=['Province/State', 'Country/Region', 'Lat', 'Long'], \n",
        "    value_vars=dates, \n",
        "    var_name='Date', \n",
        "    value_name='Confirmed')\n",
        "\n",
        "deaths_df_long = deaths_df.melt(\n",
        "    id_vars=['Province/State', 'Country/Region', 'Lat', 'Long'], \n",
        "    value_vars=dates, \n",
        "    var_name='Date', \n",
        "    value_name='Deaths')\n",
        "\n",
        "recovered_df_long = recovered_df.melt(\n",
        "    id_vars=['Province/State', 'Country/Region', 'Lat', 'Long'], \n",
        "    value_vars=dates, \n",
        "    var_name='Date', \n",
        "    value_name='Recovered')"
      ],
      "execution_count": null,
      "outputs": []
    },
    {
      "cell_type": "code",
      "metadata": {
        "id": "Zi_D4gOmp5RQ",
        "outputId": "91346a6f-97d0-4541-c255-4e04595217cb",
        "colab": {
          "base_uri": "https://localhost:8080/",
          "height": 119
        }
      },
      "source": [
        "dates"
      ],
      "execution_count": null,
      "outputs": [
        {
          "output_type": "execute_result",
          "data": {
            "text/plain": [
              "Index(['1/22/20', '1/23/20', '1/24/20', '1/25/20', '1/26/20', '1/27/20',\n",
              "       '1/28/20', '1/29/20', '1/30/20', '1/31/20',\n",
              "       ...\n",
              "       '9/25/20', '9/26/20', '9/27/20', '9/28/20', '9/29/20', '9/30/20',\n",
              "       '10/1/20', '10/2/20', '10/3/20', '10/4/20'],\n",
              "      dtype='object', length=257)"
            ]
          },
          "metadata": {
            "tags": []
          },
          "execution_count": 14
        }
      ]
    },
    {
      "cell_type": "code",
      "metadata": {
        "id": "FDoBWqH-p5RT",
        "outputId": "5a3c9c27-3939-4d75-e5af-05f8d9ecf8e4",
        "colab": {
          "base_uri": "https://localhost:8080/",
          "height": 419
        }
      },
      "source": [
        "confirmed_df_long"
      ],
      "execution_count": null,
      "outputs": [
        {
          "output_type": "execute_result",
          "data": {
            "text/html": [
              "<div>\n",
              "<style scoped>\n",
              "    .dataframe tbody tr th:only-of-type {\n",
              "        vertical-align: middle;\n",
              "    }\n",
              "\n",
              "    .dataframe tbody tr th {\n",
              "        vertical-align: top;\n",
              "    }\n",
              "\n",
              "    .dataframe thead th {\n",
              "        text-align: right;\n",
              "    }\n",
              "</style>\n",
              "<table border=\"1\" class=\"dataframe\">\n",
              "  <thead>\n",
              "    <tr style=\"text-align: right;\">\n",
              "      <th></th>\n",
              "      <th>Province/State</th>\n",
              "      <th>Country/Region</th>\n",
              "      <th>Lat</th>\n",
              "      <th>Long</th>\n",
              "      <th>Date</th>\n",
              "      <th>Confirmed</th>\n",
              "    </tr>\n",
              "  </thead>\n",
              "  <tbody>\n",
              "    <tr>\n",
              "      <th>0</th>\n",
              "      <td>NaN</td>\n",
              "      <td>Afghanistan</td>\n",
              "      <td>33.939110</td>\n",
              "      <td>67.709953</td>\n",
              "      <td>1/22/20</td>\n",
              "      <td>0</td>\n",
              "    </tr>\n",
              "    <tr>\n",
              "      <th>1</th>\n",
              "      <td>NaN</td>\n",
              "      <td>Albania</td>\n",
              "      <td>41.153300</td>\n",
              "      <td>20.168300</td>\n",
              "      <td>1/22/20</td>\n",
              "      <td>0</td>\n",
              "    </tr>\n",
              "    <tr>\n",
              "      <th>2</th>\n",
              "      <td>NaN</td>\n",
              "      <td>Algeria</td>\n",
              "      <td>28.033900</td>\n",
              "      <td>1.659600</td>\n",
              "      <td>1/22/20</td>\n",
              "      <td>0</td>\n",
              "    </tr>\n",
              "    <tr>\n",
              "      <th>3</th>\n",
              "      <td>NaN</td>\n",
              "      <td>Andorra</td>\n",
              "      <td>42.506300</td>\n",
              "      <td>1.521800</td>\n",
              "      <td>1/22/20</td>\n",
              "      <td>0</td>\n",
              "    </tr>\n",
              "    <tr>\n",
              "      <th>4</th>\n",
              "      <td>NaN</td>\n",
              "      <td>Angola</td>\n",
              "      <td>-11.202700</td>\n",
              "      <td>17.873900</td>\n",
              "      <td>1/22/20</td>\n",
              "      <td>0</td>\n",
              "    </tr>\n",
              "    <tr>\n",
              "      <th>...</th>\n",
              "      <td>...</td>\n",
              "      <td>...</td>\n",
              "      <td>...</td>\n",
              "      <td>...</td>\n",
              "      <td>...</td>\n",
              "      <td>...</td>\n",
              "    </tr>\n",
              "    <tr>\n",
              "      <th>68357</th>\n",
              "      <td>NaN</td>\n",
              "      <td>West Bank and Gaza</td>\n",
              "      <td>31.952200</td>\n",
              "      <td>35.233200</td>\n",
              "      <td>10/4/20</td>\n",
              "      <td>41498</td>\n",
              "    </tr>\n",
              "    <tr>\n",
              "      <th>68358</th>\n",
              "      <td>NaN</td>\n",
              "      <td>Western Sahara</td>\n",
              "      <td>24.215500</td>\n",
              "      <td>-12.885800</td>\n",
              "      <td>10/4/20</td>\n",
              "      <td>10</td>\n",
              "    </tr>\n",
              "    <tr>\n",
              "      <th>68359</th>\n",
              "      <td>NaN</td>\n",
              "      <td>Yemen</td>\n",
              "      <td>15.552727</td>\n",
              "      <td>48.516388</td>\n",
              "      <td>10/4/20</td>\n",
              "      <td>2041</td>\n",
              "    </tr>\n",
              "    <tr>\n",
              "      <th>68360</th>\n",
              "      <td>NaN</td>\n",
              "      <td>Zambia</td>\n",
              "      <td>-13.133897</td>\n",
              "      <td>27.849332</td>\n",
              "      <td>10/4/20</td>\n",
              "      <td>15052</td>\n",
              "    </tr>\n",
              "    <tr>\n",
              "      <th>68361</th>\n",
              "      <td>NaN</td>\n",
              "      <td>Zimbabwe</td>\n",
              "      <td>-19.015438</td>\n",
              "      <td>29.154857</td>\n",
              "      <td>10/4/20</td>\n",
              "      <td>7888</td>\n",
              "    </tr>\n",
              "  </tbody>\n",
              "</table>\n",
              "<p>68362 rows × 6 columns</p>\n",
              "</div>"
            ],
            "text/plain": [
              "      Province/State      Country/Region  ...     Date  Confirmed\n",
              "0                NaN         Afghanistan  ...  1/22/20          0\n",
              "1                NaN             Albania  ...  1/22/20          0\n",
              "2                NaN             Algeria  ...  1/22/20          0\n",
              "3                NaN             Andorra  ...  1/22/20          0\n",
              "4                NaN              Angola  ...  1/22/20          0\n",
              "...              ...                 ...  ...      ...        ...\n",
              "68357            NaN  West Bank and Gaza  ...  10/4/20      41498\n",
              "68358            NaN      Western Sahara  ...  10/4/20         10\n",
              "68359            NaN               Yemen  ...  10/4/20       2041\n",
              "68360            NaN              Zambia  ...  10/4/20      15052\n",
              "68361            NaN            Zimbabwe  ...  10/4/20       7888\n",
              "\n",
              "[68362 rows x 6 columns]"
            ]
          },
          "metadata": {
            "tags": []
          },
          "execution_count": 15
        }
      ]
    },
    {
      "cell_type": "code",
      "metadata": {
        "id": "xBMkLUvmp5RX",
        "outputId": "d8c26ca0-7abd-4e8e-8aef-aec837f6ff5c",
        "colab": {
          "base_uri": "https://localhost:8080/",
          "height": 419
        }
      },
      "source": [
        "deaths_df_long"
      ],
      "execution_count": null,
      "outputs": [
        {
          "output_type": "execute_result",
          "data": {
            "text/html": [
              "<div>\n",
              "<style scoped>\n",
              "    .dataframe tbody tr th:only-of-type {\n",
              "        vertical-align: middle;\n",
              "    }\n",
              "\n",
              "    .dataframe tbody tr th {\n",
              "        vertical-align: top;\n",
              "    }\n",
              "\n",
              "    .dataframe thead th {\n",
              "        text-align: right;\n",
              "    }\n",
              "</style>\n",
              "<table border=\"1\" class=\"dataframe\">\n",
              "  <thead>\n",
              "    <tr style=\"text-align: right;\">\n",
              "      <th></th>\n",
              "      <th>Province/State</th>\n",
              "      <th>Country/Region</th>\n",
              "      <th>Lat</th>\n",
              "      <th>Long</th>\n",
              "      <th>Date</th>\n",
              "      <th>Deaths</th>\n",
              "    </tr>\n",
              "  </thead>\n",
              "  <tbody>\n",
              "    <tr>\n",
              "      <th>0</th>\n",
              "      <td>NaN</td>\n",
              "      <td>Afghanistan</td>\n",
              "      <td>33.939110</td>\n",
              "      <td>67.709953</td>\n",
              "      <td>1/22/20</td>\n",
              "      <td>0</td>\n",
              "    </tr>\n",
              "    <tr>\n",
              "      <th>1</th>\n",
              "      <td>NaN</td>\n",
              "      <td>Albania</td>\n",
              "      <td>41.153300</td>\n",
              "      <td>20.168300</td>\n",
              "      <td>1/22/20</td>\n",
              "      <td>0</td>\n",
              "    </tr>\n",
              "    <tr>\n",
              "      <th>2</th>\n",
              "      <td>NaN</td>\n",
              "      <td>Algeria</td>\n",
              "      <td>28.033900</td>\n",
              "      <td>1.659600</td>\n",
              "      <td>1/22/20</td>\n",
              "      <td>0</td>\n",
              "    </tr>\n",
              "    <tr>\n",
              "      <th>3</th>\n",
              "      <td>NaN</td>\n",
              "      <td>Andorra</td>\n",
              "      <td>42.506300</td>\n",
              "      <td>1.521800</td>\n",
              "      <td>1/22/20</td>\n",
              "      <td>0</td>\n",
              "    </tr>\n",
              "    <tr>\n",
              "      <th>4</th>\n",
              "      <td>NaN</td>\n",
              "      <td>Angola</td>\n",
              "      <td>-11.202700</td>\n",
              "      <td>17.873900</td>\n",
              "      <td>1/22/20</td>\n",
              "      <td>0</td>\n",
              "    </tr>\n",
              "    <tr>\n",
              "      <th>...</th>\n",
              "      <td>...</td>\n",
              "      <td>...</td>\n",
              "      <td>...</td>\n",
              "      <td>...</td>\n",
              "      <td>...</td>\n",
              "      <td>...</td>\n",
              "    </tr>\n",
              "    <tr>\n",
              "      <th>68357</th>\n",
              "      <td>NaN</td>\n",
              "      <td>West Bank and Gaza</td>\n",
              "      <td>31.952200</td>\n",
              "      <td>35.233200</td>\n",
              "      <td>10/4/20</td>\n",
              "      <td>330</td>\n",
              "    </tr>\n",
              "    <tr>\n",
              "      <th>68358</th>\n",
              "      <td>NaN</td>\n",
              "      <td>Western Sahara</td>\n",
              "      <td>24.215500</td>\n",
              "      <td>-12.885800</td>\n",
              "      <td>10/4/20</td>\n",
              "      <td>1</td>\n",
              "    </tr>\n",
              "    <tr>\n",
              "      <th>68359</th>\n",
              "      <td>NaN</td>\n",
              "      <td>Yemen</td>\n",
              "      <td>15.552727</td>\n",
              "      <td>48.516388</td>\n",
              "      <td>10/4/20</td>\n",
              "      <td>591</td>\n",
              "    </tr>\n",
              "    <tr>\n",
              "      <th>68360</th>\n",
              "      <td>NaN</td>\n",
              "      <td>Zambia</td>\n",
              "      <td>-13.133897</td>\n",
              "      <td>27.849332</td>\n",
              "      <td>10/4/20</td>\n",
              "      <td>333</td>\n",
              "    </tr>\n",
              "    <tr>\n",
              "      <th>68361</th>\n",
              "      <td>NaN</td>\n",
              "      <td>Zimbabwe</td>\n",
              "      <td>-19.015438</td>\n",
              "      <td>29.154857</td>\n",
              "      <td>10/4/20</td>\n",
              "      <td>228</td>\n",
              "    </tr>\n",
              "  </tbody>\n",
              "</table>\n",
              "<p>68362 rows × 6 columns</p>\n",
              "</div>"
            ],
            "text/plain": [
              "      Province/State      Country/Region        Lat       Long     Date  Deaths\n",
              "0                NaN         Afghanistan  33.939110  67.709953  1/22/20       0\n",
              "1                NaN             Albania  41.153300  20.168300  1/22/20       0\n",
              "2                NaN             Algeria  28.033900   1.659600  1/22/20       0\n",
              "3                NaN             Andorra  42.506300   1.521800  1/22/20       0\n",
              "4                NaN              Angola -11.202700  17.873900  1/22/20       0\n",
              "...              ...                 ...        ...        ...      ...     ...\n",
              "68357            NaN  West Bank and Gaza  31.952200  35.233200  10/4/20     330\n",
              "68358            NaN      Western Sahara  24.215500 -12.885800  10/4/20       1\n",
              "68359            NaN               Yemen  15.552727  48.516388  10/4/20     591\n",
              "68360            NaN              Zambia -13.133897  27.849332  10/4/20     333\n",
              "68361            NaN            Zimbabwe -19.015438  29.154857  10/4/20     228\n",
              "\n",
              "[68362 rows x 6 columns]"
            ]
          },
          "metadata": {
            "tags": []
          },
          "execution_count": 16
        }
      ]
    },
    {
      "cell_type": "code",
      "metadata": {
        "id": "EcWfPrkPp5Rb",
        "outputId": "600dd61c-1a06-455d-986c-2779219098da",
        "colab": {
          "base_uri": "https://localhost:8080/",
          "height": 419
        }
      },
      "source": [
        "recovered_df_long"
      ],
      "execution_count": null,
      "outputs": [
        {
          "output_type": "execute_result",
          "data": {
            "text/html": [
              "<div>\n",
              "<style scoped>\n",
              "    .dataframe tbody tr th:only-of-type {\n",
              "        vertical-align: middle;\n",
              "    }\n",
              "\n",
              "    .dataframe tbody tr th {\n",
              "        vertical-align: top;\n",
              "    }\n",
              "\n",
              "    .dataframe thead th {\n",
              "        text-align: right;\n",
              "    }\n",
              "</style>\n",
              "<table border=\"1\" class=\"dataframe\">\n",
              "  <thead>\n",
              "    <tr style=\"text-align: right;\">\n",
              "      <th></th>\n",
              "      <th>Province/State</th>\n",
              "      <th>Country/Region</th>\n",
              "      <th>Lat</th>\n",
              "      <th>Long</th>\n",
              "      <th>Date</th>\n",
              "      <th>Recovered</th>\n",
              "    </tr>\n",
              "  </thead>\n",
              "  <tbody>\n",
              "    <tr>\n",
              "      <th>0</th>\n",
              "      <td>NaN</td>\n",
              "      <td>Afghanistan</td>\n",
              "      <td>33.939110</td>\n",
              "      <td>67.709953</td>\n",
              "      <td>1/22/20</td>\n",
              "      <td>0</td>\n",
              "    </tr>\n",
              "    <tr>\n",
              "      <th>1</th>\n",
              "      <td>NaN</td>\n",
              "      <td>Albania</td>\n",
              "      <td>41.153300</td>\n",
              "      <td>20.168300</td>\n",
              "      <td>1/22/20</td>\n",
              "      <td>0</td>\n",
              "    </tr>\n",
              "    <tr>\n",
              "      <th>2</th>\n",
              "      <td>NaN</td>\n",
              "      <td>Algeria</td>\n",
              "      <td>28.033900</td>\n",
              "      <td>1.659600</td>\n",
              "      <td>1/22/20</td>\n",
              "      <td>0</td>\n",
              "    </tr>\n",
              "    <tr>\n",
              "      <th>3</th>\n",
              "      <td>NaN</td>\n",
              "      <td>Andorra</td>\n",
              "      <td>42.506300</td>\n",
              "      <td>1.521800</td>\n",
              "      <td>1/22/20</td>\n",
              "      <td>0</td>\n",
              "    </tr>\n",
              "    <tr>\n",
              "      <th>4</th>\n",
              "      <td>NaN</td>\n",
              "      <td>Angola</td>\n",
              "      <td>-11.202700</td>\n",
              "      <td>17.873900</td>\n",
              "      <td>1/22/20</td>\n",
              "      <td>0</td>\n",
              "    </tr>\n",
              "    <tr>\n",
              "      <th>...</th>\n",
              "      <td>...</td>\n",
              "      <td>...</td>\n",
              "      <td>...</td>\n",
              "      <td>...</td>\n",
              "      <td>...</td>\n",
              "      <td>...</td>\n",
              "    </tr>\n",
              "    <tr>\n",
              "      <th>65016</th>\n",
              "      <td>NaN</td>\n",
              "      <td>West Bank and Gaza</td>\n",
              "      <td>31.952200</td>\n",
              "      <td>35.233200</td>\n",
              "      <td>10/4/20</td>\n",
              "      <td>34698</td>\n",
              "    </tr>\n",
              "    <tr>\n",
              "      <th>65017</th>\n",
              "      <td>NaN</td>\n",
              "      <td>Western Sahara</td>\n",
              "      <td>24.215500</td>\n",
              "      <td>-12.885800</td>\n",
              "      <td>10/4/20</td>\n",
              "      <td>8</td>\n",
              "    </tr>\n",
              "    <tr>\n",
              "      <th>65018</th>\n",
              "      <td>NaN</td>\n",
              "      <td>Yemen</td>\n",
              "      <td>15.552727</td>\n",
              "      <td>48.516388</td>\n",
              "      <td>10/4/20</td>\n",
              "      <td>1320</td>\n",
              "    </tr>\n",
              "    <tr>\n",
              "      <th>65019</th>\n",
              "      <td>NaN</td>\n",
              "      <td>Zambia</td>\n",
              "      <td>-13.133897</td>\n",
              "      <td>27.849332</td>\n",
              "      <td>10/4/20</td>\n",
              "      <td>14187</td>\n",
              "    </tr>\n",
              "    <tr>\n",
              "      <th>65020</th>\n",
              "      <td>NaN</td>\n",
              "      <td>Zimbabwe</td>\n",
              "      <td>-19.015438</td>\n",
              "      <td>29.154857</td>\n",
              "      <td>10/4/20</td>\n",
              "      <td>6359</td>\n",
              "    </tr>\n",
              "  </tbody>\n",
              "</table>\n",
              "<p>65021 rows × 6 columns</p>\n",
              "</div>"
            ],
            "text/plain": [
              "      Province/State      Country/Region  ...     Date  Recovered\n",
              "0                NaN         Afghanistan  ...  1/22/20          0\n",
              "1                NaN             Albania  ...  1/22/20          0\n",
              "2                NaN             Algeria  ...  1/22/20          0\n",
              "3                NaN             Andorra  ...  1/22/20          0\n",
              "4                NaN              Angola  ...  1/22/20          0\n",
              "...              ...                 ...  ...      ...        ...\n",
              "65016            NaN  West Bank and Gaza  ...  10/4/20      34698\n",
              "65017            NaN      Western Sahara  ...  10/4/20          8\n",
              "65018            NaN               Yemen  ...  10/4/20       1320\n",
              "65019            NaN              Zambia  ...  10/4/20      14187\n",
              "65020            NaN            Zimbabwe  ...  10/4/20       6359\n",
              "\n",
              "[65021 rows x 6 columns]"
            ]
          },
          "metadata": {
            "tags": []
          },
          "execution_count": 17
        }
      ]
    },
    {
      "cell_type": "code",
      "metadata": {
        "id": "xThDNSz-p5Rd"
      },
      "source": [
        "# Merge the 3 datasets \n",
        "\n",
        "full_table = confirmed_df_long.merge(\n",
        "  right=deaths_df_long, \n",
        "  how='left',\n",
        "  on=['Province/State', 'Country/Region', 'Date', 'Lat', 'Long'])# Merging full_table and recovered_df_long\n",
        "\n",
        "full_table = full_table.merge(\n",
        "  right=recovered_df_long, \n",
        "  how='left',\n",
        "  on=['Province/State', 'Country/Region', 'Date', 'Lat', 'Long'])"
      ],
      "execution_count": null,
      "outputs": []
    },
    {
      "cell_type": "code",
      "metadata": {
        "id": "Zw_0HvDrp5Rg",
        "outputId": "ca2492c3-c612-4cc5-bb15-13971c8d718b",
        "colab": {
          "base_uri": "https://localhost:8080/",
          "height": 272
        }
      },
      "source": [
        "full_table.info(verbose = True)"
      ],
      "execution_count": null,
      "outputs": [
        {
          "output_type": "stream",
          "text": [
            "<class 'pandas.core.frame.DataFrame'>\n",
            "Int64Index: 68362 entries, 0 to 68361\n",
            "Data columns (total 8 columns):\n",
            " #   Column          Non-Null Count  Dtype  \n",
            "---  ------          --------------  -----  \n",
            " 0   Province/State  20817 non-null  object \n",
            " 1   Country/Region  68362 non-null  object \n",
            " 2   Lat             68362 non-null  float64\n",
            " 3   Long            68362 non-null  float64\n",
            " 4   Date            68362 non-null  object \n",
            " 5   Confirmed       68362 non-null  int64  \n",
            " 6   Deaths          62194 non-null  float64\n",
            " 7   Recovered       63479 non-null  float64\n",
            "dtypes: float64(4), int64(1), object(3)\n",
            "memory usage: 4.7+ MB\n"
          ],
          "name": "stdout"
        }
      ]
    },
    {
      "cell_type": "code",
      "metadata": {
        "id": "S_6DV-4Ep5Rj"
      },
      "source": [
        "# trasnform from string to date the \"Date\" column\n",
        "full_table['Date'] = pd.to_datetime(full_table['Date'])"
      ],
      "execution_count": null,
      "outputs": []
    },
    {
      "cell_type": "markdown",
      "metadata": {
        "id": "4jnEGs9Tp5Rm"
      },
      "source": [
        "### **Check NaN in the full dataset**"
      ]
    },
    {
      "cell_type": "code",
      "metadata": {
        "id": "ZF9W8__Pp5Rm",
        "outputId": "f8fc7352-d08e-47f9-9b23-28d3e1185f01",
        "colab": {
          "base_uri": "https://localhost:8080/",
          "height": 170
        }
      },
      "source": [
        "full_table.isna().sum()"
      ],
      "execution_count": null,
      "outputs": [
        {
          "output_type": "execute_result",
          "data": {
            "text/plain": [
              "Province/State    47545\n",
              "Country/Region        0\n",
              "Lat                   0\n",
              "Long                  0\n",
              "Date                  0\n",
              "Confirmed             0\n",
              "Deaths             6168\n",
              "Recovered          4883\n",
              "dtype: int64"
            ]
          },
          "metadata": {
            "tags": []
          },
          "execution_count": 21
        }
      ]
    },
    {
      "cell_type": "code",
      "metadata": {
        "id": "S6uU7NX_p5Rp"
      },
      "source": [
        "# We observe a large number of NaN in death and Recovered reports...\n",
        "# In order to make the datste more easy to work with, we remove the NaNs from \"Deaths\" and \"Recovered\" and...\n",
        "# replace them with 0 \n",
        "\n",
        "full_table['Deaths'] = full_table['Deaths'].fillna(0)\n",
        "full_table['Recovered'] = full_table['Recovered'].fillna(0)"
      ],
      "execution_count": null,
      "outputs": []
    },
    {
      "cell_type": "markdown",
      "metadata": {
        "id": "cPz6eVHup5Rr"
      },
      "source": [
        "### **Remove cruise ships data**\n",
        " #### We also observed that there is some data from the cruise ships that make it difficult to fit in in the Country category, so we excluded from our anaysis"
      ]
    },
    {
      "cell_type": "code",
      "metadata": {
        "id": "hpMrI_Bqp5Rs"
      },
      "source": [
        "# select the ships rows\n",
        "ship_rows = full_table['Province/State'].str.contains('Grand Princess') | full_table['Province/State'].str.contains('Diamond Princess') | full_table['Country/Region'].str.contains('Diamond Princess') | full_table['Country/Region'].str.contains('MS Zaandam')"
      ],
      "execution_count": null,
      "outputs": []
    },
    {
      "cell_type": "code",
      "metadata": {
        "id": "jB0J1KMtp5Ru",
        "outputId": "3e562bc0-f6b1-461a-9334-83577755e913",
        "colab": {
          "base_uri": "https://localhost:8080/",
          "height": 221
        }
      },
      "source": [
        "ship_rows"
      ],
      "execution_count": null,
      "outputs": [
        {
          "output_type": "execute_result",
          "data": {
            "text/plain": [
              "0        False\n",
              "1        False\n",
              "2        False\n",
              "3        False\n",
              "4        False\n",
              "         ...  \n",
              "68357    False\n",
              "68358    False\n",
              "68359    False\n",
              "68360    False\n",
              "68361    False\n",
              "Length: 68362, dtype: bool"
            ]
          },
          "metadata": {
            "tags": []
          },
          "execution_count": 24
        }
      ]
    },
    {
      "cell_type": "code",
      "metadata": {
        "id": "LaukOQvnp5Rx"
      },
      "source": [
        "#full_table[full_table['Province/State'] == 'Grand Princess']"
      ],
      "execution_count": null,
      "outputs": []
    },
    {
      "cell_type": "code",
      "metadata": {
        "id": "5GevP13Gp5R0"
      },
      "source": [
        "full_table = full_table[~(ship_rows)] # the '~' operator negate the selections"
      ],
      "execution_count": null,
      "outputs": []
    },
    {
      "cell_type": "code",
      "metadata": {
        "id": "2OZ0IJi3p5R3",
        "outputId": "922de2d7-2ba5-4cad-c072-32c7fa3c2ce3",
        "colab": {
          "base_uri": "https://localhost:8080/",
          "height": 419
        }
      },
      "source": [
        "full_table"
      ],
      "execution_count": null,
      "outputs": [
        {
          "output_type": "execute_result",
          "data": {
            "text/html": [
              "<div>\n",
              "<style scoped>\n",
              "    .dataframe tbody tr th:only-of-type {\n",
              "        vertical-align: middle;\n",
              "    }\n",
              "\n",
              "    .dataframe tbody tr th {\n",
              "        vertical-align: top;\n",
              "    }\n",
              "\n",
              "    .dataframe thead th {\n",
              "        text-align: right;\n",
              "    }\n",
              "</style>\n",
              "<table border=\"1\" class=\"dataframe\">\n",
              "  <thead>\n",
              "    <tr style=\"text-align: right;\">\n",
              "      <th></th>\n",
              "      <th>Province/State</th>\n",
              "      <th>Country/Region</th>\n",
              "      <th>Lat</th>\n",
              "      <th>Long</th>\n",
              "      <th>Date</th>\n",
              "      <th>Confirmed</th>\n",
              "      <th>Deaths</th>\n",
              "      <th>Recovered</th>\n",
              "    </tr>\n",
              "  </thead>\n",
              "  <tbody>\n",
              "    <tr>\n",
              "      <th>0</th>\n",
              "      <td>NaN</td>\n",
              "      <td>Afghanistan</td>\n",
              "      <td>33.939110</td>\n",
              "      <td>67.709953</td>\n",
              "      <td>2020-01-22</td>\n",
              "      <td>0</td>\n",
              "      <td>0.0</td>\n",
              "      <td>0.0</td>\n",
              "    </tr>\n",
              "    <tr>\n",
              "      <th>1</th>\n",
              "      <td>NaN</td>\n",
              "      <td>Albania</td>\n",
              "      <td>41.153300</td>\n",
              "      <td>20.168300</td>\n",
              "      <td>2020-01-22</td>\n",
              "      <td>0</td>\n",
              "      <td>0.0</td>\n",
              "      <td>0.0</td>\n",
              "    </tr>\n",
              "    <tr>\n",
              "      <th>2</th>\n",
              "      <td>NaN</td>\n",
              "      <td>Algeria</td>\n",
              "      <td>28.033900</td>\n",
              "      <td>1.659600</td>\n",
              "      <td>2020-01-22</td>\n",
              "      <td>0</td>\n",
              "      <td>0.0</td>\n",
              "      <td>0.0</td>\n",
              "    </tr>\n",
              "    <tr>\n",
              "      <th>3</th>\n",
              "      <td>NaN</td>\n",
              "      <td>Andorra</td>\n",
              "      <td>42.506300</td>\n",
              "      <td>1.521800</td>\n",
              "      <td>2020-01-22</td>\n",
              "      <td>0</td>\n",
              "      <td>0.0</td>\n",
              "      <td>0.0</td>\n",
              "    </tr>\n",
              "    <tr>\n",
              "      <th>4</th>\n",
              "      <td>NaN</td>\n",
              "      <td>Angola</td>\n",
              "      <td>-11.202700</td>\n",
              "      <td>17.873900</td>\n",
              "      <td>2020-01-22</td>\n",
              "      <td>0</td>\n",
              "      <td>0.0</td>\n",
              "      <td>0.0</td>\n",
              "    </tr>\n",
              "    <tr>\n",
              "      <th>...</th>\n",
              "      <td>...</td>\n",
              "      <td>...</td>\n",
              "      <td>...</td>\n",
              "      <td>...</td>\n",
              "      <td>...</td>\n",
              "      <td>...</td>\n",
              "      <td>...</td>\n",
              "      <td>...</td>\n",
              "    </tr>\n",
              "    <tr>\n",
              "      <th>68357</th>\n",
              "      <td>NaN</td>\n",
              "      <td>West Bank and Gaza</td>\n",
              "      <td>31.952200</td>\n",
              "      <td>35.233200</td>\n",
              "      <td>2020-10-04</td>\n",
              "      <td>41498</td>\n",
              "      <td>330.0</td>\n",
              "      <td>34698.0</td>\n",
              "    </tr>\n",
              "    <tr>\n",
              "      <th>68358</th>\n",
              "      <td>NaN</td>\n",
              "      <td>Western Sahara</td>\n",
              "      <td>24.215500</td>\n",
              "      <td>-12.885800</td>\n",
              "      <td>2020-10-04</td>\n",
              "      <td>10</td>\n",
              "      <td>1.0</td>\n",
              "      <td>8.0</td>\n",
              "    </tr>\n",
              "    <tr>\n",
              "      <th>68359</th>\n",
              "      <td>NaN</td>\n",
              "      <td>Yemen</td>\n",
              "      <td>15.552727</td>\n",
              "      <td>48.516388</td>\n",
              "      <td>2020-10-04</td>\n",
              "      <td>2041</td>\n",
              "      <td>0.0</td>\n",
              "      <td>1320.0</td>\n",
              "    </tr>\n",
              "    <tr>\n",
              "      <th>68360</th>\n",
              "      <td>NaN</td>\n",
              "      <td>Zambia</td>\n",
              "      <td>-13.133897</td>\n",
              "      <td>27.849332</td>\n",
              "      <td>2020-10-04</td>\n",
              "      <td>15052</td>\n",
              "      <td>333.0</td>\n",
              "      <td>14187.0</td>\n",
              "    </tr>\n",
              "    <tr>\n",
              "      <th>68361</th>\n",
              "      <td>NaN</td>\n",
              "      <td>Zimbabwe</td>\n",
              "      <td>-19.015438</td>\n",
              "      <td>29.154857</td>\n",
              "      <td>2020-10-04</td>\n",
              "      <td>7888</td>\n",
              "      <td>228.0</td>\n",
              "      <td>6359.0</td>\n",
              "    </tr>\n",
              "  </tbody>\n",
              "</table>\n",
              "<p>67334 rows × 8 columns</p>\n",
              "</div>"
            ],
            "text/plain": [
              "      Province/State      Country/Region  ...  Deaths  Recovered\n",
              "0                NaN         Afghanistan  ...     0.0        0.0\n",
              "1                NaN             Albania  ...     0.0        0.0\n",
              "2                NaN             Algeria  ...     0.0        0.0\n",
              "3                NaN             Andorra  ...     0.0        0.0\n",
              "4                NaN              Angola  ...     0.0        0.0\n",
              "...              ...                 ...  ...     ...        ...\n",
              "68357            NaN  West Bank and Gaza  ...   330.0    34698.0\n",
              "68358            NaN      Western Sahara  ...     1.0        8.0\n",
              "68359            NaN               Yemen  ...     0.0     1320.0\n",
              "68360            NaN              Zambia  ...   333.0    14187.0\n",
              "68361            NaN            Zimbabwe  ...   228.0     6359.0\n",
              "\n",
              "[67334 rows x 8 columns]"
            ]
          },
          "metadata": {
            "tags": []
          },
          "execution_count": 26
        }
      ]
    },
    {
      "cell_type": "markdown",
      "metadata": {
        "id": "bf3mSML5p5R5"
      },
      "source": [
        "### **Add new colum for active cases**\n",
        "Below we compute the active cases by substracting the number of death and recovered to the confirmed cases."
      ]
    },
    {
      "cell_type": "code",
      "metadata": {
        "id": "j2Dk58s2p5R6",
        "outputId": "76389bf9-5e20-455a-b9d4-7a353ea3be22",
        "colab": {
          "base_uri": "https://localhost:8080/",
          "height": 419
        }
      },
      "source": [
        "# Active Case = confirmed - deaths - recovered\n",
        "full_table['Active'] = full_table['Confirmed'] - full_table['Deaths'] - full_table['Recovered']\n",
        "full_table"
      ],
      "execution_count": null,
      "outputs": [
        {
          "output_type": "execute_result",
          "data": {
            "text/html": [
              "<div>\n",
              "<style scoped>\n",
              "    .dataframe tbody tr th:only-of-type {\n",
              "        vertical-align: middle;\n",
              "    }\n",
              "\n",
              "    .dataframe tbody tr th {\n",
              "        vertical-align: top;\n",
              "    }\n",
              "\n",
              "    .dataframe thead th {\n",
              "        text-align: right;\n",
              "    }\n",
              "</style>\n",
              "<table border=\"1\" class=\"dataframe\">\n",
              "  <thead>\n",
              "    <tr style=\"text-align: right;\">\n",
              "      <th></th>\n",
              "      <th>Province/State</th>\n",
              "      <th>Country/Region</th>\n",
              "      <th>Lat</th>\n",
              "      <th>Long</th>\n",
              "      <th>Date</th>\n",
              "      <th>Confirmed</th>\n",
              "      <th>Deaths</th>\n",
              "      <th>Recovered</th>\n",
              "      <th>Active</th>\n",
              "    </tr>\n",
              "  </thead>\n",
              "  <tbody>\n",
              "    <tr>\n",
              "      <th>0</th>\n",
              "      <td>NaN</td>\n",
              "      <td>Afghanistan</td>\n",
              "      <td>33.939110</td>\n",
              "      <td>67.709953</td>\n",
              "      <td>2020-01-22</td>\n",
              "      <td>0</td>\n",
              "      <td>0.0</td>\n",
              "      <td>0.0</td>\n",
              "      <td>0.0</td>\n",
              "    </tr>\n",
              "    <tr>\n",
              "      <th>1</th>\n",
              "      <td>NaN</td>\n",
              "      <td>Albania</td>\n",
              "      <td>41.153300</td>\n",
              "      <td>20.168300</td>\n",
              "      <td>2020-01-22</td>\n",
              "      <td>0</td>\n",
              "      <td>0.0</td>\n",
              "      <td>0.0</td>\n",
              "      <td>0.0</td>\n",
              "    </tr>\n",
              "    <tr>\n",
              "      <th>2</th>\n",
              "      <td>NaN</td>\n",
              "      <td>Algeria</td>\n",
              "      <td>28.033900</td>\n",
              "      <td>1.659600</td>\n",
              "      <td>2020-01-22</td>\n",
              "      <td>0</td>\n",
              "      <td>0.0</td>\n",
              "      <td>0.0</td>\n",
              "      <td>0.0</td>\n",
              "    </tr>\n",
              "    <tr>\n",
              "      <th>3</th>\n",
              "      <td>NaN</td>\n",
              "      <td>Andorra</td>\n",
              "      <td>42.506300</td>\n",
              "      <td>1.521800</td>\n",
              "      <td>2020-01-22</td>\n",
              "      <td>0</td>\n",
              "      <td>0.0</td>\n",
              "      <td>0.0</td>\n",
              "      <td>0.0</td>\n",
              "    </tr>\n",
              "    <tr>\n",
              "      <th>4</th>\n",
              "      <td>NaN</td>\n",
              "      <td>Angola</td>\n",
              "      <td>-11.202700</td>\n",
              "      <td>17.873900</td>\n",
              "      <td>2020-01-22</td>\n",
              "      <td>0</td>\n",
              "      <td>0.0</td>\n",
              "      <td>0.0</td>\n",
              "      <td>0.0</td>\n",
              "    </tr>\n",
              "    <tr>\n",
              "      <th>...</th>\n",
              "      <td>...</td>\n",
              "      <td>...</td>\n",
              "      <td>...</td>\n",
              "      <td>...</td>\n",
              "      <td>...</td>\n",
              "      <td>...</td>\n",
              "      <td>...</td>\n",
              "      <td>...</td>\n",
              "      <td>...</td>\n",
              "    </tr>\n",
              "    <tr>\n",
              "      <th>68357</th>\n",
              "      <td>NaN</td>\n",
              "      <td>West Bank and Gaza</td>\n",
              "      <td>31.952200</td>\n",
              "      <td>35.233200</td>\n",
              "      <td>2020-10-04</td>\n",
              "      <td>41498</td>\n",
              "      <td>330.0</td>\n",
              "      <td>34698.0</td>\n",
              "      <td>6470.0</td>\n",
              "    </tr>\n",
              "    <tr>\n",
              "      <th>68358</th>\n",
              "      <td>NaN</td>\n",
              "      <td>Western Sahara</td>\n",
              "      <td>24.215500</td>\n",
              "      <td>-12.885800</td>\n",
              "      <td>2020-10-04</td>\n",
              "      <td>10</td>\n",
              "      <td>1.0</td>\n",
              "      <td>8.0</td>\n",
              "      <td>1.0</td>\n",
              "    </tr>\n",
              "    <tr>\n",
              "      <th>68359</th>\n",
              "      <td>NaN</td>\n",
              "      <td>Yemen</td>\n",
              "      <td>15.552727</td>\n",
              "      <td>48.516388</td>\n",
              "      <td>2020-10-04</td>\n",
              "      <td>2041</td>\n",
              "      <td>0.0</td>\n",
              "      <td>1320.0</td>\n",
              "      <td>721.0</td>\n",
              "    </tr>\n",
              "    <tr>\n",
              "      <th>68360</th>\n",
              "      <td>NaN</td>\n",
              "      <td>Zambia</td>\n",
              "      <td>-13.133897</td>\n",
              "      <td>27.849332</td>\n",
              "      <td>2020-10-04</td>\n",
              "      <td>15052</td>\n",
              "      <td>333.0</td>\n",
              "      <td>14187.0</td>\n",
              "      <td>532.0</td>\n",
              "    </tr>\n",
              "    <tr>\n",
              "      <th>68361</th>\n",
              "      <td>NaN</td>\n",
              "      <td>Zimbabwe</td>\n",
              "      <td>-19.015438</td>\n",
              "      <td>29.154857</td>\n",
              "      <td>2020-10-04</td>\n",
              "      <td>7888</td>\n",
              "      <td>228.0</td>\n",
              "      <td>6359.0</td>\n",
              "      <td>1301.0</td>\n",
              "    </tr>\n",
              "  </tbody>\n",
              "</table>\n",
              "<p>67334 rows × 9 columns</p>\n",
              "</div>"
            ],
            "text/plain": [
              "      Province/State      Country/Region        Lat  ...  Deaths Recovered  Active\n",
              "0                NaN         Afghanistan  33.939110  ...     0.0       0.0     0.0\n",
              "1                NaN             Albania  41.153300  ...     0.0       0.0     0.0\n",
              "2                NaN             Algeria  28.033900  ...     0.0       0.0     0.0\n",
              "3                NaN             Andorra  42.506300  ...     0.0       0.0     0.0\n",
              "4                NaN              Angola -11.202700  ...     0.0       0.0     0.0\n",
              "...              ...                 ...        ...  ...     ...       ...     ...\n",
              "68357            NaN  West Bank and Gaza  31.952200  ...   330.0   34698.0  6470.0\n",
              "68358            NaN      Western Sahara  24.215500  ...     1.0       8.0     1.0\n",
              "68359            NaN               Yemen  15.552727  ...     0.0    1320.0   721.0\n",
              "68360            NaN              Zambia -13.133897  ...   333.0   14187.0   532.0\n",
              "68361            NaN            Zimbabwe -19.015438  ...   228.0    6359.0  1301.0\n",
              "\n",
              "[67334 rows x 9 columns]"
            ]
          },
          "metadata": {
            "tags": []
          },
          "execution_count": 27
        }
      ]
    },
    {
      "cell_type": "markdown",
      "metadata": {
        "id": "-0GWyShBp5R8"
      },
      "source": [
        "We agregate the data by Country and Date (by means of grouping) and calculate de sum of the cases"
      ]
    },
    {
      "cell_type": "code",
      "metadata": {
        "id": "y9ukj4knp5R9",
        "outputId": "0b5c50f1-7ccc-453f-c43a-3e4168a1409e",
        "colab": {
          "base_uri": "https://localhost:8080/",
          "height": 453
        }
      },
      "source": [
        "full_grouped = full_table.groupby(['Date', 'Country/Region'])['Confirmed', 'Deaths', 'Recovered', 'Active'].sum().reset_index()\n",
        "full_grouped"
      ],
      "execution_count": null,
      "outputs": [
        {
          "output_type": "stream",
          "text": [
            "/usr/local/lib/python3.6/dist-packages/ipykernel_launcher.py:1: FutureWarning: Indexing with multiple keys (implicitly converted to a tuple of keys) will be deprecated, use a list instead.\n",
            "  \"\"\"Entry point for launching an IPython kernel.\n"
          ],
          "name": "stderr"
        },
        {
          "output_type": "execute_result",
          "data": {
            "text/html": [
              "<div>\n",
              "<style scoped>\n",
              "    .dataframe tbody tr th:only-of-type {\n",
              "        vertical-align: middle;\n",
              "    }\n",
              "\n",
              "    .dataframe tbody tr th {\n",
              "        vertical-align: top;\n",
              "    }\n",
              "\n",
              "    .dataframe thead th {\n",
              "        text-align: right;\n",
              "    }\n",
              "</style>\n",
              "<table border=\"1\" class=\"dataframe\">\n",
              "  <thead>\n",
              "    <tr style=\"text-align: right;\">\n",
              "      <th></th>\n",
              "      <th>Date</th>\n",
              "      <th>Country/Region</th>\n",
              "      <th>Confirmed</th>\n",
              "      <th>Deaths</th>\n",
              "      <th>Recovered</th>\n",
              "      <th>Active</th>\n",
              "    </tr>\n",
              "  </thead>\n",
              "  <tbody>\n",
              "    <tr>\n",
              "      <th>0</th>\n",
              "      <td>2020-01-22</td>\n",
              "      <td>Afghanistan</td>\n",
              "      <td>0</td>\n",
              "      <td>0.0</td>\n",
              "      <td>0.0</td>\n",
              "      <td>0.0</td>\n",
              "    </tr>\n",
              "    <tr>\n",
              "      <th>1</th>\n",
              "      <td>2020-01-22</td>\n",
              "      <td>Albania</td>\n",
              "      <td>0</td>\n",
              "      <td>0.0</td>\n",
              "      <td>0.0</td>\n",
              "      <td>0.0</td>\n",
              "    </tr>\n",
              "    <tr>\n",
              "      <th>2</th>\n",
              "      <td>2020-01-22</td>\n",
              "      <td>Algeria</td>\n",
              "      <td>0</td>\n",
              "      <td>0.0</td>\n",
              "      <td>0.0</td>\n",
              "      <td>0.0</td>\n",
              "    </tr>\n",
              "    <tr>\n",
              "      <th>3</th>\n",
              "      <td>2020-01-22</td>\n",
              "      <td>Andorra</td>\n",
              "      <td>0</td>\n",
              "      <td>0.0</td>\n",
              "      <td>0.0</td>\n",
              "      <td>0.0</td>\n",
              "    </tr>\n",
              "    <tr>\n",
              "      <th>4</th>\n",
              "      <td>2020-01-22</td>\n",
              "      <td>Angola</td>\n",
              "      <td>0</td>\n",
              "      <td>0.0</td>\n",
              "      <td>0.0</td>\n",
              "      <td>0.0</td>\n",
              "    </tr>\n",
              "    <tr>\n",
              "      <th>...</th>\n",
              "      <td>...</td>\n",
              "      <td>...</td>\n",
              "      <td>...</td>\n",
              "      <td>...</td>\n",
              "      <td>...</td>\n",
              "      <td>...</td>\n",
              "    </tr>\n",
              "    <tr>\n",
              "      <th>47797</th>\n",
              "      <td>2020-10-04</td>\n",
              "      <td>West Bank and Gaza</td>\n",
              "      <td>41498</td>\n",
              "      <td>330.0</td>\n",
              "      <td>34698.0</td>\n",
              "      <td>6470.0</td>\n",
              "    </tr>\n",
              "    <tr>\n",
              "      <th>47798</th>\n",
              "      <td>2020-10-04</td>\n",
              "      <td>Western Sahara</td>\n",
              "      <td>10</td>\n",
              "      <td>1.0</td>\n",
              "      <td>8.0</td>\n",
              "      <td>1.0</td>\n",
              "    </tr>\n",
              "    <tr>\n",
              "      <th>47799</th>\n",
              "      <td>2020-10-04</td>\n",
              "      <td>Yemen</td>\n",
              "      <td>2041</td>\n",
              "      <td>0.0</td>\n",
              "      <td>1320.0</td>\n",
              "      <td>721.0</td>\n",
              "    </tr>\n",
              "    <tr>\n",
              "      <th>47800</th>\n",
              "      <td>2020-10-04</td>\n",
              "      <td>Zambia</td>\n",
              "      <td>15052</td>\n",
              "      <td>333.0</td>\n",
              "      <td>14187.0</td>\n",
              "      <td>532.0</td>\n",
              "    </tr>\n",
              "    <tr>\n",
              "      <th>47801</th>\n",
              "      <td>2020-10-04</td>\n",
              "      <td>Zimbabwe</td>\n",
              "      <td>7888</td>\n",
              "      <td>228.0</td>\n",
              "      <td>6359.0</td>\n",
              "      <td>1301.0</td>\n",
              "    </tr>\n",
              "  </tbody>\n",
              "</table>\n",
              "<p>47802 rows × 6 columns</p>\n",
              "</div>"
            ],
            "text/plain": [
              "            Date      Country/Region  Confirmed  Deaths  Recovered  Active\n",
              "0     2020-01-22         Afghanistan          0     0.0        0.0     0.0\n",
              "1     2020-01-22             Albania          0     0.0        0.0     0.0\n",
              "2     2020-01-22             Algeria          0     0.0        0.0     0.0\n",
              "3     2020-01-22             Andorra          0     0.0        0.0     0.0\n",
              "4     2020-01-22              Angola          0     0.0        0.0     0.0\n",
              "...          ...                 ...        ...     ...        ...     ...\n",
              "47797 2020-10-04  West Bank and Gaza      41498   330.0    34698.0  6470.0\n",
              "47798 2020-10-04      Western Sahara         10     1.0        8.0     1.0\n",
              "47799 2020-10-04               Yemen       2041     0.0     1320.0   721.0\n",
              "47800 2020-10-04              Zambia      15052   333.0    14187.0   532.0\n",
              "47801 2020-10-04            Zimbabwe       7888   228.0     6359.0  1301.0\n",
              "\n",
              "[47802 rows x 6 columns]"
            ]
          },
          "metadata": {
            "tags": []
          },
          "execution_count": 28
        }
      ]
    },
    {
      "cell_type": "code",
      "metadata": {
        "id": "XHINTWYip5R_",
        "outputId": "3d229b00-06ad-4252-e338-6695950674ca",
        "colab": {
          "base_uri": "https://localhost:8080/",
          "height": 419
        }
      },
      "source": [
        "#rename the \"Country/Region\" variable\n",
        "full_grouped.rename(columns = {'Country/Region' : 'Country_Region'}, inplace = True)\n",
        "full_grouped"
      ],
      "execution_count": null,
      "outputs": [
        {
          "output_type": "execute_result",
          "data": {
            "text/html": [
              "<div>\n",
              "<style scoped>\n",
              "    .dataframe tbody tr th:only-of-type {\n",
              "        vertical-align: middle;\n",
              "    }\n",
              "\n",
              "    .dataframe tbody tr th {\n",
              "        vertical-align: top;\n",
              "    }\n",
              "\n",
              "    .dataframe thead th {\n",
              "        text-align: right;\n",
              "    }\n",
              "</style>\n",
              "<table border=\"1\" class=\"dataframe\">\n",
              "  <thead>\n",
              "    <tr style=\"text-align: right;\">\n",
              "      <th></th>\n",
              "      <th>Date</th>\n",
              "      <th>Country_Region</th>\n",
              "      <th>Confirmed</th>\n",
              "      <th>Deaths</th>\n",
              "      <th>Recovered</th>\n",
              "      <th>Active</th>\n",
              "    </tr>\n",
              "  </thead>\n",
              "  <tbody>\n",
              "    <tr>\n",
              "      <th>0</th>\n",
              "      <td>2020-01-22</td>\n",
              "      <td>Afghanistan</td>\n",
              "      <td>0</td>\n",
              "      <td>0.0</td>\n",
              "      <td>0.0</td>\n",
              "      <td>0.0</td>\n",
              "    </tr>\n",
              "    <tr>\n",
              "      <th>1</th>\n",
              "      <td>2020-01-22</td>\n",
              "      <td>Albania</td>\n",
              "      <td>0</td>\n",
              "      <td>0.0</td>\n",
              "      <td>0.0</td>\n",
              "      <td>0.0</td>\n",
              "    </tr>\n",
              "    <tr>\n",
              "      <th>2</th>\n",
              "      <td>2020-01-22</td>\n",
              "      <td>Algeria</td>\n",
              "      <td>0</td>\n",
              "      <td>0.0</td>\n",
              "      <td>0.0</td>\n",
              "      <td>0.0</td>\n",
              "    </tr>\n",
              "    <tr>\n",
              "      <th>3</th>\n",
              "      <td>2020-01-22</td>\n",
              "      <td>Andorra</td>\n",
              "      <td>0</td>\n",
              "      <td>0.0</td>\n",
              "      <td>0.0</td>\n",
              "      <td>0.0</td>\n",
              "    </tr>\n",
              "    <tr>\n",
              "      <th>4</th>\n",
              "      <td>2020-01-22</td>\n",
              "      <td>Angola</td>\n",
              "      <td>0</td>\n",
              "      <td>0.0</td>\n",
              "      <td>0.0</td>\n",
              "      <td>0.0</td>\n",
              "    </tr>\n",
              "    <tr>\n",
              "      <th>...</th>\n",
              "      <td>...</td>\n",
              "      <td>...</td>\n",
              "      <td>...</td>\n",
              "      <td>...</td>\n",
              "      <td>...</td>\n",
              "      <td>...</td>\n",
              "    </tr>\n",
              "    <tr>\n",
              "      <th>47797</th>\n",
              "      <td>2020-10-04</td>\n",
              "      <td>West Bank and Gaza</td>\n",
              "      <td>41498</td>\n",
              "      <td>330.0</td>\n",
              "      <td>34698.0</td>\n",
              "      <td>6470.0</td>\n",
              "    </tr>\n",
              "    <tr>\n",
              "      <th>47798</th>\n",
              "      <td>2020-10-04</td>\n",
              "      <td>Western Sahara</td>\n",
              "      <td>10</td>\n",
              "      <td>1.0</td>\n",
              "      <td>8.0</td>\n",
              "      <td>1.0</td>\n",
              "    </tr>\n",
              "    <tr>\n",
              "      <th>47799</th>\n",
              "      <td>2020-10-04</td>\n",
              "      <td>Yemen</td>\n",
              "      <td>2041</td>\n",
              "      <td>0.0</td>\n",
              "      <td>1320.0</td>\n",
              "      <td>721.0</td>\n",
              "    </tr>\n",
              "    <tr>\n",
              "      <th>47800</th>\n",
              "      <td>2020-10-04</td>\n",
              "      <td>Zambia</td>\n",
              "      <td>15052</td>\n",
              "      <td>333.0</td>\n",
              "      <td>14187.0</td>\n",
              "      <td>532.0</td>\n",
              "    </tr>\n",
              "    <tr>\n",
              "      <th>47801</th>\n",
              "      <td>2020-10-04</td>\n",
              "      <td>Zimbabwe</td>\n",
              "      <td>7888</td>\n",
              "      <td>228.0</td>\n",
              "      <td>6359.0</td>\n",
              "      <td>1301.0</td>\n",
              "    </tr>\n",
              "  </tbody>\n",
              "</table>\n",
              "<p>47802 rows × 6 columns</p>\n",
              "</div>"
            ],
            "text/plain": [
              "            Date      Country_Region  Confirmed  Deaths  Recovered  Active\n",
              "0     2020-01-22         Afghanistan          0     0.0        0.0     0.0\n",
              "1     2020-01-22             Albania          0     0.0        0.0     0.0\n",
              "2     2020-01-22             Algeria          0     0.0        0.0     0.0\n",
              "3     2020-01-22             Andorra          0     0.0        0.0     0.0\n",
              "4     2020-01-22              Angola          0     0.0        0.0     0.0\n",
              "...          ...                 ...        ...     ...        ...     ...\n",
              "47797 2020-10-04  West Bank and Gaza      41498   330.0    34698.0  6470.0\n",
              "47798 2020-10-04      Western Sahara         10     1.0        8.0     1.0\n",
              "47799 2020-10-04               Yemen       2041     0.0     1320.0   721.0\n",
              "47800 2020-10-04              Zambia      15052   333.0    14187.0   532.0\n",
              "47801 2020-10-04            Zimbabwe       7888   228.0     6359.0  1301.0\n",
              "\n",
              "[47802 rows x 6 columns]"
            ]
          },
          "metadata": {
            "tags": []
          },
          "execution_count": 29
        }
      ]
    },
    {
      "cell_type": "code",
      "metadata": {
        "id": "F4r3Ehz5p5SC",
        "outputId": "347d49bb-f115-4983-ba20-c60471bbc709",
        "colab": {
          "base_uri": "https://localhost:8080/",
          "height": 34
        }
      },
      "source": [
        "# compute the number of countries registered in the covide dataset\n",
        "full_grouped['Country_Region'].unique().size"
      ],
      "execution_count": null,
      "outputs": [
        {
          "output_type": "execute_result",
          "data": {
            "text/plain": [
              "186"
            ]
          },
          "metadata": {
            "tags": []
          },
          "execution_count": 30
        }
      ]
    },
    {
      "cell_type": "markdown",
      "metadata": {
        "id": "MpL0eTgip5SE"
      },
      "source": [
        "### **Extract metadata for contry codes**"
      ]
    },
    {
      "cell_type": "code",
      "metadata": {
        "id": "EP8Qv_Jip5SF",
        "outputId": "696dddb4-0583-4c5b-9ae2-3d7d9504dc8b",
        "colab": {
          "base_uri": "https://localhost:8080/",
          "height": 34
        }
      },
      "source": [
        "covid_metadata_countries = pd.read_csv(\"https://raw.githubusercontent.com/CSSEGISandData/COVID-19/master/csse_covid_19_data/UID_ISO_FIPS_LookUp_Table.csv\",\n",
        "                                      usecols = ['Country_Region', 'Province_State', 'iso3', 'Population'])\n",
        "covid_metadata_countries.columns"
      ],
      "execution_count": null,
      "outputs": [
        {
          "output_type": "execute_result",
          "data": {
            "text/plain": [
              "Index(['iso3', 'Province_State', 'Country_Region', 'Population'], dtype='object')"
            ]
          },
          "metadata": {
            "tags": []
          },
          "execution_count": 31
        }
      ]
    },
    {
      "cell_type": "code",
      "metadata": {
        "id": "r6Vp_haVp5SH",
        "outputId": "af1461de-0ffa-484d-938b-f9f9a1669c5a",
        "colab": {
          "base_uri": "https://localhost:8080/",
          "height": 204
        }
      },
      "source": [
        "covid_metadata_countries.info(verbose = True)"
      ],
      "execution_count": null,
      "outputs": [
        {
          "output_type": "stream",
          "text": [
            "<class 'pandas.core.frame.DataFrame'>\n",
            "RangeIndex: 4153 entries, 0 to 4152\n",
            "Data columns (total 4 columns):\n",
            " #   Column          Non-Null Count  Dtype  \n",
            "---  ------          --------------  -----  \n",
            " 0   iso3            4151 non-null   object \n",
            " 1   Province_State  3965 non-null   object \n",
            " 2   Country_Region  4153 non-null   object \n",
            " 3   Population      4012 non-null   float64\n",
            "dtypes: float64(1), object(3)\n",
            "memory usage: 129.9+ KB\n"
          ],
          "name": "stdout"
        }
      ]
    },
    {
      "cell_type": "markdown",
      "metadata": {
        "id": "nHSFR3sqp5SI"
      },
      "source": [
        "### **Remove the cruise ships information that does not contain relevant metadata on country codes**"
      ]
    },
    {
      "cell_type": "code",
      "metadata": {
        "id": "UCo1c7sjp5SL"
      },
      "source": [
        "# select from columns 'Country_Region' the names 'Diamond Princess'and 'MS Zaandam'\n",
        "ship_metadata = covid_metadata_countries['Country_Region'].str.contains('Diamond Princess') | covid_metadata_countries['Country_Region'].str.contains('MS Zaandam')\n",
        "ship_metadata\n",
        "covid_metadata_countries = covid_metadata_countries[~(ship_metadata)]"
      ],
      "execution_count": null,
      "outputs": []
    },
    {
      "cell_type": "markdown",
      "metadata": {
        "id": "43BRMBXqp5SN"
      },
      "source": [
        "### **Summarize the population by country in the metadata file**"
      ]
    },
    {
      "cell_type": "code",
      "metadata": {
        "id": "XosG0thQp5SO"
      },
      "source": [
        "#my_covid_variables = ['Confirmed', 'Deaths', 'Recovered', 'Active']\n",
        "code_vars = ['Country_Region', 'iso3']\n",
        "\n",
        "#full_table.groupby(['Date', 'Country/Region'])[my_covid_variables].sum().reset_index()\n",
        "country_population = covid_metadata_countries.groupby(code_vars)['Population'].sum().reset_index()"
      ],
      "execution_count": null,
      "outputs": []
    },
    {
      "cell_type": "code",
      "metadata": {
        "id": "4g79RRkDp5SQ",
        "outputId": "0c86b9d3-814c-4519-b937-80dfbe4233c6",
        "colab": {
          "base_uri": "https://localhost:8080/",
          "height": 663
        }
      },
      "source": [
        "country_population['Country_Region'].unique()"
      ],
      "execution_count": null,
      "outputs": [
        {
          "output_type": "execute_result",
          "data": {
            "text/plain": [
              "array(['Afghanistan', 'Albania', 'Algeria', 'Andorra', 'Angola',\n",
              "       'Antigua and Barbuda', 'Argentina', 'Armenia', 'Australia',\n",
              "       'Austria', 'Azerbaijan', 'Bahamas', 'Bahrain', 'Bangladesh',\n",
              "       'Barbados', 'Belarus', 'Belgium', 'Belize', 'Benin', 'Bhutan',\n",
              "       'Bolivia', 'Bosnia and Herzegovina', 'Botswana', 'Brazil',\n",
              "       'Brunei', 'Bulgaria', 'Burkina Faso', 'Burma', 'Burundi',\n",
              "       'Cabo Verde', 'Cambodia', 'Cameroon', 'Canada',\n",
              "       'Central African Republic', 'Chad', 'Chile', 'China', 'Colombia',\n",
              "       'Comoros', 'Congo (Brazzaville)', 'Congo (Kinshasa)', 'Costa Rica',\n",
              "       \"Cote d'Ivoire\", 'Croatia', 'Cuba', 'Cyprus', 'Czechia', 'Denmark',\n",
              "       'Djibouti', 'Dominica', 'Dominican Republic', 'Ecuador', 'Egypt',\n",
              "       'El Salvador', 'Equatorial Guinea', 'Eritrea', 'Estonia',\n",
              "       'Eswatini', 'Ethiopia', 'Fiji', 'Finland', 'France', 'Gabon',\n",
              "       'Gambia', 'Georgia', 'Germany', 'Ghana', 'Greece', 'Grenada',\n",
              "       'Guatemala', 'Guinea', 'Guinea-Bissau', 'Guyana', 'Haiti',\n",
              "       'Holy See', 'Honduras', 'Hungary', 'Iceland', 'India', 'Indonesia',\n",
              "       'Iran', 'Iraq', 'Ireland', 'Israel', 'Italy', 'Jamaica', 'Japan',\n",
              "       'Jordan', 'Kazakhstan', 'Kenya', 'Korea, South', 'Kosovo',\n",
              "       'Kuwait', 'Kyrgyzstan', 'Laos', 'Latvia', 'Lebanon', 'Lesotho',\n",
              "       'Liberia', 'Libya', 'Liechtenstein', 'Lithuania', 'Luxembourg',\n",
              "       'Madagascar', 'Malawi', 'Malaysia', 'Maldives', 'Mali', 'Malta',\n",
              "       'Mauritania', 'Mauritius', 'Mexico', 'Moldova', 'Monaco',\n",
              "       'Mongolia', 'Montenegro', 'Morocco', 'Mozambique', 'Namibia',\n",
              "       'Nepal', 'Netherlands', 'New Zealand', 'Nicaragua', 'Niger',\n",
              "       'Nigeria', 'North Macedonia', 'Norway', 'Oman', 'Pakistan',\n",
              "       'Panama', 'Papua New Guinea', 'Paraguay', 'Peru', 'Philippines',\n",
              "       'Poland', 'Portugal', 'Qatar', 'Romania', 'Russia', 'Rwanda',\n",
              "       'Saint Kitts and Nevis', 'Saint Lucia',\n",
              "       'Saint Vincent and the Grenadines', 'San Marino',\n",
              "       'Sao Tome and Principe', 'Saudi Arabia', 'Senegal', 'Serbia',\n",
              "       'Seychelles', 'Sierra Leone', 'Singapore', 'Slovakia', 'Slovenia',\n",
              "       'Somalia', 'South Africa', 'South Sudan', 'Spain', 'Sri Lanka',\n",
              "       'Sudan', 'Suriname', 'Sweden', 'Switzerland', 'Syria', 'Taiwan*',\n",
              "       'Tajikistan', 'Tanzania', 'Thailand', 'Timor-Leste', 'Togo',\n",
              "       'Trinidad and Tobago', 'Tunisia', 'Turkey', 'US', 'Uganda',\n",
              "       'Ukraine', 'United Arab Emirates', 'United Kingdom', 'Uruguay',\n",
              "       'Uzbekistan', 'Venezuela', 'Vietnam', 'West Bank and Gaza',\n",
              "       'Western Sahara', 'Yemen', 'Zambia', 'Zimbabwe'], dtype=object)"
            ]
          },
          "metadata": {
            "tags": []
          },
          "execution_count": 35
        }
      ]
    },
    {
      "cell_type": "code",
      "metadata": {
        "id": "O1dwGMFnp5SS",
        "outputId": "26fffe4f-0d6e-4c01-d186-32a167e426f3",
        "colab": {
          "base_uri": "https://localhost:8080/",
          "height": 80
        }
      },
      "source": [
        "country_population[country_population['iso3'] == 'ABW']"
      ],
      "execution_count": null,
      "outputs": [
        {
          "output_type": "execute_result",
          "data": {
            "text/html": [
              "<div>\n",
              "<style scoped>\n",
              "    .dataframe tbody tr th:only-of-type {\n",
              "        vertical-align: middle;\n",
              "    }\n",
              "\n",
              "    .dataframe tbody tr th {\n",
              "        vertical-align: top;\n",
              "    }\n",
              "\n",
              "    .dataframe thead th {\n",
              "        text-align: right;\n",
              "    }\n",
              "</style>\n",
              "<table border=\"1\" class=\"dataframe\">\n",
              "  <thead>\n",
              "    <tr style=\"text-align: right;\">\n",
              "      <th></th>\n",
              "      <th>Country_Region</th>\n",
              "      <th>iso3</th>\n",
              "      <th>Population</th>\n",
              "    </tr>\n",
              "  </thead>\n",
              "  <tbody>\n",
              "    <tr>\n",
              "      <th>134</th>\n",
              "      <td>Netherlands</td>\n",
              "      <td>ABW</td>\n",
              "      <td>106766.0</td>\n",
              "    </tr>\n",
              "  </tbody>\n",
              "</table>\n",
              "</div>"
            ],
            "text/plain": [
              "    Country_Region iso3  Population\n",
              "134    Netherlands  ABW    106766.0"
            ]
          },
          "metadata": {
            "tags": []
          },
          "execution_count": 36
        }
      ]
    },
    {
      "cell_type": "code",
      "metadata": {
        "id": "K8Zo1WkSp5SV",
        "outputId": "8f033285-3f21-4076-fa8e-a651d2e56e46",
        "colab": {
          "base_uri": "https://localhost:8080/",
          "height": 1000
        }
      },
      "source": [
        "country_population[country_population['Country_Region'].duplicated()]"
      ],
      "execution_count": null,
      "outputs": [
        {
          "output_type": "execute_result",
          "data": {
            "text/html": [
              "<div>\n",
              "<style scoped>\n",
              "    .dataframe tbody tr th:only-of-type {\n",
              "        vertical-align: middle;\n",
              "    }\n",
              "\n",
              "    .dataframe tbody tr th {\n",
              "        vertical-align: top;\n",
              "    }\n",
              "\n",
              "    .dataframe thead th {\n",
              "        text-align: right;\n",
              "    }\n",
              "</style>\n",
              "<table border=\"1\" class=\"dataframe\">\n",
              "  <thead>\n",
              "    <tr style=\"text-align: right;\">\n",
              "      <th></th>\n",
              "      <th>Country_Region</th>\n",
              "      <th>iso3</th>\n",
              "      <th>Population</th>\n",
              "    </tr>\n",
              "  </thead>\n",
              "  <tbody>\n",
              "    <tr>\n",
              "      <th>37</th>\n",
              "      <td>China</td>\n",
              "      <td>HKG</td>\n",
              "      <td>7496988.0</td>\n",
              "    </tr>\n",
              "    <tr>\n",
              "      <th>38</th>\n",
              "      <td>China</td>\n",
              "      <td>MAC</td>\n",
              "      <td>649342.0</td>\n",
              "    </tr>\n",
              "    <tr>\n",
              "      <th>50</th>\n",
              "      <td>Denmark</td>\n",
              "      <td>FRO</td>\n",
              "      <td>48865.0</td>\n",
              "    </tr>\n",
              "    <tr>\n",
              "      <th>51</th>\n",
              "      <td>Denmark</td>\n",
              "      <td>GRL</td>\n",
              "      <td>56772.0</td>\n",
              "    </tr>\n",
              "    <tr>\n",
              "      <th>66</th>\n",
              "      <td>France</td>\n",
              "      <td>FRA</td>\n",
              "      <td>65273512.0</td>\n",
              "    </tr>\n",
              "    <tr>\n",
              "      <th>67</th>\n",
              "      <td>France</td>\n",
              "      <td>GLP</td>\n",
              "      <td>400127.0</td>\n",
              "    </tr>\n",
              "    <tr>\n",
              "      <th>68</th>\n",
              "      <td>France</td>\n",
              "      <td>GUF</td>\n",
              "      <td>298682.0</td>\n",
              "    </tr>\n",
              "    <tr>\n",
              "      <th>69</th>\n",
              "      <td>France</td>\n",
              "      <td>MAF</td>\n",
              "      <td>38659.0</td>\n",
              "    </tr>\n",
              "    <tr>\n",
              "      <th>70</th>\n",
              "      <td>France</td>\n",
              "      <td>MTQ</td>\n",
              "      <td>375265.0</td>\n",
              "    </tr>\n",
              "    <tr>\n",
              "      <th>71</th>\n",
              "      <td>France</td>\n",
              "      <td>MYT</td>\n",
              "      <td>272813.0</td>\n",
              "    </tr>\n",
              "    <tr>\n",
              "      <th>72</th>\n",
              "      <td>France</td>\n",
              "      <td>NCL</td>\n",
              "      <td>285491.0</td>\n",
              "    </tr>\n",
              "    <tr>\n",
              "      <th>73</th>\n",
              "      <td>France</td>\n",
              "      <td>PYF</td>\n",
              "      <td>280904.0</td>\n",
              "    </tr>\n",
              "    <tr>\n",
              "      <th>74</th>\n",
              "      <td>France</td>\n",
              "      <td>REU</td>\n",
              "      <td>895308.0</td>\n",
              "    </tr>\n",
              "    <tr>\n",
              "      <th>75</th>\n",
              "      <td>France</td>\n",
              "      <td>SPM</td>\n",
              "      <td>5795.0</td>\n",
              "    </tr>\n",
              "    <tr>\n",
              "      <th>135</th>\n",
              "      <td>Netherlands</td>\n",
              "      <td>BES</td>\n",
              "      <td>26221.0</td>\n",
              "    </tr>\n",
              "    <tr>\n",
              "      <th>136</th>\n",
              "      <td>Netherlands</td>\n",
              "      <td>CUW</td>\n",
              "      <td>164100.0</td>\n",
              "    </tr>\n",
              "    <tr>\n",
              "      <th>137</th>\n",
              "      <td>Netherlands</td>\n",
              "      <td>NLD</td>\n",
              "      <td>34542458.0</td>\n",
              "    </tr>\n",
              "    <tr>\n",
              "      <th>138</th>\n",
              "      <td>Netherlands</td>\n",
              "      <td>SXM</td>\n",
              "      <td>42882.0</td>\n",
              "    </tr>\n",
              "    <tr>\n",
              "      <th>191</th>\n",
              "      <td>US</td>\n",
              "      <td>GUM</td>\n",
              "      <td>164229.0</td>\n",
              "    </tr>\n",
              "    <tr>\n",
              "      <th>192</th>\n",
              "      <td>US</td>\n",
              "      <td>MNP</td>\n",
              "      <td>55144.0</td>\n",
              "    </tr>\n",
              "    <tr>\n",
              "      <th>193</th>\n",
              "      <td>US</td>\n",
              "      <td>PRI</td>\n",
              "      <td>6688347.0</td>\n",
              "    </tr>\n",
              "    <tr>\n",
              "      <th>194</th>\n",
              "      <td>US</td>\n",
              "      <td>USA</td>\n",
              "      <td>987354597.0</td>\n",
              "    </tr>\n",
              "    <tr>\n",
              "      <th>195</th>\n",
              "      <td>US</td>\n",
              "      <td>VIR</td>\n",
              "      <td>107268.0</td>\n",
              "    </tr>\n",
              "    <tr>\n",
              "      <th>200</th>\n",
              "      <td>United Kingdom</td>\n",
              "      <td>BMU</td>\n",
              "      <td>62273.0</td>\n",
              "    </tr>\n",
              "    <tr>\n",
              "      <th>201</th>\n",
              "      <td>United Kingdom</td>\n",
              "      <td>CYM</td>\n",
              "      <td>65720.0</td>\n",
              "    </tr>\n",
              "    <tr>\n",
              "      <th>202</th>\n",
              "      <td>United Kingdom</td>\n",
              "      <td>FLK</td>\n",
              "      <td>3483.0</td>\n",
              "    </tr>\n",
              "    <tr>\n",
              "      <th>203</th>\n",
              "      <td>United Kingdom</td>\n",
              "      <td>GBR</td>\n",
              "      <td>134517203.0</td>\n",
              "    </tr>\n",
              "    <tr>\n",
              "      <th>204</th>\n",
              "      <td>United Kingdom</td>\n",
              "      <td>GIB</td>\n",
              "      <td>33691.0</td>\n",
              "    </tr>\n",
              "    <tr>\n",
              "      <th>205</th>\n",
              "      <td>United Kingdom</td>\n",
              "      <td>IMN</td>\n",
              "      <td>85032.0</td>\n",
              "    </tr>\n",
              "    <tr>\n",
              "      <th>206</th>\n",
              "      <td>United Kingdom</td>\n",
              "      <td>MSR</td>\n",
              "      <td>4999.0</td>\n",
              "    </tr>\n",
              "    <tr>\n",
              "      <th>207</th>\n",
              "      <td>United Kingdom</td>\n",
              "      <td>TCA</td>\n",
              "      <td>38718.0</td>\n",
              "    </tr>\n",
              "    <tr>\n",
              "      <th>208</th>\n",
              "      <td>United Kingdom</td>\n",
              "      <td>VGB</td>\n",
              "      <td>30237.0</td>\n",
              "    </tr>\n",
              "  </tbody>\n",
              "</table>\n",
              "</div>"
            ],
            "text/plain": [
              "     Country_Region iso3   Population\n",
              "37            China  HKG    7496988.0\n",
              "38            China  MAC     649342.0\n",
              "50          Denmark  FRO      48865.0\n",
              "51          Denmark  GRL      56772.0\n",
              "66           France  FRA   65273512.0\n",
              "67           France  GLP     400127.0\n",
              "68           France  GUF     298682.0\n",
              "69           France  MAF      38659.0\n",
              "70           France  MTQ     375265.0\n",
              "71           France  MYT     272813.0\n",
              "72           France  NCL     285491.0\n",
              "73           France  PYF     280904.0\n",
              "74           France  REU     895308.0\n",
              "75           France  SPM       5795.0\n",
              "135     Netherlands  BES      26221.0\n",
              "136     Netherlands  CUW     164100.0\n",
              "137     Netherlands  NLD   34542458.0\n",
              "138     Netherlands  SXM      42882.0\n",
              "191              US  GUM     164229.0\n",
              "192              US  MNP      55144.0\n",
              "193              US  PRI    6688347.0\n",
              "194              US  USA  987354597.0\n",
              "195              US  VIR     107268.0\n",
              "200  United Kingdom  BMU      62273.0\n",
              "201  United Kingdom  CYM      65720.0\n",
              "202  United Kingdom  FLK       3483.0\n",
              "203  United Kingdom  GBR  134517203.0\n",
              "204  United Kingdom  GIB      33691.0\n",
              "205  United Kingdom  IMN      85032.0\n",
              "206  United Kingdom  MSR       4999.0\n",
              "207  United Kingdom  TCA      38718.0\n",
              "208  United Kingdom  VGB      30237.0"
            ]
          },
          "metadata": {
            "tags": []
          },
          "execution_count": 37
        }
      ]
    },
    {
      "cell_type": "markdown",
      "metadata": {
        "id": "okjboLfEp5SX"
      },
      "source": [
        "### **Merge country code with Covid datasets**"
      ]
    },
    {
      "cell_type": "code",
      "metadata": {
        "id": "V10m-r0_p5SX",
        "outputId": "9432579f-9713-4c93-baf6-b570dc03d100",
        "colab": {
          "base_uri": "https://localhost:8080/",
          "height": 419
        }
      },
      "source": [
        "full_grouped_ccode = pd.merge(country_population, full_grouped, how = 'left')\n",
        "full_grouped_ccode"
      ],
      "execution_count": null,
      "outputs": [
        {
          "output_type": "execute_result",
          "data": {
            "text/html": [
              "<div>\n",
              "<style scoped>\n",
              "    .dataframe tbody tr th:only-of-type {\n",
              "        vertical-align: middle;\n",
              "    }\n",
              "\n",
              "    .dataframe tbody tr th {\n",
              "        vertical-align: top;\n",
              "    }\n",
              "\n",
              "    .dataframe thead th {\n",
              "        text-align: right;\n",
              "    }\n",
              "</style>\n",
              "<table border=\"1\" class=\"dataframe\">\n",
              "  <thead>\n",
              "    <tr style=\"text-align: right;\">\n",
              "      <th></th>\n",
              "      <th>Country_Region</th>\n",
              "      <th>iso3</th>\n",
              "      <th>Population</th>\n",
              "      <th>Date</th>\n",
              "      <th>Confirmed</th>\n",
              "      <th>Deaths</th>\n",
              "      <th>Recovered</th>\n",
              "      <th>Active</th>\n",
              "    </tr>\n",
              "  </thead>\n",
              "  <tbody>\n",
              "    <tr>\n",
              "      <th>0</th>\n",
              "      <td>Afghanistan</td>\n",
              "      <td>AFG</td>\n",
              "      <td>38928341.0</td>\n",
              "      <td>2020-01-22</td>\n",
              "      <td>0</td>\n",
              "      <td>0.0</td>\n",
              "      <td>0.0</td>\n",
              "      <td>0.0</td>\n",
              "    </tr>\n",
              "    <tr>\n",
              "      <th>1</th>\n",
              "      <td>Afghanistan</td>\n",
              "      <td>AFG</td>\n",
              "      <td>38928341.0</td>\n",
              "      <td>2020-01-23</td>\n",
              "      <td>0</td>\n",
              "      <td>0.0</td>\n",
              "      <td>0.0</td>\n",
              "      <td>0.0</td>\n",
              "    </tr>\n",
              "    <tr>\n",
              "      <th>2</th>\n",
              "      <td>Afghanistan</td>\n",
              "      <td>AFG</td>\n",
              "      <td>38928341.0</td>\n",
              "      <td>2020-01-24</td>\n",
              "      <td>0</td>\n",
              "      <td>0.0</td>\n",
              "      <td>0.0</td>\n",
              "      <td>0.0</td>\n",
              "    </tr>\n",
              "    <tr>\n",
              "      <th>3</th>\n",
              "      <td>Afghanistan</td>\n",
              "      <td>AFG</td>\n",
              "      <td>38928341.0</td>\n",
              "      <td>2020-01-25</td>\n",
              "      <td>0</td>\n",
              "      <td>0.0</td>\n",
              "      <td>0.0</td>\n",
              "      <td>0.0</td>\n",
              "    </tr>\n",
              "    <tr>\n",
              "      <th>4</th>\n",
              "      <td>Afghanistan</td>\n",
              "      <td>AFG</td>\n",
              "      <td>38928341.0</td>\n",
              "      <td>2020-01-26</td>\n",
              "      <td>0</td>\n",
              "      <td>0.0</td>\n",
              "      <td>0.0</td>\n",
              "      <td>0.0</td>\n",
              "    </tr>\n",
              "    <tr>\n",
              "      <th>...</th>\n",
              "      <td>...</td>\n",
              "      <td>...</td>\n",
              "      <td>...</td>\n",
              "      <td>...</td>\n",
              "      <td>...</td>\n",
              "      <td>...</td>\n",
              "      <td>...</td>\n",
              "      <td>...</td>\n",
              "    </tr>\n",
              "    <tr>\n",
              "      <th>56021</th>\n",
              "      <td>Zimbabwe</td>\n",
              "      <td>ZWE</td>\n",
              "      <td>14862927.0</td>\n",
              "      <td>2020-09-30</td>\n",
              "      <td>7838</td>\n",
              "      <td>228.0</td>\n",
              "      <td>6303.0</td>\n",
              "      <td>1307.0</td>\n",
              "    </tr>\n",
              "    <tr>\n",
              "      <th>56022</th>\n",
              "      <td>Zimbabwe</td>\n",
              "      <td>ZWE</td>\n",
              "      <td>14862927.0</td>\n",
              "      <td>2020-10-01</td>\n",
              "      <td>7850</td>\n",
              "      <td>228.0</td>\n",
              "      <td>6312.0</td>\n",
              "      <td>1310.0</td>\n",
              "    </tr>\n",
              "    <tr>\n",
              "      <th>56023</th>\n",
              "      <td>Zimbabwe</td>\n",
              "      <td>ZWE</td>\n",
              "      <td>14862927.0</td>\n",
              "      <td>2020-10-02</td>\n",
              "      <td>7858</td>\n",
              "      <td>228.0</td>\n",
              "      <td>6322.0</td>\n",
              "      <td>1308.0</td>\n",
              "    </tr>\n",
              "    <tr>\n",
              "      <th>56024</th>\n",
              "      <td>Zimbabwe</td>\n",
              "      <td>ZWE</td>\n",
              "      <td>14862927.0</td>\n",
              "      <td>2020-10-03</td>\n",
              "      <td>7885</td>\n",
              "      <td>228.0</td>\n",
              "      <td>6327.0</td>\n",
              "      <td>1330.0</td>\n",
              "    </tr>\n",
              "    <tr>\n",
              "      <th>56025</th>\n",
              "      <td>Zimbabwe</td>\n",
              "      <td>ZWE</td>\n",
              "      <td>14862927.0</td>\n",
              "      <td>2020-10-04</td>\n",
              "      <td>7888</td>\n",
              "      <td>228.0</td>\n",
              "      <td>6359.0</td>\n",
              "      <td>1301.0</td>\n",
              "    </tr>\n",
              "  </tbody>\n",
              "</table>\n",
              "<p>56026 rows × 8 columns</p>\n",
              "</div>"
            ],
            "text/plain": [
              "      Country_Region iso3  Population  ... Deaths  Recovered  Active\n",
              "0        Afghanistan  AFG  38928341.0  ...    0.0        0.0     0.0\n",
              "1        Afghanistan  AFG  38928341.0  ...    0.0        0.0     0.0\n",
              "2        Afghanistan  AFG  38928341.0  ...    0.0        0.0     0.0\n",
              "3        Afghanistan  AFG  38928341.0  ...    0.0        0.0     0.0\n",
              "4        Afghanistan  AFG  38928341.0  ...    0.0        0.0     0.0\n",
              "...              ...  ...         ...  ...    ...        ...     ...\n",
              "56021       Zimbabwe  ZWE  14862927.0  ...  228.0     6303.0  1307.0\n",
              "56022       Zimbabwe  ZWE  14862927.0  ...  228.0     6312.0  1310.0\n",
              "56023       Zimbabwe  ZWE  14862927.0  ...  228.0     6322.0  1308.0\n",
              "56024       Zimbabwe  ZWE  14862927.0  ...  228.0     6327.0  1330.0\n",
              "56025       Zimbabwe  ZWE  14862927.0  ...  228.0     6359.0  1301.0\n",
              "\n",
              "[56026 rows x 8 columns]"
            ]
          },
          "metadata": {
            "tags": []
          },
          "execution_count": 38
        }
      ]
    },
    {
      "cell_type": "code",
      "metadata": {
        "id": "xS5LjLIep5SY",
        "outputId": "cc52e86b-5f68-4fe7-c223-162d110001a5",
        "colab": {
          "base_uri": "https://localhost:8080/",
          "height": 272
        }
      },
      "source": [
        "full_grouped_ccode.info(verbose = True)"
      ],
      "execution_count": null,
      "outputs": [
        {
          "output_type": "stream",
          "text": [
            "<class 'pandas.core.frame.DataFrame'>\n",
            "Int64Index: 56026 entries, 0 to 56025\n",
            "Data columns (total 8 columns):\n",
            " #   Column          Non-Null Count  Dtype         \n",
            "---  ------          --------------  -----         \n",
            " 0   Country_Region  56026 non-null  object        \n",
            " 1   iso3            56026 non-null  object        \n",
            " 2   Population      56026 non-null  float64       \n",
            " 3   Date            56026 non-null  datetime64[ns]\n",
            " 4   Confirmed       56026 non-null  int64         \n",
            " 5   Deaths          56026 non-null  float64       \n",
            " 6   Recovered       56026 non-null  float64       \n",
            " 7   Active          56026 non-null  float64       \n",
            "dtypes: datetime64[ns](1), float64(4), int64(1), object(2)\n",
            "memory usage: 3.8+ MB\n"
          ],
          "name": "stdout"
        }
      ]
    },
    {
      "cell_type": "code",
      "metadata": {
        "id": "sCZAVRjop5Sb"
      },
      "source": [
        "full_grouped_ccode.rename(columns = {'iso3' : 'CountryCode'}, inplace = True)\n"
      ],
      "execution_count": null,
      "outputs": []
    },
    {
      "cell_type": "code",
      "metadata": {
        "id": "g2Rv4Xg2p5Sd",
        "outputId": "44bb7407-9022-4f4f-8f3f-248d452ef907",
        "colab": {
          "base_uri": "https://localhost:8080/",
          "height": 272
        }
      },
      "source": [
        "full_grouped_ccode.info(verbose = True)"
      ],
      "execution_count": null,
      "outputs": [
        {
          "output_type": "stream",
          "text": [
            "<class 'pandas.core.frame.DataFrame'>\n",
            "Int64Index: 56026 entries, 0 to 56025\n",
            "Data columns (total 8 columns):\n",
            " #   Column          Non-Null Count  Dtype         \n",
            "---  ------          --------------  -----         \n",
            " 0   Country_Region  56026 non-null  object        \n",
            " 1   CountryCode     56026 non-null  object        \n",
            " 2   Population      56026 non-null  float64       \n",
            " 3   Date            56026 non-null  datetime64[ns]\n",
            " 4   Confirmed       56026 non-null  int64         \n",
            " 5   Deaths          56026 non-null  float64       \n",
            " 6   Recovered       56026 non-null  float64       \n",
            " 7   Active          56026 non-null  float64       \n",
            "dtypes: datetime64[ns](1), float64(4), int64(1), object(2)\n",
            "memory usage: 3.8+ MB\n"
          ],
          "name": "stdout"
        }
      ]
    },
    {
      "cell_type": "markdown",
      "metadata": {
        "id": "1ADIMImLp5Sf"
      },
      "source": [
        "# 2. Oxford Stringency index data collection, cleaning and merging"
      ]
    },
    {
      "cell_type": "code",
      "metadata": {
        "id": "yOmnWSkTp5Sf",
        "outputId": "7f82f493-b06f-47da-9514-f8310ad2a9f6",
        "colab": {
          "base_uri": "https://localhost:8080/",
          "height": 272
        }
      },
      "source": [
        "my_string_columns = [\"Date\", \"CountryCode\", \"CountryName\", \"StringencyIndex\", \"RegionName\", \"RegionCode\"] # exclude for now the \"CountryName\" variable\n",
        "str_url = \"https://raw.githubusercontent.com/OxCGRT/covid-policy-tracker/master/data/OxCGRT_latest.csv\"\n",
        "stringency_raw_dataset = pd.read_csv(str_url, usecols = my_string_columns)\n",
        "stringency_raw_dataset.info(verbose = True)"
      ],
      "execution_count": null,
      "outputs": [
        {
          "output_type": "stream",
          "text": [
            "<class 'pandas.core.frame.DataFrame'>\n",
            "RangeIndex: 67518 entries, 0 to 67517\n",
            "Data columns (total 6 columns):\n",
            " #   Column           Non-Null Count  Dtype  \n",
            "---  ------           --------------  -----  \n",
            " 0   CountryName      67518 non-null  object \n",
            " 1   CountryCode      67518 non-null  object \n",
            " 2   RegionName       15624 non-null  object \n",
            " 3   RegionCode       15624 non-null  object \n",
            " 4   Date             67518 non-null  int64  \n",
            " 5   StringencyIndex  65076 non-null  float64\n",
            "dtypes: float64(1), int64(1), object(4)\n",
            "memory usage: 3.1+ MB\n"
          ],
          "name": "stdout"
        },
        {
          "output_type": "stream",
          "text": [
            "/usr/local/lib/python3.6/dist-packages/IPython/core/interactiveshell.py:2718: DtypeWarning: Columns (2,3) have mixed types.Specify dtype option on import or set low_memory=False.\n",
            "  interactivity=interactivity, compiler=compiler, result=result)\n"
          ],
          "name": "stderr"
        }
      ]
    },
    {
      "cell_type": "markdown",
      "metadata": {
        "id": "ubalw-rqp5Sg"
      },
      "source": [
        "### **Selecting national data only ( exclude regional data) read documentation in this link why -> \"https://github.com/OxCGRT/covid-policy-tracker\"**"
      ]
    },
    {
      "cell_type": "code",
      "metadata": {
        "id": "YLNub_hsp5Sh"
      },
      "source": [
        "stringe_natio_dataset = stringency_raw_dataset[pd.isnull(stringency_raw_dataset['RegionCode'])]"
      ],
      "execution_count": null,
      "outputs": []
    },
    {
      "cell_type": "code",
      "metadata": {
        "id": "ovGShHJVp5Sj",
        "outputId": "ffce1dcf-cec3-4528-a0d7-74a1f7a96067",
        "colab": {
          "base_uri": "https://localhost:8080/",
          "height": 34
        }
      },
      "source": [
        "stringe_natio_dataset['CountryCode'].unique().size"
      ],
      "execution_count": null,
      "outputs": [
        {
          "output_type": "execute_result",
          "data": {
            "text/plain": [
              "186"
            ]
          },
          "metadata": {
            "tags": []
          },
          "execution_count": 44
        }
      ]
    },
    {
      "cell_type": "code",
      "metadata": {
        "id": "egxYenh1p5Sl"
      },
      "source": [
        "# remove columns with Regional information\n",
        "stringe_natio_dataset = stringe_natio_dataset[my_string_columns[:4]]"
      ],
      "execution_count": null,
      "outputs": []
    },
    {
      "cell_type": "code",
      "metadata": {
        "id": "9NZD_KmVp5Sm",
        "outputId": "e726cc22-1a52-48ce-d51c-643bc8992ed9",
        "colab": {
          "base_uri": "https://localhost:8080/",
          "height": 419
        }
      },
      "source": [
        "stringe_natio_dataset"
      ],
      "execution_count": null,
      "outputs": [
        {
          "output_type": "execute_result",
          "data": {
            "text/html": [
              "<div>\n",
              "<style scoped>\n",
              "    .dataframe tbody tr th:only-of-type {\n",
              "        vertical-align: middle;\n",
              "    }\n",
              "\n",
              "    .dataframe tbody tr th {\n",
              "        vertical-align: top;\n",
              "    }\n",
              "\n",
              "    .dataframe thead th {\n",
              "        text-align: right;\n",
              "    }\n",
              "</style>\n",
              "<table border=\"1\" class=\"dataframe\">\n",
              "  <thead>\n",
              "    <tr style=\"text-align: right;\">\n",
              "      <th></th>\n",
              "      <th>Date</th>\n",
              "      <th>CountryCode</th>\n",
              "      <th>CountryName</th>\n",
              "      <th>StringencyIndex</th>\n",
              "    </tr>\n",
              "  </thead>\n",
              "  <tbody>\n",
              "    <tr>\n",
              "      <th>0</th>\n",
              "      <td>20200101</td>\n",
              "      <td>ABW</td>\n",
              "      <td>Aruba</td>\n",
              "      <td>0.0</td>\n",
              "    </tr>\n",
              "    <tr>\n",
              "      <th>1</th>\n",
              "      <td>20200102</td>\n",
              "      <td>ABW</td>\n",
              "      <td>Aruba</td>\n",
              "      <td>0.0</td>\n",
              "    </tr>\n",
              "    <tr>\n",
              "      <th>2</th>\n",
              "      <td>20200103</td>\n",
              "      <td>ABW</td>\n",
              "      <td>Aruba</td>\n",
              "      <td>0.0</td>\n",
              "    </tr>\n",
              "    <tr>\n",
              "      <th>3</th>\n",
              "      <td>20200104</td>\n",
              "      <td>ABW</td>\n",
              "      <td>Aruba</td>\n",
              "      <td>0.0</td>\n",
              "    </tr>\n",
              "    <tr>\n",
              "      <th>4</th>\n",
              "      <td>20200105</td>\n",
              "      <td>ABW</td>\n",
              "      <td>Aruba</td>\n",
              "      <td>0.0</td>\n",
              "    </tr>\n",
              "    <tr>\n",
              "      <th>...</th>\n",
              "      <td>...</td>\n",
              "      <td>...</td>\n",
              "      <td>...</td>\n",
              "      <td>...</td>\n",
              "    </tr>\n",
              "    <tr>\n",
              "      <th>67513</th>\n",
              "      <td>20201001</td>\n",
              "      <td>ZWE</td>\n",
              "      <td>Zimbabwe</td>\n",
              "      <td>NaN</td>\n",
              "    </tr>\n",
              "    <tr>\n",
              "      <th>67514</th>\n",
              "      <td>20201002</td>\n",
              "      <td>ZWE</td>\n",
              "      <td>Zimbabwe</td>\n",
              "      <td>NaN</td>\n",
              "    </tr>\n",
              "    <tr>\n",
              "      <th>67515</th>\n",
              "      <td>20201003</td>\n",
              "      <td>ZWE</td>\n",
              "      <td>Zimbabwe</td>\n",
              "      <td>NaN</td>\n",
              "    </tr>\n",
              "    <tr>\n",
              "      <th>67516</th>\n",
              "      <td>20201004</td>\n",
              "      <td>ZWE</td>\n",
              "      <td>Zimbabwe</td>\n",
              "      <td>NaN</td>\n",
              "    </tr>\n",
              "    <tr>\n",
              "      <th>67517</th>\n",
              "      <td>20201005</td>\n",
              "      <td>ZWE</td>\n",
              "      <td>Zimbabwe</td>\n",
              "      <td>NaN</td>\n",
              "    </tr>\n",
              "  </tbody>\n",
              "</table>\n",
              "<p>51894 rows × 4 columns</p>\n",
              "</div>"
            ],
            "text/plain": [
              "           Date CountryCode CountryName  StringencyIndex\n",
              "0      20200101         ABW       Aruba              0.0\n",
              "1      20200102         ABW       Aruba              0.0\n",
              "2      20200103         ABW       Aruba              0.0\n",
              "3      20200104         ABW       Aruba              0.0\n",
              "4      20200105         ABW       Aruba              0.0\n",
              "...         ...         ...         ...              ...\n",
              "67513  20201001         ZWE    Zimbabwe              NaN\n",
              "67514  20201002         ZWE    Zimbabwe              NaN\n",
              "67515  20201003         ZWE    Zimbabwe              NaN\n",
              "67516  20201004         ZWE    Zimbabwe              NaN\n",
              "67517  20201005         ZWE    Zimbabwe              NaN\n",
              "\n",
              "[51894 rows x 4 columns]"
            ]
          },
          "metadata": {
            "tags": []
          },
          "execution_count": 46
        }
      ]
    },
    {
      "cell_type": "code",
      "metadata": {
        "id": "xFbmKuf_p5So",
        "outputId": "0f47efdc-4860-4022-d7b4-34f15b3abca6",
        "colab": {
          "base_uri": "https://localhost:8080/",
          "height": 34
        }
      },
      "source": [
        "# It looks like the country codes are not the same number in covid df as compared with stringe df  \n",
        "stringe_natio_dataset['CountryCode'].unique().size"
      ],
      "execution_count": null,
      "outputs": [
        {
          "output_type": "execute_result",
          "data": {
            "text/plain": [
              "186"
            ]
          },
          "metadata": {
            "tags": []
          },
          "execution_count": 47
        }
      ]
    },
    {
      "cell_type": "code",
      "metadata": {
        "id": "zF3Rul4bp5Sq",
        "outputId": "297bafbb-24e8-494e-9c5a-6ebd85f624f9",
        "colab": {
          "base_uri": "https://localhost:8080/",
          "height": 34
        }
      },
      "source": [
        "full_grouped_ccode['CountryCode'].unique().size"
      ],
      "execution_count": null,
      "outputs": [
        {
          "output_type": "execute_result",
          "data": {
            "text/plain": [
              "218"
            ]
          },
          "metadata": {
            "tags": []
          },
          "execution_count": 48
        }
      ]
    },
    {
      "cell_type": "markdown",
      "metadata": {
        "id": "K4EL7iZfp5Ss"
      },
      "source": [
        "#### **The list below shows the Countries/region/dependencies which have not information regarding stringency index**"
      ]
    },
    {
      "cell_type": "code",
      "metadata": {
        "id": "DOqYxex5p5Ss",
        "outputId": "980c3c92-3472-40ed-b15f-f8913513c6b9",
        "colab": {
          "base_uri": "https://localhost:8080/",
          "height": 1000
        }
      },
      "source": [
        "# finding What is not present in the stringency dataset\n",
        "full_grouped_ccode[~full_grouped_ccode['CountryCode'].isin(stringe_natio_dataset['CountryCode'])][['CountryCode', 'Country_Region']].drop_duplicates()"
      ],
      "execution_count": null,
      "outputs": [
        {
          "output_type": "execute_result",
          "data": {
            "text/html": [
              "<div>\n",
              "<style scoped>\n",
              "    .dataframe tbody tr th:only-of-type {\n",
              "        vertical-align: middle;\n",
              "    }\n",
              "\n",
              "    .dataframe tbody tr th {\n",
              "        vertical-align: top;\n",
              "    }\n",
              "\n",
              "    .dataframe thead th {\n",
              "        text-align: right;\n",
              "    }\n",
              "</style>\n",
              "<table border=\"1\" class=\"dataframe\">\n",
              "  <thead>\n",
              "    <tr style=\"text-align: right;\">\n",
              "      <th></th>\n",
              "      <th>CountryCode</th>\n",
              "      <th>Country_Region</th>\n",
              "    </tr>\n",
              "  </thead>\n",
              "  <tbody>\n",
              "    <tr>\n",
              "      <th>1285</th>\n",
              "      <td>ATG</td>\n",
              "      <td>Antigua and Barbuda</td>\n",
              "    </tr>\n",
              "    <tr>\n",
              "      <th>1799</th>\n",
              "      <td>ARM</td>\n",
              "      <td>Armenia</td>\n",
              "    </tr>\n",
              "    <tr>\n",
              "      <th>2827</th>\n",
              "      <td>BHS</td>\n",
              "      <td>Bahamas</td>\n",
              "    </tr>\n",
              "    <tr>\n",
              "      <th>10280</th>\n",
              "      <td>COM</td>\n",
              "      <td>Comoros</td>\n",
              "    </tr>\n",
              "    <tr>\n",
              "      <th>12850</th>\n",
              "      <td>FRO</td>\n",
              "      <td>Denmark</td>\n",
              "    </tr>\n",
              "    <tr>\n",
              "      <th>14906</th>\n",
              "      <td>GNQ</td>\n",
              "      <td>Equatorial Guinea</td>\n",
              "    </tr>\n",
              "    <tr>\n",
              "      <th>16705</th>\n",
              "      <td>BLM</td>\n",
              "      <td>France</td>\n",
              "    </tr>\n",
              "    <tr>\n",
              "      <th>17219</th>\n",
              "      <td>GLP</td>\n",
              "      <td>France</td>\n",
              "    </tr>\n",
              "    <tr>\n",
              "      <th>17476</th>\n",
              "      <td>GUF</td>\n",
              "      <td>France</td>\n",
              "    </tr>\n",
              "    <tr>\n",
              "      <th>17733</th>\n",
              "      <td>MAF</td>\n",
              "      <td>France</td>\n",
              "    </tr>\n",
              "    <tr>\n",
              "      <th>17990</th>\n",
              "      <td>MTQ</td>\n",
              "      <td>France</td>\n",
              "    </tr>\n",
              "    <tr>\n",
              "      <th>18247</th>\n",
              "      <td>MYT</td>\n",
              "      <td>France</td>\n",
              "    </tr>\n",
              "    <tr>\n",
              "      <th>18504</th>\n",
              "      <td>NCL</td>\n",
              "      <td>France</td>\n",
              "    </tr>\n",
              "    <tr>\n",
              "      <th>18761</th>\n",
              "      <td>PYF</td>\n",
              "      <td>France</td>\n",
              "    </tr>\n",
              "    <tr>\n",
              "      <th>19018</th>\n",
              "      <td>REU</td>\n",
              "      <td>France</td>\n",
              "    </tr>\n",
              "    <tr>\n",
              "      <th>19275</th>\n",
              "      <td>SPM</td>\n",
              "      <td>France</td>\n",
              "    </tr>\n",
              "    <tr>\n",
              "      <th>21074</th>\n",
              "      <td>GRD</td>\n",
              "      <td>Grenada</td>\n",
              "    </tr>\n",
              "    <tr>\n",
              "      <th>21845</th>\n",
              "      <td>GNB</td>\n",
              "      <td>Guinea-Bissau</td>\n",
              "    </tr>\n",
              "    <tr>\n",
              "      <th>22616</th>\n",
              "      <td>VAT</td>\n",
              "      <td>Holy See</td>\n",
              "    </tr>\n",
              "    <tr>\n",
              "      <th>26985</th>\n",
              "      <td>XKS</td>\n",
              "      <td>Kosovo</td>\n",
              "    </tr>\n",
              "    <tr>\n",
              "      <th>29298</th>\n",
              "      <td>LIE</td>\n",
              "      <td>Liechtenstein</td>\n",
              "    </tr>\n",
              "    <tr>\n",
              "      <th>30840</th>\n",
              "      <td>MDV</td>\n",
              "      <td>Maldives</td>\n",
              "    </tr>\n",
              "    <tr>\n",
              "      <th>31354</th>\n",
              "      <td>MLT</td>\n",
              "      <td>Malta</td>\n",
              "    </tr>\n",
              "    <tr>\n",
              "      <th>32639</th>\n",
              "      <td>MCO</td>\n",
              "      <td>Monaco</td>\n",
              "    </tr>\n",
              "    <tr>\n",
              "      <th>33153</th>\n",
              "      <td>MNE</td>\n",
              "      <td>Montenegro</td>\n",
              "    </tr>\n",
              "    <tr>\n",
              "      <th>34695</th>\n",
              "      <td>BES</td>\n",
              "      <td>Netherlands</td>\n",
              "    </tr>\n",
              "    <tr>\n",
              "      <th>34952</th>\n",
              "      <td>CUW</td>\n",
              "      <td>Netherlands</td>\n",
              "    </tr>\n",
              "    <tr>\n",
              "      <th>35466</th>\n",
              "      <td>SXM</td>\n",
              "      <td>Netherlands</td>\n",
              "    </tr>\n",
              "    <tr>\n",
              "      <th>36751</th>\n",
              "      <td>MKD</td>\n",
              "      <td>North Macedonia</td>\n",
              "    </tr>\n",
              "    <tr>\n",
              "      <th>40606</th>\n",
              "      <td>KNA</td>\n",
              "      <td>Saint Kitts and Nevis</td>\n",
              "    </tr>\n",
              "    <tr>\n",
              "      <th>40863</th>\n",
              "      <td>LCA</td>\n",
              "      <td>Saint Lucia</td>\n",
              "    </tr>\n",
              "    <tr>\n",
              "      <th>41120</th>\n",
              "      <td>VCT</td>\n",
              "      <td>Saint Vincent and the Grenadines</td>\n",
              "    </tr>\n",
              "    <tr>\n",
              "      <th>41634</th>\n",
              "      <td>STP</td>\n",
              "      <td>Sao Tome and Principe</td>\n",
              "    </tr>\n",
              "    <tr>\n",
              "      <th>48830</th>\n",
              "      <td>ASM</td>\n",
              "      <td>US</td>\n",
              "    </tr>\n",
              "    <tr>\n",
              "      <th>49344</th>\n",
              "      <td>MNP</td>\n",
              "      <td>US</td>\n",
              "    </tr>\n",
              "    <tr>\n",
              "      <th>52685</th>\n",
              "      <td>IMN</td>\n",
              "      <td>United Kingdom</td>\n",
              "    </tr>\n",
              "    <tr>\n",
              "      <th>54998</th>\n",
              "      <td>ESH</td>\n",
              "      <td>Western Sahara</td>\n",
              "    </tr>\n",
              "  </tbody>\n",
              "</table>\n",
              "</div>"
            ],
            "text/plain": [
              "      CountryCode                    Country_Region\n",
              "1285          ATG               Antigua and Barbuda\n",
              "1799          ARM                           Armenia\n",
              "2827          BHS                           Bahamas\n",
              "10280         COM                           Comoros\n",
              "12850         FRO                           Denmark\n",
              "14906         GNQ                 Equatorial Guinea\n",
              "16705         BLM                            France\n",
              "17219         GLP                            France\n",
              "17476         GUF                            France\n",
              "17733         MAF                            France\n",
              "17990         MTQ                            France\n",
              "18247         MYT                            France\n",
              "18504         NCL                            France\n",
              "18761         PYF                            France\n",
              "19018         REU                            France\n",
              "19275         SPM                            France\n",
              "21074         GRD                           Grenada\n",
              "21845         GNB                     Guinea-Bissau\n",
              "22616         VAT                          Holy See\n",
              "26985         XKS                            Kosovo\n",
              "29298         LIE                     Liechtenstein\n",
              "30840         MDV                          Maldives\n",
              "31354         MLT                             Malta\n",
              "32639         MCO                            Monaco\n",
              "33153         MNE                        Montenegro\n",
              "34695         BES                       Netherlands\n",
              "34952         CUW                       Netherlands\n",
              "35466         SXM                       Netherlands\n",
              "36751         MKD                   North Macedonia\n",
              "40606         KNA             Saint Kitts and Nevis\n",
              "40863         LCA                       Saint Lucia\n",
              "41120         VCT  Saint Vincent and the Grenadines\n",
              "41634         STP             Sao Tome and Principe\n",
              "48830         ASM                                US\n",
              "49344         MNP                                US\n",
              "52685         IMN                    United Kingdom\n",
              "54998         ESH                    Western Sahara"
            ]
          },
          "metadata": {
            "tags": []
          },
          "execution_count": 49
        }
      ]
    },
    {
      "cell_type": "code",
      "metadata": {
        "id": "0rSdS7SJp5S3"
      },
      "source": [
        "## you can filter this countries for joining the thos datasets\n",
        "full_grouped_ccode_filtered = full_grouped_ccode[full_grouped_ccode['CountryCode'].isin(stringe_natio_dataset['CountryCode'])]"
      ],
      "execution_count": null,
      "outputs": []
    },
    {
      "cell_type": "code",
      "metadata": {
        "id": "Z-Z9fvhDp5S6",
        "outputId": "a7bef8a5-3ccf-4e9e-f0ff-e94ac4e02749",
        "colab": {
          "base_uri": "https://localhost:8080/",
          "height": 272
        }
      },
      "source": [
        "full_grouped_ccode_filtered.info(verbose = True)"
      ],
      "execution_count": null,
      "outputs": [
        {
          "output_type": "stream",
          "text": [
            "<class 'pandas.core.frame.DataFrame'>\n",
            "Int64Index: 46517 entries, 0 to 56025\n",
            "Data columns (total 8 columns):\n",
            " #   Column          Non-Null Count  Dtype         \n",
            "---  ------          --------------  -----         \n",
            " 0   Country_Region  46517 non-null  object        \n",
            " 1   CountryCode     46517 non-null  object        \n",
            " 2   Population      46517 non-null  float64       \n",
            " 3   Date            46517 non-null  datetime64[ns]\n",
            " 4   Confirmed       46517 non-null  int64         \n",
            " 5   Deaths          46517 non-null  float64       \n",
            " 6   Recovered       46517 non-null  float64       \n",
            " 7   Active          46517 non-null  float64       \n",
            "dtypes: datetime64[ns](1), float64(4), int64(1), object(2)\n",
            "memory usage: 3.2+ MB\n"
          ],
          "name": "stdout"
        }
      ]
    },
    {
      "cell_type": "markdown",
      "metadata": {
        "id": "elyc89vwp5S7"
      },
      "source": [
        "### Fixing the date format in the stringency dataset"
      ]
    },
    {
      "cell_type": "code",
      "metadata": {
        "id": "_ztEKtK_p5S8"
      },
      "source": [
        "#stringency_raw_dataset.info(verbose = True)\n",
        "stringency_raw_dataset['Date'] = pd.to_datetime(stringency_raw_dataset['Date'], format = '%Y%m%d')"
      ],
      "execution_count": null,
      "outputs": []
    },
    {
      "cell_type": "code",
      "metadata": {
        "id": "HuwY5_Rvp5S-",
        "outputId": "8e4fafef-ddd3-418c-96ca-7d921255b94f",
        "colab": {
          "base_uri": "https://localhost:8080/",
          "height": 238
        }
      },
      "source": [
        "stringency_raw_dataset.info(verbose = True)"
      ],
      "execution_count": null,
      "outputs": [
        {
          "output_type": "stream",
          "text": [
            "<class 'pandas.core.frame.DataFrame'>\n",
            "RangeIndex: 67518 entries, 0 to 67517\n",
            "Data columns (total 6 columns):\n",
            " #   Column           Non-Null Count  Dtype         \n",
            "---  ------           --------------  -----         \n",
            " 0   CountryName      67518 non-null  object        \n",
            " 1   CountryCode      67518 non-null  object        \n",
            " 2   RegionName       15624 non-null  object        \n",
            " 3   RegionCode       15624 non-null  object        \n",
            " 4   Date             67518 non-null  datetime64[ns]\n",
            " 5   StringencyIndex  65076 non-null  float64       \n",
            "dtypes: datetime64[ns](1), float64(1), object(4)\n",
            "memory usage: 3.1+ MB\n"
          ],
          "name": "stdout"
        }
      ]
    },
    {
      "cell_type": "markdown",
      "metadata": {
        "id": "AlrhZGj5p5TB"
      },
      "source": [
        "# 3. Joining Covid cases with Stringency index data "
      ]
    },
    {
      "cell_type": "code",
      "metadata": {
        "id": "yPCLUesSp5TB",
        "outputId": "2be1909b-170d-4b60-bd42-144738129d88",
        "colab": {
          "base_uri": "https://localhost:8080/",
          "height": 419
        }
      },
      "source": [
        "stringency_raw_dataset[['Date', 'CountryCode','StringencyIndex']]"
      ],
      "execution_count": null,
      "outputs": [
        {
          "output_type": "execute_result",
          "data": {
            "text/html": [
              "<div>\n",
              "<style scoped>\n",
              "    .dataframe tbody tr th:only-of-type {\n",
              "        vertical-align: middle;\n",
              "    }\n",
              "\n",
              "    .dataframe tbody tr th {\n",
              "        vertical-align: top;\n",
              "    }\n",
              "\n",
              "    .dataframe thead th {\n",
              "        text-align: right;\n",
              "    }\n",
              "</style>\n",
              "<table border=\"1\" class=\"dataframe\">\n",
              "  <thead>\n",
              "    <tr style=\"text-align: right;\">\n",
              "      <th></th>\n",
              "      <th>Date</th>\n",
              "      <th>CountryCode</th>\n",
              "      <th>StringencyIndex</th>\n",
              "    </tr>\n",
              "  </thead>\n",
              "  <tbody>\n",
              "    <tr>\n",
              "      <th>0</th>\n",
              "      <td>2020-01-01</td>\n",
              "      <td>ABW</td>\n",
              "      <td>0.0</td>\n",
              "    </tr>\n",
              "    <tr>\n",
              "      <th>1</th>\n",
              "      <td>2020-01-02</td>\n",
              "      <td>ABW</td>\n",
              "      <td>0.0</td>\n",
              "    </tr>\n",
              "    <tr>\n",
              "      <th>2</th>\n",
              "      <td>2020-01-03</td>\n",
              "      <td>ABW</td>\n",
              "      <td>0.0</td>\n",
              "    </tr>\n",
              "    <tr>\n",
              "      <th>3</th>\n",
              "      <td>2020-01-04</td>\n",
              "      <td>ABW</td>\n",
              "      <td>0.0</td>\n",
              "    </tr>\n",
              "    <tr>\n",
              "      <th>4</th>\n",
              "      <td>2020-01-05</td>\n",
              "      <td>ABW</td>\n",
              "      <td>0.0</td>\n",
              "    </tr>\n",
              "    <tr>\n",
              "      <th>...</th>\n",
              "      <td>...</td>\n",
              "      <td>...</td>\n",
              "      <td>...</td>\n",
              "    </tr>\n",
              "    <tr>\n",
              "      <th>67513</th>\n",
              "      <td>2020-10-01</td>\n",
              "      <td>ZWE</td>\n",
              "      <td>NaN</td>\n",
              "    </tr>\n",
              "    <tr>\n",
              "      <th>67514</th>\n",
              "      <td>2020-10-02</td>\n",
              "      <td>ZWE</td>\n",
              "      <td>NaN</td>\n",
              "    </tr>\n",
              "    <tr>\n",
              "      <th>67515</th>\n",
              "      <td>2020-10-03</td>\n",
              "      <td>ZWE</td>\n",
              "      <td>NaN</td>\n",
              "    </tr>\n",
              "    <tr>\n",
              "      <th>67516</th>\n",
              "      <td>2020-10-04</td>\n",
              "      <td>ZWE</td>\n",
              "      <td>NaN</td>\n",
              "    </tr>\n",
              "    <tr>\n",
              "      <th>67517</th>\n",
              "      <td>2020-10-05</td>\n",
              "      <td>ZWE</td>\n",
              "      <td>NaN</td>\n",
              "    </tr>\n",
              "  </tbody>\n",
              "</table>\n",
              "<p>67518 rows × 3 columns</p>\n",
              "</div>"
            ],
            "text/plain": [
              "            Date CountryCode  StringencyIndex\n",
              "0     2020-01-01         ABW              0.0\n",
              "1     2020-01-02         ABW              0.0\n",
              "2     2020-01-03         ABW              0.0\n",
              "3     2020-01-04         ABW              0.0\n",
              "4     2020-01-05         ABW              0.0\n",
              "...          ...         ...              ...\n",
              "67513 2020-10-01         ZWE              NaN\n",
              "67514 2020-10-02         ZWE              NaN\n",
              "67515 2020-10-03         ZWE              NaN\n",
              "67516 2020-10-04         ZWE              NaN\n",
              "67517 2020-10-05         ZWE              NaN\n",
              "\n",
              "[67518 rows x 3 columns]"
            ]
          },
          "metadata": {
            "tags": []
          },
          "execution_count": 54
        }
      ]
    },
    {
      "cell_type": "code",
      "metadata": {
        "id": "86jzGHT5p5TD",
        "outputId": "8d2c97ab-71d9-4e1a-f383-c9f166d8e709",
        "colab": {
          "base_uri": "https://localhost:8080/",
          "height": 419
        }
      },
      "source": [
        "full_grouped_ccode_filtered"
      ],
      "execution_count": null,
      "outputs": [
        {
          "output_type": "execute_result",
          "data": {
            "text/html": [
              "<div>\n",
              "<style scoped>\n",
              "    .dataframe tbody tr th:only-of-type {\n",
              "        vertical-align: middle;\n",
              "    }\n",
              "\n",
              "    .dataframe tbody tr th {\n",
              "        vertical-align: top;\n",
              "    }\n",
              "\n",
              "    .dataframe thead th {\n",
              "        text-align: right;\n",
              "    }\n",
              "</style>\n",
              "<table border=\"1\" class=\"dataframe\">\n",
              "  <thead>\n",
              "    <tr style=\"text-align: right;\">\n",
              "      <th></th>\n",
              "      <th>Country_Region</th>\n",
              "      <th>CountryCode</th>\n",
              "      <th>Population</th>\n",
              "      <th>Date</th>\n",
              "      <th>Confirmed</th>\n",
              "      <th>Deaths</th>\n",
              "      <th>Recovered</th>\n",
              "      <th>Active</th>\n",
              "    </tr>\n",
              "  </thead>\n",
              "  <tbody>\n",
              "    <tr>\n",
              "      <th>0</th>\n",
              "      <td>Afghanistan</td>\n",
              "      <td>AFG</td>\n",
              "      <td>38928341.0</td>\n",
              "      <td>2020-01-22</td>\n",
              "      <td>0</td>\n",
              "      <td>0.0</td>\n",
              "      <td>0.0</td>\n",
              "      <td>0.0</td>\n",
              "    </tr>\n",
              "    <tr>\n",
              "      <th>1</th>\n",
              "      <td>Afghanistan</td>\n",
              "      <td>AFG</td>\n",
              "      <td>38928341.0</td>\n",
              "      <td>2020-01-23</td>\n",
              "      <td>0</td>\n",
              "      <td>0.0</td>\n",
              "      <td>0.0</td>\n",
              "      <td>0.0</td>\n",
              "    </tr>\n",
              "    <tr>\n",
              "      <th>2</th>\n",
              "      <td>Afghanistan</td>\n",
              "      <td>AFG</td>\n",
              "      <td>38928341.0</td>\n",
              "      <td>2020-01-24</td>\n",
              "      <td>0</td>\n",
              "      <td>0.0</td>\n",
              "      <td>0.0</td>\n",
              "      <td>0.0</td>\n",
              "    </tr>\n",
              "    <tr>\n",
              "      <th>3</th>\n",
              "      <td>Afghanistan</td>\n",
              "      <td>AFG</td>\n",
              "      <td>38928341.0</td>\n",
              "      <td>2020-01-25</td>\n",
              "      <td>0</td>\n",
              "      <td>0.0</td>\n",
              "      <td>0.0</td>\n",
              "      <td>0.0</td>\n",
              "    </tr>\n",
              "    <tr>\n",
              "      <th>4</th>\n",
              "      <td>Afghanistan</td>\n",
              "      <td>AFG</td>\n",
              "      <td>38928341.0</td>\n",
              "      <td>2020-01-26</td>\n",
              "      <td>0</td>\n",
              "      <td>0.0</td>\n",
              "      <td>0.0</td>\n",
              "      <td>0.0</td>\n",
              "    </tr>\n",
              "    <tr>\n",
              "      <th>...</th>\n",
              "      <td>...</td>\n",
              "      <td>...</td>\n",
              "      <td>...</td>\n",
              "      <td>...</td>\n",
              "      <td>...</td>\n",
              "      <td>...</td>\n",
              "      <td>...</td>\n",
              "      <td>...</td>\n",
              "    </tr>\n",
              "    <tr>\n",
              "      <th>56021</th>\n",
              "      <td>Zimbabwe</td>\n",
              "      <td>ZWE</td>\n",
              "      <td>14862927.0</td>\n",
              "      <td>2020-09-30</td>\n",
              "      <td>7838</td>\n",
              "      <td>228.0</td>\n",
              "      <td>6303.0</td>\n",
              "      <td>1307.0</td>\n",
              "    </tr>\n",
              "    <tr>\n",
              "      <th>56022</th>\n",
              "      <td>Zimbabwe</td>\n",
              "      <td>ZWE</td>\n",
              "      <td>14862927.0</td>\n",
              "      <td>2020-10-01</td>\n",
              "      <td>7850</td>\n",
              "      <td>228.0</td>\n",
              "      <td>6312.0</td>\n",
              "      <td>1310.0</td>\n",
              "    </tr>\n",
              "    <tr>\n",
              "      <th>56023</th>\n",
              "      <td>Zimbabwe</td>\n",
              "      <td>ZWE</td>\n",
              "      <td>14862927.0</td>\n",
              "      <td>2020-10-02</td>\n",
              "      <td>7858</td>\n",
              "      <td>228.0</td>\n",
              "      <td>6322.0</td>\n",
              "      <td>1308.0</td>\n",
              "    </tr>\n",
              "    <tr>\n",
              "      <th>56024</th>\n",
              "      <td>Zimbabwe</td>\n",
              "      <td>ZWE</td>\n",
              "      <td>14862927.0</td>\n",
              "      <td>2020-10-03</td>\n",
              "      <td>7885</td>\n",
              "      <td>228.0</td>\n",
              "      <td>6327.0</td>\n",
              "      <td>1330.0</td>\n",
              "    </tr>\n",
              "    <tr>\n",
              "      <th>56025</th>\n",
              "      <td>Zimbabwe</td>\n",
              "      <td>ZWE</td>\n",
              "      <td>14862927.0</td>\n",
              "      <td>2020-10-04</td>\n",
              "      <td>7888</td>\n",
              "      <td>228.0</td>\n",
              "      <td>6359.0</td>\n",
              "      <td>1301.0</td>\n",
              "    </tr>\n",
              "  </tbody>\n",
              "</table>\n",
              "<p>46517 rows × 8 columns</p>\n",
              "</div>"
            ],
            "text/plain": [
              "      Country_Region CountryCode  Population  ... Deaths  Recovered  Active\n",
              "0        Afghanistan         AFG  38928341.0  ...    0.0        0.0     0.0\n",
              "1        Afghanistan         AFG  38928341.0  ...    0.0        0.0     0.0\n",
              "2        Afghanistan         AFG  38928341.0  ...    0.0        0.0     0.0\n",
              "3        Afghanistan         AFG  38928341.0  ...    0.0        0.0     0.0\n",
              "4        Afghanistan         AFG  38928341.0  ...    0.0        0.0     0.0\n",
              "...              ...         ...         ...  ...    ...        ...     ...\n",
              "56021       Zimbabwe         ZWE  14862927.0  ...  228.0     6303.0  1307.0\n",
              "56022       Zimbabwe         ZWE  14862927.0  ...  228.0     6312.0  1310.0\n",
              "56023       Zimbabwe         ZWE  14862927.0  ...  228.0     6322.0  1308.0\n",
              "56024       Zimbabwe         ZWE  14862927.0  ...  228.0     6327.0  1330.0\n",
              "56025       Zimbabwe         ZWE  14862927.0  ...  228.0     6359.0  1301.0\n",
              "\n",
              "[46517 rows x 8 columns]"
            ]
          },
          "metadata": {
            "tags": []
          },
          "execution_count": 55
        }
      ]
    },
    {
      "cell_type": "code",
      "metadata": {
        "id": "lwrWcwsMp5TG"
      },
      "source": [
        "my_complete_df = pd.merge(stringency_raw_dataset[['Date', 'CountryCode','StringencyIndex']], \n",
        "                          full_grouped_ccode_filtered)"
      ],
      "execution_count": null,
      "outputs": []
    },
    {
      "cell_type": "code",
      "metadata": {
        "id": "S_q2G7nHp5TH",
        "outputId": "3be4e13a-d4f7-4c3d-8931-54255b47fa1c",
        "colab": {
          "base_uri": "https://localhost:8080/",
          "height": 419
        }
      },
      "source": [
        "my_complete_df"
      ],
      "execution_count": null,
      "outputs": [
        {
          "output_type": "execute_result",
          "data": {
            "text/html": [
              "<div>\n",
              "<style scoped>\n",
              "    .dataframe tbody tr th:only-of-type {\n",
              "        vertical-align: middle;\n",
              "    }\n",
              "\n",
              "    .dataframe tbody tr th {\n",
              "        vertical-align: top;\n",
              "    }\n",
              "\n",
              "    .dataframe thead th {\n",
              "        text-align: right;\n",
              "    }\n",
              "</style>\n",
              "<table border=\"1\" class=\"dataframe\">\n",
              "  <thead>\n",
              "    <tr style=\"text-align: right;\">\n",
              "      <th></th>\n",
              "      <th>Date</th>\n",
              "      <th>CountryCode</th>\n",
              "      <th>StringencyIndex</th>\n",
              "      <th>Country_Region</th>\n",
              "      <th>Population</th>\n",
              "      <th>Confirmed</th>\n",
              "      <th>Deaths</th>\n",
              "      <th>Recovered</th>\n",
              "      <th>Active</th>\n",
              "    </tr>\n",
              "  </thead>\n",
              "  <tbody>\n",
              "    <tr>\n",
              "      <th>0</th>\n",
              "      <td>2020-01-22</td>\n",
              "      <td>ABW</td>\n",
              "      <td>0.0</td>\n",
              "      <td>Netherlands</td>\n",
              "      <td>106766.0</td>\n",
              "      <td>0</td>\n",
              "      <td>0.0</td>\n",
              "      <td>0.0</td>\n",
              "      <td>0.0</td>\n",
              "    </tr>\n",
              "    <tr>\n",
              "      <th>1</th>\n",
              "      <td>2020-01-23</td>\n",
              "      <td>ABW</td>\n",
              "      <td>0.0</td>\n",
              "      <td>Netherlands</td>\n",
              "      <td>106766.0</td>\n",
              "      <td>0</td>\n",
              "      <td>0.0</td>\n",
              "      <td>0.0</td>\n",
              "      <td>0.0</td>\n",
              "    </tr>\n",
              "    <tr>\n",
              "      <th>2</th>\n",
              "      <td>2020-01-24</td>\n",
              "      <td>ABW</td>\n",
              "      <td>0.0</td>\n",
              "      <td>Netherlands</td>\n",
              "      <td>106766.0</td>\n",
              "      <td>0</td>\n",
              "      <td>0.0</td>\n",
              "      <td>0.0</td>\n",
              "      <td>0.0</td>\n",
              "    </tr>\n",
              "    <tr>\n",
              "      <th>3</th>\n",
              "      <td>2020-01-25</td>\n",
              "      <td>ABW</td>\n",
              "      <td>0.0</td>\n",
              "      <td>Netherlands</td>\n",
              "      <td>106766.0</td>\n",
              "      <td>0</td>\n",
              "      <td>0.0</td>\n",
              "      <td>0.0</td>\n",
              "      <td>0.0</td>\n",
              "    </tr>\n",
              "    <tr>\n",
              "      <th>4</th>\n",
              "      <td>2020-01-26</td>\n",
              "      <td>ABW</td>\n",
              "      <td>0.0</td>\n",
              "      <td>Netherlands</td>\n",
              "      <td>106766.0</td>\n",
              "      <td>0</td>\n",
              "      <td>0.0</td>\n",
              "      <td>0.0</td>\n",
              "      <td>0.0</td>\n",
              "    </tr>\n",
              "    <tr>\n",
              "      <th>...</th>\n",
              "      <td>...</td>\n",
              "      <td>...</td>\n",
              "      <td>...</td>\n",
              "      <td>...</td>\n",
              "      <td>...</td>\n",
              "      <td>...</td>\n",
              "      <td>...</td>\n",
              "      <td>...</td>\n",
              "      <td>...</td>\n",
              "    </tr>\n",
              "    <tr>\n",
              "      <th>60904</th>\n",
              "      <td>2020-09-30</td>\n",
              "      <td>ZWE</td>\n",
              "      <td>NaN</td>\n",
              "      <td>Zimbabwe</td>\n",
              "      <td>14862927.0</td>\n",
              "      <td>7838</td>\n",
              "      <td>228.0</td>\n",
              "      <td>6303.0</td>\n",
              "      <td>1307.0</td>\n",
              "    </tr>\n",
              "    <tr>\n",
              "      <th>60905</th>\n",
              "      <td>2020-10-01</td>\n",
              "      <td>ZWE</td>\n",
              "      <td>NaN</td>\n",
              "      <td>Zimbabwe</td>\n",
              "      <td>14862927.0</td>\n",
              "      <td>7850</td>\n",
              "      <td>228.0</td>\n",
              "      <td>6312.0</td>\n",
              "      <td>1310.0</td>\n",
              "    </tr>\n",
              "    <tr>\n",
              "      <th>60906</th>\n",
              "      <td>2020-10-02</td>\n",
              "      <td>ZWE</td>\n",
              "      <td>NaN</td>\n",
              "      <td>Zimbabwe</td>\n",
              "      <td>14862927.0</td>\n",
              "      <td>7858</td>\n",
              "      <td>228.0</td>\n",
              "      <td>6322.0</td>\n",
              "      <td>1308.0</td>\n",
              "    </tr>\n",
              "    <tr>\n",
              "      <th>60907</th>\n",
              "      <td>2020-10-03</td>\n",
              "      <td>ZWE</td>\n",
              "      <td>NaN</td>\n",
              "      <td>Zimbabwe</td>\n",
              "      <td>14862927.0</td>\n",
              "      <td>7885</td>\n",
              "      <td>228.0</td>\n",
              "      <td>6327.0</td>\n",
              "      <td>1330.0</td>\n",
              "    </tr>\n",
              "    <tr>\n",
              "      <th>60908</th>\n",
              "      <td>2020-10-04</td>\n",
              "      <td>ZWE</td>\n",
              "      <td>NaN</td>\n",
              "      <td>Zimbabwe</td>\n",
              "      <td>14862927.0</td>\n",
              "      <td>7888</td>\n",
              "      <td>228.0</td>\n",
              "      <td>6359.0</td>\n",
              "      <td>1301.0</td>\n",
              "    </tr>\n",
              "  </tbody>\n",
              "</table>\n",
              "<p>60909 rows × 9 columns</p>\n",
              "</div>"
            ],
            "text/plain": [
              "            Date CountryCode  StringencyIndex  ... Deaths  Recovered  Active\n",
              "0     2020-01-22         ABW              0.0  ...    0.0        0.0     0.0\n",
              "1     2020-01-23         ABW              0.0  ...    0.0        0.0     0.0\n",
              "2     2020-01-24         ABW              0.0  ...    0.0        0.0     0.0\n",
              "3     2020-01-25         ABW              0.0  ...    0.0        0.0     0.0\n",
              "4     2020-01-26         ABW              0.0  ...    0.0        0.0     0.0\n",
              "...          ...         ...              ...  ...    ...        ...     ...\n",
              "60904 2020-09-30         ZWE              NaN  ...  228.0     6303.0  1307.0\n",
              "60905 2020-10-01         ZWE              NaN  ...  228.0     6312.0  1310.0\n",
              "60906 2020-10-02         ZWE              NaN  ...  228.0     6322.0  1308.0\n",
              "60907 2020-10-03         ZWE              NaN  ...  228.0     6327.0  1330.0\n",
              "60908 2020-10-04         ZWE              NaN  ...  228.0     6359.0  1301.0\n",
              "\n",
              "[60909 rows x 9 columns]"
            ]
          },
          "metadata": {
            "tags": []
          },
          "execution_count": 57
        }
      ]
    },
    {
      "cell_type": "code",
      "metadata": {
        "id": "Pai7cHg7p5TJ",
        "outputId": "5dac5f0c-4ca9-4e52-9a60-95a737987d8b",
        "colab": {
          "base_uri": "https://localhost:8080/",
          "height": 295
        }
      },
      "source": [
        "my_complete_df.info(verbose = True)"
      ],
      "execution_count": null,
      "outputs": [
        {
          "output_type": "stream",
          "text": [
            "<class 'pandas.core.frame.DataFrame'>\n",
            "Int64Index: 59472 entries, 0 to 59471\n",
            "Data columns (total 9 columns):\n",
            " #   Column           Non-Null Count  Dtype         \n",
            "---  ------           --------------  -----         \n",
            " 0   Date             59472 non-null  datetime64[ns]\n",
            " 1   CountryCode      59472 non-null  object        \n",
            " 2   StringencyIndex  57395 non-null  float64       \n",
            " 3   Country_Region   59472 non-null  object        \n",
            " 4   Population       59472 non-null  float64       \n",
            " 5   Confirmed        59472 non-null  int64         \n",
            " 6   Deaths           59472 non-null  float64       \n",
            " 7   Recovered        59472 non-null  float64       \n",
            " 8   Active           59472 non-null  float64       \n",
            "dtypes: datetime64[ns](1), float64(5), int64(1), object(2)\n",
            "memory usage: 4.5+ MB\n"
          ],
          "name": "stdout"
        }
      ]
    },
    {
      "cell_type": "code",
      "metadata": {
        "id": "gpWNCGu_p5TL"
      },
      "source": [
        "my_complete_df = my_complete_df.set_index('Date')"
      ],
      "execution_count": null,
      "outputs": []
    },
    {
      "cell_type": "code",
      "metadata": {
        "id": "l9iUoAZbp5TN",
        "outputId": "4008e5e6-a1d8-4be4-f7e8-6be102406357",
        "colab": {
          "base_uri": "https://localhost:8080/",
          "height": 455
        }
      },
      "source": [
        "my_complete_df[my_complete_df['CountryCode'] == \"COL\"]"
      ],
      "execution_count": null,
      "outputs": [
        {
          "output_type": "execute_result",
          "data": {
            "text/html": [
              "<div>\n",
              "<style scoped>\n",
              "    .dataframe tbody tr th:only-of-type {\n",
              "        vertical-align: middle;\n",
              "    }\n",
              "\n",
              "    .dataframe tbody tr th {\n",
              "        vertical-align: top;\n",
              "    }\n",
              "\n",
              "    .dataframe thead th {\n",
              "        text-align: right;\n",
              "    }\n",
              "</style>\n",
              "<table border=\"1\" class=\"dataframe\">\n",
              "  <thead>\n",
              "    <tr style=\"text-align: right;\">\n",
              "      <th></th>\n",
              "      <th>CountryCode</th>\n",
              "      <th>StringencyIndex</th>\n",
              "      <th>Country_Region</th>\n",
              "      <th>Population</th>\n",
              "      <th>Confirmed</th>\n",
              "      <th>Deaths</th>\n",
              "      <th>Recovered</th>\n",
              "      <th>Active</th>\n",
              "    </tr>\n",
              "    <tr>\n",
              "      <th>Date</th>\n",
              "      <th></th>\n",
              "      <th></th>\n",
              "      <th></th>\n",
              "      <th></th>\n",
              "      <th></th>\n",
              "      <th></th>\n",
              "      <th></th>\n",
              "      <th></th>\n",
              "    </tr>\n",
              "  </thead>\n",
              "  <tbody>\n",
              "    <tr>\n",
              "      <th>2020-01-22</th>\n",
              "      <td>COL</td>\n",
              "      <td>8.33</td>\n",
              "      <td>Colombia</td>\n",
              "      <td>99141018.0</td>\n",
              "      <td>0</td>\n",
              "      <td>0.0</td>\n",
              "      <td>0.0</td>\n",
              "      <td>0.0</td>\n",
              "    </tr>\n",
              "    <tr>\n",
              "      <th>2020-01-23</th>\n",
              "      <td>COL</td>\n",
              "      <td>8.33</td>\n",
              "      <td>Colombia</td>\n",
              "      <td>99141018.0</td>\n",
              "      <td>0</td>\n",
              "      <td>0.0</td>\n",
              "      <td>0.0</td>\n",
              "      <td>0.0</td>\n",
              "    </tr>\n",
              "    <tr>\n",
              "      <th>2020-01-24</th>\n",
              "      <td>COL</td>\n",
              "      <td>8.33</td>\n",
              "      <td>Colombia</td>\n",
              "      <td>99141018.0</td>\n",
              "      <td>0</td>\n",
              "      <td>0.0</td>\n",
              "      <td>0.0</td>\n",
              "      <td>0.0</td>\n",
              "    </tr>\n",
              "    <tr>\n",
              "      <th>2020-01-25</th>\n",
              "      <td>COL</td>\n",
              "      <td>8.33</td>\n",
              "      <td>Colombia</td>\n",
              "      <td>99141018.0</td>\n",
              "      <td>0</td>\n",
              "      <td>0.0</td>\n",
              "      <td>0.0</td>\n",
              "      <td>0.0</td>\n",
              "    </tr>\n",
              "    <tr>\n",
              "      <th>2020-01-26</th>\n",
              "      <td>COL</td>\n",
              "      <td>8.33</td>\n",
              "      <td>Colombia</td>\n",
              "      <td>99141018.0</td>\n",
              "      <td>0</td>\n",
              "      <td>0.0</td>\n",
              "      <td>0.0</td>\n",
              "      <td>0.0</td>\n",
              "    </tr>\n",
              "    <tr>\n",
              "      <th>...</th>\n",
              "      <td>...</td>\n",
              "      <td>...</td>\n",
              "      <td>...</td>\n",
              "      <td>...</td>\n",
              "      <td>...</td>\n",
              "      <td>...</td>\n",
              "      <td>...</td>\n",
              "      <td>...</td>\n",
              "    </tr>\n",
              "    <tr>\n",
              "      <th>2020-09-25</th>\n",
              "      <td>COL</td>\n",
              "      <td>50.93</td>\n",
              "      <td>Colombia</td>\n",
              "      <td>99141018.0</td>\n",
              "      <td>798317</td>\n",
              "      <td>25103.0</td>\n",
              "      <td>687477.0</td>\n",
              "      <td>85737.0</td>\n",
              "    </tr>\n",
              "    <tr>\n",
              "      <th>2020-09-26</th>\n",
              "      <td>COL</td>\n",
              "      <td>50.93</td>\n",
              "      <td>Colombia</td>\n",
              "      <td>99141018.0</td>\n",
              "      <td>806038</td>\n",
              "      <td>25296.0</td>\n",
              "      <td>700112.0</td>\n",
              "      <td>80630.0</td>\n",
              "    </tr>\n",
              "    <tr>\n",
              "      <th>2020-09-27</th>\n",
              "      <td>COL</td>\n",
              "      <td>50.93</td>\n",
              "      <td>Colombia</td>\n",
              "      <td>99141018.0</td>\n",
              "      <td>813056</td>\n",
              "      <td>25488.0</td>\n",
              "      <td>711472.0</td>\n",
              "      <td>76096.0</td>\n",
              "    </tr>\n",
              "    <tr>\n",
              "      <th>2020-09-28</th>\n",
              "      <td>COL</td>\n",
              "      <td>NaN</td>\n",
              "      <td>Colombia</td>\n",
              "      <td>99141018.0</td>\n",
              "      <td>818203</td>\n",
              "      <td>25641.0</td>\n",
              "      <td>722536.0</td>\n",
              "      <td>70026.0</td>\n",
              "    </tr>\n",
              "    <tr>\n",
              "      <th>2020-09-29</th>\n",
              "      <td>COL</td>\n",
              "      <td>NaN</td>\n",
              "      <td>Colombia</td>\n",
              "      <td>99141018.0</td>\n",
              "      <td>824042</td>\n",
              "      <td>25828.0</td>\n",
              "      <td>734154.0</td>\n",
              "      <td>64060.0</td>\n",
              "    </tr>\n",
              "  </tbody>\n",
              "</table>\n",
              "<p>252 rows × 8 columns</p>\n",
              "</div>"
            ],
            "text/plain": [
              "           CountryCode  StringencyIndex  ... Recovered   Active\n",
              "Date                                     ...                   \n",
              "2020-01-22         COL             8.33  ...       0.0      0.0\n",
              "2020-01-23         COL             8.33  ...       0.0      0.0\n",
              "2020-01-24         COL             8.33  ...       0.0      0.0\n",
              "2020-01-25         COL             8.33  ...       0.0      0.0\n",
              "2020-01-26         COL             8.33  ...       0.0      0.0\n",
              "...                ...              ...  ...       ...      ...\n",
              "2020-09-25         COL            50.93  ...  687477.0  85737.0\n",
              "2020-09-26         COL            50.93  ...  700112.0  80630.0\n",
              "2020-09-27         COL            50.93  ...  711472.0  76096.0\n",
              "2020-09-28         COL              NaN  ...  722536.0  70026.0\n",
              "2020-09-29         COL              NaN  ...  734154.0  64060.0\n",
              "\n",
              "[252 rows x 8 columns]"
            ]
          },
          "metadata": {
            "tags": []
          },
          "execution_count": 132
        }
      ]
    },
    {
      "cell_type": "markdown",
      "metadata": {
        "id": "4qmgYacLp5TO"
      },
      "source": [
        "### Visualizing CHE Data"
      ]
    },
    {
      "cell_type": "code",
      "metadata": {
        "id": "lSriQ6_kp5TO",
        "outputId": "40f540de-b23b-41aa-c1c8-18105c9fed27",
        "colab": {
          "base_uri": "https://localhost:8080/",
          "height": 291
        }
      },
      "source": [
        "CHE_covid_df = my_complete_df[my_complete_df['CountryCode'] == \"COL\"]\n",
        "#CHE_covid_df = my_complete_df[my_complete_df['Country_Region'] == \"US\"]\n",
        "CHE_covid_df.plot(y='StringencyIndex',kind=\"line\",c='c')\n",
        "plt.show()"
      ],
      "execution_count": null,
      "outputs": [
        {
          "output_type": "display_data",
          "data": {
            "image/png": "[encoded data removed]",
            "text/plain": [
              "<Figure size 432x288 with 1 Axes>"
            ]
          },
          "metadata": {
            "tags": [],
            "needs_background": "light"
          }
        }
      ]
    },
    {
      "cell_type": "code",
      "metadata": {
        "id": "VNaQ-o6-p5TQ",
        "outputId": "2de4de0d-d771-4f10-c839-8898b8b2b974",
        "colab": {
          "base_uri": "https://localhost:8080/",
          "height": 291
        }
      },
      "source": [
        "CHE_covid_df.plot(y='Confirmed',kind=\"line\",c='c')\n",
        "plt.show()"
      ],
      "execution_count": null,
      "outputs": [
        {
          "output_type": "display_data",
          "data": {
            "image/png": "[encoded data removed]",
            "text/plain": [
              "<Figure size 432x288 with 1 Axes>"
            ]
          },
          "metadata": {
            "tags": [],
            "needs_background": "light"
          }
        }
      ]
    },
    {
      "cell_type": "markdown",
      "metadata": {
        "id": "_EqbhAYkp5TS"
      },
      "source": [
        "CHE_covid_df.plot(y='Recovered',kind=\"line\",c='c')\n",
        "plt.show()"
      ]
    },
    {
      "cell_type": "code",
      "metadata": {
        "id": "IXSzxTG8p5TS",
        "outputId": "729080be-2137-41f9-cdae-532a4e13d06e",
        "colab": {
          "base_uri": "https://localhost:8080/",
          "height": 292
        }
      },
      "source": [
        "CHE_covid_df.plot(y='Active',kind=\"line\",c='c')\n",
        "plt.show()"
      ],
      "execution_count": null,
      "outputs": [
        {
          "output_type": "display_data",
          "data": {
            "image/png": "[encoded data removed]",
            "text/plain": [
              "<Figure size 432x288 with 1 Axes>"
            ]
          },
          "metadata": {
            "tags": [],
            "needs_background": "light"
          }
        }
      ]
    },
    {
      "cell_type": "code",
      "metadata": {
        "id": "rJe8thywp5TU",
        "outputId": "174eac61-ce18-4edb-add2-725c4b4948dc",
        "colab": {
          "base_uri": "https://localhost:8080/",
          "height": 291
        }
      },
      "source": [
        "CHE_covid_df.plot(y='Deaths',kind=\"line\",c='c')\n",
        "plt.show()"
      ],
      "execution_count": null,
      "outputs": [
        {
          "output_type": "display_data",
          "data": {
            "image/png": "[encoded data removed]",
            "text/plain": [
              "<Figure size 432x288 with 1 Axes>"
            ]
          },
          "metadata": {
            "tags": [],
            "needs_background": "light"
          }
        }
      ]
    },
    {
      "cell_type": "code",
      "metadata": {
        "id": "V-9KXv4lp5TW"
      },
      "source": [
        "### Note: still there are duplicates of stringency index for different countries eg. USA, GBR, etc that need to be cleaned"
      ],
      "execution_count": null,
      "outputs": []
    },
    {
      "cell_type": "markdown",
      "metadata": {
        "id": "l8qDH34Xp5TX"
      },
      "source": [
        "# 4. Socieconomical data from the WorldBank\n",
        "We extract socieconomical data such is GDP and other... from the Worldbank datasets via API query request protocol.\n",
        "\n",
        "**Note**: retrieving *GDP* and *income level* doesn't seem to be so straightforward in a single call. So may be the strategy would be to make a call for each dataset and then merge then."
      ]
    },
    {
      "cell_type": "code",
      "metadata": {
        "id": "QGtrutM1p5TX",
        "outputId": "d6960c37-efdc-49ef-dead-a0e2f93dcb65",
        "colab": {
          "base_uri": "https://localhost:8080/",
          "height": 424
        }
      },
      "source": [
        "my_home_url = 'http://api.worldbank.org/v2/country/all/indicator/NY.GDP.MKTP.CD'\n",
        "my_params = {'format' : 'json',\n",
        "            'date' : '2019',\n",
        "            'incomelevel' :'',\n",
        "            'per_page' : '304'} # dic with the parameters of interest\n",
        "r = requests.get(my_home_url, params = my_params) # make the data request\n",
        "\n",
        "#print(r.url) # here you can print the actual url send it to the API\n",
        "\n",
        "#remove first value (which contain info on the request)  and transform to json then to dataframe\n",
        "GDP_raw_df = pd.json_normalize(r.json()[-1]) \n",
        "# take only relevant variables\n",
        "GDP_raw_df = GDP_raw_df[['date','countryiso3code', 'value', 'indicator.value', 'country.value']]\n",
        "GDP_raw_df"
      ],
      "execution_count": null,
      "outputs": [
        {
          "output_type": "execute_result",
          "data": {
            "text/html": [
              "<div>\n",
              "<style scoped>\n",
              "    .dataframe tbody tr th:only-of-type {\n",
              "        vertical-align: middle;\n",
              "    }\n",
              "\n",
              "    .dataframe tbody tr th {\n",
              "        vertical-align: top;\n",
              "    }\n",
              "\n",
              "    .dataframe thead th {\n",
              "        text-align: right;\n",
              "    }\n",
              "</style>\n",
              "<table border=\"1\" class=\"dataframe\">\n",
              "  <thead>\n",
              "    <tr style=\"text-align: right;\">\n",
              "      <th></th>\n",
              "      <th>date</th>\n",
              "      <th>countryiso3code</th>\n",
              "      <th>value</th>\n",
              "      <th>indicator.value</th>\n",
              "      <th>country.value</th>\n",
              "    </tr>\n",
              "  </thead>\n",
              "  <tbody>\n",
              "    <tr>\n",
              "      <th>0</th>\n",
              "      <td>2019</td>\n",
              "      <td>ARB</td>\n",
              "      <td>2.815410e+12</td>\n",
              "      <td>GDP (current US$)</td>\n",
              "      <td>Arab World</td>\n",
              "    </tr>\n",
              "    <tr>\n",
              "      <th>1</th>\n",
              "      <td>2019</td>\n",
              "      <td>CSS</td>\n",
              "      <td>7.629037e+10</td>\n",
              "      <td>GDP (current US$)</td>\n",
              "      <td>Caribbean small states</td>\n",
              "    </tr>\n",
              "    <tr>\n",
              "      <th>2</th>\n",
              "      <td>2019</td>\n",
              "      <td>CEB</td>\n",
              "      <td>1.656929e+12</td>\n",
              "      <td>GDP (current US$)</td>\n",
              "      <td>Central Europe and the Baltics</td>\n",
              "    </tr>\n",
              "    <tr>\n",
              "      <th>3</th>\n",
              "      <td>2019</td>\n",
              "      <td>EAR</td>\n",
              "      <td>1.198157e+13</td>\n",
              "      <td>GDP (current US$)</td>\n",
              "      <td>Early-demographic dividend</td>\n",
              "    </tr>\n",
              "    <tr>\n",
              "      <th>4</th>\n",
              "      <td>2019</td>\n",
              "      <td>EAS</td>\n",
              "      <td>2.697981e+13</td>\n",
              "      <td>GDP (current US$)</td>\n",
              "      <td>East Asia &amp; Pacific</td>\n",
              "    </tr>\n",
              "    <tr>\n",
              "      <th>...</th>\n",
              "      <td>...</td>\n",
              "      <td>...</td>\n",
              "      <td>...</td>\n",
              "      <td>...</td>\n",
              "      <td>...</td>\n",
              "    </tr>\n",
              "    <tr>\n",
              "      <th>259</th>\n",
              "      <td>2019</td>\n",
              "      <td>VIR</td>\n",
              "      <td>NaN</td>\n",
              "      <td>GDP (current US$)</td>\n",
              "      <td>Virgin Islands (U.S.)</td>\n",
              "    </tr>\n",
              "    <tr>\n",
              "      <th>260</th>\n",
              "      <td>2019</td>\n",
              "      <td>PSE</td>\n",
              "      <td>NaN</td>\n",
              "      <td>GDP (current US$)</td>\n",
              "      <td>West Bank and Gaza</td>\n",
              "    </tr>\n",
              "    <tr>\n",
              "      <th>261</th>\n",
              "      <td>2019</td>\n",
              "      <td>YEM</td>\n",
              "      <td>NaN</td>\n",
              "      <td>GDP (current US$)</td>\n",
              "      <td>Yemen, Rep.</td>\n",
              "    </tr>\n",
              "    <tr>\n",
              "      <th>262</th>\n",
              "      <td>2019</td>\n",
              "      <td>ZMB</td>\n",
              "      <td>2.306472e+10</td>\n",
              "      <td>GDP (current US$)</td>\n",
              "      <td>Zambia</td>\n",
              "    </tr>\n",
              "    <tr>\n",
              "      <th>263</th>\n",
              "      <td>2019</td>\n",
              "      <td>ZWE</td>\n",
              "      <td>2.144076e+10</td>\n",
              "      <td>GDP (current US$)</td>\n",
              "      <td>Zimbabwe</td>\n",
              "    </tr>\n",
              "  </tbody>\n",
              "</table>\n",
              "<p>264 rows × 5 columns</p>\n",
              "</div>"
            ],
            "text/plain": [
              "     date countryiso3code  ...    indicator.value                   country.value\n",
              "0    2019             ARB  ...  GDP (current US$)                      Arab World\n",
              "1    2019             CSS  ...  GDP (current US$)          Caribbean small states\n",
              "2    2019             CEB  ...  GDP (current US$)  Central Europe and the Baltics\n",
              "3    2019             EAR  ...  GDP (current US$)      Early-demographic dividend\n",
              "4    2019             EAS  ...  GDP (current US$)             East Asia & Pacific\n",
              "..    ...             ...  ...                ...                             ...\n",
              "259  2019             VIR  ...  GDP (current US$)           Virgin Islands (U.S.)\n",
              "260  2019             PSE  ...  GDP (current US$)              West Bank and Gaza\n",
              "261  2019             YEM  ...  GDP (current US$)                     Yemen, Rep.\n",
              "262  2019             ZMB  ...  GDP (current US$)                          Zambia\n",
              "263  2019             ZWE  ...  GDP (current US$)                        Zimbabwe\n",
              "\n",
              "[264 rows x 5 columns]"
            ]
          },
          "metadata": {
            "tags": []
          },
          "execution_count": 138
        }
      ]
    },
    {
      "cell_type": "code",
      "metadata": {
        "id": "AnwLXoXyp5TZ",
        "outputId": "6d677e10-d10d-4a5f-c61e-4a7d693e3e8a",
        "colab": {
          "base_uri": "https://localhost:8080/",
          "height": 225
        }
      },
      "source": [
        "GDP_raw_df.info(verbose = True)"
      ],
      "execution_count": null,
      "outputs": [
        {
          "output_type": "stream",
          "text": [
            "<class 'pandas.core.frame.DataFrame'>\n",
            "RangeIndex: 264 entries, 0 to 263\n",
            "Data columns (total 5 columns):\n",
            " #   Column           Non-Null Count  Dtype  \n",
            "---  ------           --------------  -----  \n",
            " 0   date             264 non-null    object \n",
            " 1   countryiso3code  264 non-null    object \n",
            " 2   value            223 non-null    float64\n",
            " 3   indicator.value  264 non-null    object \n",
            " 4   country.value    264 non-null    object \n",
            "dtypes: float64(1), object(4)\n",
            "memory usage: 10.4+ KB\n"
          ],
          "name": "stdout"
        }
      ]
    },
    {
      "cell_type": "code",
      "metadata": {
        "id": "FDBQoe7hp5Ta",
        "outputId": "78b47a3d-0bf3-4bd9-b138-f6ff24e13362",
        "colab": {
          "base_uri": "https://localhost:8080/",
          "height": 424
        }
      },
      "source": [
        "# Extract data on Income level (Country categories)\n",
        "\n",
        "income_url = 'http://api.worldbank.org/v2/country/all'\n",
        "my_params_2 = {'format' : 'json',\n",
        "              'per_page' : '304'}\n",
        "\n",
        "r = requests.get(income_url, params = my_params_2) # make the data request\n",
        "\n",
        "#remove first value (which contain info on the request)  and transform to json then to dataframe\n",
        "income_raw_df = pd.json_normalize(r.json()[-1]) \n",
        "# take only relevant variables\n",
        "income_raw_df = income_raw_df[['id', 'name', 'region.value', 'incomeLevel.id', 'incomeLevel.value']]\n",
        "income_raw_df"
      ],
      "execution_count": null,
      "outputs": [
        {
          "output_type": "execute_result",
          "data": {
            "text/html": [
              "<div>\n",
              "<style scoped>\n",
              "    .dataframe tbody tr th:only-of-type {\n",
              "        vertical-align: middle;\n",
              "    }\n",
              "\n",
              "    .dataframe tbody tr th {\n",
              "        vertical-align: top;\n",
              "    }\n",
              "\n",
              "    .dataframe thead th {\n",
              "        text-align: right;\n",
              "    }\n",
              "</style>\n",
              "<table border=\"1\" class=\"dataframe\">\n",
              "  <thead>\n",
              "    <tr style=\"text-align: right;\">\n",
              "      <th></th>\n",
              "      <th>id</th>\n",
              "      <th>name</th>\n",
              "      <th>region.value</th>\n",
              "      <th>incomeLevel.id</th>\n",
              "      <th>incomeLevel.value</th>\n",
              "    </tr>\n",
              "  </thead>\n",
              "  <tbody>\n",
              "    <tr>\n",
              "      <th>0</th>\n",
              "      <td>ABW</td>\n",
              "      <td>Aruba</td>\n",
              "      <td>Latin America &amp; Caribbean</td>\n",
              "      <td>HIC</td>\n",
              "      <td>High income</td>\n",
              "    </tr>\n",
              "    <tr>\n",
              "      <th>1</th>\n",
              "      <td>AFG</td>\n",
              "      <td>Afghanistan</td>\n",
              "      <td>South Asia</td>\n",
              "      <td>LIC</td>\n",
              "      <td>Low income</td>\n",
              "    </tr>\n",
              "    <tr>\n",
              "      <th>2</th>\n",
              "      <td>AFR</td>\n",
              "      <td>Africa</td>\n",
              "      <td>Aggregates</td>\n",
              "      <td>NA</td>\n",
              "      <td>Aggregates</td>\n",
              "    </tr>\n",
              "    <tr>\n",
              "      <th>3</th>\n",
              "      <td>AGO</td>\n",
              "      <td>Angola</td>\n",
              "      <td>Sub-Saharan Africa</td>\n",
              "      <td>LMC</td>\n",
              "      <td>Lower middle income</td>\n",
              "    </tr>\n",
              "    <tr>\n",
              "      <th>4</th>\n",
              "      <td>ALB</td>\n",
              "      <td>Albania</td>\n",
              "      <td>Europe &amp; Central Asia</td>\n",
              "      <td>UMC</td>\n",
              "      <td>Upper middle income</td>\n",
              "    </tr>\n",
              "    <tr>\n",
              "      <th>...</th>\n",
              "      <td>...</td>\n",
              "      <td>...</td>\n",
              "      <td>...</td>\n",
              "      <td>...</td>\n",
              "      <td>...</td>\n",
              "    </tr>\n",
              "    <tr>\n",
              "      <th>299</th>\n",
              "      <td>XZN</td>\n",
              "      <td>Sub-Saharan Africa excluding South Africa and ...</td>\n",
              "      <td>Aggregates</td>\n",
              "      <td>NA</td>\n",
              "      <td>Aggregates</td>\n",
              "    </tr>\n",
              "    <tr>\n",
              "      <th>300</th>\n",
              "      <td>YEM</td>\n",
              "      <td>Yemen, Rep.</td>\n",
              "      <td>Middle East &amp; North Africa</td>\n",
              "      <td>LIC</td>\n",
              "      <td>Low income</td>\n",
              "    </tr>\n",
              "    <tr>\n",
              "      <th>301</th>\n",
              "      <td>ZAF</td>\n",
              "      <td>South Africa</td>\n",
              "      <td>Sub-Saharan Africa</td>\n",
              "      <td>UMC</td>\n",
              "      <td>Upper middle income</td>\n",
              "    </tr>\n",
              "    <tr>\n",
              "      <th>302</th>\n",
              "      <td>ZMB</td>\n",
              "      <td>Zambia</td>\n",
              "      <td>Sub-Saharan Africa</td>\n",
              "      <td>LMC</td>\n",
              "      <td>Lower middle income</td>\n",
              "    </tr>\n",
              "    <tr>\n",
              "      <th>303</th>\n",
              "      <td>ZWE</td>\n",
              "      <td>Zimbabwe</td>\n",
              "      <td>Sub-Saharan Africa</td>\n",
              "      <td>LMC</td>\n",
              "      <td>Lower middle income</td>\n",
              "    </tr>\n",
              "  </tbody>\n",
              "</table>\n",
              "<p>304 rows × 5 columns</p>\n",
              "</div>"
            ],
            "text/plain": [
              "      id  ...    incomeLevel.value\n",
              "0    ABW  ...          High income\n",
              "1    AFG  ...           Low income\n",
              "2    AFR  ...           Aggregates\n",
              "3    AGO  ...  Lower middle income\n",
              "4    ALB  ...  Upper middle income\n",
              "..   ...  ...                  ...\n",
              "299  XZN  ...           Aggregates\n",
              "300  YEM  ...           Low income\n",
              "301  ZAF  ...  Upper middle income\n",
              "302  ZMB  ...  Lower middle income\n",
              "303  ZWE  ...  Lower middle income\n",
              "\n",
              "[304 rows x 5 columns]"
            ]
          },
          "metadata": {
            "tags": []
          },
          "execution_count": 140
        }
      ]
    },
    {
      "cell_type": "code",
      "metadata": {
        "id": "LSTPaa3Jp5Tc",
        "outputId": "7f568cbe-3866-49b6-8f0b-8acf4012d73e",
        "colab": {
          "base_uri": "https://localhost:8080/",
          "height": 424
        }
      },
      "source": [
        "# check now for different country codes\n",
        "\n",
        "income_raw_df['id'].unique().size\n",
        "income_raw_df[income_raw_df['id'].isin(GDP_raw_df['countryiso3code'])]"
      ],
      "execution_count": null,
      "outputs": [
        {
          "output_type": "execute_result",
          "data": {
            "text/html": [
              "<div>\n",
              "<style scoped>\n",
              "    .dataframe tbody tr th:only-of-type {\n",
              "        vertical-align: middle;\n",
              "    }\n",
              "\n",
              "    .dataframe tbody tr th {\n",
              "        vertical-align: top;\n",
              "    }\n",
              "\n",
              "    .dataframe thead th {\n",
              "        text-align: right;\n",
              "    }\n",
              "</style>\n",
              "<table border=\"1\" class=\"dataframe\">\n",
              "  <thead>\n",
              "    <tr style=\"text-align: right;\">\n",
              "      <th></th>\n",
              "      <th>id</th>\n",
              "      <th>name</th>\n",
              "      <th>region.value</th>\n",
              "      <th>incomeLevel.id</th>\n",
              "      <th>incomeLevel.value</th>\n",
              "    </tr>\n",
              "  </thead>\n",
              "  <tbody>\n",
              "    <tr>\n",
              "      <th>0</th>\n",
              "      <td>ABW</td>\n",
              "      <td>Aruba</td>\n",
              "      <td>Latin America &amp; Caribbean</td>\n",
              "      <td>HIC</td>\n",
              "      <td>High income</td>\n",
              "    </tr>\n",
              "    <tr>\n",
              "      <th>1</th>\n",
              "      <td>AFG</td>\n",
              "      <td>Afghanistan</td>\n",
              "      <td>South Asia</td>\n",
              "      <td>LIC</td>\n",
              "      <td>Low income</td>\n",
              "    </tr>\n",
              "    <tr>\n",
              "      <th>3</th>\n",
              "      <td>AGO</td>\n",
              "      <td>Angola</td>\n",
              "      <td>Sub-Saharan Africa</td>\n",
              "      <td>LMC</td>\n",
              "      <td>Lower middle income</td>\n",
              "    </tr>\n",
              "    <tr>\n",
              "      <th>4</th>\n",
              "      <td>ALB</td>\n",
              "      <td>Albania</td>\n",
              "      <td>Europe &amp; Central Asia</td>\n",
              "      <td>UMC</td>\n",
              "      <td>Upper middle income</td>\n",
              "    </tr>\n",
              "    <tr>\n",
              "      <th>5</th>\n",
              "      <td>AND</td>\n",
              "      <td>Andorra</td>\n",
              "      <td>Europe &amp; Central Asia</td>\n",
              "      <td>HIC</td>\n",
              "      <td>High income</td>\n",
              "    </tr>\n",
              "    <tr>\n",
              "      <th>...</th>\n",
              "      <td>...</td>\n",
              "      <td>...</td>\n",
              "      <td>...</td>\n",
              "      <td>...</td>\n",
              "      <td>...</td>\n",
              "    </tr>\n",
              "    <tr>\n",
              "      <th>298</th>\n",
              "      <td>XKX</td>\n",
              "      <td>Kosovo</td>\n",
              "      <td>Europe &amp; Central Asia</td>\n",
              "      <td>UMC</td>\n",
              "      <td>Upper middle income</td>\n",
              "    </tr>\n",
              "    <tr>\n",
              "      <th>300</th>\n",
              "      <td>YEM</td>\n",
              "      <td>Yemen, Rep.</td>\n",
              "      <td>Middle East &amp; North Africa</td>\n",
              "      <td>LIC</td>\n",
              "      <td>Low income</td>\n",
              "    </tr>\n",
              "    <tr>\n",
              "      <th>301</th>\n",
              "      <td>ZAF</td>\n",
              "      <td>South Africa</td>\n",
              "      <td>Sub-Saharan Africa</td>\n",
              "      <td>UMC</td>\n",
              "      <td>Upper middle income</td>\n",
              "    </tr>\n",
              "    <tr>\n",
              "      <th>302</th>\n",
              "      <td>ZMB</td>\n",
              "      <td>Zambia</td>\n",
              "      <td>Sub-Saharan Africa</td>\n",
              "      <td>LMC</td>\n",
              "      <td>Lower middle income</td>\n",
              "    </tr>\n",
              "    <tr>\n",
              "      <th>303</th>\n",
              "      <td>ZWE</td>\n",
              "      <td>Zimbabwe</td>\n",
              "      <td>Sub-Saharan Africa</td>\n",
              "      <td>LMC</td>\n",
              "      <td>Lower middle income</td>\n",
              "    </tr>\n",
              "  </tbody>\n",
              "</table>\n",
              "<p>259 rows × 5 columns</p>\n",
              "</div>"
            ],
            "text/plain": [
              "      id          name  ... incomeLevel.id    incomeLevel.value\n",
              "0    ABW         Aruba  ...            HIC          High income\n",
              "1    AFG   Afghanistan  ...            LIC           Low income\n",
              "3    AGO        Angola  ...            LMC  Lower middle income\n",
              "4    ALB       Albania  ...            UMC  Upper middle income\n",
              "5    AND       Andorra  ...            HIC          High income\n",
              "..   ...           ...  ...            ...                  ...\n",
              "298  XKX        Kosovo  ...            UMC  Upper middle income\n",
              "300  YEM   Yemen, Rep.  ...            LIC           Low income\n",
              "301  ZAF  South Africa  ...            UMC  Upper middle income\n",
              "302  ZMB        Zambia  ...            LMC  Lower middle income\n",
              "303  ZWE      Zimbabwe  ...            LMC  Lower middle income\n",
              "\n",
              "[259 rows x 5 columns]"
            ]
          },
          "metadata": {
            "tags": []
          },
          "execution_count": 141
        }
      ]
    },
    {
      "cell_type": "code",
      "metadata": {
        "id": "cI5Rk0hhp5Tf",
        "outputId": "67752934-7caf-4b88-9794-5794a58b05f4",
        "colab": {
          "base_uri": "https://localhost:8080/",
          "height": 206
        }
      },
      "source": [
        "# I found out that there are 5 rows in th GDP dataset that are showing missleading country value\n",
        "GDP_raw_df[~GDP_raw_df['countryiso3code'].isin(income_raw_df['id'])]"
      ],
      "execution_count": null,
      "outputs": [
        {
          "output_type": "execute_result",
          "data": {
            "text/html": [
              "<div>\n",
              "<style scoped>\n",
              "    .dataframe tbody tr th:only-of-type {\n",
              "        vertical-align: middle;\n",
              "    }\n",
              "\n",
              "    .dataframe tbody tr th {\n",
              "        vertical-align: top;\n",
              "    }\n",
              "\n",
              "    .dataframe thead th {\n",
              "        text-align: right;\n",
              "    }\n",
              "</style>\n",
              "<table border=\"1\" class=\"dataframe\">\n",
              "  <thead>\n",
              "    <tr style=\"text-align: right;\">\n",
              "      <th></th>\n",
              "      <th>date</th>\n",
              "      <th>countryiso3code</th>\n",
              "      <th>value</th>\n",
              "      <th>indicator.value</th>\n",
              "      <th>country.value</th>\n",
              "    </tr>\n",
              "  </thead>\n",
              "  <tbody>\n",
              "    <tr>\n",
              "      <th>14</th>\n",
              "      <td>2019</td>\n",
              "      <td></td>\n",
              "      <td>5.504537e+13</td>\n",
              "      <td>GDP (current US$)</td>\n",
              "      <td>High income</td>\n",
              "    </tr>\n",
              "    <tr>\n",
              "      <th>26</th>\n",
              "      <td>2019</td>\n",
              "      <td></td>\n",
              "      <td>5.212738e+11</td>\n",
              "      <td>GDP (current US$)</td>\n",
              "      <td>Low income</td>\n",
              "    </tr>\n",
              "    <tr>\n",
              "      <th>27</th>\n",
              "      <td>2019</td>\n",
              "      <td></td>\n",
              "      <td>6.341105e+12</td>\n",
              "      <td>GDP (current US$)</td>\n",
              "      <td>Lower middle income</td>\n",
              "    </tr>\n",
              "    <tr>\n",
              "      <th>33</th>\n",
              "      <td>2019</td>\n",
              "      <td></td>\n",
              "      <td>NaN</td>\n",
              "      <td>GDP (current US$)</td>\n",
              "      <td>Not classified</td>\n",
              "    </tr>\n",
              "    <tr>\n",
              "      <th>45</th>\n",
              "      <td>2019</td>\n",
              "      <td></td>\n",
              "      <td>2.581713e+13</td>\n",
              "      <td>GDP (current US$)</td>\n",
              "      <td>Upper middle income</td>\n",
              "    </tr>\n",
              "  </tbody>\n",
              "</table>\n",
              "</div>"
            ],
            "text/plain": [
              "    date countryiso3code         value    indicator.value        country.value\n",
              "14  2019                  5.504537e+13  GDP (current US$)          High income\n",
              "26  2019                  5.212738e+11  GDP (current US$)           Low income\n",
              "27  2019                  6.341105e+12  GDP (current US$)  Lower middle income\n",
              "33  2019                           NaN  GDP (current US$)       Not classified\n",
              "45  2019                  2.581713e+13  GDP (current US$)  Upper middle income"
            ]
          },
          "metadata": {
            "tags": []
          },
          "execution_count": 142
        }
      ]
    },
    {
      "cell_type": "code",
      "metadata": {
        "id": "xnsMeU-vp5Th",
        "outputId": "6b5f4437-20b3-4bd7-e492-c4a2c57ae8e3",
        "colab": {
          "base_uri": "https://localhost:8080/",
          "height": 424
        }
      },
      "source": [
        "# remove the coutry.value that are inconsistent in the GDP_raw_df:\n",
        "GDP_rows_removed = GDP_raw_df['country.value'].str.contains('High income') | GDP_raw_df['country.value'].str.contains('Low income') | GDP_raw_df['country.value'].str.contains('Lower middle income') | GDP_raw_df['country.value'].str.contains('Not classified') | GDP_raw_df['country.value'].str.contains('Upper middle income')\n",
        "GDP_raw_df = GDP_raw_df[~(GDP_rows_removed)]\n",
        "GDP_raw_df"
      ],
      "execution_count": null,
      "outputs": [
        {
          "output_type": "execute_result",
          "data": {
            "text/html": [
              "<div>\n",
              "<style scoped>\n",
              "    .dataframe tbody tr th:only-of-type {\n",
              "        vertical-align: middle;\n",
              "    }\n",
              "\n",
              "    .dataframe tbody tr th {\n",
              "        vertical-align: top;\n",
              "    }\n",
              "\n",
              "    .dataframe thead th {\n",
              "        text-align: right;\n",
              "    }\n",
              "</style>\n",
              "<table border=\"1\" class=\"dataframe\">\n",
              "  <thead>\n",
              "    <tr style=\"text-align: right;\">\n",
              "      <th></th>\n",
              "      <th>date</th>\n",
              "      <th>countryiso3code</th>\n",
              "      <th>value</th>\n",
              "      <th>indicator.value</th>\n",
              "      <th>country.value</th>\n",
              "    </tr>\n",
              "  </thead>\n",
              "  <tbody>\n",
              "    <tr>\n",
              "      <th>0</th>\n",
              "      <td>2019</td>\n",
              "      <td>ARB</td>\n",
              "      <td>2.815410e+12</td>\n",
              "      <td>GDP (current US$)</td>\n",
              "      <td>Arab World</td>\n",
              "    </tr>\n",
              "    <tr>\n",
              "      <th>1</th>\n",
              "      <td>2019</td>\n",
              "      <td>CSS</td>\n",
              "      <td>7.629037e+10</td>\n",
              "      <td>GDP (current US$)</td>\n",
              "      <td>Caribbean small states</td>\n",
              "    </tr>\n",
              "    <tr>\n",
              "      <th>2</th>\n",
              "      <td>2019</td>\n",
              "      <td>CEB</td>\n",
              "      <td>1.656929e+12</td>\n",
              "      <td>GDP (current US$)</td>\n",
              "      <td>Central Europe and the Baltics</td>\n",
              "    </tr>\n",
              "    <tr>\n",
              "      <th>3</th>\n",
              "      <td>2019</td>\n",
              "      <td>EAR</td>\n",
              "      <td>1.198157e+13</td>\n",
              "      <td>GDP (current US$)</td>\n",
              "      <td>Early-demographic dividend</td>\n",
              "    </tr>\n",
              "    <tr>\n",
              "      <th>4</th>\n",
              "      <td>2019</td>\n",
              "      <td>EAS</td>\n",
              "      <td>2.697981e+13</td>\n",
              "      <td>GDP (current US$)</td>\n",
              "      <td>East Asia &amp; Pacific</td>\n",
              "    </tr>\n",
              "    <tr>\n",
              "      <th>...</th>\n",
              "      <td>...</td>\n",
              "      <td>...</td>\n",
              "      <td>...</td>\n",
              "      <td>...</td>\n",
              "      <td>...</td>\n",
              "    </tr>\n",
              "    <tr>\n",
              "      <th>259</th>\n",
              "      <td>2019</td>\n",
              "      <td>VIR</td>\n",
              "      <td>NaN</td>\n",
              "      <td>GDP (current US$)</td>\n",
              "      <td>Virgin Islands (U.S.)</td>\n",
              "    </tr>\n",
              "    <tr>\n",
              "      <th>260</th>\n",
              "      <td>2019</td>\n",
              "      <td>PSE</td>\n",
              "      <td>NaN</td>\n",
              "      <td>GDP (current US$)</td>\n",
              "      <td>West Bank and Gaza</td>\n",
              "    </tr>\n",
              "    <tr>\n",
              "      <th>261</th>\n",
              "      <td>2019</td>\n",
              "      <td>YEM</td>\n",
              "      <td>NaN</td>\n",
              "      <td>GDP (current US$)</td>\n",
              "      <td>Yemen, Rep.</td>\n",
              "    </tr>\n",
              "    <tr>\n",
              "      <th>262</th>\n",
              "      <td>2019</td>\n",
              "      <td>ZMB</td>\n",
              "      <td>2.306472e+10</td>\n",
              "      <td>GDP (current US$)</td>\n",
              "      <td>Zambia</td>\n",
              "    </tr>\n",
              "    <tr>\n",
              "      <th>263</th>\n",
              "      <td>2019</td>\n",
              "      <td>ZWE</td>\n",
              "      <td>2.144076e+10</td>\n",
              "      <td>GDP (current US$)</td>\n",
              "      <td>Zimbabwe</td>\n",
              "    </tr>\n",
              "  </tbody>\n",
              "</table>\n",
              "<p>259 rows × 5 columns</p>\n",
              "</div>"
            ],
            "text/plain": [
              "     date countryiso3code  ...    indicator.value                   country.value\n",
              "0    2019             ARB  ...  GDP (current US$)                      Arab World\n",
              "1    2019             CSS  ...  GDP (current US$)          Caribbean small states\n",
              "2    2019             CEB  ...  GDP (current US$)  Central Europe and the Baltics\n",
              "3    2019             EAR  ...  GDP (current US$)      Early-demographic dividend\n",
              "4    2019             EAS  ...  GDP (current US$)             East Asia & Pacific\n",
              "..    ...             ...  ...                ...                             ...\n",
              "259  2019             VIR  ...  GDP (current US$)           Virgin Islands (U.S.)\n",
              "260  2019             PSE  ...  GDP (current US$)              West Bank and Gaza\n",
              "261  2019             YEM  ...  GDP (current US$)                     Yemen, Rep.\n",
              "262  2019             ZMB  ...  GDP (current US$)                          Zambia\n",
              "263  2019             ZWE  ...  GDP (current US$)                        Zimbabwe\n",
              "\n",
              "[259 rows x 5 columns]"
            ]
          },
          "metadata": {
            "tags": []
          },
          "execution_count": 143
        }
      ]
    },
    {
      "cell_type": "code",
      "metadata": {
        "id": "iFlW42EZp5Ti",
        "outputId": "3d7fd014-8a44-499a-fe44-3abff6ef4bb9",
        "colab": {
          "base_uri": "https://localhost:8080/",
          "height": 424
        }
      },
      "source": [
        "GDP_raw_df[GDP_raw_df['countryiso3code'].isin(income_raw_df['id'])]"
      ],
      "execution_count": null,
      "outputs": [
        {
          "output_type": "execute_result",
          "data": {
            "text/html": [
              "<div>\n",
              "<style scoped>\n",
              "    .dataframe tbody tr th:only-of-type {\n",
              "        vertical-align: middle;\n",
              "    }\n",
              "\n",
              "    .dataframe tbody tr th {\n",
              "        vertical-align: top;\n",
              "    }\n",
              "\n",
              "    .dataframe thead th {\n",
              "        text-align: right;\n",
              "    }\n",
              "</style>\n",
              "<table border=\"1\" class=\"dataframe\">\n",
              "  <thead>\n",
              "    <tr style=\"text-align: right;\">\n",
              "      <th></th>\n",
              "      <th>date</th>\n",
              "      <th>countryiso3code</th>\n",
              "      <th>value</th>\n",
              "      <th>indicator.value</th>\n",
              "      <th>country.value</th>\n",
              "    </tr>\n",
              "  </thead>\n",
              "  <tbody>\n",
              "    <tr>\n",
              "      <th>0</th>\n",
              "      <td>2019</td>\n",
              "      <td>ARB</td>\n",
              "      <td>2.815410e+12</td>\n",
              "      <td>GDP (current US$)</td>\n",
              "      <td>Arab World</td>\n",
              "    </tr>\n",
              "    <tr>\n",
              "      <th>1</th>\n",
              "      <td>2019</td>\n",
              "      <td>CSS</td>\n",
              "      <td>7.629037e+10</td>\n",
              "      <td>GDP (current US$)</td>\n",
              "      <td>Caribbean small states</td>\n",
              "    </tr>\n",
              "    <tr>\n",
              "      <th>2</th>\n",
              "      <td>2019</td>\n",
              "      <td>CEB</td>\n",
              "      <td>1.656929e+12</td>\n",
              "      <td>GDP (current US$)</td>\n",
              "      <td>Central Europe and the Baltics</td>\n",
              "    </tr>\n",
              "    <tr>\n",
              "      <th>3</th>\n",
              "      <td>2019</td>\n",
              "      <td>EAR</td>\n",
              "      <td>1.198157e+13</td>\n",
              "      <td>GDP (current US$)</td>\n",
              "      <td>Early-demographic dividend</td>\n",
              "    </tr>\n",
              "    <tr>\n",
              "      <th>4</th>\n",
              "      <td>2019</td>\n",
              "      <td>EAS</td>\n",
              "      <td>2.697981e+13</td>\n",
              "      <td>GDP (current US$)</td>\n",
              "      <td>East Asia &amp; Pacific</td>\n",
              "    </tr>\n",
              "    <tr>\n",
              "      <th>...</th>\n",
              "      <td>...</td>\n",
              "      <td>...</td>\n",
              "      <td>...</td>\n",
              "      <td>...</td>\n",
              "      <td>...</td>\n",
              "    </tr>\n",
              "    <tr>\n",
              "      <th>259</th>\n",
              "      <td>2019</td>\n",
              "      <td>VIR</td>\n",
              "      <td>NaN</td>\n",
              "      <td>GDP (current US$)</td>\n",
              "      <td>Virgin Islands (U.S.)</td>\n",
              "    </tr>\n",
              "    <tr>\n",
              "      <th>260</th>\n",
              "      <td>2019</td>\n",
              "      <td>PSE</td>\n",
              "      <td>NaN</td>\n",
              "      <td>GDP (current US$)</td>\n",
              "      <td>West Bank and Gaza</td>\n",
              "    </tr>\n",
              "    <tr>\n",
              "      <th>261</th>\n",
              "      <td>2019</td>\n",
              "      <td>YEM</td>\n",
              "      <td>NaN</td>\n",
              "      <td>GDP (current US$)</td>\n",
              "      <td>Yemen, Rep.</td>\n",
              "    </tr>\n",
              "    <tr>\n",
              "      <th>262</th>\n",
              "      <td>2019</td>\n",
              "      <td>ZMB</td>\n",
              "      <td>2.306472e+10</td>\n",
              "      <td>GDP (current US$)</td>\n",
              "      <td>Zambia</td>\n",
              "    </tr>\n",
              "    <tr>\n",
              "      <th>263</th>\n",
              "      <td>2019</td>\n",
              "      <td>ZWE</td>\n",
              "      <td>2.144076e+10</td>\n",
              "      <td>GDP (current US$)</td>\n",
              "      <td>Zimbabwe</td>\n",
              "    </tr>\n",
              "  </tbody>\n",
              "</table>\n",
              "<p>259 rows × 5 columns</p>\n",
              "</div>"
            ],
            "text/plain": [
              "     date countryiso3code  ...    indicator.value                   country.value\n",
              "0    2019             ARB  ...  GDP (current US$)                      Arab World\n",
              "1    2019             CSS  ...  GDP (current US$)          Caribbean small states\n",
              "2    2019             CEB  ...  GDP (current US$)  Central Europe and the Baltics\n",
              "3    2019             EAR  ...  GDP (current US$)      Early-demographic dividend\n",
              "4    2019             EAS  ...  GDP (current US$)             East Asia & Pacific\n",
              "..    ...             ...  ...                ...                             ...\n",
              "259  2019             VIR  ...  GDP (current US$)           Virgin Islands (U.S.)\n",
              "260  2019             PSE  ...  GDP (current US$)              West Bank and Gaza\n",
              "261  2019             YEM  ...  GDP (current US$)                     Yemen, Rep.\n",
              "262  2019             ZMB  ...  GDP (current US$)                          Zambia\n",
              "263  2019             ZWE  ...  GDP (current US$)                        Zimbabwe\n",
              "\n",
              "[259 rows x 5 columns]"
            ]
          },
          "metadata": {
            "tags": []
          },
          "execution_count": 144
        }
      ]
    },
    {
      "cell_type": "code",
      "metadata": {
        "id": "Ra6-8GsSp5Tj",
        "outputId": "772b9d3f-75a0-416f-db84-9e7e69dcc1df",
        "colab": {
          "base_uri": "https://localhost:8080/",
          "height": 1000
        }
      },
      "source": [
        "# below are the region categories (no countries that are )\n",
        "income_raw_df[~income_raw_df['id'].isin(GDP_raw_df['countryiso3code'])]"
      ],
      "execution_count": null,
      "outputs": [
        {
          "output_type": "execute_result",
          "data": {
            "text/html": [
              "<div>\n",
              "<style scoped>\n",
              "    .dataframe tbody tr th:only-of-type {\n",
              "        vertical-align: middle;\n",
              "    }\n",
              "\n",
              "    .dataframe tbody tr th {\n",
              "        vertical-align: top;\n",
              "    }\n",
              "\n",
              "    .dataframe thead th {\n",
              "        text-align: right;\n",
              "    }\n",
              "</style>\n",
              "<table border=\"1\" class=\"dataframe\">\n",
              "  <thead>\n",
              "    <tr style=\"text-align: right;\">\n",
              "      <th></th>\n",
              "      <th>id</th>\n",
              "      <th>name</th>\n",
              "      <th>region.value</th>\n",
              "      <th>incomeLevel.id</th>\n",
              "      <th>incomeLevel.value</th>\n",
              "    </tr>\n",
              "  </thead>\n",
              "  <tbody>\n",
              "    <tr>\n",
              "      <th>2</th>\n",
              "      <td>AFR</td>\n",
              "      <td>Africa</td>\n",
              "      <td>Aggregates</td>\n",
              "      <td>NA</td>\n",
              "      <td>Aggregates</td>\n",
              "    </tr>\n",
              "    <tr>\n",
              "      <th>6</th>\n",
              "      <td>ANR</td>\n",
              "      <td>Andean Region</td>\n",
              "      <td>Aggregates</td>\n",
              "      <td>NA</td>\n",
              "      <td>Aggregates</td>\n",
              "    </tr>\n",
              "    <tr>\n",
              "      <th>17</th>\n",
              "      <td>BEA</td>\n",
              "      <td>East Asia &amp; Pacific (IBRD-only countries)</td>\n",
              "      <td>Aggregates</td>\n",
              "      <td>NA</td>\n",
              "      <td>Aggregates</td>\n",
              "    </tr>\n",
              "    <tr>\n",
              "      <th>18</th>\n",
              "      <td>BEC</td>\n",
              "      <td>Europe &amp; Central Asia (IBRD-only countries)</td>\n",
              "      <td>Aggregates</td>\n",
              "      <td>NA</td>\n",
              "      <td>Aggregates</td>\n",
              "    </tr>\n",
              "    <tr>\n",
              "      <th>24</th>\n",
              "      <td>BHI</td>\n",
              "      <td>IBRD countries classified as high income</td>\n",
              "      <td>Aggregates</td>\n",
              "      <td>NA</td>\n",
              "      <td>Aggregates</td>\n",
              "    </tr>\n",
              "    <tr>\n",
              "      <th>28</th>\n",
              "      <td>BLA</td>\n",
              "      <td>Latin America &amp; the Caribbean (IBRD-only count...</td>\n",
              "      <td>Aggregates</td>\n",
              "      <td>NA</td>\n",
              "      <td>Aggregates</td>\n",
              "    </tr>\n",
              "    <tr>\n",
              "      <th>31</th>\n",
              "      <td>BMN</td>\n",
              "      <td>Middle East &amp; North Africa (IBRD-only countries)</td>\n",
              "      <td>Aggregates</td>\n",
              "      <td>NA</td>\n",
              "      <td>Aggregates</td>\n",
              "    </tr>\n",
              "    <tr>\n",
              "      <th>37</th>\n",
              "      <td>BSS</td>\n",
              "      <td>Sub-Saharan Africa (IBRD-only countries)</td>\n",
              "      <td>Aggregates</td>\n",
              "      <td>NA</td>\n",
              "      <td>Aggregates</td>\n",
              "    </tr>\n",
              "    <tr>\n",
              "      <th>40</th>\n",
              "      <td>CAA</td>\n",
              "      <td>Sub-Saharan Africa (IFC classification)</td>\n",
              "      <td>Aggregates</td>\n",
              "      <td>NA</td>\n",
              "      <td>Aggregates</td>\n",
              "    </tr>\n",
              "    <tr>\n",
              "      <th>43</th>\n",
              "      <td>CEA</td>\n",
              "      <td>East Asia and the Pacific (IFC classification)</td>\n",
              "      <td>Aggregates</td>\n",
              "      <td>NA</td>\n",
              "      <td>Aggregates</td>\n",
              "    </tr>\n",
              "    <tr>\n",
              "      <th>45</th>\n",
              "      <td>CEU</td>\n",
              "      <td>Europe and Central Asia (IFC classification)</td>\n",
              "      <td>Aggregates</td>\n",
              "      <td>NA</td>\n",
              "      <td>Aggregates</td>\n",
              "    </tr>\n",
              "    <tr>\n",
              "      <th>51</th>\n",
              "      <td>CLA</td>\n",
              "      <td>Latin America and the Caribbean (IFC classific...</td>\n",
              "      <td>Aggregates</td>\n",
              "      <td>NA</td>\n",
              "      <td>Aggregates</td>\n",
              "    </tr>\n",
              "    <tr>\n",
              "      <th>52</th>\n",
              "      <td>CME</td>\n",
              "      <td>Middle East and North Africa (IFC classification)</td>\n",
              "      <td>Aggregates</td>\n",
              "      <td>NA</td>\n",
              "      <td>Aggregates</td>\n",
              "    </tr>\n",
              "    <tr>\n",
              "      <th>60</th>\n",
              "      <td>CSA</td>\n",
              "      <td>South Asia (IFC classification)</td>\n",
              "      <td>Aggregates</td>\n",
              "      <td>NA</td>\n",
              "      <td>Aggregates</td>\n",
              "    </tr>\n",
              "    <tr>\n",
              "      <th>67</th>\n",
              "      <td>DEA</td>\n",
              "      <td>East Asia &amp; Pacific (IDA-eligible countries)</td>\n",
              "      <td>Aggregates</td>\n",
              "      <td>NA</td>\n",
              "      <td>Aggregates</td>\n",
              "    </tr>\n",
              "    <tr>\n",
              "      <th>68</th>\n",
              "      <td>DEC</td>\n",
              "      <td>Europe &amp; Central Asia (IDA-eligible countries)</td>\n",
              "      <td>Aggregates</td>\n",
              "      <td>NA</td>\n",
              "      <td>Aggregates</td>\n",
              "    </tr>\n",
              "    <tr>\n",
              "      <th>70</th>\n",
              "      <td>DFS</td>\n",
              "      <td>IDA countries classified as Fragile Situations</td>\n",
              "      <td>Aggregates</td>\n",
              "      <td>NA</td>\n",
              "      <td>Aggregates</td>\n",
              "    </tr>\n",
              "    <tr>\n",
              "      <th>72</th>\n",
              "      <td>DLA</td>\n",
              "      <td>Latin America &amp; the Caribbean (IDA-eligible co...</td>\n",
              "      <td>Aggregates</td>\n",
              "      <td>NA</td>\n",
              "      <td>Aggregates</td>\n",
              "    </tr>\n",
              "    <tr>\n",
              "      <th>74</th>\n",
              "      <td>DMN</td>\n",
              "      <td>Middle East &amp; North Africa (IDA-eligible count...</td>\n",
              "      <td>Aggregates</td>\n",
              "      <td>NA</td>\n",
              "      <td>Aggregates</td>\n",
              "    </tr>\n",
              "    <tr>\n",
              "      <th>75</th>\n",
              "      <td>DNF</td>\n",
              "      <td>IDA countries not classified as Fragile Situat...</td>\n",
              "      <td>Aggregates</td>\n",
              "      <td>NA</td>\n",
              "      <td>Aggregates</td>\n",
              "    </tr>\n",
              "    <tr>\n",
              "      <th>77</th>\n",
              "      <td>DNS</td>\n",
              "      <td>IDA countries in Sub-Saharan Africa not classi...</td>\n",
              "      <td>Aggregates</td>\n",
              "      <td>NA</td>\n",
              "      <td>Aggregates</td>\n",
              "    </tr>\n",
              "    <tr>\n",
              "      <th>79</th>\n",
              "      <td>DSA</td>\n",
              "      <td>South Asia (IDA-eligible countries)</td>\n",
              "      <td>Aggregates</td>\n",
              "      <td>NA</td>\n",
              "      <td>Aggregates</td>\n",
              "    </tr>\n",
              "    <tr>\n",
              "      <th>80</th>\n",
              "      <td>DSF</td>\n",
              "      <td>IDA countries in Sub-Saharan Africa classified...</td>\n",
              "      <td>Aggregates</td>\n",
              "      <td>NA</td>\n",
              "      <td>Aggregates</td>\n",
              "    </tr>\n",
              "    <tr>\n",
              "      <th>81</th>\n",
              "      <td>DSS</td>\n",
              "      <td>Sub-Saharan Africa (IDA-eligible countries)</td>\n",
              "      <td>Aggregates</td>\n",
              "      <td>NA</td>\n",
              "      <td>Aggregates</td>\n",
              "    </tr>\n",
              "    <tr>\n",
              "      <th>82</th>\n",
              "      <td>DXS</td>\n",
              "      <td>IDA total, excluding Sub-Saharan Africa</td>\n",
              "      <td>Aggregates</td>\n",
              "      <td>NA</td>\n",
              "      <td>Aggregates</td>\n",
              "    </tr>\n",
              "    <tr>\n",
              "      <th>103</th>\n",
              "      <td>FXS</td>\n",
              "      <td>IDA countries classified as fragile situations...</td>\n",
              "      <td>Aggregates</td>\n",
              "      <td>NA</td>\n",
              "      <td>Aggregates</td>\n",
              "    </tr>\n",
              "    <tr>\n",
              "      <th>119</th>\n",
              "      <td>HIC</td>\n",
              "      <td>High income</td>\n",
              "      <td>Aggregates</td>\n",
              "      <td>NA</td>\n",
              "      <td>Aggregates</td>\n",
              "    </tr>\n",
              "    <tr>\n",
              "      <th>126</th>\n",
              "      <td>IBB</td>\n",
              "      <td>IBRD, including blend</td>\n",
              "      <td>Aggregates</td>\n",
              "      <td>NA</td>\n",
              "      <td>Aggregates</td>\n",
              "    </tr>\n",
              "    <tr>\n",
              "      <th>135</th>\n",
              "      <td>INX</td>\n",
              "      <td>Not classified</td>\n",
              "      <td>Aggregates</td>\n",
              "      <td>NA</td>\n",
              "      <td>Aggregates</td>\n",
              "    </tr>\n",
              "    <tr>\n",
              "      <th>160</th>\n",
              "      <td>LCR</td>\n",
              "      <td>Latin America and the Caribbean</td>\n",
              "      <td>Aggregates</td>\n",
              "      <td>NA</td>\n",
              "      <td>Aggregates</td>\n",
              "    </tr>\n",
              "    <tr>\n",
              "      <th>162</th>\n",
              "      <td>LIC</td>\n",
              "      <td>Low income</td>\n",
              "      <td>Aggregates</td>\n",
              "      <td>NA</td>\n",
              "      <td>Aggregates</td>\n",
              "    </tr>\n",
              "    <tr>\n",
              "      <th>165</th>\n",
              "      <td>LMC</td>\n",
              "      <td>Lower middle income</td>\n",
              "      <td>Aggregates</td>\n",
              "      <td>NA</td>\n",
              "      <td>Aggregates</td>\n",
              "    </tr>\n",
              "    <tr>\n",
              "      <th>175</th>\n",
              "      <td>MCA</td>\n",
              "      <td>Central America</td>\n",
              "      <td>Aggregates</td>\n",
              "      <td>NA</td>\n",
              "      <td>Aggregates</td>\n",
              "    </tr>\n",
              "    <tr>\n",
              "      <th>178</th>\n",
              "      <td>MDE</td>\n",
              "      <td>Middle East (developing only)</td>\n",
              "      <td>Aggregates</td>\n",
              "      <td>NA</td>\n",
              "      <td>Aggregates</td>\n",
              "    </tr>\n",
              "    <tr>\n",
              "      <th>199</th>\n",
              "      <td>NAF</td>\n",
              "      <td>North Africa</td>\n",
              "      <td>Aggregates</td>\n",
              "      <td>NA</td>\n",
              "      <td>Aggregates</td>\n",
              "    </tr>\n",
              "    <tr>\n",
              "      <th>206</th>\n",
              "      <td>NLS</td>\n",
              "      <td>Non-resource rich Sub-Saharan Africa countries...</td>\n",
              "      <td>Aggregates</td>\n",
              "      <td>NA</td>\n",
              "      <td>Aggregates</td>\n",
              "    </tr>\n",
              "    <tr>\n",
              "      <th>209</th>\n",
              "      <td>NRS</td>\n",
              "      <td>Non-resource rich Sub-Saharan Africa countries</td>\n",
              "      <td>Aggregates</td>\n",
              "      <td>NA</td>\n",
              "      <td>Aggregates</td>\n",
              "    </tr>\n",
              "    <tr>\n",
              "      <th>211</th>\n",
              "      <td>NXS</td>\n",
              "      <td>IDA countries not classified as fragile situat...</td>\n",
              "      <td>Aggregates</td>\n",
              "      <td>NA</td>\n",
              "      <td>Aggregates</td>\n",
              "    </tr>\n",
              "    <tr>\n",
              "      <th>234</th>\n",
              "      <td>RRS</td>\n",
              "      <td>Resource rich Sub-Saharan Africa countries</td>\n",
              "      <td>Aggregates</td>\n",
              "      <td>NA</td>\n",
              "      <td>Aggregates</td>\n",
              "    </tr>\n",
              "    <tr>\n",
              "      <th>235</th>\n",
              "      <td>RSO</td>\n",
              "      <td>Resource rich Sub-Saharan Africa countries, of...</td>\n",
              "      <td>Aggregates</td>\n",
              "      <td>NA</td>\n",
              "      <td>Aggregates</td>\n",
              "    </tr>\n",
              "    <tr>\n",
              "      <th>240</th>\n",
              "      <td>SCE</td>\n",
              "      <td>Southern Cone</td>\n",
              "      <td>Aggregates</td>\n",
              "      <td>NA</td>\n",
              "      <td>Aggregates</td>\n",
              "    </tr>\n",
              "    <tr>\n",
              "      <th>261</th>\n",
              "      <td>SXZ</td>\n",
              "      <td>Sub-Saharan Africa excluding South Africa</td>\n",
              "      <td>Aggregates</td>\n",
              "      <td>NA</td>\n",
              "      <td>Aggregates</td>\n",
              "    </tr>\n",
              "    <tr>\n",
              "      <th>282</th>\n",
              "      <td>TWN</td>\n",
              "      <td>Taiwan, China</td>\n",
              "      <td>East Asia &amp; Pacific</td>\n",
              "      <td>HIC</td>\n",
              "      <td>High income</td>\n",
              "    </tr>\n",
              "    <tr>\n",
              "      <th>286</th>\n",
              "      <td>UMC</td>\n",
              "      <td>Upper middle income</td>\n",
              "      <td>Aggregates</td>\n",
              "      <td>NA</td>\n",
              "      <td>Aggregates</td>\n",
              "    </tr>\n",
              "    <tr>\n",
              "      <th>299</th>\n",
              "      <td>XZN</td>\n",
              "      <td>Sub-Saharan Africa excluding South Africa and ...</td>\n",
              "      <td>Aggregates</td>\n",
              "      <td>NA</td>\n",
              "      <td>Aggregates</td>\n",
              "    </tr>\n",
              "  </tbody>\n",
              "</table>\n",
              "</div>"
            ],
            "text/plain": [
              "      id  ... incomeLevel.value\n",
              "2    AFR  ...        Aggregates\n",
              "6    ANR  ...        Aggregates\n",
              "17   BEA  ...        Aggregates\n",
              "18   BEC  ...        Aggregates\n",
              "24   BHI  ...        Aggregates\n",
              "28   BLA  ...        Aggregates\n",
              "31   BMN  ...        Aggregates\n",
              "37   BSS  ...        Aggregates\n",
              "40   CAA  ...        Aggregates\n",
              "43   CEA  ...        Aggregates\n",
              "45   CEU  ...        Aggregates\n",
              "51   CLA  ...        Aggregates\n",
              "52   CME  ...        Aggregates\n",
              "60   CSA  ...        Aggregates\n",
              "67   DEA  ...        Aggregates\n",
              "68   DEC  ...        Aggregates\n",
              "70   DFS  ...        Aggregates\n",
              "72   DLA  ...        Aggregates\n",
              "74   DMN  ...        Aggregates\n",
              "75   DNF  ...        Aggregates\n",
              "77   DNS  ...        Aggregates\n",
              "79   DSA  ...        Aggregates\n",
              "80   DSF  ...        Aggregates\n",
              "81   DSS  ...        Aggregates\n",
              "82   DXS  ...        Aggregates\n",
              "103  FXS  ...        Aggregates\n",
              "119  HIC  ...        Aggregates\n",
              "126  IBB  ...        Aggregates\n",
              "135  INX  ...        Aggregates\n",
              "160  LCR  ...        Aggregates\n",
              "162  LIC  ...        Aggregates\n",
              "165  LMC  ...        Aggregates\n",
              "175  MCA  ...        Aggregates\n",
              "178  MDE  ...        Aggregates\n",
              "199  NAF  ...        Aggregates\n",
              "206  NLS  ...        Aggregates\n",
              "209  NRS  ...        Aggregates\n",
              "211  NXS  ...        Aggregates\n",
              "234  RRS  ...        Aggregates\n",
              "235  RSO  ...        Aggregates\n",
              "240  SCE  ...        Aggregates\n",
              "261  SXZ  ...        Aggregates\n",
              "282  TWN  ...       High income\n",
              "286  UMC  ...        Aggregates\n",
              "299  XZN  ...        Aggregates\n",
              "\n",
              "[45 rows x 5 columns]"
            ]
          },
          "metadata": {
            "tags": []
          },
          "execution_count": 145
        }
      ]
    },
    {
      "cell_type": "code",
      "metadata": {
        "id": "Xu6h5Y4Cp5Tl",
        "outputId": "be4c6367-f3bb-4dd4-d09d-75405e2f307e",
        "colab": {
          "base_uri": "https://localhost:8080/",
          "height": 424
        }
      },
      "source": [
        "GDP_raw_df"
      ],
      "execution_count": null,
      "outputs": [
        {
          "output_type": "execute_result",
          "data": {
            "text/html": [
              "<div>\n",
              "<style scoped>\n",
              "    .dataframe tbody tr th:only-of-type {\n",
              "        vertical-align: middle;\n",
              "    }\n",
              "\n",
              "    .dataframe tbody tr th {\n",
              "        vertical-align: top;\n",
              "    }\n",
              "\n",
              "    .dataframe thead th {\n",
              "        text-align: right;\n",
              "    }\n",
              "</style>\n",
              "<table border=\"1\" class=\"dataframe\">\n",
              "  <thead>\n",
              "    <tr style=\"text-align: right;\">\n",
              "      <th></th>\n",
              "      <th>date</th>\n",
              "      <th>countryiso3code</th>\n",
              "      <th>value</th>\n",
              "      <th>indicator.value</th>\n",
              "      <th>country.value</th>\n",
              "    </tr>\n",
              "  </thead>\n",
              "  <tbody>\n",
              "    <tr>\n",
              "      <th>0</th>\n",
              "      <td>2019</td>\n",
              "      <td>ARB</td>\n",
              "      <td>2.815410e+12</td>\n",
              "      <td>GDP (current US$)</td>\n",
              "      <td>Arab World</td>\n",
              "    </tr>\n",
              "    <tr>\n",
              "      <th>1</th>\n",
              "      <td>2019</td>\n",
              "      <td>CSS</td>\n",
              "      <td>7.629037e+10</td>\n",
              "      <td>GDP (current US$)</td>\n",
              "      <td>Caribbean small states</td>\n",
              "    </tr>\n",
              "    <tr>\n",
              "      <th>2</th>\n",
              "      <td>2019</td>\n",
              "      <td>CEB</td>\n",
              "      <td>1.656929e+12</td>\n",
              "      <td>GDP (current US$)</td>\n",
              "      <td>Central Europe and the Baltics</td>\n",
              "    </tr>\n",
              "    <tr>\n",
              "      <th>3</th>\n",
              "      <td>2019</td>\n",
              "      <td>EAR</td>\n",
              "      <td>1.198157e+13</td>\n",
              "      <td>GDP (current US$)</td>\n",
              "      <td>Early-demographic dividend</td>\n",
              "    </tr>\n",
              "    <tr>\n",
              "      <th>4</th>\n",
              "      <td>2019</td>\n",
              "      <td>EAS</td>\n",
              "      <td>2.697981e+13</td>\n",
              "      <td>GDP (current US$)</td>\n",
              "      <td>East Asia &amp; Pacific</td>\n",
              "    </tr>\n",
              "    <tr>\n",
              "      <th>...</th>\n",
              "      <td>...</td>\n",
              "      <td>...</td>\n",
              "      <td>...</td>\n",
              "      <td>...</td>\n",
              "      <td>...</td>\n",
              "    </tr>\n",
              "    <tr>\n",
              "      <th>259</th>\n",
              "      <td>2019</td>\n",
              "      <td>VIR</td>\n",
              "      <td>NaN</td>\n",
              "      <td>GDP (current US$)</td>\n",
              "      <td>Virgin Islands (U.S.)</td>\n",
              "    </tr>\n",
              "    <tr>\n",
              "      <th>260</th>\n",
              "      <td>2019</td>\n",
              "      <td>PSE</td>\n",
              "      <td>NaN</td>\n",
              "      <td>GDP (current US$)</td>\n",
              "      <td>West Bank and Gaza</td>\n",
              "    </tr>\n",
              "    <tr>\n",
              "      <th>261</th>\n",
              "      <td>2019</td>\n",
              "      <td>YEM</td>\n",
              "      <td>NaN</td>\n",
              "      <td>GDP (current US$)</td>\n",
              "      <td>Yemen, Rep.</td>\n",
              "    </tr>\n",
              "    <tr>\n",
              "      <th>262</th>\n",
              "      <td>2019</td>\n",
              "      <td>ZMB</td>\n",
              "      <td>2.306472e+10</td>\n",
              "      <td>GDP (current US$)</td>\n",
              "      <td>Zambia</td>\n",
              "    </tr>\n",
              "    <tr>\n",
              "      <th>263</th>\n",
              "      <td>2019</td>\n",
              "      <td>ZWE</td>\n",
              "      <td>2.144076e+10</td>\n",
              "      <td>GDP (current US$)</td>\n",
              "      <td>Zimbabwe</td>\n",
              "    </tr>\n",
              "  </tbody>\n",
              "</table>\n",
              "<p>259 rows × 5 columns</p>\n",
              "</div>"
            ],
            "text/plain": [
              "     date countryiso3code  ...    indicator.value                   country.value\n",
              "0    2019             ARB  ...  GDP (current US$)                      Arab World\n",
              "1    2019             CSS  ...  GDP (current US$)          Caribbean small states\n",
              "2    2019             CEB  ...  GDP (current US$)  Central Europe and the Baltics\n",
              "3    2019             EAR  ...  GDP (current US$)      Early-demographic dividend\n",
              "4    2019             EAS  ...  GDP (current US$)             East Asia & Pacific\n",
              "..    ...             ...  ...                ...                             ...\n",
              "259  2019             VIR  ...  GDP (current US$)           Virgin Islands (U.S.)\n",
              "260  2019             PSE  ...  GDP (current US$)              West Bank and Gaza\n",
              "261  2019             YEM  ...  GDP (current US$)                     Yemen, Rep.\n",
              "262  2019             ZMB  ...  GDP (current US$)                          Zambia\n",
              "263  2019             ZWE  ...  GDP (current US$)                        Zimbabwe\n",
              "\n",
              "[259 rows x 5 columns]"
            ]
          },
          "metadata": {
            "tags": []
          },
          "execution_count": 146
        }
      ]
    },
    {
      "cell_type": "code",
      "metadata": {
        "id": "JXjcc8Dtp5Tm"
      },
      "source": [
        "# it looks like the values from country "
      ],
      "execution_count": null,
      "outputs": []
    },
    {
      "cell_type": "code",
      "metadata": {
        "id": "xyr7sIW-q7Rm"
      },
      "source": [
        ""
      ],
      "execution_count": null,
      "outputs": []
    },
    {
      "cell_type": "markdown",
      "metadata": {
        "id": "dGtCu3BAq-b6"
      },
      "source": [
        "#Descriptive Statistics\n"
      ]
    },
    {
      "cell_type": "code",
      "metadata": {
        "id": "2x5ZZVVIrGbh"
      },
      "source": [
        "\n",
        "import scipy.stats as stats\n",
        "import time\n",
        "from IPython.display import clear_output"
      ],
      "execution_count": null,
      "outputs": []
    },
    {
      "cell_type": "code",
      "metadata": {
        "id": "mlYkYKUWrhO2",
        "outputId": "9fa58a3b-6a19-4364-cb54-c5a50e3c59de",
        "colab": {
          "base_uri": "https://localhost:8080/",
          "height": 470
        }
      },
      "source": [
        "plot1= my_complete_df.plot(x =\"StringencyIndex\", y = \"Active\", kind =\"scatter\", c=\"c\")\n",
        "plt.plot(StringencyIndex, intercept + slope*StringencyIndex, \"b\", label=\"fitted\")\n",
        "plt.show"
      ],
      "execution_count": null,
      "outputs": [
        {
          "output_type": "error",
          "ename": "NameError",
          "evalue": "ignored",
          "traceback": [
            "\u001b[0;31m---------------------------------------------------------------------------\u001b[0m",
            "\u001b[0;31mNameError\u001b[0m                                 Traceback (most recent call last)",
            "\u001b[0;32m<ipython-input-62-3242cba5f745>\u001b[0m in \u001b[0;36m<module>\u001b[0;34m()\u001b[0m\n\u001b[1;32m      1\u001b[0m \u001b[0mplot1\u001b[0m\u001b[0;34m=\u001b[0m \u001b[0mmy_complete_df\u001b[0m\u001b[0;34m.\u001b[0m\u001b[0mplot\u001b[0m\u001b[0;34m(\u001b[0m\u001b[0mx\u001b[0m \u001b[0;34m=\u001b[0m\u001b[0;34m\"StringencyIndex\"\u001b[0m\u001b[0;34m,\u001b[0m \u001b[0my\u001b[0m \u001b[0;34m=\u001b[0m \u001b[0;34m\"Active\"\u001b[0m\u001b[0;34m,\u001b[0m \u001b[0mkind\u001b[0m \u001b[0;34m=\u001b[0m\u001b[0;34m\"scatter\"\u001b[0m\u001b[0;34m,\u001b[0m \u001b[0mc\u001b[0m\u001b[0;34m=\u001b[0m\u001b[0;34m\"c\"\u001b[0m\u001b[0;34m)\u001b[0m\u001b[0;34m\u001b[0m\u001b[0;34m\u001b[0m\u001b[0m\n\u001b[0;32m----> 2\u001b[0;31m \u001b[0mplt\u001b[0m\u001b[0;34m.\u001b[0m\u001b[0mplot\u001b[0m\u001b[0;34m(\u001b[0m\u001b[0mStringencyIndex\u001b[0m\u001b[0;34m,\u001b[0m \u001b[0mintercept\u001b[0m \u001b[0;34m+\u001b[0m \u001b[0mslope\u001b[0m\u001b[0;34m*\u001b[0m\u001b[0mStringencyIndex\u001b[0m\u001b[0;34m,\u001b[0m \u001b[0;34m\"b\"\u001b[0m\u001b[0;34m,\u001b[0m \u001b[0mlabel\u001b[0m\u001b[0;34m=\u001b[0m\u001b[0;34m\"fitted\"\u001b[0m\u001b[0;34m)\u001b[0m\u001b[0;34m\u001b[0m\u001b[0;34m\u001b[0m\u001b[0m\n\u001b[0m\u001b[1;32m      3\u001b[0m \u001b[0mplt\u001b[0m\u001b[0;34m.\u001b[0m\u001b[0mshow\u001b[0m\u001b[0;34m\u001b[0m\u001b[0;34m\u001b[0m\u001b[0m\n",
            "\u001b[0;31mNameError\u001b[0m: name 'StringencyIndex' is not defined"
          ]
        },
        {
          "output_type": "display_data",
          "data": {
            "image/png": "[encoded data removed]",
            "text/plain": [
              "<Figure size 432x288 with 1 Axes>"
            ]
          },
          "metadata": {
            "tags": [],
            "needs_background": "light"
          }
        }
      ]
    },
    {
      "cell_type": "code",
      "metadata": {
        "id": "A96e4G6lz9SK",
        "outputId": "b55b381e-54e6-4a3a-8734-b030bd881b74",
        "colab": {
          "base_uri": "https://localhost:8080/",
          "height": 419
        }
      },
      "source": [
        "my_complete_df[date_list[-1]].sort_values(ascending = False).head(10)"
      ],
      "execution_count": null,
      "outputs": [
        {
          "output_type": "execute_result",
          "data": {
            "text/html": [
              "<div>\n",
              "<style scoped>\n",
              "    .dataframe tbody tr th:only-of-type {\n",
              "        vertical-align: middle;\n",
              "    }\n",
              "\n",
              "    .dataframe tbody tr th {\n",
              "        vertical-align: top;\n",
              "    }\n",
              "\n",
              "    .dataframe thead th {\n",
              "        text-align: right;\n",
              "    }\n",
              "</style>\n",
              "<table border=\"1\" class=\"dataframe\">\n",
              "  <thead>\n",
              "    <tr style=\"text-align: right;\">\n",
              "      <th></th>\n",
              "      <th>Date</th>\n",
              "      <th>CountryCode</th>\n",
              "      <th>StringencyIndex</th>\n",
              "      <th>Country_Region</th>\n",
              "      <th>Population</th>\n",
              "      <th>Confirmed</th>\n",
              "      <th>Deaths</th>\n",
              "      <th>Recovered</th>\n",
              "      <th>Active</th>\n",
              "    </tr>\n",
              "  </thead>\n",
              "  <tbody>\n",
              "    <tr>\n",
              "      <th>0</th>\n",
              "      <td>2020-01-22</td>\n",
              "      <td>ABW</td>\n",
              "      <td>0.0</td>\n",
              "      <td>Netherlands</td>\n",
              "      <td>106766.0</td>\n",
              "      <td>0</td>\n",
              "      <td>0.0</td>\n",
              "      <td>0.0</td>\n",
              "      <td>0.0</td>\n",
              "    </tr>\n",
              "    <tr>\n",
              "      <th>1</th>\n",
              "      <td>2020-01-23</td>\n",
              "      <td>ABW</td>\n",
              "      <td>0.0</td>\n",
              "      <td>Netherlands</td>\n",
              "      <td>106766.0</td>\n",
              "      <td>0</td>\n",
              "      <td>0.0</td>\n",
              "      <td>0.0</td>\n",
              "      <td>0.0</td>\n",
              "    </tr>\n",
              "    <tr>\n",
              "      <th>2</th>\n",
              "      <td>2020-01-24</td>\n",
              "      <td>ABW</td>\n",
              "      <td>0.0</td>\n",
              "      <td>Netherlands</td>\n",
              "      <td>106766.0</td>\n",
              "      <td>0</td>\n",
              "      <td>0.0</td>\n",
              "      <td>0.0</td>\n",
              "      <td>0.0</td>\n",
              "    </tr>\n",
              "    <tr>\n",
              "      <th>3</th>\n",
              "      <td>2020-01-25</td>\n",
              "      <td>ABW</td>\n",
              "      <td>0.0</td>\n",
              "      <td>Netherlands</td>\n",
              "      <td>106766.0</td>\n",
              "      <td>0</td>\n",
              "      <td>0.0</td>\n",
              "      <td>0.0</td>\n",
              "      <td>0.0</td>\n",
              "    </tr>\n",
              "    <tr>\n",
              "      <th>4</th>\n",
              "      <td>2020-01-26</td>\n",
              "      <td>ABW</td>\n",
              "      <td>0.0</td>\n",
              "      <td>Netherlands</td>\n",
              "      <td>106766.0</td>\n",
              "      <td>0</td>\n",
              "      <td>0.0</td>\n",
              "      <td>0.0</td>\n",
              "      <td>0.0</td>\n",
              "    </tr>\n",
              "    <tr>\n",
              "      <th>...</th>\n",
              "      <td>...</td>\n",
              "      <td>...</td>\n",
              "      <td>...</td>\n",
              "      <td>...</td>\n",
              "      <td>...</td>\n",
              "      <td>...</td>\n",
              "      <td>...</td>\n",
              "      <td>...</td>\n",
              "      <td>...</td>\n",
              "    </tr>\n",
              "    <tr>\n",
              "      <th>60904</th>\n",
              "      <td>2020-09-30</td>\n",
              "      <td>ZWE</td>\n",
              "      <td>NaN</td>\n",
              "      <td>Zimbabwe</td>\n",
              "      <td>14862927.0</td>\n",
              "      <td>7838</td>\n",
              "      <td>228.0</td>\n",
              "      <td>6303.0</td>\n",
              "      <td>1307.0</td>\n",
              "    </tr>\n",
              "    <tr>\n",
              "      <th>60905</th>\n",
              "      <td>2020-10-01</td>\n",
              "      <td>ZWE</td>\n",
              "      <td>NaN</td>\n",
              "      <td>Zimbabwe</td>\n",
              "      <td>14862927.0</td>\n",
              "      <td>7850</td>\n",
              "      <td>228.0</td>\n",
              "      <td>6312.0</td>\n",
              "      <td>1310.0</td>\n",
              "    </tr>\n",
              "    <tr>\n",
              "      <th>60906</th>\n",
              "      <td>2020-10-02</td>\n",
              "      <td>ZWE</td>\n",
              "      <td>NaN</td>\n",
              "      <td>Zimbabwe</td>\n",
              "      <td>14862927.0</td>\n",
              "      <td>7858</td>\n",
              "      <td>228.0</td>\n",
              "      <td>6322.0</td>\n",
              "      <td>1308.0</td>\n",
              "    </tr>\n",
              "    <tr>\n",
              "      <th>60907</th>\n",
              "      <td>2020-10-03</td>\n",
              "      <td>ZWE</td>\n",
              "      <td>NaN</td>\n",
              "      <td>Zimbabwe</td>\n",
              "      <td>14862927.0</td>\n",
              "      <td>7885</td>\n",
              "      <td>228.0</td>\n",
              "      <td>6327.0</td>\n",
              "      <td>1330.0</td>\n",
              "    </tr>\n",
              "    <tr>\n",
              "      <th>60908</th>\n",
              "      <td>2020-10-04</td>\n",
              "      <td>ZWE</td>\n",
              "      <td>NaN</td>\n",
              "      <td>Zimbabwe</td>\n",
              "      <td>14862927.0</td>\n",
              "      <td>7888</td>\n",
              "      <td>228.0</td>\n",
              "      <td>6359.0</td>\n",
              "      <td>1301.0</td>\n",
              "    </tr>\n",
              "  </tbody>\n",
              "</table>\n",
              "<p>60909 rows × 9 columns</p>\n",
              "</div>"
            ],
            "text/plain": [
              "            Date CountryCode  StringencyIndex  ... Deaths  Recovered  Active\n",
              "0     2020-01-22         ABW              0.0  ...    0.0        0.0     0.0\n",
              "1     2020-01-23         ABW              0.0  ...    0.0        0.0     0.0\n",
              "2     2020-01-24         ABW              0.0  ...    0.0        0.0     0.0\n",
              "3     2020-01-25         ABW              0.0  ...    0.0        0.0     0.0\n",
              "4     2020-01-26         ABW              0.0  ...    0.0        0.0     0.0\n",
              "...          ...         ...              ...  ...    ...        ...     ...\n",
              "60904 2020-09-30         ZWE              NaN  ...  228.0     6303.0  1307.0\n",
              "60905 2020-10-01         ZWE              NaN  ...  228.0     6312.0  1310.0\n",
              "60906 2020-10-02         ZWE              NaN  ...  228.0     6322.0  1308.0\n",
              "60907 2020-10-03         ZWE              NaN  ...  228.0     6327.0  1330.0\n",
              "60908 2020-10-04         ZWE              NaN  ...  228.0     6359.0  1301.0\n",
              "\n",
              "[60909 rows x 9 columns]"
            ]
          },
          "metadata": {
            "tags": []
          },
          "execution_count": 67
        }
      ]
    },
    {
      "cell_type": "code",
      "metadata": {
        "id": "ipyDsZNz1V1q",
        "outputId": "3cf84836-af3b-484e-876e-bcfe8d8af402",
        "colab": {
          "base_uri": "https://localhost:8080/",
          "height": 34
        }
      },
      "source": [
        "world_confirmed_ts_df[['Country/Region', date_list[-1]]].sort_values(by = date_list[-1], ascending = False).head(10)"
      ],
      "execution_count": null,
      "outputs": [
        {
          "output_type": "execute_result",
          "data": {
            "text/plain": [
              "('1/22/20', '10/4/20')"
            ]
          },
          "metadata": {
            "tags": []
          },
          "execution_count": 71
        }
      ]
    },
    {
      "cell_type": "code",
      "metadata": {
        "id": "afl49vl33n1v",
        "outputId": "2e4e82d1-7f67-4136-841e-746959d4a794",
        "colab": {
          "base_uri": "https://localhost:8080/",
          "height": 359
        }
      },
      "source": [
        "#confirmed_df_long.sort_values(by = \"Date\", ascending = False).head(10)\n",
        "confirmed_df_long[['Country/Region', \"Confirmed\"]].sort_values(by = \"Confirmed\", ascending = False).head(10)"
      ],
      "execution_count": null,
      "outputs": [
        {
          "output_type": "execute_result",
          "data": {
            "text/html": [
              "<div>\n",
              "<style scoped>\n",
              "    .dataframe tbody tr th:only-of-type {\n",
              "        vertical-align: middle;\n",
              "    }\n",
              "\n",
              "    .dataframe tbody tr th {\n",
              "        vertical-align: top;\n",
              "    }\n",
              "\n",
              "    .dataframe thead th {\n",
              "        text-align: right;\n",
              "    }\n",
              "</style>\n",
              "<table border=\"1\" class=\"dataframe\">\n",
              "  <thead>\n",
              "    <tr style=\"text-align: right;\">\n",
              "      <th></th>\n",
              "      <th>Country/Region</th>\n",
              "      <th>Confirmed</th>\n",
              "    </tr>\n",
              "  </thead>\n",
              "  <tbody>\n",
              "    <tr>\n",
              "      <th>68338</th>\n",
              "      <td>US</td>\n",
              "      <td>7417845</td>\n",
              "    </tr>\n",
              "    <tr>\n",
              "      <th>68072</th>\n",
              "      <td>US</td>\n",
              "      <td>7382341</td>\n",
              "    </tr>\n",
              "    <tr>\n",
              "      <th>67806</th>\n",
              "      <td>US</td>\n",
              "      <td>7332297</td>\n",
              "    </tr>\n",
              "    <tr>\n",
              "      <th>67540</th>\n",
              "      <td>US</td>\n",
              "      <td>7277791</td>\n",
              "    </tr>\n",
              "    <tr>\n",
              "      <th>67274</th>\n",
              "      <td>US</td>\n",
              "      <td>7233042</td>\n",
              "    </tr>\n",
              "    <tr>\n",
              "      <th>67008</th>\n",
              "      <td>US</td>\n",
              "      <td>7191637</td>\n",
              "    </tr>\n",
              "    <tr>\n",
              "      <th>66742</th>\n",
              "      <td>US</td>\n",
              "      <td>7149537</td>\n",
              "    </tr>\n",
              "    <tr>\n",
              "      <th>66476</th>\n",
              "      <td>US</td>\n",
              "      <td>7116225</td>\n",
              "    </tr>\n",
              "    <tr>\n",
              "      <th>66210</th>\n",
              "      <td>US</td>\n",
              "      <td>7079803</td>\n",
              "    </tr>\n",
              "    <tr>\n",
              "      <th>65944</th>\n",
              "      <td>US</td>\n",
              "      <td>7034931</td>\n",
              "    </tr>\n",
              "  </tbody>\n",
              "</table>\n",
              "</div>"
            ],
            "text/plain": [
              "      Country/Region  Confirmed\n",
              "68338             US    7417845\n",
              "68072             US    7382341\n",
              "67806             US    7332297\n",
              "67540             US    7277791\n",
              "67274             US    7233042\n",
              "67008             US    7191637\n",
              "66742             US    7149537\n",
              "66476             US    7116225\n",
              "66210             US    7079803\n",
              "65944             US    7034931"
            ]
          },
          "metadata": {
            "tags": []
          },
          "execution_count": 84
        }
      ]
    },
    {
      "cell_type": "code",
      "metadata": {
        "id": "Uci_1rVd5rZq",
        "outputId": "2cf5eb35-79ba-4158-9768-71a87a58ba94",
        "colab": {
          "base_uri": "https://localhost:8080/",
          "height": 419
        }
      },
      "source": [
        "### Analysis\n",
        "confirmed_df_long"
      ],
      "execution_count": null,
      "outputs": [
        {
          "output_type": "execute_result",
          "data": {
            "text/html": [
              "<div>\n",
              "<style scoped>\n",
              "    .dataframe tbody tr th:only-of-type {\n",
              "        vertical-align: middle;\n",
              "    }\n",
              "\n",
              "    .dataframe tbody tr th {\n",
              "        vertical-align: top;\n",
              "    }\n",
              "\n",
              "    .dataframe thead th {\n",
              "        text-align: right;\n",
              "    }\n",
              "</style>\n",
              "<table border=\"1\" class=\"dataframe\">\n",
              "  <thead>\n",
              "    <tr style=\"text-align: right;\">\n",
              "      <th></th>\n",
              "      <th>Province/State</th>\n",
              "      <th>Country/Region</th>\n",
              "      <th>Lat</th>\n",
              "      <th>Long</th>\n",
              "      <th>Date</th>\n",
              "      <th>Confirmed</th>\n",
              "    </tr>\n",
              "  </thead>\n",
              "  <tbody>\n",
              "    <tr>\n",
              "      <th>0</th>\n",
              "      <td>NaN</td>\n",
              "      <td>Afghanistan</td>\n",
              "      <td>33.939110</td>\n",
              "      <td>67.709953</td>\n",
              "      <td>1/22/20</td>\n",
              "      <td>0</td>\n",
              "    </tr>\n",
              "    <tr>\n",
              "      <th>1</th>\n",
              "      <td>NaN</td>\n",
              "      <td>Albania</td>\n",
              "      <td>41.153300</td>\n",
              "      <td>20.168300</td>\n",
              "      <td>1/22/20</td>\n",
              "      <td>0</td>\n",
              "    </tr>\n",
              "    <tr>\n",
              "      <th>2</th>\n",
              "      <td>NaN</td>\n",
              "      <td>Algeria</td>\n",
              "      <td>28.033900</td>\n",
              "      <td>1.659600</td>\n",
              "      <td>1/22/20</td>\n",
              "      <td>0</td>\n",
              "    </tr>\n",
              "    <tr>\n",
              "      <th>3</th>\n",
              "      <td>NaN</td>\n",
              "      <td>Andorra</td>\n",
              "      <td>42.506300</td>\n",
              "      <td>1.521800</td>\n",
              "      <td>1/22/20</td>\n",
              "      <td>0</td>\n",
              "    </tr>\n",
              "    <tr>\n",
              "      <th>4</th>\n",
              "      <td>NaN</td>\n",
              "      <td>Angola</td>\n",
              "      <td>-11.202700</td>\n",
              "      <td>17.873900</td>\n",
              "      <td>1/22/20</td>\n",
              "      <td>0</td>\n",
              "    </tr>\n",
              "    <tr>\n",
              "      <th>...</th>\n",
              "      <td>...</td>\n",
              "      <td>...</td>\n",
              "      <td>...</td>\n",
              "      <td>...</td>\n",
              "      <td>...</td>\n",
              "      <td>...</td>\n",
              "    </tr>\n",
              "    <tr>\n",
              "      <th>68357</th>\n",
              "      <td>NaN</td>\n",
              "      <td>West Bank and Gaza</td>\n",
              "      <td>31.952200</td>\n",
              "      <td>35.233200</td>\n",
              "      <td>10/4/20</td>\n",
              "      <td>41498</td>\n",
              "    </tr>\n",
              "    <tr>\n",
              "      <th>68358</th>\n",
              "      <td>NaN</td>\n",
              "      <td>Western Sahara</td>\n",
              "      <td>24.215500</td>\n",
              "      <td>-12.885800</td>\n",
              "      <td>10/4/20</td>\n",
              "      <td>10</td>\n",
              "    </tr>\n",
              "    <tr>\n",
              "      <th>68359</th>\n",
              "      <td>NaN</td>\n",
              "      <td>Yemen</td>\n",
              "      <td>15.552727</td>\n",
              "      <td>48.516388</td>\n",
              "      <td>10/4/20</td>\n",
              "      <td>2041</td>\n",
              "    </tr>\n",
              "    <tr>\n",
              "      <th>68360</th>\n",
              "      <td>NaN</td>\n",
              "      <td>Zambia</td>\n",
              "      <td>-13.133897</td>\n",
              "      <td>27.849332</td>\n",
              "      <td>10/4/20</td>\n",
              "      <td>15052</td>\n",
              "    </tr>\n",
              "    <tr>\n",
              "      <th>68361</th>\n",
              "      <td>NaN</td>\n",
              "      <td>Zimbabwe</td>\n",
              "      <td>-19.015438</td>\n",
              "      <td>29.154857</td>\n",
              "      <td>10/4/20</td>\n",
              "      <td>7888</td>\n",
              "    </tr>\n",
              "  </tbody>\n",
              "</table>\n",
              "<p>68362 rows × 6 columns</p>\n",
              "</div>"
            ],
            "text/plain": [
              "      Province/State      Country/Region  ...     Date  Confirmed\n",
              "0                NaN         Afghanistan  ...  1/22/20          0\n",
              "1                NaN             Albania  ...  1/22/20          0\n",
              "2                NaN             Algeria  ...  1/22/20          0\n",
              "3                NaN             Andorra  ...  1/22/20          0\n",
              "4                NaN              Angola  ...  1/22/20          0\n",
              "...              ...                 ...  ...      ...        ...\n",
              "68357            NaN  West Bank and Gaza  ...  10/4/20      41498\n",
              "68358            NaN      Western Sahara  ...  10/4/20         10\n",
              "68359            NaN               Yemen  ...  10/4/20       2041\n",
              "68360            NaN              Zambia  ...  10/4/20      15052\n",
              "68361            NaN            Zimbabwe  ...  10/4/20       7888\n",
              "\n",
              "[68362 rows x 6 columns]"
            ]
          },
          "metadata": {
            "tags": []
          },
          "execution_count": 82
        }
      ]
    },
    {
      "cell_type": "code",
      "metadata": {
        "id": "WRRcY-T2APls",
        "outputId": "3e02e20e-d0dd-47bf-deca-5b324bd77ae5",
        "colab": {
          "base_uri": "https://localhost:8080/",
          "height": 34
        }
      },
      "source": [
        "date_list = confirmed_df.columns.tolist()[4:]\n",
        "date_list[0], date_list[-1]"
      ],
      "execution_count": null,
      "outputs": [
        {
          "output_type": "execute_result",
          "data": {
            "text/plain": [
              "('1/22/20', '10/5/20')"
            ]
          },
          "metadata": {
            "tags": []
          },
          "execution_count": 11
        }
      ]
    },
    {
      "cell_type": "code",
      "metadata": {
        "id": "H8uXUmOvCS2c",
        "outputId": "88d631a1-33f9-4584-e0ec-3bf3eaf2ec14",
        "colab": {
          "base_uri": "https://localhost:8080/",
          "height": 119
        }
      },
      "source": [
        "confirmed_df.columns"
      ],
      "execution_count": null,
      "outputs": [
        {
          "output_type": "execute_result",
          "data": {
            "text/plain": [
              "Index(['Province/State', 'Country/Region', 'Lat', 'Long', '1/22/20', '1/23/20',\n",
              "       '1/24/20', '1/25/20', '1/26/20', '1/27/20',\n",
              "       ...\n",
              "       '9/26/20', '9/27/20', '9/28/20', '9/29/20', '9/30/20', '10/1/20',\n",
              "       '10/2/20', '10/3/20', '10/4/20', '10/5/20'],\n",
              "      dtype='object', length=262)"
            ]
          },
          "metadata": {
            "tags": []
          },
          "execution_count": 13
        }
      ]
    },
    {
      "cell_type": "code",
      "metadata": {
        "id": "9rnfvCpjBD1U",
        "outputId": "ea1a5bc3-56a3-48ef-914c-a52c6c30e823",
        "colab": {
          "base_uri": "https://localhost:8080/",
          "height": 98
        }
      },
      "source": [
        "confirmed_df[confirmed_df['Country_Region'].duplicated()]\n",
        "#confirmed_df.rename(columns = {'Country/Region' : 'Country_Region'}, inplace = True)\n",
        "#confirmed_df.rename(columns = {'Province/State' : 'Province_State'}, inplace = True)\n",
        "#confirmed_df.Country_Region.unique()"
      ],
      "execution_count": null,
      "outputs": [
        {
          "output_type": "execute_result",
          "data": {
            "text/html": [
              "<div>\n",
              "<style scoped>\n",
              "    .dataframe tbody tr th:only-of-type {\n",
              "        vertical-align: middle;\n",
              "    }\n",
              "\n",
              "    .dataframe tbody tr th {\n",
              "        vertical-align: top;\n",
              "    }\n",
              "\n",
              "    .dataframe thead th {\n",
              "        text-align: right;\n",
              "    }\n",
              "</style>\n",
              "<table border=\"1\" class=\"dataframe\">\n",
              "  <thead>\n",
              "    <tr style=\"text-align: right;\">\n",
              "      <th></th>\n",
              "      <th>Province_State</th>\n",
              "      <th>Country_Region</th>\n",
              "      <th>Lat</th>\n",
              "      <th>Long</th>\n",
              "      <th>1/22/20</th>\n",
              "      <th>1/23/20</th>\n",
              "      <th>1/24/20</th>\n",
              "      <th>1/25/20</th>\n",
              "      <th>1/26/20</th>\n",
              "      <th>1/27/20</th>\n",
              "      <th>1/28/20</th>\n",
              "      <th>1/29/20</th>\n",
              "      <th>1/30/20</th>\n",
              "      <th>1/31/20</th>\n",
              "      <th>2/1/20</th>\n",
              "      <th>2/2/20</th>\n",
              "      <th>2/3/20</th>\n",
              "      <th>2/4/20</th>\n",
              "      <th>2/5/20</th>\n",
              "      <th>2/6/20</th>\n",
              "      <th>2/7/20</th>\n",
              "      <th>2/8/20</th>\n",
              "      <th>2/9/20</th>\n",
              "      <th>2/10/20</th>\n",
              "      <th>2/11/20</th>\n",
              "      <th>2/12/20</th>\n",
              "      <th>2/13/20</th>\n",
              "      <th>2/14/20</th>\n",
              "      <th>2/15/20</th>\n",
              "      <th>2/16/20</th>\n",
              "      <th>2/17/20</th>\n",
              "      <th>2/18/20</th>\n",
              "      <th>2/19/20</th>\n",
              "      <th>2/20/20</th>\n",
              "      <th>2/21/20</th>\n",
              "      <th>2/22/20</th>\n",
              "      <th>2/23/20</th>\n",
              "      <th>2/24/20</th>\n",
              "      <th>2/25/20</th>\n",
              "      <th>2/26/20</th>\n",
              "      <th>...</th>\n",
              "      <th>8/27/20</th>\n",
              "      <th>8/28/20</th>\n",
              "      <th>8/29/20</th>\n",
              "      <th>8/30/20</th>\n",
              "      <th>8/31/20</th>\n",
              "      <th>9/1/20</th>\n",
              "      <th>9/2/20</th>\n",
              "      <th>9/3/20</th>\n",
              "      <th>9/4/20</th>\n",
              "      <th>9/5/20</th>\n",
              "      <th>9/6/20</th>\n",
              "      <th>9/7/20</th>\n",
              "      <th>9/8/20</th>\n",
              "      <th>9/9/20</th>\n",
              "      <th>9/10/20</th>\n",
              "      <th>9/11/20</th>\n",
              "      <th>9/12/20</th>\n",
              "      <th>9/13/20</th>\n",
              "      <th>9/14/20</th>\n",
              "      <th>9/15/20</th>\n",
              "      <th>9/16/20</th>\n",
              "      <th>9/17/20</th>\n",
              "      <th>9/18/20</th>\n",
              "      <th>9/19/20</th>\n",
              "      <th>9/20/20</th>\n",
              "      <th>9/21/20</th>\n",
              "      <th>9/22/20</th>\n",
              "      <th>9/23/20</th>\n",
              "      <th>9/24/20</th>\n",
              "      <th>9/25/20</th>\n",
              "      <th>9/26/20</th>\n",
              "      <th>9/27/20</th>\n",
              "      <th>9/28/20</th>\n",
              "      <th>9/29/20</th>\n",
              "      <th>9/30/20</th>\n",
              "      <th>10/1/20</th>\n",
              "      <th>10/2/20</th>\n",
              "      <th>10/3/20</th>\n",
              "      <th>10/4/20</th>\n",
              "      <th>10/5/20</th>\n",
              "    </tr>\n",
              "  </thead>\n",
              "  <tbody>\n",
              "  </tbody>\n",
              "</table>\n",
              "<p>0 rows × 262 columns</p>\n",
              "</div>"
            ],
            "text/plain": [
              "Empty DataFrame\n",
              "Columns: [Province_State, Country_Region, Lat, Long, 1/22/20, 1/23/20, 1/24/20, 1/25/20, 1/26/20, 1/27/20, 1/28/20, 1/29/20, 1/30/20, 1/31/20, 2/1/20, 2/2/20, 2/3/20, 2/4/20, 2/5/20, 2/6/20, 2/7/20, 2/8/20, 2/9/20, 2/10/20, 2/11/20, 2/12/20, 2/13/20, 2/14/20, 2/15/20, 2/16/20, 2/17/20, 2/18/20, 2/19/20, 2/20/20, 2/21/20, 2/22/20, 2/23/20, 2/24/20, 2/25/20, 2/26/20, 2/27/20, 2/28/20, 2/29/20, 3/1/20, 3/2/20, 3/3/20, 3/4/20, 3/5/20, 3/6/20, 3/7/20, 3/8/20, 3/9/20, 3/10/20, 3/11/20, 3/12/20, 3/13/20, 3/14/20, 3/15/20, 3/16/20, 3/17/20, 3/18/20, 3/19/20, 3/20/20, 3/21/20, 3/22/20, 3/23/20, 3/24/20, 3/25/20, 3/26/20, 3/27/20, 3/28/20, 3/29/20, 3/30/20, 3/31/20, 4/1/20, 4/2/20, 4/3/20, 4/4/20, 4/5/20, 4/6/20, 4/7/20, 4/8/20, 4/9/20, 4/10/20, 4/11/20, 4/12/20, 4/13/20, 4/14/20, 4/15/20, 4/16/20, 4/17/20, 4/18/20, 4/19/20, 4/20/20, 4/21/20, 4/22/20, 4/23/20, 4/24/20, 4/25/20, 4/26/20, ...]\n",
              "Index: []\n",
              "\n",
              "[0 rows x 262 columns]"
            ]
          },
          "metadata": {
            "tags": []
          },
          "execution_count": 38
        }
      ]
    },
    {
      "cell_type": "code",
      "metadata": {
        "id": "lOfUY-qCB0cW"
      },
      "source": [
        "def sum_all_admins_in_state(df, state):\n",
        "    \n",
        "    # query all sub-records of the selected state\n",
        "    tmp_df = df[df[\"Country_Region\"]==state]\n",
        "    \n",
        "    # create a new row which is to sum all statistics of this state, and \n",
        "    # assign the summed value of all sub-records to the date_time column of the new row\n",
        "    sum_row = tmp_df.sum(axis=0)\n",
        "    \n",
        "    # assign the constants to the ['Province/State', 'Country/Region', 'Lat', 'Long'] columns; \n",
        "    # note that the Province/State column will be renamed from solely the country name to country name + \", Sum\".\n",
        "    sum_row.loc['Province_State'] = \"NaN\"\n",
        "    sum_row.loc['Country_Region'] = state + \", Sum\"\n",
        "    sum_row.loc['Lat'] = tmp_df['Lat'].values[0]\n",
        "    sum_row.loc['Long'] = tmp_df['Long'].values[0]\n",
        "    \n",
        "    # append the new row to the original DataFrame, and \n",
        "    # remove the sub-records of the selected country.\n",
        "    df = pd.concat([df, sum_row.to_frame().T], ignore_index=True)\n",
        "    #display(df[df[\"Province_State\"].str.contains(state + \", Sum\")])\n",
        "    df=df[df['Country_Region'] != state]\n",
        "    df.loc[df.Country_Region == state+\", Sum\", 'Country_Region'] = state\n",
        "    \n",
        "    return df"
      ],
      "execution_count": null,
      "outputs": []
    },
    {
      "cell_type": "code",
      "metadata": {
        "id": "wITn0hS6DASY"
      },
      "source": [
        "# loop thru all states in the U.S.\n",
        "for state in confirmed_df.Country_Region.unique():\n",
        "    confirmed_df = sum_all_admins_in_state(confirmed_df, state)"
      ],
      "execution_count": null,
      "outputs": []
    },
    {
      "cell_type": "code",
      "metadata": {
        "id": "j61NsZK_Gk2E"
      },
      "source": [
        "confirmed_df.sort_values(by = date_list[-1], ascending = False).head(10)"
      ],
      "execution_count": null,
      "outputs": []
    },
    {
      "cell_type": "code",
      "metadata": {
        "id": "sAzMf7sbJy3s"
      },
      "source": [
        "world_confirmed_ts_url = 'https://raw.githubusercontent.com/CSSEGISandData/COVID-19/master/csse_covid_19_data/csse_covid_19_time_series/time_series_covid19_confirmed_global.csv'"
      ],
      "execution_count": null,
      "outputs": []
    },
    {
      "cell_type": "code",
      "metadata": {
        "id": "aQ5bZa1pKcd7"
      },
      "source": [
        "pip install arcgis\n",
        "from arcgis.gis import GIS\n",
        "#gis = GIS('home', verify_cert=False)"
      ],
      "execution_count": null,
      "outputs": []
    },
    {
      "cell_type": "code",
      "metadata": {
        "id": "LAIOHyfvJNSz"
      },
      "source": [
        "time.sleep(3)\n",
        "for d in date_list:\n",
        "    clear_output(wait=True)\n",
        "    top_20_per_d = world_confirmed_ts_df.groupby('Country/Region')[['Country/Region', d]].sum().sort_values(by=d, ascending=False).head(20)\n",
        "    top_20_per_d.plot(kind='barh', log=True, figsize=(8,6))\n",
        "    plt.ylabel(\"Country/Region\", labelpad=14)\n",
        "    plt.xlabel(\"# of Confirmed Cases (log=True)\", labelpad=14)\n",
        "    plt.title(\"Chart the confirmed cases per country/region\", y=1.02)\n",
        "    plt.show()\n",
        "    time.sleep(1)"
      ],
      "execution_count": null,
      "outputs": []
    },
    {
      "cell_type": "code",
      "metadata": {
        "id": "I1zKU60KJSQk",
        "outputId": "8901206f-0b62-4198-b365-c57945589bbb",
        "colab": {
          "base_uri": "https://localhost:8080/",
          "height": 231
        }
      },
      "source": [
        "for d in date_list:\n",
        "    map1.clear_graphics()\n",
        "    map1.remove_layers()\n",
        "    map1.legend=False\n",
        "    \n",
        "    df = confirmed_df[['Country_Region', d]]\n",
        "    df.rename(columns={d: 'Confirmed'}, inplace=True)\n",
        "    fc = gis.content.import_data(df, \n",
        "                                 {\"CountryCode\":\"Country_Region\"},\n",
        "                                 title=\"Confirmed cases per country of \"+d)\n",
        "\n",
        "    fset=fc.query()\n",
        "    fset.sdf.spatial.plot(map_widget=map1,\n",
        "                          renderer_type=\"c\",\n",
        "                          method=\"esriClassifyNaturalBreaks\",\n",
        "                          class_count=13,\n",
        "                          col=\"Confirmed\",\n",
        "                          min_value=250,\n",
        "                          cmap=\"coolwarm\",\n",
        "                          alpha=0.7)\n",
        "    map1.legend=True\n",
        "    time.sleep(3)"
      ],
      "execution_count": null,
      "outputs": [
        {
          "output_type": "error",
          "ename": "NameError",
          "evalue": "ignored",
          "traceback": [
            "\u001b[0;31m---------------------------------------------------------------------------\u001b[0m",
            "\u001b[0;31mNameError\u001b[0m                                 Traceback (most recent call last)",
            "\u001b[0;32m<ipython-input-41-1deb66de4133>\u001b[0m in \u001b[0;36m<module>\u001b[0;34m()\u001b[0m\n\u001b[1;32m      1\u001b[0m \u001b[0;32mfor\u001b[0m \u001b[0md\u001b[0m \u001b[0;32min\u001b[0m \u001b[0mdate_list\u001b[0m\u001b[0;34m:\u001b[0m\u001b[0;34m\u001b[0m\u001b[0;34m\u001b[0m\u001b[0m\n\u001b[0;32m----> 2\u001b[0;31m     \u001b[0mmap1\u001b[0m\u001b[0;34m.\u001b[0m\u001b[0mclear_graphics\u001b[0m\u001b[0;34m(\u001b[0m\u001b[0;34m)\u001b[0m\u001b[0;34m\u001b[0m\u001b[0;34m\u001b[0m\u001b[0m\n\u001b[0m\u001b[1;32m      3\u001b[0m     \u001b[0mmap1\u001b[0m\u001b[0;34m.\u001b[0m\u001b[0mremove_layers\u001b[0m\u001b[0;34m(\u001b[0m\u001b[0;34m)\u001b[0m\u001b[0;34m\u001b[0m\u001b[0;34m\u001b[0m\u001b[0m\n\u001b[1;32m      4\u001b[0m     \u001b[0mmap1\u001b[0m\u001b[0;34m.\u001b[0m\u001b[0mlegend\u001b[0m\u001b[0;34m=\u001b[0m\u001b[0;32mFalse\u001b[0m\u001b[0;34m\u001b[0m\u001b[0;34m\u001b[0m\u001b[0m\n\u001b[1;32m      5\u001b[0m \u001b[0;34m\u001b[0m\u001b[0m\n",
            "\u001b[0;31mNameError\u001b[0m: name 'map1' is not defined"
          ]
        }
      ]
    },
    {
      "cell_type": "code",
      "metadata": {
        "id": "4EXMOTqtLEE7"
      },
      "source": [
        "import numpy as np\n",
        "from sklearn.linear_model import LinearRegression\n",
        "from sklearn.preprocessing import PolynomialFeatures\n",
        "\n",
        "class PolynomialRegressionModel:\n",
        "\n",
        "    def __init__(self, model_name, polynomial_degree):\n",
        "        self.__model_name = model_name\n",
        "        self.__polynomial_degree = polynomial_degree\n",
        "        self.__model = None\n",
        "\n",
        "    def train(self, x, y):\n",
        "        polynomial_features = PolynomialFeatures(degree=self.__polynomial_degree)\n",
        "        x_poly = polynomial_features.fit_transform(x)\n",
        "        self.__model = LinearRegression()\n",
        "        self.__model.fit(x_poly, y)\n",
        "\n",
        "    def get_predictions(self, x):\n",
        "        polynomial_features = PolynomialFeatures(degree=self.__polynomial_degree)\n",
        "        x_poly = polynomial_features.fit_transform(x)\n",
        "        return np.round(self.__model.predict(x_poly), 0).astype(np.int32)\n",
        "\n",
        "    def get_model_polynomial_str(self):\n",
        "        coef = self.__model.coef_\n",
        "        intercept = self.__model.intercept_\n",
        "        poly = \"{0:.3f}\".format(intercept)\n",
        "\n",
        "        for i in range(1, len(coef)):\n",
        "            if coef[i] >= 0:\n",
        "                poly += \" + \"\n",
        "            else:\n",
        "                poly += \" - \"\n",
        "            poly += \"{0:.3f}\".format(coef[i]).replace(\"-\", \"\") + \"X^\" + str(i)\n",
        "\n",
        "        return poly"
      ],
      "execution_count": null,
      "outputs": []
    },
    {
      "cell_type": "code",
      "metadata": {
        "id": "F43l4Hb3NFVC",
        "outputId": "09b19597-1fc2-48ee-a956-142a1211fceb",
        "colab": {
          "base_uri": "https://localhost:8080/",
          "height": 419
        }
      },
      "source": [
        "usa_overall_confirmed_ts_df = confirmed_df[confirmed_df[\"Country_Region\"] == \"US\"]\n",
        "new_usa_confirmed_df = usa_overall_confirmed_ts_df[date_list].T\n",
        "new_usa_confirmed_df.columns = [\"confirmed\"]\n",
        "new_usa_confirmed_df = new_usa_confirmed_df.assign(days=[1 + \n",
        "                                               i for i in range(len(new_usa_confirmed_df))])[['days'] + \n",
        "                                               new_usa_confirmed_df.columns.tolist()]\n",
        "new_usa_confirmed_df"
      ],
      "execution_count": null,
      "outputs": [
        {
          "output_type": "execute_result",
          "data": {
            "text/html": [
              "<div>\n",
              "<style scoped>\n",
              "    .dataframe tbody tr th:only-of-type {\n",
              "        vertical-align: middle;\n",
              "    }\n",
              "\n",
              "    .dataframe tbody tr th {\n",
              "        vertical-align: top;\n",
              "    }\n",
              "\n",
              "    .dataframe thead th {\n",
              "        text-align: right;\n",
              "    }\n",
              "</style>\n",
              "<table border=\"1\" class=\"dataframe\">\n",
              "  <thead>\n",
              "    <tr style=\"text-align: right;\">\n",
              "      <th></th>\n",
              "      <th>days</th>\n",
              "      <th>confirmed</th>\n",
              "    </tr>\n",
              "  </thead>\n",
              "  <tbody>\n",
              "    <tr>\n",
              "      <th>1/22/20</th>\n",
              "      <td>1</td>\n",
              "      <td>1</td>\n",
              "    </tr>\n",
              "    <tr>\n",
              "      <th>1/23/20</th>\n",
              "      <td>2</td>\n",
              "      <td>1</td>\n",
              "    </tr>\n",
              "    <tr>\n",
              "      <th>1/24/20</th>\n",
              "      <td>3</td>\n",
              "      <td>2</td>\n",
              "    </tr>\n",
              "    <tr>\n",
              "      <th>1/25/20</th>\n",
              "      <td>4</td>\n",
              "      <td>2</td>\n",
              "    </tr>\n",
              "    <tr>\n",
              "      <th>1/26/20</th>\n",
              "      <td>5</td>\n",
              "      <td>5</td>\n",
              "    </tr>\n",
              "    <tr>\n",
              "      <th>...</th>\n",
              "      <td>...</td>\n",
              "      <td>...</td>\n",
              "    </tr>\n",
              "    <tr>\n",
              "      <th>10/1/20</th>\n",
              "      <td>254</td>\n",
              "      <td>7277791</td>\n",
              "    </tr>\n",
              "    <tr>\n",
              "      <th>10/2/20</th>\n",
              "      <td>255</td>\n",
              "      <td>7332297</td>\n",
              "    </tr>\n",
              "    <tr>\n",
              "      <th>10/3/20</th>\n",
              "      <td>256</td>\n",
              "      <td>7382341</td>\n",
              "    </tr>\n",
              "    <tr>\n",
              "      <th>10/4/20</th>\n",
              "      <td>257</td>\n",
              "      <td>7417845</td>\n",
              "    </tr>\n",
              "    <tr>\n",
              "      <th>10/5/20</th>\n",
              "      <td>258</td>\n",
              "      <td>7457402</td>\n",
              "    </tr>\n",
              "  </tbody>\n",
              "</table>\n",
              "<p>258 rows × 2 columns</p>\n",
              "</div>"
            ],
            "text/plain": [
              "         days confirmed\n",
              "1/22/20     1         1\n",
              "1/23/20     2         1\n",
              "1/24/20     3         2\n",
              "1/25/20     4         2\n",
              "1/26/20     5         5\n",
              "...       ...       ...\n",
              "10/1/20   254   7277791\n",
              "10/2/20   255   7332297\n",
              "10/3/20   256   7382341\n",
              "10/4/20   257   7417845\n",
              "10/5/20   258   7457402\n",
              "\n",
              "[258 rows x 2 columns]"
            ]
          },
          "metadata": {
            "tags": []
          },
          "execution_count": 51
        }
      ]
    },
    {
      "cell_type": "code",
      "metadata": {
        "id": "lsAmuMdbM7sJ"
      },
      "source": [
        "training_set = new_usa_confirmed_df\n",
        "x = np.array(training_set[\"days\"]).reshape(-1, 1)\n",
        "y = training_set[\"confirmed\"]"
      ],
      "execution_count": null,
      "outputs": []
    },
    {
      "cell_type": "code",
      "metadata": {
        "id": "mGHUKcKCM6I2"
      },
      "source": [
        "regression_model = PolynomialRegressionModel(\"Cases using Polynomial Regression\", 2)\n",
        "regression_model.train(x, y)"
      ],
      "execution_count": null,
      "outputs": []
    },
    {
      "cell_type": "code",
      "metadata": {
        "id": "IPvI16heOslq",
        "outputId": "984bc4b6-c2a9-489d-84c8-e3fd440204e5",
        "colab": {
          "base_uri": "https://localhost:8080/",
          "height": 34
        }
      },
      "source": [
        "y_pred = regression_model.get_predictions(x)\n",
        "y_pred"
      ],
      "execution_count": null,
      "outputs": [
        {
          "output_type": "execute_result",
          "data": {
            "text/plain": [
              "array([-106669, -108474, -110020, -111307, ..., 7748087, 7811999, 7876170, 7940599], dtype=int32)"
            ]
          },
          "metadata": {
            "tags": []
          },
          "execution_count": 56
        }
      ]
    },
    {
      "cell_type": "code",
      "metadata": {
        "id": "jRIpp34GVwz3"
      },
      "source": [
        "def print_forecast(model_name, model, beginning_day=0, limit=10):\n",
        "\n",
        "    next_days_x = np.array(range(beginning_day, beginning_day + limit)).reshape(-1, 1)\n",
        "    next_days_pred = model.get_predictions(next_days_x)\n",
        "\n",
        "    print(\"The forecast for \" + model_name + \" in the following \" + str(limit) + \" days is:\")\n",
        "    for i in range(0, limit):\n",
        "        print(\"Day \" + str(i + 1) + \": \" + str(next_days_pred[i]))"
      ],
      "execution_count": null,
      "outputs": []
    },
    {
      "cell_type": "code",
      "metadata": {
        "id": "XE40NbmkVzIp",
        "outputId": "209e9369-b707-43f7-e0ab-7ef35bc6dc45",
        "colab": {
          "base_uri": "https://localhost:8080/",
          "height": 204
        }
      },
      "source": [
        "print_forecast(\"Cases using Polynomial Regression\", regression_model, \n",
        "               beginning_day=len(x), \n",
        "               limit=10)"
      ],
      "execution_count": null,
      "outputs": [
        {
          "output_type": "stream",
          "text": [
            "The forecast for Cases using Polynomial Regression in the following 10 days is:\n",
            "Day 1: 7940599\n",
            "Day 2: 8005287\n",
            "Day 3: 8070234\n",
            "Day 4: 8135440\n",
            "Day 5: 8200904\n",
            "Day 6: 8266627\n",
            "Day 7: 8332609\n",
            "Day 8: 8398849\n",
            "Day 9: 8465348\n",
            "Day 10: 8532106\n"
          ],
          "name": "stdout"
        }
      ]
    },
    {
      "cell_type": "code",
      "metadata": {
        "id": "NJyPFwI4V3p_"
      },
      "source": [
        "import operator\n",
        "\n",
        "def plot_graph(model_name, x, y, y_pred):\n",
        "\n",
        "    plt.scatter(x, y, s=10)\n",
        "    sort_axis = operator.itemgetter(0)\n",
        "    sorted_zip = sorted(zip(x, y_pred), key=sort_axis)\n",
        "    x, y_pred = zip(*sorted_zip)\n",
        "\n",
        "    plt.plot(x, y_pred, color='m')\n",
        "    plt.title(\"Amount of \" + model_name + \" in each day\")\n",
        "    plt.xlabel(\"Day\")\n",
        "    plt.ylabel(model_name)\n",
        "    plt.show()"
      ],
      "execution_count": null,
      "outputs": []
    },
    {
      "cell_type": "code",
      "metadata": {
        "id": "hPBkfyvgV8Rw",
        "outputId": "632930a7-d418-4916-e4ae-d10685b924c0",
        "colab": {
          "base_uri": "https://localhost:8080/",
          "height": 295
        }
      },
      "source": [
        "plot_graph(\"Cases using Polynomial Regression\", x, y, y_pred)"
      ],
      "execution_count": null,
      "outputs": [
        {
          "output_type": "display_data",
          "data": {
            "image/png": "[encoded data removed]",
            "text/plain": [
              "<Figure size 432x288 with 1 Axes>"
            ]
          },
          "metadata": {
            "tags": [],
            "needs_background": "light"
          }
        }
      ]
    },
    {
      "cell_type": "code",
      "metadata": {
        "id": "6YISmhvzZcJ1",
        "outputId": "fbc082e2-b101-44bd-e0a5-ef7e9cfe57d7",
        "colab": {
          "base_uri": "https://localhost:8080/",
          "height": 488
        }
      },
      "source": [
        "regression_model = PolynomialRegressionModel(\"Confirmed cases using Polynomial Regression (d=3)\", 3)\n",
        "regression_model.train(x, y)\n",
        "y_pred = regression_model.get_predictions(x)\n",
        "print_forecast(\"Confirmed cases using Polynomial Regression (d=3)\", regression_model, \n",
        "               beginning_day=len(x), \n",
        "               limit=10)\n",
        "plot_graph(\"Confirmed cases using Polynomial Regression (d=3)\", x, y, y_pred)"
      ],
      "execution_count": null,
      "outputs": [
        {
          "output_type": "stream",
          "text": [
            "The forecast for Confirmed cases using Polynomial Regression (d=3) in the following 10 days is:\n",
            "Day 1: 7694895\n",
            "Day 2: 7747885\n",
            "Day 3: 7800906\n",
            "Day 4: 7853956\n",
            "Day 5: 7907034\n",
            "Day 6: 7960138\n",
            "Day 7: 8013265\n",
            "Day 8: 8066416\n",
            "Day 9: 8119586\n",
            "Day 10: 8172776\n"
          ],
          "name": "stdout"
        },
        {
          "output_type": "display_data",
          "data": {
            "image/png": "[encoded data removed]",
            "text/plain": [
              "<Figure size 432x288 with 1 Axes>"
            ]
          },
          "metadata": {
            "tags": [],
            "needs_background": "light"
          }
        }
      ]
    },
    {
      "cell_type": "code",
      "metadata": {
        "id": "-mzyqg1dZ2wM",
        "outputId": "d60fc124-4712-454d-b4d3-503ea4878ff4",
        "colab": {
          "base_uri": "https://localhost:8080/",
          "height": 408
        }
      },
      "source": [
        "usa_overall_confirmed_ts_df = confirmed_df[confirmed_df[\"Country_Region\"] == all]\n",
        "new_usa_confirmed_df = usa_overall_confirmed_ts_df[date_list].T\n",
        "new_usa_confirmed_df.columns = [\"confirmed\"]\n",
        "new_usa_confirmed_df = new_usa_confirmed_df.assign(days=[1 + \n",
        "                                               i for i in range(len(new_usa_confirmed_df))])[['days'] + \n",
        "                                               new_usa_confirmed_df.columns.tolist()]"
      ],
      "execution_count": null,
      "outputs": [
        {
          "output_type": "error",
          "ename": "ValueError",
          "evalue": "ignored",
          "traceback": [
            "\u001b[0;31m---------------------------------------------------------------------------\u001b[0m",
            "\u001b[0;31mValueError\u001b[0m                                Traceback (most recent call last)",
            "\u001b[0;32m<ipython-input-65-0756c06a8ac8>\u001b[0m in \u001b[0;36m<module>\u001b[0;34m()\u001b[0m\n\u001b[1;32m      1\u001b[0m \u001b[0musa_overall_confirmed_ts_df\u001b[0m \u001b[0;34m=\u001b[0m \u001b[0mconfirmed_df\u001b[0m\u001b[0;34m[\u001b[0m\u001b[0mconfirmed_df\u001b[0m\u001b[0;34m[\u001b[0m\u001b[0;34m\"Country_Region\"\u001b[0m\u001b[0;34m]\u001b[0m \u001b[0;34m==\u001b[0m \u001b[0mall\u001b[0m\u001b[0;34m]\u001b[0m\u001b[0;34m\u001b[0m\u001b[0;34m\u001b[0m\u001b[0m\n\u001b[1;32m      2\u001b[0m \u001b[0mnew_usa_confirmed_df\u001b[0m \u001b[0;34m=\u001b[0m \u001b[0musa_overall_confirmed_ts_df\u001b[0m\u001b[0;34m[\u001b[0m\u001b[0mdate_list\u001b[0m\u001b[0;34m]\u001b[0m\u001b[0;34m.\u001b[0m\u001b[0mT\u001b[0m\u001b[0;34m\u001b[0m\u001b[0;34m\u001b[0m\u001b[0m\n\u001b[0;32m----> 3\u001b[0;31m \u001b[0mnew_usa_confirmed_df\u001b[0m\u001b[0;34m.\u001b[0m\u001b[0mcolumns\u001b[0m \u001b[0;34m=\u001b[0m \u001b[0;34m[\u001b[0m\u001b[0;34m\"confirmed\"\u001b[0m\u001b[0;34m]\u001b[0m\u001b[0;34m\u001b[0m\u001b[0;34m\u001b[0m\u001b[0m\n\u001b[0m\u001b[1;32m      4\u001b[0m new_usa_confirmed_df = new_usa_confirmed_df.assign(days=[1 + \n\u001b[1;32m      5\u001b[0m                                                i for i in range(len(new_usa_confirmed_df))])[['days'] + \n",
            "\u001b[0;32m/usr/local/lib/python3.6/dist-packages/pandas/core/generic.py\u001b[0m in \u001b[0;36m__setattr__\u001b[0;34m(self, name, value)\u001b[0m\n\u001b[1;32m   5147\u001b[0m         \u001b[0;32mtry\u001b[0m\u001b[0;34m:\u001b[0m\u001b[0;34m\u001b[0m\u001b[0;34m\u001b[0m\u001b[0m\n\u001b[1;32m   5148\u001b[0m             \u001b[0mobject\u001b[0m\u001b[0;34m.\u001b[0m\u001b[0m__getattribute__\u001b[0m\u001b[0;34m(\u001b[0m\u001b[0mself\u001b[0m\u001b[0;34m,\u001b[0m \u001b[0mname\u001b[0m\u001b[0;34m)\u001b[0m\u001b[0;34m\u001b[0m\u001b[0;34m\u001b[0m\u001b[0m\n\u001b[0;32m-> 5149\u001b[0;31m             \u001b[0;32mreturn\u001b[0m \u001b[0mobject\u001b[0m\u001b[0;34m.\u001b[0m\u001b[0m__setattr__\u001b[0m\u001b[0;34m(\u001b[0m\u001b[0mself\u001b[0m\u001b[0;34m,\u001b[0m \u001b[0mname\u001b[0m\u001b[0;34m,\u001b[0m \u001b[0mvalue\u001b[0m\u001b[0;34m)\u001b[0m\u001b[0;34m\u001b[0m\u001b[0;34m\u001b[0m\u001b[0m\n\u001b[0m\u001b[1;32m   5150\u001b[0m         \u001b[0;32mexcept\u001b[0m \u001b[0mAttributeError\u001b[0m\u001b[0;34m:\u001b[0m\u001b[0;34m\u001b[0m\u001b[0;34m\u001b[0m\u001b[0m\n\u001b[1;32m   5151\u001b[0m             \u001b[0;32mpass\u001b[0m\u001b[0;34m\u001b[0m\u001b[0;34m\u001b[0m\u001b[0m\n",
            "\u001b[0;32mpandas/_libs/properties.pyx\u001b[0m in \u001b[0;36mpandas._libs.properties.AxisProperty.__set__\u001b[0;34m()\u001b[0m\n",
            "\u001b[0;32m/usr/local/lib/python3.6/dist-packages/pandas/core/generic.py\u001b[0m in \u001b[0;36m_set_axis\u001b[0;34m(self, axis, labels)\u001b[0m\n\u001b[1;32m    562\u001b[0m     \u001b[0;32mdef\u001b[0m \u001b[0m_set_axis\u001b[0m\u001b[0;34m(\u001b[0m\u001b[0mself\u001b[0m\u001b[0;34m,\u001b[0m \u001b[0maxis\u001b[0m\u001b[0;34m:\u001b[0m \u001b[0mint\u001b[0m\u001b[0;34m,\u001b[0m \u001b[0mlabels\u001b[0m\u001b[0;34m:\u001b[0m \u001b[0mIndex\u001b[0m\u001b[0;34m)\u001b[0m \u001b[0;34m->\u001b[0m \u001b[0;32mNone\u001b[0m\u001b[0;34m:\u001b[0m\u001b[0;34m\u001b[0m\u001b[0;34m\u001b[0m\u001b[0m\n\u001b[1;32m    563\u001b[0m         \u001b[0mlabels\u001b[0m \u001b[0;34m=\u001b[0m \u001b[0mensure_index\u001b[0m\u001b[0;34m(\u001b[0m\u001b[0mlabels\u001b[0m\u001b[0;34m)\u001b[0m\u001b[0;34m\u001b[0m\u001b[0;34m\u001b[0m\u001b[0m\n\u001b[0;32m--> 564\u001b[0;31m         \u001b[0mself\u001b[0m\u001b[0;34m.\u001b[0m\u001b[0m_mgr\u001b[0m\u001b[0;34m.\u001b[0m\u001b[0mset_axis\u001b[0m\u001b[0;34m(\u001b[0m\u001b[0maxis\u001b[0m\u001b[0;34m,\u001b[0m \u001b[0mlabels\u001b[0m\u001b[0;34m)\u001b[0m\u001b[0;34m\u001b[0m\u001b[0;34m\u001b[0m\u001b[0m\n\u001b[0m\u001b[1;32m    565\u001b[0m         \u001b[0mself\u001b[0m\u001b[0;34m.\u001b[0m\u001b[0m_clear_item_cache\u001b[0m\u001b[0;34m(\u001b[0m\u001b[0;34m)\u001b[0m\u001b[0;34m\u001b[0m\u001b[0;34m\u001b[0m\u001b[0m\n\u001b[1;32m    566\u001b[0m \u001b[0;34m\u001b[0m\u001b[0m\n",
            "\u001b[0;32m/usr/local/lib/python3.6/dist-packages/pandas/core/internals/managers.py\u001b[0m in \u001b[0;36mset_axis\u001b[0;34m(self, axis, new_labels)\u001b[0m\n\u001b[1;32m    225\u001b[0m         \u001b[0;32mif\u001b[0m \u001b[0mnew_len\u001b[0m \u001b[0;34m!=\u001b[0m \u001b[0mold_len\u001b[0m\u001b[0;34m:\u001b[0m\u001b[0;34m\u001b[0m\u001b[0;34m\u001b[0m\u001b[0m\n\u001b[1;32m    226\u001b[0m             raise ValueError(\n\u001b[0;32m--> 227\u001b[0;31m                 \u001b[0;34mf\"Length mismatch: Expected axis has {old_len} elements, new \"\u001b[0m\u001b[0;34m\u001b[0m\u001b[0;34m\u001b[0m\u001b[0m\n\u001b[0m\u001b[1;32m    228\u001b[0m                 \u001b[0;34mf\"values have {new_len} elements\"\u001b[0m\u001b[0;34m\u001b[0m\u001b[0;34m\u001b[0m\u001b[0m\n\u001b[1;32m    229\u001b[0m             )\n",
            "\u001b[0;31mValueError\u001b[0m: Length mismatch: Expected axis has 0 elements, new values have 1 elements"
          ]
        }
      ]
    }
  ]
}