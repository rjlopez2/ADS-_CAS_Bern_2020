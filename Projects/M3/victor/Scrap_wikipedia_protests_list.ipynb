{
 "cells": [
  {
   "cell_type": "markdown",
   "metadata": {},
   "source": [
    "# Web Scraping\n",
    "URL_List_of_protestshttps: //en.wikipedia.org/wiki/List_of_protests_in_the_21st_century"
   ]
  },
  {
   "cell_type": "code",
   "execution_count": 1,
   "metadata": {},
   "outputs": [],
   "source": [
    "import requests\n",
    "from lxml import html\n",
    "import pandas as pd"
   ]
  },
  {
   "cell_type": "code",
   "execution_count": 2,
   "metadata": {},
   "outputs": [],
   "source": [
    "# USER AGENT PARA PROTEGERNOS DE BANEOS\n",
    "headers = {\n",
    "    \"user-agent\": \"Mozilla/5.0 (X11; Linux x86_64) AppleWebKit/537.36 (KHTML, like Gecko) Ubuntu Chromium/71.0.3578.80 Chrome/71.0.3578.80 Safari/537.36\",\n",
    "}"
   ]
  },
  {
   "cell_type": "code",
   "execution_count": 4,
   "metadata": {},
   "outputs": [],
   "source": [
    "# URL WIKIPEDIA SITE LIST OF PROTESTS\n",
    "url = \"https://en.wikipedia.org/wiki/List_of_protests_in_the_21st_century\""
   ]
  },
  {
   "cell_type": "code",
   "execution_count": 5,
   "metadata": {},
   "outputs": [],
   "source": [
    "# REQUERIMIENTO AL SERVIDOR\n",
    "respuesta = requests.get(url, headers=headers)"
   ]
  },
  {
   "cell_type": "code",
   "execution_count": 6,
   "metadata": {},
   "outputs": [],
   "source": [
    "# PARSEO DEL ARBOL HTML QUE RECIBO COMO RESPUESTA CON LXML\n",
    "parser = html.fromstring(respuesta.text)"
   ]
  },
  {
   "cell_type": "code",
   "execution_count": null,
   "metadata": {},
   "outputs": [],
   "source": [
    "# EXTRACCION DE TODOS LOS PAISES POR XPATH\n",
    "\n",
    "paises = parser.xpath(\"//*[@id='mw-content-text']/div[1]/div[20]/dl/dt\")\n",
    "for pais in paises:\n",
    "    print(pais.text_content())"
   ]
  },
  {
   "cell_type": "code",
   "execution_count": 70,
   "metadata": {
    "collapsed": true,
    "jupyter": {
     "outputs_hidden": true
    }
   },
   "outputs": [
    {
     "name": "stdout",
     "output_type": "stream",
     "text": [
      "2012 Afghanistan Quran burning protests\n",
      "2011 Albanian opposition demonstrations\n",
      "Black Spring (Algeria)\n",
      "December 2001 riots in Argentina\n",
      "2003–2004 Armenian protests\n",
      "2003 Azerbaijani protests\n",
      "2013 Shahbag protests\n",
      "2010 Belarusian protests\n",
      "2005 Belize unrest\n",
      "2008 unrest in Bolivia\n",
      "JMBG protests\n",
      "2013 protests in Brazil\n",
      "2011 Bulgaria antiziganist protests\n",
      "2011 Burkinabé protests\n",
      "Burundian unrest (2015–2018)\n",
      "2013–2014 Cambodian protests\n",
      "2008 Cameroonian anti-government protests\n",
      "2010 Canada anti-prorogation protests\n",
      "2006 student protests in Chile\n",
      "2011 Chinese pro-democracy protests\n",
      "2013 Colombian coffee growers strike\n",
      "2018 Costa Rican tax reform strike\n",
      "2011 Djiboutian protests\n",
      "19 January 2015 DRC protests\n",
      "March for the End of Impunity\n",
      "2012 Ecuadorian protests\n",
      "2008 Egyptian general strike\n",
      "Bronze Night\n",
      "2016 Ethiopian protests\n",
      "2005 French riots\n",
      "2016 Gabonese protests\n",
      "Rose Revolution\n",
      "Refugee protests in Germany (2012–present)\n",
      "La Línea corruption case\n",
      "2007 Guinean general strike\n",
      "2018–2021 Haitian protests\n",
      "2017–2018 Honduran protests\n",
      "Hong Kong 1 July marches\n",
      "2006 protests in Hungary\n",
      "2009 Icelandic financial crisis protests\n",
      "2006 Indian anti-reservation protests\n",
      "November 2016 Jakarta protests\n",
      "2011–2012 Iranian protests\n",
      "2011 Iraqi protests\n",
      "2006 Israeli reserve soldiers' protest\n",
      "No Berlusconi Day\n",
      "2011–2012 Jordanian protests\n",
      "Amarnath land transfer controversy\n",
      "Zhanaozen massacre\n",
      "2007–2008 Kenyan crisis\n",
      "2011–2012 Kuwaiti protests\n",
      "Tulip Revolution\n",
      "2006–2008 Lebanese protests\n",
      "First Libyan Civil War#Anti-Gaddafi movement\n",
      "2010 Macau transfer of sovereignty anniversary protest\n",
      "2009 Malagasy Political Crisis\n",
      "2011 Malawian protests\n",
      "2007 Bersih rally\n",
      "2020 Malian protests\n",
      "2019–2020 Maltese protests\n",
      "2011–2012 Mauritanian protests\n",
      "Mexican Indignados Movement\n",
      "2013 \"Pro Europe\" demonstration in Moldova\n",
      "2008 riot in Mongolia\n",
      "2008 protest against Kosovo declaration of independence\n",
      "2011–2012 Moroccan protests\n",
      "2010 Mozambican uprising\n",
      "Saffron Revolution\n",
      "2006 democracy movement in Nepal\n",
      "2014–2020 Nicaraguan protests\n",
      "End SARS\n",
      "2011 Macedonian protests\n",
      "Lawyers' Movement\n",
      "2017 Paraguayan crisis\n",
      "Moqueguazo\n",
      "Million People March\n",
      "December 2016 Polish protests\n",
      "2010–2011 University of Puerto Rico strikes\n",
      "2012–2015 unrest in Romania\n",
      "Dissenters' March\n",
      "2011–2012 Saudi Arabian protests\n",
      "2011–2012 Senegalese protests\n",
      "2008 protests against Kosovo declaration of independence\n",
      "Murder of Ján Kuciak\n",
      "2012–2013 Slovenian protests\n",
      "Western Cape 2012 Farm Workers' strike\n",
      "2008 US beef protest in South Korea\n",
      "2010 Spanish general strike\n",
      "2011–2013 protests in Sudan\n",
      "Civil uprising phase of the Syrian civil war\n",
      "Million Voices Against Corruption, President Chen Must Go\n",
      "2005–2006 Thai political crisis\n",
      "2010–2011 Togolese protests\n",
      "Tunisian Revolution\n",
      "Republic protests\n",
      "Ukraine without Kuchma\n",
      "2011 London anti-cuts protest\n",
      "2015 Armenian March for Justice\n",
      "2005 Andijan unrest\n",
      "Venezuelan general strike of 2002–2003\n",
      "2014 Vietnam anti-China protests\n",
      "Yemeni Revolution\n",
      "2016–2017 Zimbabwe protests\n"
     ]
    }
   ],
   "source": [
    "# EXTRACCION DE TODOS LOS EVENTOS POR XPATH\n",
    "eventos = parser.xpath(\"//*[@id='mw-content-text']/div[1]/div[20]/ul/li[1]/a\")\n",
    "for evento in eventos:\n",
    "    print(evento.text_content())\n"
   ]
  },
  {
   "cell_type": "code",
   "execution_count": 60,
   "metadata": {},
   "outputs": [
    {
     "name": "stdout",
     "output_type": "stream",
     "text": [
      "<Element dt at 0xb461b8>\n",
      "<Element a at 0x10ec0f0>\n"
     ]
    }
   ],
   "source": [
    "print(paises[0])\n",
    "print(eventos[0])"
   ]
  },
  {
   "cell_type": "code",
   "execution_count": 85,
   "metadata": {},
   "outputs": [
    {
     "name": "stdout",
     "output_type": "stream",
     "text": [
      "2012 Afghanistan Quran burning protests\n",
      "2019-2020 Afghanistan protests\n"
     ]
    }
   ],
   "source": [
    "# TEST EXTRACCION DE LOS PRIMEROS EVENTOS POR XPATH\n",
    "eventos = parser.xpath(\"//*[@id='mw-content-text']/div[1]/div[20]/ul[1]\")\n",
    "for evento in eventos:\n",
    "    print(evento.text_content())"
   ]
  },
  {
   "cell_type": "code",
   "execution_count": 71,
   "metadata": {},
   "outputs": [
    {
     "name": "stdout",
     "output_type": "stream",
     "text": [
      "Afghanistan\n"
     ]
    }
   ],
   "source": [
    "# TEST EXTRACCION DEL PRIMER PAIS POR XPATH\n",
    "paises = parser.xpath(\"//*[@id='mw-content-text']/div[1]/div[20]/dl[1]\")\n",
    "for pais in paises:\n",
    "    print(pais.text_content())"
   ]
  },
  {
   "cell_type": "code",
   "execution_count": 23,
   "metadata": {},
   "outputs": [
    {
     "name": "stdout",
     "output_type": "stream",
     "text": [
      "<Element dl at 0x7f8c78f42590> <Element ul at 0x7f8c78f42770>\n"
     ]
    }
   ],
   "source": [
    "# TEST EXTRACCION DEL PRIMER PAIS T LOS PRIMEROS EVENTOS POR XPATH\n",
    "\n",
    "paises = parser.xpath(\"//*[@id='mw-content-text']/div[1]/div[20]/dl[1]\")\n",
    "eventos = parser.xpath(\"//*[@id='mw-content-text']/div[1]/div[20]/ul[1]\")\n",
    "\n",
    "# df = pd.DataFrame()\n",
    "for pais in paises:\n",
    "    for evento in eventos:\n",
    "        print(pais, evento)\n",
    "        df = {\"pais\" : pais.text_content(),\n",
    "             \"evento\" : evento.text_content()}"
   ]
  },
  {
   "cell_type": "code",
   "execution_count": 22,
   "metadata": {},
   "outputs": [
    {
     "data": {
      "text/plain": [
       "{'pais': 'Afghanistan',\n",
       " 'evento': '2012 Afghanistan Quran burning protests\\n2019-2020 Afghanistan protests'}"
      ]
     },
     "execution_count": 22,
     "metadata": {},
     "output_type": "execute_result"
    }
   ],
   "source": [
    "df"
   ]
  },
  {
   "cell_type": "code",
   "execution_count": null,
   "metadata": {},
   "outputs": [],
   "source": []
  }
 ],
 "metadata": {
  "kernelspec": {
   "display_name": "Python 3",
   "language": "python",
   "name": "python3"
  },
  "language_info": {
   "codemirror_mode": {
    "name": "ipython",
    "version": 3
   },
   "file_extension": ".py",
   "mimetype": "text/x-python",
   "name": "python",
   "nbconvert_exporter": "python",
   "pygments_lexer": "ipython3",
   "version": "3.7.6"
  }
 },
 "nbformat": 4,
 "nbformat_minor": 5
}
