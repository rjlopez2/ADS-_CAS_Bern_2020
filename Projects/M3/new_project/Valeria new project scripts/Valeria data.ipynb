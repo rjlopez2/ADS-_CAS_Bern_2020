{
 "cells": [
  {
   "cell_type": "code",
   "execution_count": 2,
   "metadata": {
    "collapsed": true,
    "jupyter": {
     "outputs_hidden": true
    }
   },
   "outputs": [],
   "source": [
    "import pandas as pd\n",
    "import requests\n",
    "import numpy as np\n",
    "\n",
    "import os\n",
    "import matplotlib.pyplot as plt\n",
    "import seaborn as sns\n",
    "from sklearn.datasets import make_blobs\n",
    "from sklearn import metrics\n",
    "from sklearn import tree\n",
    "from sklearn import ensemble\n",
    "from sklearn import preprocessing,linear_model\n",
    "from sklearn.metrics import silhouette_score\n",
    "from imageio import imread\n",
    "from time import time as timer\n",
    "import tarfile\n",
    "from sklearn import preprocessing, metrics, model_selection, neural_network, linear_model, ensemble\n",
    "import tensorflow as tf\n",
    "import matplotlib.pyplot as plt\n",
    "from matplotlib import animation\n",
    "import umap\n",
    "from scipy.stats import entropy"
   ]
  },
  {
   "cell_type": "code",
   "execution_count": 2,
   "metadata": {
    "collapsed": false,
    "jupyter": {
     "outputs_hidden": false
    },
    "pycharm": {
     "name": "#%%\n"
    }
   },
   "outputs": [],
   "source": []
  },
  {
   "cell_type": "code",
   "execution_count": 3,
   "metadata": {
    "collapsed": false,
    "jupyter": {
     "outputs_hidden": false
    },
    "pycharm": {
     "name": "#%%\n"
    }
   },
   "outputs": [],
   "source": [
    "os.chdir('W:\\\\Project Revolution shared drive\\\\ADS_CAS_Bern_2020\\\\Projects\\\\M3\\\\Birds New Project\\\\ADS_CAS_Bern_2020\\\\Projects\\\\M3\\\\new_project')"
   ]
  },
  {
   "cell_type": "code",
   "execution_count": 4,
   "metadata": {
    "collapsed": false,
    "jupyter": {
     "outputs_hidden": false
    },
    "pycharm": {
     "name": "#%%\n"
    }
   },
   "outputs": [
    {
     "name": "stdout",
     "output_type": "stream",
     "text": [
      "Files in 'W:\\\\Project Revolution shared drive\\\\ADS_CAS_Bern_2020\\\\Projects\\\\M3\\\\Birds New Project\\\\ADS_CAS_Bern_2020\\\\Projects\\\\M3\\\\new_project': ['bird_classifier.ipynb', 'data', 'Valeria new project scripts']\n"
     ]
    }
   ],
   "source": [
    "cwd = os.getcwd()  # Get the current working directory (cwd)\n",
    "files = os.listdir(cwd)  # Get all the files in that directory\n",
    "print(\"Files in %r: %s\" % (cwd, files))"
   ]
  },
  {
   "cell_type": "code",
   "execution_count": 5,
   "metadata": {
    "collapsed": false,
    "jupyter": {
     "outputs_hidden": false
    },
    "pycharm": {
     "name": "#%%\n"
    }
   },
   "outputs": [
    {
     "data": {
      "text/html": [
       "<div>\n",
       "<style scoped>\n",
       "    .dataframe tbody tr th:only-of-type {\n",
       "        vertical-align: middle;\n",
       "    }\n",
       "\n",
       "    .dataframe tbody tr th {\n",
       "        vertical-align: top;\n",
       "    }\n",
       "\n",
       "    .dataframe thead th {\n",
       "        text-align: right;\n",
       "    }\n",
       "</style>\n",
       "<table border=\"1\" class=\"dataframe\">\n",
       "  <thead>\n",
       "    <tr style=\"text-align: right;\">\n",
       "      <th></th>\n",
       "      <th>id</th>\n",
       "      <th>chromogram_0_0</th>\n",
       "      <th>chromogram_0_1</th>\n",
       "      <th>chromogram_0_10</th>\n",
       "      <th>chromogram_0_11</th>\n",
       "      <th>chromogram_0_12</th>\n",
       "      <th>chromogram_0_2</th>\n",
       "      <th>chromogram_0_3</th>\n",
       "      <th>chromogram_0_4</th>\n",
       "      <th>chromogram_0_5</th>\n",
       "      <th>...</th>\n",
       "      <th>spec_centr_12</th>\n",
       "      <th>spec_centr_2</th>\n",
       "      <th>spec_centr_3</th>\n",
       "      <th>spec_centr_4</th>\n",
       "      <th>spec_centr_5</th>\n",
       "      <th>spec_centr_6</th>\n",
       "      <th>spec_centr_7</th>\n",
       "      <th>spec_centr_8</th>\n",
       "      <th>spec_centr_9</th>\n",
       "      <th>species</th>\n",
       "    </tr>\n",
       "  </thead>\n",
       "  <tbody>\n",
       "    <tr>\n",
       "      <th>0</th>\n",
       "      <td>0</td>\n",
       "      <td>1.000000</td>\n",
       "      <td>0.945011</td>\n",
       "      <td>0.749241</td>\n",
       "      <td>0.714737</td>\n",
       "      <td>0.704973</td>\n",
       "      <td>0.311386</td>\n",
       "      <td>0.881971</td>\n",
       "      <td>0.280575</td>\n",
       "      <td>0.519973</td>\n",
       "      <td>...</td>\n",
       "      <td>2486.230223</td>\n",
       "      <td>2731.690858</td>\n",
       "      <td>2611.073052</td>\n",
       "      <td>2702.003237</td>\n",
       "      <td>2675.278369</td>\n",
       "      <td>2817.586461</td>\n",
       "      <td>2708.632709</td>\n",
       "      <td>2738.029236</td>\n",
       "      <td>2688.206943</td>\n",
       "      <td>flammea</td>\n",
       "    </tr>\n",
       "    <tr>\n",
       "      <th>1</th>\n",
       "      <td>1</td>\n",
       "      <td>0.650246</td>\n",
       "      <td>0.590960</td>\n",
       "      <td>0.712450</td>\n",
       "      <td>0.909643</td>\n",
       "      <td>0.727013</td>\n",
       "      <td>0.502476</td>\n",
       "      <td>1.000000</td>\n",
       "      <td>0.242925</td>\n",
       "      <td>0.337245</td>\n",
       "      <td>...</td>\n",
       "      <td>2502.704268</td>\n",
       "      <td>2731.547262</td>\n",
       "      <td>2610.927073</td>\n",
       "      <td>2702.182796</td>\n",
       "      <td>2675.414148</td>\n",
       "      <td>2817.691756</td>\n",
       "      <td>2708.316600</td>\n",
       "      <td>2738.381425</td>\n",
       "      <td>2687.759668</td>\n",
       "      <td>flammea</td>\n",
       "    </tr>\n",
       "    <tr>\n",
       "      <th>2</th>\n",
       "      <td>2</td>\n",
       "      <td>1.000000</td>\n",
       "      <td>0.833207</td>\n",
       "      <td>0.770394</td>\n",
       "      <td>0.702116</td>\n",
       "      <td>0.655413</td>\n",
       "      <td>0.326867</td>\n",
       "      <td>0.922793</td>\n",
       "      <td>0.313101</td>\n",
       "      <td>0.493068</td>\n",
       "      <td>...</td>\n",
       "      <td>2503.140943</td>\n",
       "      <td>2731.402739</td>\n",
       "      <td>2610.782378</td>\n",
       "      <td>2702.360640</td>\n",
       "      <td>2675.551167</td>\n",
       "      <td>2817.795126</td>\n",
       "      <td>2708.001038</td>\n",
       "      <td>2738.732677</td>\n",
       "      <td>2687.312293</td>\n",
       "      <td>flammea</td>\n",
       "    </tr>\n",
       "    <tr>\n",
       "      <th>3</th>\n",
       "      <td>3</td>\n",
       "      <td>0.991786</td>\n",
       "      <td>0.829836</td>\n",
       "      <td>0.769562</td>\n",
       "      <td>0.702360</td>\n",
       "      <td>0.658253</td>\n",
       "      <td>0.327552</td>\n",
       "      <td>0.923582</td>\n",
       "      <td>0.312167</td>\n",
       "      <td>0.492926</td>\n",
       "      <td>...</td>\n",
       "      <td>2500.947915</td>\n",
       "      <td>2731.257282</td>\n",
       "      <td>2610.638981</td>\n",
       "      <td>2702.536770</td>\n",
       "      <td>2675.689443</td>\n",
       "      <td>2817.896605</td>\n",
       "      <td>2707.686054</td>\n",
       "      <td>2739.083012</td>\n",
       "      <td>2686.864795</td>\n",
       "      <td>flammea</td>\n",
       "    </tr>\n",
       "    <tr>\n",
       "      <th>4</th>\n",
       "      <td>4</td>\n",
       "      <td>0.982724</td>\n",
       "      <td>0.826884</td>\n",
       "      <td>0.768729</td>\n",
       "      <td>0.702757</td>\n",
       "      <td>0.662904</td>\n",
       "      <td>0.328242</td>\n",
       "      <td>0.924370</td>\n",
       "      <td>0.311239</td>\n",
       "      <td>0.492785</td>\n",
       "      <td>...</td>\n",
       "      <td>2501.371362</td>\n",
       "      <td>2731.110899</td>\n",
       "      <td>2610.496832</td>\n",
       "      <td>2702.711164</td>\n",
       "      <td>2675.828998</td>\n",
       "      <td>2817.996191</td>\n",
       "      <td>2707.371616</td>\n",
       "      <td>2739.432406</td>\n",
       "      <td>2686.417157</td>\n",
       "      <td>flammea</td>\n",
       "    </tr>\n",
       "    <tr>\n",
       "      <th>...</th>\n",
       "      <td>...</td>\n",
       "      <td>...</td>\n",
       "      <td>...</td>\n",
       "      <td>...</td>\n",
       "      <td>...</td>\n",
       "      <td>...</td>\n",
       "      <td>...</td>\n",
       "      <td>...</td>\n",
       "      <td>...</td>\n",
       "      <td>...</td>\n",
       "      <td>...</td>\n",
       "      <td>...</td>\n",
       "      <td>...</td>\n",
       "      <td>...</td>\n",
       "      <td>...</td>\n",
       "      <td>...</td>\n",
       "      <td>...</td>\n",
       "      <td>...</td>\n",
       "      <td>...</td>\n",
       "      <td>...</td>\n",
       "      <td>...</td>\n",
       "    </tr>\n",
       "    <tr>\n",
       "      <th>16621</th>\n",
       "      <td>16621</td>\n",
       "      <td>0.029086</td>\n",
       "      <td>0.048880</td>\n",
       "      <td>0.986261</td>\n",
       "      <td>0.290313</td>\n",
       "      <td>0.149419</td>\n",
       "      <td>0.011731</td>\n",
       "      <td>0.006446</td>\n",
       "      <td>0.004099</td>\n",
       "      <td>0.003594</td>\n",
       "      <td>...</td>\n",
       "      <td>2322.950714</td>\n",
       "      <td>2452.218471</td>\n",
       "      <td>2401.064422</td>\n",
       "      <td>2356.979677</td>\n",
       "      <td>2410.959100</td>\n",
       "      <td>2498.669109</td>\n",
       "      <td>2539.632655</td>\n",
       "      <td>2517.563947</td>\n",
       "      <td>2464.619813</td>\n",
       "      <td>vanellus</td>\n",
       "    </tr>\n",
       "    <tr>\n",
       "      <th>16622</th>\n",
       "      <td>16622</td>\n",
       "      <td>0.025254</td>\n",
       "      <td>0.027836</td>\n",
       "      <td>0.550987</td>\n",
       "      <td>0.144066</td>\n",
       "      <td>0.082754</td>\n",
       "      <td>0.011395</td>\n",
       "      <td>0.006089</td>\n",
       "      <td>0.005369</td>\n",
       "      <td>0.002587</td>\n",
       "      <td>...</td>\n",
       "      <td>2365.153401</td>\n",
       "      <td>2452.192893</td>\n",
       "      <td>2400.900453</td>\n",
       "      <td>2357.045190</td>\n",
       "      <td>2411.109818</td>\n",
       "      <td>2498.788602</td>\n",
       "      <td>2539.677075</td>\n",
       "      <td>2517.440885</td>\n",
       "      <td>2464.629385</td>\n",
       "      <td>vanellus</td>\n",
       "    </tr>\n",
       "    <tr>\n",
       "      <th>16623</th>\n",
       "      <td>16623</td>\n",
       "      <td>0.018637</td>\n",
       "      <td>0.030285</td>\n",
       "      <td>0.670427</td>\n",
       "      <td>0.203758</td>\n",
       "      <td>0.163060</td>\n",
       "      <td>0.011119</td>\n",
       "      <td>0.006124</td>\n",
       "      <td>0.005083</td>\n",
       "      <td>0.002680</td>\n",
       "      <td>...</td>\n",
       "      <td>2345.452437</td>\n",
       "      <td>2452.140434</td>\n",
       "      <td>2400.572336</td>\n",
       "      <td>2357.177161</td>\n",
       "      <td>2411.411899</td>\n",
       "      <td>2499.026361</td>\n",
       "      <td>2539.765060</td>\n",
       "      <td>2517.193712</td>\n",
       "      <td>2464.649318</td>\n",
       "      <td>vanellus</td>\n",
       "    </tr>\n",
       "    <tr>\n",
       "      <th>16624</th>\n",
       "      <td>16624</td>\n",
       "      <td>0.015445</td>\n",
       "      <td>0.034590</td>\n",
       "      <td>0.795195</td>\n",
       "      <td>0.243665</td>\n",
       "      <td>0.173098</td>\n",
       "      <td>0.011191</td>\n",
       "      <td>0.006229</td>\n",
       "      <td>0.004536</td>\n",
       "      <td>0.002966</td>\n",
       "      <td>...</td>\n",
       "      <td>2284.364744</td>\n",
       "      <td>2452.113576</td>\n",
       "      <td>2400.408157</td>\n",
       "      <td>2357.243588</td>\n",
       "      <td>2411.563222</td>\n",
       "      <td>2499.144601</td>\n",
       "      <td>2539.808571</td>\n",
       "      <td>2517.069607</td>\n",
       "      <td>2464.659650</td>\n",
       "      <td>vanellus</td>\n",
       "    </tr>\n",
       "    <tr>\n",
       "      <th>16625</th>\n",
       "      <td>16625</td>\n",
       "      <td>0.015474</td>\n",
       "      <td>0.037959</td>\n",
       "      <td>0.865246</td>\n",
       "      <td>0.254717</td>\n",
       "      <td>0.146680</td>\n",
       "      <td>0.011310</td>\n",
       "      <td>0.006306</td>\n",
       "      <td>0.004309</td>\n",
       "      <td>0.003207</td>\n",
       "      <td>...</td>\n",
       "      <td>2312.648437</td>\n",
       "      <td>2452.086298</td>\n",
       "      <td>2400.243894</td>\n",
       "      <td>2357.310276</td>\n",
       "      <td>2411.714756</td>\n",
       "      <td>2499.262425</td>\n",
       "      <td>2539.851690</td>\n",
       "      <td>2516.945139</td>\n",
       "      <td>2464.670231</td>\n",
       "      <td>vanellus</td>\n",
       "    </tr>\n",
       "  </tbody>\n",
       "</table>\n",
       "<p>16626 rows × 172 columns</p>\n",
       "</div>"
      ],
      "text/plain": [
       "          id  chromogram_0_0  chromogram_0_1  chromogram_0_10  \\\n",
       "0          0        1.000000        0.945011         0.749241   \n",
       "1          1        0.650246        0.590960         0.712450   \n",
       "2          2        1.000000        0.833207         0.770394   \n",
       "3          3        0.991786        0.829836         0.769562   \n",
       "4          4        0.982724        0.826884         0.768729   \n",
       "...      ...             ...             ...              ...   \n",
       "16621  16621        0.029086        0.048880         0.986261   \n",
       "16622  16622        0.025254        0.027836         0.550987   \n",
       "16623  16623        0.018637        0.030285         0.670427   \n",
       "16624  16624        0.015445        0.034590         0.795195   \n",
       "16625  16625        0.015474        0.037959         0.865246   \n",
       "\n",
       "       chromogram_0_11  chromogram_0_12  chromogram_0_2  chromogram_0_3  \\\n",
       "0             0.714737         0.704973        0.311386        0.881971   \n",
       "1             0.909643         0.727013        0.502476        1.000000   \n",
       "2             0.702116         0.655413        0.326867        0.922793   \n",
       "3             0.702360         0.658253        0.327552        0.923582   \n",
       "4             0.702757         0.662904        0.328242        0.924370   \n",
       "...                ...              ...             ...             ...   \n",
       "16621         0.290313         0.149419        0.011731        0.006446   \n",
       "16622         0.144066         0.082754        0.011395        0.006089   \n",
       "16623         0.203758         0.163060        0.011119        0.006124   \n",
       "16624         0.243665         0.173098        0.011191        0.006229   \n",
       "16625         0.254717         0.146680        0.011310        0.006306   \n",
       "\n",
       "       chromogram_0_4  chromogram_0_5  ...  spec_centr_12  spec_centr_2  \\\n",
       "0            0.280575        0.519973  ...    2486.230223   2731.690858   \n",
       "1            0.242925        0.337245  ...    2502.704268   2731.547262   \n",
       "2            0.313101        0.493068  ...    2503.140943   2731.402739   \n",
       "3            0.312167        0.492926  ...    2500.947915   2731.257282   \n",
       "4            0.311239        0.492785  ...    2501.371362   2731.110899   \n",
       "...               ...             ...  ...            ...           ...   \n",
       "16621        0.004099        0.003594  ...    2322.950714   2452.218471   \n",
       "16622        0.005369        0.002587  ...    2365.153401   2452.192893   \n",
       "16623        0.005083        0.002680  ...    2345.452437   2452.140434   \n",
       "16624        0.004536        0.002966  ...    2284.364744   2452.113576   \n",
       "16625        0.004309        0.003207  ...    2312.648437   2452.086298   \n",
       "\n",
       "       spec_centr_3  spec_centr_4  spec_centr_5  spec_centr_6  spec_centr_7  \\\n",
       "0       2611.073052   2702.003237   2675.278369   2817.586461   2708.632709   \n",
       "1       2610.927073   2702.182796   2675.414148   2817.691756   2708.316600   \n",
       "2       2610.782378   2702.360640   2675.551167   2817.795126   2708.001038   \n",
       "3       2610.638981   2702.536770   2675.689443   2817.896605   2707.686054   \n",
       "4       2610.496832   2702.711164   2675.828998   2817.996191   2707.371616   \n",
       "...             ...           ...           ...           ...           ...   \n",
       "16621   2401.064422   2356.979677   2410.959100   2498.669109   2539.632655   \n",
       "16622   2400.900453   2357.045190   2411.109818   2498.788602   2539.677075   \n",
       "16623   2400.572336   2357.177161   2411.411899   2499.026361   2539.765060   \n",
       "16624   2400.408157   2357.243588   2411.563222   2499.144601   2539.808571   \n",
       "16625   2400.243894   2357.310276   2411.714756   2499.262425   2539.851690   \n",
       "\n",
       "       spec_centr_8  spec_centr_9   species  \n",
       "0       2738.029236   2688.206943   flammea  \n",
       "1       2738.381425   2687.759668   flammea  \n",
       "2       2738.732677   2687.312293   flammea  \n",
       "3       2739.083012   2686.864795   flammea  \n",
       "4       2739.432406   2686.417157   flammea  \n",
       "...             ...           ...       ...  \n",
       "16621   2517.563947   2464.619813  vanellus  \n",
       "16622   2517.440885   2464.629385  vanellus  \n",
       "16623   2517.193712   2464.649318  vanellus  \n",
       "16624   2517.069607   2464.659650  vanellus  \n",
       "16625   2516.945139   2464.670231  vanellus  \n",
       "\n",
       "[16626 rows x 172 columns]"
      ]
     },
     "execution_count": 5,
     "metadata": {},
     "output_type": "execute_result"
    }
   ],
   "source": [
    "train_df = pd.read_csv('W:\\\\Project Revolution shared drive\\\\ADS_CAS_Bern_2020\\\\Projects\\\\M3\\\\Birds New Project\\\\ADS_CAS_Bern_2020\\\\Projects\\\\M3\\\\new_project\\\\data\\\\train.csv')\n",
    "test_df = pd.read_csv('W:\\\\Project Revolution shared drive\\\\ADS_CAS_Bern_2020\\\\Projects\\\\M3\\\\Birds New Project\\\\ADS_CAS_Bern_2020\\\\Projects\\\\M3\\\\new_project\\\\data\\\\test.csv')\n",
    "train_df.head()\n",
    "test_df"
   ]
  },
  {
   "cell_type": "code",
   "execution_count": 6,
   "metadata": {
    "collapsed": false,
    "jupyter": {
     "outputs_hidden": false
    },
    "pycharm": {
     "name": "#%%\n"
    }
   },
   "outputs": [],
   "source": [
    "#from sklearn.model_selection import train_test_split\n",
    "#bird=test_df()\n",
    "#X_train, X_test, y_train, y_test = train_test_split(bird.data,bird.target)\n",
    "#print(X_train.shape)\n",
    "#print(X_test.shape)"
   ]
  },
  {
   "cell_type": "code",
   "execution_count": 6,
   "metadata": {
    "collapsed": false,
    "jupyter": {
     "outputs_hidden": false
    },
    "pycharm": {
     "name": "#%%\n"
    }
   },
   "outputs": [],
   "source": []
  },
  {
   "cell_type": "code",
   "execution_count": 7,
   "metadata": {
    "collapsed": false,
    "jupyter": {
     "outputs_hidden": false
    },
    "pycharm": {
     "name": "#%%\n"
    }
   },
   "outputs": [
    {
     "data": {
      "image/png": "[encoded data removed]",
      "text/plain": [
       "<Figure size 1440x720 with 1 Axes>"
      ]
     },
     "metadata": {
      "needs_background": "light"
     },
     "output_type": "display_data"
    }
   ],
   "source": [
    "fig, ax = plt.subplots(figsize=(20,10))\n",
    "train_df['species'].value_counts().plot.bar(ax=ax)\n",
    "plt.show()\n"
   ]
  },
  {
   "cell_type": "code",
   "execution_count": 8,
   "metadata": {
    "collapsed": false,
    "jupyter": {
     "outputs_hidden": false
    },
    "pycharm": {
     "name": "#%%\n"
    }
   },
   "outputs": [],
   "source": [
    "train_df['full_sp_name']= train_df['genus'] + '_' + train_df['species']\n",
    "test_df ['full_sp_name']= test_df['genus'] + '_' + test_df['species']"
   ]
  },
  {
   "cell_type": "code",
   "execution_count": 9,
   "metadata": {
    "collapsed": false,
    "jupyter": {
     "outputs_hidden": false
    },
    "pycharm": {
     "name": "#%%\n"
    }
   },
   "outputs": [],
   "source": [
    "features_train= list(train_df.columns)\n",
    "features_train.remove(\"id\")\n",
    "features_train.remove(\"genus\")\n",
    "features_train.remove(\"species\")\n",
    "features_train.remove(\"full_sp_name\")\n",
    "\n",
    "features_test= list(test_df.columns)\n",
    "features_test.remove(\"id\")\n",
    "features_test.remove(\"genus\")\n",
    "features_test.remove(\"species\")\n",
    "features_test.remove(\"full_sp_name\")"
   ]
  },
  {
   "cell_type": "code",
   "execution_count": 10,
   "metadata": {
    "collapsed": false,
    "jupyter": {
     "outputs_hidden": false
    },
    "pycharm": {
     "name": "#%%\n"
    }
   },
   "outputs": [
    {
     "data": {
      "text/html": [
       "<div>\n",
       "<style scoped>\n",
       "    .dataframe tbody tr th:only-of-type {\n",
       "        vertical-align: middle;\n",
       "    }\n",
       "\n",
       "    .dataframe tbody tr th {\n",
       "        vertical-align: top;\n",
       "    }\n",
       "\n",
       "    .dataframe thead th {\n",
       "        text-align: right;\n",
       "    }\n",
       "</style>\n",
       "<table border=\"1\" class=\"dataframe\">\n",
       "  <thead>\n",
       "    <tr style=\"text-align: right;\">\n",
       "      <th></th>\n",
       "      <th>id</th>\n",
       "      <th>chromogram_0_0</th>\n",
       "      <th>chromogram_0_1</th>\n",
       "      <th>chromogram_0_10</th>\n",
       "      <th>chromogram_0_11</th>\n",
       "      <th>chromogram_0_12</th>\n",
       "      <th>chromogram_0_2</th>\n",
       "      <th>chromogram_0_3</th>\n",
       "      <th>chromogram_0_4</th>\n",
       "      <th>chromogram_0_5</th>\n",
       "      <th>...</th>\n",
       "      <th>spec_centr_2</th>\n",
       "      <th>spec_centr_3</th>\n",
       "      <th>spec_centr_4</th>\n",
       "      <th>spec_centr_5</th>\n",
       "      <th>spec_centr_6</th>\n",
       "      <th>spec_centr_7</th>\n",
       "      <th>spec_centr_8</th>\n",
       "      <th>spec_centr_9</th>\n",
       "      <th>species</th>\n",
       "      <th>full_sp_name</th>\n",
       "    </tr>\n",
       "  </thead>\n",
       "  <tbody>\n",
       "    <tr>\n",
       "      <th>0</th>\n",
       "      <td>0</td>\n",
       "      <td>0.997944</td>\n",
       "      <td>0.832392</td>\n",
       "      <td>0.765386</td>\n",
       "      <td>0.704275</td>\n",
       "      <td>0.655724</td>\n",
       "      <td>0.331064</td>\n",
       "      <td>0.927524</td>\n",
       "      <td>0.307601</td>\n",
       "      <td>0.492226</td>\n",
       "      <td>...</td>\n",
       "      <td>2730.515996</td>\n",
       "      <td>2609.940118</td>\n",
       "      <td>2703.391485</td>\n",
       "      <td>2676.400501</td>\n",
       "      <td>2818.375970</td>\n",
       "      <td>2706.119792</td>\n",
       "      <td>2740.820762</td>\n",
       "      <td>2684.624946</td>\n",
       "      <td>flammea</td>\n",
       "      <td>Acanthis_flammea</td>\n",
       "    </tr>\n",
       "    <tr>\n",
       "      <th>1</th>\n",
       "      <td>1</td>\n",
       "      <td>0.996255</td>\n",
       "      <td>0.839120</td>\n",
       "      <td>0.760417</td>\n",
       "      <td>0.705142</td>\n",
       "      <td>0.662990</td>\n",
       "      <td>0.329859</td>\n",
       "      <td>0.924461</td>\n",
       "      <td>0.300951</td>\n",
       "      <td>0.493679</td>\n",
       "      <td>...</td>\n",
       "      <td>2730.212864</td>\n",
       "      <td>2609.668564</td>\n",
       "      <td>2703.721292</td>\n",
       "      <td>2676.695013</td>\n",
       "      <td>2818.554958</td>\n",
       "      <td>2705.497472</td>\n",
       "      <td>2741.509333</td>\n",
       "      <td>2683.727859</td>\n",
       "      <td>flammea</td>\n",
       "      <td>Acanthis_flammea</td>\n",
       "    </tr>\n",
       "    <tr>\n",
       "      <th>2</th>\n",
       "      <td>2</td>\n",
       "      <td>0.970810</td>\n",
       "      <td>0.823540</td>\n",
       "      <td>0.759508</td>\n",
       "      <td>0.709058</td>\n",
       "      <td>0.659750</td>\n",
       "      <td>0.336233</td>\n",
       "      <td>0.933035</td>\n",
       "      <td>0.301501</td>\n",
       "      <td>0.491263</td>\n",
       "      <td>...</td>\n",
       "      <td>2729.438087</td>\n",
       "      <td>2609.010529</td>\n",
       "      <td>2704.515718</td>\n",
       "      <td>2677.465965</td>\n",
       "      <td>2818.971388</td>\n",
       "      <td>2703.952638</td>\n",
       "      <td>2743.213960</td>\n",
       "      <td>2681.482884</td>\n",
       "      <td>flammea</td>\n",
       "      <td>Acanthis_flammea</td>\n",
       "    </tr>\n",
       "    <tr>\n",
       "      <th>3</th>\n",
       "      <td>3</td>\n",
       "      <td>1.000000</td>\n",
       "      <td>0.855558</td>\n",
       "      <td>0.752038</td>\n",
       "      <td>0.710977</td>\n",
       "      <td>0.664579</td>\n",
       "      <td>0.334564</td>\n",
       "      <td>0.928026</td>\n",
       "      <td>0.292012</td>\n",
       "      <td>0.493557</td>\n",
       "      <td>...</td>\n",
       "      <td>2728.961249</td>\n",
       "      <td>2608.631818</td>\n",
       "      <td>2704.971676</td>\n",
       "      <td>2677.953716</td>\n",
       "      <td>2819.200288</td>\n",
       "      <td>2703.033515</td>\n",
       "      <td>2744.224849</td>\n",
       "      <td>2680.133570</td>\n",
       "      <td>flammea</td>\n",
       "      <td>Acanthis_flammea</td>\n",
       "    </tr>\n",
       "    <tr>\n",
       "      <th>4</th>\n",
       "      <td>4</td>\n",
       "      <td>1.000000</td>\n",
       "      <td>0.884305</td>\n",
       "      <td>0.741885</td>\n",
       "      <td>0.714775</td>\n",
       "      <td>0.672465</td>\n",
       "      <td>0.329072</td>\n",
       "      <td>0.912804</td>\n",
       "      <td>0.279094</td>\n",
       "      <td>0.501200</td>\n",
       "      <td>...</td>\n",
       "      <td>2728.800252</td>\n",
       "      <td>2608.508516</td>\n",
       "      <td>2705.120155</td>\n",
       "      <td>2678.118949</td>\n",
       "      <td>2819.273155</td>\n",
       "      <td>2702.728487</td>\n",
       "      <td>2744.559785</td>\n",
       "      <td>2679.683390</td>\n",
       "      <td>flammea</td>\n",
       "      <td>Acanthis_flammea</td>\n",
       "    </tr>\n",
       "  </tbody>\n",
       "</table>\n",
       "<p>5 rows × 173 columns</p>\n",
       "</div>"
      ],
      "text/plain": [
       "   id  chromogram_0_0  chromogram_0_1  chromogram_0_10  chromogram_0_11  \\\n",
       "0   0        0.997944        0.832392         0.765386         0.704275   \n",
       "1   1        0.996255        0.839120         0.760417         0.705142   \n",
       "2   2        0.970810        0.823540         0.759508         0.709058   \n",
       "3   3        1.000000        0.855558         0.752038         0.710977   \n",
       "4   4        1.000000        0.884305         0.741885         0.714775   \n",
       "\n",
       "   chromogram_0_12  chromogram_0_2  chromogram_0_3  chromogram_0_4  \\\n",
       "0         0.655724        0.331064        0.927524        0.307601   \n",
       "1         0.662990        0.329859        0.924461        0.300951   \n",
       "2         0.659750        0.336233        0.933035        0.301501   \n",
       "3         0.664579        0.334564        0.928026        0.292012   \n",
       "4         0.672465        0.329072        0.912804        0.279094   \n",
       "\n",
       "   chromogram_0_5  ...  spec_centr_2  spec_centr_3  spec_centr_4  \\\n",
       "0        0.492226  ...   2730.515996   2609.940118   2703.391485   \n",
       "1        0.493679  ...   2730.212864   2609.668564   2703.721292   \n",
       "2        0.491263  ...   2729.438087   2609.010529   2704.515718   \n",
       "3        0.493557  ...   2728.961249   2608.631818   2704.971676   \n",
       "4        0.501200  ...   2728.800252   2608.508516   2705.120155   \n",
       "\n",
       "   spec_centr_5  spec_centr_6  spec_centr_7  spec_centr_8  spec_centr_9  \\\n",
       "0   2676.400501   2818.375970   2706.119792   2740.820762   2684.624946   \n",
       "1   2676.695013   2818.554958   2705.497472   2741.509333   2683.727859   \n",
       "2   2677.465965   2818.971388   2703.952638   2743.213960   2681.482884   \n",
       "3   2677.953716   2819.200288   2703.033515   2744.224849   2680.133570   \n",
       "4   2678.118949   2819.273155   2702.728487   2744.559785   2679.683390   \n",
       "\n",
       "   species      full_sp_name  \n",
       "0  flammea  Acanthis_flammea  \n",
       "1  flammea  Acanthis_flammea  \n",
       "2  flammea  Acanthis_flammea  \n",
       "3  flammea  Acanthis_flammea  \n",
       "4  flammea  Acanthis_flammea  \n",
       "\n",
       "[5 rows x 173 columns]"
      ]
     },
     "execution_count": 10,
     "metadata": {},
     "output_type": "execute_result"
    }
   ],
   "source": [
    "train_df.head()"
   ]
  },
  {
   "cell_type": "code",
   "execution_count": 11,
   "metadata": {
    "collapsed": false,
    "jupyter": {
     "outputs_hidden": false
    },
    "pycharm": {
     "name": "#%%\n"
    }
   },
   "outputs": [
    {
     "data": {
      "image/png": "[encoded data removed]",
      "text/plain": [
       "<Figure size 1440x720 with 1 Axes>"
      ]
     },
     "metadata": {
      "needs_background": "light"
     },
     "output_type": "display_data"
    }
   ],
   "source": [
    "fig, ax = plt.subplots(figsize=(20,10))\n",
    "train_df['full_sp_name'].value_counts().plot.bar(ax=ax)\n",
    "plt.show()\n"
   ]
  },
  {
   "cell_type": "code",
   "execution_count": 11,
   "metadata": {
    "collapsed": false,
    "jupyter": {
     "outputs_hidden": false
    },
    "pycharm": {
     "name": "#%%\n"
    }
   },
   "outputs": [],
   "source": []
  },
  {
   "cell_type": "code",
   "execution_count": 11,
   "metadata": {
    "collapsed": false,
    "jupyter": {
     "outputs_hidden": false
    },
    "pycharm": {
     "name": "#%%\n"
    }
   },
   "outputs": [],
   "source": []
  },
  {
   "cell_type": "code",
   "execution_count": 12,
   "metadata": {
    "collapsed": false,
    "jupyter": {
     "outputs_hidden": false
    },
    "pycharm": {
     "name": "#%%\n"
    }
   },
   "outputs": [],
   "source": [
    "\n",
    "from sklearn.preprocessing import LabelEncoder\n",
    "from sklearn.preprocessing import StandardScaler\n",
    "from sklearn.preprocessing import MinMaxScaler"
   ]
  },
  {
   "cell_type": "code",
   "execution_count": 13,
   "metadata": {
    "collapsed": false,
    "jupyter": {
     "outputs_hidden": false
    },
    "pycharm": {
     "name": "#%%\n"
    }
   },
   "outputs": [],
   "source": [
    "scaler = MinMaxScaler()\n",
    "scaler.fit(train_df[features_train])\n",
    "\n",
    "X_train_scaled = scaler.transform(train_df[features_train])\n",
    "X_test_scaled = scaler.transform(test_df[features_test])\n",
    "\n",
    "X= X_train_scaled\n",
    "\n",
    "y= train_df['full_sp_name']\n",
    "\n",
    "X_test = X_test_scaled\n",
    "\n",
    "y_test = test_df['full_sp_name']\n"
   ]
  },
  {
   "cell_type": "code",
   "execution_count": 20,
   "metadata": {
    "collapsed": false,
    "jupyter": {
     "outputs_hidden": false
    },
    "pycharm": {
     "name": "#%%Support Vector Classification\n"
    }
   },
   "outputs": [
    {
     "name": "stdout",
     "output_type": "stream",
     "text": [
      "Training set score: 1.000\n",
      "Test set score: 0.982\n"
     ]
    },
    {
     "name": "stderr",
     "output_type": "stream",
     "text": [
      "C:\\Users\\valer\\anaconda3\\lib\\site-packages\\sklearn\\svm\\_base.py:976: ConvergenceWarning: Liblinear failed to converge, increase the number of iterations.\n",
      "  warnings.warn(\"Liblinear failed to converge, increase \"\n"
     ]
    }
   ],
   "source": [
    "from sklearn.svm import LinearSVC\n",
    "LinearSVC = LinearSVC(C=100)\n",
    "LinearSVC.fit(X, y)\n",
    "LinearSVC.score(X_test, y_test)\n",
    "print(\"Training set score: {:.3f}\".format(LinearSVC.score(X, y)))\n",
    "print(\"Test set score: {:.3f}\".format(LinearSVC.score(X_test, y_test)))"
   ]
  },
  {
   "cell_type": "code",
   "execution_count": 13,
   "metadata": {
    "collapsed": false,
    "jupyter": {
     "outputs_hidden": false
    },
    "pycharm": {
     "name": "#%%decision tree tends to overfit, thus accuracy is 100% on the training set, but very low on the testing set\n"
    }
   },
   "outputs": [
    {
     "name": "stdout",
     "output_type": "stream",
     "text": [
      "Accuracy on training set: 1.000\n",
      "Accuracy on test set: 0.925\n"
     ]
    }
   ],
   "source": [
    "from sklearn.tree import DecisionTreeClassifier\n",
    "tree=DecisionTreeClassifier(random_state=0)\n",
    "tree.fit(X,y)\n",
    "print(\"Accuracy on training set: {:.3f}\".format(tree.score(X, y)))\n",
    "print(\"Accuracy on test set: {:.3f}\".format(tree.score(X_test, y_test)))"
   ]
  },
  {
   "cell_type": "code",
   "execution_count": 14,
   "metadata": {
    "collapsed": false,
    "jupyter": {
     "outputs_hidden": false
    },
    "pycharm": {
     "name": "#%% To increase the efficiency of the model, we use pre-pruning technique and stop at a certain depth\n"
    }
   },
   "outputs": [
    {
     "name": "stdout",
     "output_type": "stream",
     "text": [
      "Accuracy on train set: 1.000\n",
      "Accuracy on test set: 0.925\n"
     ]
    }
   ],
   "source": [
    "tree=DecisionTreeClassifier(max_depth=50, random_state=0)\n",
    "tree.fit(X,y)\n",
    "print(\"Accuracy on train set: {:.3f}\".format(tree.score(X, y)))\n",
    "print(\"Accuracy on test set: {:.3f}\".format(tree.score(X_test, y_test)))"
   ]
  },
  {
   "cell_type": "code",
   "execution_count": 15,
   "metadata": {
    "collapsed": false,
    "jupyter": {
     "outputs_hidden": false
    },
    "pycharm": {
     "name": "#%%such wide area of dispersion among feauture importance shows why change in depth of the decision tree didn't show better result\n"
    }
   },
   "outputs": [
    {
     "data": {
      "image/png": "[encoded data removed]",
      "text/plain": [
       "<Figure size 432x288 with 1 Axes>"
      ]
     },
     "metadata": {
      "needs_background": "light"
     },
     "output_type": "display_data"
    }
   ],
   "source": [
    "def plot_features_importances(model):\n",
    "    n_features = train_df[features_train].shape[1]\n",
    "    plt.barh(np.arange(n_features), model.feature_importances_, align='center')\n",
    "    plt.yticks(np.arange(n_features),features_train)\n",
    "    plt.xlabel(\"Feature importance\")\n",
    "    plt.ylabel(\"Feature\")\n",
    "    plt.ylim(-1, n_features)\n",
    "\n",
    "plot_features_importances(tree)\n",
    "\n"
   ]
  },
  {
   "cell_type": "code",
   "execution_count": 16,
   "metadata": {
    "collapsed": false,
    "jupyter": {
     "outputs_hidden": false
    },
    "pycharm": {
     "name": "#%% Random forest improved the accuracy of the algorithm because it reduces the overfiting by averaging the result of individual trees\n"
    }
   },
   "outputs": [
    {
     "name": "stdout",
     "output_type": "stream",
     "text": [
      "Accuracy on training set: 1.000\n",
      "Accuracy on test set: 0.987\n"
     ]
    }
   ],
   "source": [
    "#However, we needed to keep a significant number of trees in order to improve the result. This is due again to the wide distribution of feautures in the training data\n",
    "from sklearn.ensemble import RandomForestClassifier\n",
    "from sklearn.datasets import make_classification\n",
    "make_classification(n_samples=1000, n_features=169,n_informative=2, n_redundant=0,random_state=0, shuffle=False)\n",
    "\n",
    "forest = RandomForestClassifier(n_estimators=100,max_depth=50)\n",
    "forest.fit(X, y)\n",
    "forest.score(X_test, y_test)\n",
    "print(\"Accuracy on training set: {:.3f}\".format(forest.score(X, y)))\n",
    "print(\"Accuracy on test set: {:.3f}\".format(forest.score(X_test, y_test)))\n",
    "\n",
    "\n",
    "\n"
   ]
  },
  {
   "cell_type": "code",
   "execution_count": 16,
   "metadata": {
    "collapsed": false,
    "jupyter": {
     "outputs_hidden": false
    },
    "pycharm": {
     "name": "#%%\n"
    }
   },
   "outputs": [],
   "source": []
  },
  {
   "cell_type": "code",
   "execution_count": 17,
   "metadata": {
    "collapsed": false,
    "jupyter": {
     "outputs_hidden": false
    },
    "pycharm": {
     "name": "#%% using gradient boosted decision trees\n"
    }
   },
   "outputs": [],
   "source": [
    "#from sklearn.ensemble import GradientBoostingClassifier\n",
    "#gbrt = GradientBoostingClassifier(random_state=0)\n",
    "#gbrt.fit(X, y)\n",
    "\n",
    "#print(\"Accuracy on training set: {:.3f}\".format(gbrt.score(X, y)))\n",
    "#print(\"Accuracy on test set: {:.3f}\".format(gbrt.score(X_test, y_test)))"
   ]
  },
  {
   "cell_type": "code",
   "execution_count": 22,
   "metadata": {
    "collapsed": false,
    "jupyter": {
     "outputs_hidden": false
    },
    "pycharm": {
     "name": "#%%using Logistic regression\n"
    }
   },
   "outputs": [
    {
     "name": "stdout",
     "output_type": "stream",
     "text": [
      "Training set score: 0.998\n",
      "Test set score: 0.960\n"
     ]
    },
    {
     "name": "stderr",
     "output_type": "stream",
     "text": [
      "C:\\Users\\valer\\anaconda3\\lib\\site-packages\\sklearn\\linear_model\\_logistic.py:762: ConvergenceWarning: lbfgs failed to converge (status=1):\n",
      "STOP: TOTAL NO. of ITERATIONS REACHED LIMIT.\n",
      "\n",
      "Increase the number of iterations (max_iter) or scale the data as shown in:\n",
      "    https://scikit-learn.org/stable/modules/preprocessing.html\n",
      "Please also refer to the documentation for alternative solver options:\n",
      "    https://scikit-learn.org/stable/modules/linear_model.html#logistic-regression\n",
      "  n_iter_i = _check_optimize_result(\n"
     ]
    }
   ],
   "source": [
    "from sklearn.linear_model import LogisticRegression\n",
    "from sklearn.svm import LinearSVC\n",
    "\n",
    "logreg = LogisticRegression().fit(X, y)\n",
    "print(\"Training set score: {:.3f}\".format(logreg.score(X, y)))\n",
    "print(\"Test set score: {:.3f}\".format(logreg.score(X_test, y_test)))\n"
   ]
  },
  {
   "cell_type": "code",
   "execution_count": 25,
   "metadata": {
    "collapsed": false,
    "jupyter": {
     "outputs_hidden": false
    },
    "pycharm": {
     "name": "#%% we increase the number of reiterations for logistic regresssion\n"
    }
   },
   "outputs": [
    {
     "name": "stdout",
     "output_type": "stream",
     "text": [
      "Training set score: 1.000\n",
      "Test set score: 0.979\n"
     ]
    },
    {
     "name": "stderr",
     "output_type": "stream",
     "text": [
      "C:\\Users\\valer\\anaconda3\\lib\\site-packages\\sklearn\\linear_model\\_logistic.py:762: ConvergenceWarning: lbfgs failed to converge (status=1):\n",
      "STOP: TOTAL NO. of ITERATIONS REACHED LIMIT.\n",
      "\n",
      "Increase the number of iterations (max_iter) or scale the data as shown in:\n",
      "    https://scikit-learn.org/stable/modules/preprocessing.html\n",
      "Please also refer to the documentation for alternative solver options:\n",
      "    https://scikit-learn.org/stable/modules/linear_model.html#logistic-regression\n",
      "  n_iter_i = _check_optimize_result(\n"
     ]
    }
   ],
   "source": [
    "logreg100 = LogisticRegression(C=100)\n",
    "logreg100.fit(X, y)\n",
    "print(\"Training set score: {:.3f}\".format(logreg100.score(X, y)))\n",
    "print(\"Test set score: {:.3f}\".format(logreg100.score(X_test, y_test)))"
   ]
  },
  {
   "cell_type": "code",
   "execution_count": 20,
   "metadata": {
    "collapsed": false,
    "jupyter": {
     "outputs_hidden": false
    },
    "pycharm": {
     "name": "#%%\n"
    }
   },
   "outputs": [
    {
     "name": "stderr",
     "output_type": "stream",
     "text": [
      "C:\\Users\\valer\\anaconda3\\lib\\site-packages\\sklearn\\utils\\deprecation.py:143: FutureWarning: The sklearn.utils.testing module is  deprecated in version 0.22 and will be removed in version 0.24. The corresponding classes / functions should instead be imported from sklearn.utils. Anything that cannot be imported from sklearn.utils is now part of the private API.\n",
      "  warnings.warn(message, FutureWarning)\n",
      "100%|██████████| 29/29 [05:42<00:00, 11.79s/it]\n"
     ]
    },
    {
     "name": "stdout",
     "output_type": "stream",
     "text": [
      "                               Accuracy  Balanced Accuracy ROC AUC  F1 Score  \\\n",
      "Model                                                                          \n",
      "ExtraTreesClassifier               0.99               0.99    None      0.99   \n",
      "RandomForestClassifier             0.99               0.99    None      0.99   \n",
      "LogisticRegression                 0.98               0.98    None      0.98   \n",
      "CalibratedClassifierCV             0.98               0.98    None      0.98   \n",
      "LinearSVC                          0.98               0.98    None      0.98   \n",
      "PassiveAggressiveClassifier        0.98               0.98    None      0.98   \n",
      "BaggingClassifier                  0.98               0.98    None      0.98   \n",
      "SGDClassifier                      0.96               0.97    None      0.97   \n",
      "LabelPropagation                   0.97               0.97    None      0.98   \n",
      "LabelSpreading                     0.97               0.97    None      0.98   \n",
      "Perceptron                         0.97               0.97    None      0.97   \n",
      "SVC                                0.96               0.97    None      0.96   \n",
      "XGBClassifier                      0.96               0.96    None      0.96   \n",
      "LGBMClassifier                     0.96               0.96    None      0.96   \n",
      "LinearDiscriminantAnalysis         0.94               0.95    None      0.95   \n",
      "ExtraTreeClassifier                0.93               0.94    None      0.94   \n",
      "KNeighborsClassifier               0.92               0.94    None      0.93   \n",
      "RidgeClassifier                    0.92               0.94    None      0.93   \n",
      "RidgeClassifierCV                  0.92               0.94    None      0.93   \n",
      "DecisionTreeClassifier             0.91               0.93    None      0.92   \n",
      "GaussianNB                         0.93               0.93    None      0.94   \n",
      "NuSVC                              0.91               0.92    None      0.92   \n",
      "BernoulliNB                        0.75               0.76    None      0.77   \n",
      "NearestCentroid                    0.74               0.75    None      0.75   \n",
      "QuadraticDiscriminantAnalysis      0.39               0.52    None      0.39   \n",
      "AdaBoostClassifier                 0.07               0.07    None      0.04   \n",
      "DummyClassifier                    0.01               0.01    None      0.01   \n",
      "\n",
      "                               Time Taken  \n",
      "Model                                      \n",
      "ExtraTreesClassifier                 1.62  \n",
      "RandomForestClassifier               5.50  \n",
      "LogisticRegression                   1.69  \n",
      "CalibratedClassifierCV              32.35  \n",
      "LinearSVC                            6.74  \n",
      "PassiveAggressiveClassifier          1.22  \n",
      "BaggingClassifier                    8.25  \n",
      "SGDClassifier                        0.90  \n",
      "LabelPropagation                     2.37  \n",
      "LabelSpreading                       2.50  \n",
      "Perceptron                           0.72  \n",
      "SVC                                  9.26  \n",
      "XGBClassifier                       46.24  \n",
      "LGBMClassifier                     191.20  \n",
      "LinearDiscriminantAnalysis           0.40  \n",
      "ExtraTreeClassifier                  0.27  \n",
      "KNeighborsClassifier                 5.26  \n",
      "RidgeClassifier                      0.28  \n",
      "RidgeClassifierCV                    0.37  \n",
      "DecisionTreeClassifier               1.33  \n",
      "GaussianNB                           2.54  \n",
      "NuSVC                               10.66  \n",
      "BernoulliNB                          0.29  \n",
      "NearestCentroid                      0.31  \n",
      "QuadraticDiscriminantAnalysis        2.09  \n",
      "AdaBoostClassifier                   7.34  \n",
      "DummyClassifier                      0.32  \n"
     ]
    }
   ],
   "source": [
    "from lazypredict.Supervised import LazyClassifier\n",
    "clf = LazyClassifier(verbose = 0, ignore_warnings = True,custom_metric = None)\n",
    "models,predictions = clf.fit(X,X_test,y,y_test)\n",
    "print(models)"
   ]
  },
  {
   "cell_type": "code",
   "execution_count": 21,
   "metadata": {
    "collapsed": false,
    "jupyter": {
     "outputs_hidden": false
    },
    "pycharm": {
     "name": "#%%trying with neural networks\n"
    }
   },
   "outputs": [
    {
     "name": "stdout",
     "output_type": "stream",
     "text": [
      "Accuracy on training set: 1.00\n",
      "Accuracy on test set: 0.97\n"
     ]
    }
   ],
   "source": [
    "from sklearn.neural_network import MLPClassifier\n",
    "mlp = MLPClassifier(random_state=42)\n",
    "mlp.fit(X, y)\n",
    "\n",
    "print(\"Accuracy on training set: {:.2f}\".format(mlp.score(X, y)))\n",
    "print(\"Accuracy on test set: {:.2f}\".format(mlp.score(X_test, y_test)))"
   ]
  },
  {
   "cell_type": "code",
   "execution_count": 22,
   "metadata": {
    "collapsed": false,
    "jupyter": {
     "outputs_hidden": false
    },
    "pycharm": {
     "name": "#%%\n"
    }
   },
   "outputs": [
    {
     "name": "stdout",
     "output_type": "stream",
     "text": [
      "Accuracy on training set: 1.000\n",
      "Accuracy on test set: 0.978\n"
     ]
    }
   ],
   "source": [
    "# compute the mean value per feature on the training set\n",
    "mean_on_train = X.mean(axis=0)\n",
    "# compute the standard deviation of each feature on the training set\n",
    "std_on_train = X.std(axis=0)\n",
    "\n",
    "# subtract the mean, and scale by inverse standard deviation\n",
    "# afterward, mean=0 and std=1\n",
    "X_train_scaled = (X - mean_on_train) / std_on_train\n",
    "# use THE SAME transformation (using training mean and std) on the test set\n",
    "X_test_scaled = (X_test - mean_on_train) / std_on_train\n",
    "\n",
    "mlp = MLPClassifier(random_state=0)\n",
    "mlp.fit(X_train_scaled, y)\n",
    "\n",
    "print(\"Accuracy on training set: {:.3f}\".format(\n",
    "    mlp.score(X_train_scaled, y)))\n",
    "print(\"Accuracy on test set: {:.3f}\".format(mlp.score(X_test_scaled, y_test)))"
   ]
  },
  {
   "cell_type": "code",
   "execution_count": 23,
   "metadata": {
    "collapsed": false,
    "jupyter": {
     "outputs_hidden": false
    },
    "pycharm": {
     "name": "#%%\n"
    }
   },
   "outputs": [
    {
     "name": "stdout",
     "output_type": "stream",
     "text": [
      "Accuracy on training set: 1.000\n",
      "Accuracy on test set: 0.978\n"
     ]
    }
   ],
   "source": [
    "mlp = MLPClassifier(max_iter=1000, random_state=0)\n",
    "mlp.fit(X_train_scaled, y)\n",
    "\n",
    "print(\"Accuracy on training set: {:.3f}\".format(\n",
    "    mlp.score(X_train_scaled, y)))\n",
    "print(\"Accuracy on test set: {:.3f}\".format(mlp.score(X_test_scaled, y_test)))"
   ]
  }
 ],
 "metadata": {
  "kernelspec": {
   "display_name": "Python 3",
   "language": "python",
   "name": "python3"
  },
  "language_info": {
   "codemirror_mode": {
    "name": "ipython",
    "version": 3
   },
   "file_extension": ".py",
   "mimetype": "text/x-python",
   "name": "python",
   "nbconvert_exporter": "python",
   "pygments_lexer": "ipython3",
   "version": "3.8.8"
  }
 },
 "nbformat": 4,
 "nbformat_minor": 4
}