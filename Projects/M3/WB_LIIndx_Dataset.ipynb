{
 "cells": [
  {
   "cell_type": "code",
   "execution_count": 1,
   "metadata": {},
   "outputs": [],
   "source": [
    "import pandas as pd\n",
    "import os"
   ]
  },
  {
   "cell_type": "code",
   "execution_count": null,
   "metadata": {},
   "outputs": [],
   "source": []
  },
  {
   "cell_type": "code",
   "execution_count": 2,
   "metadata": {},
   "outputs": [
    {
     "data": {
      "text/plain": [
       "'/Users/rubencito/CAS_datascience/ADS_CAS_Bern_2020/Projects/M3'"
      ]
     },
     "execution_count": 2,
     "metadata": {},
     "output_type": "execute_result"
    }
   ],
   "source": [
    "os.chdir('/Users/rubencito/CAS_datascience/ADS_CAS_Bern_2020/Projects/M3')\n",
    "path = os.getcwd()\n",
    "path"
   ]
  },
  {
   "cell_type": "code",
   "execution_count": 3,
   "metadata": {},
   "outputs": [],
   "source": [
    "excel_path = os.path.join(path, \n",
    "             \"datasets\",\n",
    "             \"Civil_liberties_index\",\n",
    "             \"data.csv\")"
   ]
  },
  {
   "cell_type": "code",
   "execution_count": 4,
   "metadata": {},
   "outputs": [],
   "source": [
    "raw_df = pd.read_csv(excel_path, header= 0)#, skiprows= lambda x : logic(x, 8))"
   ]
  },
  {
   "cell_type": "code",
   "execution_count": 5,
   "metadata": {},
   "outputs": [
    {
     "data": {
      "text/html": [
       "<div>\n",
       "<style scoped>\n",
       "    .dataframe tbody tr th:only-of-type {\n",
       "        vertical-align: middle;\n",
       "    }\n",
       "\n",
       "    .dataframe tbody tr th {\n",
       "        vertical-align: top;\n",
       "    }\n",
       "\n",
       "    .dataframe thead th {\n",
       "        text-align: right;\n",
       "    }\n",
       "</style>\n",
       "<table border=\"1\" class=\"dataframe\">\n",
       "  <thead>\n",
       "    <tr style=\"text-align: right;\">\n",
       "      <th></th>\n",
       "      <th>Country ISO3</th>\n",
       "      <th>Country Name</th>\n",
       "      <th>Indicator Id</th>\n",
       "      <th>Indicator</th>\n",
       "      <th>Subindicator Type</th>\n",
       "      <th>1975</th>\n",
       "      <th>1976</th>\n",
       "      <th>1977</th>\n",
       "      <th>1978</th>\n",
       "      <th>1979</th>\n",
       "      <th>...</th>\n",
       "      <th>2009</th>\n",
       "      <th>2010</th>\n",
       "      <th>2011</th>\n",
       "      <th>2012</th>\n",
       "      <th>2013</th>\n",
       "      <th>2014</th>\n",
       "      <th>2015</th>\n",
       "      <th>2016</th>\n",
       "      <th>2017</th>\n",
       "      <th>2018</th>\n",
       "    </tr>\n",
       "  </thead>\n",
       "  <tbody>\n",
       "    <tr>\n",
       "      <th>0</th>\n",
       "      <td>AFG</td>\n",
       "      <td>Afghanistan</td>\n",
       "      <td>41794</td>\n",
       "      <td>Absence of corruption (Global States of Democr...</td>\n",
       "      <td>Scaled to range from 0 (lowest score) to 1 (hi...</td>\n",
       "      <td>0.445052</td>\n",
       "      <td>0.445052</td>\n",
       "      <td>0.445052</td>\n",
       "      <td>0.419416</td>\n",
       "      <td>0.443398</td>\n",
       "      <td>...</td>\n",
       "      <td>0.176905</td>\n",
       "      <td>0.176905</td>\n",
       "      <td>0.176905</td>\n",
       "      <td>0.176905</td>\n",
       "      <td>0.176306</td>\n",
       "      <td>0.195783</td>\n",
       "      <td>0.214885</td>\n",
       "      <td>0.190394</td>\n",
       "      <td>0.190394</td>\n",
       "      <td>0.236799</td>\n",
       "    </tr>\n",
       "    <tr>\n",
       "      <th>1</th>\n",
       "      <td>AFG</td>\n",
       "      <td>Afghanistan</td>\n",
       "      <td>41795</td>\n",
       "      <td>Access to justice</td>\n",
       "      <td>Scaled to range from 0 (lowest score) to 1 (hi...</td>\n",
       "      <td>0.397449</td>\n",
       "      <td>0.396095</td>\n",
       "      <td>0.397115</td>\n",
       "      <td>0.383026</td>\n",
       "      <td>0.343407</td>\n",
       "      <td>...</td>\n",
       "      <td>0.356947</td>\n",
       "      <td>0.348901</td>\n",
       "      <td>0.351452</td>\n",
       "      <td>0.350275</td>\n",
       "      <td>0.346546</td>\n",
       "      <td>0.347724</td>\n",
       "      <td>0.347527</td>\n",
       "      <td>0.320447</td>\n",
       "      <td>0.335165</td>\n",
       "      <td>0.304749</td>\n",
       "    </tr>\n",
       "    <tr>\n",
       "      <th>2</th>\n",
       "      <td>AFG</td>\n",
       "      <td>Afghanistan</td>\n",
       "      <td>41796</td>\n",
       "      <td>Access to justice for men</td>\n",
       "      <td>Scaled to range from 0 (lowest score) to 1 (hi...</td>\n",
       "      <td>0.464411</td>\n",
       "      <td>0.464411</td>\n",
       "      <td>0.467178</td>\n",
       "      <td>0.420397</td>\n",
       "      <td>0.336519</td>\n",
       "      <td>...</td>\n",
       "      <td>0.386444</td>\n",
       "      <td>0.386444</td>\n",
       "      <td>0.386444</td>\n",
       "      <td>0.386444</td>\n",
       "      <td>0.379527</td>\n",
       "      <td>0.386444</td>\n",
       "      <td>0.386444</td>\n",
       "      <td>0.348717</td>\n",
       "      <td>0.362802</td>\n",
       "      <td>0.297158</td>\n",
       "    </tr>\n",
       "    <tr>\n",
       "      <th>3</th>\n",
       "      <td>AFG</td>\n",
       "      <td>Afghanistan</td>\n",
       "      <td>41797</td>\n",
       "      <td>Access to justice for women</td>\n",
       "      <td>Scaled to range from 0 (lowest score) to 1 (hi...</td>\n",
       "      <td>0.326403</td>\n",
       "      <td>0.326403</td>\n",
       "      <td>0.326403</td>\n",
       "      <td>0.409693</td>\n",
       "      <td>0.432822</td>\n",
       "      <td>...</td>\n",
       "      <td>0.399558</td>\n",
       "      <td>0.376949</td>\n",
       "      <td>0.376949</td>\n",
       "      <td>0.376949</td>\n",
       "      <td>0.364735</td>\n",
       "      <td>0.364735</td>\n",
       "      <td>0.356939</td>\n",
       "      <td>0.351741</td>\n",
       "      <td>0.363176</td>\n",
       "      <td>0.384745</td>\n",
       "    </tr>\n",
       "    <tr>\n",
       "      <th>4</th>\n",
       "      <td>AFG</td>\n",
       "      <td>Afghanistan</td>\n",
       "      <td>41798</td>\n",
       "      <td>Barriers to parties</td>\n",
       "      <td>Scaled to range from 0 (lowest score) to 1 (hi...</td>\n",
       "      <td>0.263158</td>\n",
       "      <td>0.263158</td>\n",
       "      <td>0.263158</td>\n",
       "      <td>0.263158</td>\n",
       "      <td>0.210526</td>\n",
       "      <td>...</td>\n",
       "      <td>0.578947</td>\n",
       "      <td>0.473684</td>\n",
       "      <td>0.473684</td>\n",
       "      <td>0.473684</td>\n",
       "      <td>0.526316</td>\n",
       "      <td>0.526316</td>\n",
       "      <td>0.526316</td>\n",
       "      <td>0.473684</td>\n",
       "      <td>0.578947</td>\n",
       "      <td>0.473684</td>\n",
       "    </tr>\n",
       "  </tbody>\n",
       "</table>\n",
       "<p>5 rows × 49 columns</p>\n",
       "</div>"
      ],
      "text/plain": [
       "  Country ISO3 Country Name  Indicator Id  \\\n",
       "0          AFG  Afghanistan         41794   \n",
       "1          AFG  Afghanistan         41795   \n",
       "2          AFG  Afghanistan         41796   \n",
       "3          AFG  Afghanistan         41797   \n",
       "4          AFG  Afghanistan         41798   \n",
       "\n",
       "                                           Indicator  \\\n",
       "0  Absence of corruption (Global States of Democr...   \n",
       "1                                 Access to justice    \n",
       "2                         Access to justice for men    \n",
       "3                       Access to justice for women    \n",
       "4                               Barriers to parties    \n",
       "\n",
       "                                   Subindicator Type      1975      1976  \\\n",
       "0  Scaled to range from 0 (lowest score) to 1 (hi...  0.445052  0.445052   \n",
       "1  Scaled to range from 0 (lowest score) to 1 (hi...  0.397449  0.396095   \n",
       "2  Scaled to range from 0 (lowest score) to 1 (hi...  0.464411  0.464411   \n",
       "3  Scaled to range from 0 (lowest score) to 1 (hi...  0.326403  0.326403   \n",
       "4  Scaled to range from 0 (lowest score) to 1 (hi...  0.263158  0.263158   \n",
       "\n",
       "       1977      1978      1979  ...      2009      2010      2011      2012  \\\n",
       "0  0.445052  0.419416  0.443398  ...  0.176905  0.176905  0.176905  0.176905   \n",
       "1  0.397115  0.383026  0.343407  ...  0.356947  0.348901  0.351452  0.350275   \n",
       "2  0.467178  0.420397  0.336519  ...  0.386444  0.386444  0.386444  0.386444   \n",
       "3  0.326403  0.409693  0.432822  ...  0.399558  0.376949  0.376949  0.376949   \n",
       "4  0.263158  0.263158  0.210526  ...  0.578947  0.473684  0.473684  0.473684   \n",
       "\n",
       "       2013      2014      2015      2016      2017      2018  \n",
       "0  0.176306  0.195783  0.214885  0.190394  0.190394  0.236799  \n",
       "1  0.346546  0.347724  0.347527  0.320447  0.335165  0.304749  \n",
       "2  0.379527  0.386444  0.386444  0.348717  0.362802  0.297158  \n",
       "3  0.364735  0.364735  0.356939  0.351741  0.363176  0.384745  \n",
       "4  0.526316  0.526316  0.526316  0.473684  0.578947  0.473684  \n",
       "\n",
       "[5 rows x 49 columns]"
      ]
     },
     "execution_count": 5,
     "metadata": {},
     "output_type": "execute_result"
    }
   ],
   "source": [
    "raw_df.head()"
   ]
  },
  {
   "cell_type": "code",
   "execution_count": 6,
   "metadata": {},
   "outputs": [],
   "source": [
    "raw_df = raw_df[raw_df[\"Indicator\"].str.contains(\"Civil liber\")].reset_index(drop = True)"
   ]
  },
  {
   "cell_type": "code",
   "execution_count": 7,
   "metadata": {},
   "outputs": [],
   "source": [
    "my_columns = raw_df.columns.to_list()"
   ]
  },
  {
   "cell_type": "code",
   "execution_count": 8,
   "metadata": {},
   "outputs": [],
   "source": [
    "long_df = raw_df.melt(id_vars=my_columns[:2],\n",
    "            value_vars=my_columns[5:],\n",
    "            var_name='year', \n",
    "            value_name=raw_df['Indicator'][1] + \"index\")"
   ]
  },
  {
   "cell_type": "code",
   "execution_count": 9,
   "metadata": {},
   "outputs": [
    {
     "data": {
      "text/html": [
       "<div>\n",
       "<style scoped>\n",
       "    .dataframe tbody tr th:only-of-type {\n",
       "        vertical-align: middle;\n",
       "    }\n",
       "\n",
       "    .dataframe tbody tr th {\n",
       "        vertical-align: top;\n",
       "    }\n",
       "\n",
       "    .dataframe thead th {\n",
       "        text-align: right;\n",
       "    }\n",
       "</style>\n",
       "<table border=\"1\" class=\"dataframe\">\n",
       "  <thead>\n",
       "    <tr style=\"text-align: right;\">\n",
       "      <th></th>\n",
       "      <th>Country ISO3</th>\n",
       "      <th>Country Name</th>\n",
       "      <th>year</th>\n",
       "      <th>Civil liberties index</th>\n",
       "    </tr>\n",
       "  </thead>\n",
       "  <tbody>\n",
       "    <tr>\n",
       "      <th>0</th>\n",
       "      <td>AFG</td>\n",
       "      <td>Afghanistan</td>\n",
       "      <td>1975</td>\n",
       "      <td>0.382409</td>\n",
       "    </tr>\n",
       "    <tr>\n",
       "      <th>1</th>\n",
       "      <td>AGO</td>\n",
       "      <td>Angola</td>\n",
       "      <td>1975</td>\n",
       "      <td>0.215496</td>\n",
       "    </tr>\n",
       "    <tr>\n",
       "      <th>2</th>\n",
       "      <td>ALB</td>\n",
       "      <td>Albania</td>\n",
       "      <td>1975</td>\n",
       "      <td>0.076784</td>\n",
       "    </tr>\n",
       "    <tr>\n",
       "      <th>3</th>\n",
       "      <td>ARE</td>\n",
       "      <td>United Arab Emirates</td>\n",
       "      <td>1975</td>\n",
       "      <td>0.343770</td>\n",
       "    </tr>\n",
       "    <tr>\n",
       "      <th>4</th>\n",
       "      <td>ARG</td>\n",
       "      <td>Argentina</td>\n",
       "      <td>1975</td>\n",
       "      <td>0.546490</td>\n",
       "    </tr>\n",
       "  </tbody>\n",
       "</table>\n",
       "</div>"
      ],
      "text/plain": [
       "  Country ISO3          Country Name  year  Civil liberties index\n",
       "0          AFG           Afghanistan  1975               0.382409\n",
       "1          AGO                Angola  1975               0.215496\n",
       "2          ALB               Albania  1975               0.076784\n",
       "3          ARE  United Arab Emirates  1975               0.343770\n",
       "4          ARG             Argentina  1975               0.546490"
      ]
     },
     "execution_count": 9,
     "metadata": {},
     "output_type": "execute_result"
    }
   ],
   "source": [
    "long_df.head()"
   ]
  },
  {
   "cell_type": "code",
   "execution_count": 10,
   "metadata": {},
   "outputs": [],
   "source": [
    "long_df_2010 = long_df[long_df[\"year\"] >= \"2010\"]"
   ]
  },
  {
   "cell_type": "code",
   "execution_count": 11,
   "metadata": {},
   "outputs": [
    {
     "data": {
      "text/plain": [
       "['Country ISO3',\n",
       " 'Country Name',\n",
       " 'Indicator Id',\n",
       " 'Indicator',\n",
       " 'Subindicator Type',\n",
       " '1975']"
      ]
     },
     "execution_count": 11,
     "metadata": {},
     "output_type": "execute_result"
    }
   ],
   "source": [
    "my_columns[0:6]"
   ]
  },
  {
   "cell_type": "code",
   "execution_count": 12,
   "metadata": {},
   "outputs": [
    {
     "name": "stderr",
     "output_type": "stream",
     "text": [
      "/Users/rubencito/opt/anaconda3/lib/python3.7/site-packages/pandas/core/frame.py:4133: SettingWithCopyWarning: \n",
      "A value is trying to be set on a copy of a slice from a DataFrame\n",
      "\n",
      "See the caveats in the documentation: https://pandas.pydata.org/pandas-docs/stable/user_guide/indexing.html#returning-a-view-versus-a-copy\n",
      "  errors=errors,\n"
     ]
    }
   ],
   "source": [
    "long_df_2010.rename(columns = {my_columns[0] : \"country_code\",\n",
    "                               my_columns[1] : \"country_name\"}, \n",
    "                    inplace = True)"
   ]
  },
  {
   "cell_type": "code",
   "execution_count": 13,
   "metadata": {},
   "outputs": [],
   "source": [
    "new_col_names = long_df_2010.columns.to_list()"
   ]
  },
  {
   "cell_type": "code",
   "execution_count": null,
   "metadata": {},
   "outputs": [],
   "source": []
  },
  {
   "cell_type": "code",
   "execution_count": 14,
   "metadata": {},
   "outputs": [
    {
     "data": {
      "text/html": [
       "<div>\n",
       "<style scoped>\n",
       "    .dataframe tbody tr th:only-of-type {\n",
       "        vertical-align: middle;\n",
       "    }\n",
       "\n",
       "    .dataframe tbody tr th {\n",
       "        vertical-align: top;\n",
       "    }\n",
       "\n",
       "    .dataframe thead th {\n",
       "        text-align: right;\n",
       "    }\n",
       "</style>\n",
       "<table border=\"1\" class=\"dataframe\">\n",
       "  <thead>\n",
       "    <tr style=\"text-align: right;\">\n",
       "      <th></th>\n",
       "      <th>country_name</th>\n",
       "      <th>country_code</th>\n",
       "      <th>year</th>\n",
       "      <th>Civil liberties index</th>\n",
       "    </tr>\n",
       "  </thead>\n",
       "  <tbody>\n",
       "    <tr>\n",
       "      <th>0</th>\n",
       "      <td>Afghanistan</td>\n",
       "      <td>AFG</td>\n",
       "      <td>2010</td>\n",
       "      <td>0.548055</td>\n",
       "    </tr>\n",
       "    <tr>\n",
       "      <th>1</th>\n",
       "      <td>Afghanistan</td>\n",
       "      <td>AFG</td>\n",
       "      <td>2011</td>\n",
       "      <td>0.543847</td>\n",
       "    </tr>\n",
       "    <tr>\n",
       "      <th>2</th>\n",
       "      <td>Afghanistan</td>\n",
       "      <td>AFG</td>\n",
       "      <td>2012</td>\n",
       "      <td>0.548934</td>\n",
       "    </tr>\n",
       "    <tr>\n",
       "      <th>3</th>\n",
       "      <td>Afghanistan</td>\n",
       "      <td>AFG</td>\n",
       "      <td>2013</td>\n",
       "      <td>0.551491</td>\n",
       "    </tr>\n",
       "    <tr>\n",
       "      <th>4</th>\n",
       "      <td>Afghanistan</td>\n",
       "      <td>AFG</td>\n",
       "      <td>2014</td>\n",
       "      <td>0.550697</td>\n",
       "    </tr>\n",
       "  </tbody>\n",
       "</table>\n",
       "</div>"
      ],
      "text/plain": [
       "  country_name country_code  year  Civil liberties index\n",
       "0  Afghanistan          AFG  2010               0.548055\n",
       "1  Afghanistan          AFG  2011               0.543847\n",
       "2  Afghanistan          AFG  2012               0.548934\n",
       "3  Afghanistan          AFG  2013               0.551491\n",
       "4  Afghanistan          AFG  2014               0.550697"
      ]
     },
     "execution_count": 14,
     "metadata": {},
     "output_type": "execute_result"
    }
   ],
   "source": [
    "long_df_2010 = long_df_2010[new_col_names[1:2] + new_col_names[0:1] + new_col_names[2:]].sort_values(by = [\"country_name\", \"year\"]).reset_index(drop= True)\n",
    "long_df_2010.head()"
   ]
  },
  {
   "cell_type": "code",
   "execution_count": 18,
   "metadata": {},
   "outputs": [],
   "source": [
    "long_df_2010.to_csv(os.path.join(path,\n",
    "                                 \"curated_datasets\",\n",
    "                                 \"Civil_lib_indx.csv\"), \n",
    "                   index = False)"
   ]
  },
  {
   "cell_type": "code",
   "execution_count": 17,
   "metadata": {},
   "outputs": [
    {
     "data": {
      "text/plain": [
       "(1404, 4)"
      ]
     },
     "execution_count": 17,
     "metadata": {},
     "output_type": "execute_result"
    }
   ],
   "source": [
    "long_df_2010.shape"
   ]
  },
  {
   "cell_type": "code",
   "execution_count": null,
   "metadata": {},
   "outputs": [],
   "source": []
  }
 ],
 "metadata": {
  "kernelspec": {
   "display_name": "Python 3",
   "language": "python",
   "name": "python3"
  },
  "language_info": {
   "codemirror_mode": {
    "name": "ipython",
    "version": 3
   },
   "file_extension": ".py",
   "mimetype": "text/x-python",
   "name": "python",
   "nbconvert_exporter": "python",
   "pygments_lexer": "ipython3",
   "version": "3.7.6"
  }
 },
 "nbformat": 4,
 "nbformat_minor": 4
}
