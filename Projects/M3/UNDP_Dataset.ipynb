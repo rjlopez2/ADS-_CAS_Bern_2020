{
 "cells": [
  {
   "cell_type": "markdown",
   "metadata": {},
   "source": [
    "## Loading libraries"
   ]
  },
  {
   "cell_type": "code",
   "execution_count": 1,
   "metadata": {},
   "outputs": [],
   "source": [
    "import requests\n",
    "from requests.auth import HTTPBasicAuth\n",
    "from lxml import html\n",
    "from cssselect import GenericTranslator\n",
    "import pandas as pd\n",
    "from pandas.io.json import json_normalize\n",
    "import numpy as np\n",
    "import json\n",
    "import os\n",
    "pd.set_option('display.max_rows', 1000)\n",
    "pd.set_option('display.max_colwidth', None)"
   ]
  },
  {
   "cell_type": "code",
   "execution_count": 3,
   "metadata": {},
   "outputs": [
    {
     "name": "stdout",
     "output_type": "stream",
     "text": [
      "/Users/rubencito/CAS_datascience/ADS_CAS_Bern_2020/Projects/M3\n"
     ]
    }
   ],
   "source": [
    "# if not os.path.exists('data'):\n",
    "#     print(os.path.abspath('.'))"
   ]
  },
  {
   "cell_type": "markdown",
   "metadata": {},
   "source": [
    "## 1. Collecting the **Data Catalog** from the UNDP (Human Development Report Office Statistical Data API)"
   ]
  },
  {
   "cell_type": "code",
   "execution_count": 4,
   "metadata": {},
   "outputs": [],
   "source": [
    "my_data_catalog_path = '/Users/rubencito/CAS_datascience/ADS_CAS_Bern_2020/Projects/M3/UNDP_data_catalog/HDRO.html'"
   ]
  },
  {
   "cell_type": "code",
   "execution_count": 5,
   "metadata": {},
   "outputs": [
    {
     "data": {
      "text/html": [
       "<div>\n",
       "<style scoped>\n",
       "    .dataframe tbody tr th:only-of-type {\n",
       "        vertical-align: middle;\n",
       "    }\n",
       "\n",
       "    .dataframe tbody tr th {\n",
       "        vertical-align: top;\n",
       "    }\n",
       "\n",
       "    .dataframe thead th {\n",
       "        text-align: right;\n",
       "    }\n",
       "</style>\n",
       "<table border=\"1\" class=\"dataframe\">\n",
       "  <thead>\n",
       "    <tr style=\"text-align: right;\">\n",
       "      <th></th>\n",
       "      <th>ID</th>\n",
       "      <th>Indicator_Name</th>\n",
       "    </tr>\n",
       "  </thead>\n",
       "  <tbody>\n",
       "    <tr>\n",
       "      <th>0</th>\n",
       "      <td>164406</td>\n",
       "      <td>Adjusted net savings (% of GNI)</td>\n",
       "    </tr>\n",
       "    <tr>\n",
       "      <th>1</th>\n",
       "      <td>36806</td>\n",
       "      <td>Adolescent birth rate (births per 1,000 women ages 15-19)</td>\n",
       "    </tr>\n",
       "    <tr>\n",
       "      <th>2</th>\n",
       "      <td>185106</td>\n",
       "      <td>Age-standardized mortality rate attributed to noncommunicable diseases, female</td>\n",
       "    </tr>\n",
       "    <tr>\n",
       "      <th>3</th>\n",
       "      <td>185206</td>\n",
       "      <td>Age-standardized mortality rate attributed to noncommunicable diseases, male</td>\n",
       "    </tr>\n",
       "    <tr>\n",
       "      <th>4</th>\n",
       "      <td>175206</td>\n",
       "      <td>Antenatal care coverage, at least one visit (%)</td>\n",
       "    </tr>\n",
       "    <tr>\n",
       "      <th>5</th>\n",
       "      <td>186806</td>\n",
       "      <td>Average annual change in the share of bottom 40 percent (%)</td>\n",
       "    </tr>\n",
       "  </tbody>\n",
       "</table>\n",
       "</div>"
      ],
      "text/plain": [
       "       ID  \\\n",
       "0  164406   \n",
       "1   36806   \n",
       "2  185106   \n",
       "3  185206   \n",
       "4  175206   \n",
       "5  186806   \n",
       "\n",
       "                                                                   Indicator_Name  \n",
       "0                                                 Adjusted net savings (% of GNI)  \n",
       "1                       Adolescent birth rate (births per 1,000 women ages 15-19)  \n",
       "2  Age-standardized mortality rate attributed to noncommunicable diseases, female  \n",
       "3    Age-standardized mortality rate attributed to noncommunicable diseases, male  \n",
       "4                                 Antenatal care coverage, at least one visit (%)  \n",
       "5                     Average annual change in the share of bottom 40 percent (%)  "
      ]
     },
     "execution_count": 5,
     "metadata": {},
     "output_type": "execute_result"
    }
   ],
   "source": [
    "# loading the Indicator parameters\n",
    "indi_col_names = ['ID', 'Indicator_Name']\n",
    "indi_UNDP_df = pd.read_html(my_data_catalog_path)[0][2:]\n",
    "indi_UNDP_df.reset_index(inplace = True, drop = True) # fix the indexing\n",
    "indi_UNDP_df.columns = indi_col_names # Fix columns names\n",
    "indi_UNDP_df.head(6)"
   ]
  },
  {
   "cell_type": "code",
   "execution_count": 6,
   "metadata": {},
   "outputs": [
    {
     "data": {
      "text/html": [
       "<div>\n",
       "<style scoped>\n",
       "    .dataframe tbody tr th:only-of-type {\n",
       "        vertical-align: middle;\n",
       "    }\n",
       "\n",
       "    .dataframe tbody tr th {\n",
       "        vertical-align: top;\n",
       "    }\n",
       "\n",
       "    .dataframe thead th {\n",
       "        text-align: right;\n",
       "    }\n",
       "</style>\n",
       "<table border=\"1\" class=\"dataframe\">\n",
       "  <thead>\n",
       "    <tr style=\"text-align: right;\">\n",
       "      <th></th>\n",
       "      <th>ID</th>\n",
       "      <th>Indicator_Name</th>\n",
       "    </tr>\n",
       "  </thead>\n",
       "  <tbody>\n",
       "    <tr>\n",
       "      <th>15</th>\n",
       "      <td>117806</td>\n",
       "      <td>Contribution of deprivation in education to the Multidimensional Poverty Index</td>\n",
       "    </tr>\n",
       "    <tr>\n",
       "      <th>16</th>\n",
       "      <td>117906</td>\n",
       "      <td>Contribution of deprivation in health to the Multidimensional Poverty Index</td>\n",
       "    </tr>\n",
       "    <tr>\n",
       "      <th>17</th>\n",
       "      <td>118006</td>\n",
       "      <td>Contribution of deprivation in standard of living to the Multidimensional Poverty Index</td>\n",
       "    </tr>\n",
       "    <tr>\n",
       "      <th>99</th>\n",
       "      <td>38406</td>\n",
       "      <td>Multidimensional poverty index (MPI)</td>\n",
       "    </tr>\n",
       "    <tr>\n",
       "      <th>112</th>\n",
       "      <td>38606</td>\n",
       "      <td>Population in multidimensional poverty, headcount (%)</td>\n",
       "    </tr>\n",
       "    <tr>\n",
       "      <th>113</th>\n",
       "      <td>102006</td>\n",
       "      <td>Population in multidimensional poverty, headcount (thousands) (for the year of the survey)</td>\n",
       "    </tr>\n",
       "    <tr>\n",
       "      <th>114</th>\n",
       "      <td>183406</td>\n",
       "      <td>Population in multidimensional poverty, headcount (thousands) (projection for 2018)</td>\n",
       "    </tr>\n",
       "    <tr>\n",
       "      <th>115</th>\n",
       "      <td>38506</td>\n",
       "      <td>Population in multidimensional poverty, intensity of deprivation (%)</td>\n",
       "    </tr>\n",
       "    <tr>\n",
       "      <th>116</th>\n",
       "      <td>101006</td>\n",
       "      <td>Population in severe multidimensional poverty (%)</td>\n",
       "    </tr>\n",
       "    <tr>\n",
       "      <th>122</th>\n",
       "      <td>142506</td>\n",
       "      <td>Population vulnerable to multidimensional poverty (%)</td>\n",
       "    </tr>\n",
       "  </tbody>\n",
       "</table>\n",
       "</div>"
      ],
      "text/plain": [
       "         ID  \\\n",
       "15   117806   \n",
       "16   117906   \n",
       "17   118006   \n",
       "99    38406   \n",
       "112   38606   \n",
       "113  102006   \n",
       "114  183406   \n",
       "115   38506   \n",
       "116  101006   \n",
       "122  142506   \n",
       "\n",
       "                                                                                 Indicator_Name  \n",
       "15               Contribution of deprivation in education to the Multidimensional Poverty Index  \n",
       "16                  Contribution of deprivation in health to the Multidimensional Poverty Index  \n",
       "17      Contribution of deprivation in standard of living to the Multidimensional Poverty Index  \n",
       "99                                                         Multidimensional poverty index (MPI)  \n",
       "112                                       Population in multidimensional poverty, headcount (%)  \n",
       "113  Population in multidimensional poverty, headcount (thousands) (for the year of the survey)  \n",
       "114         Population in multidimensional poverty, headcount (thousands) (projection for 2018)  \n",
       "115                        Population in multidimensional poverty, intensity of deprivation (%)  \n",
       "116                                           Population in severe multidimensional poverty (%)  \n",
       "122                                       Population vulnerable to multidimensional poverty (%)  "
      ]
     },
     "execution_count": 6,
     "metadata": {},
     "output_type": "execute_result"
    }
   ],
   "source": [
    "indi_UNDP_df[indi_UNDP_df['Indicator_Name'].str.contains(\"multi\", case = False)]"
   ]
  },
  {
   "cell_type": "code",
   "execution_count": null,
   "metadata": {},
   "outputs": [],
   "source": [
    "# loading the Country codes\n",
    "country_col_names = ['Country_Code', 'Country_Name']\n",
    "country_UNDP_df = pd.read_html(my_data_catalog_path)[1][2:]\n",
    "country_UNDP_df.reset_index(inplace = True, drop = True) # fix the indexing\n",
    "country_UNDP_df.columns = country_col_names # Fix columns names\n",
    "country_UNDP_df.head()"
   ]
  },
  {
   "cell_type": "markdown",
   "metadata": {},
   "source": [
    "## 2. Define a function that call a specific parameter and retunr a df"
   ]
  },
  {
   "cell_type": "code",
   "execution_count": 312,
   "metadata": {},
   "outputs": [],
   "source": [
    "# Define the defoult values\n",
    "\n",
    "url_seed = \"http://ec2-54-174-131-205.compute-1.amazonaws.com/API/HDRO_API.php/\"\n",
    "years = np.arange(2010, 2020)\n",
    "years = ','.join(map(str, years))\n",
    "indicator_id = \"195606\"\n",
    "struct = [\"ciy\", \"yic\", \"yci\", \"iyc\", \"icy\"] "
   ]
  },
  {
   "cell_type": "code",
   "execution_count": 341,
   "metadata": {},
   "outputs": [
    {
     "data": {
      "text/plain": [
       "'2010,2011,2012,2013,2014,2015,2016,2017,2018,2019'"
      ]
     },
     "execution_count": 341,
     "metadata": {},
     "output_type": "execute_result"
    }
   ],
   "source": [
    "years"
   ]
  },
  {
   "cell_type": "code",
   "execution_count": 361,
   "metadata": {},
   "outputs": [],
   "source": [
    "def API_UNDP_call_to_df(indicator_id, url_seed = url_seed, years = years):\n",
    "    \n",
    "    # define User agent and session\n",
    "    s = requests.Session()\n",
    "    headers = {\n",
    "    \"user-agent\": \"Mozilla/5.0 (X11; Linux x86_64) AppleWebKit/537.36 (KHTML, like Gecko) Ubuntu Chromium/71.0.3578.80 Chrome/71.0.3578.80 Safari/537.36\"\n",
    "    }\n",
    "    \n",
    "    # create parameterized query to the API\n",
    "    my_url = url_seed + \"indicator_id\" + \"=\" + indicator_id + \"/\" + \"year\" + \"=\" + years + \"/\" + \"structure\" + \"=\" + struct[3]\n",
    "#     print(my_url)\n",
    "    response = requests.get(my_url, headers=headers)\n",
    "    json_objet = response.json()\n",
    "#     print(json_objet)\n",
    "    \n",
    "    #Create df from json object\n",
    "    df = pd.DataFrame(list(list(json_objet.values())[0].values())[0]) # call the 3rd level nested element\n",
    "    df = df.stack().to_frame() # stack() method transform the data in narrow format, and to_frame() to a dataframe\n",
    "    df.reset_index(inplace=True)# fixing the indexing \n",
    "    df.columns = ['country_code','year', list(list(json_objet.values())[2].values())[0]]\n",
    "    country_map = pd.DataFrame({list(df.columns)[0] : list(list(json_objet.values())[1].keys()),# Create a dataframe with the country name and code to map the values to the original one\n",
    "                                \"country_name\" : list(list(json_objet.values())[1].values())})\n",
    "    df = df[list(df.columns)].merge(country_map, how= \"left\")# Merge the original dataframe with the he country name and code dataframe\n",
    "    \n",
    "    columns = df.columns.tolist() # rearrange columns\n",
    "    columns = columns[-1:] + columns[:3]\n",
    "    \n",
    "    df = df[columns]\n",
    "    \n",
    "    return(df)"
   ]
  },
  {
   "cell_type": "code",
   "execution_count": null,
   "metadata": {},
   "outputs": [],
   "source": []
  },
  {
   "cell_type": "code",
   "execution_count": null,
   "metadata": {},
   "outputs": [],
   "source": []
  },
  {
   "cell_type": "code",
   "execution_count": null,
   "metadata": {},
   "outputs": [],
   "source": []
  },
  {
   "cell_type": "markdown",
   "metadata": {},
   "source": [
    "## 3. Extracting the HDI indicator"
   ]
  },
  {
   "cell_type": "code",
   "execution_count": 360,
   "metadata": {},
   "outputs": [
    {
     "name": "stdout",
     "output_type": "stream",
     "text": [
      "http://ec2-54-174-131-205.compute-1.amazonaws.com/API/HDRO_API.php/indicator_id=137506/year=2010,2011,2012,2013,2014,2015,2016,2017,2018,2019/structure=iyc\n"
     ]
    },
    {
     "data": {
      "text/html": [
       "<div>\n",
       "<style scoped>\n",
       "    .dataframe tbody tr th:only-of-type {\n",
       "        vertical-align: middle;\n",
       "    }\n",
       "\n",
       "    .dataframe tbody tr th {\n",
       "        vertical-align: top;\n",
       "    }\n",
       "\n",
       "    .dataframe thead th {\n",
       "        text-align: right;\n",
       "    }\n",
       "</style>\n",
       "<table border=\"1\" class=\"dataframe\">\n",
       "  <thead>\n",
       "    <tr style=\"text-align: right;\">\n",
       "      <th></th>\n",
       "      <th>country_name</th>\n",
       "      <th>country_code</th>\n",
       "      <th>year</th>\n",
       "      <th>Human Development Index (HDI)</th>\n",
       "    </tr>\n",
       "  </thead>\n",
       "  <tbody>\n",
       "    <tr>\n",
       "      <th>0</th>\n",
       "      <td>Afghanistan</td>\n",
       "      <td>AFG</td>\n",
       "      <td>2010</td>\n",
       "      <td>0.472</td>\n",
       "    </tr>\n",
       "    <tr>\n",
       "      <th>1</th>\n",
       "      <td>Afghanistan</td>\n",
       "      <td>AFG</td>\n",
       "      <td>2011</td>\n",
       "      <td>0.477</td>\n",
       "    </tr>\n",
       "    <tr>\n",
       "      <th>2</th>\n",
       "      <td>Afghanistan</td>\n",
       "      <td>AFG</td>\n",
       "      <td>2012</td>\n",
       "      <td>0.489</td>\n",
       "    </tr>\n",
       "    <tr>\n",
       "      <th>3</th>\n",
       "      <td>Afghanistan</td>\n",
       "      <td>AFG</td>\n",
       "      <td>2013</td>\n",
       "      <td>0.496</td>\n",
       "    </tr>\n",
       "    <tr>\n",
       "      <th>4</th>\n",
       "      <td>Afghanistan</td>\n",
       "      <td>AFG</td>\n",
       "      <td>2014</td>\n",
       "      <td>0.500</td>\n",
       "    </tr>\n",
       "    <tr>\n",
       "      <th>...</th>\n",
       "      <td>...</td>\n",
       "      <td>...</td>\n",
       "      <td>...</td>\n",
       "      <td>...</td>\n",
       "    </tr>\n",
       "    <tr>\n",
       "      <th>1878</th>\n",
       "      <td>Zimbabwe</td>\n",
       "      <td>ZWE</td>\n",
       "      <td>2018</td>\n",
       "      <td>0.569</td>\n",
       "    </tr>\n",
       "    <tr>\n",
       "      <th>1879</th>\n",
       "      <td>Zimbabwe</td>\n",
       "      <td>ZWE</td>\n",
       "      <td>2019</td>\n",
       "      <td>0.571</td>\n",
       "    </tr>\n",
       "    <tr>\n",
       "      <th>1880</th>\n",
       "      <td>Marshall Islands</td>\n",
       "      <td>MHL</td>\n",
       "      <td>2017</td>\n",
       "      <td>0.699</td>\n",
       "    </tr>\n",
       "    <tr>\n",
       "      <th>1881</th>\n",
       "      <td>Marshall Islands</td>\n",
       "      <td>MHL</td>\n",
       "      <td>2018</td>\n",
       "      <td>0.702</td>\n",
       "    </tr>\n",
       "    <tr>\n",
       "      <th>1882</th>\n",
       "      <td>Marshall Islands</td>\n",
       "      <td>MHL</td>\n",
       "      <td>2019</td>\n",
       "      <td>0.704</td>\n",
       "    </tr>\n",
       "  </tbody>\n",
       "</table>\n",
       "<p>1883 rows × 4 columns</p>\n",
       "</div>"
      ],
      "text/plain": [
       "          country_name country_code  year  Human Development Index (HDI)\n",
       "0          Afghanistan          AFG  2010                          0.472\n",
       "1          Afghanistan          AFG  2011                          0.477\n",
       "2          Afghanistan          AFG  2012                          0.489\n",
       "3          Afghanistan          AFG  2013                          0.496\n",
       "4          Afghanistan          AFG  2014                          0.500\n",
       "...                ...          ...   ...                            ...\n",
       "1878          Zimbabwe          ZWE  2018                          0.569\n",
       "1879          Zimbabwe          ZWE  2019                          0.571\n",
       "1880  Marshall Islands          MHL  2017                          0.699\n",
       "1881  Marshall Islands          MHL  2018                          0.702\n",
       "1882  Marshall Islands          MHL  2019                          0.704\n",
       "\n",
       "[1883 rows x 4 columns]"
      ]
     },
     "execution_count": 360,
     "metadata": {},
     "output_type": "execute_result"
    }
   ],
   "source": [
    "HDI_df = API_UNDP_call_to_df(indicator_id = \"137506\")\n",
    "HDI_df"
   ]
  },
  {
   "cell_type": "code",
   "execution_count": 364,
   "metadata": {},
   "outputs": [
    {
     "data": {
      "text/plain": [
       "189"
      ]
     },
     "execution_count": 364,
     "metadata": {},
     "output_type": "execute_result"
    }
   ],
   "source": [
    "### Check the number of Countries present in this dataset\n",
    "\n",
    "len(HDI_df.country_name.unique())"
   ]
  },
  {
   "cell_type": "code",
   "execution_count": 365,
   "metadata": {},
   "outputs": [
    {
     "data": {
      "text/plain": [
       "array(['Afghanistan', 'Angola', 'Albania', 'Andorra',\n",
       "       'United Arab Emirates', 'Argentina', 'Armenia',\n",
       "       'Antigua and Barbuda', 'Australia', 'Austria', 'Azerbaijan',\n",
       "       'Burundi', 'Belgium', 'Benin', 'Burkina Faso', 'Bangladesh',\n",
       "       'Bulgaria', 'Bahrain', 'Bahamas', 'Bosnia and Herzegovina',\n",
       "       'Belarus', 'Belize', 'Bolivia (Plurinational State of)', 'Brazil',\n",
       "       'Barbados', 'Brunei Darussalam', 'Bhutan', 'Botswana',\n",
       "       'Central African Republic', 'Canada', 'Switzerland', 'Chile',\n",
       "       'China', \"Cote d'Ivoire\", 'Cameroon',\n",
       "       'Congo (Democratic Republic of the)', 'Congo', 'Colombia',\n",
       "       'Comoros', 'Cabo Verde', 'Costa Rica', 'Cuba', 'Cyprus', 'Czechia',\n",
       "       'Germany', 'Djibouti', 'Dominica', 'Denmark', 'Dominican Republic',\n",
       "       'Algeria', 'Ecuador', 'Egypt', 'Eritrea', 'Spain', 'Estonia',\n",
       "       'Ethiopia', 'Finland', 'Fiji', 'France',\n",
       "       'Micronesia (Federated States of)', 'Gabon', 'United Kingdom',\n",
       "       'Georgia', 'Ghana', 'Guinea', 'Gambia', 'Guinea-Bissau',\n",
       "       'Equatorial Guinea', 'Greece', 'Grenada', 'Guatemala', 'Guyana',\n",
       "       'Hong Kong, China (SAR)', 'Honduras', 'Croatia', 'Haiti',\n",
       "       'Hungary', 'Indonesia', 'India', 'Ireland',\n",
       "       'Iran (Islamic Republic of)', 'Iraq', 'Iceland', 'Israel', 'Italy',\n",
       "       'Jamaica', 'Jordan', 'Japan', 'Kazakhstan', 'Kenya', 'Kyrgyzstan',\n",
       "       'Cambodia', 'Kiribati', 'Saint Kitts and Nevis',\n",
       "       'Korea (Republic of)', 'Kuwait',\n",
       "       \"Lao People's Democratic Republic\", 'Lebanon', 'Liberia', 'Libya',\n",
       "       'Saint Lucia', 'Liechtenstein', 'Sri Lanka', 'Lesotho',\n",
       "       'Lithuania', 'Luxembourg', 'Latvia', 'Morocco',\n",
       "       'Moldova (Republic of)', 'Madagascar', 'Maldives', 'Mexico',\n",
       "       'North Macedonia', 'Mali', 'Malta', 'Myanmar', 'Montenegro',\n",
       "       'Mongolia', 'Mozambique', 'Mauritania', 'Mauritius', 'Malawi',\n",
       "       'Malaysia', 'Namibia', 'Niger', 'Nigeria', 'Nicaragua',\n",
       "       'Netherlands', 'Norway', 'Nepal', 'New Zealand', 'Oman',\n",
       "       'Pakistan', 'Panama', 'Peru', 'Philippines', 'Palau',\n",
       "       'Papua New Guinea', 'Poland', 'Portugal', 'Paraguay',\n",
       "       'Palestine, State of', 'Qatar', 'Romania', 'Russian Federation',\n",
       "       'Rwanda', 'Saudi Arabia', 'Sudan', 'Senegal', 'Singapore',\n",
       "       'Solomon Islands', 'Sierra Leone', 'El Salvador', 'Serbia',\n",
       "       'South Sudan', 'Sao Tome and Principe', 'Suriname', 'Slovakia',\n",
       "       'Slovenia', 'Sweden', 'Eswatini (Kingdom of)', 'Seychelles',\n",
       "       'Syrian Arab Republic', 'Chad', 'Togo', 'Thailand', 'Tajikistan',\n",
       "       'Turkmenistan', 'Timor-Leste', 'Tonga', 'Trinidad and Tobago',\n",
       "       'Tunisia', 'Turkey', 'Tanzania (United Republic of)', 'Uganda',\n",
       "       'Ukraine', 'Uruguay', 'United States', 'Uzbekistan',\n",
       "       'Saint Vincent and the Grenadines',\n",
       "       'Venezuela (Bolivarian Republic of)', 'Viet Nam', 'Vanuatu',\n",
       "       'Samoa', 'Yemen', 'South Africa', 'Zambia', 'Zimbabwe',\n",
       "       'Marshall Islands'], dtype=object)"
      ]
     },
     "execution_count": 365,
     "metadata": {},
     "output_type": "execute_result"
    }
   ],
   "source": [
    "HDI_df.country_name.unique()"
   ]
  },
  {
   "cell_type": "code",
   "execution_count": null,
   "metadata": {},
   "outputs": [],
   "source": []
  }
 ],
 "metadata": {
  "kernelspec": {
   "display_name": "Python 3",
   "language": "python",
   "name": "python3"
  },
  "language_info": {
   "codemirror_mode": {
    "name": "ipython",
    "version": 3
   },
   "file_extension": ".py",
   "mimetype": "text/x-python",
   "name": "python",
   "nbconvert_exporter": "python",
   "pygments_lexer": "ipython3",
   "version": "3.7.6"
  }
 },
 "nbformat": 4,
 "nbformat_minor": 4
}
