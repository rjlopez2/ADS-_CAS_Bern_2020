{
 "cells": [
  {
   "cell_type": "markdown",
   "metadata": {},
   "source": [
    "## Loading libraries"
   ]
  },
  {
   "cell_type": "code",
   "execution_count": 25,
   "metadata": {},
   "outputs": [],
   "source": [
    "import requests\n",
    "from lxml import html\n",
    "import pandas as pd\n",
    "import numpy as np\n",
    "\n",
    "from time import sleep\n",
    "import os\n",
    "\n",
    "pd.set_option('display.max_rows', 1000)\n",
    "pd.set_option('display.max_colwidth', None)"
   ]
  },
  {
   "cell_type": "markdown",
   "metadata": {},
   "source": [
    "## 1. Collecting the **Data Catalog** from the UNDP (Human Development Report Office Statistical Data API)"
   ]
  },
  {
   "cell_type": "code",
   "execution_count": 4,
   "metadata": {},
   "outputs": [
    {
     "data": {
      "text/plain": [
       "'/Users/rubencito/CAS_datascience/ADS_CAS_Bern_2020/Projects/M3'"
      ]
     },
     "execution_count": 4,
     "metadata": {},
     "output_type": "execute_result"
    }
   ],
   "source": [
    "path = os.getcwd()\n",
    "path"
   ]
  },
  {
   "cell_type": "code",
   "execution_count": 11,
   "metadata": {},
   "outputs": [
    {
     "data": {
      "text/plain": [
       "'/Users/rubencito/CAS_datascience/ADS_CAS_Bern_2020/Projects/M3/data_catalogs/UNDP_data_catalog/HDRO.html'"
      ]
     },
     "execution_count": 11,
     "metadata": {},
     "output_type": "execute_result"
    }
   ],
   "source": [
    "my_data_catalog_path = path + \"/\" + \"data_catalogs\" + \"/\" + \"UNDP_data_catalog\" + \"/\" + \"HDRO.html\"\n",
    "my_data_catalog_path"
   ]
  },
  {
   "cell_type": "code",
   "execution_count": 14,
   "metadata": {},
   "outputs": [
    {
     "data": {
      "text/html": [
       "<div>\n",
       "<style scoped>\n",
       "    .dataframe tbody tr th:only-of-type {\n",
       "        vertical-align: middle;\n",
       "    }\n",
       "\n",
       "    .dataframe tbody tr th {\n",
       "        vertical-align: top;\n",
       "    }\n",
       "\n",
       "    .dataframe thead th {\n",
       "        text-align: right;\n",
       "    }\n",
       "</style>\n",
       "<table border=\"1\" class=\"dataframe\">\n",
       "  <thead>\n",
       "    <tr style=\"text-align: right;\">\n",
       "      <th></th>\n",
       "      <th>ID</th>\n",
       "      <th>Indicator_Name</th>\n",
       "    </tr>\n",
       "  </thead>\n",
       "  <tbody>\n",
       "    <tr>\n",
       "      <th>0</th>\n",
       "      <td>164406</td>\n",
       "      <td>Adjusted net savings (% of GNI)</td>\n",
       "    </tr>\n",
       "    <tr>\n",
       "      <th>1</th>\n",
       "      <td>36806</td>\n",
       "      <td>Adolescent birth rate (births per 1,000 women ages 15-19)</td>\n",
       "    </tr>\n",
       "    <tr>\n",
       "      <th>2</th>\n",
       "      <td>185106</td>\n",
       "      <td>Age-standardized mortality rate attributed to noncommunicable diseases, female</td>\n",
       "    </tr>\n",
       "    <tr>\n",
       "      <th>3</th>\n",
       "      <td>185206</td>\n",
       "      <td>Age-standardized mortality rate attributed to noncommunicable diseases, male</td>\n",
       "    </tr>\n",
       "    <tr>\n",
       "      <th>4</th>\n",
       "      <td>175206</td>\n",
       "      <td>Antenatal care coverage, at least one visit (%)</td>\n",
       "    </tr>\n",
       "    <tr>\n",
       "      <th>5</th>\n",
       "      <td>186806</td>\n",
       "      <td>Average annual change in the share of bottom 40 percent (%)</td>\n",
       "    </tr>\n",
       "  </tbody>\n",
       "</table>\n",
       "</div>"
      ],
      "text/plain": [
       "       ID  \\\n",
       "0  164406   \n",
       "1   36806   \n",
       "2  185106   \n",
       "3  185206   \n",
       "4  175206   \n",
       "5  186806   \n",
       "\n",
       "                                                                   Indicator_Name  \n",
       "0                                                 Adjusted net savings (% of GNI)  \n",
       "1                       Adolescent birth rate (births per 1,000 women ages 15-19)  \n",
       "2  Age-standardized mortality rate attributed to noncommunicable diseases, female  \n",
       "3    Age-standardized mortality rate attributed to noncommunicable diseases, male  \n",
       "4                                 Antenatal care coverage, at least one visit (%)  \n",
       "5                     Average annual change in the share of bottom 40 percent (%)  "
      ]
     },
     "execution_count": 14,
     "metadata": {},
     "output_type": "execute_result"
    }
   ],
   "source": [
    "# loading the Indicator parameters\n",
    "indi_col_names = ['ID', 'Indicator_Name']\n",
    "indi_UNDP_df = pd.read_html(my_data_catalog_path)[0][2:]\n",
    "indi_UNDP_df.reset_index(inplace = True, drop = True) # fix the indexing\n",
    "indi_UNDP_df.columns = indi_col_names # Fix columns names\n",
    "indi_UNDP_df.head(6)\n",
    "# indi_UNDP_df.shape"
   ]
  },
  {
   "cell_type": "markdown",
   "metadata": {},
   "source": [
    "### Loading the Country codes and save them for later mapping the countries by code"
   ]
  },
  {
   "cell_type": "code",
   "execution_count": 5,
   "metadata": {},
   "outputs": [
    {
     "data": {
      "text/html": [
       "<div>\n",
       "<style scoped>\n",
       "    .dataframe tbody tr th:only-of-type {\n",
       "        vertical-align: middle;\n",
       "    }\n",
       "\n",
       "    .dataframe tbody tr th {\n",
       "        vertical-align: top;\n",
       "    }\n",
       "\n",
       "    .dataframe thead th {\n",
       "        text-align: right;\n",
       "    }\n",
       "</style>\n",
       "<table border=\"1\" class=\"dataframe\">\n",
       "  <thead>\n",
       "    <tr style=\"text-align: right;\">\n",
       "      <th></th>\n",
       "      <th>Country_Code</th>\n",
       "      <th>Country_Name</th>\n",
       "    </tr>\n",
       "  </thead>\n",
       "  <tbody>\n",
       "    <tr>\n",
       "      <th>0</th>\n",
       "      <td>AFG</td>\n",
       "      <td>Afghanistan</td>\n",
       "    </tr>\n",
       "    <tr>\n",
       "      <th>1</th>\n",
       "      <td>ALB</td>\n",
       "      <td>Albania</td>\n",
       "    </tr>\n",
       "    <tr>\n",
       "      <th>2</th>\n",
       "      <td>DZA</td>\n",
       "      <td>Algeria</td>\n",
       "    </tr>\n",
       "    <tr>\n",
       "      <th>3</th>\n",
       "      <td>AND</td>\n",
       "      <td>Andorra</td>\n",
       "    </tr>\n",
       "    <tr>\n",
       "      <th>4</th>\n",
       "      <td>AGO</td>\n",
       "      <td>Angola</td>\n",
       "    </tr>\n",
       "  </tbody>\n",
       "</table>\n",
       "</div>"
      ],
      "text/plain": [
       "  Country_Code Country_Name\n",
       "0          AFG  Afghanistan\n",
       "1          ALB      Albania\n",
       "2          DZA      Algeria\n",
       "3          AND      Andorra\n",
       "4          AGO       Angola"
      ]
     },
     "execution_count": 5,
     "metadata": {},
     "output_type": "execute_result"
    }
   ],
   "source": [
    "# Don't run\n",
    "country_col_names = ['Country_Code', 'Country_Name']\n",
    "country_UNDP_df = pd.read_html(my_data_catalog_path)[1][2:]\n",
    "country_UNDP_df.reset_index(inplace = True, drop = True) # fix the indexing\n",
    "country_UNDP_df.columns = country_col_names # Fix columns names\n",
    "\n",
    "country_UNDP_df.to_csv(os.path.abspath('.') + '/' + 'Country_code.csv', index=False)\n",
    "\n",
    "country_UNDP_df.head()"
   ]
  },
  {
   "cell_type": "markdown",
   "metadata": {},
   "source": [
    "## 2. Define a function that call a specific parameter and retunr a df"
   ]
  },
  {
   "cell_type": "code",
   "execution_count": 15,
   "metadata": {},
   "outputs": [],
   "source": [
    "# Define the default values for the function\n",
    "\n",
    "url_seed = \"http://ec2-54-174-131-205.compute-1.amazonaws.com/API/HDRO_API.php/\"\n",
    "years = np.arange(2010, 2020)\n",
    "years = ','.join(map(str, years))\n",
    "indicator_id = \"195606\"\n",
    "struct = [\"ciy\", \"yic\", \"yci\", \"iyc\", \"icy\"] "
   ]
  },
  {
   "cell_type": "code",
   "execution_count": 12,
   "metadata": {},
   "outputs": [
    {
     "data": {
      "text/plain": [
       "'2010,2011,2012,2013,2014,2015,2016,2017,2018,2019'"
      ]
     },
     "execution_count": 12,
     "metadata": {},
     "output_type": "execute_result"
    }
   ],
   "source": [
    "years"
   ]
  },
  {
   "cell_type": "code",
   "execution_count": 34,
   "metadata": {},
   "outputs": [],
   "source": [
    "def API_UNDP_call_to_df(indicator_id, url_seed = url_seed, years = years):\n",
    "    \n",
    "    # define User agent and session\n",
    "    s = requests.Session()\n",
    "    headers = {\n",
    "    \"user-agent\": \"Mozilla/5.0 (X11; Linux x86_64) AppleWebKit/537.36 (KHTML, like Gecko) Ubuntu Chromium/71.0.3578.80 Chrome/71.0.3578.80 Safari/537.36\"\n",
    "    }\n",
    "    \n",
    "    # create parameterized query to the API\n",
    "    my_url = url_seed + \"indicator_id\" + \"=\" + indicator_id + \"/\" + \"year\" + \"=\" + years + \"/\" + \"structure\" + \"=\" + struct[3]\n",
    "#     print(my_url)\n",
    "    response = requests.get(my_url, headers=headers)\n",
    "    json_objet = response.json()\n",
    "#     print(json_objet)\n",
    "    \n",
    "    #Create df from json object\n",
    "    df = pd.DataFrame(list(list(json_objet.values())[0].values())[0]) # call the 3rd level nested element\n",
    "    df = df.stack().to_frame() # stack() method transform the data in narrow format, and to_frame() to a dataframe\n",
    "    df.reset_index(inplace=True)# fixing the indexing \n",
    "    df.columns = ['country_code','year', list(list(json_objet.values())[2].values())[0]]\n",
    "    country_map = pd.DataFrame({list(df.columns)[0] : list(list(json_objet.values())[1].keys()),# Create a dataframe with the country name and code to map the values to the original one\n",
    "                                \"country_name\" : list(list(json_objet.values())[1].values())})\n",
    "    df = df[list(df.columns)].merge(country_map, how= \"left\")# Merge the original dataframe with the he country name and code dataframe\n",
    "    \n",
    "    columns = df.columns.tolist() # rearrange columns\n",
    "    columns = columns[-1:] + columns[:3]\n",
    "    \n",
    "    df = df[columns]\n",
    "    \n",
    "    return(df)"
   ]
  },
  {
   "cell_type": "code",
   "execution_count": null,
   "metadata": {},
   "outputs": [],
   "source": []
  },
  {
   "cell_type": "code",
   "execution_count": null,
   "metadata": {},
   "outputs": [],
   "source": []
  },
  {
   "cell_type": "code",
   "execution_count": null,
   "metadata": {},
   "outputs": [],
   "source": []
  },
  {
   "cell_type": "code",
   "execution_count": null,
   "metadata": {},
   "outputs": [],
   "source": []
  },
  {
   "cell_type": "markdown",
   "metadata": {},
   "source": [
    "## 3. Loop over a number of data codes, colect, transform to df and save a formated dataframe for the given indicator"
   ]
  },
  {
   "cell_type": "code",
   "execution_count": 53,
   "metadata": {},
   "outputs": [
    {
     "data": {
      "text/html": [
       "<div>\n",
       "<style scoped>\n",
       "    .dataframe tbody tr th:only-of-type {\n",
       "        vertical-align: middle;\n",
       "    }\n",
       "\n",
       "    .dataframe tbody tr th {\n",
       "        vertical-align: top;\n",
       "    }\n",
       "\n",
       "    .dataframe thead th {\n",
       "        text-align: right;\n",
       "    }\n",
       "</style>\n",
       "<table border=\"1\" class=\"dataframe\">\n",
       "  <thead>\n",
       "    <tr style=\"text-align: right;\">\n",
       "      <th></th>\n",
       "      <th>ID</th>\n",
       "      <th>Indicator_Name</th>\n",
       "    </tr>\n",
       "  </thead>\n",
       "  <tbody>\n",
       "    <tr>\n",
       "      <th>40</th>\n",
       "      <td>149206</td>\n",
       "      <td>Government expenditure on education (% of GDP)</td>\n",
       "    </tr>\n",
       "    <tr>\n",
       "      <th>150</th>\n",
       "      <td>194306</td>\n",
       "      <td>Share of seats held by women in local government (%)</td>\n",
       "    </tr>\n",
       "  </tbody>\n",
       "</table>\n",
       "</div>"
      ],
      "text/plain": [
       "         ID                                        Indicator_Name\n",
       "40   149206        Government expenditure on education (% of GDP)\n",
       "150  194306  Share of seats held by women in local government (%)"
      ]
     },
     "execution_count": 53,
     "metadata": {},
     "output_type": "execute_result"
    }
   ],
   "source": [
    "# check of find for an specific indicator\n",
    "my_indi = \"govern\"\n",
    "indi_UNDP_df[indi_UNDP_df['Indicator_Name'].str.contains(my_indi, case = False)]"
   ]
  },
  {
   "cell_type": "code",
   "execution_count": 51,
   "metadata": {},
   "outputs": [
    {
     "data": {
      "text/html": [
       "<div>\n",
       "<style scoped>\n",
       "    .dataframe tbody tr th:only-of-type {\n",
       "        vertical-align: middle;\n",
       "    }\n",
       "\n",
       "    .dataframe tbody tr th {\n",
       "        vertical-align: top;\n",
       "    }\n",
       "\n",
       "    .dataframe thead th {\n",
       "        text-align: right;\n",
       "    }\n",
       "</style>\n",
       "<table border=\"1\" class=\"dataframe\">\n",
       "  <thead>\n",
       "    <tr style=\"text-align: right;\">\n",
       "      <th></th>\n",
       "      <th>ID</th>\n",
       "      <th>Indicator_Name</th>\n",
       "    </tr>\n",
       "  </thead>\n",
       "  <tbody>\n",
       "    <tr>\n",
       "      <th>21</th>\n",
       "      <td>103706</td>\n",
       "      <td>Education index</td>\n",
       "    </tr>\n",
       "  </tbody>\n",
       "</table>\n",
       "</div>"
      ],
      "text/plain": [
       "        ID   Indicator_Name\n",
       "21  103706  Education index"
      ]
     },
     "execution_count": 51,
     "metadata": {},
     "output_type": "execute_result"
    }
   ],
   "source": [
    "# check of find for an specific code\n",
    "my_code = \"103706\"\n",
    "indi_UNDP_df[indi_UNDP_df['ID'].str.contains(my_code, case = False)]"
   ]
  },
  {
   "cell_type": "code",
   "execution_count": null,
   "metadata": {},
   "outputs": [],
   "source": []
  },
  {
   "cell_type": "code",
   "execution_count": 54,
   "metadata": {},
   "outputs": [
    {
     "data": {
      "text/plain": [
       "{'137506': 'HDI',\n",
       " '137906': 'GDI',\n",
       " '68606': 'GII',\n",
       " '31706': 'FemParlmt',\n",
       " '103206': 'LifeExpecIndx',\n",
       " '181806': 'HealthExpend',\n",
       " '44206': 'TotPopulMill',\n",
       " '103706': 'EducaIndx'}"
      ]
     },
     "execution_count": 54,
     "metadata": {},
     "output_type": "execute_result"
    }
   ],
   "source": [
    "# make a dictionary of indi codes and name for the output csv file, whihc will be saved in the curated folder\n",
    "\n",
    "my_UNDP_indicator_dic = {\"137506\": \"HDI\",# Human Development Index (HDI)\n",
    "                         \"137906\" : \"GDI\",# Gender Development Index (GDI)\n",
    "                        \"68606\": \"GII\",# Gender Inequality Index (GII)\n",
    "                        \"31706\": \"FemParlmt\",# Share of seats in parliament (% held by women)\n",
    "                        \"103206\": \"LifeExpecIndx\",# Life expectancy index\n",
    "                        \"181806\": \"HealthExpend\",# Current health expenditure (% of GDP)\n",
    "                        \"44206\": \"TotPopulMill\",# Total population (millions)\n",
    "                        \"103706\": \"EducaIndx\"} # Education index\n",
    "my_UNDP_indicator_dic\n",
    "\n"
   ]
  },
  {
   "cell_type": "code",
   "execution_count": 48,
   "metadata": {},
   "outputs": [],
   "source": [
    "# loop over the indicator list and \n",
    "for value in my_UNDP_indicator_dic:\n",
    "    my_df = API_UNDP_call_to_df(indicator_id = value)\n",
    "    my_df.to_csv(path + '/' + 'curated_datasets' + '/' + 'UNDP_' + my_UNDP_indicator_dic[value] +'_df' + \".csv\", index=False )\n",
    "    sleep(1) # make a time sleep between calls to ot overload the API\n",
    "    "
   ]
  },
  {
   "cell_type": "code",
   "execution_count": null,
   "metadata": {},
   "outputs": [],
   "source": []
  }
 ],
 "metadata": {
  "kernelspec": {
   "display_name": "Python 3",
   "language": "python",
   "name": "python3"
  },
  "language_info": {
   "codemirror_mode": {
    "name": "ipython",
    "version": 3
   },
   "file_extension": ".py",
   "mimetype": "text/x-python",
   "name": "python",
   "nbconvert_exporter": "python",
   "pygments_lexer": "ipython3",
   "version": "3.7.6"
  }
 },
 "nbformat": 4,
 "nbformat_minor": 4
}
