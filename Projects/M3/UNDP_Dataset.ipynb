{
 "cells": [
  {
   "cell_type": "markdown",
   "metadata": {},
   "source": [
    "## Loading libraries"
   ]
  },
  {
   "cell_type": "code",
   "execution_count": null,
   "metadata": {},
   "outputs": [],
   "source": [
    "import requests\n",
    "from lxml import html\n",
    "import pandas as pd\n",
    "import os\n",
    "\n",
    "pd.set_option('display.max_rows', 1000)\n",
    "pd.set_option('display.max_colwidth', None)"
   ]
  },
  {
   "cell_type": "markdown",
   "metadata": {},
   "source": [
    "## 1. Collecting the **Data Catalog** from the UNDP (Human Development Report Office Statistical Data API)"
   ]
  },
  {
   "cell_type": "code",
   "execution_count": null,
   "metadata": {},
   "outputs": [],
   "source": [
    "my_data_catalog_path = '/Users/rubencito/CAS_datascience/ADS_CAS_Bern_2020/Projects/M3/UNDP_data_catalog/HDRO.html'"
   ]
  },
  {
   "cell_type": "code",
   "execution_count": null,
   "metadata": {},
   "outputs": [],
   "source": [
    "# loading the Indicator parameters\n",
    "indi_col_names = ['ID', 'Indicator_Name']\n",
    "indi_UNDP_df = pd.read_html(my_data_catalog_path)[0][2:]\n",
    "indi_UNDP_df.reset_index(inplace = True, drop = True) # fix the indexing\n",
    "indi_UNDP_df.columns = indi_col_names # Fix columns names\n",
    "indi_UNDP_df.head(6)"
   ]
  },
  {
   "cell_type": "code",
   "execution_count": null,
   "metadata": {},
   "outputs": [],
   "source": [
    "indi_UNDP_df[indi_UNDP_df['Indicator_Name'].str.contains(\"civil\", case = False)]"
   ]
  },
  {
   "cell_type": "code",
   "execution_count": null,
   "metadata": {},
   "outputs": [],
   "source": [
    "# loading the Country codes\n",
    "country_col_names = ['Country_Code', 'Country_Name']\n",
    "country_UNDP_df = pd.read_html(my_data_catalog_path)[1][2:]\n",
    "country_UNDP_df.reset_index(inplace = True, drop = True) # fix the indexing\n",
    "country_UNDP_df.columns = country_col_names # Fix columns names\n",
    "country_UNDP_df.head()"
   ]
  },
  {
   "cell_type": "markdown",
   "metadata": {},
   "source": [
    "## 2. Define a function that call a specific parameter and retunr a df"
   ]
  },
  {
   "cell_type": "code",
   "execution_count": null,
   "metadata": {},
   "outputs": [],
   "source": [
    "# Define the defoult values\n",
    "\n",
    "url_seed = \"http://ec2-54-174-131-205.compute-1.amazonaws.com/API/HDRO_API.php/\"\n",
    "years = np.arange(2010, 2020)\n",
    "years = ','.join(map(str, years))\n",
    "indicator_id = \"195606\"\n",
    "struct = [\"ciy\", \"yic\", \"yci\", \"iyc\", \"icy\"] "
   ]
  },
  {
   "cell_type": "code",
   "execution_count": null,
   "metadata": {},
   "outputs": [],
   "source": [
    "years"
   ]
  },
  {
   "cell_type": "code",
   "execution_count": null,
   "metadata": {},
   "outputs": [],
   "source": [
    "def API_UNDP_call_to_df(indicator_id, url_seed = url_seed, years = years):\n",
    "    \n",
    "    # define User agent and session\n",
    "    s = requests.Session()\n",
    "    headers = {\n",
    "    \"user-agent\": \"Mozilla/5.0 (X11; Linux x86_64) AppleWebKit/537.36 (KHTML, like Gecko) Ubuntu Chromium/71.0.3578.80 Chrome/71.0.3578.80 Safari/537.36\"\n",
    "    }\n",
    "    \n",
    "    # create parameterized query to the API\n",
    "    my_url = url_seed + \"indicator_id\" + \"=\" + indicator_id + \"/\" + \"year\" + \"=\" + years + \"/\" + \"structure\" + \"=\" + struct[3]\n",
    "    print(my_url)\n",
    "    response = requests.get(my_url, headers=headers)\n",
    "    json_objet = response.json()\n",
    "#     print(json_objet)\n",
    "    \n",
    "    #Create df from json object\n",
    "    df = pd.DataFrame(list(list(json_objet.values())[0].values())[0]) # call the 3rd level nested element\n",
    "    df = df.stack().to_frame() # stack() method transform the data in narrow format, and to_frame() to a dataframe\n",
    "    df.reset_index(inplace=True)# fixing the indexing \n",
    "    df.columns = ['country_code','year', list(list(json_objet.values())[2].values())[0]]\n",
    "    country_map = pd.DataFrame({list(df.columns)[0] : list(list(json_objet.values())[1].keys()),# Create a dataframe with the country name and code to map the values to the original one\n",
    "                                \"country_name\" : list(list(json_objet.values())[1].values())})\n",
    "    df = df[list(df.columns)].merge(country_map, how= \"left\")# Merge the original dataframe with the he country name and code dataframe\n",
    "    \n",
    "    columns = df.columns.tolist() # rearrange columns\n",
    "    columns = columns[-1:] + columns[:3]\n",
    "    \n",
    "    df = df[columns]\n",
    "    \n",
    "    return(df)"
   ]
  },
  {
   "cell_type": "code",
   "execution_count": null,
   "metadata": {},
   "outputs": [],
   "source": []
  },
  {
   "cell_type": "code",
   "execution_count": null,
   "metadata": {},
   "outputs": [],
   "source": []
  },
  {
   "cell_type": "code",
   "execution_count": null,
   "metadata": {},
   "outputs": [],
   "source": []
  },
  {
   "cell_type": "markdown",
   "metadata": {},
   "source": [
    "## 3. Extracting the Human development Index \"HDI\" indicator"
   ]
  },
  {
   "cell_type": "code",
   "execution_count": null,
   "metadata": {},
   "outputs": [],
   "source": [
    "HDI_df = API_UNDP_call_to_df(indicator_id = \"137506\")\n",
    "HDI_df"
   ]
  },
  {
   "cell_type": "code",
   "execution_count": null,
   "metadata": {},
   "outputs": [],
   "source": [
    "### Check the number of Countries present in this dataset\n",
    "\n",
    "len(HDI_df.country_name.unique())"
   ]
  },
  {
   "cell_type": "code",
   "execution_count": null,
   "metadata": {},
   "outputs": [],
   "source": [
    "HDI_df.country_name.unique()"
   ]
  },
  {
   "cell_type": "code",
   "execution_count": null,
   "metadata": {},
   "outputs": [],
   "source": [
    "if not os.path.exists('data'):\n",
    "    print(os.path.abspath('.'))"
   ]
  },
  {
   "cell_type": "markdown",
   "metadata": {},
   "source": [
    "### Export the semicurated dataset to csv format"
   ]
  },
  {
   "cell_type": "code",
   "execution_count": null,
   "metadata": {},
   "outputs": [],
   "source": [
    "HDI_df.to_csv(os.path.abspath('.') + '/' + 'curated_datasets' + '/' + 'HDI_df.csv', index=False )"
   ]
  },
  {
   "cell_type": "markdown",
   "metadata": {},
   "source": [
    "## 4. Extracting the Gender Development Index (GDI) indicator"
   ]
  },
  {
   "cell_type": "code",
   "execution_count": null,
   "metadata": {},
   "outputs": [],
   "source": [
    "GDI_df = API_UNDP_call_to_df(indicator_id = \"137906\")\n",
    "GDI_df"
   ]
  },
  {
   "cell_type": "markdown",
   "metadata": {},
   "source": [
    "### Export the semicurated dataset to csv format"
   ]
  },
  {
   "cell_type": "code",
   "execution_count": null,
   "metadata": {},
   "outputs": [],
   "source": [
    "GDI_df.to_csv(os.path.abspath('.') + '/' + 'curated_datasets' + '/' + 'GDI_df.csv', index=False )"
   ]
  },
  {
   "cell_type": "markdown",
   "metadata": {},
   "source": [
    "## 5. Extracting the Gender Inequality Index (GII) indicator"
   ]
  },
  {
   "cell_type": "code",
   "execution_count": null,
   "metadata": {},
   "outputs": [],
   "source": [
    "GII_df = API_UNDP_call_to_df(indicator_id = \"68606\")\n",
    "GII_df"
   ]
  },
  {
   "cell_type": "markdown",
   "metadata": {},
   "source": [
    "### Export the semicurated dataset to csv format"
   ]
  },
  {
   "cell_type": "code",
   "execution_count": null,
   "metadata": {},
   "outputs": [],
   "source": [
    "GII_df.to_csv(os.path.abspath('.') + '/' + 'curated_datasets' + '/' + 'GII_df.csv', index=False )"
   ]
  },
  {
   "cell_type": "code",
   "execution_count": null,
   "metadata": {},
   "outputs": [],
   "source": []
  },
  {
   "cell_type": "code",
   "execution_count": null,
   "metadata": {},
   "outputs": [],
   "source": [
    "indi_UNDP_df[indi_UNDP_df['Indicator_Name'].str.contains(\"shar\", case = False)]"
   ]
  },
  {
   "cell_type": "code",
   "execution_count": null,
   "metadata": {},
   "outputs": [],
   "source": []
  },
  {
   "cell_type": "markdown",
   "metadata": {},
   "source": [
    "## 6. Extracting the Share of seats in parliament (% held by women) \"Share_parl_seat_Fem\" indicator"
   ]
  },
  {
   "cell_type": "code",
   "execution_count": null,
   "metadata": {},
   "outputs": [],
   "source": [
    "Share_parl_seat_Fem_df = API_UNDP_call_to_df(indicator_id = \"31706\")\n",
    "Share_parl_seat_Fem_df"
   ]
  },
  {
   "cell_type": "markdown",
   "metadata": {},
   "source": [
    "### Export the semicurated dataset to csv format"
   ]
  },
  {
   "cell_type": "code",
   "execution_count": null,
   "metadata": {},
   "outputs": [],
   "source": [
    "Share_parl_seat_Fem_df.to_csv(os.path.abspath('.') + '/' + 'curated_datasets' + '/' + 'Share_parl_seat_Fem_df.csv', index=False )"
   ]
  },
  {
   "cell_type": "code",
   "execution_count": null,
   "metadata": {},
   "outputs": [],
   "source": []
  },
  {
   "cell_type": "code",
   "execution_count": null,
   "metadata": {},
   "outputs": [],
   "source": []
  },
  {
   "cell_type": "markdown",
   "metadata": {},
   "source": [
    "## 7. Extracting the Life expectancy index \"LEI\" indicator"
   ]
  },
  {
   "cell_type": "code",
   "execution_count": null,
   "metadata": {},
   "outputs": [],
   "source": [
    "LEI_df = API_UNDP_call_to_df(indicator_id = \"103206\")\n",
    "LEI_df\n"
   ]
  },
  {
   "cell_type": "markdown",
   "metadata": {},
   "source": [
    "### Export the semicurated dataset to csv format"
   ]
  },
  {
   "cell_type": "code",
   "execution_count": null,
   "metadata": {},
   "outputs": [],
   "source": [
    "LEI_df.to_csv(os.path.abspath('.') + '/' + 'curated_datasets' + '/' + 'LEI_df.csv', index=False )"
   ]
  },
  {
   "cell_type": "code",
   "execution_count": null,
   "metadata": {},
   "outputs": [],
   "source": []
  },
  {
   "cell_type": "markdown",
   "metadata": {},
   "source": [
    "## 8. Extracting the Current health expenditure (% of GDP) \"health_exp\" indicator"
   ]
  },
  {
   "cell_type": "code",
   "execution_count": null,
   "metadata": {},
   "outputs": [],
   "source": [
    "health_exp = API_UNDP_call_to_df(indicator_id = \"181806\")\n",
    "health_exp\n"
   ]
  },
  {
   "cell_type": "markdown",
   "metadata": {},
   "source": [
    "### Export the semicurated dataset to csv format"
   ]
  },
  {
   "cell_type": "code",
   "execution_count": null,
   "metadata": {},
   "outputs": [],
   "source": [
    "health_exp.to_csv(os.path.abspath('.') + '/' + 'curated_datasets' + '/' + 'health_exp.csv', index=False )"
   ]
  },
  {
   "cell_type": "code",
   "execution_count": null,
   "metadata": {},
   "outputs": [],
   "source": []
  },
  {
   "cell_type": "markdown",
   "metadata": {},
   "source": [
    "## 9. Extracting the Total population (millions) \"Tot_pop_mill\" indicator"
   ]
  },
  {
   "cell_type": "code",
   "execution_count": null,
   "metadata": {},
   "outputs": [],
   "source": [
    "Tot_pop_mill = API_UNDP_call_to_df(indicator_id = \"44206\")\n",
    "Tot_pop_mill\n"
   ]
  },
  {
   "cell_type": "markdown",
   "metadata": {},
   "source": [
    "### Export the semicurated dataset to csv format"
   ]
  },
  {
   "cell_type": "code",
   "execution_count": null,
   "metadata": {},
   "outputs": [],
   "source": [
    "Tot_pop_mill.to_csv(os.path.abspath('.') + '/' + 'curated_datasets' + '/' + 'Tot_pop_mill.csv', index=False )"
   ]
  },
  {
   "cell_type": "code",
   "execution_count": null,
   "metadata": {},
   "outputs": [],
   "source": []
  },
  {
   "cell_type": "code",
   "execution_count": null,
   "metadata": {},
   "outputs": [],
   "source": [
    "API_UNDP_call_to_df(\"103706\")"
   ]
  },
  {
   "cell_type": "code",
   "execution_count": null,
   "metadata": {},
   "outputs": [],
   "source": []
  },
  {
   "cell_type": "markdown",
   "metadata": {},
   "source": [
    "## 10. Extracting the Education index \"Edu_indx\" indicator"
   ]
  },
  {
   "cell_type": "code",
   "execution_count": null,
   "metadata": {},
   "outputs": [],
   "source": [
    "Edu_indx = API_UNDP_call_to_df(indicator_id = \"103706\")\n",
    "Edu_indx\n"
   ]
  },
  {
   "cell_type": "markdown",
   "metadata": {},
   "source": [
    "### Export the semicurated dataset to csv format"
   ]
  },
  {
   "cell_type": "code",
   "execution_count": null,
   "metadata": {},
   "outputs": [],
   "source": [
    "Edu_indx.to_csv(os.path.abspath('.') + '/' + 'curated_datasets' + '/' + 'Edu_indx.csv', index=False )"
   ]
  },
  {
   "cell_type": "code",
   "execution_count": null,
   "metadata": {},
   "outputs": [],
   "source": []
  }
 ],
 "metadata": {
  "kernelspec": {
   "display_name": "Python 3",
   "language": "python",
   "name": "python3"
  },
  "language_info": {
   "codemirror_mode": {
    "name": "ipython",
    "version": 3
   },
   "file_extension": ".py",
   "mimetype": "text/x-python",
   "name": "python",
   "nbconvert_exporter": "python",
   "pygments_lexer": "ipython3",
   "version": "3.7.6"
  }
 },
 "nbformat": 4,
 "nbformat_minor": 4
}
