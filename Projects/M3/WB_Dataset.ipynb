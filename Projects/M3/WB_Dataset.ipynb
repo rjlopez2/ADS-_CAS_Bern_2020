{
 "cells": [
  {
   "cell_type": "code",
   "execution_count": 1,
   "metadata": {},
   "outputs": [],
   "source": [
    "import pandas as pd\n",
    "import requests\n",
    "from lxml import html\n",
    "import wget\n",
    "from zipfile import ZipFile\n",
    "import fnmatch\n",
    "import os\n",
    "from time import sleep"
   ]
  },
  {
   "cell_type": "code",
   "execution_count": 2,
   "metadata": {},
   "outputs": [],
   "source": [
    "pd.set_option('display.max_rows', 1000)\n",
    "pd.set_option('display.max_colwidth', None)"
   ]
  },
  {
   "cell_type": "code",
   "execution_count": 3,
   "metadata": {},
   "outputs": [
    {
     "data": {
      "text/plain": [
       "'/Users/rubencito/CAS_datascience/ADS_CAS_Bern_2020/Projects/M3'"
      ]
     },
     "execution_count": 3,
     "metadata": {},
     "output_type": "execute_result"
    }
   ],
   "source": [
    "path = os.getcwd()\n",
    "path"
   ]
  },
  {
   "cell_type": "markdown",
   "metadata": {},
   "source": [
    "## 1. Importing the Worldbank data catalog\n",
    "We see that the catalog contain > 1500 series!!!"
   ]
  },
  {
   "cell_type": "code",
   "execution_count": 5,
   "metadata": {},
   "outputs": [
    {
     "data": {
      "text/html": [
       "<div>\n",
       "<style scoped>\n",
       "    .dataframe tbody tr th:only-of-type {\n",
       "        vertical-align: middle;\n",
       "    }\n",
       "\n",
       "    .dataframe tbody tr th {\n",
       "        vertical-align: top;\n",
       "    }\n",
       "\n",
       "    .dataframe thead th {\n",
       "        text-align: right;\n",
       "    }\n",
       "</style>\n",
       "<table border=\"1\" class=\"dataframe\">\n",
       "  <thead>\n",
       "    <tr style=\"text-align: right;\">\n",
       "      <th></th>\n",
       "      <th>Series Code</th>\n",
       "      <th>Series Name</th>\n",
       "      <th>Topic</th>\n",
       "      <th>SubTopic1</th>\n",
       "      <th>SubTopic2</th>\n",
       "      <th>SubTopic3</th>\n",
       "    </tr>\n",
       "  </thead>\n",
       "  <tbody>\n",
       "    <tr>\n",
       "      <th>0</th>\n",
       "      <td>AG.AGR.TRAC.NO</td>\n",
       "      <td>Agricultural machinery, tractors</td>\n",
       "      <td>Environment</td>\n",
       "      <td>Agricultural production</td>\n",
       "      <td>NaN</td>\n",
       "      <td>NaN</td>\n",
       "    </tr>\n",
       "    <tr>\n",
       "      <th>1</th>\n",
       "      <td>AG.CON.FERT.PT.ZS</td>\n",
       "      <td>Fertilizer consumption (% of fertilizer production)</td>\n",
       "      <td>Environment</td>\n",
       "      <td>Agricultural production</td>\n",
       "      <td>NaN</td>\n",
       "      <td>NaN</td>\n",
       "    </tr>\n",
       "    <tr>\n",
       "      <th>2</th>\n",
       "      <td>AG.CON.FERT.ZS</td>\n",
       "      <td>Fertilizer consumption (kilograms per hectare of arable land)</td>\n",
       "      <td>Environment</td>\n",
       "      <td>Agricultural production</td>\n",
       "      <td>NaN</td>\n",
       "      <td>NaN</td>\n",
       "    </tr>\n",
       "    <tr>\n",
       "      <th>3</th>\n",
       "      <td>AG.LND.AGRI.K2</td>\n",
       "      <td>Agricultural land (sq. km)</td>\n",
       "      <td>Environment</td>\n",
       "      <td>Land use</td>\n",
       "      <td>NaN</td>\n",
       "      <td>NaN</td>\n",
       "    </tr>\n",
       "    <tr>\n",
       "      <th>4</th>\n",
       "      <td>AG.LND.AGRI.ZS</td>\n",
       "      <td>Agricultural land (% of land area)</td>\n",
       "      <td>Environment</td>\n",
       "      <td>Land use</td>\n",
       "      <td>NaN</td>\n",
       "      <td>NaN</td>\n",
       "    </tr>\n",
       "  </tbody>\n",
       "</table>\n",
       "</div>"
      ],
      "text/plain": [
       "         Series Code  \\\n",
       "0     AG.AGR.TRAC.NO   \n",
       "1  AG.CON.FERT.PT.ZS   \n",
       "2     AG.CON.FERT.ZS   \n",
       "3     AG.LND.AGRI.K2   \n",
       "4     AG.LND.AGRI.ZS   \n",
       "\n",
       "                                                     Series Name        Topic  \\\n",
       "0                               Agricultural machinery, tractors  Environment   \n",
       "1            Fertilizer consumption (% of fertilizer production)  Environment   \n",
       "2  Fertilizer consumption (kilograms per hectare of arable land)  Environment   \n",
       "3                                     Agricultural land (sq. km)  Environment   \n",
       "4                             Agricultural land (% of land area)  Environment   \n",
       "\n",
       "                 SubTopic1 SubTopic2 SubTopic3  \n",
       "0  Agricultural production       NaN       NaN  \n",
       "1  Agricultural production       NaN       NaN  \n",
       "2  Agricultural production       NaN       NaN  \n",
       "3                 Land use       NaN       NaN  \n",
       "4                 Land use       NaN       NaN  "
      ]
     },
     "execution_count": 5,
     "metadata": {},
     "output_type": "execute_result"
    }
   ],
   "source": [
    "full_db_catalog = pd.read_excel(io=path + \"/\" + \"data_catalogs\" + \"/\" + \"WB_fullseries_catalog.xls\",\n",
    "             sheet_name = 1)\n",
    "\n",
    "full_db_catalog.head()"
   ]
  },
  {
   "cell_type": "markdown",
   "metadata": {},
   "source": [
    "## 2. Create a Helper Function to find easily a given catalog by code or by name"
   ]
  },
  {
   "cell_type": "code",
   "execution_count": 7,
   "metadata": {},
   "outputs": [],
   "source": [
    "def find_your_serie(in_your_serie, full_wb_catalog = full_db_catalog,  by_code = False, by_name = False):\n",
    "    if by_code:\n",
    "        \n",
    "        return(full_db_catalog[full_db_catalog['Series Code'].str.contains(in_your_serie, case = False)])\n",
    "    \n",
    "    if by_name:\n",
    "        \n",
    "        return(full_db_catalog[full_db_catalog['Series Name'].str.contains(in_your_serie, case = False)])\n",
    "    else:\n",
    "        \n",
    "        return(full_db_catalog)\n",
    "        "
   ]
  },
  {
   "cell_type": "code",
   "execution_count": null,
   "metadata": {},
   "outputs": [],
   "source": []
  },
  {
   "cell_type": "markdown",
   "metadata": {},
   "source": [
    "## 3. Extract socioeconomical data from the worlbank"
   ]
  },
  {
   "cell_type": "markdown",
   "metadata": {},
   "source": [
    "### Create a Function that make a call to the API and return a data frame"
   ]
  },
  {
   "cell_type": "code",
   "execution_count": 38,
   "metadata": {},
   "outputs": [],
   "source": [
    "#####################\n",
    "\n",
    "# This function make a specific dataseries request to the worlbank API and return a pandas df as output. \n",
    "# It takes 3  arguments:\n",
    "# 1. Indicator Code \"indic_code\", \n",
    "# 2. year range \"year_s\", \n",
    "# 3. Path destination \"destination\"\n",
    "\n",
    "#####################\n",
    "\n",
    "\n",
    "def API_call_to_df(indic_code, \n",
    "                   year_s = '2000:2020', \n",
    "                   destination = path + \"/\" + \"datasets\" + \"/\" + \"WB_datasets\"):\n",
    "    WB_url_seed = 'http://api.worldbank.org/v2/country/all/indicator/' + indic_code\n",
    "    my_params = {'date' : year_s,\n",
    "                'incomelevel' :'',\n",
    "                'downloadformat' : 'csv',\n",
    "                'per_page' : '304'}\n",
    "    \n",
    "    def number_of_cols(year_s): # Define function to asses index of columns to retrieve\n",
    "        my_years_int = year_s.split(\":\")\n",
    "        my_colums_indx = [*range(0, list(map(int, my_years_int))[1] - list(map(int, my_years_int))[0] + 5)]\n",
    "        return(my_colums_indx)\n",
    "    \n",
    "    for file in os.listdir(destination):\n",
    "        if fnmatch.fnmatch(file, \"API_\" + indic_code.upper() + \"*\"):\n",
    "            os.remove(destination + \"/\" + file)\n",
    "            response = requests.get(WB_url_seed, params = my_params)\n",
    "            my_zip_file = wget.download(response.url, out= destination)\n",
    "            print(\"file exists and will be replaced\")\n",
    "            break\n",
    "            \n",
    "    else:\n",
    "        response = requests.get(WB_url_seed, params = my_params)\n",
    "        my_zip_file = wget.download(response.url, out= destination)\n",
    "        \n",
    "    with ZipFile(my_zip_file, 'r') as zipObj:\n",
    "            for content in zipObj.namelist():\n",
    "                if fnmatch.fnmatch(content, 'API_*'):\n",
    "                    #print(content) #wihtin the content of the zip file find and extract the csv file that contain the data\n",
    "                    my_filename = content\n",
    "                    zipObj.extract(content, path = destination)\n",
    "                    my_df = pd.read_csv(destination + '/' + my_filename, \n",
    "                                                header = 2,\n",
    "                                                usecols = number_of_cols(year_s))\n",
    "                    os.remove(destination + \"/\" + my_filename)\n",
    "    \n",
    "    my_columns = list(my_df.columns)                \n",
    "    my_df = my_df.melt(#change the df to long format\n",
    "        id_vars=my_columns[:2],\n",
    "        value_vars=my_columns[4:],\n",
    "        var_name='year', \n",
    "        value_name=my_df['Indicator Name'][1])\n",
    "    \n",
    "    my_df.rename(columns={my_columns[0]: 'country_name', my_columns[1]: 'country_code'}, inplace=True)#rename columns\n",
    "    \n",
    "\n",
    "                    \n",
    "    return(my_df)\n"
   ]
  },
  {
   "cell_type": "code",
   "execution_count": null,
   "metadata": {},
   "outputs": [],
   "source": []
  },
  {
   "cell_type": "code",
   "execution_count": null,
   "metadata": {},
   "outputs": [],
   "source": []
  },
  {
   "cell_type": "code",
   "execution_count": null,
   "metadata": {},
   "outputs": [],
   "source": []
  },
  {
   "cell_type": "code",
   "execution_count": null,
   "metadata": {},
   "outputs": [],
   "source": []
  },
  {
   "cell_type": "markdown",
   "metadata": {},
   "source": [
    "### Filtering the series that contain only variables expressed as %\n",
    "We obtain only 755 variables which is a lot less!"
   ]
  },
  {
   "cell_type": "code",
   "execution_count": 12,
   "metadata": {},
   "outputs": [
    {
     "data": {
      "text/html": [
       "<div>\n",
       "<style scoped>\n",
       "    .dataframe tbody tr th:only-of-type {\n",
       "        vertical-align: middle;\n",
       "    }\n",
       "\n",
       "    .dataframe tbody tr th {\n",
       "        vertical-align: top;\n",
       "    }\n",
       "\n",
       "    .dataframe thead th {\n",
       "        text-align: right;\n",
       "    }\n",
       "</style>\n",
       "<table border=\"1\" class=\"dataframe\">\n",
       "  <thead>\n",
       "    <tr style=\"text-align: right;\">\n",
       "      <th></th>\n",
       "      <th>Series Code</th>\n",
       "      <th>Series Name</th>\n",
       "      <th>Topic</th>\n",
       "      <th>SubTopic1</th>\n",
       "      <th>SubTopic2</th>\n",
       "      <th>SubTopic3</th>\n",
       "    </tr>\n",
       "  </thead>\n",
       "  <tbody>\n",
       "    <tr>\n",
       "      <th>1</th>\n",
       "      <td>AG.CON.FERT.PT.ZS</td>\n",
       "      <td>Fertilizer consumption (% of fertilizer production)</td>\n",
       "      <td>Environment</td>\n",
       "      <td>Agricultural production</td>\n",
       "      <td>NaN</td>\n",
       "      <td>NaN</td>\n",
       "    </tr>\n",
       "    <tr>\n",
       "      <th>4</th>\n",
       "      <td>AG.LND.AGRI.ZS</td>\n",
       "      <td>Agricultural land (% of land area)</td>\n",
       "      <td>Environment</td>\n",
       "      <td>Land use</td>\n",
       "      <td>NaN</td>\n",
       "      <td>NaN</td>\n",
       "    </tr>\n",
       "    <tr>\n",
       "      <th>7</th>\n",
       "      <td>AG.LND.ARBL.ZS</td>\n",
       "      <td>Arable land (% of land area)</td>\n",
       "      <td>Environment</td>\n",
       "      <td>Land use</td>\n",
       "      <td>NaN</td>\n",
       "      <td>NaN</td>\n",
       "    </tr>\n",
       "    <tr>\n",
       "      <th>9</th>\n",
       "      <td>AG.LND.CROP.ZS</td>\n",
       "      <td>Permanent cropland (% of land area)</td>\n",
       "      <td>Environment</td>\n",
       "      <td>Land use</td>\n",
       "      <td>NaN</td>\n",
       "      <td>NaN</td>\n",
       "    </tr>\n",
       "    <tr>\n",
       "      <th>11</th>\n",
       "      <td>AG.LND.EL5M.RU.ZS</td>\n",
       "      <td>Rural land area where elevation is below 5 meters (% of total land area)</td>\n",
       "      <td>Environment</td>\n",
       "      <td>Land use</td>\n",
       "      <td>NaN</td>\n",
       "      <td>NaN</td>\n",
       "    </tr>\n",
       "  </tbody>\n",
       "</table>\n",
       "</div>"
      ],
      "text/plain": [
       "          Series Code  \\\n",
       "1   AG.CON.FERT.PT.ZS   \n",
       "4      AG.LND.AGRI.ZS   \n",
       "7      AG.LND.ARBL.ZS   \n",
       "9      AG.LND.CROP.ZS   \n",
       "11  AG.LND.EL5M.RU.ZS   \n",
       "\n",
       "                                                                 Series Name  \\\n",
       "1                        Fertilizer consumption (% of fertilizer production)   \n",
       "4                                         Agricultural land (% of land area)   \n",
       "7                                               Arable land (% of land area)   \n",
       "9                                        Permanent cropland (% of land area)   \n",
       "11  Rural land area where elevation is below 5 meters (% of total land area)   \n",
       "\n",
       "          Topic                SubTopic1 SubTopic2 SubTopic3  \n",
       "1   Environment  Agricultural production       NaN       NaN  \n",
       "4   Environment                 Land use       NaN       NaN  \n",
       "7   Environment                 Land use       NaN       NaN  \n",
       "9   Environment                 Land use       NaN       NaN  \n",
       "11  Environment                 Land use       NaN       NaN  "
      ]
     },
     "execution_count": 12,
     "metadata": {},
     "output_type": "execute_result"
    }
   ],
   "source": [
    "raw_percentage_db_catalog = full_db_catalog[full_db_catalog['Series Name'].str.contains(\"%\")]\n",
    "raw_percentage_db_catalog.head()"
   ]
  },
  {
   "cell_type": "markdown",
   "metadata": {},
   "source": [
    "### Display the number of dataseries per topic"
   ]
  },
  {
   "cell_type": "code",
   "execution_count": 13,
   "metadata": {},
   "outputs": [
    {
     "data": {
      "text/plain": [
       "Topic\n",
       "Economic Policy & Debt       105\n",
       "Education                    124\n",
       "Environment                   68\n",
       "Financial Sector              35\n",
       "Gender                         9\n",
       "Health                       131\n",
       "Infrastructure                 6\n",
       "Poverty                       20\n",
       "Private Sector & Trade        91\n",
       "Public Sector                 27\n",
       "Social Protection & Labor    139\n",
       "dtype: int64"
      ]
     },
     "execution_count": 13,
     "metadata": {},
     "output_type": "execute_result"
    }
   ],
   "source": [
    "raw_percentage_db_catalog.sort_values(by = \"Topic\").groupby(['Topic'], as_index = False).size()#[raw_percentage_db_catalog[]]"
   ]
  },
  {
   "cell_type": "markdown",
   "metadata": {},
   "source": [
    "#### We Observe that the topics that contain the most number of series are:\n",
    "\n",
    "1. **Social Protection & Labor**\n",
    "2. **Health**\n",
    "3. **Education**\n",
    "4. **Economic Policy & Debt**"
   ]
  },
  {
   "cell_type": "markdown",
   "metadata": {},
   "source": [
    "## 4. Explore the various topics to asess quality of the data\n",
    "\n",
    "This was experimental, need to revisited again..."
   ]
  },
  {
   "cell_type": "code",
   "execution_count": 254,
   "metadata": {},
   "outputs": [
    {
     "data": {
      "text/html": [
       "<div>\n",
       "<style scoped>\n",
       "    .dataframe tbody tr th:only-of-type {\n",
       "        vertical-align: middle;\n",
       "    }\n",
       "\n",
       "    .dataframe tbody tr th {\n",
       "        vertical-align: top;\n",
       "    }\n",
       "\n",
       "    .dataframe thead th {\n",
       "        text-align: right;\n",
       "    }\n",
       "</style>\n",
       "<table border=\"1\" class=\"dataframe\">\n",
       "  <thead>\n",
       "    <tr style=\"text-align: right;\">\n",
       "      <th></th>\n",
       "      <th>Series Code</th>\n",
       "      <th>Series Name</th>\n",
       "      <th>Topic</th>\n",
       "      <th>SubTopic1</th>\n",
       "      <th>SubTopic2</th>\n",
       "      <th>SubTopic3</th>\n",
       "    </tr>\n",
       "  </thead>\n",
       "  <tbody>\n",
       "    <tr>\n",
       "      <th>869</th>\n",
       "      <td>per_allsp.adq_pop_tot</td>\n",
       "      <td>Adequacy of social protection and labor programs (% of total welfare of beneficiary households)</td>\n",
       "      <td>Social Protection &amp; Labor</td>\n",
       "      <td>Performance</td>\n",
       "      <td>NaN</td>\n",
       "      <td>NaN</td>\n",
       "    </tr>\n",
       "    <tr>\n",
       "      <th>870</th>\n",
       "      <td>per_allsp.ben_q1_tot</td>\n",
       "      <td>Benefit incidence of social protection and labor programs to poorest quintile (% of total SPL benefits)</td>\n",
       "      <td>Social Protection &amp; Labor</td>\n",
       "      <td>Performance</td>\n",
       "      <td>NaN</td>\n",
       "      <td>NaN</td>\n",
       "    </tr>\n",
       "    <tr>\n",
       "      <th>871</th>\n",
       "      <td>per_allsp.cov_pop_tot</td>\n",
       "      <td>Coverage of social protection and labor programs (% of population)</td>\n",
       "      <td>Social Protection &amp; Labor</td>\n",
       "      <td>Performance</td>\n",
       "      <td>NaN</td>\n",
       "      <td>NaN</td>\n",
       "    </tr>\n",
       "    <tr>\n",
       "      <th>872</th>\n",
       "      <td>per_lm_alllm.adq_pop_tot</td>\n",
       "      <td>Adequacy of unemployment benefits and ALMP (% of total welfare of beneficiary households)</td>\n",
       "      <td>Social Protection &amp; Labor</td>\n",
       "      <td>Performance</td>\n",
       "      <td>NaN</td>\n",
       "      <td>NaN</td>\n",
       "    </tr>\n",
       "    <tr>\n",
       "      <th>873</th>\n",
       "      <td>per_lm_alllm.ben_q1_tot</td>\n",
       "      <td>Benefit incidence of unemployment benefits and ALMP to poorest quintile (% of total U/ALMP benefits)</td>\n",
       "      <td>Social Protection &amp; Labor</td>\n",
       "      <td>Performance</td>\n",
       "      <td>NaN</td>\n",
       "      <td>NaN</td>\n",
       "    </tr>\n",
       "    <tr>\n",
       "      <th>874</th>\n",
       "      <td>per_lm_alllm.cov_pop_tot</td>\n",
       "      <td>Coverage of unemployment benefits and ALMP (% of population)</td>\n",
       "      <td>Social Protection &amp; Labor</td>\n",
       "      <td>Performance</td>\n",
       "      <td>NaN</td>\n",
       "      <td>NaN</td>\n",
       "    </tr>\n",
       "    <tr>\n",
       "      <th>875</th>\n",
       "      <td>per_lm_alllm.cov_q1_tot</td>\n",
       "      <td>Coverage of unemployment benefits and ALMP in poorest quintile (% of population)</td>\n",
       "      <td>Social Protection &amp; Labor</td>\n",
       "      <td>Performance</td>\n",
       "      <td>NaN</td>\n",
       "      <td>NaN</td>\n",
       "    </tr>\n",
       "    <tr>\n",
       "      <th>876</th>\n",
       "      <td>per_lm_alllm.cov_q2_tot</td>\n",
       "      <td>Coverage of unemployment benefits and ALMP in 2nd quintile (% of population)</td>\n",
       "      <td>Social Protection &amp; Labor</td>\n",
       "      <td>Performance</td>\n",
       "      <td>NaN</td>\n",
       "      <td>NaN</td>\n",
       "    </tr>\n",
       "    <tr>\n",
       "      <th>877</th>\n",
       "      <td>per_lm_alllm.cov_q3_tot</td>\n",
       "      <td>Coverage of unemployment benefits and ALMP in 3rd quintile (% of population)</td>\n",
       "      <td>Social Protection &amp; Labor</td>\n",
       "      <td>Performance</td>\n",
       "      <td>NaN</td>\n",
       "      <td>NaN</td>\n",
       "    </tr>\n",
       "    <tr>\n",
       "      <th>878</th>\n",
       "      <td>per_lm_alllm.cov_q4_tot</td>\n",
       "      <td>Coverage of unemployment benefits and ALMP in 4th quintile (% of population)</td>\n",
       "      <td>Social Protection &amp; Labor</td>\n",
       "      <td>Performance</td>\n",
       "      <td>NaN</td>\n",
       "      <td>NaN</td>\n",
       "    </tr>\n",
       "  </tbody>\n",
       "</table>\n",
       "</div>"
      ],
      "text/plain": [
       "                  Series Code  \\\n",
       "869     per_allsp.adq_pop_tot   \n",
       "870      per_allsp.ben_q1_tot   \n",
       "871     per_allsp.cov_pop_tot   \n",
       "872  per_lm_alllm.adq_pop_tot   \n",
       "873   per_lm_alllm.ben_q1_tot   \n",
       "874  per_lm_alllm.cov_pop_tot   \n",
       "875   per_lm_alllm.cov_q1_tot   \n",
       "876   per_lm_alllm.cov_q2_tot   \n",
       "877   per_lm_alllm.cov_q3_tot   \n",
       "878   per_lm_alllm.cov_q4_tot   \n",
       "\n",
       "                                                                                                 Series Name  \\\n",
       "869          Adequacy of social protection and labor programs (% of total welfare of beneficiary households)   \n",
       "870  Benefit incidence of social protection and labor programs to poorest quintile (% of total SPL benefits)   \n",
       "871                                       Coverage of social protection and labor programs (% of population)   \n",
       "872                Adequacy of unemployment benefits and ALMP (% of total welfare of beneficiary households)   \n",
       "873     Benefit incidence of unemployment benefits and ALMP to poorest quintile (% of total U/ALMP benefits)   \n",
       "874                                             Coverage of unemployment benefits and ALMP (% of population)   \n",
       "875                         Coverage of unemployment benefits and ALMP in poorest quintile (% of population)   \n",
       "876                             Coverage of unemployment benefits and ALMP in 2nd quintile (% of population)   \n",
       "877                             Coverage of unemployment benefits and ALMP in 3rd quintile (% of population)   \n",
       "878                             Coverage of unemployment benefits and ALMP in 4th quintile (% of population)   \n",
       "\n",
       "                         Topic    SubTopic1 SubTopic2 SubTopic3  \n",
       "869  Social Protection & Labor  Performance       NaN       NaN  \n",
       "870  Social Protection & Labor  Performance       NaN       NaN  \n",
       "871  Social Protection & Labor  Performance       NaN       NaN  \n",
       "872  Social Protection & Labor  Performance       NaN       NaN  \n",
       "873  Social Protection & Labor  Performance       NaN       NaN  \n",
       "874  Social Protection & Labor  Performance       NaN       NaN  \n",
       "875  Social Protection & Labor  Performance       NaN       NaN  \n",
       "876  Social Protection & Labor  Performance       NaN       NaN  \n",
       "877  Social Protection & Labor  Performance       NaN       NaN  \n",
       "878  Social Protection & Labor  Performance       NaN       NaN  "
      ]
     },
     "execution_count": 254,
     "metadata": {},
     "output_type": "execute_result"
    }
   ],
   "source": [
    "raw_percentage_db_catalog[raw_percentage_db_catalog['Topic'] == \"Social Protection & Labor\"].head(10)"
   ]
  },
  {
   "cell_type": "code",
   "execution_count": null,
   "metadata": {},
   "outputs": [],
   "source": []
  },
  {
   "cell_type": "code",
   "execution_count": null,
   "metadata": {},
   "outputs": [],
   "source": []
  },
  {
   "cell_type": "code",
   "execution_count": null,
   "metadata": {},
   "outputs": [],
   "source": []
  },
  {
   "cell_type": "code",
   "execution_count": 317,
   "metadata": {},
   "outputs": [
    {
     "data": {
      "text/html": [
       "<div>\n",
       "<style scoped>\n",
       "    .dataframe tbody tr th:only-of-type {\n",
       "        vertical-align: middle;\n",
       "    }\n",
       "\n",
       "    .dataframe tbody tr th {\n",
       "        vertical-align: top;\n",
       "    }\n",
       "\n",
       "    .dataframe thead th {\n",
       "        text-align: right;\n",
       "    }\n",
       "</style>\n",
       "<table border=\"1\" class=\"dataframe\">\n",
       "  <thead>\n",
       "    <tr style=\"text-align: right;\">\n",
       "      <th></th>\n",
       "      <th>year</th>\n",
       "      <th>NaNs</th>\n",
       "    </tr>\n",
       "  </thead>\n",
       "  <tbody>\n",
       "    <tr>\n",
       "      <th>4</th>\n",
       "      <td>2000</td>\n",
       "      <td>263</td>\n",
       "    </tr>\n",
       "    <tr>\n",
       "      <th>5</th>\n",
       "      <td>2001</td>\n",
       "      <td>263</td>\n",
       "    </tr>\n",
       "    <tr>\n",
       "      <th>6</th>\n",
       "      <td>2002</td>\n",
       "      <td>261</td>\n",
       "    </tr>\n",
       "    <tr>\n",
       "      <th>7</th>\n",
       "      <td>2003</td>\n",
       "      <td>261</td>\n",
       "    </tr>\n",
       "    <tr>\n",
       "      <th>8</th>\n",
       "      <td>2004</td>\n",
       "      <td>259</td>\n",
       "    </tr>\n",
       "    <tr>\n",
       "      <th>9</th>\n",
       "      <td>2005</td>\n",
       "      <td>251</td>\n",
       "    </tr>\n",
       "  </tbody>\n",
       "</table>\n",
       "</div>"
      ],
      "text/plain": [
       "   year  NaNs\n",
       "4  2000   263\n",
       "5  2001   263\n",
       "6  2002   261\n",
       "7  2003   261\n",
       "8  2004   259\n",
       "9  2005   251"
      ]
     },
     "execution_count": 317,
     "metadata": {},
     "output_type": "execute_result"
    }
   ],
   "source": [
    "# Count the number of NaNs in a given series df\n",
    "# Indicator_Code = \n",
    "# wer_indicator\n",
    "years = pd.DataFrame(wer_indicator.isnull().sum()).reset_index()[4:]\n",
    "years.columns = (\"year\", \"NaNs\")\n",
    "years.head(6)"
   ]
  },
  {
   "cell_type": "markdown",
   "metadata": {},
   "source": [
    "### Make a function that take a dataframe and return the NaNs listed by year in all countries\n",
    "\n"
   ]
  },
  {
   "cell_type": "code",
   "execution_count": 13,
   "metadata": {},
   "outputs": [],
   "source": [
    "def data_quality_asses(dataframe):\n",
    "    df_years = pd.DataFrame(dataframe.isnull().sum()).reset_index()[4:] # Obtain Nas per year\n",
    "    df_years.columns = (\"year\", \"NaNs\") # rename columns\n",
    "    df_years[\"Indicator Code\"] = dataframe[\"Indicator Code\"][0] # add new column with the code name\n",
    "    df_years.set_index( [\"Indicator Code\"], inplace = True) # reset index to the code name\n",
    "    df_years = pd.pivot(df_years, columns= 'year', values= \"NaNs\") # pivot the dataset\n",
    "    return (df_years)"
   ]
  },
  {
   "cell_type": "code",
   "execution_count": null,
   "metadata": {},
   "outputs": [],
   "source": [
    "data_quality_asses(wer_indicator)[:]"
   ]
  },
  {
   "cell_type": "code",
   "execution_count": 15,
   "metadata": {},
   "outputs": [
    {
     "data": {
      "text/html": [
       "<div>\n",
       "<style scoped>\n",
       "    .dataframe tbody tr th:only-of-type {\n",
       "        vertical-align: middle;\n",
       "    }\n",
       "\n",
       "    .dataframe tbody tr th {\n",
       "        vertical-align: top;\n",
       "    }\n",
       "\n",
       "    .dataframe thead th {\n",
       "        text-align: right;\n",
       "    }\n",
       "</style>\n",
       "<table border=\"1\" class=\"dataframe\">\n",
       "  <thead>\n",
       "    <tr style=\"text-align: right;\">\n",
       "      <th></th>\n",
       "      <th>country_name</th>\n",
       "      <th>country_code</th>\n",
       "      <th>year</th>\n",
       "      <th>GNI, PPP (current international $)</th>\n",
       "    </tr>\n",
       "  </thead>\n",
       "  <tbody>\n",
       "    <tr>\n",
       "      <th>0</th>\n",
       "      <td>Aruba</td>\n",
       "      <td>ABW</td>\n",
       "      <td>2010</td>\n",
       "      <td>3.122230e+09</td>\n",
       "    </tr>\n",
       "    <tr>\n",
       "      <th>1</th>\n",
       "      <td>Afghanistan</td>\n",
       "      <td>AFG</td>\n",
       "      <td>2010</td>\n",
       "      <td>5.001196e+10</td>\n",
       "    </tr>\n",
       "    <tr>\n",
       "      <th>2</th>\n",
       "      <td>Angola</td>\n",
       "      <td>AGO</td>\n",
       "      <td>2010</td>\n",
       "      <td>1.390217e+11</td>\n",
       "    </tr>\n",
       "    <tr>\n",
       "      <th>3</th>\n",
       "      <td>Albania</td>\n",
       "      <td>ALB</td>\n",
       "      <td>2010</td>\n",
       "      <td>2.778845e+10</td>\n",
       "    </tr>\n",
       "    <tr>\n",
       "      <th>4</th>\n",
       "      <td>Andorra</td>\n",
       "      <td>AND</td>\n",
       "      <td>2010</td>\n",
       "      <td>NaN</td>\n",
       "    </tr>\n",
       "  </tbody>\n",
       "</table>\n",
       "</div>"
      ],
      "text/plain": [
       "  country_name country_code  year  GNI, PPP (current international $)\n",
       "0        Aruba          ABW  2010                        3.122230e+09\n",
       "1  Afghanistan          AFG  2010                        5.001196e+10\n",
       "2       Angola          AGO  2010                        1.390217e+11\n",
       "3      Albania          ALB  2010                        2.778845e+10\n",
       "4      Andorra          AND  2010                                 NaN"
      ]
     },
     "execution_count": 15,
     "metadata": {},
     "output_type": "execute_result"
    }
   ],
   "source": [
    "wer_indicator.head()"
   ]
  },
  {
   "cell_type": "code",
   "execution_count": null,
   "metadata": {},
   "outputs": [],
   "source": []
  },
  {
   "cell_type": "code",
   "execution_count": null,
   "metadata": {},
   "outputs": [],
   "source": [
    "wer_indicator.isnull().sum().to_frame()"
   ]
  },
  {
   "cell_type": "markdown",
   "metadata": {},
   "source": [
    "## 5. Taking only countries included in the UNDP dataset"
   ]
  },
  {
   "cell_type": "markdown",
   "metadata": {},
   "source": [
    "Before assesing the quality of the data namely ratio of NaNs to total entries is better to base the analysis in countries only and exclude geografical groups or organizations."
   ]
  },
  {
   "cell_type": "markdown",
   "metadata": {},
   "source": [
    "### We make a function that clean the data and export it\n",
    "this function take and filter countries only present in the UNDP country/code file"
   ]
  },
  {
   "cell_type": "code",
   "execution_count": 71,
   "metadata": {},
   "outputs": [],
   "source": [
    "# Define a function to clean the dataset\n",
    "# this function remove unknown conutry ocdes and sort the data by country_name and year\n",
    "\n",
    "def clean_and_save_my_df(df, output_file_name, destination_dir = path + \"/\" + \"curated_datasets\"):\n",
    "    #collect the country codes for the original file \"Country_code.csv\"\n",
    "    UNDP_country_code_list = pd.read_csv(path + \"/\" + \"Country_code.csv\")[\"Country_Code\"]\n",
    "    \n",
    "    clean_df = df[df['country_code'].isin(UNDP_country_code_list)].reset_index(drop=True)#filter by the countrycode\n",
    "    clean_df = clean_df.sort_values(by=['country_name', 'year']).reset_index(drop=True)#sort the columns\n",
    "    \n",
    "    clean_df.to_csv(destination_dir + '/' + \"WB_\" + output_file_name + '_df' + '.csv', index=False)\n",
    "    \n",
    "    return(clean_df)\n",
    "    \n",
    "    \n",
    "    \n",
    "    "
   ]
  },
  {
   "cell_type": "markdown",
   "metadata": {},
   "source": [
    "## 6. Loop over a number of data codes, colect, transform  and save to df for the given indicator"
   ]
  },
  {
   "cell_type": "code",
   "execution_count": 77,
   "metadata": {},
   "outputs": [],
   "source": [
    "my_WB_indicator_dic = {\"NY.GNP.MKTP.PP.CD\": \"GNI_PPP\",\n",
    "                       \"IQ.CPA.TRAN.XQ\": \"GEI_indx\",\n",
    "                       \"IQ.CPA.BREG.XQ\": \"Env_1\",\n",
    "                       \"IQ.CPA.ENVR.XQ\" : \"Env_2\"}"
   ]
  },
  {
   "cell_type": "code",
   "execution_count": 78,
   "metadata": {},
   "outputs": [
    {
     "name": "stdout",
     "output_type": "stream",
     "text": [
      "file exists and will be replaced\n",
      "file exists and will be replaced\n",
      "file exists and will be replaced\n",
      "file exists and will be replaced\n"
     ]
    }
   ],
   "source": [
    "for value in my_WB_indicator_dic:\n",
    "    my_df = API_call_to_df(indic_code = value)\n",
    "    clean_and_save_my_df(df = my_df, output_file_name = my_indicator_dic[value])\n",
    "    sleep(1) # make a time sleep between calls\n",
    "    "
   ]
  },
  {
   "cell_type": "code",
   "execution_count": null,
   "metadata": {},
   "outputs": [],
   "source": []
  }
 ],
 "metadata": {
  "kernelspec": {
   "display_name": "Python 3",
   "language": "python",
   "name": "python3"
  },
  "language_info": {
   "codemirror_mode": {
    "name": "ipython",
    "version": 3
   },
   "file_extension": ".py",
   "mimetype": "text/x-python",
   "name": "python",
   "nbconvert_exporter": "python",
   "pygments_lexer": "ipython3",
   "version": "3.7.6"
  }
 },
 "nbformat": 4,
 "nbformat_minor": 4
}
