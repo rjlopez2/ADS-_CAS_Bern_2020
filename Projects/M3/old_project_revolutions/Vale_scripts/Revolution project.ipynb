{
 "cells": [
  {
   "cell_type": "code",
   "execution_count": 15,
   "metadata": {},
   "outputs": [],
   "source": [
    "import pandas as pd\n",
    "import requests\n",
    "import numpy as np\n",
    "import os\n",
    "import datetime\n",
    "import xlrd"
   ]
  },
  {
   "cell_type": "code",
   "execution_count": 16,
   "metadata": {},
   "outputs": [
    {
     "data": {
      "text/plain": "  Country name v3regenddate v3regendtype\n0         Peru   09/12/1824            5\n1        Peru    04/01/1827           12\n2        Peru    01/09/1829            0\n3         Peru   24/04/1834           11\n4         Peru   23/02/1835            0",
      "text/html": "<div>\n<style scoped>\n    .dataframe tbody tr th:only-of-type {\n        vertical-align: middle;\n    }\n\n    .dataframe tbody tr th {\n        vertical-align: top;\n    }\n\n    .dataframe thead th {\n        text-align: right;\n    }\n</style>\n<table border=\"1\" class=\"dataframe\">\n  <thead>\n    <tr style=\"text-align: right;\">\n      <th></th>\n      <th>Country name</th>\n      <th>v3regenddate</th>\n      <th>v3regendtype</th>\n    </tr>\n  </thead>\n  <tbody>\n    <tr>\n      <th>0</th>\n      <td>Peru</td>\n      <td>09/12/1824</td>\n      <td>5</td>\n    </tr>\n    <tr>\n      <th>1</th>\n      <td>Peru</td>\n      <td>04/01/1827</td>\n      <td>12</td>\n    </tr>\n    <tr>\n      <th>2</th>\n      <td>Peru</td>\n      <td>01/09/1829</td>\n      <td>0</td>\n    </tr>\n    <tr>\n      <th>3</th>\n      <td>Peru</td>\n      <td>24/04/1834</td>\n      <td>11</td>\n    </tr>\n    <tr>\n      <th>4</th>\n      <td>Peru</td>\n      <td>23/02/1835</td>\n      <td>0</td>\n    </tr>\n  </tbody>\n</table>\n</div>"
     },
     "execution_count": 16,
     "metadata": {},
     "output_type": "execute_result"
    }
   ],
   "source": [
    "#filtered required columns from the data source\n",
    "df_raw = pd.read_excel('HRD_COMPLETE_CODING_SHEET_WITH_NOTES.xlsx',usecols = [0,7,11])\n",
    "df_raw.head()\n"
   ]
  },
  {
   "cell_type": "code",
   "execution_count": 17,
   "metadata": {},
   "outputs": [
    {
     "data": {
      "text/plain": "  Country name v3regenddate v3regendtype\n0         Peru   09/12/1824            5\n1        Peru    04/01/1827           12\n2        Peru    01/09/1829            0\n3         Peru   24/04/1834           11\n4         Peru   23/02/1835            0",
      "text/html": "<div>\n<style scoped>\n    .dataframe tbody tr th:only-of-type {\n        vertical-align: middle;\n    }\n\n    .dataframe tbody tr th {\n        vertical-align: top;\n    }\n\n    .dataframe thead th {\n        text-align: right;\n    }\n</style>\n<table border=\"1\" class=\"dataframe\">\n  <thead>\n    <tr style=\"text-align: right;\">\n      <th></th>\n      <th>Country name</th>\n      <th>v3regenddate</th>\n      <th>v3regendtype</th>\n    </tr>\n  </thead>\n  <tbody>\n    <tr>\n      <th>0</th>\n      <td>Peru</td>\n      <td>09/12/1824</td>\n      <td>5</td>\n    </tr>\n    <tr>\n      <th>1</th>\n      <td>Peru</td>\n      <td>04/01/1827</td>\n      <td>12</td>\n    </tr>\n    <tr>\n      <th>2</th>\n      <td>Peru</td>\n      <td>01/09/1829</td>\n      <td>0</td>\n    </tr>\n    <tr>\n      <th>3</th>\n      <td>Peru</td>\n      <td>24/04/1834</td>\n      <td>11</td>\n    </tr>\n    <tr>\n      <th>4</th>\n      <td>Peru</td>\n      <td>23/02/1835</td>\n      <td>0</td>\n    </tr>\n  </tbody>\n</table>\n</div>"
     },
     "execution_count": 17,
     "metadata": {},
     "output_type": "execute_result"
    }
   ],
   "source": [
    "#Replaced E which stands for current date in the report with the number 2021\n",
    "df_raw = df_raw.replace(to_replace=\"E\",value=\"01/01/2021\")\n",
    "df_raw.head()"
   ]
  },
  {
   "cell_type": "code",
   "execution_count": 18,
   "metadata": {
    "scrolled": true
   },
   "outputs": [
    {
     "data": {
      "text/plain": "             Country name v3regenddate v3regendtype\n0                    Peru   1824-09-12            5\n1                   Peru    1827-04-01           12\n2                   Peru    1829-01-09            0\n3                    Peru   1834-04-24           11\n4                    Peru   1835-02-23            0\n...                   ...          ...          ...\n2075  Palestine/West Bank   1950-04-24           10\n2076  Palestine/West Bank   1950-12-31          NaN\n2077  Palestine/West Bank   1967-06-05          NaN\n2078  Palestine/West Bank   2007-06-15            5\n2079  Palestine/West Bank   2021-01-01          NaN\n\n[2080 rows x 3 columns]",
      "text/html": "<div>\n<style scoped>\n    .dataframe tbody tr th:only-of-type {\n        vertical-align: middle;\n    }\n\n    .dataframe tbody tr th {\n        vertical-align: top;\n    }\n\n    .dataframe thead th {\n        text-align: right;\n    }\n</style>\n<table border=\"1\" class=\"dataframe\">\n  <thead>\n    <tr style=\"text-align: right;\">\n      <th></th>\n      <th>Country name</th>\n      <th>v3regenddate</th>\n      <th>v3regendtype</th>\n    </tr>\n  </thead>\n  <tbody>\n    <tr>\n      <th>0</th>\n      <td>Peru</td>\n      <td>1824-09-12</td>\n      <td>5</td>\n    </tr>\n    <tr>\n      <th>1</th>\n      <td>Peru</td>\n      <td>1827-04-01</td>\n      <td>12</td>\n    </tr>\n    <tr>\n      <th>2</th>\n      <td>Peru</td>\n      <td>1829-01-09</td>\n      <td>0</td>\n    </tr>\n    <tr>\n      <th>3</th>\n      <td>Peru</td>\n      <td>1834-04-24</td>\n      <td>11</td>\n    </tr>\n    <tr>\n      <th>4</th>\n      <td>Peru</td>\n      <td>1835-02-23</td>\n      <td>0</td>\n    </tr>\n    <tr>\n      <th>...</th>\n      <td>...</td>\n      <td>...</td>\n      <td>...</td>\n    </tr>\n    <tr>\n      <th>2075</th>\n      <td>Palestine/West Bank</td>\n      <td>1950-04-24</td>\n      <td>10</td>\n    </tr>\n    <tr>\n      <th>2076</th>\n      <td>Palestine/West Bank</td>\n      <td>1950-12-31</td>\n      <td>NaN</td>\n    </tr>\n    <tr>\n      <th>2077</th>\n      <td>Palestine/West Bank</td>\n      <td>1967-06-05</td>\n      <td>NaN</td>\n    </tr>\n    <tr>\n      <th>2078</th>\n      <td>Palestine/West Bank</td>\n      <td>2007-06-15</td>\n      <td>5</td>\n    </tr>\n    <tr>\n      <th>2079</th>\n      <td>Palestine/West Bank</td>\n      <td>2021-01-01</td>\n      <td>NaN</td>\n    </tr>\n  </tbody>\n</table>\n<p>2080 rows × 3 columns</p>\n</div>"
     },
     "execution_count": 18,
     "metadata": {},
     "output_type": "execute_result"
    }
   ],
   "source": [
    "#Changed data type for date for datatime\n",
    "df_raw['v3regenddate']= pd.to_datetime(df_raw['v3regenddate'])\n",
    "df_raw"
   ]
  },
  {
   "cell_type": "code",
   "execution_count": 19,
   "outputs": [
    {
     "data": {
      "text/plain": "             Country name v3regenddate v3regendtype  Revolution\n0                    Peru   1824-09-12            5       False\n1                   Peru    1827-04-01           12       False\n2                   Peru    1829-01-09            0       False\n3                    Peru   1834-04-24           11       False\n4                    Peru   1835-02-23            0       False\n...                   ...          ...          ...         ...\n2075  Palestine/West Bank   1950-04-24           10       False\n2076  Palestine/West Bank   1950-12-31          NaN       False\n2077  Palestine/West Bank   1967-06-05          NaN       False\n2078  Palestine/West Bank   2007-06-15            5       False\n2079  Palestine/West Bank   2021-01-01          NaN       False\n\n[2080 rows x 4 columns]",
      "text/html": "<div>\n<style scoped>\n    .dataframe tbody tr th:only-of-type {\n        vertical-align: middle;\n    }\n\n    .dataframe tbody tr th {\n        vertical-align: top;\n    }\n\n    .dataframe thead th {\n        text-align: right;\n    }\n</style>\n<table border=\"1\" class=\"dataframe\">\n  <thead>\n    <tr style=\"text-align: right;\">\n      <th></th>\n      <th>Country name</th>\n      <th>v3regenddate</th>\n      <th>v3regendtype</th>\n      <th>Revolution</th>\n    </tr>\n  </thead>\n  <tbody>\n    <tr>\n      <th>0</th>\n      <td>Peru</td>\n      <td>1824-09-12</td>\n      <td>5</td>\n      <td>False</td>\n    </tr>\n    <tr>\n      <th>1</th>\n      <td>Peru</td>\n      <td>1827-04-01</td>\n      <td>12</td>\n      <td>False</td>\n    </tr>\n    <tr>\n      <th>2</th>\n      <td>Peru</td>\n      <td>1829-01-09</td>\n      <td>0</td>\n      <td>False</td>\n    </tr>\n    <tr>\n      <th>3</th>\n      <td>Peru</td>\n      <td>1834-04-24</td>\n      <td>11</td>\n      <td>False</td>\n    </tr>\n    <tr>\n      <th>4</th>\n      <td>Peru</td>\n      <td>1835-02-23</td>\n      <td>0</td>\n      <td>False</td>\n    </tr>\n    <tr>\n      <th>...</th>\n      <td>...</td>\n      <td>...</td>\n      <td>...</td>\n      <td>...</td>\n    </tr>\n    <tr>\n      <th>2075</th>\n      <td>Palestine/West Bank</td>\n      <td>1950-04-24</td>\n      <td>10</td>\n      <td>False</td>\n    </tr>\n    <tr>\n      <th>2076</th>\n      <td>Palestine/West Bank</td>\n      <td>1950-12-31</td>\n      <td>NaN</td>\n      <td>False</td>\n    </tr>\n    <tr>\n      <th>2077</th>\n      <td>Palestine/West Bank</td>\n      <td>1967-06-05</td>\n      <td>NaN</td>\n      <td>False</td>\n    </tr>\n    <tr>\n      <th>2078</th>\n      <td>Palestine/West Bank</td>\n      <td>2007-06-15</td>\n      <td>5</td>\n      <td>False</td>\n    </tr>\n    <tr>\n      <th>2079</th>\n      <td>Palestine/West Bank</td>\n      <td>2021-01-01</td>\n      <td>NaN</td>\n      <td>False</td>\n    </tr>\n  </tbody>\n</table>\n<p>2080 rows × 4 columns</p>\n</div>"
     },
     "execution_count": 19,
     "metadata": {},
     "output_type": "execute_result"
    }
   ],
   "source": [
    "df_raw['Revolution'] = np.where((df_raw['v3regenddate']>='2010-01-01') & (df_raw['v3regenddate']<'2021-01-01'),True, False)\n",
    "df_raw"
   ],
   "metadata": {
    "collapsed": false,
    "pycharm": {
     "name": "#%%Added new column called Revolution and made yes/no condition to the date 2010 and later\n"
    }
   }
  },
  {
   "cell_type": "code",
   "execution_count": 20,
   "metadata": {},
   "outputs": [
    {
     "data": {
      "text/plain": "                  Country name v3regenddate v3regendtype  Revolution\n60       Turkey/Ottoman Empire   2017-04-16            2        True\n110         Libya/Tripolitania   2011-08-23            7        True\n214                      Egypt   2011-02-11            8        True\n215                      Egypt   2012-06-24           10        True\n216                      Egypt   2012-12-26           10        True\n217                      Egypt   2013-07-03            0        True\n218                      Egypt   2014-01-18           10        True\n258              Burma/Myanmar   2012-04-01            9        True\n267                      Yemen   2012-02-25            5        True\n268                      Yemen   2014-09-24            5        True\n269                      Yemen   2015-01-23            5        True\n270                      Yemen   2015-03-25            5        True\n305                    Tunisia   2011-01-14            8        True\n306                    Tunisia   2014-01-26            9        True\n352                    Bolivia   2017-11-28            2        True\n417                      China   2018-03-11           10        True\n650                   Honduras   2010-01-27            9        True\n726                    Hungary   2012-01-01           10        True\n836                 Madagascar   2010-12-11           10        True\n837                 Madagascar   2014-01-25            9        True\n860                     Russia   2012-03-04            2        True\n1154                 Venezuela   2017-07-30            2        True\n1179                  Thailand   2014-05-22            0        True\n1180                  Thailand   2017-04-06            2        True\n1224                  Malaysia   2018-05-10           11        True\n1235                   Armenia   2018-04-23            8        True\n1245                Kyrgyzstan   2010-04-08            8        True\n1246                Kyrgyzstan   2010-06-27            9        True\n1281                   Ukraine   2014-02-21            8        True\n1343                   Burundi   2010-06-28            2        True\n1382                   Somalia   2012-08-20           10        True\n1400                    Gambia   2017-01-21            7        True\n1411                      Mali   2012-03-22            0        True\n1412                      Mali   2012-04-12           10        True\n1413                      Mali   2012-12-10            0        True\n1414                      Mali   2013-09-04            9        True\n1427                     Niger   2010-02-18            0        True\n1428                     Niger   2011-04-07            9        True\n1473  Central African Republic   2013-03-24            5        True\n1474  Central African Republic   2014-01-10            5        True\n1475  Central African Republic   2015-12-13            9        True\n1670              Burkina Faso   2014-10-31            8        True\n1671              Burkina Faso   2014-11-18           10        True\n1672              Burkina Faso   2015-09-16            0        True\n1673              Burkina Faso   2015-09-23           10        True\n1674              Burkina Faso   2015-12-29            9        True\n1681                    Guinea   2010-01-26           10        True\n1682                    Guinea   2010-12-21            9        True\n1707               Ivory Coast   2011-04-11            5        True\n1801                      Iraq   2011-12-15           10        True\n1802                      Iraq   2014-06-15            5        True\n1803                      Iraq   2017-12-09            5        True\n1855                      Fiji   2013-09-07            2        True\n1887                Seychelles   2016-09-10            9        True\n1896           Solomon Islands   2017-06-30            7        True\n2053                   Bahrain   2011-03-15            2        True",
      "text/html": "<div>\n<style scoped>\n    .dataframe tbody tr th:only-of-type {\n        vertical-align: middle;\n    }\n\n    .dataframe tbody tr th {\n        vertical-align: top;\n    }\n\n    .dataframe thead th {\n        text-align: right;\n    }\n</style>\n<table border=\"1\" class=\"dataframe\">\n  <thead>\n    <tr style=\"text-align: right;\">\n      <th></th>\n      <th>Country name</th>\n      <th>v3regenddate</th>\n      <th>v3regendtype</th>\n      <th>Revolution</th>\n    </tr>\n  </thead>\n  <tbody>\n    <tr>\n      <th>60</th>\n      <td>Turkey/Ottoman Empire</td>\n      <td>2017-04-16</td>\n      <td>2</td>\n      <td>True</td>\n    </tr>\n    <tr>\n      <th>110</th>\n      <td>Libya/Tripolitania</td>\n      <td>2011-08-23</td>\n      <td>7</td>\n      <td>True</td>\n    </tr>\n    <tr>\n      <th>214</th>\n      <td>Egypt</td>\n      <td>2011-02-11</td>\n      <td>8</td>\n      <td>True</td>\n    </tr>\n    <tr>\n      <th>215</th>\n      <td>Egypt</td>\n      <td>2012-06-24</td>\n      <td>10</td>\n      <td>True</td>\n    </tr>\n    <tr>\n      <th>216</th>\n      <td>Egypt</td>\n      <td>2012-12-26</td>\n      <td>10</td>\n      <td>True</td>\n    </tr>\n    <tr>\n      <th>217</th>\n      <td>Egypt</td>\n      <td>2013-07-03</td>\n      <td>0</td>\n      <td>True</td>\n    </tr>\n    <tr>\n      <th>218</th>\n      <td>Egypt</td>\n      <td>2014-01-18</td>\n      <td>10</td>\n      <td>True</td>\n    </tr>\n    <tr>\n      <th>258</th>\n      <td>Burma/Myanmar</td>\n      <td>2012-04-01</td>\n      <td>9</td>\n      <td>True</td>\n    </tr>\n    <tr>\n      <th>267</th>\n      <td>Yemen</td>\n      <td>2012-02-25</td>\n      <td>5</td>\n      <td>True</td>\n    </tr>\n    <tr>\n      <th>268</th>\n      <td>Yemen</td>\n      <td>2014-09-24</td>\n      <td>5</td>\n      <td>True</td>\n    </tr>\n    <tr>\n      <th>269</th>\n      <td>Yemen</td>\n      <td>2015-01-23</td>\n      <td>5</td>\n      <td>True</td>\n    </tr>\n    <tr>\n      <th>270</th>\n      <td>Yemen</td>\n      <td>2015-03-25</td>\n      <td>5</td>\n      <td>True</td>\n    </tr>\n    <tr>\n      <th>305</th>\n      <td>Tunisia</td>\n      <td>2011-01-14</td>\n      <td>8</td>\n      <td>True</td>\n    </tr>\n    <tr>\n      <th>306</th>\n      <td>Tunisia</td>\n      <td>2014-01-26</td>\n      <td>9</td>\n      <td>True</td>\n    </tr>\n    <tr>\n      <th>352</th>\n      <td>Bolivia</td>\n      <td>2017-11-28</td>\n      <td>2</td>\n      <td>True</td>\n    </tr>\n    <tr>\n      <th>417</th>\n      <td>China</td>\n      <td>2018-03-11</td>\n      <td>10</td>\n      <td>True</td>\n    </tr>\n    <tr>\n      <th>650</th>\n      <td>Honduras</td>\n      <td>2010-01-27</td>\n      <td>9</td>\n      <td>True</td>\n    </tr>\n    <tr>\n      <th>726</th>\n      <td>Hungary</td>\n      <td>2012-01-01</td>\n      <td>10</td>\n      <td>True</td>\n    </tr>\n    <tr>\n      <th>836</th>\n      <td>Madagascar</td>\n      <td>2010-12-11</td>\n      <td>10</td>\n      <td>True</td>\n    </tr>\n    <tr>\n      <th>837</th>\n      <td>Madagascar</td>\n      <td>2014-01-25</td>\n      <td>9</td>\n      <td>True</td>\n    </tr>\n    <tr>\n      <th>860</th>\n      <td>Russia</td>\n      <td>2012-03-04</td>\n      <td>2</td>\n      <td>True</td>\n    </tr>\n    <tr>\n      <th>1154</th>\n      <td>Venezuela</td>\n      <td>2017-07-30</td>\n      <td>2</td>\n      <td>True</td>\n    </tr>\n    <tr>\n      <th>1179</th>\n      <td>Thailand</td>\n      <td>2014-05-22</td>\n      <td>0</td>\n      <td>True</td>\n    </tr>\n    <tr>\n      <th>1180</th>\n      <td>Thailand</td>\n      <td>2017-04-06</td>\n      <td>2</td>\n      <td>True</td>\n    </tr>\n    <tr>\n      <th>1224</th>\n      <td>Malaysia</td>\n      <td>2018-05-10</td>\n      <td>11</td>\n      <td>True</td>\n    </tr>\n    <tr>\n      <th>1235</th>\n      <td>Armenia</td>\n      <td>2018-04-23</td>\n      <td>8</td>\n      <td>True</td>\n    </tr>\n    <tr>\n      <th>1245</th>\n      <td>Kyrgyzstan</td>\n      <td>2010-04-08</td>\n      <td>8</td>\n      <td>True</td>\n    </tr>\n    <tr>\n      <th>1246</th>\n      <td>Kyrgyzstan</td>\n      <td>2010-06-27</td>\n      <td>9</td>\n      <td>True</td>\n    </tr>\n    <tr>\n      <th>1281</th>\n      <td>Ukraine</td>\n      <td>2014-02-21</td>\n      <td>8</td>\n      <td>True</td>\n    </tr>\n    <tr>\n      <th>1343</th>\n      <td>Burundi</td>\n      <td>2010-06-28</td>\n      <td>2</td>\n      <td>True</td>\n    </tr>\n    <tr>\n      <th>1382</th>\n      <td>Somalia</td>\n      <td>2012-08-20</td>\n      <td>10</td>\n      <td>True</td>\n    </tr>\n    <tr>\n      <th>1400</th>\n      <td>Gambia</td>\n      <td>2017-01-21</td>\n      <td>7</td>\n      <td>True</td>\n    </tr>\n    <tr>\n      <th>1411</th>\n      <td>Mali</td>\n      <td>2012-03-22</td>\n      <td>0</td>\n      <td>True</td>\n    </tr>\n    <tr>\n      <th>1412</th>\n      <td>Mali</td>\n      <td>2012-04-12</td>\n      <td>10</td>\n      <td>True</td>\n    </tr>\n    <tr>\n      <th>1413</th>\n      <td>Mali</td>\n      <td>2012-12-10</td>\n      <td>0</td>\n      <td>True</td>\n    </tr>\n    <tr>\n      <th>1414</th>\n      <td>Mali</td>\n      <td>2013-09-04</td>\n      <td>9</td>\n      <td>True</td>\n    </tr>\n    <tr>\n      <th>1427</th>\n      <td>Niger</td>\n      <td>2010-02-18</td>\n      <td>0</td>\n      <td>True</td>\n    </tr>\n    <tr>\n      <th>1428</th>\n      <td>Niger</td>\n      <td>2011-04-07</td>\n      <td>9</td>\n      <td>True</td>\n    </tr>\n    <tr>\n      <th>1473</th>\n      <td>Central African Republic</td>\n      <td>2013-03-24</td>\n      <td>5</td>\n      <td>True</td>\n    </tr>\n    <tr>\n      <th>1474</th>\n      <td>Central African Republic</td>\n      <td>2014-01-10</td>\n      <td>5</td>\n      <td>True</td>\n    </tr>\n    <tr>\n      <th>1475</th>\n      <td>Central African Republic</td>\n      <td>2015-12-13</td>\n      <td>9</td>\n      <td>True</td>\n    </tr>\n    <tr>\n      <th>1670</th>\n      <td>Burkina Faso</td>\n      <td>2014-10-31</td>\n      <td>8</td>\n      <td>True</td>\n    </tr>\n    <tr>\n      <th>1671</th>\n      <td>Burkina Faso</td>\n      <td>2014-11-18</td>\n      <td>10</td>\n      <td>True</td>\n    </tr>\n    <tr>\n      <th>1672</th>\n      <td>Burkina Faso</td>\n      <td>2015-09-16</td>\n      <td>0</td>\n      <td>True</td>\n    </tr>\n    <tr>\n      <th>1673</th>\n      <td>Burkina Faso</td>\n      <td>2015-09-23</td>\n      <td>10</td>\n      <td>True</td>\n    </tr>\n    <tr>\n      <th>1674</th>\n      <td>Burkina Faso</td>\n      <td>2015-12-29</td>\n      <td>9</td>\n      <td>True</td>\n    </tr>\n    <tr>\n      <th>1681</th>\n      <td>Guinea</td>\n      <td>2010-01-26</td>\n      <td>10</td>\n      <td>True</td>\n    </tr>\n    <tr>\n      <th>1682</th>\n      <td>Guinea</td>\n      <td>2010-12-21</td>\n      <td>9</td>\n      <td>True</td>\n    </tr>\n    <tr>\n      <th>1707</th>\n      <td>Ivory Coast</td>\n      <td>2011-04-11</td>\n      <td>5</td>\n      <td>True</td>\n    </tr>\n    <tr>\n      <th>1801</th>\n      <td>Iraq</td>\n      <td>2011-12-15</td>\n      <td>10</td>\n      <td>True</td>\n    </tr>\n    <tr>\n      <th>1802</th>\n      <td>Iraq</td>\n      <td>2014-06-15</td>\n      <td>5</td>\n      <td>True</td>\n    </tr>\n    <tr>\n      <th>1803</th>\n      <td>Iraq</td>\n      <td>2017-12-09</td>\n      <td>5</td>\n      <td>True</td>\n    </tr>\n    <tr>\n      <th>1855</th>\n      <td>Fiji</td>\n      <td>2013-09-07</td>\n      <td>2</td>\n      <td>True</td>\n    </tr>\n    <tr>\n      <th>1887</th>\n      <td>Seychelles</td>\n      <td>2016-09-10</td>\n      <td>9</td>\n      <td>True</td>\n    </tr>\n    <tr>\n      <th>1896</th>\n      <td>Solomon Islands</td>\n      <td>2017-06-30</td>\n      <td>7</td>\n      <td>True</td>\n    </tr>\n    <tr>\n      <th>2053</th>\n      <td>Bahrain</td>\n      <td>2011-03-15</td>\n      <td>2</td>\n      <td>True</td>\n    </tr>\n  </tbody>\n</table>\n</div>"
     },
     "execution_count": 20,
     "metadata": {},
     "output_type": "execute_result"
    }
   ],
   "source": [
    "#Selected the data from 2010 to 2021\n",
    "df_2010 = df_raw[(df_raw['v3regenddate']>= \"2010-01-01\") & (df_raw['v3regenddate']< \"2020-12-31\")]\n",
    "df_2010\n",
    "\n"
   ]
  },
  {
   "cell_type": "code",
   "execution_count": 21,
   "outputs": [
    {
     "data": {
      "text/plain": "32"
     },
     "execution_count": 21,
     "metadata": {},
     "output_type": "execute_result"
    }
   ],
   "source": [
    "len(df_2010[\"Country name\"].unique())\n"
   ],
   "metadata": {
    "collapsed": false,
    "pycharm": {
     "name": "#%%\n"
    }
   }
  },
  {
   "cell_type": "code",
   "execution_count": 22,
   "outputs": [
    {
     "data": {
      "text/plain": "array([2, 7, 8, 10, 0, 9, 5, 11, '8'], dtype=object)"
     },
     "execution_count": 22,
     "metadata": {},
     "output_type": "execute_result"
    }
   ],
   "source": [
    "(df_2010[\"v3regendtype\"].unique())"
   ],
   "metadata": {
    "collapsed": false,
    "pycharm": {
     "name": "#%%\n"
    }
   }
  },
  {
   "cell_type": "code",
   "execution_count": 24,
   "metadata": {
    "pycharm": {
     "name": "#%%Adding country codes based on Alpha-3 format\n"
    }
   },
   "outputs": [
    {
     "data": {
      "text/plain": "  0%|          | 0/8 [00:00<?, ?it/s]",
      "application/vnd.jupyter.widget-view+json": {
       "version_major": 2,
       "version_minor": 0,
       "model_id": "e370426d14b3438caa06924de48418a4"
      }
     },
     "metadata": {},
     "output_type": "display_data"
    },
    {
     "name": "stdout",
     "output_type": "stream",
     "text": [
      "Country Cleaning Report:\n",
      "\t56 values cleaned (100.0%)\n",
      "Result contains 56 (100.0%) values in the correct format and 0 null values (0.0%)\n"
     ]
    },
    {
     "data": {
      "text/plain": "                  Country name v3regenddate v3regendtype  Revolution  \\\n60       Turkey/Ottoman Empire   2017-04-16            2        True   \n110         Libya/Tripolitania   2011-08-23            7        True   \n214                      Egypt   2011-02-11            8        True   \n215                      Egypt   2012-06-24           10        True   \n216                      Egypt   2012-12-26           10        True   \n217                      Egypt   2013-07-03            0        True   \n218                      Egypt   2014-01-18           10        True   \n258              Burma/Myanmar   2012-04-01            9        True   \n267                      Yemen   2012-02-25            5        True   \n268                      Yemen   2014-09-24            5        True   \n269                      Yemen   2015-01-23            5        True   \n270                      Yemen   2015-03-25            5        True   \n305                    Tunisia   2011-01-14            8        True   \n306                    Tunisia   2014-01-26            9        True   \n352                    Bolivia   2017-11-28            2        True   \n417                      China   2018-03-11           10        True   \n650                   Honduras   2010-01-27            9        True   \n726                    Hungary   2012-01-01           10        True   \n836                 Madagascar   2010-12-11           10        True   \n837                 Madagascar   2014-01-25            9        True   \n860                     Russia   2012-03-04            2        True   \n1154                 Venezuela   2017-07-30            2        True   \n1179                  Thailand   2014-05-22            0        True   \n1180                  Thailand   2017-04-06            2        True   \n1224                  Malaysia   2018-05-10           11        True   \n1235                   Armenia   2018-04-23            8        True   \n1245                Kyrgyzstan   2010-04-08            8        True   \n1246                Kyrgyzstan   2010-06-27            9        True   \n1281                   Ukraine   2014-02-21            8        True   \n1343                   Burundi   2010-06-28            2        True   \n1382                   Somalia   2012-08-20           10        True   \n1400                    Gambia   2017-01-21            7        True   \n1411                      Mali   2012-03-22            0        True   \n1412                      Mali   2012-04-12           10        True   \n1413                      Mali   2012-12-10            0        True   \n1414                      Mali   2013-09-04            9        True   \n1427                     Niger   2010-02-18            0        True   \n1428                     Niger   2011-04-07            9        True   \n1473  Central African Republic   2013-03-24            5        True   \n1474  Central African Republic   2014-01-10            5        True   \n1475  Central African Republic   2015-12-13            9        True   \n1670              Burkina Faso   2014-10-31            8        True   \n1671              Burkina Faso   2014-11-18           10        True   \n1672              Burkina Faso   2015-09-16            0        True   \n1673              Burkina Faso   2015-09-23           10        True   \n1674              Burkina Faso   2015-12-29            9        True   \n1681                    Guinea   2010-01-26           10        True   \n1682                    Guinea   2010-12-21            9        True   \n1707               Ivory Coast   2011-04-11            5        True   \n1801                      Iraq   2011-12-15           10        True   \n1802                      Iraq   2014-06-15            5        True   \n1803                      Iraq   2017-12-09            5        True   \n1855                      Fiji   2013-09-07            2        True   \n1887                Seychelles   2016-09-10            9        True   \n1896           Solomon Islands   2017-06-30            7        True   \n2053                   Bahrain   2011-03-15            2        True   \n\n     Country name_clean  \n60                  TUR  \n110                 LBY  \n214                 EGY  \n215                 EGY  \n216                 EGY  \n217                 EGY  \n218                 EGY  \n258                 MMR  \n267                 YEM  \n268                 YEM  \n269                 YEM  \n270                 YEM  \n305                 TUN  \n306                 TUN  \n352                 BOL  \n417                 CHN  \n650                 HND  \n726                 HUN  \n836                 MDG  \n837                 MDG  \n860                 RUS  \n1154                VEN  \n1179                THA  \n1180                THA  \n1224                MYS  \n1235                ARM  \n1245                KGZ  \n1246                KGZ  \n1281                UKR  \n1343                BDI  \n1382                SOM  \n1400                GMB  \n1411                MLI  \n1412                MLI  \n1413                MLI  \n1414                MLI  \n1427                NER  \n1428                NER  \n1473                CAF  \n1474                CAF  \n1475                CAF  \n1670                BFA  \n1671                BFA  \n1672                BFA  \n1673                BFA  \n1674                BFA  \n1681                GIN  \n1682                GIN  \n1707                CIV  \n1801                IRQ  \n1802                IRQ  \n1803                IRQ  \n1855                FJI  \n1887                SYC  \n1896                SLB  \n2053                BHR  ",
      "text/html": "<div>\n<style scoped>\n    .dataframe tbody tr th:only-of-type {\n        vertical-align: middle;\n    }\n\n    .dataframe tbody tr th {\n        vertical-align: top;\n    }\n\n    .dataframe thead th {\n        text-align: right;\n    }\n</style>\n<table border=\"1\" class=\"dataframe\">\n  <thead>\n    <tr style=\"text-align: right;\">\n      <th></th>\n      <th>Country name</th>\n      <th>v3regenddate</th>\n      <th>v3regendtype</th>\n      <th>Revolution</th>\n      <th>Country name_clean</th>\n    </tr>\n  </thead>\n  <tbody>\n    <tr>\n      <th>60</th>\n      <td>Turkey/Ottoman Empire</td>\n      <td>2017-04-16</td>\n      <td>2</td>\n      <td>True</td>\n      <td>TUR</td>\n    </tr>\n    <tr>\n      <th>110</th>\n      <td>Libya/Tripolitania</td>\n      <td>2011-08-23</td>\n      <td>7</td>\n      <td>True</td>\n      <td>LBY</td>\n    </tr>\n    <tr>\n      <th>214</th>\n      <td>Egypt</td>\n      <td>2011-02-11</td>\n      <td>8</td>\n      <td>True</td>\n      <td>EGY</td>\n    </tr>\n    <tr>\n      <th>215</th>\n      <td>Egypt</td>\n      <td>2012-06-24</td>\n      <td>10</td>\n      <td>True</td>\n      <td>EGY</td>\n    </tr>\n    <tr>\n      <th>216</th>\n      <td>Egypt</td>\n      <td>2012-12-26</td>\n      <td>10</td>\n      <td>True</td>\n      <td>EGY</td>\n    </tr>\n    <tr>\n      <th>217</th>\n      <td>Egypt</td>\n      <td>2013-07-03</td>\n      <td>0</td>\n      <td>True</td>\n      <td>EGY</td>\n    </tr>\n    <tr>\n      <th>218</th>\n      <td>Egypt</td>\n      <td>2014-01-18</td>\n      <td>10</td>\n      <td>True</td>\n      <td>EGY</td>\n    </tr>\n    <tr>\n      <th>258</th>\n      <td>Burma/Myanmar</td>\n      <td>2012-04-01</td>\n      <td>9</td>\n      <td>True</td>\n      <td>MMR</td>\n    </tr>\n    <tr>\n      <th>267</th>\n      <td>Yemen</td>\n      <td>2012-02-25</td>\n      <td>5</td>\n      <td>True</td>\n      <td>YEM</td>\n    </tr>\n    <tr>\n      <th>268</th>\n      <td>Yemen</td>\n      <td>2014-09-24</td>\n      <td>5</td>\n      <td>True</td>\n      <td>YEM</td>\n    </tr>\n    <tr>\n      <th>269</th>\n      <td>Yemen</td>\n      <td>2015-01-23</td>\n      <td>5</td>\n      <td>True</td>\n      <td>YEM</td>\n    </tr>\n    <tr>\n      <th>270</th>\n      <td>Yemen</td>\n      <td>2015-03-25</td>\n      <td>5</td>\n      <td>True</td>\n      <td>YEM</td>\n    </tr>\n    <tr>\n      <th>305</th>\n      <td>Tunisia</td>\n      <td>2011-01-14</td>\n      <td>8</td>\n      <td>True</td>\n      <td>TUN</td>\n    </tr>\n    <tr>\n      <th>306</th>\n      <td>Tunisia</td>\n      <td>2014-01-26</td>\n      <td>9</td>\n      <td>True</td>\n      <td>TUN</td>\n    </tr>\n    <tr>\n      <th>352</th>\n      <td>Bolivia</td>\n      <td>2017-11-28</td>\n      <td>2</td>\n      <td>True</td>\n      <td>BOL</td>\n    </tr>\n    <tr>\n      <th>417</th>\n      <td>China</td>\n      <td>2018-03-11</td>\n      <td>10</td>\n      <td>True</td>\n      <td>CHN</td>\n    </tr>\n    <tr>\n      <th>650</th>\n      <td>Honduras</td>\n      <td>2010-01-27</td>\n      <td>9</td>\n      <td>True</td>\n      <td>HND</td>\n    </tr>\n    <tr>\n      <th>726</th>\n      <td>Hungary</td>\n      <td>2012-01-01</td>\n      <td>10</td>\n      <td>True</td>\n      <td>HUN</td>\n    </tr>\n    <tr>\n      <th>836</th>\n      <td>Madagascar</td>\n      <td>2010-12-11</td>\n      <td>10</td>\n      <td>True</td>\n      <td>MDG</td>\n    </tr>\n    <tr>\n      <th>837</th>\n      <td>Madagascar</td>\n      <td>2014-01-25</td>\n      <td>9</td>\n      <td>True</td>\n      <td>MDG</td>\n    </tr>\n    <tr>\n      <th>860</th>\n      <td>Russia</td>\n      <td>2012-03-04</td>\n      <td>2</td>\n      <td>True</td>\n      <td>RUS</td>\n    </tr>\n    <tr>\n      <th>1154</th>\n      <td>Venezuela</td>\n      <td>2017-07-30</td>\n      <td>2</td>\n      <td>True</td>\n      <td>VEN</td>\n    </tr>\n    <tr>\n      <th>1179</th>\n      <td>Thailand</td>\n      <td>2014-05-22</td>\n      <td>0</td>\n      <td>True</td>\n      <td>THA</td>\n    </tr>\n    <tr>\n      <th>1180</th>\n      <td>Thailand</td>\n      <td>2017-04-06</td>\n      <td>2</td>\n      <td>True</td>\n      <td>THA</td>\n    </tr>\n    <tr>\n      <th>1224</th>\n      <td>Malaysia</td>\n      <td>2018-05-10</td>\n      <td>11</td>\n      <td>True</td>\n      <td>MYS</td>\n    </tr>\n    <tr>\n      <th>1235</th>\n      <td>Armenia</td>\n      <td>2018-04-23</td>\n      <td>8</td>\n      <td>True</td>\n      <td>ARM</td>\n    </tr>\n    <tr>\n      <th>1245</th>\n      <td>Kyrgyzstan</td>\n      <td>2010-04-08</td>\n      <td>8</td>\n      <td>True</td>\n      <td>KGZ</td>\n    </tr>\n    <tr>\n      <th>1246</th>\n      <td>Kyrgyzstan</td>\n      <td>2010-06-27</td>\n      <td>9</td>\n      <td>True</td>\n      <td>KGZ</td>\n    </tr>\n    <tr>\n      <th>1281</th>\n      <td>Ukraine</td>\n      <td>2014-02-21</td>\n      <td>8</td>\n      <td>True</td>\n      <td>UKR</td>\n    </tr>\n    <tr>\n      <th>1343</th>\n      <td>Burundi</td>\n      <td>2010-06-28</td>\n      <td>2</td>\n      <td>True</td>\n      <td>BDI</td>\n    </tr>\n    <tr>\n      <th>1382</th>\n      <td>Somalia</td>\n      <td>2012-08-20</td>\n      <td>10</td>\n      <td>True</td>\n      <td>SOM</td>\n    </tr>\n    <tr>\n      <th>1400</th>\n      <td>Gambia</td>\n      <td>2017-01-21</td>\n      <td>7</td>\n      <td>True</td>\n      <td>GMB</td>\n    </tr>\n    <tr>\n      <th>1411</th>\n      <td>Mali</td>\n      <td>2012-03-22</td>\n      <td>0</td>\n      <td>True</td>\n      <td>MLI</td>\n    </tr>\n    <tr>\n      <th>1412</th>\n      <td>Mali</td>\n      <td>2012-04-12</td>\n      <td>10</td>\n      <td>True</td>\n      <td>MLI</td>\n    </tr>\n    <tr>\n      <th>1413</th>\n      <td>Mali</td>\n      <td>2012-12-10</td>\n      <td>0</td>\n      <td>True</td>\n      <td>MLI</td>\n    </tr>\n    <tr>\n      <th>1414</th>\n      <td>Mali</td>\n      <td>2013-09-04</td>\n      <td>9</td>\n      <td>True</td>\n      <td>MLI</td>\n    </tr>\n    <tr>\n      <th>1427</th>\n      <td>Niger</td>\n      <td>2010-02-18</td>\n      <td>0</td>\n      <td>True</td>\n      <td>NER</td>\n    </tr>\n    <tr>\n      <th>1428</th>\n      <td>Niger</td>\n      <td>2011-04-07</td>\n      <td>9</td>\n      <td>True</td>\n      <td>NER</td>\n    </tr>\n    <tr>\n      <th>1473</th>\n      <td>Central African Republic</td>\n      <td>2013-03-24</td>\n      <td>5</td>\n      <td>True</td>\n      <td>CAF</td>\n    </tr>\n    <tr>\n      <th>1474</th>\n      <td>Central African Republic</td>\n      <td>2014-01-10</td>\n      <td>5</td>\n      <td>True</td>\n      <td>CAF</td>\n    </tr>\n    <tr>\n      <th>1475</th>\n      <td>Central African Republic</td>\n      <td>2015-12-13</td>\n      <td>9</td>\n      <td>True</td>\n      <td>CAF</td>\n    </tr>\n    <tr>\n      <th>1670</th>\n      <td>Burkina Faso</td>\n      <td>2014-10-31</td>\n      <td>8</td>\n      <td>True</td>\n      <td>BFA</td>\n    </tr>\n    <tr>\n      <th>1671</th>\n      <td>Burkina Faso</td>\n      <td>2014-11-18</td>\n      <td>10</td>\n      <td>True</td>\n      <td>BFA</td>\n    </tr>\n    <tr>\n      <th>1672</th>\n      <td>Burkina Faso</td>\n      <td>2015-09-16</td>\n      <td>0</td>\n      <td>True</td>\n      <td>BFA</td>\n    </tr>\n    <tr>\n      <th>1673</th>\n      <td>Burkina Faso</td>\n      <td>2015-09-23</td>\n      <td>10</td>\n      <td>True</td>\n      <td>BFA</td>\n    </tr>\n    <tr>\n      <th>1674</th>\n      <td>Burkina Faso</td>\n      <td>2015-12-29</td>\n      <td>9</td>\n      <td>True</td>\n      <td>BFA</td>\n    </tr>\n    <tr>\n      <th>1681</th>\n      <td>Guinea</td>\n      <td>2010-01-26</td>\n      <td>10</td>\n      <td>True</td>\n      <td>GIN</td>\n    </tr>\n    <tr>\n      <th>1682</th>\n      <td>Guinea</td>\n      <td>2010-12-21</td>\n      <td>9</td>\n      <td>True</td>\n      <td>GIN</td>\n    </tr>\n    <tr>\n      <th>1707</th>\n      <td>Ivory Coast</td>\n      <td>2011-04-11</td>\n      <td>5</td>\n      <td>True</td>\n      <td>CIV</td>\n    </tr>\n    <tr>\n      <th>1801</th>\n      <td>Iraq</td>\n      <td>2011-12-15</td>\n      <td>10</td>\n      <td>True</td>\n      <td>IRQ</td>\n    </tr>\n    <tr>\n      <th>1802</th>\n      <td>Iraq</td>\n      <td>2014-06-15</td>\n      <td>5</td>\n      <td>True</td>\n      <td>IRQ</td>\n    </tr>\n    <tr>\n      <th>1803</th>\n      <td>Iraq</td>\n      <td>2017-12-09</td>\n      <td>5</td>\n      <td>True</td>\n      <td>IRQ</td>\n    </tr>\n    <tr>\n      <th>1855</th>\n      <td>Fiji</td>\n      <td>2013-09-07</td>\n      <td>2</td>\n      <td>True</td>\n      <td>FJI</td>\n    </tr>\n    <tr>\n      <th>1887</th>\n      <td>Seychelles</td>\n      <td>2016-09-10</td>\n      <td>9</td>\n      <td>True</td>\n      <td>SYC</td>\n    </tr>\n    <tr>\n      <th>1896</th>\n      <td>Solomon Islands</td>\n      <td>2017-06-30</td>\n      <td>7</td>\n      <td>True</td>\n      <td>SLB</td>\n    </tr>\n    <tr>\n      <th>2053</th>\n      <td>Bahrain</td>\n      <td>2011-03-15</td>\n      <td>2</td>\n      <td>True</td>\n      <td>BHR</td>\n    </tr>\n  </tbody>\n</table>\n</div>"
     },
     "execution_count": 24,
     "metadata": {},
     "output_type": "execute_result"
    }
   ],
   "source": [
    "from dataprep.clean import clean_country\n",
    "df_ISO= clean_country(df_2010, \"Country name\", output_format=\"alpha-3\")\n",
    "df_ISO\n"
   ]
  },
  {
   "cell_type": "code",
   "execution_count": 23,
   "metadata": {},
   "outputs": [],
   "source": []
  }
 ],
 "metadata": {
  "kernelspec": {
   "name": "pycharm-5fe87f46",
   "language": "python",
   "display_name": "PyCharm (M3)"
  },
  "language_info": {
   "codemirror_mode": {
    "name": "ipython",
    "version": 3
   },
   "file_extension": ".py",
   "mimetype": "text/x-python",
   "name": "python",
   "nbconvert_exporter": "python",
   "pygments_lexer": "ipython3",
   "version": "3.8.5"
  }
 },
 "nbformat": 4,
 "nbformat_minor": 4
}